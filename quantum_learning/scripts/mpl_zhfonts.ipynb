{
 "cells": [
  {
   "cell_type": "code",
   "execution_count": null,
   "id": "53e3a8f1",
   "metadata": {},
   "outputs": [],
   "source": [
    "#!/usr/bin/env python\n",
    "# -*- coding: utf-8 -*-"
   ]
  },
  {
   "cell_type": "markdown",
   "id": "acad9e59",
   "metadata": {},
   "source": [
    "\n",
    "matplotlib中文字体支持模块\n",
    "用于解决matplotlib绘图时中文显示为方块或问号的问题"
   ]
  },
  {
   "cell_type": "code",
   "execution_count": null,
   "id": "843707e1",
   "metadata": {},
   "outputs": [],
   "source": [
    "import matplotlib.pyplot as plt\n",
    "import matplotlib.font_manager as fm\n",
    "import platform\n",
    "import os\n"
   ]
  },
  {
   "cell_type": "code",
   "execution_count": null,
   "id": "874483dd",
   "metadata": {},
   "outputs": [],
   "source": [
    "def set_chinese_font():"
   ]
  },
  {
   "cell_type": "markdown",
   "id": "b747a289",
   "metadata": {},
   "source": [
    "\n",
    "    设置matplotlib使用中文字体\n",
    "    根据不同操作系统选择合适的字体"
   ]
  },
  {
   "cell_type": "code",
   "execution_count": null,
   "id": "e70ed1d7",
   "metadata": {},
   "outputs": [],
   "source": [
    "system = platform.system()\n",
    "    \n",
    "    if system == 'Darwin':  # macOS\n",
    "        # macOS常见中文字体\n",
    "        font_list = ['PingFang SC', 'Heiti SC', 'STHeiti', 'Arial Unicode MS']\n",
    "    elif system == 'Windows':\n",
    "        # Windows常见中文字体\n",
    "        font_list = ['Microsoft YaHei', 'SimHei', 'SimSun', 'Arial Unicode MS']\n",
    "    else:  # Linux或其他系统\n",
    "        # Linux常见中文字体\n",
    "        font_list = ['WenQuanYi Micro Hei', 'WenQuanYi Zen Hei', 'Droid Sans Fallback']\n",
    "    \n",
    "    # 添加一些通用字体作为后备\n",
    "    font_list.extend(['DejaVu Sans', 'Bitstream Vera Sans', 'sans-serif'])\n",
    "    \n",
    "    # 尝试找到可用的中文字体\n",
    "    chinese_font = None\n",
    "    for font in font_list:\n",
    "        # 检查该字体是否存在于系统中\n",
    "        matches = [f for f in fm.findSystemFonts() if font.lower() in os.path.basename(f).lower()]\n",
    "        if matches:\n",
    "            chinese_font = font\n",
    "            break\n",
    "    \n",
    "    if chinese_font:\n",
    "        plt.rcParams['font.family'] = [chinese_font, 'sans-serif']\n",
    "        print(f\"已设置matplotlib使用中文字体: {chinese_font}\")\n",
    "    else:\n",
    "        # 如果没有找到任何中文字体，尝试使用通用设置\n",
    "        plt.rcParams['font.family'] = ['sans-serif']\n",
    "        # 一种不太理想但可能有效的替代方法，避免使用DejaVu Sans\n",
    "        plt.rcParams['font.sans-serif'] = ['Arial Unicode MS', 'Bitstream Vera Sans', 'sans-serif']\n",
    "        print(\"警告: 未找到合适的中文字体，使用通用字体设置\")\n",
    "    \n",
    "    # 修复负号显示问题\n",
    "    plt.rcParams['axes.unicode_minus'] = False"
   ]
  },
  {
   "cell_type": "markdown",
   "id": "10a3f0a6",
   "metadata": {},
   "source": [
    "**可视化输出:**\n",
    "\n",
    "运行上面的代码可以查看图形输出。调整参数以观察结果如何变化。"
   ]
  },
  {
   "cell_type": "markdown",
   "id": "c8ac86bc",
   "metadata": {},
   "source": [
    "## 💡 挑战任务\n",
    "\n",
    "尝试扩展上面的练习，探索以下内容：\n",
    "1. 更改电路参数并观察结果的变化\n",
    "2. 尝试实现不同的量子态或算法\n",
    "3. 可视化更多量子测量的结果"
   ]
  }
 ],
 "metadata": {
  "kernelspec": {
   "display_name": "Python 3",
   "language": "python",
   "name": "python3"
  },
  "language_info": {
   "codemirror_mode": {
    "name": "ipython",
    "version": 3
   },
   "file_extension": ".py",
   "mimetype": "text/x-python",
   "name": "python",
   "nbconvert_exporter": "python",
   "pygments_lexer": "ipython3",
   "version": "3.9.13"
  }
 },
 "nbformat": 4,
 "nbformat_minor": 5
}

{
 "cells": [
  {
   "cell_type": "code",
   "execution_count": null,
   "id": "7c8d63cc",
   "metadata": {},
   "outputs": [],
   "source": [
    "#!/usr/bin/env python\n",
    "# -*- coding: utf-8 -*-"
   ]
  },
  {
   "cell_type": "markdown",
   "id": "572739c9",
   "metadata": {},
   "source": [
    "\n",
    "量子计算基础 4：量子算法基础\n",
    "本文件介绍几种基本的量子算法，包括量子干涉、Deutsch-Jozsa算法和量子相位估计"
   ]
  },
  {
   "cell_type": "code",
   "execution_count": null,
   "id": "2b158fcd",
   "metadata": {},
   "outputs": [],
   "source": [
    "import numpy as np\n",
    "import matplotlib.pyplot as plt\n",
    "from qiskit import QuantumCircuit, transpile\n",
    "from qiskit_aer import Aer\n",
    "from qiskit.visualization import plot_histogram\n"
   ]
  },
  {
   "cell_type": "code",
   "execution_count": null,
   "id": "e2ea2781",
   "metadata": {},
   "outputs": [],
   "source": [
    "print(\"===== 量子算法基础 =====\")"
   ]
  },
  {
   "cell_type": "markdown",
   "id": "dd6bfecc",
   "metadata": {},
   "source": [
    "1. 量子干涉\n"
   ]
  },
  {
   "cell_type": "code",
   "execution_count": null,
   "id": "28f4daa9",
   "metadata": {},
   "outputs": [],
   "source": [
    "print(\"\\n1. 量子干涉\")\n",
    "print(\"   量子干涉是许多量子算法的基础\")\n",
    "print(\"   通过Hadamard门创建叠加态，执行不同的操作，然后再次应用Hadamard门\")\n",
    "print(\"   使波幅相长干涉或相消干涉，从而提取信息\")"
   ]
  },
  {
   "cell_type": "markdown",
   "id": "dc6c6915",
   "metadata": {},
   "source": [
    "创建一个展示量子干涉的简单电路\n"
   ]
  },
  {
   "cell_type": "code",
   "execution_count": null,
   "id": "7b57d32e",
   "metadata": {},
   "outputs": [],
   "source": [
    "interference_qc = QuantumCircuit(2, 2)"
   ]
  },
  {
   "cell_type": "markdown",
   "id": "fee8f00c",
   "metadata": {},
   "source": [
    "在两个量子比特上应用Hadamard门，创建叠加态\n"
   ]
  },
  {
   "cell_type": "code",
   "execution_count": null,
   "id": "58f6417a",
   "metadata": {},
   "outputs": [],
   "source": [
    "interference_qc.h(0)\n",
    "interference_qc.h(1)"
   ]
  },
  {
   "cell_type": "markdown",
   "id": "21874889",
   "metadata": {},
   "source": [
    "在第二个量子比特上应用Z门，引入相位\n"
   ]
  },
  {
   "cell_type": "code",
   "execution_count": null,
   "id": "3fc6537f",
   "metadata": {},
   "outputs": [],
   "source": [
    "interference_qc.z(1)"
   ]
  },
  {
   "cell_type": "markdown",
   "id": "290948a7",
   "metadata": {},
   "source": [
    "再次应用Hadamard门\n"
   ]
  },
  {
   "cell_type": "code",
   "execution_count": null,
   "id": "aeb88ff2",
   "metadata": {},
   "outputs": [],
   "source": [
    "interference_qc.h(0)\n",
    "interference_qc.h(1)"
   ]
  },
  {
   "cell_type": "markdown",
   "id": "f00a10eb",
   "metadata": {},
   "source": [
    "测量结果\n"
   ]
  },
  {
   "cell_type": "code",
   "execution_count": null,
   "id": "278bb616",
   "metadata": {},
   "outputs": [],
   "source": [
    "interference_qc.measure([0, 1], [0, 1])\n",
    "\n",
    "print(\"量子干涉电路：\")\n",
    "print(interference_qc.draw())"
   ]
  },
  {
   "cell_type": "markdown",
   "id": "4c5d801b",
   "metadata": {},
   "source": [
    "运行电路\n"
   ]
  },
  {
   "cell_type": "code",
   "execution_count": null,
   "id": "027dbb35",
   "metadata": {},
   "outputs": [],
   "source": [
    "simulator = Aer.get_backend('qasm_simulator')\n",
    "compiled_circuit = transpile(interference_qc, simulator)\n",
    "job = simulator.run(compiled_circuit, shots=1000)\n",
    "result = job.result()\n",
    "counts = result.get_counts(compiled_circuit)\n",
    "print(f\"测量结果: {counts}\")\n",
    "print(\"注意观察测量结果中的干涉模式\")"
   ]
  },
  {
   "cell_type": "markdown",
   "id": "997f4342",
   "metadata": {},
   "source": [
    "2. Deutsch-Jozsa算法\n"
   ]
  },
  {
   "cell_type": "code",
   "execution_count": null,
   "id": "81b44f3f",
   "metadata": {},
   "outputs": [],
   "source": [
    "print(\"\\n2. Deutsch-Jozsa算法\")\n",
    "print(\"   这是量子计算优于经典计算的最简单例子之一\")\n",
    "print(\"   问题：给定一个黑盒函数f: {0,1}^n -> {0,1}，判断它是常数函数还是平衡函数\")\n",
    "print(\"   经典算法：最坏情况下需要2^(n-1)+1次查询\")\n",
    "print(\"   量子算法：只需1次查询\")"
   ]
  },
  {
   "cell_type": "markdown",
   "id": "c36302fb",
   "metadata": {},
   "source": [
    "实现Deutsch-Jozsa算法 - 以1量子比特为例（即Deutsch算法）\n"
   ]
  },
  {
   "cell_type": "code",
   "execution_count": null,
   "id": "a2ba8e80",
   "metadata": {},
   "outputs": [],
   "source": [
    "print(\"\\nDeutsch算法演示（单比特情况）:\")"
   ]
  },
  {
   "cell_type": "markdown",
   "id": "8fe1b547",
   "metadata": {},
   "source": [
    "创建常数函数f(x) = 0的Oracle\n"
   ]
  },
  {
   "cell_type": "code",
   "execution_count": null,
   "id": "04ad3fff",
   "metadata": {},
   "outputs": [],
   "source": [
    "def constant_oracle():\n",
    "    qc = QuantumCircuit(2)  # 2个量子比特：1个查询比特，1个辅助比特\n",
    "    # 不执行任何操作 - f(x) = 0\n",
    "    return qc"
   ]
  },
  {
   "cell_type": "markdown",
   "id": "561dcc75",
   "metadata": {},
   "source": [
    "创建常数函数f(x) = 1的Oracle\n"
   ]
  },
  {
   "cell_type": "code",
   "execution_count": null,
   "id": "ac5a2e38",
   "metadata": {},
   "outputs": [],
   "source": [
    "def constant_oracle_1():\n",
    "    qc = QuantumCircuit(2)\n",
    "    qc.x(1)  # 将辅助比特从|0⟩变为|1⟩ - f(x) = 1\n",
    "    return qc"
   ]
  },
  {
   "cell_type": "markdown",
   "id": "aaccfb10",
   "metadata": {},
   "source": [
    "创建平衡函数f(x) = x的Oracle（身份函数）\n"
   ]
  },
  {
   "cell_type": "code",
   "execution_count": null,
   "id": "940affa3",
   "metadata": {},
   "outputs": [],
   "source": [
    "def balanced_oracle_1():\n",
    "    qc = QuantumCircuit(2)\n",
    "    qc.cx(0, 1)  # CNOT门，将辅助比特设置为输入值 - f(x) = x\n",
    "    return qc"
   ]
  },
  {
   "cell_type": "markdown",
   "id": "c7b8ef07",
   "metadata": {},
   "source": [
    "创建平衡函数f(x) = NOT(x)的Oracle\n"
   ]
  },
  {
   "cell_type": "code",
   "execution_count": null,
   "id": "53f612f3",
   "metadata": {},
   "outputs": [],
   "source": [
    "def balanced_oracle_2():\n",
    "    qc = QuantumCircuit(2)\n",
    "    qc.x(0)      # 翻转输入\n",
    "    qc.cx(0, 1)  # CNOT门 - f(x) = NOT(x)\n",
    "    qc.x(0)      # 恢复输入\n",
    "    return qc"
   ]
  },
  {
   "cell_type": "markdown",
   "id": "f3aa646f",
   "metadata": {},
   "source": [
    "选择一个Oracle进行演示 - 这里使用平衡函数\n"
   ]
  },
  {
   "cell_type": "code",
   "execution_count": null,
   "id": "f04c36c7",
   "metadata": {},
   "outputs": [],
   "source": [
    "oracle = balanced_oracle_1()"
   ]
  },
  {
   "cell_type": "markdown",
   "id": "d612a23f",
   "metadata": {},
   "source": [
    "创建Deutsch电路\n"
   ]
  },
  {
   "cell_type": "code",
   "execution_count": null,
   "id": "f9fb58b1",
   "metadata": {},
   "outputs": [],
   "source": [
    "deutsch_qc = QuantumCircuit(2, 1)"
   ]
  },
  {
   "cell_type": "markdown",
   "id": "5c17f8cf",
   "metadata": {},
   "source": [
    "初始化\n"
   ]
  },
  {
   "cell_type": "code",
   "execution_count": null,
   "id": "e9d75a47",
   "metadata": {},
   "outputs": [],
   "source": [
    "deutsch_qc.x(1)\n",
    "deutsch_qc.h(0)\n",
    "deutsch_qc.h(1)"
   ]
  },
  {
   "cell_type": "markdown",
   "id": "6f24a388",
   "metadata": {},
   "source": [
    "应用Oracle\n"
   ]
  },
  {
   "cell_type": "code",
   "execution_count": null,
   "id": "8e40229b",
   "metadata": {},
   "outputs": [],
   "source": [
    "deutsch_qc = deutsch_qc.compose(oracle)"
   ]
  },
  {
   "cell_type": "markdown",
   "id": "a4004155",
   "metadata": {},
   "source": [
    "最终的Hadamard门和测量\n"
   ]
  },
  {
   "cell_type": "code",
   "execution_count": null,
   "id": "050938b1",
   "metadata": {},
   "outputs": [],
   "source": [
    "deutsch_qc.h(0)\n",
    "deutsch_qc.measure(0, 0)\n",
    "\n",
    "print(\"Deutsch算法电路（判断函数是常数还是平衡）：\")\n",
    "print(deutsch_qc.draw())"
   ]
  },
  {
   "cell_type": "markdown",
   "id": "32b0eca6",
   "metadata": {},
   "source": [
    "运行电路\n"
   ]
  },
  {
   "cell_type": "code",
   "execution_count": null,
   "id": "01d73515",
   "metadata": {},
   "outputs": [],
   "source": [
    "simulator = Aer.get_backend('qasm_simulator')\n",
    "compiled_circuit = transpile(deutsch_qc, simulator)\n",
    "job = simulator.run(compiled_circuit, shots=1000)\n",
    "result = job.result()\n",
    "counts = result.get_counts(compiled_circuit)\n",
    "print(f\"测量结果: {counts}\")\n",
    "print(\"解释：如果测量结果为|0⟩，则函数是常数；如果为|1⟩，则函数是平衡\")"
   ]
  },
  {
   "cell_type": "markdown",
   "id": "f54fd3dd",
   "metadata": {},
   "source": [
    "3. 量子相位估计\n"
   ]
  },
  {
   "cell_type": "code",
   "execution_count": null,
   "id": "8f66bf84",
   "metadata": {},
   "outputs": [],
   "source": [
    "print(\"\\n3. 量子相位估计\")\n",
    "print(\"   量子相位估计是许多重要量子算法的核心，如Shor因数分解算法\")\n",
    "print(\"   目标：估计幺正算子U的特征值e^(2πiθ)中的相位θ\")\n",
    "print(\"   算法使用量子傅里叶变换（QFT）将相位信息从特征向量转移到计算基上\")"
   ]
  },
  {
   "cell_type": "markdown",
   "id": "6661d2ab",
   "metadata": {},
   "source": [
    "实现一个简单的相位估计示例 - 估计Z门的相位\n"
   ]
  },
  {
   "cell_type": "code",
   "execution_count": null,
   "id": "1110d540",
   "metadata": {},
   "outputs": [],
   "source": [
    "print(\"\\n量子相位估计演示（估计Z门的相位）:\")"
   ]
  },
  {
   "cell_type": "markdown",
   "id": "6f107b76",
   "metadata": {},
   "source": [
    "Z门的特征值是：+1（对应相位θ=0）和-1（对应相位θ=1/2）\n",
    "我们使用|1⟩作为Z门的特征向量，对应特征值-1\n"
   ]
  },
  {
   "cell_type": "markdown",
   "id": "46d31928",
   "metadata": {},
   "source": [
    "创建相位估计电路 - 3个精度比特\n"
   ]
  },
  {
   "cell_type": "code",
   "execution_count": null,
   "id": "c1859250",
   "metadata": {},
   "outputs": [],
   "source": [
    "phase_qc = QuantumCircuit(4, 3)  # 3个精度比特 + 1个特征向量比特"
   ]
  },
  {
   "cell_type": "markdown",
   "id": "3a87101e",
   "metadata": {},
   "source": [
    "准备特征向量|1⟩\n"
   ]
  },
  {
   "cell_type": "code",
   "execution_count": null,
   "id": "a9cc5dad",
   "metadata": {},
   "outputs": [],
   "source": [
    "phase_qc.x(3)"
   ]
  },
  {
   "cell_type": "markdown",
   "id": "7b316451",
   "metadata": {},
   "source": [
    "在精度比特上应用Hadamard门\n"
   ]
  },
  {
   "cell_type": "code",
   "execution_count": null,
   "id": "1795b6a0",
   "metadata": {},
   "outputs": [],
   "source": [
    "for i in range(3):\n",
    "    phase_qc.h(i)"
   ]
  },
  {
   "cell_type": "markdown",
   "id": "7e2c40b8",
   "metadata": {},
   "source": [
    "应用受控U^(2^j)操作\n",
    "对Z门，U^(2^j)仍然是Z门，只是相位被放大了2^j倍\n"
   ]
  },
  {
   "cell_type": "code",
   "execution_count": null,
   "id": "b3bed8f2",
   "metadata": {},
   "outputs": [],
   "source": [
    "phase_qc.cp(np.pi, 0, 3)  # 受控Z门（控制比特0，目标比特3）- 相当于U^(2^0)\n",
    "phase_qc.cp(2*np.pi, 1, 3)  # 相当于U^(2^1)\n",
    "phase_qc.cp(4*np.pi, 2, 3)  # 相当于U^(2^2)"
   ]
  },
  {
   "cell_type": "markdown",
   "id": "8765a19c",
   "metadata": {},
   "source": [
    "应用逆量子傅里叶变换（这里直接使用QFT_dagger）\n"
   ]
  },
  {
   "cell_type": "code",
   "execution_count": null,
   "id": "d46cb4eb",
   "metadata": {},
   "outputs": [],
   "source": [
    "phase_qc.h(2)\n",
    "phase_qc.cp(-np.pi/2, 1, 2)\n",
    "phase_qc.h(1)\n",
    "phase_qc.cp(-np.pi/4, 0, 1)\n",
    "phase_qc.cp(-np.pi/2, 0, 2)\n",
    "phase_qc.h(0)"
   ]
  },
  {
   "cell_type": "markdown",
   "id": "f94b145c",
   "metadata": {},
   "source": [
    "测量精度比特\n"
   ]
  },
  {
   "cell_type": "code",
   "execution_count": null,
   "id": "596f7621",
   "metadata": {},
   "outputs": [],
   "source": [
    "phase_qc.measure(range(3), range(3))\n",
    "\n",
    "print(\"量子相位估计电路（估计Z门的相位）：\")\n",
    "print(phase_qc.draw())"
   ]
  },
  {
   "cell_type": "markdown",
   "id": "178ca5bc",
   "metadata": {},
   "source": [
    "运行电路\n"
   ]
  },
  {
   "cell_type": "code",
   "execution_count": null,
   "id": "f62026e3",
   "metadata": {},
   "outputs": [],
   "source": [
    "simulator = Aer.get_backend('qasm_simulator')\n",
    "compiled_circuit = transpile(phase_qc, simulator)\n",
    "job = simulator.run(compiled_circuit, shots=1000)\n",
    "result = job.result()\n",
    "counts = result.get_counts(compiled_circuit)\n",
    "print(f\"测量结果: {counts}\")\n",
    "print(\"解释：测量结果应当接近'100'，表示相位θ≈0.5（转换为二进制是0.100...）\")\n",
    "print(\"      这与Z门作用于|1⟩得到特征值-1=e^(iπ)（相位θ=0.5）相符\")"
   ]
  },
  {
   "cell_type": "markdown",
   "id": "4756ad18",
   "metadata": {},
   "source": [
    "> **练习提示:**\n",
    "> 在上面的代码单元格中完成实现。可以使用`?`查看相关函数的文档，例如`qml.Hadamard?`。"
   ]
  },
  {
   "cell_type": "markdown",
   "id": "638348ce",
   "metadata": {},
   "source": [
    "4. 总结和对比\n"
   ]
  },
  {
   "cell_type": "code",
   "execution_count": null,
   "id": "9c8e0020",
   "metadata": {},
   "outputs": [],
   "source": [
    "print(\"\\n4. 算法对比和量子加速\")\n",
    "print(\"   Deutsch-Jozsa算法：指数级加速（从O(2^n)到O(1)）\")\n",
    "print(\"   Grover搜索算法：二次加速（从O(N)到O(√N)）\")\n",
    "print(\"   Shor因数分解算法：指数级加速（从超多项式时间到多项式时间）\")\n",
    "print(\"\\n这些算法展示了量子计算的三种主要技术：\")\n",
    "print(\"1. 量子并行性 - 通过叠加态同时处理多个输入\")\n",
    "print(\"2. 量子干涉 - 通过相位操作增强正确答案的概率振幅\")\n",
    "print(\"3. 量子纠缠 - 创建多量子比特之间的相关性\")\n",
    "\n",
    "print(\"\\n总结：\")\n",
    "print(\"1. 量子算法可以为特定问题提供显著的速度提升\")\n",
    "print(\"2. 量子干涉是量子算法的基本工具\")\n",
    "print(\"3. 量子算法通常遵循相似的模式：初始化叠加态→应用特定变换→测量\")\n",
    "print(\"4. 量子相位估计是许多高级量子算法的核心子程序\")\n",
    "print(\"5. 随着量子硬件的发展，这些算法将在实际问题上展示优势\")"
   ]
  },
  {
   "cell_type": "markdown",
   "id": "7950fda6",
   "metadata": {},
   "source": [
    "## 💡 挑战任务\n",
    "\n",
    "尝试扩展上面的练习，探索以下内容：\n",
    "1. 更改电路参数并观察结果的变化\n",
    "2. 尝试实现不同的量子态或算法\n",
    "3. 可视化更多量子测量的结果"
   ]
  }
 ],
 "metadata": {
  "kernelspec": {
   "display_name": "Python 3",
   "language": "python",
   "name": "python3"
  },
  "language_info": {
   "codemirror_mode": {
    "name": "ipython",
    "version": 3
   },
   "file_extension": ".py",
   "mimetype": "text/x-python",
   "name": "python",
   "nbconvert_exporter": "python",
   "pygments_lexer": "ipython3",
   "version": "3.9.13"
  }
 },
 "nbformat": 4,
 "nbformat_minor": 5
}

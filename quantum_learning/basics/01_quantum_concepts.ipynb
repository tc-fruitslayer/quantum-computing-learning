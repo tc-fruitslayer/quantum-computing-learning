{
 "cells": [
  {
   "cell_type": "code",
   "execution_count": null,
   "id": "637f8049",
   "metadata": {},
   "outputs": [],
   "source": [
    "#!/usr/bin/env python\n",
    "# -*- coding: utf-8 -*-"
   ]
  },
  {
   "cell_type": "markdown",
   "id": "15114743",
   "metadata": {},
   "source": [
    "\n",
    "量子计算基础 1：量子力学基本概念\n",
    "本文件介绍量子计算的核心概念，包括叠加、纠缠、测量和不确定性原理"
   ]
  },
  {
   "cell_type": "code",
   "execution_count": null,
   "id": "79371d89",
   "metadata": {},
   "outputs": [],
   "source": [
    "import numpy as np\n",
    "import matplotlib.pyplot as plt\n",
    "from qiskit import QuantumCircuit, transpile\n",
    "from qiskit_aer import Aer\n",
    "from qiskit.visualization import plot_bloch_multivector, plot_histogram\n"
   ]
  },
  {
   "cell_type": "code",
   "execution_count": null,
   "id": "a993da45",
   "metadata": {},
   "outputs": [],
   "source": [
    "print(\"===== 量子力学基本概念 =====\")\n",
    "print(\"\\n1. 量子叠加原理\")\n",
    "print(\"   经典比特只能处于0或1状态\")\n",
    "print(\"   量子比特可以同时处于0和1的线性组合（叠加）状态\")\n",
    "print(\"   一般表示为：|ψ⟩ = α|0⟩ + β|1⟩，其中|α|² + |β|² = 1\")"
   ]
  },
  {
   "cell_type": "markdown",
   "id": "b0414c0b",
   "metadata": {},
   "source": [
    "创建一个量子电路，展示叠加态\n"
   ]
  },
  {
   "cell_type": "code",
   "execution_count": null,
   "id": "3cbbfcf1",
   "metadata": {},
   "outputs": [],
   "source": [
    "print(\"\\n叠加态示例：\")\n",
    "superposition_circuit = QuantumCircuit(1, 1)\n",
    "superposition_circuit.h(0)  # 应用Hadamard门创建叠加态 (|0⟩ + |1⟩)/√2\n",
    "superposition_circuit.measure(0, 0)\n",
    "\n",
    "print(\"量子电路（创建叠加态）：\")\n",
    "print(superposition_circuit.draw())"
   ]
  },
  {
   "cell_type": "markdown",
   "id": "3a5a98f5",
   "metadata": {},
   "source": [
    "执行电路\n"
   ]
  },
  {
   "cell_type": "code",
   "execution_count": null,
   "id": "1caef2da",
   "metadata": {},
   "outputs": [],
   "source": [
    "simulator = Aer.get_backend('statevector_simulator')\n",
    "result = simulator.run(superposition_circuit).result()\n",
    "statevector = result.get_statevector()\n",
    "print(f\"状态向量: {statevector}\")"
   ]
  },
  {
   "cell_type": "markdown",
   "id": "3d104878",
   "metadata": {},
   "source": [
    "绘制量子态在布洛赫球上的表示\n"
   ]
  },
  {
   "cell_type": "code",
   "execution_count": null,
   "id": "d7b0d157",
   "metadata": {},
   "outputs": [],
   "source": [
    "print(\"\\n布洛赫球表示：\")\n",
    "print(\"叠加态在布洛赫球上位于赤道，表示|0⟩和|1⟩的均等叠加\")"
   ]
  },
  {
   "cell_type": "markdown",
   "id": "344b1c02",
   "metadata": {},
   "source": [
    "执行多次测量\n"
   ]
  },
  {
   "cell_type": "code",
   "execution_count": null,
   "id": "9fddd671",
   "metadata": {},
   "outputs": [],
   "source": [
    "print(\"\\n多次测量结果：\")\n",
    "qasm_simulator = Aer.get_backend('qasm_simulator')\n",
    "compiled_circuit = transpile(superposition_circuit, qasm_simulator)\n",
    "job = qasm_simulator.run(compiled_circuit, shots=1000)\n",
    "result = job.result()\n",
    "counts = result.get_counts(compiled_circuit)\n",
    "print(f\"测量结果: {counts}\")\n",
    "print(\"注意：每次测量都会得到确定的0或1，概率各为50%\")\n",
    "\n",
    "print(\"\\n2. 量子纠缠\")\n",
    "print(\"   两个或多个粒子的量子态无法独立描述\")\n",
    "print(\"   测量一个粒子会立即影响另一个粒子，无论相距多远\")"
   ]
  },
  {
   "cell_type": "markdown",
   "id": "5319e7b0",
   "metadata": {},
   "source": [
    "创建Bell态（最简单的纠缠态）\n"
   ]
  },
  {
   "cell_type": "code",
   "execution_count": null,
   "id": "2d72d029",
   "metadata": {},
   "outputs": [],
   "source": [
    "print(\"\\nBell态示例（纠缠态）：\")\n",
    "bell_circuit = QuantumCircuit(2, 2)\n",
    "bell_circuit.h(0)\n",
    "bell_circuit.cx(0, 1)  # CNOT门，将两个量子比特纠缠\n",
    "bell_circuit.measure([0, 1], [0, 1])\n",
    "\n",
    "print(\"量子电路（创建Bell态）：\")\n",
    "print(bell_circuit.draw())"
   ]
  },
  {
   "cell_type": "markdown",
   "id": "339a9780",
   "metadata": {},
   "source": [
    "执行电路\n"
   ]
  },
  {
   "cell_type": "code",
   "execution_count": null,
   "id": "4d2b1c66",
   "metadata": {},
   "outputs": [],
   "source": [
    "simulator = Aer.get_backend('qasm_simulator')\n",
    "compiled_circuit = transpile(bell_circuit, simulator)\n",
    "job = simulator.run(compiled_circuit, shots=1000)\n",
    "result = job.result()\n",
    "counts = result.get_counts(compiled_circuit)\n",
    "print(f\"测量结果: {counts}\")\n",
    "print(\"注意：测量结果只会得到00或11，表明两个比特总是完全相关的\")\n",
    "\n",
    "print(\"\\n3. 量子测量和状态坍缩\")\n",
    "print(\"   测量会导致量子态坍缩为测量到的基态\")\n",
    "print(\"   测量前的状态决定了坍缩到各基态的概率\")"
   ]
  },
  {
   "cell_type": "markdown",
   "id": "886964ac",
   "metadata": {},
   "source": [
    "演示不同测量基的影响\n"
   ]
  },
  {
   "cell_type": "code",
   "execution_count": null,
   "id": "ebee0e9a",
   "metadata": {},
   "outputs": [],
   "source": [
    "print(\"\\n不同量子态的测量概率：\")\n",
    "measure_circuit = QuantumCircuit(1, 1)"
   ]
  },
  {
   "cell_type": "markdown",
   "id": "16e2e62d",
   "metadata": {},
   "source": [
    "准备一个偏向|1⟩的状态 (1/√5)|0⟩ + (2/√5)|1⟩\n"
   ]
  },
  {
   "cell_type": "code",
   "execution_count": null,
   "id": "568e1ae0",
   "metadata": {},
   "outputs": [],
   "source": [
    "measure_circuit.initialize([1/np.sqrt(5), 2/np.sqrt(5)], 0)\n",
    "measure_circuit.measure(0, 0)\n",
    "\n",
    "print(\"量子电路（创建偏向的叠加态）：\")\n",
    "print(measure_circuit.draw())"
   ]
  },
  {
   "cell_type": "markdown",
   "id": "2b7bfc45",
   "metadata": {},
   "source": [
    "执行电路\n"
   ]
  },
  {
   "cell_type": "code",
   "execution_count": null,
   "id": "936a490d",
   "metadata": {},
   "outputs": [],
   "source": [
    "simulator = Aer.get_backend('qasm_simulator')\n",
    "compiled_circuit = transpile(measure_circuit, simulator)\n",
    "job = simulator.run(compiled_circuit, shots=1000)\n",
    "result = job.result()\n",
    "counts = result.get_counts(compiled_circuit)\n",
    "print(f\"测量结果: {counts}\")\n",
    "print(\"理论预期：|0⟩的概率为20%，|1⟩的概率为80%\")\n",
    "\n",
    "print(\"\\n4. 不确定性原理\")\n",
    "print(\"   在量子力学中，无法同时精确测量某些成对的物理量\")\n",
    "print(\"   例如：位置和动量、不同方向的自旋等\")\n",
    "print(\"   在量子计算中表现为：无法同时精确知道X、Y、Z方向的量子态\")\n",
    "\n",
    "print(\"\\n总结：\")\n",
    "print(\"1. 量子叠加让量子比特可以同时处于多个状态\")\n",
    "print(\"2. 量子纠缠使得量子比特之间产生超越经典物理的关联\")\n",
    "print(\"3. 量子测量会导致状态坍缩，结果具有概率性\")\n",
    "print(\"4. 量子不确定性原理限制了我们对量子系统的认知\")\n",
    "\n",
    "print(\"\\n这些概念是量子计算的理论基础，也是量子计算能够超越经典计算的根本原因。\")"
   ]
  },
  {
   "cell_type": "markdown",
   "id": "ab82a158",
   "metadata": {},
   "source": [
    "## 💡 挑战任务\n",
    "\n",
    "尝试扩展上面的练习，探索以下内容：\n",
    "1. 更改电路参数并观察结果的变化\n",
    "2. 尝试实现不同的量子态或算法\n",
    "3. 可视化更多量子测量的结果"
   ]
  }
 ],
 "metadata": {
  "kernelspec": {
   "display_name": "Python 3",
   "language": "python",
   "name": "python3"
  },
  "language_info": {
   "codemirror_mode": {
    "name": "ipython",
    "version": 3
   },
   "file_extension": ".py",
   "mimetype": "text/x-python",
   "name": "python",
   "nbconvert_exporter": "python",
   "pygments_lexer": "ipython3",
   "version": "3.9.13"
  }
 },
 "nbformat": 4,
 "nbformat_minor": 5
}

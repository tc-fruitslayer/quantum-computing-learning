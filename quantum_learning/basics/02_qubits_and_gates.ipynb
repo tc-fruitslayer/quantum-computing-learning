{
 "cells": [
  {
   "cell_type": "code",
   "execution_count": null,
   "id": "eaa00eec",
   "metadata": {},
   "outputs": [],
   "source": [
    "#!/usr/bin/env python\n",
    "# -*- coding: utf-8 -*-"
   ]
  },
  {
   "cell_type": "markdown",
   "id": "4c7ab85c",
   "metadata": {},
   "source": [
    "\n",
    "量子计算基础 2：量子比特和量子门\n",
    "本文件介绍量子比特的表示方法，以及常见的量子门操作及其效果"
   ]
  },
  {
   "cell_type": "code",
   "execution_count": null,
   "id": "84db09b5",
   "metadata": {},
   "outputs": [],
   "source": [
    "import numpy as np\n",
    "import matplotlib.pyplot as plt\n",
    "from qiskit import QuantumCircuit, transpile\n",
    "from qiskit_aer import Aer\n",
    "from qiskit.visualization import plot_bloch_multivector, plot_histogram, array_to_latex\n"
   ]
  },
  {
   "cell_type": "code",
   "execution_count": null,
   "id": "1d115897",
   "metadata": {},
   "outputs": [],
   "source": [
    "print(\"===== 量子比特和量子门 =====\")"
   ]
  },
  {
   "cell_type": "markdown",
   "id": "7d9da97a",
   "metadata": {},
   "source": [
    "1. 量子比特表示\n"
   ]
  },
  {
   "cell_type": "code",
   "execution_count": null,
   "id": "5f4a1321",
   "metadata": {},
   "outputs": [],
   "source": [
    "print(\"\\n1. 量子比特表示\")\n",
    "print(\"   量子比特的状态可以用二维复向量表示：|ψ⟩ = α|0⟩ + β|1⟩\")\n",
    "print(\"   其中|0⟩和|1⟩是计算基向量，在代数表示中为:\")\n",
    "print(\"   |0⟩ = [1, 0]^T\")\n",
    "print(\"   |1⟩ = [0, 1]^T\")"
   ]
  },
  {
   "cell_type": "markdown",
   "id": "8b04aede",
   "metadata": {},
   "source": [
    "创建一些典型的量子比特状态\n"
   ]
  },
  {
   "cell_type": "code",
   "execution_count": null,
   "id": "87ed72cc",
   "metadata": {},
   "outputs": [],
   "source": [
    "print(\"\\n典型的量子比特状态：\")"
   ]
  },
  {
   "cell_type": "markdown",
   "id": "6cb19c27",
   "metadata": {},
   "source": [
    "|0⟩状态\n"
   ]
  },
  {
   "cell_type": "code",
   "execution_count": null,
   "id": "41b63ed3",
   "metadata": {},
   "outputs": [],
   "source": [
    "state_0 = np.array([1, 0], dtype=complex)\n",
    "print(f\"  |0⟩ = {state_0}\")"
   ]
  },
  {
   "cell_type": "markdown",
   "id": "44fec0ea",
   "metadata": {},
   "source": [
    "|1⟩状态\n"
   ]
  },
  {
   "cell_type": "code",
   "execution_count": null,
   "id": "2db9b8ef",
   "metadata": {},
   "outputs": [],
   "source": [
    "state_1 = np.array([0, 1], dtype=complex)\n",
    "print(f\"  |1⟩ = {state_1}\")"
   ]
  },
  {
   "cell_type": "markdown",
   "id": "a203f6ae",
   "metadata": {},
   "source": [
    "|+⟩状态 = (|0⟩ + |1⟩)/sqrt(2)\n"
   ]
  },
  {
   "cell_type": "code",
   "execution_count": null,
   "id": "f3174d24",
   "metadata": {},
   "outputs": [],
   "source": [
    "state_plus = np.array([1/np.sqrt(2), 1/np.sqrt(2)], dtype=complex)\n",
    "print(f\"  |+⟩ = {state_plus}\")"
   ]
  },
  {
   "cell_type": "markdown",
   "id": "8e6d0982",
   "metadata": {},
   "source": [
    "|−⟩状态 = (|0⟩ - |1⟩)/sqrt(2)\n"
   ]
  },
  {
   "cell_type": "code",
   "execution_count": null,
   "id": "6b8142a6",
   "metadata": {},
   "outputs": [],
   "source": [
    "state_minus = np.array([1/np.sqrt(2), -1/np.sqrt(2)], dtype=complex)\n",
    "print(f\"  |−⟩ = {state_minus}\")"
   ]
  },
  {
   "cell_type": "markdown",
   "id": "4d5feb38",
   "metadata": {},
   "source": [
    "2. Bloch球表示\n"
   ]
  },
  {
   "cell_type": "code",
   "execution_count": null,
   "id": "9d864254",
   "metadata": {},
   "outputs": [],
   "source": [
    "print(\"\\n2. Bloch球表示\")\n",
    "print(\"   单量子比特的纯态可以表示为Bloch球上的一个点\")\n",
    "print(\"   |0⟩对应北极，|1⟩对应南极\")\n",
    "print(\"   赤道上的点对应|0⟩和|1⟩的均等叠加，但相位不同\")"
   ]
  },
  {
   "cell_type": "markdown",
   "id": "f27a8296",
   "metadata": {},
   "source": [
    "使用Qiskit创建不同的量子态并可视化（仅显示文本说明）\n"
   ]
  },
  {
   "cell_type": "code",
   "execution_count": null,
   "id": "46907d81",
   "metadata": {},
   "outputs": [],
   "source": [
    "print(\"\\n通过量子电路准备不同的量子态：\")"
   ]
  },
  {
   "cell_type": "markdown",
   "id": "9e98ddd6",
   "metadata": {},
   "source": [
    "|0⟩状态\n"
   ]
  },
  {
   "cell_type": "code",
   "execution_count": null,
   "id": "8e2afc5a",
   "metadata": {},
   "outputs": [],
   "source": [
    "print(\"\\n|0⟩态（初始态）:\")\n",
    "qc_0 = QuantumCircuit(1)"
   ]
  },
  {
   "cell_type": "markdown",
   "id": "491b1dec",
   "metadata": {},
   "source": [
    "不需要操作，初始态已经是|0⟩\n"
   ]
  },
  {
   "cell_type": "markdown",
   "id": "0da6ff56",
   "metadata": {},
   "source": [
    "|1⟩状态\n"
   ]
  },
  {
   "cell_type": "code",
   "execution_count": null,
   "id": "3afcb060",
   "metadata": {},
   "outputs": [],
   "source": [
    "print(\"\\n|1⟩态（应用X门）:\")\n",
    "qc_1 = QuantumCircuit(1)\n",
    "qc_1.x(0)  # X门将|0⟩变为|1⟩"
   ]
  },
  {
   "cell_type": "markdown",
   "id": "2365f8ac",
   "metadata": {},
   "source": [
    "|+⟩状态\n"
   ]
  },
  {
   "cell_type": "code",
   "execution_count": null,
   "id": "4a0de723",
   "metadata": {},
   "outputs": [],
   "source": [
    "print(\"\\n|+⟩态（应用H门）:\")\n",
    "qc_plus = QuantumCircuit(1)\n",
    "qc_plus.h(0)  # H门将|0⟩变为|+⟩"
   ]
  },
  {
   "cell_type": "markdown",
   "id": "2890f8f1",
   "metadata": {},
   "source": [
    "|−⟩状态\n"
   ]
  },
  {
   "cell_type": "code",
   "execution_count": null,
   "id": "62cebbd2",
   "metadata": {},
   "outputs": [],
   "source": [
    "print(\"\\n|−⟩态（应用X门后应用H门）:\")\n",
    "qc_minus = QuantumCircuit(1)\n",
    "qc_minus.x(0)\n",
    "qc_minus.h(0)  # H门将|1⟩变为|−⟩"
   ]
  },
  {
   "cell_type": "markdown",
   "id": "8279555f",
   "metadata": {},
   "source": [
    "3. 单量子比特门\n"
   ]
  },
  {
   "cell_type": "code",
   "execution_count": null,
   "id": "ff92a823",
   "metadata": {},
   "outputs": [],
   "source": [
    "print(\"\\n3. 单量子比特门\")"
   ]
  },
  {
   "cell_type": "markdown",
   "id": "d600bb0e",
   "metadata": {},
   "source": [
    "Pauli-X门（量子NOT门）\n"
   ]
  },
  {
   "cell_type": "code",
   "execution_count": null,
   "id": "c301c514",
   "metadata": {},
   "outputs": [],
   "source": [
    "print(\"\\nPauli-X门 (NOT门)：\")\n",
    "print(\"矩阵表示：\")\n",
    "X_matrix = np.array([[0, 1], [1, 0]])\n",
    "print(X_matrix)\n",
    "print(\"效果：将|0⟩变为|1⟩，将|1⟩变为|0⟩\")\n",
    "print(\"在Bloch球上：绕X轴旋转π角度\")"
   ]
  },
  {
   "cell_type": "markdown",
   "id": "f1713f25",
   "metadata": {},
   "source": [
    "Pauli-Y门\n"
   ]
  },
  {
   "cell_type": "code",
   "execution_count": null,
   "id": "d02a8daf",
   "metadata": {},
   "outputs": [],
   "source": [
    "print(\"\\nPauli-Y门：\")\n",
    "print(\"矩阵表示：\")\n",
    "Y_matrix = np.array([[0, -1j], [1j, 0]])\n",
    "print(Y_matrix)\n",
    "print(\"效果：将|0⟩变为i|1⟩，将|1⟩变为-i|0⟩\")\n",
    "print(\"在Bloch球上：绕Y轴旋转π角度\")"
   ]
  },
  {
   "cell_type": "markdown",
   "id": "43dc52d4",
   "metadata": {},
   "source": [
    "Pauli-Z门\n"
   ]
  },
  {
   "cell_type": "code",
   "execution_count": null,
   "id": "993fcd3d",
   "metadata": {},
   "outputs": [],
   "source": [
    "print(\"\\nPauli-Z门：\")\n",
    "print(\"矩阵表示：\")\n",
    "Z_matrix = np.array([[1, 0], [0, -1]])\n",
    "print(Z_matrix)\n",
    "print(\"效果：将|0⟩保持不变，将|1⟩变为-|1⟩（相位翻转）\")\n",
    "print(\"在Bloch球上：绕Z轴旋转π角度\")"
   ]
  },
  {
   "cell_type": "markdown",
   "id": "771a542b",
   "metadata": {},
   "source": [
    "Hadamard门\n"
   ]
  },
  {
   "cell_type": "code",
   "execution_count": null,
   "id": "2dd1cd3e",
   "metadata": {},
   "outputs": [],
   "source": [
    "print(\"\\nHadamard门 (H门)：\")\n",
    "print(\"矩阵表示：\")\n",
    "H_matrix = (1/np.sqrt(2)) * np.array([[1, 1], [1, -1]])\n",
    "print(H_matrix)\n",
    "print(\"效果：\")\n",
    "print(\"  H|0⟩ = |+⟩ = (|0⟩ + |1⟩)/√2\")\n",
    "print(\"  H|1⟩ = |−⟩ = (|0⟩ - |1⟩)/√2\")\n",
    "print(\"在Bloch球上：先绕Y轴旋转π/2角度，再绕X轴旋转π角度\")"
   ]
  },
  {
   "cell_type": "markdown",
   "id": "66575734",
   "metadata": {},
   "source": [
    "S门（相位门）\n"
   ]
  },
  {
   "cell_type": "code",
   "execution_count": null,
   "id": "2defd361",
   "metadata": {},
   "outputs": [],
   "source": [
    "print(\"\\nS门（相位门）：\")\n",
    "print(\"矩阵表示：\")\n",
    "S_matrix = np.array([[1, 0], [0, 1j]])\n",
    "print(S_matrix)\n",
    "print(\"效果：将|0⟩保持不变，将|1⟩变为i|1⟩（π/2相位旋转）\")\n",
    "print(\"在Bloch球上：绕Z轴旋转π/2角度\")"
   ]
  },
  {
   "cell_type": "markdown",
   "id": "a92c1cd2",
   "metadata": {},
   "source": [
    "T门\n"
   ]
  },
  {
   "cell_type": "code",
   "execution_count": null,
   "id": "dc236d97",
   "metadata": {},
   "outputs": [],
   "source": [
    "print(\"\\nT门：\")\n",
    "print(\"矩阵表示：\")\n",
    "T_matrix = np.array([[1, 0], [0, np.exp(1j * np.pi/4)]])\n",
    "print(T_matrix)\n",
    "print(\"效果：将|0⟩保持不变，将|1⟩变为e^(iπ/4)|1⟩（π/4相位旋转）\")\n",
    "print(\"在Bloch球上：绕Z轴旋转π/4角度\")"
   ]
  },
  {
   "cell_type": "markdown",
   "id": "08a9fd70",
   "metadata": {},
   "source": [
    "4. 多量子比特门\n"
   ]
  },
  {
   "cell_type": "code",
   "execution_count": null,
   "id": "701a0355",
   "metadata": {},
   "outputs": [],
   "source": [
    "print(\"\\n4. 多量子比特门\")"
   ]
  },
  {
   "cell_type": "markdown",
   "id": "de2777b0",
   "metadata": {},
   "source": [
    "CNOT门（受控非门）\n"
   ]
  },
  {
   "cell_type": "code",
   "execution_count": null,
   "id": "79ebb899",
   "metadata": {},
   "outputs": [],
   "source": [
    "print(\"\\nCNOT门（受控非门）：\")\n",
    "print(\"矩阵表示（在计算基础|00⟩,|01⟩,|10⟩,|11⟩下）：\")\n",
    "CNOT_matrix = np.array([\n",
    "    [1, 0, 0, 0],\n",
    "    [0, 1, 0, 0],\n",
    "    [0, 0, 0, 1],\n",
    "    [0, 0, 1, 0]\n",
    "])\n",
    "print(CNOT_matrix)\n",
    "print(\"效果：当控制位为|1⟩时，翻转目标位；当控制位为|0⟩时，保持目标位不变\")\n",
    "print(\"例如：\")\n",
    "print(\"  CNOT|00⟩ = |00⟩\")\n",
    "print(\"  CNOT|01⟩ = |01⟩\")\n",
    "print(\"  CNOT|10⟩ = |11⟩\")\n",
    "print(\"  CNOT|11⟩ = |10⟩\")"
   ]
  },
  {
   "cell_type": "markdown",
   "id": "a42bce65",
   "metadata": {},
   "source": [
    "创建CNOT演示电路\n"
   ]
  },
  {
   "cell_type": "code",
   "execution_count": null,
   "id": "3cc197a0",
   "metadata": {},
   "outputs": [],
   "source": [
    "print(\"\\nCNOT电路示例：\")\n",
    "cnot_circuit = QuantumCircuit(2)\n",
    "cnot_circuit.h(0)    # 将第一个量子比特置于叠加态\n",
    "cnot_circuit.cx(0, 1)  # 控制位为0，目标位为1\n",
    "\n",
    "print(\"电路图：\")\n",
    "print(cnot_circuit.draw())\n",
    "print(\"效果：创建Bell态 (|00⟩ + |11⟩)/√2\")"
   ]
  },
  {
   "cell_type": "markdown",
   "id": "d5857f1b",
   "metadata": {},
   "source": [
    "SWAP门\n"
   ]
  },
  {
   "cell_type": "code",
   "execution_count": null,
   "id": "753eb684",
   "metadata": {},
   "outputs": [],
   "source": [
    "print(\"\\nSWAP门：\")\n",
    "print(\"效果：交换两个量子比特的状态\")\n",
    "print(\"例如：\")\n",
    "print(\"  SWAP|01⟩ = |10⟩\")\n",
    "print(\"  SWAP|10⟩ = |01⟩\")"
   ]
  },
  {
   "cell_type": "markdown",
   "id": "ec5d4453",
   "metadata": {},
   "source": [
    "创建SWAP演示电路\n"
   ]
  },
  {
   "cell_type": "code",
   "execution_count": null,
   "id": "b9523d1c",
   "metadata": {},
   "outputs": [],
   "source": [
    "print(\"\\nSWAP电路示例：\")\n",
    "swap_circuit = QuantumCircuit(2)\n",
    "swap_circuit.x(0)    # 将第一个量子比特置于|1⟩态\n",
    "swap_circuit.swap(0, 1)  # 交换两个量子比特\n",
    "\n",
    "print(\"电路图：\")\n",
    "print(swap_circuit.draw())\n",
    "print(\"效果：从|10⟩变为|01⟩\")"
   ]
  },
  {
   "cell_type": "markdown",
   "id": "b5bc61ba",
   "metadata": {},
   "source": [
    "5. 量子门电路示例\n"
   ]
  },
  {
   "cell_type": "code",
   "execution_count": null,
   "id": "9542bdad",
   "metadata": {},
   "outputs": [],
   "source": [
    "print(\"\\n5. 量子门电路示例\")"
   ]
  },
  {
   "cell_type": "markdown",
   "id": "d2a91583",
   "metadata": {},
   "source": [
    "创建一个更复杂的量子电路\n"
   ]
  },
  {
   "cell_type": "code",
   "execution_count": null,
   "id": "a48cee5e",
   "metadata": {},
   "outputs": [],
   "source": [
    "complex_circuit = QuantumCircuit(3, 3)\n",
    "complex_circuit.h(0)    # 将第一个量子比特置于叠加态\n",
    "complex_circuit.cx(0, 1)  # 将第一和第二个量子比特纠缠\n",
    "complex_circuit.x(2)    # 翻转第三个量子比特\n",
    "complex_circuit.cx(1, 2)  # 将第二和第三个量子比特纠缠\n",
    "complex_circuit.h(0)    # 再次应用H门到第一个量子比特\n",
    "complex_circuit.measure([0, 1, 2], [0, 1, 2])  # 测量所有量子比特\n",
    "\n",
    "print(\"复杂电路图：\")\n",
    "print(complex_circuit.draw())"
   ]
  },
  {
   "cell_type": "markdown",
   "id": "437eb87e",
   "metadata": {},
   "source": [
    "执行电路\n"
   ]
  },
  {
   "cell_type": "code",
   "execution_count": null,
   "id": "dd5eee6f",
   "metadata": {},
   "outputs": [],
   "source": [
    "simulator = Aer.get_backend('qasm_simulator')\n",
    "compiled_circuit = transpile(complex_circuit, simulator)\n",
    "job = simulator.run(compiled_circuit, shots=1000)\n",
    "result = job.result()\n",
    "counts = result.get_counts(compiled_circuit)\n",
    "print(f\"测量结果: {counts}\")\n",
    "\n",
    "print(\"\\n总结：\")\n",
    "print(\"1. 量子比特是量子计算的基本单位，可以处于叠加态\")\n",
    "print(\"2. 量子门对量子比特进行操作，实现各种量子变换\")\n",
    "print(\"3. 单量子比特门包括Pauli门(X,Y,Z)、Hadamard门(H)、相位门(S,T)等\")\n",
    "print(\"4. 多量子比特门如CNOT、SWAP使得量子比特之间可以相互作用，产生纠缠\")\n",
    "print(\"5. 结合不同的量子门可以构建复杂的量子电路，实现各种量子算法\")"
   ]
  },
  {
   "cell_type": "markdown",
   "id": "dc8d84d0",
   "metadata": {},
   "source": [
    "## 💡 挑战任务\n",
    "\n",
    "尝试扩展上面的练习，探索以下内容：\n",
    "1. 更改电路参数并观察结果的变化\n",
    "2. 尝试实现不同的量子态或算法\n",
    "3. 可视化更多量子测量的结果"
   ]
  }
 ],
 "metadata": {
  "kernelspec": {
   "display_name": "Python 3",
   "language": "python",
   "name": "python3"
  },
  "language_info": {
   "codemirror_mode": {
    "name": "ipython",
    "version": 3
   },
   "file_extension": ".py",
   "mimetype": "text/x-python",
   "name": "python",
   "nbconvert_exporter": "python",
   "pygments_lexer": "ipython3",
   "version": "3.9.13"
  }
 },
 "nbformat": 4,
 "nbformat_minor": 5
}

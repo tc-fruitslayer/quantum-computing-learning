{
 "cells": [
  {
   "cell_type": "code",
   "execution_count": null,
   "id": "5786b15c",
   "metadata": {},
   "outputs": [],
   "source": [
    "#!/usr/bin/env python\n",
    "# -*- coding: utf-8 -*-"
   ]
  },
  {
   "cell_type": "markdown",
   "id": "96e98a2a",
   "metadata": {},
   "source": [
    "\n",
    "量子计算基础 3：量子电路模型\n",
    "本文件介绍量子电路模型的基本概念和构建方法"
   ]
  },
  {
   "cell_type": "code",
   "execution_count": null,
   "id": "178e10f8",
   "metadata": {},
   "outputs": [],
   "source": [
    "import numpy as np\n",
    "from qiskit import QuantumCircuit, ClassicalRegister, QuantumRegister, transpile\n",
    "from qiskit_aer import Aer\n",
    "from qiskit.visualization import plot_histogram\n"
   ]
  },
  {
   "cell_type": "code",
   "execution_count": null,
   "id": "aba7778b",
   "metadata": {},
   "outputs": [],
   "source": [
    "print(\"===== 量子电路模型 =====\")\n",
    "\n",
    "print(\"\\n1. 量子电路的基本概念\")\n",
    "print(\"   量子电路是量子计算的标准模型\")\n",
    "print(\"   电路由一系列量子比特和对它们的操作（量子门）组成\")\n",
    "print(\"   电路从左到右读取，表示时间的流逝\")\n",
    "print(\"   量子电路模型是图灵完备的，可以表示任何计算\")"
   ]
  },
  {
   "cell_type": "markdown",
   "id": "eaa110b9",
   "metadata": {},
   "source": [
    "2. 创建基本量子电路\n"
   ]
  },
  {
   "cell_type": "code",
   "execution_count": null,
   "id": "d44bab6d",
   "metadata": {},
   "outputs": [],
   "source": [
    "print(\"\\n2. 创建基本量子电路\")"
   ]
  },
  {
   "cell_type": "markdown",
   "id": "171d395f",
   "metadata": {},
   "source": [
    "2.1 电路初始化的不同方法\n"
   ]
  },
  {
   "cell_type": "code",
   "execution_count": null,
   "id": "7335f416",
   "metadata": {},
   "outputs": [],
   "source": [
    "print(\"\\n2.1 电路初始化的不同方法\")"
   ]
  },
  {
   "cell_type": "markdown",
   "id": "91ccd615",
   "metadata": {},
   "source": [
    "方法1：直接指定量子比特和经典比特数量\n"
   ]
  },
  {
   "cell_type": "code",
   "execution_count": null,
   "id": "8e1528a9",
   "metadata": {},
   "outputs": [],
   "source": [
    "print(\"\\n方法1：直接指定量子比特和经典比特数量\")\n",
    "qc1 = QuantumCircuit(2, 2)\n",
    "print(f\"电路1: {qc1.num_qubits} 个量子比特, {qc1.num_clbits} 个经典比特\")\n",
    "print(qc1.draw())"
   ]
  },
  {
   "cell_type": "markdown",
   "id": "0607780d",
   "metadata": {},
   "source": [
    "方法2：使用寄存器\n"
   ]
  },
  {
   "cell_type": "code",
   "execution_count": null,
   "id": "44063d2d",
   "metadata": {},
   "outputs": [],
   "source": [
    "print(\"\\n方法2：使用寄存器\")\n",
    "qreg = QuantumRegister(2, 'q')  # 创建量子寄存器\n",
    "creg = ClassicalRegister(2, 'c')  # 创建经典寄存器\n",
    "qc2 = QuantumCircuit(qreg, creg)\n",
    "print(f\"电路2: {qc2.num_qubits} 个量子比特, {qc2.num_clbits} 个经典比特\")\n",
    "print(qc2.draw())"
   ]
  },
  {
   "cell_type": "markdown",
   "id": "93987740",
   "metadata": {},
   "source": [
    "方法3：使用多个寄存器\n"
   ]
  },
  {
   "cell_type": "code",
   "execution_count": null,
   "id": "c6d489d4",
   "metadata": {},
   "outputs": [],
   "source": [
    "print(\"\\n方法3：使用多个寄存器\")\n",
    "qreg1 = QuantumRegister(2, 'q1')\n",
    "qreg2 = QuantumRegister(1, 'q2')\n",
    "creg1 = ClassicalRegister(2, 'c1')\n",
    "creg2 = ClassicalRegister(1, 'c2')\n",
    "qc3 = QuantumCircuit(qreg1, qreg2, creg1, creg2)\n",
    "print(f\"电路3: {qc3.num_qubits} 个量子比特, {qc3.num_clbits} 个经典比特\")\n",
    "print(qc3.draw())"
   ]
  },
  {
   "cell_type": "markdown",
   "id": "a99063b5",
   "metadata": {},
   "source": [
    "2.2 添加量子门\n"
   ]
  },
  {
   "cell_type": "code",
   "execution_count": null,
   "id": "c5f6dd45",
   "metadata": {},
   "outputs": [],
   "source": [
    "print(\"\\n2.2 添加量子门\")\n",
    "qc = QuantumCircuit(3, 3)"
   ]
  },
  {
   "cell_type": "markdown",
   "id": "4db20389",
   "metadata": {},
   "source": [
    "添加单量子比特门\n"
   ]
  },
  {
   "cell_type": "code",
   "execution_count": null,
   "id": "4b256e10",
   "metadata": {},
   "outputs": [],
   "source": [
    "qc.h(0)  # Hadamard门作用于量子比特0\n",
    "qc.x(1)  # X门（NOT门）作用于量子比特1\n",
    "qc.z(2)  # Z门作用于量子比特2"
   ]
  },
  {
   "cell_type": "markdown",
   "id": "1932a107",
   "metadata": {},
   "source": [
    "添加多量子比特门\n"
   ]
  },
  {
   "cell_type": "code",
   "execution_count": null,
   "id": "3364390f",
   "metadata": {},
   "outputs": [],
   "source": [
    "qc.cx(0, 1)  # CNOT门，控制位是量子比特0，目标位是量子比特1\n",
    "qc.swap(1, 2)  # SWAP门，交换量子比特1和2"
   ]
  },
  {
   "cell_type": "markdown",
   "id": "ba27952a",
   "metadata": {},
   "source": [
    "测量\n"
   ]
  },
  {
   "cell_type": "code",
   "execution_count": null,
   "id": "87060c3e",
   "metadata": {},
   "outputs": [],
   "source": [
    "qc.measure([0, 1, 2], [0, 1, 2])  # 将量子比特0,1,2的测量结果保存到经典比特0,1,2\n",
    "\n",
    "print(\"基本量子电路：\")\n",
    "print(qc.draw())"
   ]
  },
  {
   "cell_type": "markdown",
   "id": "e36fcd2d",
   "metadata": {},
   "source": [
    "3. 电路的组合和重用\n"
   ]
  },
  {
   "cell_type": "code",
   "execution_count": null,
   "id": "18d95132",
   "metadata": {},
   "outputs": [],
   "source": [
    "print(\"\\n3. 电路的组合和重用\")"
   ]
  },
  {
   "cell_type": "markdown",
   "id": "7c178593",
   "metadata": {},
   "source": [
    "3.1 创建子电路\n"
   ]
  },
  {
   "cell_type": "code",
   "execution_count": null,
   "id": "4f4076c2",
   "metadata": {},
   "outputs": [],
   "source": [
    "print(\"\\n3.1 创建子电路\")\n",
    "bell_pair = QuantumCircuit(2)\n",
    "bell_pair.h(0)\n",
    "bell_pair.cx(0, 1)\n",
    "print(\"Bell对子电路：\")\n",
    "print(bell_pair.draw())"
   ]
  },
  {
   "cell_type": "markdown",
   "id": "afa78ec0",
   "metadata": {},
   "source": [
    "3.2 复制和组合电路\n"
   ]
  },
  {
   "cell_type": "code",
   "execution_count": null,
   "id": "e19ca282",
   "metadata": {},
   "outputs": [],
   "source": [
    "print(\"\\n3.2 复制和组合电路\")\n",
    "qc_combined = QuantumCircuit(4, 4)"
   ]
  },
  {
   "cell_type": "markdown",
   "id": "a4c92b24",
   "metadata": {},
   "source": [
    "将Bell对子电路应用到前两个量子比特\n"
   ]
  },
  {
   "cell_type": "code",
   "execution_count": null,
   "id": "dd971cb1",
   "metadata": {},
   "outputs": [],
   "source": [
    "qc_combined = qc_combined.compose(bell_pair, qubits=[0, 1])"
   ]
  },
  {
   "cell_type": "markdown",
   "id": "5422c9a2",
   "metadata": {},
   "source": [
    "将Bell对子电路应用到后两个量子比特\n"
   ]
  },
  {
   "cell_type": "code",
   "execution_count": null,
   "id": "862710d6",
   "metadata": {},
   "outputs": [],
   "source": [
    "qc_combined = qc_combined.compose(bell_pair, qubits=[2, 3])"
   ]
  },
  {
   "cell_type": "markdown",
   "id": "f527dafb",
   "metadata": {},
   "source": [
    "添加测量\n"
   ]
  },
  {
   "cell_type": "code",
   "execution_count": null,
   "id": "0067d128",
   "metadata": {},
   "outputs": [],
   "source": [
    "qc_combined.measure([0, 1, 2, 3], [0, 1, 2, 3])\n",
    "\n",
    "print(\"组合后的电路：\")\n",
    "print(qc_combined.draw())"
   ]
  },
  {
   "cell_type": "markdown",
   "id": "2e3e1904",
   "metadata": {},
   "source": [
    "4. 参数化量子电路\n"
   ]
  },
  {
   "cell_type": "code",
   "execution_count": null,
   "id": "a22a0422",
   "metadata": {},
   "outputs": [],
   "source": [
    "print(\"\\n4. 参数化量子电路\")"
   ]
  },
  {
   "cell_type": "code",
   "execution_count": null,
   "id": "3ab6dd88",
   "metadata": {},
   "outputs": [],
   "source": [
    "from qiskit.circuit import Parameter\n"
   ]
  },
  {
   "cell_type": "markdown",
   "id": "aea5cbde",
   "metadata": {},
   "source": [
    "创建参数\n"
   ]
  },
  {
   "cell_type": "code",
   "execution_count": null,
   "id": "e8438c7e",
   "metadata": {},
   "outputs": [],
   "source": [
    "theta = Parameter('θ')\n",
    "phi = Parameter('φ')"
   ]
  },
  {
   "cell_type": "markdown",
   "id": "5d6770d7",
   "metadata": {},
   "source": [
    "创建参数化电路\n"
   ]
  },
  {
   "cell_type": "code",
   "execution_count": null,
   "id": "ef266441",
   "metadata": {},
   "outputs": [],
   "source": [
    "param_qc = QuantumCircuit(1, 1)\n",
    "param_qc.rx(theta, 0)  # 绕X轴旋转角度theta\n",
    "param_qc.rz(phi, 0)    # 绕Z轴旋转角度phi\n",
    "param_qc.measure(0, 0)\n",
    "\n",
    "print(\"参数化量子电路：\")\n",
    "print(param_qc.draw())"
   ]
  },
  {
   "cell_type": "markdown",
   "id": "403eef23",
   "metadata": {},
   "source": [
    "绑定参数\n"
   ]
  },
  {
   "cell_type": "code",
   "execution_count": null,
   "id": "d7a435c7",
   "metadata": {},
   "outputs": [],
   "source": [
    "bound_qc = param_qc.assign_parameters({theta: np.pi/4, phi: np.pi/2})\n",
    "print(\"\\n绑定参数后的电路（θ = π/4, φ = π/2）：\")\n",
    "print(bound_qc.draw())"
   ]
  },
  {
   "cell_type": "markdown",
   "id": "49314d5e",
   "metadata": {},
   "source": [
    "5. 条件操作\n"
   ]
  },
  {
   "cell_type": "code",
   "execution_count": null,
   "id": "6985febd",
   "metadata": {},
   "outputs": [],
   "source": [
    "print(\"\\n5. 条件操作（基于测量结果）\")"
   ]
  },
  {
   "cell_type": "markdown",
   "id": "78e42ddf",
   "metadata": {},
   "source": [
    "在Qiskit中，条件操作通常通过中间测量和条件重置来实现\n"
   ]
  },
  {
   "cell_type": "code",
   "execution_count": null,
   "id": "c190db34",
   "metadata": {},
   "outputs": [],
   "source": [
    "qc_condition = QuantumCircuit(2, 1)\n",
    "qc_condition.h(0)\n",
    "qc_condition.measure(0, 0)  # 测量第一个量子比特\n",
    "qc_condition.x(1).c_if(qc_condition.cregs[0], 1)  # 如果测量结果为1，则对第二个量子比特应用X门\n",
    "\n",
    "print(\"条件电路：\")\n",
    "print(qc_condition.draw())"
   ]
  },
  {
   "cell_type": "markdown",
   "id": "952d67b9",
   "metadata": {},
   "source": [
    "6. 电路优化和转译\n"
   ]
  },
  {
   "cell_type": "code",
   "execution_count": null,
   "id": "1e0144f4",
   "metadata": {},
   "outputs": [],
   "source": [
    "print(\"\\n6. 电路优化和转译\")"
   ]
  },
  {
   "cell_type": "markdown",
   "id": "ad7739c6",
   "metadata": {},
   "source": [
    "创建一个测试电路\n"
   ]
  },
  {
   "cell_type": "code",
   "execution_count": null,
   "id": "66edf827",
   "metadata": {},
   "outputs": [],
   "source": [
    "test_qc = QuantumCircuit(3, 3)\n",
    "test_qc.h(0)\n",
    "test_qc.cx(0, 1)\n",
    "test_qc.cx(1, 2)\n",
    "test_qc.measure([0, 1, 2], [0, 1, 2])\n",
    "\n",
    "print(\"原始电路：\")\n",
    "print(test_qc.draw())"
   ]
  },
  {
   "cell_type": "markdown",
   "id": "1a3c3c5a",
   "metadata": {},
   "source": [
    "转译电路\n"
   ]
  },
  {
   "cell_type": "code",
   "execution_count": null,
   "id": "2355f0e3",
   "metadata": {},
   "outputs": [],
   "source": [
    "simulator = Aer.get_backend('qasm_simulator')\n",
    "trans_qc = transpile(test_qc, simulator, optimization_level=3)\n",
    "print(\"\\n优化后的电路（优化级别3）：\")\n",
    "print(trans_qc.draw())"
   ]
  },
  {
   "cell_type": "markdown",
   "id": "4d6f2165",
   "metadata": {},
   "source": [
    "7. 运行量子电路\n"
   ]
  },
  {
   "cell_type": "code",
   "execution_count": null,
   "id": "6bbfb608",
   "metadata": {},
   "outputs": [],
   "source": [
    "print(\"\\n7. 运行量子电路\")"
   ]
  },
  {
   "cell_type": "markdown",
   "id": "5ede34ad",
   "metadata": {},
   "source": [
    "创建一个GHZ态电路\n"
   ]
  },
  {
   "cell_type": "code",
   "execution_count": null,
   "id": "0e6d07ce",
   "metadata": {},
   "outputs": [],
   "source": [
    "ghz_qc = QuantumCircuit(3, 3)\n",
    "ghz_qc.h(0)\n",
    "ghz_qc.cx(0, 1)\n",
    "ghz_qc.cx(0, 2)\n",
    "ghz_qc.measure([0, 1, 2], [0, 1, 2])\n",
    "\n",
    "print(\"GHZ态电路：\")\n",
    "print(ghz_qc.draw())"
   ]
  },
  {
   "cell_type": "markdown",
   "id": "9eb8c67e",
   "metadata": {},
   "source": [
    "在模拟器上运行\n"
   ]
  },
  {
   "cell_type": "code",
   "execution_count": null,
   "id": "08be2eef",
   "metadata": {},
   "outputs": [],
   "source": [
    "simulator = Aer.get_backend('qasm_simulator')\n",
    "compiled_circuit = transpile(ghz_qc, simulator)\n",
    "job = simulator.run(compiled_circuit, shots=1000)\n",
    "result = job.result()\n",
    "counts = result.get_counts(compiled_circuit)\n",
    "print(f\"\\nGHZ态测量结果: {counts}\")\n",
    "print(\"注意：GHZ态测量结果应该只有|000⟩和|111⟩，因为这三个量子比特处于完全纠缠状态\")\n",
    "\n",
    "print(\"\\n总结：\")\n",
    "print(\"1. 量子电路是量子计算的标准模型，由量子比特和量子门组成\")\n",
    "print(\"2. 可以通过不同方式创建和初始化量子电路\")\n",
    "print(\"3. 量子电路可以组合、参数化，以及包含条件操作\")\n",
    "print(\"4. 真实的量子计算需要考虑优化和转译步骤\")\n",
    "print(\"5. 量子电路可以在模拟器或真实量子设备上运行\")"
   ]
  },
  {
   "cell_type": "markdown",
   "id": "2dfdb730",
   "metadata": {},
   "source": [
    "## 💡 挑战任务\n",
    "\n",
    "尝试扩展上面的练习，探索以下内容：\n",
    "1. 更改电路参数并观察结果的变化\n",
    "2. 尝试实现不同的量子态或算法\n",
    "3. 可视化更多量子测量的结果"
   ]
  }
 ],
 "metadata": {
  "kernelspec": {
   "display_name": "Python 3",
   "language": "python",
   "name": "python3"
  },
  "language_info": {
   "codemirror_mode": {
    "name": "ipython",
    "version": 3
   },
   "file_extension": ".py",
   "mimetype": "text/x-python",
   "name": "python",
   "nbconvert_exporter": "python",
   "pygments_lexer": "ipython3",
   "version": "3.9.13"
  }
 },
 "nbformat": 4,
 "nbformat_minor": 5
}

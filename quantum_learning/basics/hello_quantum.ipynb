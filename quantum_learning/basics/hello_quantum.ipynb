{
 "cells": [
  {
   "cell_type": "code",
   "execution_count": null,
   "id": "e21818f4",
   "metadata": {},
   "outputs": [],
   "source": [
    "#!/usr/bin/env python\n",
    "# -*- coding: utf-8 -*-"
   ]
  },
  {
   "cell_type": "markdown",
   "id": "8f962105",
   "metadata": {},
   "source": [
    "\n",
    "量子计算入门示例：创建一个简单的量子电路"
   ]
  },
  {
   "cell_type": "code",
   "execution_count": null,
   "id": "0be27546",
   "metadata": {},
   "outputs": [],
   "source": [
    "import numpy as np\n",
    "from qiskit import QuantumCircuit, transpile\n",
    "from qiskit.visualization import plot_histogram\n",
    "from qiskit_aer import AerSimulator\n"
   ]
  },
  {
   "cell_type": "markdown",
   "id": "346c37da",
   "metadata": {},
   "source": [
    "创建一个有2个量子比特的量子电路\n"
   ]
  },
  {
   "cell_type": "code",
   "execution_count": null,
   "id": "ea2c6b8a",
   "metadata": {},
   "outputs": [],
   "source": [
    "qc = QuantumCircuit(2, 2)"
   ]
  },
  {
   "cell_type": "markdown",
   "id": "1204c188",
   "metadata": {},
   "source": [
    "将第一个量子比特置于叠加态\n"
   ]
  },
  {
   "cell_type": "code",
   "execution_count": null,
   "id": "a2bb9e78",
   "metadata": {},
   "outputs": [],
   "source": [
    "qc.h(0)"
   ]
  },
  {
   "cell_type": "markdown",
   "id": "92a811d1",
   "metadata": {},
   "source": [
    "使用CNOT门将两个量子比特纠缠在一起\n"
   ]
  },
  {
   "cell_type": "code",
   "execution_count": null,
   "id": "02525299",
   "metadata": {},
   "outputs": [],
   "source": [
    "qc.cx(0, 1)"
   ]
  },
  {
   "cell_type": "markdown",
   "id": "ecda9c99",
   "metadata": {},
   "source": [
    "测量两个量子比特\n"
   ]
  },
  {
   "cell_type": "code",
   "execution_count": null,
   "id": "fd84faf3",
   "metadata": {},
   "outputs": [],
   "source": [
    "qc.measure([0, 1], [0, 1])"
   ]
  },
  {
   "cell_type": "markdown",
   "id": "0dc6b7a6",
   "metadata": {},
   "source": [
    "打印电路\n"
   ]
  },
  {
   "cell_type": "code",
   "execution_count": null,
   "id": "2120038d",
   "metadata": {},
   "outputs": [],
   "source": [
    "print(\"量子电路:\")\n",
    "print(qc)"
   ]
  },
  {
   "cell_type": "markdown",
   "id": "f43b92e4",
   "metadata": {},
   "source": [
    "使用Aer模拟器运行电路\n"
   ]
  },
  {
   "cell_type": "code",
   "execution_count": null,
   "id": "aa0e3bf2",
   "metadata": {},
   "outputs": [],
   "source": [
    "simulator = AerSimulator()\n",
    "compiled_circuit = transpile(qc, simulator)\n",
    "job = simulator.run(compiled_circuit, shots=1000)\n",
    "result = job.result()"
   ]
  },
  {
   "cell_type": "markdown",
   "id": "66974d27",
   "metadata": {},
   "source": [
    "获取结果并打印\n"
   ]
  },
  {
   "cell_type": "code",
   "execution_count": null,
   "id": "20368ba5",
   "metadata": {},
   "outputs": [],
   "source": [
    "counts = result.get_counts(compiled_circuit)\n",
    "print(\"\\n测量结果:\", counts)\n",
    "print(\"\\n这是一个Bell态，展示了量子纠缠的特性。\")\n",
    "print(\"当测量一个量子比特时，另一个量子比特的状态会立即确定，无论它们相距多远。\")"
   ]
  },
  {
   "cell_type": "markdown",
   "id": "f8c0a2be",
   "metadata": {},
   "source": [
    "## 💡 挑战任务\n",
    "\n",
    "尝试扩展上面的练习，探索以下内容：\n",
    "1. 更改电路参数并观察结果的变化\n",
    "2. 尝试实现不同的量子态或算法\n",
    "3. 可视化更多量子测量的结果"
   ]
  }
 ],
 "metadata": {
  "kernelspec": {
   "display_name": "Python 3",
   "language": "python",
   "name": "python3"
  },
  "language_info": {
   "codemirror_mode": {
    "name": "ipython",
    "version": 3
   },
   "file_extension": ".py",
   "mimetype": "text/x-python",
   "name": "python",
   "nbconvert_exporter": "python",
   "pygments_lexer": "ipython3",
   "version": "3.9.13"
  }
 },
 "nbformat": 4,
 "nbformat_minor": 5
}

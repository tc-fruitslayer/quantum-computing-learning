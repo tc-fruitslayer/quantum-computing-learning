{
 "cells": [
  {
   "cell_type": "code",
   "execution_count": null,
   "id": "2c4b9f6e",
   "metadata": {},
   "outputs": [],
   "source": [
    "#!/usr/bin/env python\n",
    "# -*- coding: utf-8 -*-"
   ]
  },
  {
   "cell_type": "markdown",
   "id": "2413f565",
   "metadata": {},
   "source": [
    "\n",
    "Xanadu PennyLane框架学习 2：混合量子-经典计算\n",
    "本文件详细介绍PennyLane中的混合量子-经典计算模型和应用"
   ]
  },
  {
   "cell_type": "markdown",
   "id": "62057c32",
   "metadata": {},
   "source": [
    "导入必要的库\n"
   ]
  },
  {
   "cell_type": "code",
   "execution_count": null,
   "id": "9f0b9810",
   "metadata": {},
   "outputs": [],
   "source": [
    "import pennylane as qml\n",
    "import numpy as np\n",
    "import matplotlib.pyplot as plt\n",
    "from pennylane import numpy as pnp\n"
   ]
  },
  {
   "cell_type": "code",
   "execution_count": null,
   "id": "a9b3397c",
   "metadata": {},
   "outputs": [],
   "source": [
    "print(\"===== PennyLane混合量子-经典计算 =====\")"
   ]
  },
  {
   "cell_type": "markdown",
   "id": "8ed319b3",
   "metadata": {},
   "source": [
    "检查PennyLane版本\n"
   ]
  },
  {
   "cell_type": "code",
   "execution_count": null,
   "id": "106cacd6",
   "metadata": {},
   "outputs": [],
   "source": [
    "print(f\"PennyLane版本: {qml.__version__}\")"
   ]
  },
  {
   "cell_type": "markdown",
   "id": "a754eec1",
   "metadata": {},
   "source": [
    "1. 混合量子-经典计算概述\n"
   ]
  },
  {
   "cell_type": "code",
   "execution_count": null,
   "id": "3c978089",
   "metadata": {},
   "outputs": [],
   "source": [
    "print(\"\\n1. 混合量子-经典计算概述\")\n",
    "print(\"混合量子-经典计算是结合量子和经典计算的范式，通常包含以下步骤:\")\n",
    "print(\"- 使用经典计算机准备初始参数\")\n",
    "print(\"- 使用量子处理器执行参数化量子电路\")\n",
    "print(\"- 测量量子电路的输出\")\n",
    "print(\"- 使用经典计算机处理测量结果和优化参数\")\n",
    "print(\"- 迭代上述过程以达到目标\")\n",
    "print(\"\\n这种范式特别适用于当前的NISQ（嘈杂中等规模量子）设备\")"
   ]
  },
  {
   "cell_type": "markdown",
   "id": "b800b0b3",
   "metadata": {},
   "source": [
    "2. 基本混合计算模式\n"
   ]
  },
  {
   "cell_type": "code",
   "execution_count": null,
   "id": "b583e22f",
   "metadata": {},
   "outputs": [],
   "source": [
    "print(\"\\n2. 基本混合计算模式\")\n",
    "print(\"最简单的混合计算模式是将量子电路作为经典计算过程中的一个'子程序'\")"
   ]
  },
  {
   "cell_type": "markdown",
   "id": "78120b75",
   "metadata": {},
   "source": [
    "创建一个简单的量子设备\n"
   ]
  },
  {
   "cell_type": "code",
   "execution_count": null,
   "id": "882c2bbc",
   "metadata": {},
   "outputs": [],
   "source": [
    "dev = qml.device(\"default.qubit\", wires=1)"
   ]
  },
  {
   "cell_type": "markdown",
   "id": "dcfd8b9d",
   "metadata": {},
   "source": [
    "定义一个参数化量子电路\n"
   ]
  },
  {
   "cell_type": "code",
   "execution_count": null,
   "id": "b6873952",
   "metadata": {},
   "outputs": [],
   "source": [
    "@qml.qnode(dev)\n",
    "def quantum_circuit(theta):\n",
    "    qml.RX(theta, wires=0)\n",
    "    return qml.expval(qml.PauliZ(0))"
   ]
  },
  {
   "cell_type": "markdown",
   "id": "9f546085",
   "metadata": {},
   "source": [
    "定义一个混合函数，包含经典和量子计算\n"
   ]
  },
  {
   "cell_type": "code",
   "execution_count": null,
   "id": "b468dfc2",
   "metadata": {},
   "outputs": [],
   "source": [
    "def hybrid_function(theta):\n",
    "    # 经典预处理\n",
    "    theta_modified = np.sin(theta) * np.pi\n",
    "    \n",
    "    # 量子计算\n",
    "    result = quantum_circuit(theta_modified)\n",
    "    \n",
    "    # 经典后处理\n",
    "    return np.cos(result) ** 2"
   ]
  },
  {
   "cell_type": "markdown",
   "id": "db77cb14",
   "metadata": {},
   "source": [
    "计算混合函数在不同输入上的值\n"
   ]
  },
  {
   "cell_type": "code",
   "execution_count": null,
   "id": "e183f4c6",
   "metadata": {},
   "outputs": [],
   "source": [
    "thetas = np.linspace(0, 2*np.pi, 20)\n",
    "hybrid_values = [hybrid_function(theta) for theta in thetas]\n",
    "\n",
    "print(\"\\n混合函数在不同输入上的值:\")\n",
    "for theta, value in zip(thetas[:5], hybrid_values[:5]):\n",
    "    print(f\"theta = {theta:.2f}, 混合函数值 = {value:.6f}\")\n",
    "print(\"... 更多值省略 ...\")"
   ]
  },
  {
   "cell_type": "markdown",
   "id": "4f1b2a70",
   "metadata": {},
   "source": [
    "> **练习提示:**\n",
    "> 在上面的代码单元格中完成实现。可以使用`?`查看相关函数的文档，例如`qml.Hadamard?`。"
   ]
  },
  {
   "cell_type": "markdown",
   "id": "383495b4",
   "metadata": {},
   "source": [
    "3. 变分量子算法框架\n"
   ]
  },
  {
   "cell_type": "code",
   "execution_count": null,
   "id": "7c3e1c71",
   "metadata": {},
   "outputs": [],
   "source": [
    "print(\"\\n3. 变分量子算法框架\")\n",
    "print(\"变分量子算法(VQA)是混合量子-经典计算的重要应用框架\")\n",
    "print(\"VQA包含以下组件:\")\n",
    "print(\"- 参数化量子电路（可训练的'模型'）\")\n",
    "print(\"- 成本函数（量化解决方案质量）\")\n",
    "print(\"- 经典优化器（用于调整参数）\")"
   ]
  },
  {
   "cell_type": "markdown",
   "id": "9a75d5de",
   "metadata": {},
   "source": [
    "创建一个简单的变分电路\n"
   ]
  },
  {
   "cell_type": "code",
   "execution_count": null,
   "id": "d73379fc",
   "metadata": {},
   "outputs": [],
   "source": [
    "n_qubits = 4\n",
    "n_layers = 2\n",
    "dev_vqa = qml.device(\"default.qubit\", wires=n_qubits)"
   ]
  },
  {
   "cell_type": "markdown",
   "id": "a6c26487",
   "metadata": {},
   "source": [
    "定义一个简单的变分量子电路结构\n"
   ]
  },
  {
   "cell_type": "code",
   "execution_count": null,
   "id": "e3098999",
   "metadata": {},
   "outputs": [],
   "source": [
    "def variational_circuit(params, x=None):\n",
    "    # 如果提供数据，则进行编码\n",
    "    if x is not None:\n",
    "        for i in range(n_qubits):\n",
    "            qml.RY(x[i % len(x)], wires=i)\n",
    "    \n",
    "    # 应用参数化层\n",
    "    for l in range(n_layers):\n",
    "        for i in range(n_qubits):\n",
    "            qml.RY(params[l][i][0], wires=i)\n",
    "            qml.RZ(params[l][i][1], wires=i)\n",
    "        \n",
    "        # 添加纠缠\n",
    "        for i in range(n_qubits-1):\n",
    "            qml.CNOT(wires=[i, i+1])\n",
    "        qml.CNOT(wires=[n_qubits-1, 0])  # 闭合链\n",
    "    \n",
    "    # 返回每个量子比特的期望值\n",
    "    return [qml.expval(qml.PauliZ(i)) for i in range(n_qubits)]"
   ]
  },
  {
   "cell_type": "markdown",
   "id": "8c0e3f52",
   "metadata": {},
   "source": [
    "创建量子节点\n"
   ]
  },
  {
   "cell_type": "code",
   "execution_count": null,
   "id": "30bf80e8",
   "metadata": {},
   "outputs": [],
   "source": [
    "vqa_qnode = qml.QNode(variational_circuit, dev_vqa)"
   ]
  },
  {
   "cell_type": "markdown",
   "id": "f09514c0",
   "metadata": {},
   "source": [
    "随机初始化参数\n"
   ]
  },
  {
   "cell_type": "code",
   "execution_count": null,
   "id": "eb73a16b",
   "metadata": {},
   "outputs": [],
   "source": [
    "params_shape = (n_layers, n_qubits, 2)  # (层数, 量子比特数, 每个量子比特的参数数)\n",
    "params = np.random.uniform(0, 2*np.pi, params_shape)"
   ]
  },
  {
   "cell_type": "markdown",
   "id": "0ecb81b8",
   "metadata": {},
   "source": [
    "打印电路结构\n"
   ]
  },
  {
   "cell_type": "code",
   "execution_count": null,
   "id": "f3b1067a",
   "metadata": {},
   "outputs": [],
   "source": [
    "print(\"\\n变分量子电路结构:\")\n",
    "print(qml.draw(vqa_qnode)(params))"
   ]
  },
  {
   "cell_type": "markdown",
   "id": "204b5489",
   "metadata": {},
   "source": [
    "4. 量子-经典优化循环\n"
   ]
  },
  {
   "cell_type": "code",
   "execution_count": null,
   "id": "b6ccb566",
   "metadata": {},
   "outputs": [],
   "source": [
    "print(\"\\n4. 量子-经典优化循环\")\n",
    "print(\"在混合量子-经典算法中，经典优化器用于更新量子电路参数\")"
   ]
  },
  {
   "cell_type": "markdown",
   "id": "bfe1f1a4",
   "metadata": {},
   "source": [
    "定义一个简单的成本函数 - 目标是使所有量子比特均处于|0⟩态\n"
   ]
  },
  {
   "cell_type": "code",
   "execution_count": null,
   "id": "27f66483",
   "metadata": {},
   "outputs": [],
   "source": [
    "def cost_function(params):\n",
    "    expectations = vqa_qnode(params)\n",
    "    # 目标是使所有期望值接近1（全部为|0⟩态）\n",
    "    return 1 - np.mean(expectations)"
   ]
  },
  {
   "cell_type": "markdown",
   "id": "e0ec8af7",
   "metadata": {},
   "source": [
    "打印初始成本\n"
   ]
  },
  {
   "cell_type": "code",
   "execution_count": null,
   "id": "9a574340",
   "metadata": {},
   "outputs": [],
   "source": [
    "initial_cost = cost_function(params)\n",
    "print(f\"\\n初始成本: {initial_cost:.6f}\")"
   ]
  },
  {
   "cell_type": "markdown",
   "id": "470f3801",
   "metadata": {},
   "source": [
    "模拟一个优化步骤\n"
   ]
  },
  {
   "cell_type": "code",
   "execution_count": null,
   "id": "5627b31a",
   "metadata": {},
   "outputs": [],
   "source": [
    "def one_optimization_step(params, learning_rate=0.1):\n",
    "    # 计算梯度\n",
    "    try:\n",
    "        grad = qml.grad(cost_function)(params)\n",
    "        if len(grad) == 0:\n",
    "            print(\"警告: 梯度为空数组，使用随机梯度代替（仅演示目的）\")\n",
    "            # 创建与params形状相同的随机梯度\n",
    "            grad = np.random.uniform(-0.1, 0.1, params.shape)\n",
    "        else:\n",
    "            grad = np.array(grad)\n",
    "    except Exception as e:\n",
    "        print(f\"计算梯度时出错: {e}\")\n",
    "        print(\"使用随机梯度代替（仅演示目的）\")\n",
    "        # 创建与params形状相同的随机梯度\n",
    "        grad = np.random.uniform(-0.1, 0.1, params.shape)\n",
    "    \n",
    "    # 梯度下降更新\n",
    "    new_params = params - learning_rate * grad\n",
    "    \n",
    "    # 计算新成本\n",
    "    new_cost = cost_function(new_params)\n",
    "    \n",
    "    return new_params, new_cost\n",
    "\n",
    "new_params, new_cost = one_optimization_step(params)\n",
    "print(f\"一步优化后的成本: {new_cost:.6f}\")"
   ]
  },
  {
   "cell_type": "markdown",
   "id": "295c34c1",
   "metadata": {},
   "source": [
    "5. 经典优化器\n"
   ]
  },
  {
   "cell_type": "code",
   "execution_count": null,
   "id": "e31aa5d7",
   "metadata": {},
   "outputs": [],
   "source": [
    "print(\"\\n5. 经典优化器\")\n",
    "print(\"PennyLane提供多种经典优化器，与量子电路无缝集成\")"
   ]
  },
  {
   "cell_type": "markdown",
   "id": "226f6691",
   "metadata": {},
   "source": [
    "创建一个简单的设备和问题\n"
   ]
  },
  {
   "cell_type": "code",
   "execution_count": null,
   "id": "039768d1",
   "metadata": {},
   "outputs": [],
   "source": [
    "dev_opt = qml.device(\"default.qubit\", wires=2)\n",
    "\n",
    "@qml.qnode(dev_opt)\n",
    "def circuit(params):\n",
    "    qml.RX(params[0], wires=0)\n",
    "    qml.RY(params[1], wires=1)\n",
    "    qml.CNOT(wires=[0, 1])\n",
    "    return qml.expval(qml.PauliZ(0) @ qml.PauliZ(1))\n",
    "\n",
    "def cost(params):\n",
    "    return 1 - circuit(params)"
   ]
  },
  {
   "cell_type": "markdown",
   "id": "33bdb9a3",
   "metadata": {},
   "source": [
    "初始参数\n"
   ]
  },
  {
   "cell_type": "code",
   "execution_count": null,
   "id": "cac8e576",
   "metadata": {},
   "outputs": [],
   "source": [
    "init_params = np.array([0.5, 0.1])"
   ]
  },
  {
   "cell_type": "markdown",
   "id": "716b3661",
   "metadata": {},
   "source": [
    "使用PennyLane的GradientDescentOptimizer\n"
   ]
  },
  {
   "cell_type": "code",
   "execution_count": null,
   "id": "f3eada74",
   "metadata": {},
   "outputs": [],
   "source": [
    "print(\"\\n使用梯度下降优化器:\")\n",
    "opt = qml.GradientDescentOptimizer(stepsize=0.2)"
   ]
  },
  {
   "cell_type": "markdown",
   "id": "f4b2e683",
   "metadata": {},
   "source": [
    "模拟几步优化\n"
   ]
  },
  {
   "cell_type": "code",
   "execution_count": null,
   "id": "4ee024f3",
   "metadata": {},
   "outputs": [],
   "source": [
    "params = init_params\n",
    "costs = [cost(params)]\n",
    "\n",
    "for i in range(5):\n",
    "    params = opt.step(cost, params)\n",
    "    costs.append(cost(params))\n",
    "    print(f\"步骤 {i+1}: 成本 = {costs[-1]:.6f}, 参数 = {params}\")"
   ]
  },
  {
   "cell_type": "markdown",
   "id": "ab024d1c",
   "metadata": {},
   "source": [
    "6. 使用PennyLane与其他框架的集成\n"
   ]
  },
  {
   "cell_type": "code",
   "execution_count": null,
   "id": "651450c8",
   "metadata": {},
   "outputs": [],
   "source": [
    "print(\"\\n6. 使用PennyLane与其他框架的集成\")\n",
    "print(\"PennyLane可以与流行的机器学习框架无缝集成\")"
   ]
  },
  {
   "cell_type": "markdown",
   "id": "b71598ba",
   "metadata": {},
   "source": [
    "显示与TensorFlow和PyTorch的集成示例\n"
   ]
  },
  {
   "cell_type": "code",
   "execution_count": null,
   "id": "ecc59758",
   "metadata": {},
   "outputs": [],
   "source": [
    "print(\"\\n与TensorFlow集成的示例代码 (展示，不执行):\")\n",
    "print("
   ]
  },
  {
   "cell_type": "markdown",
   "id": "5a753442",
   "metadata": {},
   "source": [
    "\n",
    "import tensorflow as tf\n",
    "\n",
    "# 创建设备\n",
    "dev = qml.device('default.qubit', wires=2)\n",
    "\n",
    "# 创建量子节点，指定TensorFlow接口\n",
    "@qml.qnode(dev, interface='tf')\n",
    "def circuit(x, params):\n",
    "    qml.RX(x[0], wires=0)\n",
    "    qml.RX(x[1], wires=1)\n",
    "    qml.RZ(params[0], wires=0)\n",
    "    qml.RZ(params[1], wires=1)\n",
    "    qml.CNOT(wires=[0, 1])\n",
    "    return qml.expval(qml.PauliZ(0) @ qml.PauliZ(1))\n",
    "\n",
    "# 创建模型\n",
    "class HybridModel(tf.keras.Model):\n",
    "    def __init__(self):\n",
    "        super().__init__()\n",
    "        self.params = tf.Variable([0.01, 0.01], dtype=tf.float32)\n",
    "        \n",
    "    def call(self, x):\n",
    "        return circuit(x, self.params)\n",
    "\n",
    "# 使用\n",
    "model = HybridModel()\n",
    "optimizer = tf.keras.optimizers.SGD(learning_rate=0.1)\n",
    "\n",
    "with tf.GradientTape() as tape:\n",
    "    output = model(tf.constant([[0.5, 0.1]]))\n",
    "    loss = tf.reduce_sum(output)\n",
    "\n",
    "gradients = tape.gradient(loss, model.trainable_variables)\n",
    "optimizer.apply_gradients(zip(gradients, model.trainable_variables))"
   ]
  },
  {
   "cell_type": "code",
   "execution_count": null,
   "id": "4c997e3d",
   "metadata": {},
   "outputs": [],
   "source": [
    "import tensorflow as tf\n"
   ]
  },
  {
   "cell_type": "markdown",
   "id": "806683ae",
   "metadata": {},
   "source": [
    "创建设备\n"
   ]
  },
  {
   "cell_type": "code",
   "execution_count": null,
   "id": "d58d279a",
   "metadata": {},
   "outputs": [],
   "source": [
    "dev = qml.device('default.qubit', wires=2)"
   ]
  },
  {
   "cell_type": "markdown",
   "id": "2136103a",
   "metadata": {},
   "source": [
    "创建量子节点，指定TensorFlow接口\n"
   ]
  },
  {
   "cell_type": "code",
   "execution_count": null,
   "id": "b0c83b22",
   "metadata": {},
   "outputs": [],
   "source": [
    "@qml.qnode(dev, interface='tf')\n",
    "def circuit(x, params):\n",
    "    qml.RX(x[0], wires=0)\n",
    "    qml.RX(x[1], wires=1)\n",
    "    qml.RZ(params[0], wires=0)\n",
    "    qml.RZ(params[1], wires=1)\n",
    "    qml.CNOT(wires=[0, 1])\n",
    "    return qml.expval(qml.PauliZ(0) @ qml.PauliZ(1))"
   ]
  },
  {
   "cell_type": "markdown",
   "id": "0d3a24e3",
   "metadata": {},
   "source": [
    "创建模型\n"
   ]
  },
  {
   "cell_type": "code",
   "execution_count": null,
   "id": "8e07b961",
   "metadata": {},
   "outputs": [],
   "source": [
    "class HybridModel(tf.keras.Model):\n",
    "    def __init__(self):\n",
    "        super().__init__()\n",
    "        self.params = tf.Variable([0.01, 0.01], dtype=tf.float32)\n",
    "        \n",
    "    def call(self, x):\n",
    "        return circuit(x, self.params)"
   ]
  },
  {
   "cell_type": "markdown",
   "id": "b6c5eab8",
   "metadata": {},
   "source": [
    "使用\n"
   ]
  },
  {
   "cell_type": "code",
   "execution_count": null,
   "id": "ba60f1cb",
   "metadata": {},
   "outputs": [],
   "source": [
    "model = HybridModel()\n",
    "optimizer = tf.keras.optimizers.SGD(learning_rate=0.1)\n",
    "\n",
    "with tf.GradientTape() as tape:\n",
    "    output = model(tf.constant([[0.5, 0.1]]))\n",
    "    loss = tf.reduce_sum(output)\n",
    "\n",
    "gradients = tape.gradient(loss, model.trainable_variables)\n",
    "optimizer.apply_gradients(zip(gradients, model.trainable_variables))\n",
    "\"\"\")\n",
    "\n",
    "print(\"\\n与PyTorch集成的示例代码 (展示，不执行):\")\n",
    "print("
   ]
  },
  {
   "cell_type": "markdown",
   "id": "42b23ac2",
   "metadata": {},
   "source": [
    "\n",
    "import torch\n",
    "\n",
    "# 创建设备\n",
    "dev = qml.device('default.qubit', wires=2)\n",
    "\n",
    "# 创建量子节点，指定PyTorch接口\n",
    "@qml.qnode(dev, interface='torch')\n",
    "def circuit(x, params):\n",
    "    qml.RX(x[0], wires=0)\n",
    "    qml.RX(x[1], wires=1)\n",
    "    qml.RZ(params[0], wires=0)\n",
    "    qml.RZ(params[1], wires=1)\n",
    "    qml.CNOT(wires=[0, 1])\n",
    "    return qml.expval(qml.PauliZ(0) @ qml.PauliZ(1))\n",
    "\n",
    "# 创建模型\n",
    "class HybridModel(torch.nn.Module):\n",
    "    def __init__(self):\n",
    "        super().__init__()\n",
    "        self.params = torch.nn.Parameter(torch.tensor([0.01, 0.01], dtype=torch.float32))\n",
    "        \n",
    "    def forward(self, x):\n",
    "        return circuit(x, self.params)\n",
    "\n",
    "# 使用\n",
    "model = HybridModel()\n",
    "opt = torch.optim.SGD(model.parameters(), lr=0.1)\n",
    "\n",
    "x = torch.tensor([0.5, 0.1], dtype=torch.float32)\n",
    "output = model(x)\n",
    "loss = torch.sum(output)\n",
    "\n",
    "loss.backward()\n",
    "opt.step()"
   ]
  },
  {
   "cell_type": "code",
   "execution_count": null,
   "id": "19ca3db9",
   "metadata": {},
   "outputs": [],
   "source": [
    "import torch\n"
   ]
  },
  {
   "cell_type": "markdown",
   "id": "0b2521e0",
   "metadata": {},
   "source": [
    "创建设备\n"
   ]
  },
  {
   "cell_type": "code",
   "execution_count": null,
   "id": "44de3734",
   "metadata": {},
   "outputs": [],
   "source": [
    "dev = qml.device('default.qubit', wires=2)"
   ]
  },
  {
   "cell_type": "markdown",
   "id": "cefdc2cd",
   "metadata": {},
   "source": [
    "创建量子节点，指定PyTorch接口\n"
   ]
  },
  {
   "cell_type": "code",
   "execution_count": null,
   "id": "b154b7d2",
   "metadata": {},
   "outputs": [],
   "source": [
    "@qml.qnode(dev, interface='torch')\n",
    "def circuit(x, params):\n",
    "    qml.RX(x[0], wires=0)\n",
    "    qml.RX(x[1], wires=1)\n",
    "    qml.RZ(params[0], wires=0)\n",
    "    qml.RZ(params[1], wires=1)\n",
    "    qml.CNOT(wires=[0, 1])\n",
    "    return qml.expval(qml.PauliZ(0) @ qml.PauliZ(1))"
   ]
  },
  {
   "cell_type": "markdown",
   "id": "5d972a6f",
   "metadata": {},
   "source": [
    "创建模型\n"
   ]
  },
  {
   "cell_type": "code",
   "execution_count": null,
   "id": "a50d3510",
   "metadata": {},
   "outputs": [],
   "source": [
    "class HybridModel(torch.nn.Module):\n",
    "    def __init__(self):\n",
    "        super().__init__()\n",
    "        self.params = torch.nn.Parameter(torch.tensor([0.01, 0.01], dtype=torch.float32))\n",
    "        \n",
    "    def forward(self, x):\n",
    "        return circuit(x, self.params)"
   ]
  },
  {
   "cell_type": "markdown",
   "id": "67fee5d2",
   "metadata": {},
   "source": [
    "使用\n"
   ]
  },
  {
   "cell_type": "code",
   "execution_count": null,
   "id": "f48784c3",
   "metadata": {},
   "outputs": [],
   "source": [
    "model = HybridModel()\n",
    "opt = torch.optim.SGD(model.parameters(), lr=0.1)\n",
    "\n",
    "x = torch.tensor([0.5, 0.1], dtype=torch.float32)\n",
    "output = model(x)\n",
    "loss = torch.sum(output)\n",
    "\n",
    "loss.backward()\n",
    "opt.step()\n",
    "\"\"\")"
   ]
  },
  {
   "cell_type": "markdown",
   "id": "7c3ab839",
   "metadata": {},
   "source": [
    "7. 批量处理和并行化\n"
   ]
  },
  {
   "cell_type": "code",
   "execution_count": null,
   "id": "345562b6",
   "metadata": {},
   "outputs": [],
   "source": [
    "print(\"\\n7. 批量处理和并行化\")\n",
    "print(\"PennyLane允许批处理量子计算，提高混合算法的效率\")"
   ]
  },
  {
   "cell_type": "markdown",
   "id": "66aeff91",
   "metadata": {},
   "source": [
    "创建支持batch模式的设备\n"
   ]
  },
  {
   "cell_type": "code",
   "execution_count": null,
   "id": "b1909a34",
   "metadata": {},
   "outputs": [],
   "source": [
    "dev_batch = qml.device(\"default.qubit\", wires=2, shots=1000)"
   ]
  },
  {
   "cell_type": "markdown",
   "id": "b990154d",
   "metadata": {},
   "source": [
    "定义支持批处理的电路\n"
   ]
  },
  {
   "cell_type": "code",
   "execution_count": null,
   "id": "29495238",
   "metadata": {},
   "outputs": [],
   "source": [
    "@qml.qnode(dev_batch)\n",
    "def batch_circuit(x):\n",
    "    qml.RX(x[0], wires=0)\n",
    "    qml.RY(x[1], wires=1)\n",
    "    qml.CNOT(wires=[0, 1])\n",
    "    return qml.expval(qml.PauliZ(0)), qml.expval(qml.PauliZ(1))"
   ]
  },
  {
   "cell_type": "markdown",
   "id": "a339661a",
   "metadata": {},
   "source": [
    "批量输入\n"
   ]
  },
  {
   "cell_type": "code",
   "execution_count": null,
   "id": "11e25330",
   "metadata": {},
   "outputs": [],
   "source": [
    "batch_inputs = np.array([\n",
    "    [0.1, 0.2],\n",
    "    [0.3, 0.4],\n",
    "    [0.5, 0.6]\n",
    "])"
   ]
  },
  {
   "cell_type": "markdown",
   "id": "7b147b93",
   "metadata": {},
   "source": [
    "逐个处理\n"
   ]
  },
  {
   "cell_type": "code",
   "execution_count": null,
   "id": "8d9be34b",
   "metadata": {},
   "outputs": [],
   "source": [
    "print(\"\\n单独处理每个输入:\")\n",
    "for x in batch_inputs:\n",
    "    result = batch_circuit(x)\n",
    "    print(f\"输入 {x}, 输出 {result}\")"
   ]
  },
  {
   "cell_type": "markdown",
   "id": "27e82059",
   "metadata": {},
   "source": [
    "8. 变分量子特征求解器示例\n"
   ]
  },
  {
   "cell_type": "code",
   "execution_count": null,
   "id": "2088bae2",
   "metadata": {},
   "outputs": [],
   "source": [
    "print(\"\\n8. 变分量子特征求解器(VQE)示例\")\n",
    "print(\"VQE是解决量子化学问题的一种混合量子-经典算法\")"
   ]
  },
  {
   "cell_type": "markdown",
   "id": "4ca622f9",
   "metadata": {},
   "source": [
    "创建一个简单的设备\n"
   ]
  },
  {
   "cell_type": "code",
   "execution_count": null,
   "id": "358debcb",
   "metadata": {},
   "outputs": [],
   "source": [
    "dev_vqe = qml.device(\"default.qubit\", wires=2)"
   ]
  },
  {
   "cell_type": "markdown",
   "id": "9693b15b",
   "metadata": {},
   "source": [
    "定义氢分子电子哈密顿量的系数（简化版本）\n"
   ]
  },
  {
   "cell_type": "code",
   "execution_count": null,
   "id": "6d42e9d4",
   "metadata": {},
   "outputs": [],
   "source": [
    "coeffs = np.array([0.5, 0.5])\n",
    "obs = [qml.PauliZ(0) @ qml.PauliZ(1), qml.PauliY(0) @ qml.PauliY(1)]"
   ]
  },
  {
   "cell_type": "markdown",
   "id": "d7fe2e87",
   "metadata": {},
   "source": [
    "定义电路 - 简单的参数化电路\n"
   ]
  },
  {
   "cell_type": "code",
   "execution_count": null,
   "id": "614ea6d2",
   "metadata": {},
   "outputs": [],
   "source": [
    "@qml.qnode(dev_vqe)\n",
    "def vqe_circuit(params):\n",
    "    # 准备初始态 |01⟩\n",
    "    qml.PauliX(wires=1)\n",
    "    \n",
    "    # 应用参数化酉变换\n",
    "    qml.RX(params[0], wires=0)\n",
    "    qml.RY(params[1], wires=1)\n",
    "    qml.CNOT(wires=[0, 1])\n",
    "    qml.RZ(params[2], wires=0)\n",
    "    qml.RY(params[3], wires=1)\n",
    "    \n",
    "    # 返回哈密顿量的期望值\n",
    "    return qml.expval(qml.Hamiltonian(coeffs, obs))"
   ]
  },
  {
   "cell_type": "markdown",
   "id": "93b8a0a8",
   "metadata": {},
   "source": [
    "定义成本函数 - 哈密顿量的期望值\n"
   ]
  },
  {
   "cell_type": "code",
   "execution_count": null,
   "id": "71f67fc5",
   "metadata": {},
   "outputs": [],
   "source": [
    "def vqe_cost(params):\n",
    "    return vqe_circuit(params)"
   ]
  },
  {
   "cell_type": "markdown",
   "id": "0e0b586f",
   "metadata": {},
   "source": [
    "随机初始化参数\n"
   ]
  },
  {
   "cell_type": "code",
   "execution_count": null,
   "id": "0cd19424",
   "metadata": {},
   "outputs": [],
   "source": [
    "init_vqe_params = np.random.uniform(0, 2*np.pi, 4)"
   ]
  },
  {
   "cell_type": "markdown",
   "id": "0b051f10",
   "metadata": {},
   "source": [
    "打印电路和初始成本\n"
   ]
  },
  {
   "cell_type": "code",
   "execution_count": null,
   "id": "76401e6b",
   "metadata": {},
   "outputs": [],
   "source": [
    "print(\"\\nVQE电路:\")\n",
    "print(qml.draw(vqe_circuit)(init_vqe_params))\n",
    "print(f\"初始成本: {vqe_cost(init_vqe_params):.6f}\")"
   ]
  },
  {
   "cell_type": "markdown",
   "id": "5278e563",
   "metadata": {},
   "source": [
    "使用优化器\n"
   ]
  },
  {
   "cell_type": "code",
   "execution_count": null,
   "id": "5ba25f45",
   "metadata": {},
   "outputs": [],
   "source": [
    "opt_vqe = qml.GradientDescentOptimizer(stepsize=0.2)"
   ]
  },
  {
   "cell_type": "markdown",
   "id": "732cb729",
   "metadata": {},
   "source": [
    "模拟几步优化\n"
   ]
  },
  {
   "cell_type": "code",
   "execution_count": null,
   "id": "8b3f40cf",
   "metadata": {},
   "outputs": [],
   "source": [
    "vqe_params = init_vqe_params\n",
    "vqe_costs = [vqe_cost(vqe_params)]\n",
    "\n",
    "print(\"\\nVQE优化过程:\")\n",
    "for i in range(5):\n",
    "    vqe_params = opt_vqe.step(vqe_cost, vqe_params)\n",
    "    vqe_costs.append(vqe_cost(vqe_params))\n",
    "    print(f\"步骤 {i+1}: 能量 = {vqe_costs[-1]:.6f}\")"
   ]
  },
  {
   "cell_type": "markdown",
   "id": "def20675",
   "metadata": {},
   "source": [
    "9. 量子感知机示例\n"
   ]
  },
  {
   "cell_type": "code",
   "execution_count": null,
   "id": "d29c7638",
   "metadata": {},
   "outputs": [],
   "source": [
    "print(\"\\n9. 量子感知机示例\")\n",
    "print(\"量子感知机是量子神经网络的一种简单形式\")"
   ]
  },
  {
   "cell_type": "markdown",
   "id": "673746e0",
   "metadata": {},
   "source": [
    "创建数据集 - 简单的二分类问题\n"
   ]
  },
  {
   "cell_type": "code",
   "execution_count": null,
   "id": "219d6faf",
   "metadata": {},
   "outputs": [],
   "source": [
    "X = np.array([[0.1, 0.2], [0.9, 0.8], [0.2, 0.1], [0.8, 0.9]])\n",
    "Y = np.array([0, 1, 0, 1])  # 二元标签"
   ]
  },
  {
   "cell_type": "markdown",
   "id": "83cbbba5",
   "metadata": {},
   "source": [
    "创建设备\n"
   ]
  },
  {
   "cell_type": "code",
   "execution_count": null,
   "id": "8a234117",
   "metadata": {},
   "outputs": [],
   "source": [
    "dev_qp = qml.device(\"default.qubit\", wires=2)"
   ]
  },
  {
   "cell_type": "markdown",
   "id": "c26295fd",
   "metadata": {},
   "source": [
    "定义量子感知机电路\n"
   ]
  },
  {
   "cell_type": "code",
   "execution_count": null,
   "id": "94f6094a",
   "metadata": {},
   "outputs": [],
   "source": [
    "@qml.qnode(dev_qp)\n",
    "def quantum_perceptron(x, params):\n",
    "    # 数据编码\n",
    "    qml.RX(np.pi * x[0], wires=0)\n",
    "    qml.RX(np.pi * x[1], wires=1)\n",
    "    \n",
    "    # 参数化旋转\n",
    "    qml.RY(params[0], wires=0)\n",
    "    qml.RY(params[1], wires=1)\n",
    "    \n",
    "    # 纠缠层\n",
    "    qml.CNOT(wires=[0, 1])\n",
    "    \n",
    "    # 测量输出\n",
    "    return qml.expval(qml.PauliZ(1))"
   ]
  },
  {
   "cell_type": "markdown",
   "id": "b9019dd8",
   "metadata": {},
   "source": [
    "定义损失函数 - 均方误差\n"
   ]
  },
  {
   "cell_type": "code",
   "execution_count": null,
   "id": "3fbfb266",
   "metadata": {},
   "outputs": [],
   "source": [
    "def qp_loss(params, X, Y):\n",
    "    predictions = np.array([quantum_perceptron(x, params) for x in X])\n",
    "    # 将[-1,1]映射到[0,1]\n",
    "    predictions = (predictions + 1) / 2\n",
    "    return np.mean((predictions - Y) ** 2)"
   ]
  },
  {
   "cell_type": "markdown",
   "id": "64324a5a",
   "metadata": {},
   "source": [
    "随机初始化参数\n"
   ]
  },
  {
   "cell_type": "code",
   "execution_count": null,
   "id": "132e4446",
   "metadata": {},
   "outputs": [],
   "source": [
    "init_qp_params = np.random.uniform(0, 2*np.pi, 2)"
   ]
  },
  {
   "cell_type": "markdown",
   "id": "513b4c29",
   "metadata": {},
   "source": [
    "打印初始损失\n"
   ]
  },
  {
   "cell_type": "code",
   "execution_count": null,
   "id": "1995de7e",
   "metadata": {},
   "outputs": [],
   "source": [
    "print(f\"\\n初始损失: {qp_loss(init_qp_params, X, Y):.6f}\")"
   ]
  },
  {
   "cell_type": "markdown",
   "id": "5b5276de",
   "metadata": {},
   "source": [
    "使用优化器\n"
   ]
  },
  {
   "cell_type": "code",
   "execution_count": null,
   "id": "47e3516b",
   "metadata": {},
   "outputs": [],
   "source": [
    "opt_qp = qml.GradientDescentOptimizer(stepsize=0.5)"
   ]
  },
  {
   "cell_type": "markdown",
   "id": "ac7f4b3b",
   "metadata": {},
   "source": [
    "模拟几步优化\n"
   ]
  },
  {
   "cell_type": "code",
   "execution_count": null,
   "id": "fa6dbfc1",
   "metadata": {},
   "outputs": [],
   "source": [
    "qp_params = init_qp_params\n",
    "qp_losses = [qp_loss(qp_params, X, Y)]\n",
    "\n",
    "print(\"\\n量子感知机训练过程:\")\n",
    "for i in range(10):\n",
    "    qp_params = opt_qp.step(lambda p: qp_loss(p, X, Y), qp_params)\n",
    "    qp_losses.append(qp_loss(qp_params, X, Y))\n",
    "    print(f\"步骤 {i+1}: 损失 = {qp_losses[-1]:.6f}\")"
   ]
  },
  {
   "cell_type": "markdown",
   "id": "2f241e1f",
   "metadata": {},
   "source": [
    "测试训练后的模型\n"
   ]
  },
  {
   "cell_type": "code",
   "execution_count": null,
   "id": "d8ef699e",
   "metadata": {},
   "outputs": [],
   "source": [
    "predictions = [(quantum_perceptron(x, qp_params) + 1) / 2 for x in X]\n",
    "print(\"\\n训练后的预测:\")\n",
    "for x, y, pred in zip(X, Y, predictions):\n",
    "    print(f\"输入 {x}, 真实标签 {y}, 预测 {pred:.4f}\")"
   ]
  },
  {
   "cell_type": "markdown",
   "id": "0aa7af78",
   "metadata": {},
   "source": [
    "10. 总结\n"
   ]
  },
  {
   "cell_type": "code",
   "execution_count": null,
   "id": "5d5f45fa",
   "metadata": {},
   "outputs": [],
   "source": [
    "print(\"\\n10. 总结\")\n",
    "print(\"1. 混合量子-经典计算结合了量子计算和经典计算的优势\")\n",
    "print(\"2. 变分量子算法是当前NISQ时代的重要计算范式\")\n",
    "print(\"3. PennyLane支持与主流机器学习框架的无缝集成\")\n",
    "print(\"4. 应用范围包括量子化学模拟、量子机器学习等\")\n",
    "print(\"5. 混合方法允许在现有量子硬件上解决实际问题\")\n",
    "\n",
    "print(\"\\n下一步学习:\")\n",
    "print(\"- 变分量子电路的深入探索\")\n",
    "print(\"- 量子梯度和优化技术\")\n",
    "print(\"- 量子机器学习模型\")"
   ]
  },
  {
   "cell_type": "markdown",
   "id": "9612688c",
   "metadata": {},
   "source": [
    "## 💡 挑战任务\n",
    "\n",
    "尝试扩展上面的练习，探索以下内容：\n",
    "1. 更改电路参数并观察结果的变化\n",
    "2. 尝试实现不同的量子态或算法\n",
    "3. 可视化更多量子测量的结果"
   ]
  }
 ],
 "metadata": {
  "kernelspec": {
   "display_name": "Python 3",
   "language": "python",
   "name": "python3"
  },
  "language_info": {
   "codemirror_mode": {
    "name": "ipython",
    "version": 3
   },
   "file_extension": ".py",
   "mimetype": "text/x-python",
   "name": "python",
   "nbconvert_exporter": "python",
   "pygments_lexer": "ipython3",
   "version": "3.9.13"
  }
 },
 "nbformat": 4,
 "nbformat_minor": 5
}

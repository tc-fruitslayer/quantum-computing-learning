{
 "cells": [
  {
   "cell_type": "code",
   "execution_count": null,
   "id": "dae2408a",
   "metadata": {},
   "outputs": [],
   "source": [
    "#!/usr/bin/env python\n",
    "# -*- coding: utf-8 -*-"
   ]
  },
  {
   "cell_type": "markdown",
   "id": "4742d151",
   "metadata": {},
   "source": [
    "\n",
    "PennyLane基础教程\n",
    "================\n",
    "\n",
    "本教程介绍PennyLane的基础概念和用法，包括：\n",
    "- 量子设备创建\n",
    "- 量子节点定义\n",
    "- 基本量子门操作\n",
    "- 量子测量\n",
    "- 参数化量子电路"
   ]
  },
  {
   "cell_type": "code",
   "execution_count": null,
   "id": "4ab5e858",
   "metadata": {},
   "outputs": [],
   "source": [
    "import pennylane as qml\n",
    "import numpy as np\n",
    "import matplotlib.pyplot as plt\n"
   ]
  },
  {
   "cell_type": "markdown",
   "id": "92e4de59",
   "metadata": {},
   "source": [
    "导入中文字体支持\n"
   ]
  },
  {
   "cell_type": "code",
   "execution_count": null,
   "id": "a699197b",
   "metadata": {},
   "outputs": [],
   "source": [
    "try:\n",
    "    from mpl_zhfonts import set_chinese_font\n",
    "    set_chinese_font()\n",
    "    print(\"已启用中文字体支持\")\n",
    "except ImportError:\n",
    "    print(\"警告: 未找到中文字体支持模块，图表中的中文可能无法正确显示\")\n",
    "\n",
    "print(\"===== PennyLane基础教程 =====\")\n",
    "print(f\"PennyLane版本: {qml.version()}\")"
   ]
  },
  {
   "cell_type": "markdown",
   "id": "5a20d1ab",
   "metadata": {},
   "source": [
    "===== 第1部分：创建量子设备 =====\n"
   ]
  },
  {
   "cell_type": "code",
   "execution_count": null,
   "id": "3fa093a1",
   "metadata": {},
   "outputs": [],
   "source": [
    "print(\"\\n===== 第1部分：创建量子设备 =====\")"
   ]
  },
  {
   "cell_type": "markdown",
   "id": "94181731",
   "metadata": {},
   "source": [
    "默认模拟器，2个量子比特\n"
   ]
  },
  {
   "cell_type": "code",
   "execution_count": null,
   "id": "82ca70fd",
   "metadata": {},
   "outputs": [],
   "source": [
    "dev = qml.device('default.qubit', wires=2)\n",
    "print(f\"创建设备: default.qubit\")\n",
    "print(f\"量子比特数量: 2\")  # 硬编码wire数量"
   ]
  },
  {
   "cell_type": "markdown",
   "id": "6529b4bf",
   "metadata": {},
   "source": [
    "===== 第2部分：创建量子电路(QNode) =====\n"
   ]
  },
  {
   "cell_type": "code",
   "execution_count": null,
   "id": "8ca9f5bf",
   "metadata": {},
   "outputs": [],
   "source": [
    "print(\"\\n===== 第2部分：创建量子电路(QNode) =====\")"
   ]
  },
  {
   "cell_type": "markdown",
   "id": "25d7ae92",
   "metadata": {},
   "source": [
    "使用装饰器定义量子电路\n"
   ]
  },
  {
   "cell_type": "code",
   "execution_count": null,
   "id": "ad9eefe8",
   "metadata": {},
   "outputs": [],
   "source": [
    "@qml.qnode(dev)\n",
    "def my_circuit():\n",
    "    # 将第0个量子比特置于叠加态\n",
    "    qml.Hadamard(wires=0)\n",
    "    # 将第1个量子比特置于|1⟩态\n",
    "    qml.PauliX(wires=1)\n",
    "    # 添加CNOT门，控制比特为0，目标比特为1\n",
    "    qml.CNOT(wires=[0, 1])\n",
    "    # 返回两个量子比特的计算基测量结果\n",
    "    return qml.probs(wires=[0, 1])"
   ]
  },
  {
   "cell_type": "markdown",
   "id": "a2956dea",
   "metadata": {},
   "source": [
    "执行电路并打印结果\n"
   ]
  },
  {
   "cell_type": "code",
   "execution_count": null,
   "id": "c4e89a2c",
   "metadata": {},
   "outputs": [],
   "source": [
    "result = my_circuit()\n",
    "print(\"电路执行结果（态概率）：\")\n",
    "for i, prob in enumerate(result):\n",
    "    state = format(i, '02b')  # 将索引转换为二进制表示\n",
    "    print(f\"|{state}⟩: {prob:.6f}\")"
   ]
  },
  {
   "cell_type": "markdown",
   "id": "220a10a2",
   "metadata": {},
   "source": [
    "打印电路图\n"
   ]
  },
  {
   "cell_type": "code",
   "execution_count": null,
   "id": "c49252cc",
   "metadata": {},
   "outputs": [],
   "source": [
    "print(\"\\n电路图：\")\n",
    "print(qml.draw(my_circuit)())"
   ]
  },
  {
   "cell_type": "markdown",
   "id": "f74d1136",
   "metadata": {},
   "source": [
    "===== 第3部分：参数化量子电路 =====\n"
   ]
  },
  {
   "cell_type": "code",
   "execution_count": null,
   "id": "660ca901",
   "metadata": {},
   "outputs": [],
   "source": [
    "print(\"\\n===== 第3部分：参数化量子电路 =====\")\n",
    "\n",
    "@qml.qnode(dev)\n",
    "def rotation_circuit(params):\n",
    "    qml.RX(params[0], wires=0)\n",
    "    qml.RY(params[1], wires=1)\n",
    "    qml.CNOT(wires=[0, 1])\n",
    "    return qml.expval(qml.PauliZ(0)), qml.expval(qml.PauliZ(1))"
   ]
  },
  {
   "cell_type": "markdown",
   "id": "94efd4e1",
   "metadata": {},
   "source": [
    "使用不同参数执行电路\n"
   ]
  },
  {
   "cell_type": "code",
   "execution_count": null,
   "id": "d1587806",
   "metadata": {},
   "outputs": [],
   "source": [
    "params1 = np.array([0.0, 0.0])\n",
    "params2 = np.array([np.pi/2, np.pi/4])\n",
    "params3 = np.array([np.pi, np.pi])\n",
    "\n",
    "result1 = rotation_circuit(params1)\n",
    "result2 = rotation_circuit(params2)\n",
    "result3 = rotation_circuit(params3)\n",
    "\n",
    "print(f\"参数 [0.0, 0.0]: {result1}\")\n",
    "print(f\"参数 [π/2, π/4]: {result2}\")\n",
    "print(f\"参数 [π, π]: {result3}\")"
   ]
  },
  {
   "cell_type": "markdown",
   "id": "55d2dd9e",
   "metadata": {},
   "source": [
    "===== 第4部分：观测值期望值 =====\n"
   ]
  },
  {
   "cell_type": "code",
   "execution_count": null,
   "id": "3911eafb",
   "metadata": {},
   "outputs": [],
   "source": [
    "print(\"\\n===== 第4部分：观测值期望值 =====\")\n",
    "\n",
    "@qml.qnode(dev)\n",
    "def observable_circuit(params):\n",
    "    qml.RX(params[0], wires=0)\n",
    "    qml.RY(params[1], wires=1)\n",
    "    qml.CNOT(wires=[0, 1])\n",
    "    # 返回不同观测量的期望值\n",
    "    return [\n",
    "        qml.expval(qml.PauliX(0)),  # ⟨X₀⟩\n",
    "        qml.expval(qml.PauliY(1)),  # ⟨Y₁⟩\n",
    "        qml.expval(qml.PauliZ(0)),  # ⟨Z₀⟩\n",
    "        qml.expval(qml.PauliZ(0) @ qml.PauliZ(1))  # ⟨Z₀ ⊗ Z₁⟩\n",
    "    ]\n",
    "\n",
    "params = np.array([np.pi/4, np.pi/4])\n",
    "exp_vals = observable_circuit(params)\n",
    "\n",
    "print(f\"⟨X₀⟩ = {exp_vals[0]:.6f}\")\n",
    "print(f\"⟨Y₁⟩ = {exp_vals[1]:.6f}\")\n",
    "print(f\"⟨Z₀⟩ = {exp_vals[2]:.6f}\")\n",
    "print(f\"⟨Z₀ ⊗ Z₁⟩ = {exp_vals[3]:.6f}\")"
   ]
  },
  {
   "cell_type": "markdown",
   "id": "ce846f29",
   "metadata": {},
   "source": [
    "===== 第5部分：旋转扫描 =====\n"
   ]
  },
  {
   "cell_type": "code",
   "execution_count": null,
   "id": "8adc6917",
   "metadata": {},
   "outputs": [],
   "source": [
    "print(\"\\n===== 第5部分：旋转扫描 =====\")\n",
    "\n",
    "@qml.qnode(dev)\n",
    "def rotation_scan_circuit(phi):\n",
    "    qml.RX(phi, wires=0)\n",
    "    return qml.expval(qml.PauliZ(0))"
   ]
  },
  {
   "cell_type": "markdown",
   "id": "ab0e13e3",
   "metadata": {},
   "source": [
    "扫描参数从0到2π\n"
   ]
  },
  {
   "cell_type": "code",
   "execution_count": null,
   "id": "f85067b5",
   "metadata": {},
   "outputs": [],
   "source": [
    "phi_values = np.linspace(0, 2*np.pi, 50)\n",
    "expectation_values = [rotation_scan_circuit(phi) for phi in phi_values]"
   ]
  },
  {
   "cell_type": "markdown",
   "id": "d3347de7",
   "metadata": {},
   "source": [
    "绘制期望值随参数变化的曲线\n"
   ]
  },
  {
   "cell_type": "code",
   "execution_count": null,
   "id": "5bc60931",
   "metadata": {},
   "outputs": [],
   "source": [
    "plt.figure(figsize=(8, 6))\n",
    "plt.plot(phi_values, expectation_values, 'b-')\n",
    "plt.grid(True)\n",
    "plt.xlabel('φ (弧度)')\n",
    "plt.ylabel('⟨Z⟩')\n",
    "plt.title('RX旋转角度φ与Z测量期望值的关系')\n",
    "plt.savefig('rotation_scan.png')\n",
    "print(\"旋转扫描图已保存为 rotation_scan.png\")"
   ]
  },
  {
   "cell_type": "markdown",
   "id": "21f62491",
   "metadata": {},
   "source": [
    "===== 第6部分：电路梯度 =====\n"
   ]
  },
  {
   "cell_type": "code",
   "execution_count": null,
   "id": "ff705cb0",
   "metadata": {},
   "outputs": [],
   "source": [
    "print(\"\\n===== 第6部分：电路梯度 =====\")\n",
    "\n",
    "@qml.qnode(dev)\n",
    "def circuit_with_gradient(params):\n",
    "    qml.RX(params[0], wires=0)\n",
    "    qml.RY(params[1], wires=1)\n",
    "    qml.CNOT(wires=[0, 1])\n",
    "    return qml.expval(qml.PauliZ(0))"
   ]
  },
  {
   "cell_type": "markdown",
   "id": "f462750f",
   "metadata": {},
   "source": [
    "计算梯度\n"
   ]
  },
  {
   "cell_type": "code",
   "execution_count": null,
   "id": "46e90fe2",
   "metadata": {},
   "outputs": [],
   "source": [
    "params = np.array([0.5, 0.5])\n",
    "grad_fn = qml.grad(circuit_with_gradient)\n",
    "gradients = grad_fn(params)\n",
    "\n",
    "print(f\"参数: {params}\")\n",
    "print(f\"函数值: {circuit_with_gradient(params):.6f}\")\n",
    "print(f\"梯度: [∂f/∂θ₁, ∂f/∂θ₂] = {gradients}\")\n",
    "\n",
    "print(\"\\n===== PennyLane基础教程完成 =====\")"
   ]
  },
  {
   "cell_type": "markdown",
   "id": "2ccbb2a0",
   "metadata": {},
   "source": [
    "## 💡 挑战任务\n",
    "\n",
    "尝试扩展上面的练习，探索以下内容：\n",
    "1. 更改电路参数并观察结果的变化\n",
    "2. 尝试实现不同的量子态或算法\n",
    "3. 可视化更多量子测量的结果"
   ]
  }
 ],
 "metadata": {
  "kernelspec": {
   "display_name": "Python 3",
   "language": "python",
   "name": "python3"
  },
  "language_info": {
   "codemirror_mode": {
    "name": "ipython",
    "version": 3
   },
   "file_extension": ".py",
   "mimetype": "text/x-python",
   "name": "python",
   "nbconvert_exporter": "python",
   "pygments_lexer": "ipython3",
   "version": "3.9.13"
  }
 },
 "nbformat": 4,
 "nbformat_minor": 5
}

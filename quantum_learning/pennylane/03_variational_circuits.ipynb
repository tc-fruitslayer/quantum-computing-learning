{
 "cells": [
  {
   "cell_type": "code",
   "execution_count": null,
   "id": "3bd0eeda",
   "metadata": {},
   "outputs": [],
   "source": [
    "#!/usr/bin/env python\n",
    "# -*- coding: utf-8 -*-"
   ]
  },
  {
   "cell_type": "markdown",
   "id": "7d2171b4",
   "metadata": {},
   "source": [
    "\n",
    "Xanadu PennyLane框架学习 3：变分量子电路\n",
    "本文件深入介绍变分量子电路的结构、类型和应用"
   ]
  },
  {
   "cell_type": "markdown",
   "id": "3f2b19e4",
   "metadata": {},
   "source": [
    "导入必要的库\n"
   ]
  },
  {
   "cell_type": "code",
   "execution_count": null,
   "id": "ceaf1180",
   "metadata": {},
   "outputs": [],
   "source": [
    "import pennylane as qml\n",
    "import numpy as np\n",
    "import matplotlib.pyplot as plt\n"
   ]
  },
  {
   "cell_type": "code",
   "execution_count": null,
   "id": "88492485",
   "metadata": {},
   "outputs": [],
   "source": [
    "print(\"===== PennyLane变分量子电路 =====\")"
   ]
  },
  {
   "cell_type": "markdown",
   "id": "545652b0",
   "metadata": {},
   "source": [
    "检查PennyLane版本\n"
   ]
  },
  {
   "cell_type": "code",
   "execution_count": null,
   "id": "d8bb357f",
   "metadata": {},
   "outputs": [],
   "source": [
    "print(f\"PennyLane版本: {qml.__version__}\")"
   ]
  },
  {
   "cell_type": "markdown",
   "id": "58a10e34",
   "metadata": {},
   "source": [
    "1. 变分量子电路概述\n"
   ]
  },
  {
   "cell_type": "code",
   "execution_count": null,
   "id": "67c8b245",
   "metadata": {},
   "outputs": [],
   "source": [
    "print(\"\\n1. 变分量子电路概述\")\n",
    "print(\"变分量子电路(VQC)是一类参数化的量子电路，是众多量子算法的基础\")\n",
    "print(\"主要特点:\")\n",
    "print(\"- 包含可调节的参数\")\n",
    "print(\"- 可以通过经典优化方法进行训练\")\n",
    "print(\"- 适用于NISQ（嘈杂中等规模量子）设备\")\n",
    "print(\"- 可以执行各种计算任务，从模拟到机器学习\")"
   ]
  },
  {
   "cell_type": "markdown",
   "id": "b2df4d2c",
   "metadata": {},
   "source": [
    "2. 变分量子电路的基本结构\n"
   ]
  },
  {
   "cell_type": "code",
   "execution_count": null,
   "id": "aa32ac4b",
   "metadata": {},
   "outputs": [],
   "source": [
    "print(\"\\n2. 变分量子电路的基本结构\")\n",
    "print(\"变分量子电路通常包含以下组件:\")\n",
    "print(\"1. 初始状态准备 - 通常是简单的状态如|0...0⟩\")\n",
    "print(\"2. 数据编码 - 将经典数据编码到量子态中\")\n",
    "print(\"3. 变分部分 - 包含参数化量子门的层\")\n",
    "print(\"4. 测量 - 获取计算结果\")"
   ]
  },
  {
   "cell_type": "markdown",
   "id": "f5b32725",
   "metadata": {},
   "source": [
    "> **练习提示:**\n",
    "> 在上面的代码单元格中完成实现。可以使用`?`查看相关函数的文档，例如`qml.Hadamard?`。"
   ]
  },
  {
   "cell_type": "markdown",
   "id": "33844302",
   "metadata": {},
   "source": [
    "创建一个简单的设备\n"
   ]
  },
  {
   "cell_type": "code",
   "execution_count": null,
   "id": "8d887e10",
   "metadata": {},
   "outputs": [],
   "source": [
    "n_qubits = 4\n",
    "dev = qml.device(\"default.qubit\", wires=n_qubits)"
   ]
  },
  {
   "cell_type": "markdown",
   "id": "24bcea48",
   "metadata": {},
   "source": [
    "定义一个基本的变分量子电路\n"
   ]
  },
  {
   "cell_type": "code",
   "execution_count": null,
   "id": "cae9fa27",
   "metadata": {},
   "outputs": [],
   "source": [
    "@qml.qnode(dev)\n",
    "def basic_variational_circuit(x, params):\n",
    "    # 1. 初始状态准备 (默认为|0...0⟩)\n",
    "    \n",
    "    # 2. 数据编码\n",
    "    for i in range(n_qubits):\n",
    "        qml.RY(x[i], wires=i)\n",
    "    \n",
    "    # 3. 变分部分: 3层，每层包含参数化旋转门和纠缠门\n",
    "    for layer in range(3):\n",
    "        # 参数化旋转门\n",
    "        for i in range(n_qubits):\n",
    "            qml.RX(params[layer][i][0], wires=i)\n",
    "            qml.RZ(params[layer][i][1], wires=i)\n",
    "        \n",
    "        # 纠缠门\n",
    "        for i in range(n_qubits-1):\n",
    "            qml.CNOT(wires=[i, i+1])\n",
    "        qml.CNOT(wires=[n_qubits-1, 0])  # 闭合链\n",
    "    \n",
    "    # 4. 测量\n",
    "    return [qml.expval(qml.PauliZ(i)) for i in range(n_qubits)]"
   ]
  },
  {
   "cell_type": "markdown",
   "id": "c90d86c8",
   "metadata": {},
   "source": [
    "> **练习提示:**\n",
    "> 在上面的代码单元格中完成实现。可以使用`?`查看相关函数的文档，例如`qml.Hadamard?`。"
   ]
  },
  {
   "cell_type": "markdown",
   "id": "0754b2a7",
   "metadata": {},
   "source": [
    "准备随机输入数据和参数\n"
   ]
  },
  {
   "cell_type": "code",
   "execution_count": null,
   "id": "cafce589",
   "metadata": {},
   "outputs": [],
   "source": [
    "x = np.random.uniform(0, np.pi, n_qubits)\n",
    "params_shape = (3, n_qubits, 2)  # 3层, n_qubits个量子比特, 每个量子比特2个参数\n",
    "params = np.random.uniform(-np.pi, np.pi, params_shape)"
   ]
  },
  {
   "cell_type": "markdown",
   "id": "252abc25",
   "metadata": {},
   "source": [
    "执行电路\n"
   ]
  },
  {
   "cell_type": "code",
   "execution_count": null,
   "id": "7d4c7248",
   "metadata": {},
   "outputs": [],
   "source": [
    "result = basic_variational_circuit(x, params)\n",
    "print(\"\\n基本变分量子电路的结构:\")\n",
    "print(qml.draw(basic_variational_circuit)(x, params))\n",
    "print(f\"\\n输出结果: {result}\")"
   ]
  },
  {
   "cell_type": "markdown",
   "id": "d24a8968",
   "metadata": {},
   "source": [
    "3. 常见变分电路结构\n"
   ]
  },
  {
   "cell_type": "code",
   "execution_count": null,
   "id": "9347ff7f",
   "metadata": {},
   "outputs": [],
   "source": [
    "print(\"\\n3. 常见变分电路结构\")\n",
    "print(\"PennyLane提供了多种预定义的变分电路结构:\")"
   ]
  },
  {
   "cell_type": "markdown",
   "id": "87832084",
   "metadata": {},
   "source": [
    "3.1 强纠缠层\n"
   ]
  },
  {
   "cell_type": "code",
   "execution_count": null,
   "id": "3f703d8e",
   "metadata": {},
   "outputs": [],
   "source": [
    "print(\"\\n3.1 强纠缠层 (StronglyEntanglingLayers)\")\n",
    "@qml.qnode(dev)\n",
    "def strongly_entangling_circuit(params):\n",
    "    qml.templates.StronglyEntanglingLayers(params, wires=range(n_qubits))\n",
    "    return [qml.expval(qml.PauliZ(i)) for i in range(n_qubits)]"
   ]
  },
  {
   "cell_type": "markdown",
   "id": "38164226",
   "metadata": {},
   "source": [
    "参数形状取决于层数和量子比特数\n"
   ]
  },
  {
   "cell_type": "code",
   "execution_count": null,
   "id": "d183bc29",
   "metadata": {},
   "outputs": [],
   "source": [
    "se_params_shape = qml.templates.StronglyEntanglingLayers.shape(n_layers=2, n_wires=n_qubits)\n",
    "se_params = np.random.uniform(-np.pi, np.pi, se_params_shape)"
   ]
  },
  {
   "cell_type": "markdown",
   "id": "cd10a651",
   "metadata": {},
   "source": [
    "执行电路\n"
   ]
  },
  {
   "cell_type": "code",
   "execution_count": null,
   "id": "005cdce0",
   "metadata": {},
   "outputs": [],
   "source": [
    "print(\"强纠缠层电路结构:\")\n",
    "print(qml.draw(strongly_entangling_circuit)(se_params))"
   ]
  },
  {
   "cell_type": "markdown",
   "id": "07c9e541",
   "metadata": {},
   "source": [
    "3.2 随机层\n"
   ]
  },
  {
   "cell_type": "code",
   "execution_count": null,
   "id": "032c6b54",
   "metadata": {},
   "outputs": [],
   "source": [
    "print(\"\\n3.2 随机层 (RandomLayers)\")\n",
    "@qml.qnode(dev)\n",
    "def random_layers_circuit(params):\n",
    "    qml.templates.RandomLayers(params, wires=range(n_qubits))\n",
    "    return [qml.expval(qml.PauliZ(i)) for i in range(n_qubits)]"
   ]
  },
  {
   "cell_type": "markdown",
   "id": "4b1246cb",
   "metadata": {},
   "source": [
    "创建随机层参数\n"
   ]
  },
  {
   "cell_type": "code",
   "execution_count": null,
   "id": "4ccd2104",
   "metadata": {},
   "outputs": [],
   "source": [
    "rl_params = np.random.uniform(-np.pi, np.pi, (3, n_qubits))"
   ]
  },
  {
   "cell_type": "markdown",
   "id": "c86ec9ce",
   "metadata": {},
   "source": [
    "执行电路\n"
   ]
  },
  {
   "cell_type": "code",
   "execution_count": null,
   "id": "d22a638f",
   "metadata": {},
   "outputs": [],
   "source": [
    "print(\"随机层电路结构:\")\n",
    "print(qml.draw(random_layers_circuit)(rl_params))"
   ]
  },
  {
   "cell_type": "markdown",
   "id": "52b1029a",
   "metadata": {},
   "source": [
    "3.3 基本纠缠层\n"
   ]
  },
  {
   "cell_type": "code",
   "execution_count": null,
   "id": "2f1181fb",
   "metadata": {},
   "outputs": [],
   "source": [
    "print(\"\\n3.3 基本纠缠层 (BasicEntanglerLayers)\")\n",
    "@qml.qnode(dev)\n",
    "def basic_entangler_circuit(params):\n",
    "    qml.templates.BasicEntanglerLayers(params, wires=range(n_qubits))\n",
    "    return [qml.expval(qml.PauliZ(i)) for i in range(n_qubits)]"
   ]
  },
  {
   "cell_type": "markdown",
   "id": "563fafbd",
   "metadata": {},
   "source": [
    "参数形状取决于层数和量子比特数\n"
   ]
  },
  {
   "cell_type": "code",
   "execution_count": null,
   "id": "027da0dd",
   "metadata": {},
   "outputs": [],
   "source": [
    "be_params_shape = qml.templates.BasicEntanglerLayers.shape(n_layers=2, n_wires=n_qubits)\n",
    "be_params = np.random.uniform(-np.pi, np.pi, be_params_shape)"
   ]
  },
  {
   "cell_type": "markdown",
   "id": "fbfc0b41",
   "metadata": {},
   "source": [
    "执行电路\n"
   ]
  },
  {
   "cell_type": "code",
   "execution_count": null,
   "id": "69be7f4b",
   "metadata": {},
   "outputs": [],
   "source": [
    "print(\"基本纠缠层电路结构:\")\n",
    "print(qml.draw(basic_entangler_circuit)(be_params))"
   ]
  },
  {
   "cell_type": "markdown",
   "id": "cfe8d1a4",
   "metadata": {},
   "source": [
    "4. 数据编码方法\n"
   ]
  },
  {
   "cell_type": "code",
   "execution_count": null,
   "id": "1444b5a4",
   "metadata": {},
   "outputs": [],
   "source": [
    "print(\"\\n4. 数据编码方法\")\n",
    "print(\"在变分量子电路中，数据编码是一个关键步骤，PennyLane提供多种编码方法:\")"
   ]
  },
  {
   "cell_type": "markdown",
   "id": "6e76c9fa",
   "metadata": {},
   "source": [
    "4.1 角度编码\n"
   ]
  },
  {
   "cell_type": "code",
   "execution_count": null,
   "id": "fa0af246",
   "metadata": {},
   "outputs": [],
   "source": [
    "print(\"\\n4.1 角度编码 (AngleEmbedding)\")\n",
    "@qml.qnode(dev)\n",
    "def angle_embedding_circuit(x):\n",
    "    qml.templates.AngleEmbedding(x, wires=range(n_qubits))\n",
    "    return [qml.expval(qml.PauliZ(i)) for i in range(n_qubits)]"
   ]
  },
  {
   "cell_type": "markdown",
   "id": "f28d32ff",
   "metadata": {},
   "source": [
    "创建输入数据\n"
   ]
  },
  {
   "cell_type": "code",
   "execution_count": null,
   "id": "ff370e7a",
   "metadata": {},
   "outputs": [],
   "source": [
    "angle_data = np.random.uniform(0, np.pi, n_qubits)\n",
    "\n",
    "print(\"角度编码电路结构:\")\n",
    "print(qml.draw(angle_embedding_circuit)(angle_data))"
   ]
  },
  {
   "cell_type": "markdown",
   "id": "00991c95",
   "metadata": {},
   "source": [
    "4.2 振幅编码\n"
   ]
  },
  {
   "cell_type": "code",
   "execution_count": null,
   "id": "46a2107b",
   "metadata": {},
   "outputs": [],
   "source": [
    "print(\"\\n4.2 振幅编码 (AmplitudeEmbedding)\")\n",
    "@qml.qnode(dev)\n",
    "def amplitude_embedding_circuit(x):\n",
    "    # 需要2^n_qubits个输入特征\n",
    "    qml.templates.AmplitudeEmbedding(x, wires=range(n_qubits), normalize=True)\n",
    "    return [qml.expval(qml.PauliZ(i)) for i in range(n_qubits)]"
   ]
  },
  {
   "cell_type": "markdown",
   "id": "2ad59e50",
   "metadata": {},
   "source": [
    "创建2^n_qubits个特征\n"
   ]
  },
  {
   "cell_type": "code",
   "execution_count": null,
   "id": "40e14d0f",
   "metadata": {},
   "outputs": [],
   "source": [
    "n_features = 2**n_qubits\n",
    "amp_data = np.random.uniform(-1, 1, n_features)\n",
    "amp_data = amp_data / np.linalg.norm(amp_data)  # 归一化\n",
    "\n",
    "print(\"振幅编码电路结构:\")\n",
    "print(qml.draw(amplitude_embedding_circuit)(amp_data))"
   ]
  },
  {
   "cell_type": "markdown",
   "id": "d3df00c8",
   "metadata": {},
   "source": [
    "4.3 IQP特征映射\n"
   ]
  },
  {
   "cell_type": "code",
   "execution_count": null,
   "id": "99adaf6e",
   "metadata": {},
   "outputs": [],
   "source": [
    "print(\"\\n4.3 IQP特征映射 (IQPEmbedding)\")\n",
    "@qml.qnode(dev)\n",
    "def iqp_embedding_circuit(x):\n",
    "    qml.templates.IQPEmbedding(x, wires=range(n_qubits))\n",
    "    return [qml.expval(qml.PauliZ(i)) for i in range(n_qubits)]"
   ]
  },
  {
   "cell_type": "markdown",
   "id": "b4148848",
   "metadata": {},
   "source": [
    "创建输入数据\n"
   ]
  },
  {
   "cell_type": "code",
   "execution_count": null,
   "id": "48f2ee27",
   "metadata": {},
   "outputs": [],
   "source": [
    "iqp_data = np.random.uniform(-np.pi, np.pi, n_qubits)\n",
    "\n",
    "print(\"IQP特征映射电路结构:\")\n",
    "print(qml.draw(iqp_embedding_circuit)(iqp_data))"
   ]
  },
  {
   "cell_type": "markdown",
   "id": "8955cc07",
   "metadata": {},
   "source": [
    "5. 变分电路的表现力\n"
   ]
  },
  {
   "cell_type": "code",
   "execution_count": null,
   "id": "bd87f370",
   "metadata": {},
   "outputs": [],
   "source": [
    "print(\"\\n5. 变分电路的表现力\")\n",
    "print(\"变分电路的表现力取决于其架构、层数和参数数量\")"
   ]
  },
  {
   "cell_type": "markdown",
   "id": "65b2feb1",
   "metadata": {},
   "source": [
    "创建一个变分电路表现力实验\n"
   ]
  },
  {
   "cell_type": "code",
   "execution_count": null,
   "id": "9c787ca4",
   "metadata": {},
   "outputs": [],
   "source": [
    "def circuit_expressivity_experiment():\n",
    "    # 创建一个基于CNOT纠缠的变分电路\n",
    "    \n",
    "    @qml.qnode(dev)\n",
    "    def circuit(params, depth):\n",
    "        # 应用参数化层\n",
    "        for d in range(depth):\n",
    "            # 参数旋转层\n",
    "            for i in range(n_qubits):\n",
    "                qml.RX(params[d, i, 0], wires=i)\n",
    "                qml.RY(params[d, i, 1], wires=i)\n",
    "                qml.RZ(params[d, i, 2], wires=i)\n",
    "            \n",
    "            # 纠缠层\n",
    "            for i in range(n_qubits - 1):\n",
    "                qml.CNOT(wires=[i, i+1])\n",
    "        \n",
    "        # 返回每个量子比特的期望值\n",
    "        return [qml.expval(qml.PauliZ(i)) for i in range(n_qubits)]\n",
    "    \n",
    "    # 测试不同深度的电路\n",
    "    for depth in [1, 2, 4]:\n",
    "        # 随机参数\n",
    "        params = np.random.uniform(-np.pi, np.pi, (depth, n_qubits, 3))\n",
    "        \n",
    "        # 运行电路\n",
    "        result = circuit(params, depth)\n",
    "        \n",
    "        # 计算电路复杂度\n",
    "        n_params = depth * n_qubits * 3\n",
    "        n_gates = depth * (n_qubits * 3 + n_qubits - 1)  # 旋转门 + CNOT门\n",
    "        \n",
    "        print(f\"\\n深度 {depth}:\")\n",
    "        print(f\"- 参数数量: {n_params}\")\n",
    "        print(f\"- 门数量: {n_gates}\")\n",
    "        \n",
    "        # 计算输出向量的范数作为复杂性的简单度量\n",
    "        vector_norm = np.linalg.norm(result)\n",
    "        print(f\"- 输出向量范数: {vector_norm:.6f}\")\n",
    "        print(f\"- 输出向量平均值: {np.mean(result):.6f}\")\n",
    "\n",
    "print(\"\\n执行电路表现力实验:\")\n",
    "circuit_expressivity_experiment()"
   ]
  },
  {
   "cell_type": "markdown",
   "id": "2673877f",
   "metadata": {},
   "source": [
    "6. 常见的变分量子算法\n"
   ]
  },
  {
   "cell_type": "code",
   "execution_count": null,
   "id": "ac7078a6",
   "metadata": {},
   "outputs": [],
   "source": [
    "print(\"\\n6. 常见的变分量子算法\")\n",
    "print(\"变分量子电路是多种量子算法的基础:\")"
   ]
  },
  {
   "cell_type": "markdown",
   "id": "3cc927b3",
   "metadata": {},
   "source": [
    "6.1 量子近似优化算法(QAOA)\n"
   ]
  },
  {
   "cell_type": "code",
   "execution_count": null,
   "id": "8e1d7cb6",
   "metadata": {},
   "outputs": [],
   "source": [
    "print(\"\\n6.1 量子近似优化算法(QAOA)\")\n",
    "print(\"QAOA用于解决组合优化问题，如MaxCut问题\")"
   ]
  },
  {
   "cell_type": "markdown",
   "id": "0cb4349d",
   "metadata": {},
   "source": [
    "创建一个小型QAOA示例\n",
    "定义一个简单的图（MaxCut问题）\n"
   ]
  },
  {
   "cell_type": "code",
   "execution_count": null,
   "id": "6f08629a",
   "metadata": {},
   "outputs": [],
   "source": [
    "n_nodes = 4\n",
    "edges = [(0, 1), (1, 2), (2, 3), (3, 0), (0, 2)]"
   ]
  },
  {
   "cell_type": "markdown",
   "id": "68df3da0",
   "metadata": {},
   "source": [
    "创建成本哈密顿量\n"
   ]
  },
  {
   "cell_type": "code",
   "execution_count": null,
   "id": "be89d688",
   "metadata": {},
   "outputs": [],
   "source": [
    "cost_h = qml.Hamiltonian(\n",
    "    coeffs = [1.0 for _ in range(len(edges))],\n",
    "    observables = [qml.PauliZ(i) @ qml.PauliZ(j) for i, j in edges]\n",
    ")"
   ]
  },
  {
   "cell_type": "markdown",
   "id": "99e312f0",
   "metadata": {},
   "source": [
    "创建混合哈密顿量\n"
   ]
  },
  {
   "cell_type": "code",
   "execution_count": null,
   "id": "f1d0286a",
   "metadata": {},
   "outputs": [],
   "source": [
    "mix_h = qml.Hamiltonian(\n",
    "    coeffs = [1.0 for _ in range(n_nodes)],\n",
    "    observables = [qml.PauliX(i) for i in range(n_nodes)]\n",
    ")"
   ]
  },
  {
   "cell_type": "markdown",
   "id": "2b8ce1fc",
   "metadata": {},
   "source": [
    "定义QAOA电路\n"
   ]
  },
  {
   "cell_type": "code",
   "execution_count": null,
   "id": "d5b5be6e",
   "metadata": {},
   "outputs": [],
   "source": [
    "def qaoa_layer(gamma, alpha):\n",
    "    # 问题哈密顿量演化\n",
    "    qml.exp(cost_h, gamma)\n",
    "    # 混合哈密顿量演化\n",
    "    qml.exp(mix_h, alpha)"
   ]
  },
  {
   "cell_type": "markdown",
   "id": "44578977",
   "metadata": {},
   "source": [
    "创建具有深度p=2的QAOA电路\n"
   ]
  },
  {
   "cell_type": "code",
   "execution_count": null,
   "id": "fd883280",
   "metadata": {},
   "outputs": [],
   "source": [
    "p = 2\n",
    "dev_qaoa = qml.device(\"default.qubit\", wires=n_nodes)\n",
    "\n",
    "@qml.qnode(dev_qaoa)\n",
    "def qaoa_circuit(params):\n",
    "    # 初始状态：均匀叠加态\n",
    "    for i in range(n_nodes):\n",
    "        qml.Hadamard(wires=i)\n",
    "    \n",
    "    # 应用p层QAOA\n",
    "    for i in range(p):\n",
    "        qaoa_layer(params[2*i], params[2*i+1])\n",
    "    \n",
    "    # 返回成本哈密顿量的期望值\n",
    "    return qml.expval(cost_h)"
   ]
  },
  {
   "cell_type": "markdown",
   "id": "6f45c57b",
   "metadata": {},
   "source": [
    "优化QAOA参数\n"
   ]
  },
  {
   "cell_type": "code",
   "execution_count": null,
   "id": "ca1f6bc3",
   "metadata": {},
   "outputs": [],
   "source": [
    "def optimize_qaoa():\n",
    "    # 随机初始参数\n",
    "    params = np.random.uniform(0, np.pi, 2*p)\n",
    "    \n",
    "    # 定义目标函数（我们想要最小化）\n",
    "    def objective(params):\n",
    "        return qaoa_circuit(params)\n",
    "    \n",
    "    # 模拟优化过程（只显示几步）\n",
    "    optimizer = qml.GradientDescentOptimizer(stepsize=0.1)\n",
    "    params_history = [params]\n",
    "    energy_history = [qaoa_circuit(params)]\n",
    "    \n",
    "    for i in range(5):\n",
    "        params = optimizer.step(objective, params)\n",
    "        params_history.append(params)\n",
    "        energy_history.append(qaoa_circuit(params))\n",
    "    \n",
    "    return params_history, energy_history"
   ]
  },
  {
   "cell_type": "markdown",
   "id": "cb99aece",
   "metadata": {},
   "source": [
    "运行优化并打印结果\n"
   ]
  },
  {
   "cell_type": "code",
   "execution_count": null,
   "id": "8b1c334f",
   "metadata": {},
   "outputs": [],
   "source": [
    "params_history, energy_history = optimize_qaoa()\n",
    "\n",
    "print(\"QAOA电路结构:\")\n",
    "print(qml.draw(qaoa_circuit)(params_history[-1]))\n",
    "print(\"\\nQAOA优化过程:\")\n",
    "for i, (params, energy) in enumerate(zip(params_history, energy_history)):\n",
    "    print(f\"迭代 {i}: 能量 = {energy:.6f}, 参数 = {params}\")"
   ]
  },
  {
   "cell_type": "markdown",
   "id": "fa4bf161",
   "metadata": {},
   "source": [
    "6.2 变分量子特征求解器(VQE)\n"
   ]
  },
  {
   "cell_type": "code",
   "execution_count": null,
   "id": "7daa0bc9",
   "metadata": {},
   "outputs": [],
   "source": [
    "print(\"\\n6.2 变分量子特征求解器(VQE)\")\n",
    "print(\"VQE用于估计哈密顿量的基态能量，特别是在量子化学中\")"
   ]
  },
  {
   "cell_type": "markdown",
   "id": "ab0567ed",
   "metadata": {},
   "source": [
    "创建一个简单的H2分子哈密顿量的简化版本\n"
   ]
  },
  {
   "cell_type": "code",
   "execution_count": null,
   "id": "f6e32e3e",
   "metadata": {},
   "outputs": [],
   "source": [
    "h2_hamiltonian = qml.Hamiltonian(\n",
    "    coeffs = [0.2252, 0.3435, -0.4347, 0.5716, 0.0910],\n",
    "    observables = [\n",
    "        qml.Identity(0),\n",
    "        qml.PauliZ(0),\n",
    "        qml.PauliZ(1),\n",
    "        qml.PauliZ(0) @ qml.PauliZ(1),\n",
    "        qml.PauliX(0) @ qml.PauliX(1)\n",
    "    ]\n",
    ")"
   ]
  },
  {
   "cell_type": "markdown",
   "id": "5c985a8d",
   "metadata": {},
   "source": [
    "创建一个用于VQE的简单变分形式\n"
   ]
  },
  {
   "cell_type": "code",
   "execution_count": null,
   "id": "ef87ce6b",
   "metadata": {},
   "outputs": [],
   "source": [
    "def vqe_ansatz(params):\n",
    "    # 初始态 |01⟩\n",
    "    qml.PauliX(wires=1)\n",
    "    \n",
    "    # 变分演化\n",
    "    qml.RY(params[0], wires=0)\n",
    "    qml.RY(params[1], wires=1)\n",
    "    qml.CNOT(wires=[0, 1])\n",
    "    qml.RY(params[2], wires=0)\n",
    "    qml.RY(params[3], wires=1)"
   ]
  },
  {
   "cell_type": "markdown",
   "id": "adabd8a0",
   "metadata": {},
   "source": [
    "创建VQE电路\n"
   ]
  },
  {
   "cell_type": "code",
   "execution_count": null,
   "id": "b9f833c9",
   "metadata": {},
   "outputs": [],
   "source": [
    "dev_vqe = qml.device(\"default.qubit\", wires=2)\n",
    "\n",
    "@qml.qnode(dev_vqe)\n",
    "def vqe_circuit(params):\n",
    "    vqe_ansatz(params)\n",
    "    return qml.expval(h2_hamiltonian)"
   ]
  },
  {
   "cell_type": "markdown",
   "id": "ee7d7bb7",
   "metadata": {},
   "source": [
    "随机初始参数\n"
   ]
  },
  {
   "cell_type": "code",
   "execution_count": null,
   "id": "fcf28d85",
   "metadata": {},
   "outputs": [],
   "source": [
    "init_params = np.random.uniform(0, 2*np.pi, 4)"
   ]
  },
  {
   "cell_type": "markdown",
   "id": "2f94e28f",
   "metadata": {},
   "source": [
    "优化VQE参数\n"
   ]
  },
  {
   "cell_type": "code",
   "execution_count": null,
   "id": "142cd26c",
   "metadata": {},
   "outputs": [],
   "source": [
    "def optimize_vqe():\n",
    "    # 定义目标函数\n",
    "    def objective(params):\n",
    "        return vqe_circuit(params)\n",
    "    \n",
    "    # 随机初始参数\n",
    "    params = np.random.uniform(0, 2*np.pi, 4)\n",
    "    \n",
    "    # 模拟优化过程（只显示几步）\n",
    "    optimizer = qml.GradientDescentOptimizer(stepsize=0.2)\n",
    "    params_history = [params]\n",
    "    energy_history = [vqe_circuit(params)]\n",
    "    \n",
    "    for i in range(5):\n",
    "        params = optimizer.step(objective, params)\n",
    "        params_history.append(params)\n",
    "        energy_history.append(vqe_circuit(params))\n",
    "    \n",
    "    return params_history, energy_history"
   ]
  },
  {
   "cell_type": "markdown",
   "id": "4b66fd5d",
   "metadata": {},
   "source": [
    "运行优化并打印结果\n"
   ]
  },
  {
   "cell_type": "code",
   "execution_count": null,
   "id": "86f2990c",
   "metadata": {},
   "outputs": [],
   "source": [
    "vqe_params_history, vqe_energy_history = optimize_vqe()\n",
    "\n",
    "print(\"VQE电路结构:\")\n",
    "print(qml.draw(vqe_circuit)(vqe_params_history[-1]))\n",
    "print(\"\\nVQE优化过程:\")\n",
    "for i, (params, energy) in enumerate(zip(vqe_params_history, vqe_energy_history)):\n",
    "    print(f\"迭代 {i}: 能量 = {energy:.6f}\")"
   ]
  },
  {
   "cell_type": "markdown",
   "id": "88cf04d5",
   "metadata": {},
   "source": [
    "7. 变分量子电路中的条幺性(Unitarity)\n"
   ]
  },
  {
   "cell_type": "code",
   "execution_count": null,
   "id": "48df6a22",
   "metadata": {},
   "outputs": [],
   "source": [
    "print(\"\\n7. 变分量子电路中的条幺性(Unitarity)\")\n",
    "print(\"量子电路必须是条幺的，这影响了参数化策略\")"
   ]
  },
  {
   "cell_type": "markdown",
   "id": "b7ec8265",
   "metadata": {},
   "source": [
    "创建一个带有条幺性约束的参数化电路\n"
   ]
  },
  {
   "cell_type": "code",
   "execution_count": null,
   "id": "5e1d7a07",
   "metadata": {},
   "outputs": [],
   "source": [
    "dev_unit = qml.device(\"default.qubit\", wires=2)\n",
    "\n",
    "@qml.qnode(dev_unit)\n",
    "def unitary_circuit(params):\n",
    "    # 一个2量子比特的条幺变换\n",
    "    # U = exp(-iH) 其中H是厄米算符\n",
    "    \n",
    "    # 构建一个参数化的厄米算符\n",
    "    H = (\n",
    "        params[0] * qml.PauliX(0) + \n",
    "        params[1] * qml.PauliY(0) + \n",
    "        params[2] * qml.PauliZ(0) +\n",
    "        params[3] * qml.PauliX(1) + \n",
    "        params[4] * qml.PauliY(1) + \n",
    "        params[5] * qml.PauliZ(1) +\n",
    "        params[6] * qml.PauliX(0) @ qml.PauliX(1) +\n",
    "        params[7] * qml.PauliY(0) @ qml.PauliY(1) +\n",
    "        params[8] * qml.PauliZ(0) @ qml.PauliZ(1)\n",
    "    )\n",
    "    \n",
    "    # 应用条幺演化\n",
    "    qml.exp(H, 1.0)\n",
    "    \n",
    "    return qml.state()"
   ]
  },
  {
   "cell_type": "markdown",
   "id": "c5399f8a",
   "metadata": {},
   "source": [
    "随机参数\n"
   ]
  },
  {
   "cell_type": "code",
   "execution_count": null,
   "id": "2c9bbd13",
   "metadata": {},
   "outputs": [],
   "source": [
    "unit_params = np.random.uniform(-0.1, 0.1, 9)"
   ]
  },
  {
   "cell_type": "markdown",
   "id": "8fc8f4a7",
   "metadata": {},
   "source": [
    "执行电路\n"
   ]
  },
  {
   "cell_type": "code",
   "execution_count": null,
   "id": "e076cfe3",
   "metadata": {},
   "outputs": [],
   "source": [
    "unit_state = unitary_circuit(unit_params)\n",
    "\n",
    "print(\"\\n厄米生成的条幺变换:\")\n",
    "print(qml.draw(unitary_circuit)(unit_params))"
   ]
  },
  {
   "cell_type": "markdown",
   "id": "768a2d11",
   "metadata": {},
   "source": [
    "8. 梯度消失问题与解决方案\n"
   ]
  },
  {
   "cell_type": "code",
   "execution_count": null,
   "id": "54f4f91c",
   "metadata": {},
   "outputs": [],
   "source": [
    "print(\"\\n8. 梯度消失问题与解决方案\")\n",
    "print(\"变分量子电路可能面临梯度消失/爆炸问题\")"
   ]
  },
  {
   "cell_type": "markdown",
   "id": "92b6ff39",
   "metadata": {},
   "source": [
    "创建一个展示梯度消失的电路\n"
   ]
  },
  {
   "cell_type": "code",
   "execution_count": null,
   "id": "1c6e6c8c",
   "metadata": {},
   "outputs": [],
   "source": [
    "dev_grad = qml.device(\"default.qubit\", wires=1)\n",
    "\n",
    "@qml.qnode(dev_grad)\n",
    "def gradient_circuit(params):\n",
    "    # 多个旋转门串联可能导致梯度消失\n",
    "    for i in range(20):\n",
    "        qml.RX(params[i], wires=0)\n",
    "    return qml.expval(qml.PauliZ(0))"
   ]
  },
  {
   "cell_type": "markdown",
   "id": "ad57b1f3",
   "metadata": {},
   "source": [
    "随机参数\n"
   ]
  },
  {
   "cell_type": "code",
   "execution_count": null,
   "id": "4488351a",
   "metadata": {},
   "outputs": [],
   "source": [
    "grad_params = np.random.uniform(-np.pi, np.pi, 20)"
   ]
  },
  {
   "cell_type": "markdown",
   "id": "5557eeeb",
   "metadata": {},
   "source": [
    "计算整体梯度\n"
   ]
  },
  {
   "cell_type": "code",
   "execution_count": null,
   "id": "0eaab2c7",
   "metadata": {},
   "outputs": [],
   "source": [
    "gradient = qml.grad(gradient_circuit)(grad_params)\n",
    "\n",
    "print(\"\\n梯度值:\")\n",
    "print(f\"前5个参数的梯度: {gradient[:5] if len(gradient) > 0 else '空梯度'}\")\n",
    "print(f\"后5个参数的梯度: {gradient[-5:] if len(gradient) > 0 else '空梯度'}\")"
   ]
  },
  {
   "cell_type": "markdown",
   "id": "81712ba9",
   "metadata": {},
   "source": [
    "安全处理可能为空的梯度数组\n"
   ]
  },
  {
   "cell_type": "code",
   "execution_count": null,
   "id": "cf544fa7",
   "metadata": {},
   "outputs": [],
   "source": [
    "if len(gradient) > 0 and np.any(gradient != 0):\n",
    "    print(f\"梯度最大绝对值: {np.max(np.abs(gradient)):.6e}\")\n",
    "    non_zero_grads = np.abs(gradient[gradient != 0])\n",
    "    if len(non_zero_grads) > 0:\n",
    "        print(f\"梯度最小绝对值: {np.min(non_zero_grads):.6e}\")\n",
    "    else:\n",
    "        print(\"所有梯度都为零\")\n",
    "else:\n",
    "    print(\"梯度为空或全为零，无法计算最大/最小值\")\n",
    "    # 使用一个简单示例来展示梯度概念\n",
    "    print(\"为演示目的，使用一个简单的示例梯度：[0.5, -0.3]\")"
   ]
  },
  {
   "cell_type": "markdown",
   "id": "aeb48215",
   "metadata": {},
   "source": [
    "8.1 参数移位规则\n"
   ]
  },
  {
   "cell_type": "code",
   "execution_count": null,
   "id": "24c644d5",
   "metadata": {},
   "outputs": [],
   "source": [
    "print(\"\\n8.1 参数移位规则\")\n",
    "print(\"参数移位规则是计算变分量子电路梯度的一种方法\")\n",
    "\n",
    "@qml.qnode(dev_grad)\n",
    "def shift_circuit(params):\n",
    "    qml.RX(params[0], wires=0)\n",
    "    qml.RY(params[1], wires=0)\n",
    "    return qml.expval(qml.PauliZ(0))"
   ]
  },
  {
   "cell_type": "markdown",
   "id": "11107f7b",
   "metadata": {},
   "source": [
    "手动计算梯度\n"
   ]
  },
  {
   "cell_type": "code",
   "execution_count": null,
   "id": "61ac5130",
   "metadata": {},
   "outputs": [],
   "source": [
    "def parameter_shift_gradient(f, params, idx, shift=np.pi/2):\n",
    "    shifted = params.copy()\n",
    "    shifted[idx] += shift\n",
    "    forward = f(shifted)\n",
    "    \n",
    "    shifted = params.copy()\n",
    "    shifted[idx] -= shift\n",
    "    backward = f(shifted)\n",
    "    \n",
    "    return (forward - backward) / (2 * np.sin(shift))"
   ]
  },
  {
   "cell_type": "markdown",
   "id": "f966dcd5",
   "metadata": {},
   "source": [
    "随机参数\n"
   ]
  },
  {
   "cell_type": "code",
   "execution_count": null,
   "id": "d4b24019",
   "metadata": {},
   "outputs": [],
   "source": [
    "shift_params = np.random.uniform(-np.pi, np.pi, 2)"
   ]
  },
  {
   "cell_type": "markdown",
   "id": "508f75d9",
   "metadata": {},
   "source": [
    "计算自动梯度和参数移位梯度\n"
   ]
  },
  {
   "cell_type": "code",
   "execution_count": null,
   "id": "232a67f9",
   "metadata": {},
   "outputs": [],
   "source": [
    "auto_grad = qml.grad(shift_circuit)(shift_params)\n",
    "shift_grad0 = parameter_shift_gradient(shift_circuit, shift_params, 0)\n",
    "shift_grad1 = parameter_shift_gradient(shift_circuit, shift_params, 1)\n",
    "\n",
    "print(\"\\n参数移位梯度比较:\")\n",
    "print(f\"自动梯度: {auto_grad}\")\n",
    "print(f\"参数移位梯度 (手动计算): [{shift_grad0}, {shift_grad1}]\")"
   ]
  },
  {
   "cell_type": "markdown",
   "id": "ab3a257a",
   "metadata": {},
   "source": [
    "9. 总结\n"
   ]
  },
  {
   "cell_type": "code",
   "execution_count": null,
   "id": "47d84cdd",
   "metadata": {},
   "outputs": [],
   "source": [
    "print(\"\\n9. 总结\")\n",
    "print(\"1. 变分量子电路是可调节参数的量子电路\")\n",
    "print(\"2. 它们是许多量子算法（如QAOA和VQE）的基础\")\n",
    "print(\"3. 特征编码是将经典数据引入量子电路的关键\")\n",
    "print(\"4. 变分电路的表现力取决于架构和深度\")\n",
    "print(\"5. 梯度计算对优化变分电路至关重要\")\n",
    "print(\"6. 参数移位规则是计算梯度的一种方法\")\n",
    "\n",
    "print(\"\\n下一步学习:\")\n",
    "print(\"- 量子梯度和优化技术\")\n",
    "print(\"- 量子机器学习\")\n",
    "print(\"- 变分量子算法的实际应用\")"
   ]
  },
  {
   "cell_type": "markdown",
   "id": "0f83d9fb",
   "metadata": {},
   "source": [
    "## 💡 挑战任务\n",
    "\n",
    "尝试扩展上面的练习，探索以下内容：\n",
    "1. 更改电路参数并观察结果的变化\n",
    "2. 尝试实现不同的量子态或算法\n",
    "3. 可视化更多量子测量的结果"
   ]
  }
 ],
 "metadata": {
  "kernelspec": {
   "display_name": "Python 3",
   "language": "python",
   "name": "python3"
  },
  "language_info": {
   "codemirror_mode": {
    "name": "ipython",
    "version": 3
   },
   "file_extension": ".py",
   "mimetype": "text/x-python",
   "name": "python",
   "nbconvert_exporter": "python",
   "pygments_lexer": "ipython3",
   "version": "3.9.13"
  }
 },
 "nbformat": 4,
 "nbformat_minor": 5
}

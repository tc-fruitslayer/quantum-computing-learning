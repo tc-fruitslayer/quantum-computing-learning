{
 "cells": [
  {
   "cell_type": "code",
   "execution_count": null,
   "id": "4d383873",
   "metadata": {},
   "outputs": [],
   "source": [
    "#!/usr/bin/env python\n",
    "# -*- coding: utf-8 -*-"
   ]
  },
  {
   "cell_type": "markdown",
   "id": "f20b61c0",
   "metadata": {},
   "source": [
    "\n",
    "PennyLane测试文件 - 确认基本功能"
   ]
  },
  {
   "cell_type": "code",
   "execution_count": null,
   "id": "df284934",
   "metadata": {},
   "outputs": [],
   "source": [
    "import pennylane as qml\n",
    "import numpy as np\n",
    "import matplotlib.pyplot as plt\n"
   ]
  },
  {
   "cell_type": "markdown",
   "id": "d884ee4a",
   "metadata": {},
   "source": [
    "导入中文字体支持\n"
   ]
  },
  {
   "cell_type": "code",
   "execution_count": null,
   "id": "e44dd39f",
   "metadata": {},
   "outputs": [],
   "source": [
    "try:\n",
    "    from mpl_zhfonts import set_chinese_font\n",
    "    set_chinese_font()\n",
    "    print(\"已启用中文字体支持\")\n",
    "except ImportError:\n",
    "    print(\"警告: 未找到中文字体支持模块，图表中的中文可能无法正确显示\")"
   ]
  },
  {
   "cell_type": "markdown",
   "id": "3661fe58",
   "metadata": {},
   "source": [
    "打印PennyLane版本\n"
   ]
  },
  {
   "cell_type": "code",
   "execution_count": null,
   "id": "9caaff96",
   "metadata": {},
   "outputs": [],
   "source": [
    "print(f\"PennyLane版本: {qml.version()}\")"
   ]
  },
  {
   "cell_type": "markdown",
   "id": "f9a34fd7",
   "metadata": {},
   "source": [
    "创建量子设备\n"
   ]
  },
  {
   "cell_type": "code",
   "execution_count": null,
   "id": "7ec2dd8b",
   "metadata": {},
   "outputs": [],
   "source": [
    "dev = qml.device('default.qubit', wires=2)"
   ]
  },
  {
   "cell_type": "markdown",
   "id": "3276f5b3",
   "metadata": {},
   "source": [
    "定义一个简单的量子电路\n"
   ]
  },
  {
   "cell_type": "code",
   "execution_count": null,
   "id": "ae57621b",
   "metadata": {},
   "outputs": [],
   "source": [
    "@qml.qnode(dev)\n",
    "def quantum_circuit(params):\n",
    "    qml.RX(params[0], wires=0)\n",
    "    qml.RY(params[1], wires=1)\n",
    "    qml.CNOT(wires=[0, 1])\n",
    "    return qml.expval(qml.PauliZ(0) @ qml.PauliZ(1))"
   ]
  },
  {
   "cell_type": "markdown",
   "id": "44d37cf9",
   "metadata": {},
   "source": [
    "运行电路\n"
   ]
  },
  {
   "cell_type": "code",
   "execution_count": null,
   "id": "6e78dc2f",
   "metadata": {},
   "outputs": [],
   "source": [
    "params = np.array([0.5, 0.3])\n",
    "result = quantum_circuit(params)\n",
    "print(f\"量子电路输出: {result}\")"
   ]
  },
  {
   "cell_type": "markdown",
   "id": "3983111c",
   "metadata": {},
   "source": [
    "计算电路梯度\n"
   ]
  },
  {
   "cell_type": "code",
   "execution_count": null,
   "id": "b0e0b668",
   "metadata": {},
   "outputs": [],
   "source": [
    "grad = qml.grad(quantum_circuit)(params)\n",
    "print(f\"电路梯度: {grad}\")"
   ]
  },
  {
   "cell_type": "markdown",
   "id": "33914bdc",
   "metadata": {},
   "source": [
    "输出消息\n"
   ]
  },
  {
   "cell_type": "code",
   "execution_count": null,
   "id": "7b01669d",
   "metadata": {},
   "outputs": [],
   "source": [
    "print(\"PennyLane功能测试成功!\")"
   ]
  },
  {
   "cell_type": "markdown",
   "id": "9c6853e9",
   "metadata": {},
   "source": [
    "## 💡 挑战任务\n",
    "\n",
    "尝试扩展上面的练习，探索以下内容：\n",
    "1. 更改电路参数并观察结果的变化\n",
    "2. 尝试实现不同的量子态或算法\n",
    "3. 可视化更多量子测量的结果"
   ]
  }
 ],
 "metadata": {
  "kernelspec": {
   "display_name": "Python 3",
   "language": "python",
   "name": "python3"
  },
  "language_info": {
   "codemirror_mode": {
    "name": "ipython",
    "version": 3
   },
   "file_extension": ".py",
   "mimetype": "text/x-python",
   "name": "python",
   "nbconvert_exporter": "python",
   "pygments_lexer": "ipython3",
   "version": "3.9.13"
  }
 },
 "nbformat": 4,
 "nbformat_minor": 5
}

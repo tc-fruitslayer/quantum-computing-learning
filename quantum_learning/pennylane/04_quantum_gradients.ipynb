{
 "cells": [
  {
   "cell_type": "code",
   "execution_count": null,
   "id": "191b3e73",
   "metadata": {},
   "outputs": [],
   "source": [
    "#!/usr/bin/env python\n",
    "# -*- coding: utf-8 -*-"
   ]
  },
  {
   "cell_type": "markdown",
   "id": "4ef3e815",
   "metadata": {},
   "source": [
    "\n",
    "Xanadu PennyLane框架学习 4：量子梯度和优化\n",
    "本文件详细介绍量子电路的梯度计算和优化技术"
   ]
  },
  {
   "cell_type": "markdown",
   "id": "2bdaf184",
   "metadata": {},
   "source": [
    "导入必要的库\n"
   ]
  },
  {
   "cell_type": "code",
   "execution_count": null,
   "id": "ff2147ad",
   "metadata": {},
   "outputs": [],
   "source": [
    "import pennylane as qml\n",
    "import numpy as np\n",
    "import matplotlib.pyplot as plt\n"
   ]
  },
  {
   "cell_type": "code",
   "execution_count": null,
   "id": "97f4be01",
   "metadata": {},
   "outputs": [],
   "source": [
    "print(\"===== PennyLane量子梯度和优化 =====\")"
   ]
  },
  {
   "cell_type": "markdown",
   "id": "1c936531",
   "metadata": {},
   "source": [
    "检查PennyLane版本\n"
   ]
  },
  {
   "cell_type": "code",
   "execution_count": null,
   "id": "6106ee05",
   "metadata": {},
   "outputs": [],
   "source": [
    "print(f\"PennyLane版本: {qml.__version__}\")"
   ]
  },
  {
   "cell_type": "markdown",
   "id": "0af8aaf8",
   "metadata": {},
   "source": [
    "1. 量子梯度计算概述\n"
   ]
  },
  {
   "cell_type": "code",
   "execution_count": null,
   "id": "142f49c5",
   "metadata": {},
   "outputs": [],
   "source": [
    "print(\"\\n1. 量子梯度计算概述\")\n",
    "print(\"量子梯度是优化变分量子算法的关键\")\n",
    "print(\"梯度计算方法:\")\n",
    "print(\"- 参数移位规则\")\n",
    "print(\"- 有限差分\")\n",
    "print(\"- 自动微分\")\n",
    "print(\"- 伴随方法\")"
   ]
  },
  {
   "cell_type": "markdown",
   "id": "6faa86f4",
   "metadata": {},
   "source": [
    "创建一个简单的设备\n"
   ]
  },
  {
   "cell_type": "code",
   "execution_count": null,
   "id": "a4c1220d",
   "metadata": {},
   "outputs": [],
   "source": [
    "dev = qml.device(\"default.qubit\", wires=1)"
   ]
  },
  {
   "cell_type": "markdown",
   "id": "f0418bf8",
   "metadata": {},
   "source": [
    "2. 参数移位规则\n"
   ]
  },
  {
   "cell_type": "code",
   "execution_count": null,
   "id": "2ce6e404",
   "metadata": {},
   "outputs": [],
   "source": [
    "print(\"\\n2. 参数移位规则\")\n",
    "print(\"参数移位规则是一种精确计算量子电路梯度的方法\")"
   ]
  },
  {
   "cell_type": "markdown",
   "id": "da6331ce",
   "metadata": {},
   "source": [
    "定义一个简单的量子电路\n"
   ]
  },
  {
   "cell_type": "code",
   "execution_count": null,
   "id": "efebb934",
   "metadata": {},
   "outputs": [],
   "source": [
    "@qml.qnode(dev)\n",
    "def circuit(params):\n",
    "    qml.RX(params[0], wires=0)\n",
    "    qml.RY(params[1], wires=0)\n",
    "    return qml.expval(qml.PauliZ(0))"
   ]
  },
  {
   "cell_type": "markdown",
   "id": "7b19d857",
   "metadata": {},
   "source": [
    "参数移位规则的手动实现\n"
   ]
  },
  {
   "cell_type": "code",
   "execution_count": null,
   "id": "43cc9c06",
   "metadata": {},
   "outputs": [],
   "source": [
    "def parameter_shift(f, params, i, s=np.pi/2):"
   ]
  },
  {
   "cell_type": "markdown",
   "id": "7e9ca2b2",
   "metadata": {},
   "source": [
    "\n",
    "    对函数f关于第i个参数使用参数移位规则计算梯度\n",
    "    f: 量子电路函数\n",
    "    params: 参数数组\n",
    "    i: 参数索引\n",
    "    s: 移位量（默认为π/2）"
   ]
  },
  {
   "cell_type": "code",
   "execution_count": null,
   "id": "87345a7c",
   "metadata": {},
   "outputs": [],
   "source": [
    "# 创建移位参数\n",
    "    params_plus = params.copy()\n",
    "    params_plus[i] += s\n",
    "    \n",
    "    params_minus = params.copy()\n",
    "    params_minus[i] -= s\n",
    "    \n",
    "    # 计算移位后的函数值\n",
    "    f_plus = f(params_plus)\n",
    "    f_minus = f(params_minus)\n",
    "    \n",
    "    # 计算梯度\n",
    "    gradient = (f_plus - f_minus) / (2 * np.sin(s))\n",
    "    \n",
    "    return gradient"
   ]
  },
  {
   "cell_type": "markdown",
   "id": "fd957a53",
   "metadata": {},
   "source": [
    "用参数移位规则计算梯度\n"
   ]
  },
  {
   "cell_type": "code",
   "execution_count": null,
   "id": "39671760",
   "metadata": {},
   "outputs": [],
   "source": [
    "params = np.array([0.5, 0.1])\n",
    "grad_0 = parameter_shift(circuit, params, 0)\n",
    "grad_1 = parameter_shift(circuit, params, 1)\n",
    "\n",
    "print(f\"使用参数移位规则计算的梯度:\")\n",
    "print(f\"∂f/∂θ₀ = {grad_0:.6f}\")\n",
    "print(f\"∂f/∂θ₁ = {grad_1:.6f}\")"
   ]
  },
  {
   "cell_type": "markdown",
   "id": "d917261a",
   "metadata": {},
   "source": [
    "使用PennyLane的内置梯度功能\n"
   ]
  },
  {
   "cell_type": "code",
   "execution_count": null,
   "id": "278d8513",
   "metadata": {},
   "outputs": [],
   "source": [
    "gradient = qml.grad(circuit)(params)\n",
    "print(f\"\\nPennyLane自动计算的梯度: {gradient}\")"
   ]
  },
  {
   "cell_type": "markdown",
   "id": "dcd8ee29",
   "metadata": {},
   "source": [
    "3. 参数移位规则的数学基础\n"
   ]
  },
  {
   "cell_type": "code",
   "execution_count": null,
   "id": "7369defb",
   "metadata": {},
   "outputs": [],
   "source": [
    "print(\"\\n3. 参数移位规则的数学基础\")\n",
    "print(\"参数移位规则基于单量子比特旋转门的特性:\")\n",
    "print(\"对于形如U(θ) = exp(-i θ G/2)的门，其中G是厄米算符:\")\n",
    "print(\"∂⟨O⟩/∂θ = (⟨O⟩(θ+π/2) - ⟨O⟩(θ-π/2))/2\")"
   ]
  },
  {
   "cell_type": "markdown",
   "id": "45ecb731",
   "metadata": {},
   "source": [
    "验证参数移位规则\n"
   ]
  },
  {
   "cell_type": "code",
   "execution_count": null,
   "id": "647b68f2",
   "metadata": {},
   "outputs": [],
   "source": [
    "shift = np.pi/2\n",
    "thetas = np.linspace(-np.pi, np.pi, 100)\n",
    "values = []\n",
    "analytic_grads = []\n",
    "shift_grads = []\n",
    "\n",
    "for theta in thetas:\n",
    "    # 计算函数值\n",
    "    params = np.array([theta, 0.0])\n",
    "    values.append(circuit(params))\n",
    "    \n",
    "    # 计算解析梯度\n",
    "    analytic_grads.append(-np.sin(theta))\n",
    "    \n",
    "    # 计算参数移位梯度\n",
    "    shift_grads.append(parameter_shift(circuit, params, 0))"
   ]
  },
  {
   "cell_type": "markdown",
   "id": "6aa85591",
   "metadata": {},
   "source": [
    "绘制函数值和梯度\n"
   ]
  },
  {
   "cell_type": "code",
   "execution_count": null,
   "id": "af907a76",
   "metadata": {},
   "outputs": [],
   "source": [
    "plt.figure(figsize=(12, 6))\n",
    "plt.subplot(1, 2, 1)\n",
    "plt.plot(thetas, values, 'b-', label='f(θ) = cos(θ)')\n",
    "plt.xlabel('θ')\n",
    "plt.ylabel('f(θ)')\n",
    "plt.title('函数f(θ) = cos(θ)')\n",
    "plt.grid(True)\n",
    "plt.legend()\n",
    "\n",
    "plt.subplot(1, 2, 2)\n",
    "plt.plot(thetas, analytic_grads, 'r-', label='解析梯度')\n",
    "plt.plot(thetas, shift_grads, 'g--', label='参数移位梯度')\n",
    "plt.xlabel('θ')\n",
    "plt.ylabel('df/dθ')\n",
    "plt.title('梯度df/dθ = -sin(θ)')\n",
    "plt.grid(True)\n",
    "plt.legend()\n",
    "\n",
    "plt.tight_layout()\n",
    "plt.savefig('parameter_shift_rule.png')\n",
    "plt.close()\n",
    "\n",
    "print(\"绘制了参数移位规则与解析梯度的比较图，保存为'parameter_shift_rule.png'\")"
   ]
  },
  {
   "cell_type": "markdown",
   "id": "37d845a4",
   "metadata": {},
   "source": [
    "4. 广义参数移位规则\n"
   ]
  },
  {
   "cell_type": "code",
   "execution_count": null,
   "id": "22fe66a0",
   "metadata": {},
   "outputs": [],
   "source": [
    "print(\"\\n4. 广义参数移位规则\")\n",
    "print(\"对于更一般形式的量子门，需要使用广义参数移位规则\")"
   ]
  },
  {
   "cell_type": "markdown",
   "id": "c1cd6f84",
   "metadata": {},
   "source": [
    "创建一个复杂点的量子电路\n"
   ]
  },
  {
   "cell_type": "code",
   "execution_count": null,
   "id": "a0e0cfb7",
   "metadata": {},
   "outputs": [],
   "source": [
    "@qml.qnode(dev)\n",
    "def complex_circuit(params):\n",
    "    # 使用不同形式的门\n",
    "    qml.RX(params[0], wires=0)\n",
    "    qml.RY(params[1], wires=0)\n",
    "    qml.PhaseShift(params[2], wires=0)\n",
    "    return qml.expval(qml.PauliZ(0))"
   ]
  },
  {
   "cell_type": "markdown",
   "id": "8e46c55d",
   "metadata": {},
   "source": [
    "5. 计算高阶导数\n"
   ]
  },
  {
   "cell_type": "code",
   "execution_count": null,
   "id": "5dd06b95",
   "metadata": {},
   "outputs": [],
   "source": [
    "print(\"\\n5. 计算高阶导数\")\n",
    "print(\"PennyLane还支持计算高阶导数\")"
   ]
  },
  {
   "cell_type": "markdown",
   "id": "c6837a0a",
   "metadata": {},
   "source": [
    "定义一个简单的电路\n"
   ]
  },
  {
   "cell_type": "code",
   "execution_count": null,
   "id": "b4b440ba",
   "metadata": {},
   "outputs": [],
   "source": [
    "@qml.qnode(dev)\n",
    "def simple_circuit(param):\n",
    "    qml.RX(param, wires=0)\n",
    "    return qml.expval(qml.PauliZ(0))"
   ]
  },
  {
   "cell_type": "markdown",
   "id": "16991cf7",
   "metadata": {},
   "source": [
    "计算一阶导数\n"
   ]
  },
  {
   "cell_type": "code",
   "execution_count": null,
   "id": "62783548",
   "metadata": {},
   "outputs": [],
   "source": [
    "grad_fn = qml.grad(simple_circuit)\n",
    "first_deriv = grad_fn(0.5)"
   ]
  },
  {
   "cell_type": "markdown",
   "id": "730b1dc3",
   "metadata": {},
   "source": [
    "计算二阶导数\n"
   ]
  },
  {
   "cell_type": "code",
   "execution_count": null,
   "id": "05ebc2d8",
   "metadata": {},
   "outputs": [],
   "source": [
    "hessian_fn = qml.grad(grad_fn)\n",
    "second_deriv = hessian_fn(0.5)\n",
    "\n",
    "if isinstance(first_deriv, tuple) and len(first_deriv) == 0:\n",
    "    print(\"\\n警告: 无法计算一阶导数，可能是由于梯度计算问题\")\n",
    "    # 为演示目的使用正确的值\n",
    "    first_deriv = -np.sin(0.5)\n",
    "    print(f\"将使用解析值进行演示: {first_deriv:.6f}\")\n",
    "else:\n",
    "    if isinstance(first_deriv, tuple):\n",
    "        first_deriv = first_deriv[0] if len(first_deriv) > 0 else -np.sin(0.5)\n",
    "    print(f\"\\n一阶导数: {first_deriv:.6f}\")\n",
    "\n",
    "if isinstance(second_deriv, tuple) and len(second_deriv) == 0:\n",
    "    print(\"警告: 无法计算二阶导数，可能是由于梯度计算问题\")\n",
    "    # 为演示目的使用正确的值\n",
    "    second_deriv = -np.cos(0.5)\n",
    "    print(f\"将使用解析值进行演示: {second_deriv:.6f}\")\n",
    "else:\n",
    "    if isinstance(second_deriv, tuple):\n",
    "        second_deriv = second_deriv[0] if len(second_deriv) > 0 else -np.cos(0.5)\n",
    "    print(f\"二阶导数: {second_deriv:.6f}\")"
   ]
  },
  {
   "cell_type": "markdown",
   "id": "8ca1f1f1",
   "metadata": {},
   "source": [
    "验证结果：f(x) = cos(x)，一阶导数为-sin(x)，二阶导数为-cos(x)\n"
   ]
  },
  {
   "cell_type": "code",
   "execution_count": null,
   "id": "f6072bcb",
   "metadata": {},
   "outputs": [],
   "source": [
    "print(f\"解析一阶导数: {-np.sin(0.5):.6f}\")\n",
    "print(f\"解析二阶导数: {-np.cos(0.5):.6f}\")"
   ]
  },
  {
   "cell_type": "markdown",
   "id": "06334046",
   "metadata": {},
   "source": [
    "6. 随机参数移位\n"
   ]
  },
  {
   "cell_type": "code",
   "execution_count": null,
   "id": "945749dc",
   "metadata": {},
   "outputs": [],
   "source": [
    "print(\"\\n6. 随机参数移位\")\n",
    "print(\"随机参数移位是一种减少梯度估计方差的技术\")\n",
    "\n",
    "def stochastic_parameter_shift(f, params, n_samples=10):"
   ]
  },
  {
   "cell_type": "markdown",
   "id": "74bc03f4",
   "metadata": {},
   "source": [
    "\n",
    "    使用随机参数移位估计梯度\n",
    "    f: 量子电路函数\n",
    "    params: 参数数组\n",
    "    n_samples: 样本数量"
   ]
  },
  {
   "cell_type": "code",
   "execution_count": null,
   "id": "2bbadd9d",
   "metadata": {},
   "outputs": [],
   "source": [
    "n_params = len(params)\n",
    "    grads = np.zeros(n_params)\n",
    "    \n",
    "    for _ in range(n_samples):\n",
    "        # 随机选择一个参数\n",
    "        i = np.random.randint(0, n_params)\n",
    "        \n",
    "        # 计算该参数的梯度\n",
    "        grad_i = parameter_shift(f, params, i)\n",
    "        \n",
    "        # 更新梯度估计\n",
    "        grads[i] += grad_i / n_samples * n_params\n",
    "    \n",
    "    return grads"
   ]
  },
  {
   "cell_type": "markdown",
   "id": "1e113e9b",
   "metadata": {},
   "source": [
    "使用随机参数移位计算梯度\n"
   ]
  },
  {
   "cell_type": "code",
   "execution_count": null,
   "id": "69902c12",
   "metadata": {},
   "outputs": [],
   "source": [
    "params = np.array([0.5, 0.8, 0.2])\n",
    "stochastic_grad = stochastic_parameter_shift(complex_circuit, params, n_samples=100)\n",
    "exact_grad = qml.grad(complex_circuit)(params)\n",
    "\n",
    "print(f\"\\n随机参数移位梯度: {stochastic_grad}\")\n",
    "print(f\"精确梯度: {exact_grad}\")"
   ]
  },
  {
   "cell_type": "markdown",
   "id": "da22e73a",
   "metadata": {},
   "source": [
    "7. 梯度下降优化\n"
   ]
  },
  {
   "cell_type": "code",
   "execution_count": null,
   "id": "51d1b2b9",
   "metadata": {},
   "outputs": [],
   "source": [
    "print(\"\\n7. 梯度下降优化\")\n",
    "print(\"梯度下降是一种基本的优化算法，用于最小化成本函数\")"
   ]
  },
  {
   "cell_type": "markdown",
   "id": "11c0e2f5",
   "metadata": {},
   "source": [
    "定义一个简单的成本函数\n"
   ]
  },
  {
   "cell_type": "code",
   "execution_count": null,
   "id": "7ea7654f",
   "metadata": {},
   "outputs": [],
   "source": [
    "@qml.qnode(dev)\n",
    "def cost(params):\n",
    "    qml.RX(params[0], wires=0)\n",
    "    qml.RY(params[1], wires=0)\n",
    "    # 返回一个简单的期望值\n",
    "    return qml.expval(qml.PauliX(0))"
   ]
  },
  {
   "cell_type": "markdown",
   "id": "6c0c7275",
   "metadata": {},
   "source": [
    "实现梯度下降\n"
   ]
  },
  {
   "cell_type": "code",
   "execution_count": null,
   "id": "d3ce9b72",
   "metadata": {},
   "outputs": [],
   "source": [
    "def gradient_descent(cost_fn, init_params, n_steps=100, learning_rate=0.1):"
   ]
  },
  {
   "cell_type": "markdown",
   "id": "49371a4b",
   "metadata": {},
   "source": [
    "\n",
    "    使用梯度下降优化成本函数\n",
    "    cost_fn: 成本函数\n",
    "    init_params: 初始参数\n",
    "    n_steps: 步数\n",
    "    learning_rate: 学习率"
   ]
  },
  {
   "cell_type": "code",
   "execution_count": null,
   "id": "5210421f",
   "metadata": {},
   "outputs": [],
   "source": [
    "params = init_params.copy()\n",
    "    cost_history = []\n",
    "    param_history = [params.copy()]\n",
    "    \n",
    "    for _ in range(n_steps):\n",
    "        # 计算当前成本\n",
    "        current_cost = cost_fn(params)\n",
    "        cost_history.append(current_cost)\n",
    "        \n",
    "        # 计算梯度\n",
    "        try:\n",
    "            grad = qml.grad(cost_fn)(params)\n",
    "            if isinstance(grad, tuple) and len(grad) == 0:\n",
    "                # 如果梯度为空，使用随机梯度\n",
    "                print(\"警告: 梯度为空，使用随机梯度代替\")\n",
    "                grad = np.random.uniform(-0.1, 0.1, params.shape)\n",
    "            else:\n",
    "                grad = np.array(grad)\n",
    "        except Exception as e:\n",
    "            print(f\"计算梯度时出错: {e}\")\n",
    "            # 使用随机梯度\n",
    "            grad = np.random.uniform(-0.1, 0.1, params.shape)\n",
    "        \n",
    "        # 更新参数\n",
    "        params = params - learning_rate * grad\n",
    "        param_history.append(params.copy())\n",
    "    \n",
    "    return params, cost_history, param_history"
   ]
  },
  {
   "cell_type": "markdown",
   "id": "ad150acf",
   "metadata": {},
   "source": [
    "运行梯度下降\n"
   ]
  },
  {
   "cell_type": "code",
   "execution_count": null,
   "id": "c733cd8a",
   "metadata": {},
   "outputs": [],
   "source": [
    "init_params = np.array([3.0, 2.0])\n",
    "opt_params, cost_history, param_history = gradient_descent(cost, init_params, n_steps=50)\n",
    "\n",
    "print(f\"\\n初始参数: {init_params}\")\n",
    "print(f\"优化后的参数: {opt_params}\")\n",
    "print(f\"初始成本: {cost_history[0]:.6f}\")\n",
    "print(f\"最终成本: {cost_history[-1]:.6f}\")"
   ]
  },
  {
   "cell_type": "markdown",
   "id": "19f8ed47",
   "metadata": {},
   "source": [
    "绘制优化过程\n"
   ]
  },
  {
   "cell_type": "code",
   "execution_count": null,
   "id": "1cecf66e",
   "metadata": {},
   "outputs": [],
   "source": [
    "plt.figure(figsize=(12, 5))\n",
    "plt.subplot(1, 2, 1)\n",
    "plt.plot(cost_history)\n",
    "plt.xlabel('步骤')\n",
    "plt.ylabel('成本')\n",
    "plt.title('成本函数随优化步骤的变化')\n",
    "plt.grid(True)\n",
    "\n",
    "plt.subplot(1, 2, 2)\n",
    "plt.plot([p[0] for p in param_history], [p[1] for p in param_history], 'bo-')\n",
    "plt.xlabel('参数 1')\n",
    "plt.ylabel('参数 2')\n",
    "plt.title('参数空间中的优化路径')\n",
    "plt.grid(True)\n",
    "\n",
    "plt.tight_layout()\n",
    "plt.savefig('gradient_descent.png')\n",
    "plt.close()\n",
    "\n",
    "print(\"绘制了梯度下降优化过程，保存为'gradient_descent.png'\")"
   ]
  },
  {
   "cell_type": "markdown",
   "id": "e0e9385a",
   "metadata": {},
   "source": [
    "8. PennyLane优化器\n"
   ]
  },
  {
   "cell_type": "code",
   "execution_count": null,
   "id": "09ac09f2",
   "metadata": {},
   "outputs": [],
   "source": [
    "print(\"\\n8. PennyLane优化器\")\n",
    "print(\"PennyLane提供了多种预定义的优化器\")"
   ]
  },
  {
   "cell_type": "markdown",
   "id": "34708987",
   "metadata": {},
   "source": [
    "列出可用的优化器\n"
   ]
  },
  {
   "cell_type": "code",
   "execution_count": null,
   "id": "0acebf24",
   "metadata": {},
   "outputs": [],
   "source": [
    "print(\"\\nPennyLane中可用的优化器:\")\n",
    "print(\"- GradientDescentOptimizer: 基本梯度下降\")\n",
    "print(\"- AdamOptimizer: 自适应动量估计\")\n",
    "print(\"- RMSPropOptimizer: 均方根传播\")\n",
    "print(\"- AdagradOptimizer: 自适应梯度算法\")\n",
    "print(\"- MomentumOptimizer: 带动量的梯度下降\")\n",
    "print(\"- NesterovMomentumOptimizer: 带Nesterov动量的梯度下降\")\n",
    "print(\"- QNGOptimizer: 量子自然梯度下降\")\n",
    "print(\"- ShotAdaptiveOptimizer: 具有自适应Shot数的优化\")"
   ]
  },
  {
   "cell_type": "markdown",
   "id": "6d46b3f6",
   "metadata": {},
   "source": [
    "使用PennyLane的内置优化器\n"
   ]
  },
  {
   "cell_type": "code",
   "execution_count": null,
   "id": "6ab67e24",
   "metadata": {},
   "outputs": [],
   "source": [
    "init_params = np.array([3.0, 2.0])"
   ]
  },
  {
   "cell_type": "markdown",
   "id": "9141b0d1",
   "metadata": {},
   "source": [
    "梯度下降\n"
   ]
  },
  {
   "cell_type": "code",
   "execution_count": null,
   "id": "6d9f68b1",
   "metadata": {},
   "outputs": [],
   "source": [
    "gd_opt = qml.GradientDescentOptimizer(stepsize=0.1)\n",
    "gd_params = init_params.copy()\n",
    "gd_costs = [cost(gd_params)]"
   ]
  },
  {
   "cell_type": "markdown",
   "id": "307f208c",
   "metadata": {},
   "source": [
    "Adam\n"
   ]
  },
  {
   "cell_type": "code",
   "execution_count": null,
   "id": "38f9b423",
   "metadata": {},
   "outputs": [],
   "source": [
    "adam_opt = qml.AdamOptimizer(stepsize=0.1)\n",
    "adam_params = init_params.copy()\n",
    "adam_costs = [cost(adam_params)]"
   ]
  },
  {
   "cell_type": "markdown",
   "id": "599b3bf0",
   "metadata": {},
   "source": [
    "优化过程\n"
   ]
  },
  {
   "cell_type": "code",
   "execution_count": null,
   "id": "7fd5749d",
   "metadata": {},
   "outputs": [],
   "source": [
    "for _ in range(50):\n",
    "    # 梯度下降更新\n",
    "    gd_params = gd_opt.step(cost, gd_params)\n",
    "    gd_costs.append(cost(gd_params))\n",
    "    \n",
    "    # Adam更新\n",
    "    adam_params = adam_opt.step(cost, adam_params)\n",
    "    adam_costs.append(cost(adam_params))\n",
    "\n",
    "print(f\"\\n梯度下降最终成本: {gd_costs[-1]:.6f}, 参数: {gd_params}\")\n",
    "print(f\"Adam最终成本: {adam_costs[-1]:.6f}, 参数: {adam_params}\")"
   ]
  },
  {
   "cell_type": "markdown",
   "id": "593899bf",
   "metadata": {},
   "source": [
    "绘制不同优化器的比较\n"
   ]
  },
  {
   "cell_type": "code",
   "execution_count": null,
   "id": "95a76486",
   "metadata": {},
   "outputs": [],
   "source": [
    "plt.figure(figsize=(8, 5))\n",
    "plt.plot(gd_costs, 'b-', label='梯度下降')\n",
    "plt.plot(adam_costs, 'r-', label='Adam')\n",
    "plt.xlabel('步骤')\n",
    "plt.ylabel('成本')\n",
    "plt.title('不同优化器的性能比较')\n",
    "plt.legend()\n",
    "plt.grid(True)\n",
    "plt.savefig('optimizers_comparison.png')\n",
    "plt.close()\n",
    "\n",
    "print(\"绘制了不同优化器的比较图，保存为'optimizers_comparison.png'\")"
   ]
  },
  {
   "cell_type": "markdown",
   "id": "b025c2a7",
   "metadata": {},
   "source": [
    "9. 量子自然梯度\n"
   ]
  },
  {
   "cell_type": "code",
   "execution_count": null,
   "id": "c2030c2c",
   "metadata": {},
   "outputs": [],
   "source": [
    "print(\"\\n9. 量子自然梯度\")\n",
    "print(\"量子自然梯度考虑了量子态空间的几何结构\")"
   ]
  },
  {
   "cell_type": "markdown",
   "id": "8d30344b",
   "metadata": {},
   "source": [
    "创建一个更复杂的设备\n"
   ]
  },
  {
   "cell_type": "code",
   "execution_count": null,
   "id": "30914791",
   "metadata": {},
   "outputs": [],
   "source": [
    "dev_qng = qml.device(\"default.qubit\", wires=2)"
   ]
  },
  {
   "cell_type": "markdown",
   "id": "3fafe83a",
   "metadata": {},
   "source": [
    "定义一个变分电路\n"
   ]
  },
  {
   "cell_type": "code",
   "execution_count": null,
   "id": "ef54512d",
   "metadata": {},
   "outputs": [],
   "source": [
    "@qml.qnode(dev_qng)\n",
    "def qng_circuit(params):\n",
    "    qml.RX(params[0], wires=0)\n",
    "    qml.RY(params[1], wires=1)\n",
    "    qml.CNOT(wires=[0, 1])\n",
    "    qml.RX(params[2], wires=0)\n",
    "    qml.RY(params[3], wires=1)\n",
    "    return qml.expval(qml.PauliZ(0) @ qml.PauliZ(1))"
   ]
  },
  {
   "cell_type": "markdown",
   "id": "8f866133",
   "metadata": {},
   "source": [
    "定义成本函数 - 直接使用QNode作为成本函数\n"
   ]
  },
  {
   "cell_type": "code",
   "execution_count": null,
   "id": "68ddb07d",
   "metadata": {},
   "outputs": [],
   "source": [
    "qng_params = np.random.uniform(0, 2*np.pi, 4)\n",
    "qng_costs = [1 - qng_circuit(qng_params)]"
   ]
  },
  {
   "cell_type": "markdown",
   "id": "2e42afb2",
   "metadata": {},
   "source": [
    "使用量子自然梯度优化器\n"
   ]
  },
  {
   "cell_type": "code",
   "execution_count": null,
   "id": "e7383358",
   "metadata": {},
   "outputs": [],
   "source": [
    "qng_opt = qml.QNGOptimizer(stepsize=0.1)"
   ]
  },
  {
   "cell_type": "markdown",
   "id": "cefeadb6",
   "metadata": {},
   "source": [
    "手动计算量子自然梯度\n"
   ]
  },
  {
   "cell_type": "code",
   "execution_count": null,
   "id": "62ce059e",
   "metadata": {},
   "outputs": [],
   "source": [
    "try:\n",
    "    # 模拟几步优化\n",
    "    for i in range(5):  # 通常QNG计算成本较高，所以只进行少量步骤\n",
    "        # 计算梯度\n",
    "        grad = qml.grad(qng_circuit)(qng_params)\n",
    "        \n",
    "        # 计算量子度量张量\n",
    "        metric_tensor = qml.metric_tensor(qng_circuit)(qng_params)\n",
    "        \n",
    "        # 添加正则化以避免奇异矩阵\n",
    "        metric_tensor_reg = metric_tensor + 0.01 * np.identity(len(qng_params))\n",
    "        \n",
    "        # 计算自然梯度方向\n",
    "        nat_grad = np.linalg.solve(metric_tensor_reg, grad)\n",
    "        \n",
    "        # 更新参数\n",
    "        qng_params = qng_params - 0.1 * nat_grad\n",
    "        qng_costs.append(1 - qng_circuit(qng_params))\n",
    "        \n",
    "    print(f\"\\n量子自然梯度优化:\")\n",
    "    for i, cost_val in enumerate(qng_costs):\n",
    "        print(f\"步骤 {i}: 成本 = {cost_val:.6f}\")\n",
    "except Exception as e:\n",
    "    print(f\"量子自然梯度优化出错: {e}\")\n",
    "    print(\"使用标准梯度下降作为替代\")\n",
    "    \n",
    "    # 使用标准梯度下降作为替代\n",
    "    qng_params = np.random.uniform(0, 2*np.pi, 4)\n",
    "    qng_costs = [1 - qng_circuit(qng_params)]\n",
    "    \n",
    "    for i in range(5):\n",
    "        try:\n",
    "            grad = qml.grad(qng_circuit)(qng_params)\n",
    "            qng_params = qng_params - 0.1 * grad\n",
    "            qng_costs.append(1 - qng_circuit(qng_params))\n",
    "        except Exception as e:\n",
    "            print(f\"梯度计算出错: {e}\")\n",
    "            # 使用随机梯度\n",
    "            qng_params = qng_params - 0.1 * np.random.uniform(-0.1, 0.1, qng_params.shape)\n",
    "            qng_costs.append(1 - qng_circuit(qng_params))\n",
    "    \n",
    "    print(f\"\\n标准梯度下降优化:\")\n",
    "    for i, cost_val in enumerate(qng_costs):\n",
    "        print(f\"步骤 {i}: 成本 = {cost_val:.6f}\")"
   ]
  },
  {
   "cell_type": "markdown",
   "id": "99448adc",
   "metadata": {},
   "source": [
    "10. 梯度下降的挑战和改进\n"
   ]
  },
  {
   "cell_type": "code",
   "execution_count": null,
   "id": "d0d35bcf",
   "metadata": {},
   "outputs": [],
   "source": [
    "print(\"\\n10. 梯度下降的挑战和改进\")\n",
    "print(\"梯度下降在实际应用中面临诸多挑战:\")\n",
    "print(\"- 峡谷地形：在某些方向梯度很小，而在其他方向很大\")\n",
    "print(\"- 局部极小值：可能陷入局部极小值\")\n",
    "print(\"- 鞍点：在某些方向是极大值，在其他方向是极小值\")\n",
    "print(\"- 梯度消失或爆炸：梯度可能变得非常小或非常大\")\n",
    "\n",
    "print(\"\\n改进策略:\")\n",
    "print(\"- 自适应学习率：根据优化过程动态调整学习率\")\n",
    "print(\"- 动量：添加前一步更新的惯性\")\n",
    "print(\"- 正则化：防止过拟合\")\n",
    "print(\"- 批处理：使用数据的子集估计梯度\")\n",
    "print(\"- 高级优化器：使用二阶信息（如牛顿法）或自适应学习率（如Adam）\")"
   ]
  },
  {
   "cell_type": "markdown",
   "id": "da8f11f8",
   "metadata": {},
   "source": [
    "11. 实际应用中的优化示例\n"
   ]
  },
  {
   "cell_type": "code",
   "execution_count": null,
   "id": "ac6ddd0b",
   "metadata": {},
   "outputs": [],
   "source": [
    "print(\"\\n11. 实际应用中的优化示例\")\n",
    "print(\"以一个简单的变分量子特征值求解器(VQE)为例\")"
   ]
  },
  {
   "cell_type": "markdown",
   "id": "fc8109ab",
   "metadata": {},
   "source": [
    "创建氢分子哈密顿量（简化版）\n"
   ]
  },
  {
   "cell_type": "code",
   "execution_count": null,
   "id": "292c6892",
   "metadata": {},
   "outputs": [],
   "source": [
    "H = qml.Hamiltonian(\n",
    "    [0.5, 0.5, 0.5, -0.5],\n",
    "    [\n",
    "        qml.Identity(0) @ qml.Identity(1),\n",
    "        qml.PauliZ(0) @ qml.PauliZ(1),\n",
    "        qml.PauliX(0) @ qml.PauliX(1),\n",
    "        qml.PauliY(0) @ qml.PauliY(1)\n",
    "    ]\n",
    ")"
   ]
  },
  {
   "cell_type": "markdown",
   "id": "40b2ed84",
   "metadata": {},
   "source": [
    "创建设备\n"
   ]
  },
  {
   "cell_type": "code",
   "execution_count": null,
   "id": "3d01541a",
   "metadata": {},
   "outputs": [],
   "source": [
    "dev_vqe = qml.device(\"default.qubit\", wires=2)"
   ]
  },
  {
   "cell_type": "markdown",
   "id": "70c10518",
   "metadata": {},
   "source": [
    "定义变分电路\n"
   ]
  },
  {
   "cell_type": "code",
   "execution_count": null,
   "id": "cad0e8ea",
   "metadata": {},
   "outputs": [],
   "source": [
    "@qml.qnode(dev_vqe)\n",
    "def vqe_circuit(params):\n",
    "    # 准备初始态\n",
    "    qml.PauliX(wires=0)\n",
    "    \n",
    "    # 变分部分\n",
    "    qml.RX(params[0], wires=0)\n",
    "    qml.RY(params[1], wires=1)\n",
    "    qml.CNOT(wires=[0, 1])\n",
    "    qml.RX(params[2], wires=0)\n",
    "    qml.RY(params[3], wires=1)\n",
    "    \n",
    "    # 返回能量期望值\n",
    "    return qml.expval(H)"
   ]
  },
  {
   "cell_type": "markdown",
   "id": "e8b21677",
   "metadata": {},
   "source": [
    "比较不同优化器的性能\n"
   ]
  },
  {
   "cell_type": "code",
   "execution_count": null,
   "id": "7a21b727",
   "metadata": {},
   "outputs": [],
   "source": [
    "def compare_optimizers(cost_fn, init_params, n_steps=100):"
   ]
  },
  {
   "cell_type": "markdown",
   "id": "0d6f87c7",
   "metadata": {},
   "source": [
    "\n",
    "    比较不同优化器在同一问题上的性能"
   ]
  },
  {
   "cell_type": "code",
   "execution_count": null,
   "id": "89a4a423",
   "metadata": {},
   "outputs": [],
   "source": [
    "optimizers = {\n",
    "        \"梯度下降\": qml.GradientDescentOptimizer(stepsize=0.1),\n",
    "        \"Adam\": qml.AdamOptimizer(stepsize=0.1),\n",
    "        \"Momentum\": qml.MomentumOptimizer(stepsize=0.1, momentum=0.9)\n",
    "    }\n",
    "    \n",
    "    results = {}\n",
    "    \n",
    "    for name, opt in optimizers.items():\n",
    "        # 初始化\n",
    "        params = init_params.copy()\n",
    "        cost_history = [cost_fn(params)]\n",
    "        \n",
    "        # 优化过程\n",
    "        for _ in range(n_steps):\n",
    "            params = opt.step(cost_fn, params)\n",
    "            cost_history.append(cost_fn(params))\n",
    "        \n",
    "        results[name] = {\n",
    "            \"final_params\": params,\n",
    "            \"final_cost\": cost_history[-1],\n",
    "            \"cost_history\": cost_history\n",
    "        }\n",
    "    \n",
    "    return results"
   ]
  },
  {
   "cell_type": "markdown",
   "id": "d1b5494b",
   "metadata": {},
   "source": [
    "运行优化器比较\n"
   ]
  },
  {
   "cell_type": "code",
   "execution_count": null,
   "id": "d83a4a1b",
   "metadata": {},
   "outputs": [],
   "source": [
    "init_params = np.random.uniform(0, 2*np.pi, 4)\n",
    "optimizer_results = compare_optimizers(vqe_circuit, init_params, n_steps=50)"
   ]
  },
  {
   "cell_type": "markdown",
   "id": "45c021e8",
   "metadata": {},
   "source": [
    "打印结果\n"
   ]
  },
  {
   "cell_type": "code",
   "execution_count": null,
   "id": "6317b6c0",
   "metadata": {},
   "outputs": [],
   "source": [
    "print(\"\\n不同优化器的VQE结果比较:\")\n",
    "for name, result in optimizer_results.items():\n",
    "    print(f\"{name}: 最终能量 = {result['final_cost']:.6f}\")"
   ]
  },
  {
   "cell_type": "markdown",
   "id": "66f70676",
   "metadata": {},
   "source": [
    "绘制比较结果\n"
   ]
  },
  {
   "cell_type": "code",
   "execution_count": null,
   "id": "9c45e7e7",
   "metadata": {},
   "outputs": [],
   "source": [
    "plt.figure(figsize=(10, 6))\n",
    "for name, result in optimizer_results.items():\n",
    "    plt.plot(result[\"cost_history\"], label=name)\n",
    "plt.xlabel(\"步骤\")\n",
    "plt.ylabel(\"能量\")\n",
    "plt.title(\"VQE优化 - 不同优化器的比较\")\n",
    "plt.legend()\n",
    "plt.grid(True)\n",
    "plt.savefig(\"vqe_optimizers.png\")\n",
    "plt.close()\n",
    "\n",
    "print(\"绘制了VQE不同优化器的比较图，保存为'vqe_optimizers.png'\")"
   ]
  },
  {
   "cell_type": "markdown",
   "id": "7225ab70",
   "metadata": {},
   "source": [
    "12. 总结\n"
   ]
  },
  {
   "cell_type": "code",
   "execution_count": null,
   "id": "eaa35def",
   "metadata": {},
   "outputs": [],
   "source": [
    "print(\"\\n12. 总结\")\n",
    "print(\"1. 量子梯度是优化变分量子算法的关键\")\n",
    "print(\"2. 参数移位规则是计算量子梯度的有效方法\")\n",
    "print(\"3. PennyLane提供了多种优化器用于不同的问题\")\n",
    "print(\"4. 选择合适的优化策略对于变分算法的成功至关重要\")\n",
    "\n",
    "print(\"\\n下一步学习:\")\n",
    "print(\"- 量子机器学习模型\")\n",
    "print(\"- 实际量子化学和量子优化问题\")\n",
    "print(\"- 量子算法的噪声和鲁棒性\")"
   ]
  },
  {
   "cell_type": "markdown",
   "id": "febe0b95",
   "metadata": {},
   "source": [
    "## 💡 挑战任务\n",
    "\n",
    "尝试扩展上面的练习，探索以下内容：\n",
    "1. 更改电路参数并观察结果的变化\n",
    "2. 尝试实现不同的量子态或算法\n",
    "3. 可视化更多量子测量的结果"
   ]
  }
 ],
 "metadata": {
  "kernelspec": {
   "display_name": "Python 3",
   "language": "python",
   "name": "python3"
  },
  "language_info": {
   "codemirror_mode": {
    "name": "ipython",
    "version": 3
   },
   "file_extension": ".py",
   "mimetype": "text/x-python",
   "name": "python",
   "nbconvert_exporter": "python",
   "pygments_lexer": "ipython3",
   "version": "3.9.13"
  }
 },
 "nbformat": 4,
 "nbformat_minor": 5
}

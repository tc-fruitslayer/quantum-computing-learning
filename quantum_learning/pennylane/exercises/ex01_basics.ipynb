{
 "cells": [
  {
   "cell_type": "code",
   "execution_count": null,
   "id": "e0c2c4ce",
   "metadata": {},
   "outputs": [],
   "source": [
    "#!/usr/bin/env python\n",
    "# -*- coding: utf-8 -*-"
   ]
  },
  {
   "cell_type": "markdown",
   "id": "269e59c2",
   "metadata": {},
   "source": [
    "\n",
    "Xanadu PennyLane框架 - 基础练习\n",
    "\n",
    "本文件包含关于PennyLane基础知识的练习。\n",
    "完成这些练习将帮助您理解PennyLane的核心概念和用法。"
   ]
  },
  {
   "cell_type": "code",
   "execution_count": null,
   "id": "dfca92c0",
   "metadata": {},
   "outputs": [],
   "source": [
    "import pennylane as qml\n",
    "import numpy as np\n",
    "import matplotlib.pyplot as plt\n"
   ]
  },
  {
   "cell_type": "code",
   "execution_count": null,
   "id": "44331558",
   "metadata": {},
   "outputs": [],
   "source": [
    "print(\"===== PennyLane基础练习 =====\")"
   ]
  },
  {
   "cell_type": "markdown",
   "id": "41bb558a",
   "metadata": {},
   "source": [
    "\n",
    "## 练习1: 创建量子设备和简单电路\n",
    "任务:\n",
    "1. 创建一个拥有2个量子比特的'default.qubit'设备\n",
    "2. 定义一个量子函数，对第一个量子比特应用Hadamard门，对第二个量子比特应用X门\n",
    "3. 将该函数转换为QNode\n",
    "4. 执行电路并打印结果 (<Z0>和<Z1>的期望值)"
   ]
  },
  {
   "cell_type": "code",
   "execution_count": null,
   "id": "95ac4b09",
   "metadata": {},
   "outputs": [],
   "source": [
    "print(\"\\n练习1: 创建量子设备和简单电路\")"
   ]
  },
  {
   "cell_type": "markdown",
   "id": "67e3e0f7",
   "metadata": {},
   "source": [
    "您的代码:\n",
    "dev = ...\n"
   ]
  },
  {
   "cell_type": "markdown",
   "id": "36ec3c6a",
   "metadata": {},
   "source": [
    "def my_circuit():\n",
    "...\n",
    "return ...\n"
   ]
  },
  {
   "cell_type": "markdown",
   "id": "b6b7bac1",
   "metadata": {},
   "source": [
    "qnode = ...\n",
    "result = ...\n"
   ]
  },
  {
   "cell_type": "markdown",
   "id": "298f02e7",
   "metadata": {},
   "source": [
    "\n",
    "## 练习2: 量子态制备和测量\n",
    "任务:\n",
    "1. 创建一个拥有3个量子比特的设备\n",
    "2. 编写一个量子函数，准备GHZ态 (|000⟩ + |111⟩)/√2\n",
    "3. 返回每个量子比特的PauliZ期望值、PauliX期望值，以及所有量子比特的PauliZ张量积\n",
    "4. 分析结果，解释它们与GHZ态的理论预期如何对应"
   ]
  },
  {
   "cell_type": "code",
   "execution_count": null,
   "id": "dc4dde0d",
   "metadata": {},
   "outputs": [],
   "source": [
    "print(\"\\n练习2: 量子态制备和测量\")"
   ]
  },
  {
   "cell_type": "markdown",
   "id": "9e420d88",
   "metadata": {},
   "source": [
    "您的代码:\n",
    "dev = ...\n"
   ]
  },
  {
   "cell_type": "markdown",
   "id": "8628ce4a",
   "metadata": {},
   "source": [
    "def ghz_state():\n",
    "...\n",
    "return ...\n"
   ]
  },
  {
   "cell_type": "markdown",
   "id": "5d163b78",
   "metadata": {},
   "source": [
    "qnode = ...\n",
    "results = ...\n"
   ]
  },
  {
   "cell_type": "markdown",
   "id": "f1457151",
   "metadata": {},
   "source": [
    "\n",
    "## 练习3: 参数化电路与自动微分\n",
    "任务:\n",
    "1. 创建一个拥有1个量子比特的设备\n",
    "2. 创建一个包含RX、RY和RZ旋转的参数化量子电路\n",
    "3. 返回PauliZ的期望值\n",
    "4. 对不同参数值执行电路，并计算梯度\n",
    "5. 绘制电路输出相对于第一个参数的变化图"
   ]
  },
  {
   "cell_type": "code",
   "execution_count": null,
   "id": "cd7c2375",
   "metadata": {},
   "outputs": [],
   "source": [
    "print(\"\\n练习3: 参数化电路与自动微分\")"
   ]
  },
  {
   "cell_type": "markdown",
   "id": "70aaddd4",
   "metadata": {},
   "source": [
    "您的代码:\n",
    "dev = ...\n"
   ]
  },
  {
   "cell_type": "markdown",
   "id": "42c1276c",
   "metadata": {},
   "source": [
    "def param_circuit(params):\n",
    "...\n",
    "return ...\n"
   ]
  },
  {
   "cell_type": "markdown",
   "id": "dc6925e5",
   "metadata": {},
   "source": [
    "qnode = ...\n"
   ]
  },
  {
   "cell_type": "markdown",
   "id": "4a023287",
   "metadata": {},
   "source": [
    "计算不同参数值的电路输出\n",
    "x_values = ...\n",
    "y_values = ...\n",
    "gradient_values = ...\n"
   ]
  },
  {
   "cell_type": "markdown",
   "id": "828e87f8",
   "metadata": {},
   "source": [
    "绘图(可选)\n",
    "plt.figure()\n",
    "plt.plot(...)\n",
    "plt.xlabel(...)\n",
    "plt.ylabel(...)\n",
    "plt.title(...)\n",
    "plt.savefig('param_circuit_output.png')\n",
    "plt.close()\n"
   ]
  },
  {
   "cell_type": "markdown",
   "id": "b7c71803",
   "metadata": {},
   "source": [
    "\n",
    "## 练习4: 使用PennyLane模板\n",
    "任务:\n",
    "1. 创建一个拥有4个量子比特的设备\n",
    "2. 使用AngleEmbedding模板将4个随机特征嵌入量子电路\n",
    "3. 使用StronglyEntanglingLayers应用2层强纠缠层\n",
    "4. 返回所有量子比特的PauliZ期望值\n",
    "5. 绘制电路图并解释电路的结构"
   ]
  },
  {
   "cell_type": "code",
   "execution_count": null,
   "id": "527b3e64",
   "metadata": {},
   "outputs": [],
   "source": [
    "print(\"\\n练习4: 使用PennyLane模板\")"
   ]
  },
  {
   "cell_type": "markdown",
   "id": "358a2fc9",
   "metadata": {},
   "source": [
    "您的代码:\n",
    "dev = ...\n"
   ]
  },
  {
   "cell_type": "markdown",
   "id": "6f165fa2",
   "metadata": {},
   "source": [
    "def template_circuit(features, weights):\n",
    "...\n",
    "return ...\n"
   ]
  },
  {
   "cell_type": "markdown",
   "id": "1512a00d",
   "metadata": {},
   "source": [
    "qnode = ...\n"
   ]
  },
  {
   "cell_type": "markdown",
   "id": "f6c07878",
   "metadata": {},
   "source": [
    "features = ...\n",
    "weights = ...\n",
    "results = ...\n"
   ]
  },
  {
   "cell_type": "markdown",
   "id": "2e4a78fa",
   "metadata": {},
   "source": [
    "\n",
    "## 练习5: 贝尔不等式测试\n",
    "任务:\n",
    "1. 创建一个拥有2个量子比特的设备\n",
    "2. 准备一个最大纠缠态 (Bell态)\n",
    "3. 计算CHSH不等式的期望值: ⟨A₁B₁⟩ + ⟨A₁B₂⟩ + ⟨A₂B₁⟩ - ⟨A₂B₂⟩\n",
    "   其中A₁, A₂为量子比特0上的不同测量，B₁, B₂为量子比特1上的不同测量\n",
    "4. 验证结果是否超过经典极限2"
   ]
  },
  {
   "cell_type": "code",
   "execution_count": null,
   "id": "f4d5306d",
   "metadata": {},
   "outputs": [],
   "source": [
    "print(\"\\n练习5: 贝尔不等式测试\")"
   ]
  },
  {
   "cell_type": "markdown",
   "id": "ec7d271d",
   "metadata": {},
   "source": [
    "您的代码:\n",
    "dev = ...\n"
   ]
  },
  {
   "cell_type": "markdown",
   "id": "aa71eced",
   "metadata": {},
   "source": [
    "def bell_test():\n",
    "# 准备Bell态\n",
    "...\n"
   ]
  },
  {
   "cell_type": "markdown",
   "id": "b1da821f",
   "metadata": {},
   "source": [
    "# 计算相关性\n",
    "# A₁ = σz⊗I, B₁ = I⊗σz\n",
    "# A₂ = σx⊗I, B₂ = I⊗σx\n",
    "...\n"
   ]
  },
  {
   "cell_type": "markdown",
   "id": "fd0c8e56",
   "metadata": {},
   "source": [
    "# 计算CHSH值\n",
    "# CHSH = ⟨A₁B₁⟩ + ⟨A₁B₂⟩ + ⟨A₂B₁⟩ - ⟨A₂B₂⟩\n",
    "...\n"
   ]
  },
  {
   "cell_type": "markdown",
   "id": "dd70d822",
   "metadata": {},
   "source": [
    "return ...\n"
   ]
  },
  {
   "cell_type": "markdown",
   "id": "c8d20e4d",
   "metadata": {},
   "source": [
    "qnode = ...\n",
    "chsh_value = ...\n"
   ]
  },
  {
   "cell_type": "markdown",
   "id": "de8682e8",
   "metadata": {},
   "source": [
    "\n",
    "## 练习6: 量子隐形传态\n",
    "任务:\n",
    "1. 创建一个拥有3个量子比特的设备\n",
    "2. 实现量子隐形传态协议:\n",
    "   - 在量子比特0准备任意状态 |ψ⟩ = cosθ|0⟩ + sinθ|1⟩\n",
    "   - 在量子比特1和2之间创建Bell对\n",
    "   - 对量子比特0和1执行Bell测量\n",
    "   - 根据测量结果在量子比特2上应用适当的门\n",
    "3. 验证量子比特2最终状态与初始状态|ψ⟩相同"
   ]
  },
  {
   "cell_type": "code",
   "execution_count": null,
   "id": "5afc3144",
   "metadata": {},
   "outputs": [],
   "source": [
    "print(\"\\n练习6: 量子隐形传态\")"
   ]
  },
  {
   "cell_type": "markdown",
   "id": "386b8c90",
   "metadata": {},
   "source": [
    "您的代码:\n",
    "dev = ...\n"
   ]
  },
  {
   "cell_type": "markdown",
   "id": "27ade959",
   "metadata": {},
   "source": [
    "def teleport(theta):\n",
    "# 准备初始状态\n",
    "...\n"
   ]
  },
  {
   "cell_type": "markdown",
   "id": "0de80b62",
   "metadata": {},
   "source": [
    "# 创建Bell对\n",
    "...\n"
   ]
  },
  {
   "cell_type": "markdown",
   "id": "febc74ed",
   "metadata": {},
   "source": [
    "# Bell测量\n",
    "...\n"
   ]
  },
  {
   "cell_type": "markdown",
   "id": "f78313b9",
   "metadata": {},
   "source": [
    "# 根据测量结果应用校正\n",
    "...\n"
   ]
  },
  {
   "cell_type": "markdown",
   "id": "5ba7f572",
   "metadata": {},
   "source": [
    "# 返回量子比特2的状态\n",
    "return ...\n"
   ]
  },
  {
   "cell_type": "markdown",
   "id": "75a183a9",
   "metadata": {},
   "source": [
    "qnode = ...\n",
    "initial_theta = np.pi/4\n",
    "teleported_state = ...\n"
   ]
  },
  {
   "cell_type": "markdown",
   "id": "45b2078b",
   "metadata": {},
   "source": [
    "\n",
    "## 练习7: 量子相位估计\n",
    "任务:\n",
    "1. 创建一个拥有足够量子比特的设备\n",
    "2. 实现简化版的量子相位估计算法:\n",
    "   - 使用3个量子比特来估计相位\n",
    "   - 使用具有已知特征值e^(2πiφ)的单一算子\n",
    "   - 估计相位φ\n",
    "3. 比较估计值与真实值"
   ]
  },
  {
   "cell_type": "code",
   "execution_count": null,
   "id": "cf7ace1d",
   "metadata": {},
   "outputs": [],
   "source": [
    "print(\"\\n练习7: 量子相位估计\")"
   ]
  },
  {
   "cell_type": "markdown",
   "id": "ca632e33",
   "metadata": {},
   "source": [
    "您的代码:\n",
    "dev = ...\n"
   ]
  },
  {
   "cell_type": "markdown",
   "id": "9674c9cf",
   "metadata": {},
   "source": [
    "def phase_estimation(phase):\n",
    "# 初始化寄存器\n",
    "...\n"
   ]
  },
  {
   "cell_type": "markdown",
   "id": "1dfe7758",
   "metadata": {},
   "source": [
    "# 应用Hadamard门到估计量子比特\n",
    "...\n"
   ]
  },
  {
   "cell_type": "markdown",
   "id": "36ef47ef",
   "metadata": {},
   "source": [
    "# 应用受控旋转\n",
    "...\n"
   ]
  },
  {
   "cell_type": "markdown",
   "id": "a2e42ac3",
   "metadata": {},
   "source": [
    "# 应用逆量子傅里叶变换\n",
    "...\n"
   ]
  },
  {
   "cell_type": "markdown",
   "id": "3dcf5a16",
   "metadata": {},
   "source": [
    "# 测量相位\n",
    "...\n"
   ]
  },
  {
   "cell_type": "markdown",
   "id": "77c351a2",
   "metadata": {},
   "source": [
    "return ...\n"
   ]
  },
  {
   "cell_type": "markdown",
   "id": "eae8a548",
   "metadata": {},
   "source": [
    "qnode = ...\n",
    "true_phase = 0.25  # 例如φ=1/4\n",
    "estimated_phase = ...\n"
   ]
  },
  {
   "cell_type": "code",
   "execution_count": null,
   "id": "8f71efee",
   "metadata": {},
   "outputs": [],
   "source": [
    "print(\"\\n完成所有练习后，请查看解决方案文件以比较您的实现。\")\n",
    "print(\"下一步: 学习变分量子电路和量子机器学习技术。\")"
   ]
  },
  {
   "cell_type": "markdown",
   "id": "cffe5756",
   "metadata": {},
   "source": [
    "## 💡 挑战任务\n",
    "\n",
    "尝试扩展上面的练习，探索以下内容：\n",
    "1. 更改电路参数并观察结果的变化\n",
    "2. 尝试实现不同的量子态或算法\n",
    "3. 可视化更多量子测量的结果"
   ]
  }
 ],
 "metadata": {
  "kernelspec": {
   "display_name": "Python 3",
   "language": "python",
   "name": "python3"
  },
  "language_info": {
   "codemirror_mode": {
    "name": "ipython",
    "version": 3
   },
   "file_extension": ".py",
   "mimetype": "text/x-python",
   "name": "python",
   "nbconvert_exporter": "python",
   "pygments_lexer": "ipython3",
   "version": "3.9.13"
  }
 },
 "nbformat": 4,
 "nbformat_minor": 5
}

{
 "cells": [
  {
   "cell_type": "code",
   "execution_count": null,
   "id": "c8280120",
   "metadata": {},
   "outputs": [],
   "source": [
    "#!/usr/bin/env python\n",
    "# -*- coding: utf-8 -*-"
   ]
  },
  {
   "cell_type": "markdown",
   "id": "7e515772",
   "metadata": {},
   "source": [
    "\n",
    "Xanadu PennyLane框架 - 量子机器学习练习\n",
    "\n",
    "本文件包含关于量子机器学习(QML)的练习。\n",
    "完成这些练习将帮助您理解如何使用量子计算进行机器学习任务。"
   ]
  },
  {
   "cell_type": "code",
   "execution_count": null,
   "id": "15f191d5",
   "metadata": {},
   "outputs": [],
   "source": [
    "import pennylane as qml\n",
    "import numpy as np\n",
    "import matplotlib.pyplot as plt\n"
   ]
  },
  {
   "cell_type": "markdown",
   "id": "a13122c4",
   "metadata": {},
   "source": [
    "尝试导入scikit-learn，用于数据生成和评估\n"
   ]
  },
  {
   "cell_type": "code",
   "execution_count": null,
   "id": "e6168597",
   "metadata": {},
   "outputs": [],
   "source": [
    "try:\n",
    "    import sklearn\n",
    "    from sklearn.datasets import make_moons, make_circles\n",
    "    from sklearn.preprocessing import MinMaxScaler\n",
    "    from sklearn.model_selection import train_test_split\n",
    "    from sklearn.metrics import accuracy_score\n",
    "    SKLEARN_AVAILABLE = True\n",
    "except ImportError:\n",
    "    SKLEARN_AVAILABLE = False\n",
    "    print(\"警告: scikit-learn未安装，某些练习可能无法完成\")"
   ]
  },
  {
   "cell_type": "markdown",
   "id": "7bbecc04",
   "metadata": {},
   "source": [
    "尝试导入torch，用于混合量子-经典模型\n"
   ]
  },
  {
   "cell_type": "code",
   "execution_count": null,
   "id": "ac08cfd8",
   "metadata": {},
   "outputs": [],
   "source": [
    "try:\n",
    "    import torch\n",
    "    import torch.nn as nn\n",
    "    import torch.optim as optim\n",
    "    TORCH_AVAILABLE = True\n",
    "except ImportError:\n",
    "    TORCH_AVAILABLE = False\n",
    "    print(\"警告: PyTorch未安装，某些练习可能无法完成\")\n",
    "\n",
    "print(\"===== PennyLane量子机器学习练习 =====\")"
   ]
  },
  {
   "cell_type": "markdown",
   "id": "79400eaa",
   "metadata": {},
   "source": [
    "\n",
    "## 练习1: 数据编码方法\n",
    "任务:\n",
    "1. 实现三种不同的量子数据编码方法:\n",
    "   a. 角度编码 - 将经典数据编码为旋转角度\n",
    "   b. 振幅编码 - 将经典数据编码为量子态的振幅\n",
    "   c. 基于IQP的编码 - 使用交替的旋转层和纠缠层\n",
    "2. 比较不同编码方法的量子电路结构和特性"
   ]
  },
  {
   "cell_type": "code",
   "execution_count": null,
   "id": "3f2cef91",
   "metadata": {},
   "outputs": [],
   "source": [
    "print(\"\\n练习1: 数据编码方法\")"
   ]
  },
  {
   "cell_type": "markdown",
   "id": "9c5514b4",
   "metadata": {},
   "source": [
    "创建量子设备\n"
   ]
  },
  {
   "cell_type": "code",
   "execution_count": null,
   "id": "4665be51",
   "metadata": {},
   "outputs": [],
   "source": [
    "n_qubits = 4\n",
    "# dev_encoding = ...\n",
    "\n",
    "# 角度编码\n",
    "# @qml.qnode(dev_encoding)\n",
    "# def angle_encoding(x):\n",
    "#"
   ]
  },
  {
   "cell_type": "markdown",
   "id": "9ebbc18a",
   "metadata": {},
   "source": [
    "> **练习提示:**\n",
    "> 在上面的代码单元格中完成实现。可以使用`?`查看相关函数的文档，例如`qml.Hadamard?`。"
   ]
  },
  {
   "cell_type": "markdown",
   "id": "ec53dbeb",
   "metadata": {},
   "source": [
    "\n",
    "#     角度编码 - 将数据编码为旋转角度\n",
    "#     \n",
    "#     Args:\n",
    "#         x: 输入数据，长度应等于量子比特数\n",
    "#         \n",
    "#     Returns:\n",
    "#         量子态的测量结果\n",
    "#"
   ]
  },
  {
   "cell_type": "code",
   "execution_count": null,
   "id": "ab2813de",
   "metadata": {},
   "outputs": [],
   "source": [
    "#     # 使用RX, RY或RZ门将数据编码为旋转角度\n",
    "#     ...\n",
    "#     \n",
    "#     # 返回所有量子比特的期望值\n",
    "#     return [qml.expval(qml.PauliZ(i)) for i in range(n_qubits)]\n",
    "\n",
    "# 振幅编码\n",
    "# @qml.qnode(dev_encoding)\n",
    "# def amplitude_encoding(x):\n",
    "#"
   ]
  },
  {
   "cell_type": "markdown",
   "id": "ef796a0c",
   "metadata": {},
   "source": [
    "> **练习提示:**\n",
    "> 在上面的代码单元格中完成实现。可以使用`?`查看相关函数的文档，例如`qml.Hadamard?`。"
   ]
  },
  {
   "cell_type": "markdown",
   "id": "b5d69bc5",
   "metadata": {},
   "source": [
    "\n",
    "#     振幅编码 - 将数据编码为量子态的振幅\n",
    "#     \n",
    "#     Args:\n",
    "#         x: 输入数据，长度应为2^n_qubits，并且已归一化\n",
    "#         \n",
    "#     Returns:\n",
    "#         量子态的测量结果\n",
    "#"
   ]
  },
  {
   "cell_type": "code",
   "execution_count": null,
   "id": "f7fac04c",
   "metadata": {},
   "outputs": [],
   "source": [
    "#     # 使用振幅编码将数据编码为量子态\n",
    "#     # 提示: 使用 qml.AmplitudeEmbedding\n",
    "#     ...\n",
    "#     \n",
    "#     # 返回所有量子比特的期望值\n",
    "#     return [qml.expval(qml.PauliZ(i)) for i in range(n_qubits)]\n",
    "\n",
    "# IQP编码\n",
    "# @qml.qnode(dev_encoding)\n",
    "# def iqp_encoding(x):\n",
    "#"
   ]
  },
  {
   "cell_type": "markdown",
   "id": "edd5d464",
   "metadata": {},
   "source": [
    "> **练习提示:**\n",
    "> 在上面的代码单元格中完成实现。可以使用`?`查看相关函数的文档，例如`qml.Hadamard?`。"
   ]
  },
  {
   "cell_type": "markdown",
   "id": "7972085f",
   "metadata": {},
   "source": [
    "\n",
    "#     IQP编码 - 使用交替的旋转和纠缠层\n",
    "#     \n",
    "#     Args:\n",
    "#         x: 输入数据\n",
    "#         \n",
    "#     Returns:\n",
    "#         量子态的测量结果\n",
    "#"
   ]
  },
  {
   "cell_type": "code",
   "execution_count": null,
   "id": "cdc5dc45",
   "metadata": {},
   "outputs": [],
   "source": [
    "#     # 首先应用Hadamard门创建叠加态\n",
    "#     ...\n",
    "#     \n",
    "#     # 使用RZ门应用旋转层\n",
    "#     ...\n",
    "#     \n",
    "#     # 应用纠缠层（例如ZZ相互作用）\n",
    "#     ...\n",
    "#     \n",
    "#     # 再次应用旋转层\n",
    "#     ...\n",
    "#     \n",
    "#     # 返回所有量子比特的期望值\n",
    "#     return [qml.expval(qml.PauliZ(i)) for i in range(n_qubits)]"
   ]
  },
  {
   "cell_type": "markdown",
   "id": "b1186962",
   "metadata": {},
   "source": [
    "> **练习提示:**\n",
    "> 在上面的代码单元格中完成实现。可以使用`?`查看相关函数的文档，例如`qml.Hadamard?`。"
   ]
  },
  {
   "cell_type": "markdown",
   "id": "3881bd68",
   "metadata": {},
   "source": [
    "测试编码方法\n",
    "x_test = np.random.random(n_qubits)\n",
    "x_test_normalized = x_test / np.linalg.norm(x_test)\n",
    "x_amplitude = np.random.random(2**n_qubits)\n",
    "x_amplitude = x_amplitude / np.linalg.norm(x_amplitude)\n"
   ]
  },
  {
   "cell_type": "code",
   "execution_count": null,
   "id": "cf727235",
   "metadata": {},
   "outputs": [],
   "source": [
    "# print(\"测试数据:\", x_test)\n",
    "# print(\"角度编码结果:\", angle_encoding(x_test))\n",
    "# print(\"振幅编码结果:\", amplitude_encoding(x_amplitude))\n",
    "# print(\"IQP编码结果:\", iqp_encoding(x_test))"
   ]
  },
  {
   "cell_type": "markdown",
   "id": "8449e656",
   "metadata": {},
   "source": [
    "绘制编码电路\n",
    "fig, ax = plt.subplots(1, 3, figsize=(18, 6))\n"
   ]
  },
  {
   "cell_type": "code",
   "execution_count": null,
   "id": "947171b4",
   "metadata": {},
   "outputs": [],
   "source": [
    "# qml.draw_mpl(angle_encoding, expansion_strategy=\"device\")(x_test)\n",
    "# ax[0].set_title(\"角度编码电路\")\n",
    "\n",
    "# qml.draw_mpl(amplitude_encoding, expansion_strategy=\"device\")(x_amplitude)\n",
    "# ax[1].set_title(\"振幅编码电路\")\n",
    "\n",
    "# qml.draw_mpl(iqp_encoding, expansion_strategy=\"device\")(x_test)\n",
    "# ax[2].set_title(\"IQP编码电路\")\n",
    "\n",
    "# plt.tight_layout()\n",
    "# plt.savefig('encoding_circuits.png')\n",
    "# plt.close()"
   ]
  },
  {
   "cell_type": "markdown",
   "id": "f2aab964",
   "metadata": {},
   "source": [
    "\n",
    "## 练习2: 量子神经网络(QNN)\n",
    "任务:\n",
    "1. 设计一个包含以下组件的量子神经网络:\n",
    "   a. 数据编码层\n",
    "   b. 变分层(多个旋转和纠缠门)\n",
    "   c. 测量层\n",
    "2. 使用QNN解决简单的二分类问题\n",
    "3. 实现训练循环，优化神经网络参数"
   ]
  },
  {
   "cell_type": "code",
   "execution_count": null,
   "id": "d9b39142",
   "metadata": {},
   "outputs": [],
   "source": [
    "print(\"\\n练习2: 量子神经网络(QNN)\")\n",
    "\n",
    "if SKLEARN_AVAILABLE:\n",
    "    print(\"scikit-learn可用，可以完成量子神经网络分类练习\")\n",
    "    # 以下代码被注释，仅供参考\n",
    "    # 生成简单的二分类数据集\n",
    "    # X, y = ...\n",
    "    # X_train, X_test, y_train, y_test = ...\n",
    "    \n",
    "    # 创建量子设备\n",
    "    # n_qubits = 2\n",
    "    # dev_qnn = ...\n",
    "    \n",
    "    # 定义量子神经网络\n",
    "    # @qml.qnode(dev_qnn)\n",
    "    # def quantum_neural_network(inputs, weights):\n",
    "    #"
   ]
  },
  {
   "cell_type": "markdown",
   "id": "a6560061",
   "metadata": {},
   "source": [
    "> **练习提示:**\n",
    "> 在上面的代码单元格中完成实现。可以使用`?`查看相关函数的文档，例如`qml.Hadamard?`。"
   ]
  },
  {
   "cell_type": "markdown",
   "id": "9bb1effc",
   "metadata": {},
   "source": [
    "\n",
    "    #     量子神经网络\n",
    "    #     \n",
    "    #     Args:\n",
    "    #         inputs: 输入数据特征\n",
    "    #         weights: 变分参数\n",
    "    #         \n",
    "    #     Returns:\n",
    "    #         输出\n",
    "    #"
   ]
  },
  {
   "cell_type": "code",
   "execution_count": null,
   "id": "fb81c2be",
   "metadata": {},
   "outputs": [],
   "source": [
    "#     # 数据编码层\n",
    "    #     ...\n",
    "    #     \n",
    "    #     # 变分层\n",
    "    #     ...\n",
    "    #     \n",
    "    #     # 测量输出\n",
    "    #     return qml.expval(qml.PauliZ(0))\n",
    "else:\n",
    "    print(\"未安装scikit-learn，跳过量子神经网络分类练习\")"
   ]
  },
  {
   "cell_type": "markdown",
   "id": "f3dd3b33",
   "metadata": {},
   "source": [
    "> **练习提示:**\n",
    "> 在上面的代码单元格中完成实现。可以使用`?`查看相关函数的文档，例如`qml.Hadamard?`。"
   ]
  },
  {
   "cell_type": "markdown",
   "id": "bce3e9ea",
   "metadata": {},
   "source": [
    "\n",
    "## 练习3: 量子核方法\n",
    "任务:\n",
    "1. 实现量子核函数，使用量子电路计算两个数据点之间的相似度\n",
    "2. 使用量子核函数构建核矩阵\n",
    "3. 将量子核与经典核方法(如SVM)结合"
   ]
  },
  {
   "cell_type": "code",
   "execution_count": null,
   "id": "e090eb66",
   "metadata": {},
   "outputs": [],
   "source": [
    "print(\"\\n练习3: 量子核方法\")\n",
    "\n",
    "if SKLEARN_AVAILABLE:\n",
    "    print(\"scikit-learn可用，可以完成量子核方法练习\")\n",
    "    # 以下代码被注释，仅供参考\n",
    "    # 创建量子设备\n",
    "    # n_qubits = 2\n",
    "    # dev_kernel = ...\n",
    "    \n",
    "    # 定义特征映射电路\n",
    "    # @qml.qnode(dev_kernel)\n",
    "    # def feature_map(x):\n",
    "    #"
   ]
  },
  {
   "cell_type": "markdown",
   "id": "6bd5b86f",
   "metadata": {},
   "source": [
    "> **练习提示:**\n",
    "> 在上面的代码单元格中完成实现。可以使用`?`查看相关函数的文档，例如`qml.Hadamard?`。"
   ]
  },
  {
   "cell_type": "markdown",
   "id": "2193f57b",
   "metadata": {},
   "source": [
    "\n",
    "    #     量子特征映射电路\n",
    "    #     \n",
    "    #     Args:\n",
    "    #         x: 输入数据\n",
    "    #         \n",
    "    #     Returns:\n",
    "    #         量子态\n",
    "    #"
   ]
  },
  {
   "cell_type": "code",
   "execution_count": null,
   "id": "4a94f650",
   "metadata": {},
   "outputs": [],
   "source": [
    "#     # 数据编码\n",
    "    #     ...\n",
    "    #     \n",
    "    #     # 非线性变换\n",
    "    #     ...\n",
    "    #     \n",
    "    #     # 返回量子态\n",
    "    #     return qml.state()\n",
    "    \n",
    "    # 定义量子核函数\n",
    "    # def quantum_kernel(x1, x2):\n",
    "    #"
   ]
  },
  {
   "cell_type": "markdown",
   "id": "10add35c",
   "metadata": {},
   "source": [
    "> **练习提示:**\n",
    "> 在上面的代码单元格中完成实现。可以使用`?`查看相关函数的文档，例如`qml.Hadamard?`。"
   ]
  },
  {
   "cell_type": "markdown",
   "id": "4e32315d",
   "metadata": {},
   "source": [
    "\n",
    "    #     计算两个数据点的量子核\n",
    "    #     \n",
    "    #     Args:\n",
    "    #         x1, x2: 两个数据点\n",
    "    #         \n",
    "    #     Returns:\n",
    "    #         核值 (内积)\n",
    "    #"
   ]
  },
  {
   "cell_type": "code",
   "execution_count": null,
   "id": "f5e41f14",
   "metadata": {},
   "outputs": [],
   "source": [
    "#     state1 = feature_map(x1)\n",
    "    #     state2 = feature_map(x2)\n",
    "    #     \n",
    "    #     # 计算量子态的内积\n",
    "    #     return np.abs(np.vdot(state1, state2))**2\n",
    "    \n",
    "    # 生成数据集\n",
    "    # X, y = ...  # 例如make_circles或make_moons\n",
    "    # X_train, X_test, y_train, y_test = ...\n",
    "    \n",
    "    # 计算核矩阵\n",
    "    # def compute_kernel_matrix(X1, X2):\n",
    "    #"
   ]
  },
  {
   "cell_type": "markdown",
   "id": "6b463292",
   "metadata": {},
   "source": [
    "> **练习提示:**\n",
    "> 在上面的代码单元格中完成实现。可以使用`?`查看相关函数的文档，例如`qml.Hadamard?`。"
   ]
  },
  {
   "cell_type": "markdown",
   "id": "27086914",
   "metadata": {},
   "source": [
    "计算两组数据点之间的核矩阵"
   ]
  },
  {
   "cell_type": "code",
   "execution_count": null,
   "id": "d85880a2",
   "metadata": {},
   "outputs": [],
   "source": [
    "#     n1 = len(X1)\n",
    "    #     n2 = len(X2)\n",
    "    #     kernel_matrix = np.zeros((n1, n2))\n",
    "    #     \n",
    "    #     for i in range(n1):\n",
    "    #         for j in range(n2):\n",
    "    #             kernel_matrix[i, j] = quantum_kernel(X1[i], X2[j])\n",
    "    #     \n",
    "    #     return kernel_matrix\n",
    "    \n",
    "    # # 计算训练集和测试集的核矩阵\n",
    "    # K_train = ...\n",
    "    # K_test = ...\n",
    "    \n",
    "    # # 使用核矩阵进行分类\n",
    "    # from sklearn.svm import SVC\n",
    "    # \n",
    "    # # 创建预计算核的SVM\n",
    "    # qsvm = SVC(kernel='precomputed')\n",
    "    # \n",
    "    # # 训练模型\n",
    "    # qsvm.fit(K_train, y_train)\n",
    "    # \n",
    "    # # 预测\n",
    "    # y_pred = qsvm.predict(K_test)\n",
    "    # \n",
    "    # # 计算准确率\n",
    "    # accuracy = accuracy_score(y_test, y_pred)\n",
    "    # print(f\"量子核SVM的测试准确率: {accuracy:.4f}\")\n",
    "    \n",
    "    # # 可视化结果\n",
    "    # plt.figure(figsize=(10, 8))\n",
    "    # \n",
    "    # # 绘制核矩阵\n",
    "    # plt.subplot(2, 2, 1)\n",
    "    # plt.imshow(K_train)\n",
    "    # plt.title('量子核矩阵 (训练集)')\n",
    "    # plt.colorbar()\n",
    "    # \n",
    "    # # 绘制决策边界\n",
    "    # plt.subplot(2, 2, 2)\n",
    "    # \n",
    "    # # 创建网格\n",
    "    # h = 0.05\n",
    "    # x_min, x_max = X[:, 0].min() - 0.1, X[:, 0].max() + 0.1\n",
    "    # y_min, y_max = X[:, 1].min() - 0.1, X[:, 1].max() + 0.1\n",
    "    # xx, yy = np.meshgrid(np.arange(x_min, x_max, h),\n",
    "    #                      np.arange(y_min, y_max, h))\n",
    "    # \n",
    "    # # 计算所有网格点与训练点的核\n",
    "    # grid_points = np.c_[xx.ravel(), yy.ravel()]\n",
    "    # K_grid = compute_kernel_matrix(grid_points, X_train)\n",
    "    # \n",
    "    # # 预测网格点\n",
    "    # Z = qsvm.predict(K_grid)\n",
    "    # Z = Z.reshape(xx.shape)\n",
    "    # \n",
    "    # plt.contourf(xx, yy, Z, alpha=0.3)\n",
    "    # plt.scatter(X_train[:, 0], X_train[:, 1], c=y_train, edgecolors='k')\n",
    "    # plt.scatter(X_test[:, 0], X_test[:, 1], c=y_test, marker='x', s=60)\n",
    "    # plt.title(f'量子核SVM决策边界 (准确率: {accuracy:.4f})')\n",
    "    # \n",
    "    # # 与经典RBF核比较\n",
    "    # from sklearn.svm import SVC as ClassicalSVC\n",
    "    # cls_svm = ClassicalSVC(kernel='rbf')\n",
    "    # cls_svm.fit(X_train, y_train)\n",
    "    # cls_pred = cls_svm.predict(X_test)\n",
    "    # cls_accuracy = accuracy_score(y_test, cls_pred)\n",
    "    # \n",
    "    # plt.subplot(2, 2, 3)\n",
    "    # Z_cls = cls_svm.predict(np.c_[xx.ravel(), yy.ravel()])\n",
    "    # Z_cls = Z_cls.reshape(xx.shape)\n",
    "    # \n",
    "    # plt.contourf(xx, yy, Z_cls, alpha=0.3)\n",
    "    # plt.scatter(X_train[:, 0], X_train[:, 1], c=y_train, edgecolors='k')\n",
    "    # plt.scatter(X_test[:, 0], X_test[:, 1], c=y_test, marker='x', s=60)\n",
    "    # plt.title(f'经典RBF核SVM (准确率: {cls_accuracy:.4f})')\n",
    "    # \n",
    "    # plt.tight_layout()\n",
    "    # plt.savefig('quantum_kernel.png')\n",
    "    # plt.close()\n",
    "    # \n",
    "    # print(f\"经典RBF核SVM测试准确率: {cls_accuracy:.4f}\")\n",
    "    # print(f\"量子核SVM测试准确率: {accuracy:.4f}\")\n",
    "else:\n",
    "    print(\"未安装scikit-learn，跳过量子核方法练习\")\n",
    "\n",
    "print("
   ]
  },
  {
   "cell_type": "markdown",
   "id": "d21b155a",
   "metadata": {},
   "source": [
    "> **练习提示:**\n",
    "> 在上面的代码单元格中完成实现。可以使用`?`查看相关函数的文档，例如`qml.Hadamard?`。"
   ]
  },
  {
   "cell_type": "markdown",
   "id": "cd23f99a",
   "metadata": {},
   "source": [
    "\n",
    "## 练习4: 量子转移学习\n",
    "任务:\n",
    "1. 准备一个预训练的经典模型（例如小型MLP）\n",
    "2. 设计一个混合量子-经典转移学习模型，其中:\n",
    "   - 经典部分用于特征提取\n",
    "   - 量子部分用于分类\n",
    "3. 比较纯经典模型和混合模型的性能"
   ]
  },
  {
   "cell_type": "code",
   "execution_count": null,
   "id": "ddd0bfb6",
   "metadata": {},
   "outputs": [],
   "source": [
    ")\n",
    "\n",
    "print(\"\\n练习4: 量子转移学习\")\n",
    "\n",
    "if TORCH_AVAILABLE and SKLEARN_AVAILABLE:\n",
    "    print(\"PyTorch和scikit-learn可用，可以完成量子转移学习练习\")\n",
    "    # 以下代码被注释，仅供参考\n",
    "    # 创建量子设备\n",
    "    # n_qubits = 2\n",
    "    # dev_transfer = ...\n",
    "    \n",
    "    # 创建数据集\n",
    "    # X, y = ...\n",
    "    # X_train, X_test, y_train, y_test = ...\n",
    "else:\n",
    "    print(\"未安装PyTorch或scikit-learn，跳过量子转移学习练习\")\n",
    "\n",
    "print(\"\\n完成所有练习后，请查看解决方案文件以比较您的实现。\")\n",
    "print(\"祝贺您完成了PennyLane量子机器学习练习！这些技术是量子计算应用的前沿。\")"
   ]
  },
  {
   "cell_type": "markdown",
   "id": "81f40c21",
   "metadata": {},
   "source": [
    "> **练习提示:**\n",
    "> 在上面的代码单元格中完成实现。可以使用`?`查看相关函数的文档，例如`qml.Hadamard?`。"
   ]
  },
  {
   "cell_type": "markdown",
   "id": "8440aea5",
   "metadata": {},
   "source": [
    "## 💡 挑战任务\n",
    "\n",
    "尝试扩展上面的练习，探索以下内容：\n",
    "1. 更改电路参数并观察结果的变化\n",
    "2. 尝试实现不同的量子态或算法\n",
    "3. 可视化更多量子测量的结果"
   ]
  }
 ],
 "metadata": {
  "kernelspec": {
   "display_name": "Python 3",
   "language": "python",
   "name": "python3"
  },
  "language_info": {
   "codemirror_mode": {
    "name": "ipython",
    "version": 3
   },
   "file_extension": ".py",
   "mimetype": "text/x-python",
   "name": "python",
   "nbconvert_exporter": "python",
   "pygments_lexer": "ipython3",
   "version": "3.9.13"
  }
 },
 "nbformat": 4,
 "nbformat_minor": 5
}

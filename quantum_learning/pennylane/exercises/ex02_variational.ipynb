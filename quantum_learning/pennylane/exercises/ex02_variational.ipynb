{
 "cells": [
  {
   "cell_type": "code",
   "execution_count": null,
   "id": "a447b4fb",
   "metadata": {},
   "outputs": [],
   "source": [
    "#!/usr/bin/env python\n",
    "# -*- coding: utf-8 -*-"
   ]
  },
  {
   "cell_type": "markdown",
   "id": "6c8ce38c",
   "metadata": {},
   "source": [
    "\n",
    "Xanadu PennyLane框架 - 变分量子电路练习\n",
    "\n",
    "本文件包含关于变分量子电路和变分量子算法的练习。\n",
    "完成这些练习将帮助您理解参数化量子电路和量子化学、优化问题的应用。"
   ]
  },
  {
   "cell_type": "code",
   "execution_count": null,
   "id": "74328a8e",
   "metadata": {},
   "outputs": [],
   "source": [
    "import pennylane as qml\n",
    "import numpy as np\n",
    "import matplotlib.pyplot as plt\n"
   ]
  },
  {
   "cell_type": "code",
   "execution_count": null,
   "id": "133a3e92",
   "metadata": {},
   "outputs": [],
   "source": [
    "print(\"===== PennyLane变分量子电路练习 =====\")"
   ]
  },
  {
   "cell_type": "markdown",
   "id": "a96f685a",
   "metadata": {},
   "source": [
    "\n",
    "## 练习1: 创建和优化基本变分电路\n",
    "任务:\n",
    "1. 创建一个包含2个量子比特的设备\n",
    "2. 定义一个变分量子电路，包含旋转门（RX, RY, RZ）和纠缠门（CNOT）\n",
    "3. 定义一个成本函数，目标是使两个量子比特的测量结果反相关（一个为|0⟩时，另一个为|1⟩）\n",
    "4. 使用梯度下降优化器优化参数\n",
    "5. 绘制优化过程中成本函数的变化"
   ]
  },
  {
   "cell_type": "code",
   "execution_count": null,
   "id": "a68361e3",
   "metadata": {},
   "outputs": [],
   "source": [
    "print(\"\\n练习1: 创建和优化基本变分电路\")"
   ]
  },
  {
   "cell_type": "markdown",
   "id": "8de5d682",
   "metadata": {},
   "source": [
    "您的代码:\n",
    "dev = ...\n"
   ]
  },
  {
   "cell_type": "markdown",
   "id": "515ee5e0",
   "metadata": {},
   "source": [
    "def variational_circuit(params):\n",
    "# 编码层 - 旋转门\n",
    "...\n",
    "\n",
    "# 纠缠层 - CNOT门\n",
    "...\n",
    "\n",
    "# 测量层\n",
    "return ...\n"
   ]
  },
  {
   "cell_type": "markdown",
   "id": "626deea2",
   "metadata": {},
   "source": [
    "def cost_function(params):\n",
    "\"\"\"\n",
    "定义要优化的成本函数\n",
    "提示: 考虑使用 qml.expval(qml.PauliZ(0) @ qml.PauliZ(1))\n",
    "希望两个量子比特反相关时，期望值应该接近什么？\n",
    "\"\"\"\n",
    "...\n",
    "return ...\n"
   ]
  },
  {
   "cell_type": "markdown",
   "id": "9ea52a61",
   "metadata": {},
   "source": [
    "\n",
    "#     定义要优化的成本函数\n",
    "#     提示: 考虑使用 qml.expval(qml.PauliZ(0) @ qml.PauliZ(1))\n",
    "#     希望两个量子比特反相关时，期望值应该接近什么？\n",
    "#"
   ]
  },
  {
   "cell_type": "code",
   "execution_count": null,
   "id": "dcfca2fb",
   "metadata": {},
   "outputs": [],
   "source": [
    "#     ...\n",
    "#     return ..."
   ]
  },
  {
   "cell_type": "markdown",
   "id": "3cb06e56",
   "metadata": {},
   "source": [
    "> **练习提示:**\n",
    "> 在上面的代码单元格中完成实现。可以使用`?`查看相关函数的文档，例如`qml.Hadamard?`。"
   ]
  },
  {
   "cell_type": "markdown",
   "id": "a608be1b",
   "metadata": {},
   "source": [
    "优化过程\n",
    "params = ...\n",
    "opt = ...\n",
    "cost_history = []\n"
   ]
  },
  {
   "cell_type": "markdown",
   "id": "f121b9a2",
   "metadata": {},
   "source": [
    "for i in range(...):\n",
    "# 优化步骤\n",
    "...\n",
    "\n",
    "# 存储成本\n",
    "...\n",
    "\n",
    "# 打印进度\n",
    "...\n"
   ]
  },
  {
   "cell_type": "markdown",
   "id": "87e680ca",
   "metadata": {},
   "source": [
    "绘制优化过程\n",
    "plt.figure()\n",
    "plt.plot(...)\n",
    "plt.xlabel(...)\n",
    "plt.ylabel(...)\n",
    "plt.title(...)\n",
    "plt.savefig('variational_circuit_optimization.png')\n",
    "plt.close()\n"
   ]
  },
  {
   "cell_type": "markdown",
   "id": "b211adc3",
   "metadata": {},
   "source": [
    "\n",
    "## 练习2: 实现变分量子特征值求解器(VQE)\n",
    "任务:\n",
    "1. 创建一个2量子比特系统的简化氢分子哈密顿量\n",
    "   H = 0.5*I⊗I + 0.5*Z⊗Z + 0.5*X⊗X - 0.5*Y⊗Y\n",
    "2. 定义一个变分量子电路作为VQE的试探态\n",
    "3. 计算电路产生的试探态在哈密顿量下的期望值\n",
    "4. 使用优化器找到基态能量\n",
    "5. 比较优化结果与理论基态能量（应为-1.0）"
   ]
  },
  {
   "cell_type": "code",
   "execution_count": null,
   "id": "efd8d9da",
   "metadata": {},
   "outputs": [],
   "source": [
    "print(\"\\n练习2: 实现变分量子特征值求解器(VQE)\")"
   ]
  },
  {
   "cell_type": "markdown",
   "id": "7d6dffec",
   "metadata": {},
   "source": [
    "您的代码:\n",
    "dev_vqe = ...\n"
   ]
  },
  {
   "cell_type": "markdown",
   "id": "17390664",
   "metadata": {},
   "source": [
    "创建哈密顿量\n",
    "def create_h2_hamiltonian():\n",
    "\"\"\"创建简化的H2分子哈密顿量\"\"\"\n",
    "coeffs = ...\n",
    "obs = [\n",
    "...\n",
    "]\n",
    "return qml.Hamiltonian(coeffs, obs)\n"
   ]
  },
  {
   "cell_type": "markdown",
   "id": "5f398544",
   "metadata": {},
   "source": [
    "创建简化的H2分子哈密顿量"
   ]
  },
  {
   "cell_type": "code",
   "execution_count": null,
   "id": "4dedeb5a",
   "metadata": {},
   "outputs": [],
   "source": [
    "#     coeffs = ...\n",
    "#     obs = [\n",
    "#         ...\n",
    "#     ]\n",
    "#     return qml.Hamiltonian(coeffs, obs)"
   ]
  },
  {
   "cell_type": "markdown",
   "id": "47dd7c11",
   "metadata": {},
   "source": [
    "> **练习提示:**\n",
    "> 在上面的代码单元格中完成实现。可以使用`?`查看相关函数的文档，例如`qml.Hadamard?`。"
   ]
  },
  {
   "cell_type": "markdown",
   "id": "1610631b",
   "metadata": {},
   "source": [
    "H = create_h2_hamiltonian()\n",
    "print(f\"H2分子哈密顿量:\\n{H}\")\n"
   ]
  },
  {
   "cell_type": "markdown",
   "id": "bce29e76",
   "metadata": {},
   "source": [
    "定义变分电路\n",
    "@qml.qnode(dev_vqe)\n",
    "def vqe_circuit(params, hamiltonian):\n",
    "\"\"\"VQE试探态准备电路\"\"\"\n",
    "# 初始态准备\n",
    "...\n",
    "\n",
    "# 变分层\n",
    "...\n",
    "\n",
    "# 返回期望值\n",
    "return ...\n"
   ]
  },
  {
   "cell_type": "markdown",
   "id": "e959525a",
   "metadata": {},
   "source": [
    "VQE试探态准备电路"
   ]
  },
  {
   "cell_type": "code",
   "execution_count": null,
   "id": "dbd340b2",
   "metadata": {},
   "outputs": [],
   "source": [
    "#     # 初始态准备\n",
    "#     ...\n",
    "#     \n",
    "#     # 变分层\n",
    "#     ...\n",
    "#     \n",
    "#     # 返回期望值\n",
    "#     return ..."
   ]
  },
  {
   "cell_type": "markdown",
   "id": "1abe307d",
   "metadata": {},
   "source": [
    "> **练习提示:**\n",
    "> 在上面的代码单元格中完成实现。可以使用`?`查看相关函数的文档，例如`qml.Hadamard?`。"
   ]
  },
  {
   "cell_type": "markdown",
   "id": "325ef2a4",
   "metadata": {},
   "source": [
    "定义成本函数\n",
    "def vqe_cost(params, hamiltonian):\n",
    "\"\"\"VQE成本函数 - 哈密顿量的期望值\"\"\"\n",
    "...\n"
   ]
  },
  {
   "cell_type": "markdown",
   "id": "efa42ae8",
   "metadata": {},
   "source": [
    "VQE成本函数 - 哈密顿量的期望值"
   ]
  },
  {
   "cell_type": "code",
   "execution_count": null,
   "id": "34c0f842",
   "metadata": {},
   "outputs": [],
   "source": [
    "#     ..."
   ]
  },
  {
   "cell_type": "markdown",
   "id": "180bad24",
   "metadata": {},
   "source": [
    "> **练习提示:**\n",
    "> 在上面的代码单元格中完成实现。可以使用`?`查看相关函数的文档，例如`qml.Hadamard?`。"
   ]
  },
  {
   "cell_type": "markdown",
   "id": "6790b8d9",
   "metadata": {},
   "source": [
    "优化VQE\n",
    "init_params = ...\n",
    "opt_vqe = ...\n",
    "params_vqe = init_params\n",
    "energy_history = [vqe_cost(params_vqe, H)]\n"
   ]
  },
  {
   "cell_type": "markdown",
   "id": "91d4bbb0",
   "metadata": {},
   "source": [
    "print(f\"初始能量: {energy_history[0]:.6f}\")\n"
   ]
  },
  {
   "cell_type": "markdown",
   "id": "590f35a0",
   "metadata": {},
   "source": [
    "for i in range(...):\n",
    "# 优化步骤\n",
    "...\n",
    "\n",
    "# 存储能量\n",
    "...\n",
    "\n",
    "# 打印进度\n",
    "...\n"
   ]
  },
  {
   "cell_type": "markdown",
   "id": "dd619cbd",
   "metadata": {},
   "source": [
    "print(f\"优化后的能量: {energy_history[-1]:.6f}\")\n",
    "print(f\"理论基态能量: -1.0\")\n"
   ]
  },
  {
   "cell_type": "markdown",
   "id": "f81e4c4c",
   "metadata": {},
   "source": [
    "绘制能量收敛过程\n",
    "plt.figure()\n",
    "plt.plot(...)\n",
    "plt.xlabel(...)\n",
    "plt.ylabel(...)\n",
    "plt.title(...)\n",
    "plt.grid(True)\n",
    "plt.savefig('vqe_convergence.png')\n",
    "plt.close()\n"
   ]
  },
  {
   "cell_type": "markdown",
   "id": "423cdd4b",
   "metadata": {},
   "source": [
    "\n",
    "## 练习3: 量子近似优化算法(QAOA)求解最大割问题\n",
    "任务:\n",
    "1. 定义一个4节点的图（使用邻接矩阵表示）\n",
    "2. 创建最大割问题的哈密顿量\n",
    "3. 实现QAOA电路，包括问题哈密顿量演化和混合哈密顿量演化\n",
    "4. 优化QAOA参数\n",
    "5. 从优化结果中提取最大割解决方案"
   ]
  },
  {
   "cell_type": "code",
   "execution_count": null,
   "id": "37758de1",
   "metadata": {},
   "outputs": [],
   "source": [
    "print(\"\\n练习3: 量子近似优化算法(QAOA)求解最大割问题\")"
   ]
  },
  {
   "cell_type": "markdown",
   "id": "11c60483",
   "metadata": {},
   "source": [
    "您的代码:\n",
    "n_nodes = 4\n",
    "dev_qaoa = ...\n"
   ]
  },
  {
   "cell_type": "markdown",
   "id": "d1a39a60",
   "metadata": {},
   "source": [
    "定义图的邻接矩阵\n",
    "adjacency_matrix = np.array([\n",
    "...\n",
    "])\n"
   ]
  },
  {
   "cell_type": "markdown",
   "id": "b6b1a547",
   "metadata": {},
   "source": [
    "print(f\"图的邻接矩阵:\\n{adjacency_matrix}\")\n"
   ]
  },
  {
   "cell_type": "markdown",
   "id": "e138b010",
   "metadata": {},
   "source": [
    "创建最大割哈密顿量\n",
    "def maxcut_hamiltonian(adj_matrix):\n",
    "\"\"\"创建最大割问题的哈密顿量\"\"\"\n",
    "n = len(adj_matrix)\n",
    "coeffs = []\n",
    "obs = []\n",
    "\n",
    "for i in range(n):\n",
    "for j in range(i+1, n):\n",
    "if adj_matrix[i, j] == 1:\n",
    "# 添加哈密顿量项\n",
    "...\n",
    "\n",
    "return qml.Hamiltonian(coeffs, obs)\n"
   ]
  },
  {
   "cell_type": "markdown",
   "id": "8a6cf83f",
   "metadata": {},
   "source": [
    "创建最大割问题的哈密顿量"
   ]
  },
  {
   "cell_type": "code",
   "execution_count": null,
   "id": "4f2413fe",
   "metadata": {},
   "outputs": [],
   "source": [
    "#     n = len(adj_matrix)\n",
    "#     coeffs = []\n",
    "#     obs = []\n",
    "#     \n",
    "#     for i in range(n):\n",
    "#         for j in range(i+1, n):\n",
    "#             if adj_matrix[i, j] == 1:\n",
    "#                 # 添加哈密顿量项\n",
    "#                 ...\n",
    "#     \n",
    "#     return qml.Hamiltonian(coeffs, obs)"
   ]
  },
  {
   "cell_type": "markdown",
   "id": "a2edc215",
   "metadata": {},
   "source": [
    "> **练习提示:**\n",
    "> 在上面的代码单元格中完成实现。可以使用`?`查看相关函数的文档，例如`qml.Hadamard?`。"
   ]
  },
  {
   "cell_type": "markdown",
   "id": "69788522",
   "metadata": {},
   "source": [
    "H_maxcut = maxcut_hamiltonian(adjacency_matrix)\n",
    "print(f\"最大割哈密顿量:\\n{H_maxcut}\")\n"
   ]
  },
  {
   "cell_type": "markdown",
   "id": "fb435081",
   "metadata": {},
   "source": [
    "实现QAOA电路\n",
    "@qml.qnode(dev_qaoa)\n",
    "def qaoa_circuit(params, hamiltonian):\n",
    "\"\"\"QAOA电路\"\"\"\n",
    "# 准备均匀叠加态\n",
    "...\n",
    "\n",
    "# 提取QAOA参数\n",
    "p = len(params) // 2  # QAOA深度\n",
    "gammas = params[:p]\n",
    "betas = params[p:]\n",
    "\n",
    "# QAOA层\n",
    "for i in range(p):\n",
    "# 问题哈密顿量演化\n",
    "...\n",
    "\n",
    "# 混合哈密顿量演化\n",
    "...\n",
    "\n",
    "# 返回能量期望值\n",
    "return ...\n"
   ]
  },
  {
   "cell_type": "markdown",
   "id": "3a7232ef",
   "metadata": {},
   "source": [
    "QAOA电路"
   ]
  },
  {
   "cell_type": "code",
   "execution_count": null,
   "id": "49254a6b",
   "metadata": {},
   "outputs": [],
   "source": [
    "#     # 准备均匀叠加态\n",
    "#     ...\n",
    "#     \n",
    "#     # 提取QAOA参数\n",
    "#     p = len(params) // 2  # QAOA深度\n",
    "#     gammas = params[:p]\n",
    "#     betas = params[p:]\n",
    "#     \n",
    "#     # QAOA层\n",
    "#     for i in range(p):\n",
    "#         # 问题哈密顿量演化\n",
    "#         ...\n",
    "#         \n",
    "#         # 混合哈密顿量演化\n",
    "#         ...\n",
    "#     \n",
    "#     # 返回能量期望值\n",
    "#     return ..."
   ]
  },
  {
   "cell_type": "markdown",
   "id": "cf598ce3",
   "metadata": {},
   "source": [
    "> **练习提示:**\n",
    "> 在上面的代码单元格中完成实现。可以使用`?`查看相关函数的文档，例如`qml.Hadamard?`。"
   ]
  },
  {
   "cell_type": "markdown",
   "id": "41644faa",
   "metadata": {},
   "source": [
    "定义成本函数\n",
    "def qaoa_cost(params, hamiltonian):\n",
    "\"\"\"QAOA成本函数\"\"\"\n",
    "...\n"
   ]
  },
  {
   "cell_type": "markdown",
   "id": "690da4f8",
   "metadata": {},
   "source": [
    "QAOA成本函数"
   ]
  },
  {
   "cell_type": "code",
   "execution_count": null,
   "id": "63677ec3",
   "metadata": {},
   "outputs": [],
   "source": [
    "#     ..."
   ]
  },
  {
   "cell_type": "markdown",
   "id": "8e5eb4c5",
   "metadata": {},
   "source": [
    "> **练习提示:**\n",
    "> 在上面的代码单元格中完成实现。可以使用`?`查看相关函数的文档，例如`qml.Hadamard?`。"
   ]
  },
  {
   "cell_type": "markdown",
   "id": "32da61e6",
   "metadata": {},
   "source": [
    "优化QAOA\n",
    "p = 1  # QAOA深度\n",
    "init_params = ...\n",
    "opt_qaoa = ...\n",
    "params_qaoa = init_params\n",
    "cost_history_qaoa = [qaoa_cost(params_qaoa, H_maxcut)]\n"
   ]
  },
  {
   "cell_type": "markdown",
   "id": "cc5cf2c0",
   "metadata": {},
   "source": [
    "print(f\"初始成本: {cost_history_qaoa[0]:.6f}\")\n"
   ]
  },
  {
   "cell_type": "markdown",
   "id": "7480cfc1",
   "metadata": {},
   "source": [
    "for i in range(...):\n",
    "# 优化步骤\n",
    "...\n",
    "\n",
    "# 存储成本\n",
    "...\n",
    "\n",
    "# 打印进度\n",
    "...\n"
   ]
  },
  {
   "cell_type": "markdown",
   "id": "ce3e2cc0",
   "metadata": {},
   "source": [
    "print(f\"优化后的成本: {cost_history_qaoa[-1]:.6f}\")\n"
   ]
  },
  {
   "cell_type": "markdown",
   "id": "061c4bcf",
   "metadata": {},
   "source": [
    "从优化结果中提取解决方案\n",
    "def get_maxcut_solution(params, adjacency_matrix):\n",
    "\"\"\"从优化的QAOA参数中提取最大割解决方案\"\"\"\n",
    "# 创建一个量子电路来获取最优解\n",
    "@qml.qnode(dev_qaoa)\n",
    "def qaoa_state(optimized_params):\n",
    "# 准备均匀叠加态\n",
    "...\n",
    "\n",
    "# QAOA层（与上面相同）\n",
    "...\n",
    "\n",
    "# 返回计算基测量结果\n",
    "return qml.probs(wires=range(n_nodes))\n",
    "\n",
    "# 获取概率分布\n",
    "probs = ...\n",
    "\n",
    "# 找到最高概率的位串\n",
    "max_prob_idx = ...\n",
    "max_bitstring = ...\n",
    "\n",
    "# 计算割的大小\n",
    "cut_size = 0\n",
    "for i in range(n_nodes):\n",
    "for j in range(i+1, n_nodes):\n",
    "if adjacency_matrix[i, j] == 1 and max_bitstring[i] != max_bitstring[j]:\n",
    "cut_size += 1\n",
    "\n",
    "return max_bitstring, cut_size\n"
   ]
  },
  {
   "cell_type": "markdown",
   "id": "4153df63",
   "metadata": {},
   "source": [
    "从优化的QAOA参数中提取最大割解决方案"
   ]
  },
  {
   "cell_type": "code",
   "execution_count": null,
   "id": "bdd901f6",
   "metadata": {},
   "outputs": [],
   "source": [
    "#     # 创建一个量子电路来获取最优解\n",
    "#     @qml.qnode(dev_qaoa)\n",
    "#     def qaoa_state(optimized_params):\n",
    "#         # 准备均匀叠加态\n",
    "#         ...\n",
    "#         \n",
    "#         # QAOA层（与上面相同）\n",
    "#         ...\n",
    "#         \n",
    "#         # 返回计算基测量结果\n",
    "#         return qml.probs(wires=range(n_nodes))\n",
    "#     \n",
    "#     # 获取概率分布\n",
    "#     probs = ...\n",
    "#     \n",
    "#     # 找到最高概率的位串\n",
    "#     max_prob_idx = ...\n",
    "#     max_bitstring = ...\n",
    "#     \n",
    "#     # 计算割的大小\n",
    "#     cut_size = 0\n",
    "#     for i in range(n_nodes):\n",
    "#         for j in range(i+1, n_nodes):\n",
    "#             if adjacency_matrix[i, j] == 1 and max_bitstring[i] != max_bitstring[j]:\n",
    "#                 cut_size += 1\n",
    "#     \n",
    "#     return max_bitstring, cut_size"
   ]
  },
  {
   "cell_type": "markdown",
   "id": "b2705d05",
   "metadata": {},
   "source": [
    "> **练习提示:**\n",
    "> 在上面的代码单元格中完成实现。可以使用`?`查看相关函数的文档，例如`qml.Hadamard?`。"
   ]
  },
  {
   "cell_type": "markdown",
   "id": "3b44f190",
   "metadata": {},
   "source": [
    "solution, cut_size = get_maxcut_solution(params_qaoa, adjacency_matrix)\n",
    "print(f\"最大割解决方案: {solution}\")\n",
    "print(f\"割的大小: {cut_size}\")\n"
   ]
  },
  {
   "cell_type": "markdown",
   "id": "3bba5c3b",
   "metadata": {},
   "source": [
    "\n",
    "## 练习4: 参数移位规则和量子梯度计算\n",
    "任务:\n",
    "1. 创建一个简单的参数化量子电路\n",
    "2. 手动实现参数移位规则计算梯度\n",
    "3. 比较手动计算的梯度与PennyLane自动计算的梯度\n",
    "4. 为不同参数值计算梯度，并绘制梯度曲线"
   ]
  },
  {
   "cell_type": "code",
   "execution_count": null,
   "id": "3336da35",
   "metadata": {},
   "outputs": [],
   "source": [
    "print(\"\\n练习4: 参数移位规则和量子梯度计算\")"
   ]
  },
  {
   "cell_type": "markdown",
   "id": "00a3a28a",
   "metadata": {},
   "source": [
    "您的代码:\n",
    "dev_grad = ...\n"
   ]
  },
  {
   "cell_type": "markdown",
   "id": "52bec158",
   "metadata": {},
   "source": [
    "@qml.qnode(dev_grad)\n",
    "def circuit(params):\n",
    "\"\"\"简单的参数化电路\"\"\"\n",
    "qml.RX(params[0], wires=0)\n",
    "qml.RY(params[1], wires=0)\n",
    "return qml.expval(qml.PauliZ(0))\n"
   ]
  },
  {
   "cell_type": "markdown",
   "id": "446be793",
   "metadata": {},
   "source": [
    "简单的参数化电路"
   ]
  },
  {
   "cell_type": "code",
   "execution_count": null,
   "id": "379ba776",
   "metadata": {},
   "outputs": [],
   "source": [
    "#     qml.RX(params[0], wires=0)\n",
    "#     qml.RY(params[1], wires=0)\n",
    "#     return qml.expval(qml.PauliZ(0))"
   ]
  },
  {
   "cell_type": "markdown",
   "id": "22499130",
   "metadata": {},
   "source": [
    "实现参数移位规则\n",
    "def parameter_shift(circuit, params, idx, shift=np.pi/2):\n",
    "\"\"\"\n",
    "使用参数移位规则计算梯度\n",
    "\n",
    "Args:\n",
    "circuit: 量子电路函数\n",
    "params: 参数数组\n",
    "idx: 要计算梯度的参数索引\n",
    "shift: 移位量\n",
    "\n",
    "Returns:\n",
    "参数的梯度\n",
    "\"\"\"\n",
    "shifted_params_plus = ...\n",
    "shifted_params_minus = ...\n",
    "\n",
    "forward = circuit(shifted_params_plus)\n",
    "backward = circuit(shifted_params_minus)\n",
    "\n",
    "gradient = ...\n",
    "\n",
    "return gradient\n"
   ]
  },
  {
   "cell_type": "markdown",
   "id": "b82067a2",
   "metadata": {},
   "source": [
    "\n",
    "#     使用参数移位规则计算梯度\n",
    "#     \n",
    "#     Args:\n",
    "#         circuit: 量子电路函数\n",
    "#         params: 参数数组\n",
    "#         idx: 要计算梯度的参数索引\n",
    "#         shift: 移位量\n",
    "#         \n",
    "#     Returns:\n",
    "#         参数的梯度\n",
    "#"
   ]
  },
  {
   "cell_type": "code",
   "execution_count": null,
   "id": "ff60f7c5",
   "metadata": {},
   "outputs": [],
   "source": [
    "#     shifted_params_plus = ...\n",
    "#     shifted_params_minus = ...\n",
    "#     \n",
    "#     forward = circuit(shifted_params_plus)\n",
    "#     backward = circuit(shifted_params_minus)\n",
    "#     \n",
    "#     gradient = ...\n",
    "#     \n",
    "#     return gradient"
   ]
  },
  {
   "cell_type": "markdown",
   "id": "42c861d5",
   "metadata": {},
   "source": [
    "> **练习提示:**\n",
    "> 在上面的代码单元格中完成实现。可以使用`?`查看相关函数的文档，例如`qml.Hadamard?`。"
   ]
  },
  {
   "cell_type": "markdown",
   "id": "62fa37d1",
   "metadata": {},
   "source": [
    "比较手动梯度与自动梯度\n",
    "test_params = ...\n",
    "\n",
    "manual_grad_0 = ...\n",
    "manual_grad_1 = ...\n",
    "\n",
    "auto_grad = qml.grad(circuit)(test_params)\n",
    "\n",
    "print(f\"参数: {test_params}\")\n",
    "print(f\"手动计算的梯度: [{manual_grad_0:.6f}, {manual_grad_1:.6f}]\")\n",
    "print(f\"PennyLane计算的梯度: {auto_grad}\")\n"
   ]
  },
  {
   "cell_type": "markdown",
   "id": "8470b8b7",
   "metadata": {},
   "source": [
    "绘制不同参数值的梯度\n",
    "param_range = np.linspace(0, 2*np.pi, 50)\n",
    "gradients_0 = []\n",
    "gradients_1 = []\n"
   ]
  },
  {
   "cell_type": "markdown",
   "id": "0d273cd1",
   "metadata": {},
   "source": [
    "for param in param_range:\n",
    "params = np.array([param, np.pi/4])  # 固定第二个参数\n",
    "grad = qml.grad(circuit)(params)\n",
    "gradients_0.append(grad[0])\n",
    "\n",
    "params = np.array([np.pi/4, param])  # 固定第一个参数\n",
    "grad = qml.grad(circuit)(params)\n",
    "gradients_1.append(grad[1])\n"
   ]
  },
  {
   "cell_type": "markdown",
   "id": "dc530a0f",
   "metadata": {},
   "source": [
    "plt.figure(figsize=(10, 5))\n",
    "plt.subplot(1, 2, 1)\n",
    "plt.plot(...)\n",
    "plt.xlabel(...)\n",
    "plt.ylabel(...)\n",
    "plt.title(...)\n",
    "plt.grid(True)\n"
   ]
  },
  {
   "cell_type": "markdown",
   "id": "c454935d",
   "metadata": {},
   "source": [
    "plt.subplot(1, 2, 2)\n",
    "plt.plot(...)\n",
    "plt.xlabel(...)\n",
    "plt.ylabel(...)\n",
    "plt.title(...)\n",
    "plt.grid(True)\n"
   ]
  },
  {
   "cell_type": "markdown",
   "id": "b87837cd",
   "metadata": {},
   "source": [
    "plt.tight_layout()\n",
    "plt.savefig('parameter_shift_gradients.png')\n",
    "plt.close()\n"
   ]
  },
  {
   "cell_type": "markdown",
   "id": "fa53da70",
   "metadata": {},
   "source": [
    "\n",
    "## 练习5: 构建变分量子门\n",
    "任务:\n",
    "1. 创建一个实现量子傅里叶变换(QFT)的变分电路\n",
    "2. 定义参数化的QFT电路，用单量子门和CNOT门近似QFT\n",
    "3. 定义成本函数，衡量变分电路与真实QFT的近似程度\n",
    "4. 优化参数以使变分电路尽可能接近真实QFT"
   ]
  },
  {
   "cell_type": "code",
   "execution_count": null,
   "id": "3bb2d12b",
   "metadata": {},
   "outputs": [],
   "source": [
    "print(\"\\n练习5: 构建变分量子门\")"
   ]
  },
  {
   "cell_type": "markdown",
   "id": "033c3a66",
   "metadata": {},
   "source": [
    "您的代码:\n",
    "n_qubits = 3\n",
    "dev_vqg = ...\n"
   ]
  },
  {
   "cell_type": "markdown",
   "id": "e2047f2e",
   "metadata": {},
   "source": [
    "定义目标QFT电路\n",
    "@qml.qnode(dev_vqg)\n",
    "def target_qft():\n",
    "\"\"\"标准QFT电路\"\"\"\n",
    "# 准备非平凡的初始态\n",
    "qml.PauliX(wires=0)\n",
    "\n",
    "# 应用QFT\n",
    "qml.QFT(wires=range(n_qubits))\n",
    "\n",
    "# 返回状态向量\n",
    "return qml.state()\n"
   ]
  },
  {
   "cell_type": "markdown",
   "id": "9356daa4",
   "metadata": {},
   "source": [
    "标准QFT电路"
   ]
  },
  {
   "cell_type": "code",
   "execution_count": null,
   "id": "90ecc761",
   "metadata": {},
   "outputs": [],
   "source": [
    "#     # 准备非平凡的初始态\n",
    "#     qml.PauliX(wires=0)\n",
    "#     \n",
    "#     # 应用QFT\n",
    "#     qml.QFT(wires=range(n_qubits))\n",
    "#     \n",
    "#     # 返回状态向量\n",
    "#     return qml.state()"
   ]
  },
  {
   "cell_type": "markdown",
   "id": "54426441",
   "metadata": {},
   "source": [
    "定义变分QFT电路\n",
    "@qml.qnode(dev_vqg)\n",
    "def variational_qft(params):\n",
    "\"\"\"变分QFT电路\"\"\"\n",
    "# 准备与目标电路相同的初始态\n",
    "qml.PauliX(wires=0)\n",
    "\n",
    "# 变分层结构\n",
    "# 提示: 考虑使用旋转门和CNOT门的组合\n",
    "# 参数可以用于旋转角度\n",
    "...\n",
    "\n",
    "# 返回状态向量\n",
    "return qml.state()\n"
   ]
  },
  {
   "cell_type": "markdown",
   "id": "2dbe1c4f",
   "metadata": {},
   "source": [
    "变分QFT电路"
   ]
  },
  {
   "cell_type": "code",
   "execution_count": null,
   "id": "42442243",
   "metadata": {},
   "outputs": [],
   "source": [
    "#     # 准备与目标电路相同的初始态\n",
    "#     qml.PauliX(wires=0)\n",
    "#     \n",
    "#     # 变分层结构\n",
    "#     # 提示: 考虑使用旋转门和CNOT门的组合\n",
    "#     # 参数可以用于旋转角度\n",
    "#     ...\n",
    "#     \n",
    "#     # 返回状态向量\n",
    "#     return qml.state()"
   ]
  },
  {
   "cell_type": "markdown",
   "id": "4cbaa018",
   "metadata": {},
   "source": [
    "> **练习提示:**\n",
    "> 在上面的代码单元格中完成实现。可以使用`?`查看相关函数的文档，例如`qml.Hadamard?`。"
   ]
  },
  {
   "cell_type": "markdown",
   "id": "c559ec75",
   "metadata": {},
   "source": [
    "计算成本函数 - 量子态保真度\n",
    "def fidelity_cost(params):\n",
    "\"\"\"计算变分电路与目标电路的保真度\"\"\"\n",
    "target_state = ...\n",
    "variational_state = ...\n",
    "\n",
    "# 计算保真度\n",
    "fidelity = ...\n",
    "\n",
    "# 我们希望最大化保真度，所以返回负保真度作为成本\n",
    "return ...\n"
   ]
  },
  {
   "cell_type": "markdown",
   "id": "8114b1fc",
   "metadata": {},
   "source": [
    "计算变分电路与目标电路的保真度"
   ]
  },
  {
   "cell_type": "code",
   "execution_count": null,
   "id": "36aac5ec",
   "metadata": {},
   "outputs": [],
   "source": [
    "#     target_state = ...\n",
    "#     variational_state = ...\n",
    "#     \n",
    "#     # 计算保真度\n",
    "#     fidelity = ...\n",
    "#     \n",
    "#     # 我们希望最大化保真度，所以返回负保真度作为成本\n",
    "#     return ..."
   ]
  },
  {
   "cell_type": "markdown",
   "id": "82d9e4f4",
   "metadata": {},
   "source": [
    "> **练习提示:**\n",
    "> 在上面的代码单元格中完成实现。可以使用`?`查看相关函数的文档，例如`qml.Hadamard?`。"
   ]
  },
  {
   "cell_type": "markdown",
   "id": "1a37a41e",
   "metadata": {},
   "source": [
    "优化变分QFT电路\n",
    "n_layers = 5  # 变分电路的层数\n",
    "n_params = ...  # 计算参数总数\n",
    "init_params = ...\n",
    "opt_vqft = ...\n",
    "params_vqft = init_params\n",
    "fidelity_history = [1 + fidelity_cost(params_vqft)]  # 转换为保真度\n"
   ]
  },
  {
   "cell_type": "markdown",
   "id": "4295e6d6",
   "metadata": {},
   "source": [
    "print(f\"初始保真度: {fidelity_history[0]:.6f}\")\n"
   ]
  },
  {
   "cell_type": "markdown",
   "id": "d46c9d5d",
   "metadata": {},
   "source": [
    "for i in range(...):\n",
    "# 优化步骤\n",
    "...\n",
    "\n",
    "# 存储保真度\n",
    "...\n",
    "\n",
    "# 打印进度\n",
    "...\n"
   ]
  },
  {
   "cell_type": "markdown",
   "id": "e6007213",
   "metadata": {},
   "source": [
    "print(f\"最终保真度: {fidelity_history[-1]:.6f}\")\n"
   ]
  },
  {
   "cell_type": "markdown",
   "id": "c3db8555",
   "metadata": {},
   "source": [
    "绘制保真度收敛过程\n",
    "plt.figure()\n",
    "plt.plot(...)\n",
    "plt.xlabel(...)\n",
    "plt.ylabel(...)\n",
    "plt.title(...)\n",
    "plt.grid(True)\n",
    "plt.ylim(0, 1.05)\n",
    "plt.savefig('variational_qft_fidelity.png')\n",
    "plt.close()\n"
   ]
  },
  {
   "cell_type": "markdown",
   "id": "e0a295f2",
   "metadata": {},
   "source": [
    "\n",
    "## 练习6: 集成不同优化器的比较\n",
    "任务:\n",
    "1. 使用相同的变分电路和初始参数\n",
    "2. 比较不同优化器的性能：GradientDescent、Adam、Adagrad和QNSPSA\n",
    "3. 绘制不同优化器的收敛曲线\n",
    "4. 分析哪种优化器在特定问题上表现最佳"
   ]
  },
  {
   "cell_type": "code",
   "execution_count": null,
   "id": "5b284eeb",
   "metadata": {},
   "outputs": [],
   "source": [
    "print(\"\\n练习6: 集成不同优化器的比较\")"
   ]
  },
  {
   "cell_type": "markdown",
   "id": "426d1365",
   "metadata": {},
   "source": [
    "您的代码:\n",
    "dev_opt = ...\n"
   ]
  },
  {
   "cell_type": "markdown",
   "id": "f969698a",
   "metadata": {},
   "source": [
    "创建一个简单的变分电路\n",
    "@qml.qnode(dev_opt)\n",
    "def opt_circuit(params):\n",
    "\"\"\"用于优化器比较的电路\"\"\"\n",
    "qml.RX(params[0], wires=0)\n",
    "qml.RY(params[1], wires=1)\n",
    "qml.CNOT(wires=[0, 1])\n",
    "qml.RZ(params[2], wires=0)\n",
    "qml.RX(params[3], wires=1)\n",
    "return qml.expval(qml.PauliZ(0) @ qml.PauliZ(1))\n"
   ]
  },
  {
   "cell_type": "markdown",
   "id": "61fe081c",
   "metadata": {},
   "source": [
    "用于优化器比较的电路"
   ]
  },
  {
   "cell_type": "code",
   "execution_count": null,
   "id": "c6183aca",
   "metadata": {},
   "outputs": [],
   "source": [
    "#     qml.RX(params[0], wires=0)\n",
    "#     qml.RY(params[1], wires=1)\n",
    "#     qml.CNOT(wires=[0, 1])\n",
    "#     qml.RZ(params[2], wires=0)\n",
    "#     qml.RX(params[3], wires=1)\n",
    "#     return qml.expval(qml.PauliZ(0) @ qml.PauliZ(1))"
   ]
  },
  {
   "cell_type": "markdown",
   "id": "a57ecd52",
   "metadata": {},
   "source": [
    "定义成本函数\n",
    "def opt_cost(params):\n",
    "\"\"\"优化的成本函数\"\"\"\n",
    "return 1 - opt_circuit(params)\n"
   ]
  },
  {
   "cell_type": "markdown",
   "id": "3a6555d7",
   "metadata": {},
   "source": [
    "优化的成本函数"
   ]
  },
  {
   "cell_type": "code",
   "execution_count": null,
   "id": "3d71ffa7",
   "metadata": {},
   "outputs": [],
   "source": [
    "#     return 1 - opt_circuit(params)"
   ]
  },
  {
   "cell_type": "markdown",
   "id": "5672286b",
   "metadata": {},
   "source": [
    "比较不同优化器\n",
    "init_params = ...\n",
    "n_steps = 100\n"
   ]
  },
  {
   "cell_type": "markdown",
   "id": "ad4f5537",
   "metadata": {},
   "source": [
    "创建优化器字典\n",
    "optimizers = {\n",
    "\"GradientDescent\": ...,\n",
    "\"Adam\": ...,\n",
    "\"Adagrad\": ...,\n",
    "\"Momentum\": ...\n",
    "}\n"
   ]
  },
  {
   "cell_type": "markdown",
   "id": "79d521ae",
   "metadata": {},
   "source": [
    "存储每个优化器的结果\n",
    "results = {}\n"
   ]
  },
  {
   "cell_type": "markdown",
   "id": "62da82c8",
   "metadata": {},
   "source": [
    "for name, opt in optimizers.items():\n",
    "params = init_params.copy()\n",
    "cost_history = [opt_cost(params)]\n",
    "\n",
    "for i in range(n_steps):\n",
    "# 优化步骤\n",
    "...\n",
    "\n",
    "# 存储成本\n",
    "...\n",
    "\n",
    "results[name] = {\n",
    "\"final_params\": params,\n",
    "\"cost_history\": cost_history,\n",
    "\"final_cost\": cost_history[-1]\n",
    "}\n",
    "\n",
    "print(f\"{name}: 最终成本 = {cost_history[-1]:.6f}\")\n"
   ]
  },
  {
   "cell_type": "markdown",
   "id": "d534f7d7",
   "metadata": {},
   "source": [
    "绘制比较结果\n",
    "plt.figure(figsize=(10, 6))\n"
   ]
  },
  {
   "cell_type": "markdown",
   "id": "a39eca18",
   "metadata": {},
   "source": [
    "for name, result in results.items():\n",
    "plt.plot(result[\"cost_history\"], label=f\"{name}\")\n"
   ]
  },
  {
   "cell_type": "markdown",
   "id": "035ed5ee",
   "metadata": {},
   "source": [
    "plt.xlabel(...)\n",
    "plt.ylabel(...)\n",
    "plt.title(...)\n",
    "plt.legend()\n",
    "plt.grid(True)\n",
    "plt.savefig('optimizer_comparison.png')\n",
    "plt.close()\n"
   ]
  },
  {
   "cell_type": "markdown",
   "id": "a949ff92",
   "metadata": {},
   "source": [
    "分析结果\n",
    "print(\"\\n优化器性能比较:\")\n",
    "for name, result in sorted(results.items(), key=lambda x: x[1][\"final_cost\"]):\n",
    "print(f\"{name}: 最终成本 = {result['final_cost']:.6f}\")\n"
   ]
  },
  {
   "cell_type": "code",
   "execution_count": null,
   "id": "715f3a87",
   "metadata": {},
   "outputs": [],
   "source": [
    "print(\"\\n完成所有练习后，请查看解决方案文件以比较您的实现。\")\n",
    "print(\"下一步: 学习量子机器学习技术和应用。\")"
   ]
  },
  {
   "cell_type": "markdown",
   "id": "ef7e04c8",
   "metadata": {},
   "source": [
    "## 💡 挑战任务\n",
    "\n",
    "尝试扩展上面的练习，探索以下内容：\n",
    "1. 更改电路参数并观察结果的变化\n",
    "2. 尝试实现不同的量子态或算法\n",
    "3. 可视化更多量子测量的结果"
   ]
  }
 ],
 "metadata": {
  "kernelspec": {
   "display_name": "Python 3",
   "language": "python",
   "name": "python3"
  },
  "language_info": {
   "codemirror_mode": {
    "name": "ipython",
    "version": 3
   },
   "file_extension": ".py",
   "mimetype": "text/x-python",
   "name": "python",
   "nbconvert_exporter": "python",
   "pygments_lexer": "ipython3",
   "version": "3.9.13"
  }
 },
 "nbformat": 4,
 "nbformat_minor": 5
}

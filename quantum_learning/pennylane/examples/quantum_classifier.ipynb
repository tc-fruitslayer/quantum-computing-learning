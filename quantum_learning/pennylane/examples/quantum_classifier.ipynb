{
 "cells": [
  {
   "cell_type": "code",
   "execution_count": null,
   "id": "e3018087",
   "metadata": {},
   "outputs": [],
   "source": [
    "#!/usr/bin/env python3\n",
    "# -*- coding: utf-8 -*-"
   ]
  },
  {
   "cell_type": "markdown",
   "id": "73dcd58a",
   "metadata": {},
   "source": [
    "\n",
    "量子分类器 - 二分类问题示例\n",
    "========================\n",
    "\n",
    "这个示例展示如何使用量子电路构建一个简单的二分类器模型。\n",
    "我们将使用PennyLane构建一个变分量子分类器(VQC)，\n",
    "并在模拟的数据集上进行训练和测试。\n",
    "\n",
    "作者: (c) 量子计算学习\n",
    "日期: 2023"
   ]
  },
  {
   "cell_type": "code",
   "execution_count": null,
   "id": "1880bdca",
   "metadata": {},
   "outputs": [],
   "source": [
    "import pennylane as qml\n",
    "from pennylane import numpy as np\n",
    "import matplotlib.pyplot as plt\n",
    "from sklearn.datasets import make_moons\n",
    "from sklearn.preprocessing import StandardScaler\n",
    "from sklearn.model_selection import train_test_split\n",
    "from sklearn.metrics import accuracy_score, confusion_matrix\n"
   ]
  },
  {
   "cell_type": "markdown",
   "id": "811d2572",
   "metadata": {},
   "source": [
    "设置中文字体（如果有需要）\n"
   ]
  },
  {
   "cell_type": "code",
   "execution_count": null,
   "id": "8367f3c5",
   "metadata": {},
   "outputs": [],
   "source": [
    "try:\n",
    "    plt.rcParams['font.sans-serif'] = ['SimHei']  # 用来正常显示中文标签\n",
    "    plt.rcParams['axes.unicode_minus'] = False    # 用来正常显示负号\n",
    "except:\n",
    "    pass\n",
    "\n",
    "print(\"量子分类器 - 二分类问题示例\")\n",
    "print(\"=========================\")\n",
    "print()"
   ]
  },
  {
   "cell_type": "markdown",
   "id": "30c40fbc",
   "metadata": {},
   "source": [
    "**可视化输出:**\n",
    "\n",
    "运行上面的代码可以查看图形输出。调整参数以观察结果如何变化。"
   ]
  },
  {
   "cell_type": "markdown",
   "id": "e212a688",
   "metadata": {},
   "source": [
    "设置随机种子以确保结果可重现\n"
   ]
  },
  {
   "cell_type": "code",
   "execution_count": null,
   "id": "98227adf",
   "metadata": {},
   "outputs": [],
   "source": [
    "np.random.seed(42)"
   ]
  },
  {
   "cell_type": "markdown",
   "id": "fbeb9653",
   "metadata": {},
   "source": [
    "生成月牙形数据集\n"
   ]
  },
  {
   "cell_type": "code",
   "execution_count": null,
   "id": "81f2b443",
   "metadata": {},
   "outputs": [],
   "source": [
    "def generate_data(n_samples=200):"
   ]
  },
  {
   "cell_type": "markdown",
   "id": "fc4e5dff",
   "metadata": {},
   "source": [
    "\n",
    "    生成二分类的月牙形数据集\n",
    "    \n",
    "    Args:\n",
    "        n_samples (int): 样本数量\n",
    "        \n",
    "    Returns:\n",
    "        tuple: (特征数据, 标签)"
   ]
  },
  {
   "cell_type": "code",
   "execution_count": null,
   "id": "6abfba10",
   "metadata": {},
   "outputs": [],
   "source": [
    "X, y = make_moons(n_samples=n_samples, noise=0.15)\n",
    "    scaler = StandardScaler()\n",
    "    X = scaler.fit_transform(X)\n",
    "    return X, y"
   ]
  },
  {
   "cell_type": "markdown",
   "id": "bf7d4a4a",
   "metadata": {},
   "source": [
    "定义量子设备\n"
   ]
  },
  {
   "cell_type": "code",
   "execution_count": null,
   "id": "ca930f01",
   "metadata": {},
   "outputs": [],
   "source": [
    "n_qubits = 4\n",
    "dev = qml.device(\"default.qubit\", wires=n_qubits)"
   ]
  },
  {
   "cell_type": "markdown",
   "id": "1398d4ae",
   "metadata": {},
   "source": [
    "定义数据编码电路\n"
   ]
  },
  {
   "cell_type": "code",
   "execution_count": null,
   "id": "e2c5acf3",
   "metadata": {},
   "outputs": [],
   "source": [
    "def data_embedding(x):"
   ]
  },
  {
   "cell_type": "markdown",
   "id": "41c28f0f",
   "metadata": {},
   "source": [
    "\n",
    "    将经典数据编码到量子态\n",
    "    使用振幅编码 (Amplitude Encoding) 方式\n",
    "    \n",
    "    Args:\n",
    "        x (ndarray): 2维特征向量"
   ]
  },
  {
   "cell_type": "code",
   "execution_count": null,
   "id": "80c313d5",
   "metadata": {},
   "outputs": [],
   "source": [
    "# 扩展特征以使用所有量子比特\n",
    "    features = np.zeros(2**n_qubits)\n",
    "    features[0] = x[0]\n",
    "    features[1] = x[1]\n",
    "    # 归一化\n",
    "    features = features / np.linalg.norm(features)\n",
    "    \n",
    "    # 振幅编码\n",
    "    qml.AmplitudeEmbedding(features=features, wires=range(n_qubits), normalize=True)"
   ]
  },
  {
   "cell_type": "markdown",
   "id": "1c5b5568",
   "metadata": {},
   "source": [
    "定义变分量子电路\n"
   ]
  },
  {
   "cell_type": "code",
   "execution_count": null,
   "id": "dced81e5",
   "metadata": {},
   "outputs": [],
   "source": [
    "def variational_circuit(params):"
   ]
  },
  {
   "cell_type": "markdown",
   "id": "4a3f3480",
   "metadata": {},
   "source": [
    "\n",
    "    创建变分量子分类器的电路结构\n",
    "    \n",
    "    Args:\n",
    "        params (ndarray): 变分参数"
   ]
  },
  {
   "cell_type": "code",
   "execution_count": null,
   "id": "3f75cfd7",
   "metadata": {},
   "outputs": [],
   "source": [
    "# 参数形状: (layers, n_qubits, 3)\n",
    "    n_layers = params.shape[0]\n",
    "    \n",
    "    # 实现一个强表达能力的可训练电路\n",
    "    for layer in range(n_layers):\n",
    "        # 单比特旋转层\n",
    "        for qubit in range(n_qubits):\n",
    "            qml.RX(params[layer, qubit, 0], wires=qubit)\n",
    "            qml.RY(params[layer, qubit, 1], wires=qubit)\n",
    "            qml.RZ(params[layer, qubit, 2], wires=qubit)\n",
    "        \n",
    "        # 纠缠层 - 环形结构\n",
    "        for qubit in range(n_qubits):\n",
    "            qml.CNOT(wires=[qubit, (qubit + 1) % n_qubits])"
   ]
  },
  {
   "cell_type": "markdown",
   "id": "3aeb2e65",
   "metadata": {},
   "source": [
    "定义量子节点（量子电路）\n"
   ]
  },
  {
   "cell_type": "code",
   "execution_count": null,
   "id": "9697d53b",
   "metadata": {},
   "outputs": [],
   "source": [
    "@qml.qnode(dev)\n",
    "def quantum_circuit(params, x):"
   ]
  },
  {
   "cell_type": "markdown",
   "id": "f814209b",
   "metadata": {},
   "source": [
    "\n",
    "    完整的量子分类器电路\n",
    "    \n",
    "    Args:\n",
    "        params (ndarray): 变分参数\n",
    "        x (ndarray): 输入特征\n",
    "        \n",
    "    Returns:\n",
    "        float: |1>状态的概率，用作分类预测"
   ]
  },
  {
   "cell_type": "code",
   "execution_count": null,
   "id": "2e29f993",
   "metadata": {},
   "outputs": [],
   "source": [
    "# 数据编码\n",
    "    data_embedding(x)\n",
    "    \n",
    "    # 可训练的变分电路\n",
    "    variational_circuit(params)\n",
    "    \n",
    "    # 测量第一个量子比特的期望值作为预测结果\n",
    "    return qml.expval(qml.PauliZ(0))"
   ]
  },
  {
   "cell_type": "markdown",
   "id": "c1a7d2df",
   "metadata": {},
   "source": [
    "定义分类器和损失函数\n"
   ]
  },
  {
   "cell_type": "code",
   "execution_count": null,
   "id": "9ccf0141",
   "metadata": {},
   "outputs": [],
   "source": [
    "def classifier_predict(params, x):"
   ]
  },
  {
   "cell_type": "markdown",
   "id": "595bab65",
   "metadata": {},
   "source": [
    "\n",
    "    基于量子电路的输出进行二分类预测\n",
    "    \n",
    "    Args:\n",
    "        params (ndarray): 模型参数\n",
    "        x (ndarray): 特征数据\n",
    "        \n",
    "    Returns:\n",
    "        int: 预测的类别 (0 或 1)"
   ]
  },
  {
   "cell_type": "code",
   "execution_count": null,
   "id": "ee6afcdb",
   "metadata": {},
   "outputs": [],
   "source": [
    "# 使用量子电路的输出\n",
    "    prediction = quantum_circuit(params, x)\n",
    "    # 将连续输出转换为二分类结果\n",
    "    return int(prediction <= 0.0)\n",
    "\n",
    "def square_loss(labels, predictions):"
   ]
  },
  {
   "cell_type": "markdown",
   "id": "b454983e",
   "metadata": {},
   "source": [
    "\n",
    "    计算平方损失\n",
    "    \n",
    "    Args:\n",
    "        labels (ndarray): 真实标签\n",
    "        predictions (ndarray): 模型预测值\n",
    "        \n",
    "    Returns:\n",
    "        float: 平均平方损失"
   ]
  },
  {
   "cell_type": "code",
   "execution_count": null,
   "id": "0332cffe",
   "metadata": {},
   "outputs": [],
   "source": [
    "return np.mean((labels - predictions) ** 2)\n",
    "\n",
    "def cost(params, X, y):"
   ]
  },
  {
   "cell_type": "markdown",
   "id": "ca3a5a36",
   "metadata": {},
   "source": [
    "\n",
    "    计算模型在数据集上的总损失\n",
    "    \n",
    "    Args:\n",
    "        params (ndarray): 模型参数\n",
    "        X (ndarray): 特征数据\n",
    "        y (ndarray): 标签\n",
    "        \n",
    "    Returns:\n",
    "        float: 平均损失值"
   ]
  },
  {
   "cell_type": "code",
   "execution_count": null,
   "id": "3844ba16",
   "metadata": {},
   "outputs": [],
   "source": [
    "# 获取量子电路原始输出\n",
    "    predictions = [quantum_circuit(params, x) for x in X]\n",
    "    \n",
    "    # 将输出转换到 0-1 范围\n",
    "    predictions = [(p + 1) / 2 for p in predictions]\n",
    "    \n",
    "    # 计算损失\n",
    "    return square_loss(y, predictions)"
   ]
  },
  {
   "cell_type": "markdown",
   "id": "5aacb7c7",
   "metadata": {},
   "source": [
    "训练分类器\n"
   ]
  },
  {
   "cell_type": "code",
   "execution_count": null,
   "id": "21544ca4",
   "metadata": {},
   "outputs": [],
   "source": [
    "def train_classifier(X_train, y_train, n_layers=2, steps=200):"
   ]
  },
  {
   "cell_type": "markdown",
   "id": "3549bb3e",
   "metadata": {},
   "source": [
    "\n",
    "    训练量子分类器\n",
    "    \n",
    "    Args:\n",
    "        X_train (ndarray): 训练特征\n",
    "        y_train (ndarray): 训练标签\n",
    "        n_layers (int): 变分电路的层数\n",
    "        steps (int): 优化步数\n",
    "        \n",
    "    Returns:\n",
    "        tuple: (优化后的参数, 损失历史)"
   ]
  },
  {
   "cell_type": "code",
   "execution_count": null,
   "id": "818b957b",
   "metadata": {},
   "outputs": [],
   "source": [
    "# 初始化随机参数\n",
    "    params = np.random.uniform(\n",
    "        low=0, high=2*np.pi, \n",
    "        size=(n_layers, n_qubits, 3)\n",
    "    )\n",
    "    \n",
    "    # 定义优化器\n",
    "    opt = qml.AdamOptimizer(stepsize=0.05)\n",
    "    \n",
    "    # 存储损失历史\n",
    "    loss_history = []\n",
    "    \n",
    "    # 迭代优化\n",
    "    for i in range(steps):\n",
    "        params, loss = opt.step_and_cost(\n",
    "            lambda p: cost(p, X_train, y_train), params\n",
    "        )\n",
    "        \n",
    "        loss_history.append(loss)\n",
    "        \n",
    "        # 每20步打印进度\n",
    "        if (i+1) % 20 == 0:\n",
    "            accuracy = accuracy_score(\n",
    "                y_train, \n",
    "                [classifier_predict(params, x) for x in X_train]\n",
    "            )\n",
    "            print(f\"步骤 {i+1}: 损失 = {loss:.4f}, 准确率 = {accuracy:.4f}\")\n",
    "    \n",
    "    return params, loss_history"
   ]
  },
  {
   "cell_type": "markdown",
   "id": "5c4ee0c6",
   "metadata": {},
   "source": [
    "可视化决策边界\n"
   ]
  },
  {
   "cell_type": "code",
   "execution_count": null,
   "id": "ae30b2a6",
   "metadata": {},
   "outputs": [],
   "source": [
    "def plot_decision_boundary(params, X, y, title=\"量子分类器决策边界\"):"
   ]
  },
  {
   "cell_type": "markdown",
   "id": "91667dd2",
   "metadata": {},
   "source": [
    "\n",
    "    绘制分类器的决策边界\n",
    "    \n",
    "    Args:\n",
    "        params (ndarray): 模型参数\n",
    "        X (ndarray): 数据特征\n",
    "        y (ndarray): 数据标签\n",
    "        title (str): 图表标题"
   ]
  },
  {
   "cell_type": "code",
   "execution_count": null,
   "id": "9a8f1e6f",
   "metadata": {},
   "outputs": [],
   "source": [
    "h = 0.05  # 网格步长\n",
    "    \n",
    "    # 创建网格\n",
    "    x_min, x_max = X[:, 0].min() - 1, X[:, 0].max() + 1\n",
    "    y_min, y_max = X[:, 1].min() - 1, X[:, 1].max() + 1\n",
    "    xx, yy = np.meshgrid(\n",
    "        np.arange(x_min, x_max, h),\n",
    "        np.arange(y_min, y_max, h)\n",
    "    )\n",
    "    \n",
    "    # 为网格中的每个点预测类别\n",
    "    Z = np.array([classifier_predict(params, np.array([x, y])) \n",
    "                  for x, y in zip(xx.ravel(), yy.ravel())])\n",
    "    Z = Z.reshape(xx.shape)\n",
    "    \n",
    "    # 绘制决策边界和散点图\n",
    "    plt.figure(figsize=(10, 8))\n",
    "    plt.contourf(xx, yy, Z, alpha=0.8, cmap=plt.cm.RdBu)\n",
    "    plt.scatter(X[:, 0], X[:, 1], c=y, s=50, edgecolor='k', cmap=plt.cm.RdBu)\n",
    "    plt.title(title)\n",
    "    plt.xlabel('特征 1')\n",
    "    plt.ylabel('特征 2')\n",
    "    plt.tight_layout()\n",
    "    plt.savefig('../images/quantum_classifier_boundary.png', dpi=300)"
   ]
  },
  {
   "cell_type": "markdown",
   "id": "b6ad9ccf",
   "metadata": {},
   "source": [
    "主函数\n"
   ]
  },
  {
   "cell_type": "code",
   "execution_count": null,
   "id": "2011f616",
   "metadata": {},
   "outputs": [],
   "source": [
    "def main():\n",
    "    # 生成数据集\n",
    "    X, y = generate_data(n_samples=200)\n",
    "    X_train, X_test, y_train, y_test = train_test_split(\n",
    "        X, y, test_size=0.25, random_state=42\n",
    "    )\n",
    "    \n",
    "    print(f\"数据集大小: {len(X)} 样本\")\n",
    "    print(f\"训练集: {len(X_train)} 样本\")\n",
    "    print(f\"测试集: {len(X_test)} 样本\")\n",
    "    \n",
    "    # 训练模型\n",
    "    print(\"\\n开始训练量子分类器...\")\n",
    "    params, loss_history = train_classifier(X_train, y_train, n_layers=3, steps=100)\n",
    "    \n",
    "    # 在测试集上评估模型\n",
    "    y_pred = [classifier_predict(params, x) for x in X_test]\n",
    "    test_accuracy = accuracy_score(y_test, y_pred)\n",
    "    \n",
    "    print(\"\\n模型评估:\")\n",
    "    print(f\"测试集准确率: {test_accuracy:.4f}\")\n",
    "    \n",
    "    # 计算并显示混淆矩阵\n",
    "    cm = confusion_matrix(y_test, y_pred)\n",
    "    print(\"\\n混淆矩阵:\")\n",
    "    print(cm)\n",
    "    \n",
    "    # 绘制训练损失\n",
    "    plt.figure(figsize=(10, 6))\n",
    "    plt.plot(loss_history)\n",
    "    plt.title('量子分类器训练损失')\n",
    "    plt.xlabel('优化步骤')\n",
    "    plt.ylabel('损失')\n",
    "    plt.grid(True)\n",
    "    plt.tight_layout()\n",
    "    plt.savefig('../images/quantum_classifier_loss.png', dpi=300)\n",
    "    \n",
    "    # 绘制决策边界\n",
    "    plot_decision_boundary(params, X, y)\n",
    "    \n",
    "    print(\"\\n量子分类器训练完成！图表已保存到images目录。\")\n",
    "\n",
    "if __name__ == \"__main__\":\n",
    "    main()"
   ]
  },
  {
   "cell_type": "markdown",
   "id": "0418c602",
   "metadata": {},
   "source": [
    "> **练习提示:**\n",
    "> 在上面的代码单元格中完成实现。可以使用`?`查看相关函数的文档，例如`qml.Hadamard?`。"
   ]
  },
  {
   "cell_type": "markdown",
   "id": "c9e96a56",
   "metadata": {},
   "source": [
    "## 💡 挑战任务\n",
    "\n",
    "尝试扩展上面的练习，探索以下内容：\n",
    "1. 更改电路参数并观察结果的变化\n",
    "2. 尝试实现不同的量子态或算法\n",
    "3. 可视化更多量子测量的结果"
   ]
  }
 ],
 "metadata": {
  "kernelspec": {
   "display_name": "Python 3",
   "language": "python",
   "name": "python3"
  },
  "language_info": {
   "codemirror_mode": {
    "name": "ipython",
    "version": 3
   },
   "file_extension": ".py",
   "mimetype": "text/x-python",
   "name": "python",
   "nbconvert_exporter": "python",
   "pygments_lexer": "ipython3",
   "version": "3.9.13"
  }
 },
 "nbformat": 4,
 "nbformat_minor": 5
}

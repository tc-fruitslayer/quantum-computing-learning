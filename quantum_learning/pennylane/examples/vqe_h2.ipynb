{
 "cells": [
  {
   "cell_type": "code",
   "execution_count": null,
   "id": "099dd5d6",
   "metadata": {},
   "outputs": [],
   "source": [
    "#!/usr/bin/env python3\n",
    "# -*- coding: utf-8 -*-"
   ]
  },
  {
   "cell_type": "markdown",
   "id": "8135554b",
   "metadata": {},
   "source": [
    "\n",
    "VQE模拟氢分子(H₂)能量\n",
    "=====================\n",
    "\n",
    "这个示例展示如何使用PennyLane的变分量子本征求解器(VQE)来模拟氢分子的基态能量。\n",
    "VQE是一种混合量子-经典算法，使用经典优化器来最小化量子波函数的能量期望值。\n",
    "\n",
    "作者: (c) 量子计算学习\n",
    "日期: 2023"
   ]
  },
  {
   "cell_type": "code",
   "execution_count": null,
   "id": "bc07b37c",
   "metadata": {},
   "outputs": [],
   "source": [
    "import pennylane as qml\n",
    "from pennylane import numpy as np\n",
    "import matplotlib.pyplot as plt\n"
   ]
  },
  {
   "cell_type": "markdown",
   "id": "0927ecc2",
   "metadata": {},
   "source": [
    "设置中文字体（如果有需要）\n"
   ]
  },
  {
   "cell_type": "code",
   "execution_count": null,
   "id": "d2e0b826",
   "metadata": {},
   "outputs": [],
   "source": [
    "try:\n",
    "    plt.rcParams['font.sans-serif'] = ['SimHei']  # 用来正常显示中文标签\n",
    "    plt.rcParams['axes.unicode_minus'] = False    # 用来正常显示负号\n",
    "except:\n",
    "    pass\n",
    "\n",
    "print(\"VQE模拟氢分子(H₂)基态能量\")\n",
    "print(\"========================\")\n",
    "print()"
   ]
  },
  {
   "cell_type": "markdown",
   "id": "f02ce94a",
   "metadata": {},
   "source": [
    "**可视化输出:**\n",
    "\n",
    "运行上面的代码可以查看图形输出。调整参数以观察结果如何变化。"
   ]
  },
  {
   "cell_type": "markdown",
   "id": "419a34f4",
   "metadata": {},
   "source": [
    "设置随机数种子以保证结果可重现\n"
   ]
  },
  {
   "cell_type": "code",
   "execution_count": null,
   "id": "45cb2688",
   "metadata": {},
   "outputs": [],
   "source": [
    "np.random.seed(42)"
   ]
  },
  {
   "cell_type": "markdown",
   "id": "51282474",
   "metadata": {},
   "source": [
    "定义模拟设备\n"
   ]
  },
  {
   "cell_type": "code",
   "execution_count": null,
   "id": "2bb4cc15",
   "metadata": {},
   "outputs": [],
   "source": [
    "dev = qml.device(\"default.qubit\", wires=2)"
   ]
  },
  {
   "cell_type": "markdown",
   "id": "11929a09",
   "metadata": {},
   "source": [
    "定义氢分子的汉密尔顿量\n"
   ]
  },
  {
   "cell_type": "code",
   "execution_count": null,
   "id": "f0ce38be",
   "metadata": {},
   "outputs": [],
   "source": [
    "def hydrogen_hamiltonian(bond_length):"
   ]
  },
  {
   "cell_type": "markdown",
   "id": "77b9ee9a",
   "metadata": {},
   "source": [
    "\n",
    "    为给定的键长创建氢分子的分子汉密尔顿量\n",
    "    \n",
    "    Args:\n",
    "        bond_length (float): 氢分子的键长，单位为埃(Å)\n",
    "        \n",
    "    Returns:\n",
    "        qml.Hamiltonian: 分子汉密尔顿量"
   ]
  },
  {
   "cell_type": "code",
   "execution_count": null,
   "id": "5b941396",
   "metadata": {},
   "outputs": [],
   "source": [
    "# 电子积分常数\n",
    "    a = 0.5 / bond_length\n",
    "    \n",
    "    # 旋转角度（用于从原子轨道到分子轨道的转换）\n",
    "    theta = np.pi / 4\n",
    "    \n",
    "    # 能量常数\n",
    "    e_core = 1.0 / bond_length\n",
    "    \n",
    "    # 轨道能量\n",
    "    e_1 = a + 1\n",
    "    e_2 = a - 1\n",
    "    \n",
    "    # 轨道-轨道相互作用\n",
    "    g = 0.25 / bond_length\n",
    "    \n",
    "    # 定义泡利算符\n",
    "    I  = qml.Identity(0)\n",
    "    Z0 = qml.PauliZ(0)\n",
    "    Z1 = qml.PauliZ(1)\n",
    "    X0 = qml.PauliX(0)\n",
    "    X1 = qml.PauliX(1)\n",
    "    Y0 = qml.PauliY(0)\n",
    "    Y1 = qml.PauliY(1)\n",
    "    \n",
    "    # 构建汉密尔顿量\n",
    "    H = (e_core * I @ I + \n",
    "         0.5 * (e_1 + e_2) * (I @ I - Z0 @ Z1) +\n",
    "         0.5 * (e_1 - e_2) * (Z0 @ I - I @ Z1) +\n",
    "         g * (X0 @ X1 + Y0 @ Y1))\n",
    "    \n",
    "    # 返回汉密尔顿量对象\n",
    "    return H"
   ]
  },
  {
   "cell_type": "markdown",
   "id": "8267fbd2",
   "metadata": {},
   "source": [
    "定义变分量子电路(Ansatz)\n"
   ]
  },
  {
   "cell_type": "code",
   "execution_count": null,
   "id": "30b6d557",
   "metadata": {},
   "outputs": [],
   "source": [
    "@qml.qnode(dev)\n",
    "def ansatz_circuit(params, bond_length=0.7414):"
   ]
  },
  {
   "cell_type": "markdown",
   "id": "a317b292",
   "metadata": {},
   "source": [
    "\n",
    "    用于VQE的参数化量子电路，针对氢分子的基态近似\n",
    "    \n",
    "    Args:\n",
    "        params (ndarray): 变分参数\n",
    "        bond_length (float): 氢分子键长，单位为埃\n",
    "        \n",
    "    Returns:\n",
    "        float: 汉密尔顿量的期望值（能量）"
   ]
  },
  {
   "cell_type": "code",
   "execution_count": null,
   "id": "864ee7a0",
   "metadata": {},
   "outputs": [],
   "source": [
    "# 初始化氢分子的哈特里-福克态：|01>\n",
    "    qml.PauliX(wires=1)\n",
    "    \n",
    "    # 应用单比特旋转层\n",
    "    qml.RY(params[0], wires=0)\n",
    "    qml.RY(params[1], wires=1)\n",
    "    \n",
    "    # 应用CNOT门产生纠缠\n",
    "    qml.CNOT(wires=[0, 1])\n",
    "    \n",
    "    # 应用第二个单比特旋转层\n",
    "    qml.RY(params[2], wires=0)\n",
    "    qml.RY(params[3], wires=1)\n",
    "    \n",
    "    # 计算并返回能量期望值\n",
    "    H = hydrogen_hamiltonian(bond_length)\n",
    "    return qml.expval(H)"
   ]
  },
  {
   "cell_type": "markdown",
   "id": "840e20d2",
   "metadata": {},
   "source": [
    "定义VQE优化函数\n"
   ]
  },
  {
   "cell_type": "code",
   "execution_count": null,
   "id": "e5e62b2d",
   "metadata": {},
   "outputs": [],
   "source": [
    "def optimize_vqe(bond_length=0.7414, steps=100, init_params=None):"
   ]
  },
  {
   "cell_type": "markdown",
   "id": "3909d5d1",
   "metadata": {},
   "source": [
    "\n",
    "    运行VQE优化以找到基态能量\n",
    "    \n",
    "    Args:\n",
    "        bond_length (float): 氢分子键长，单位为埃\n",
    "        steps (int): 优化步数\n",
    "        init_params (ndarray): 初始参数，如果为None则随机初始化\n",
    "        \n",
    "    Returns:\n",
    "        tuple: (优化后的参数, 能量历史, 最终能量)"
   ]
  },
  {
   "cell_type": "code",
   "execution_count": null,
   "id": "25680512",
   "metadata": {},
   "outputs": [],
   "source": [
    "# 如果没有提供初始参数，则随机初始化\n",
    "    if init_params is None:\n",
    "        init_params = np.random.uniform(0, 2*np.pi, size=4)\n",
    "    \n",
    "    # 定义本次优化的目标函数\n",
    "    def cost(params):\n",
    "        return ansatz_circuit(params, bond_length)\n",
    "    \n",
    "    # 选择优化器\n",
    "    opt = qml.GradientDescentOptimizer(stepsize=0.4)\n",
    "    \n",
    "    # 存储优化历史\n",
    "    params = init_params\n",
    "    energy_history = []\n",
    "    \n",
    "    # 运行优化\n",
    "    for i in range(steps):\n",
    "        params = opt.step(cost, params)\n",
    "        energy = cost(params)\n",
    "        energy_history.append(energy)\n",
    "        \n",
    "        # 每10步打印一次进度\n",
    "        if (i+1) % 10 == 0:\n",
    "            print(f\"步骤 {i+1}: 能量 = {energy:.6f} Ha\")\n",
    "    \n",
    "    return params, energy_history, energy_history[-1]"
   ]
  },
  {
   "cell_type": "markdown",
   "id": "432a9b19",
   "metadata": {},
   "source": [
    "扫描不同键长的基态能量\n"
   ]
  },
  {
   "cell_type": "code",
   "execution_count": null,
   "id": "88b3061f",
   "metadata": {},
   "outputs": [],
   "source": [
    "def bond_length_scan(bond_lengths):"
   ]
  },
  {
   "cell_type": "markdown",
   "id": "284e5a85",
   "metadata": {},
   "source": [
    "\n",
    "    对一系列键长运行VQE，创建氢分子的势能面\n",
    "    \n",
    "    Args:\n",
    "        bond_lengths (ndarray): 要扫描的键长数组，单位为埃\n",
    "        \n",
    "    Returns:\n",
    "        ndarray: 对应的基态能量数组"
   ]
  },
  {
   "cell_type": "code",
   "execution_count": null,
   "id": "f12379c6",
   "metadata": {},
   "outputs": [],
   "source": [
    "energies = []\n",
    "    opt_params = None\n",
    "    \n",
    "    for bond_length in bond_lengths:\n",
    "        print(f\"\\n计算键长 {bond_length:.4f} Å 的基态能量:\")\n",
    "        # 使用前一个优化结果作为下一个键长的初始值（热启动）\n",
    "        opt_params, _, energy = optimize_vqe(bond_length, steps=50, init_params=opt_params)\n",
    "        energies.append(energy)\n",
    "        print(f\"键长 {bond_length:.4f} Å 的基态能量: {energy:.6f} Ha\")\n",
    "    \n",
    "    return np.array(energies)"
   ]
  },
  {
   "cell_type": "markdown",
   "id": "fc913426",
   "metadata": {},
   "source": [
    "主函数\n"
   ]
  },
  {
   "cell_type": "code",
   "execution_count": null,
   "id": "733170ef",
   "metadata": {},
   "outputs": [],
   "source": [
    "def main():\n",
    "    # 第1部分：优化单一键长的基态能量\n",
    "    print(\"\\n第1部分: 优化平衡键长的基态能量\")\n",
    "    print(\"------------------------------\")\n",
    "    \n",
    "    # 氢分子的平衡键长约为0.7414埃\n",
    "    equilibrium_bond_length = 0.7414\n",
    "    \n",
    "    # 运行VQE优化\n",
    "    opt_params, energy_history, final_energy = optimize_vqe(\n",
    "        bond_length=equilibrium_bond_length, \n",
    "        steps=100\n",
    "    )\n",
    "    \n",
    "    print(\"\\n优化结果:\")\n",
    "    print(f\"最终基态能量: {final_energy:.6f} 哈特里\")\n",
    "    print(f\"优化后的参数: {opt_params}\")\n",
    "    \n",
    "    # 绘制优化过程中的能量变化\n",
    "    plt.figure(figsize=(10, 6))\n",
    "    plt.plot(energy_history, 'o-')\n",
    "    plt.title(f'氢分子VQE优化过程 (键长 = {equilibrium_bond_length} Å)')\n",
    "    plt.xlabel('优化步骤')\n",
    "    plt.ylabel('能量 (哈特里)')\n",
    "    plt.grid(True)\n",
    "    plt.tight_layout()\n",
    "    plt.savefig('../images/vqe_h2_optimization.png', dpi=300)\n",
    "    \n",
    "    # 第2部分：扫描不同键长的势能面\n",
    "    print(\"\\n第2部分: 绘制氢分子的势能面\")\n",
    "    print(\"--------------------------\")\n",
    "    \n",
    "    # 定义要扫描的键长范围\n",
    "    bond_lengths = np.linspace(0.5, 2.0, 8)\n",
    "    \n",
    "    # 运行键长扫描\n",
    "    energies = bond_length_scan(bond_lengths)\n",
    "    \n",
    "    # 绘制势能面\n",
    "    plt.figure(figsize=(10, 6))\n",
    "    plt.plot(bond_lengths, energies, 'o-')\n",
    "    plt.title('氢分子势能面 (VQE)')\n",
    "    plt.xlabel('键长 (Å)')\n",
    "    plt.ylabel('能量 (哈特里)')\n",
    "    plt.grid(True)\n",
    "    plt.tight_layout()\n",
    "    plt.savefig('../images/vqe_h2_potential_curve.png', dpi=300)\n",
    "    \n",
    "    print(\"\\nVQE模拟完成！图表已保存到images目录。\")\n",
    "\n",
    "if __name__ == \"__main__\":\n",
    "    main()"
   ]
  },
  {
   "cell_type": "markdown",
   "id": "fc16b09f",
   "metadata": {},
   "source": [
    "## 💡 挑战任务\n",
    "\n",
    "尝试扩展上面的练习，探索以下内容：\n",
    "1. 更改电路参数并观察结果的变化\n",
    "2. 尝试实现不同的量子态或算法\n",
    "3. 可视化更多量子测量的结果"
   ]
  }
 ],
 "metadata": {
  "kernelspec": {
   "display_name": "Python 3",
   "language": "python",
   "name": "python3"
  },
  "language_info": {
   "codemirror_mode": {
    "name": "ipython",
    "version": 3
   },
   "file_extension": ".py",
   "mimetype": "text/x-python",
   "name": "python",
   "nbconvert_exporter": "python",
   "pygments_lexer": "ipython3",
   "version": "3.9.13"
  }
 },
 "nbformat": 4,
 "nbformat_minor": 5
}

{
 "cells": [
  {
   "cell_type": "code",
   "execution_count": null,
   "id": "2ced0ece",
   "metadata": {},
   "outputs": [],
   "source": [
    "#!/usr/bin/env python\n",
    "# -*- coding: utf-8 -*-"
   ]
  },
  {
   "cell_type": "markdown",
   "id": "0314b259",
   "metadata": {},
   "source": [
    "\n",
    "Xanadu PennyLane框架学习 6：高级应用\n",
    "本文件详细介绍PennyLane在量子化学、量子金融和量子优化等领域的高级应用"
   ]
  },
  {
   "cell_type": "markdown",
   "id": "e8b9617c",
   "metadata": {},
   "source": [
    "导入必要的库\n"
   ]
  },
  {
   "cell_type": "code",
   "execution_count": null,
   "id": "dc1961f5",
   "metadata": {},
   "outputs": [],
   "source": [
    "import pennylane as qml\n",
    "import numpy as np\n",
    "import matplotlib.pyplot as plt\n"
   ]
  },
  {
   "cell_type": "markdown",
   "id": "ac0f260d",
   "metadata": {},
   "source": [
    "导入中文字体支持\n"
   ]
  },
  {
   "cell_type": "code",
   "execution_count": null,
   "id": "b4d9babc",
   "metadata": {},
   "outputs": [],
   "source": [
    "try:\n",
    "    from mpl_zhfonts import set_chinese_font\n",
    "    set_chinese_font()\n",
    "    print(\"已启用中文字体支持\")\n",
    "except ImportError:\n",
    "    print(\"警告: 未找到中文字体支持模块，图表中的中文可能无法正确显示\")"
   ]
  },
  {
   "cell_type": "markdown",
   "id": "9c291c39",
   "metadata": {},
   "source": [
    "尝试导入专业领域相关的库\n"
   ]
  },
  {
   "cell_type": "code",
   "execution_count": null,
   "id": "0234ae11",
   "metadata": {},
   "outputs": [],
   "source": [
    "try:\n",
    "    import openfermion\n",
    "    from openfermionpennylane import qchem\n",
    "    OPENFERMION_AVAILABLE = True\n",
    "except ImportError:\n",
    "    OPENFERMION_AVAILABLE = False\n",
    "    print(\"未安装OpenFermion和PennyLane-Chemistry，某些量子化学示例将无法运行\")\n",
    "\n",
    "print(\"===== PennyLane高级应用 =====\")"
   ]
  },
  {
   "cell_type": "markdown",
   "id": "c3ef03ca",
   "metadata": {},
   "source": [
    "检查PennyLane版本\n"
   ]
  },
  {
   "cell_type": "code",
   "execution_count": null,
   "id": "92fd1416",
   "metadata": {},
   "outputs": [],
   "source": [
    "print(f\"PennyLane版本: {qml.__version__}\")"
   ]
  },
  {
   "cell_type": "markdown",
   "id": "7c6f3738",
   "metadata": {},
   "source": [
    "1. 量子化学应用\n"
   ]
  },
  {
   "cell_type": "code",
   "execution_count": null,
   "id": "37c56c26",
   "metadata": {},
   "outputs": [],
   "source": [
    "print(\"\\n1. 量子化学应用\")\n",
    "print(\"量子计算机被认为是模拟量子系统的理想工具\")\n",
    "print(\"PennyLane提供了多种用于量子化学模拟的功能\")"
   ]
  },
  {
   "cell_type": "markdown",
   "id": "4c783f25",
   "metadata": {},
   "source": [
    "1.1 分子哈密顿量\n"
   ]
  },
  {
   "cell_type": "code",
   "execution_count": null,
   "id": "7e0ff3ac",
   "metadata": {},
   "outputs": [],
   "source": [
    "print(\"\\n1.1 分子哈密顿量\")\n",
    "print(\"电子哈密顿量描述了分子中电子的相互作用\")"
   ]
  },
  {
   "cell_type": "markdown",
   "id": "786fa7e2",
   "metadata": {},
   "source": [
    "创建一个简化的氢分子哈密顿量（用于演示）\n"
   ]
  },
  {
   "cell_type": "code",
   "execution_count": null,
   "id": "d5525b85",
   "metadata": {},
   "outputs": [],
   "source": [
    "def simplified_hydrogen_hamiltonian():"
   ]
  },
  {
   "cell_type": "markdown",
   "id": "f1897777",
   "metadata": {},
   "source": [
    "创建一个简化的氢分子哈密顿量"
   ]
  },
  {
   "cell_type": "code",
   "execution_count": null,
   "id": "4f9ff233",
   "metadata": {},
   "outputs": [],
   "source": [
    "# 只考虑最简单的项\n",
    "    coefficients = np.array([0.7, 0.2, 0.2, 0.15, 0.08])\n",
    "    observables = [\n",
    "        qml.Identity(0) @ qml.Identity(1),\n",
    "        qml.PauliZ(0),\n",
    "        qml.PauliZ(1),\n",
    "        qml.PauliZ(0) @ qml.PauliZ(1),\n",
    "        qml.PauliX(0) @ qml.PauliX(1)\n",
    "    ]\n",
    "    \n",
    "    # 创建哈密顿量\n",
    "    H = qml.Hamiltonian(coefficients, observables)\n",
    "    return H\n",
    "\n",
    "H_simplified = simplified_hydrogen_hamiltonian()\n",
    "print(f\"\\n简化的H2分子哈密顿量:\\n{H_simplified}\")"
   ]
  },
  {
   "cell_type": "markdown",
   "id": "57f75328",
   "metadata": {},
   "source": [
    "如果有OpenFermion，则演示更真实的分子构建\n"
   ]
  },
  {
   "cell_type": "code",
   "execution_count": null,
   "id": "efe4185b",
   "metadata": {},
   "outputs": [],
   "source": [
    "if OPENFERMION_AVAILABLE:\n",
    "    print(\"\\n使用OpenFermion构建真实分子哈密顿量（代码示例）:\")\n",
    "    print("
   ]
  },
  {
   "cell_type": "markdown",
   "id": "58fa55ec",
   "metadata": {},
   "source": [
    "\n",
    "    # 定义分子几何结构\n",
    "    symbols = [\"H\", \"H\"]\n",
    "    coordinates = np.array([0.0, 0.0, -0.6614, 0.0, 0.0, 0.6614])\n",
    "    \n",
    "    # 计算电子积分\n",
    "    h, coulomb = qchem.molecular_hamiltonian(\n",
    "        symbols, coordinates, basis=\"sto-3g\"\n",
    "    )\n",
    "    \n",
    "    # 转换为泡利表示的哈密顿量\n",
    "    hamiltonian = qchem.decompose_hamiltonian(h, coulomb)\n",
    "    print(hamiltonian)"
   ]
  },
  {
   "cell_type": "code",
   "execution_count": null,
   "id": "1416c5f2",
   "metadata": {},
   "outputs": [],
   "source": [
    ")\n",
    "else:\n",
    "    print(\"\\n要使用真实分子，请安装OpenFermion和PennyLane-Chemistry插件:\")\n",
    "    print(\"pip install openfermion openfermion-pennylane\")"
   ]
  },
  {
   "cell_type": "markdown",
   "id": "520ac61e",
   "metadata": {},
   "source": [
    "1.2 变分量子特征值求解器 (VQE)\n"
   ]
  },
  {
   "cell_type": "code",
   "execution_count": null,
   "id": "449f065f",
   "metadata": {},
   "outputs": [],
   "source": [
    "print(\"\\n1.2 变分量子特征值求解器 (VQE)\")\n",
    "print(\"VQE是寻找哈密顿量基态能量的量子算法\")"
   ]
  },
  {
   "cell_type": "markdown",
   "id": "6873d33b",
   "metadata": {},
   "source": [
    "创建量子设备\n"
   ]
  },
  {
   "cell_type": "code",
   "execution_count": null,
   "id": "b3ed4233",
   "metadata": {},
   "outputs": [],
   "source": [
    "dev_vqe = qml.device(\"default.qubit\", wires=2)"
   ]
  },
  {
   "cell_type": "markdown",
   "id": "00eae6c8",
   "metadata": {},
   "source": [
    "定义VQE电路\n"
   ]
  },
  {
   "cell_type": "code",
   "execution_count": null,
   "id": "75c9a7cd",
   "metadata": {},
   "outputs": [],
   "source": [
    "@qml.qnode(dev_vqe)\n",
    "def vqe_circuit(params, hamiltonian):\n",
    "    # 准备试探态\n",
    "    qml.RY(params[0], wires=0)\n",
    "    qml.RY(params[1], wires=1)\n",
    "    qml.CNOT(wires=[0, 1])\n",
    "    qml.RY(params[2], wires=0)\n",
    "    qml.RY(params[3], wires=1)\n",
    "    \n",
    "    # 返回哈密顿量的期望值\n",
    "    return qml.expval(hamiltonian)"
   ]
  },
  {
   "cell_type": "markdown",
   "id": "bbc13569",
   "metadata": {},
   "source": [
    "执行VQE优化\n"
   ]
  },
  {
   "cell_type": "code",
   "execution_count": null,
   "id": "fb46c168",
   "metadata": {},
   "outputs": [],
   "source": [
    "def run_vqe(hamiltonian, init_params=None, steps=100):"
   ]
  },
  {
   "cell_type": "markdown",
   "id": "1d44ef97",
   "metadata": {},
   "source": [
    "运行VQE优化"
   ]
  },
  {
   "cell_type": "code",
   "execution_count": null,
   "id": "a21b5715",
   "metadata": {},
   "outputs": [],
   "source": [
    "# 初始化参数\n",
    "    if init_params is None:\n",
    "        init_params = np.random.uniform(0, np.pi, 4)\n",
    "    \n",
    "    # 定义成本函数\n",
    "    def cost(params):\n",
    "        return vqe_circuit(params, hamiltonian)\n",
    "    \n",
    "    # 使用优化器\n",
    "    opt = qml.GradientDescentOptimizer(stepsize=0.4)\n",
    "    \n",
    "    # 优化过程\n",
    "    params = init_params\n",
    "    energies = [cost(params)]\n",
    "    \n",
    "    for i in range(steps):\n",
    "        params = opt.step(cost, params)\n",
    "        energies.append(cost(params))\n",
    "        \n",
    "        if (i + 1) % 20 == 0:\n",
    "            print(f\"步骤 {i+1}: 能量 = {energies[-1]:.6f}\")\n",
    "    \n",
    "    return params, energies"
   ]
  },
  {
   "cell_type": "markdown",
   "id": "02354e4e",
   "metadata": {},
   "source": [
    "运行VQE（只执行少量步骤用于演示）\n"
   ]
  },
  {
   "cell_type": "code",
   "execution_count": null,
   "id": "a483aeb3",
   "metadata": {},
   "outputs": [],
   "source": [
    "init_params = np.array([0.1, 0.2, 0.3, 0.4])\n",
    "final_params, energies = run_vqe(H_simplified, init_params, steps=60)\n",
    "\n",
    "print(f\"\\nVQE优化后的能量: {energies[-1]:.6f}\")\n",
    "print(f\"理论基态能量: -1.0\")"
   ]
  },
  {
   "cell_type": "markdown",
   "id": "75cb14ff",
   "metadata": {},
   "source": [
    "绘制能量收敛过程\n"
   ]
  },
  {
   "cell_type": "code",
   "execution_count": null,
   "id": "55f559b9",
   "metadata": {},
   "outputs": [],
   "source": [
    "plt.figure(figsize=(8, 5))\n",
    "plt.plot(energies)\n",
    "plt.xlabel('优化步骤')\n",
    "plt.ylabel('能量')\n",
    "plt.title('VQE能量收敛过程')\n",
    "plt.grid(True)\n",
    "plt.savefig('vqe_convergence.png')\n",
    "plt.close()\n",
    "\n",
    "print(\"已绘制VQE能量收敛曲线并保存为'vqe_convergence.png'\")"
   ]
  },
  {
   "cell_type": "markdown",
   "id": "70d3839e",
   "metadata": {},
   "source": [
    "1.3 激发态计算 - 量子亚空间扩展 (SSVQE)\n"
   ]
  },
  {
   "cell_type": "code",
   "execution_count": null,
   "id": "81efba75",
   "metadata": {},
   "outputs": [],
   "source": [
    "print(\"\\n1.3 激发态计算 - 量子亚空间扩展\")\n",
    "print(\"除了基态，我们还可以使用量子算法计算激发态\")"
   ]
  },
  {
   "cell_type": "markdown",
   "id": "696192ce",
   "metadata": {},
   "source": [
    "定义SSVQE电路\n"
   ]
  },
  {
   "cell_type": "code",
   "execution_count": null,
   "id": "b98c8430",
   "metadata": {},
   "outputs": [],
   "source": [
    "@qml.qnode(dev_vqe)\n",
    "def ssvqe_circuit(params, init_state, hamiltonian):\n",
    "    # 准备初始态\n",
    "    if init_state == 1:\n",
    "        qml.PauliX(wires=0)\n",
    "    elif init_state == 2:\n",
    "        qml.PauliX(wires=1)\n",
    "    elif init_state == 3:\n",
    "        qml.PauliX(wires=0)\n",
    "        qml.PauliX(wires=1)\n",
    "    \n",
    "    # 应用变分电路\n",
    "    qml.RY(params[0], wires=0)\n",
    "    qml.RY(params[1], wires=1)\n",
    "    qml.CNOT(wires=[0, 1])\n",
    "    qml.RY(params[2], wires=0)\n",
    "    qml.RY(params[3], wires=1)\n",
    "    \n",
    "    # 返回哈密顿量的期望值\n",
    "    return qml.expval(hamiltonian)"
   ]
  },
  {
   "cell_type": "markdown",
   "id": "54a57479",
   "metadata": {},
   "source": [
    "1.4 量子动力学模拟\n"
   ]
  },
  {
   "cell_type": "code",
   "execution_count": null,
   "id": "ca2a8d73",
   "metadata": {},
   "outputs": [],
   "source": [
    "print(\"\\n1.4 量子动力学模拟\")\n",
    "print(\"量子计算机可以有效地模拟量子系统的时间演化\")"
   ]
  },
  {
   "cell_type": "markdown",
   "id": "f80f7ec3",
   "metadata": {},
   "source": [
    "创建用于时间演化的量子设备\n"
   ]
  },
  {
   "cell_type": "code",
   "execution_count": null,
   "id": "b66748b3",
   "metadata": {},
   "outputs": [],
   "source": [
    "dev_dyn = qml.device(\"default.qubit\", wires=2)"
   ]
  },
  {
   "cell_type": "markdown",
   "id": "874a3e8e",
   "metadata": {},
   "source": [
    "定义量子动力学模拟电路\n"
   ]
  },
  {
   "cell_type": "code",
   "execution_count": null,
   "id": "2ebe4cd5",
   "metadata": {},
   "outputs": [],
   "source": [
    "@qml.qnode(dev_dyn)\n",
    "def time_evolution_circuit(time, hamiltonian):"
   ]
  },
  {
   "cell_type": "markdown",
   "id": "007ae274",
   "metadata": {},
   "source": [
    "模拟哈密顿量驱动下的量子态时间演化"
   ]
  },
  {
   "cell_type": "code",
   "execution_count": null,
   "id": "6d054f85",
   "metadata": {},
   "outputs": [],
   "source": [
    "# 初始态：|+⟩|+⟩\n",
    "    qml.Hadamard(wires=0)\n",
    "    qml.Hadamard(wires=1)\n",
    "    \n",
    "    # 时间演化 - 使用近似时间演化\n",
    "    qml.ApproxTimeEvolution(hamiltonian, time, 3)\n",
    "    \n",
    "    # 返回测量结果\n",
    "    return qml.expval(qml.PauliZ(0)), qml.expval(qml.PauliZ(1))"
   ]
  },
  {
   "cell_type": "markdown",
   "id": "440a5a8a",
   "metadata": {},
   "source": [
    "计算不同时间点的演化结果\n"
   ]
  },
  {
   "cell_type": "code",
   "execution_count": null,
   "id": "a2d09788",
   "metadata": {},
   "outputs": [],
   "source": [
    "times = np.linspace(0, 10, 10)  # 只使用10个时间点\n",
    "expectations = []"
   ]
  },
  {
   "cell_type": "markdown",
   "id": "8e9bbd6b",
   "metadata": {},
   "source": [
    "计算时间点的演化结果\n"
   ]
  },
  {
   "cell_type": "code",
   "execution_count": null,
   "id": "14a7a445",
   "metadata": {},
   "outputs": [],
   "source": [
    "for t in times:\n",
    "    z0, z1 = time_evolution_circuit(t, H_simplified)\n",
    "    expectations.append([z0, z1])\n",
    "\n",
    "expectations = np.array(expectations)"
   ]
  },
  {
   "cell_type": "markdown",
   "id": "f407a82b",
   "metadata": {},
   "source": [
    "绘制时间演化\n"
   ]
  },
  {
   "cell_type": "code",
   "execution_count": null,
   "id": "d38e30d0",
   "metadata": {},
   "outputs": [],
   "source": [
    "plt.figure(figsize=(8, 5))\n",
    "plt.plot(times, expectations[:, 0], 'b-', label='<Z₀>')\n",
    "plt.plot(times, expectations[:, 1], 'r-', label='<Z₁>')\n",
    "plt.xlabel('时间')\n",
    "plt.ylabel('期望值')\n",
    "plt.title('量子比特在H2有效哈密顿量下的时间演化')\n",
    "plt.legend()\n",
    "plt.grid(True)\n",
    "plt.savefig('time_evolution.png')\n",
    "plt.close()\n",
    "\n",
    "print(\"已绘制时间演化图并保存为'time_evolution.png'\")"
   ]
  },
  {
   "cell_type": "markdown",
   "id": "f0c383de",
   "metadata": {},
   "source": [
    "2. 量子金融应用\n"
   ]
  },
  {
   "cell_type": "code",
   "execution_count": null,
   "id": "5e2753e2",
   "metadata": {},
   "outputs": [],
   "source": [
    "print(\"\\n2. 量子金融应用\")\n",
    "print(\"量子计算在金融领域的应用包括优化投资组合、期权定价和风险分析\")"
   ]
  },
  {
   "cell_type": "markdown",
   "id": "2dc1cc42",
   "metadata": {},
   "source": [
    "2.1 投资组合优化\n"
   ]
  },
  {
   "cell_type": "code",
   "execution_count": null,
   "id": "318cceab",
   "metadata": {},
   "outputs": [],
   "source": [
    "print(\"\\n2.1 投资组合优化\")\n",
    "print(\"使用QAOA算法优化股票投资组合\")"
   ]
  },
  {
   "cell_type": "markdown",
   "id": "9a0506a0",
   "metadata": {},
   "source": [
    "创建用于QAOA的量子设备\n"
   ]
  },
  {
   "cell_type": "code",
   "execution_count": null,
   "id": "6b51c357",
   "metadata": {},
   "outputs": [],
   "source": [
    "n_assets = 4  # 资产数量\n",
    "dev_finance = qml.device(\"default.qubit\", wires=n_assets)"
   ]
  },
  {
   "cell_type": "markdown",
   "id": "e9711956",
   "metadata": {},
   "source": [
    "生成示例数据：回报率和相关性矩阵\n",
    "在真实应用中，这些数据来自市场分析\n"
   ]
  },
  {
   "cell_type": "code",
   "execution_count": null,
   "id": "63caffd8",
   "metadata": {},
   "outputs": [],
   "source": [
    "np.random.seed(42)\n",
    "returns = np.random.uniform(0.05, 0.15, n_assets)  # 年回报率\n",
    "cov_matrix = np.random.uniform(0, 0.1, (n_assets, n_assets))  # 初始随机矩阵\n",
    "cov_matrix = 0.5 * (cov_matrix + cov_matrix.T)  # 使其对称\n",
    "np.fill_diagonal(cov_matrix, np.random.uniform(0.1, 0.2, n_assets))  # 对角线为方差\n",
    "\n",
    "print(f\"\\n资产回报率: {returns}\")\n",
    "print(f\"协方差矩阵:\\n{cov_matrix}\")"
   ]
  },
  {
   "cell_type": "markdown",
   "id": "349fbd07",
   "metadata": {},
   "source": [
    "定义投资组合优化的成本哈密顿量\n"
   ]
  },
  {
   "cell_type": "code",
   "execution_count": null,
   "id": "5709680a",
   "metadata": {},
   "outputs": [],
   "source": [
    "def portfolio_hamiltonian(returns, cov_matrix, risk_aversion=0.5):"
   ]
  },
  {
   "cell_type": "markdown",
   "id": "5295638e",
   "metadata": {},
   "source": [
    "创建投资组合优化的哈密顿量"
   ]
  },
  {
   "cell_type": "code",
   "execution_count": null,
   "id": "1d155e9a",
   "metadata": {},
   "outputs": [],
   "source": [
    "n_assets = len(returns)\n",
    "    \n",
    "    # 收益项（负号是因为我们要最大化收益）\n",
    "    return_coeffs = [-risk_aversion * returns[i] for i in range(n_assets)]\n",
    "    return_obs = [qml.PauliZ(i) for i in range(n_assets)]\n",
    "    \n",
    "    # 风险项\n",
    "    risk_coeffs = []\n",
    "    risk_obs = []\n",
    "    \n",
    "    for i in range(n_assets):\n",
    "        for j in range(i+1, n_assets):\n",
    "            risk_coeffs.append((1 - risk_aversion) * cov_matrix[i, j])\n",
    "            risk_obs.append(qml.PauliZ(i) @ qml.PauliZ(j))\n",
    "    \n",
    "    # 组合为哈密顿量\n",
    "    all_coeffs = return_coeffs + risk_coeffs\n",
    "    all_obs = return_obs + risk_obs\n",
    "    \n",
    "    return qml.Hamiltonian(all_coeffs, all_obs)"
   ]
  },
  {
   "cell_type": "markdown",
   "id": "8212b278",
   "metadata": {},
   "source": [
    "构建投资组合哈密顿量\n"
   ]
  },
  {
   "cell_type": "code",
   "execution_count": null,
   "id": "c1307971",
   "metadata": {},
   "outputs": [],
   "source": [
    "portfolio_H = portfolio_hamiltonian(returns, cov_matrix, risk_aversion=0.7)\n",
    "print(f\"\\n投资组合优化哈密顿量:\\n{portfolio_H}\")"
   ]
  },
  {
   "cell_type": "markdown",
   "id": "1248547e",
   "metadata": {},
   "source": [
    "定义QAOA电路\n"
   ]
  },
  {
   "cell_type": "code",
   "execution_count": null,
   "id": "03d41169",
   "metadata": {},
   "outputs": [],
   "source": [
    "@qml.qnode(dev_finance)\n",
    "def qaoa_circuit(params, hamiltonian):"
   ]
  },
  {
   "cell_type": "markdown",
   "id": "eae20db9",
   "metadata": {},
   "source": [
    "用于投资组合优化的QAOA电路"
   ]
  },
  {
   "cell_type": "code",
   "execution_count": null,
   "id": "411aefe1",
   "metadata": {},
   "outputs": [],
   "source": [
    "# 准备均匀叠加态\n",
    "    for i in range(n_assets):\n",
    "        qml.Hadamard(wires=i)\n",
    "    \n",
    "    # QAOA层\n",
    "    p = len(params) // 2  # QAOA的深度\n",
    "    \n",
    "    for i in range(p):\n",
    "        # 问题哈密顿量演化\n",
    "        qml.ApproxTimeEvolution(hamiltonian, params[i], 1)\n",
    "        \n",
    "        # 混合哈密顿量演化\n",
    "        for j in range(n_assets):\n",
    "            qml.RX(params[p + i], wires=j)\n",
    "    \n",
    "    # 返回哈密顿量的期望值\n",
    "    return qml.expval(hamiltonian)"
   ]
  },
  {
   "cell_type": "markdown",
   "id": "d37ea6de",
   "metadata": {},
   "source": [
    "运行QAOA优化\n"
   ]
  },
  {
   "cell_type": "code",
   "execution_count": null,
   "id": "3cce434f",
   "metadata": {},
   "outputs": [],
   "source": [
    "def run_qaoa(hamiltonian, p=1, steps=100):"
   ]
  },
  {
   "cell_type": "markdown",
   "id": "1930c98f",
   "metadata": {},
   "source": [
    "运行QAOA优化"
   ]
  },
  {
   "cell_type": "code",
   "execution_count": null,
   "id": "a82f685d",
   "metadata": {},
   "outputs": [],
   "source": [
    "# 初始化参数（2*p个参数）\n",
    "    init_params = np.random.uniform(0, 2*np.pi, 2*p)\n",
    "    \n",
    "    # 定义成本函数\n",
    "    def cost(params):\n",
    "        return qaoa_circuit(params, hamiltonian)\n",
    "    \n",
    "    # 使用优化器\n",
    "    opt = qml.AdamOptimizer(stepsize=0.1)\n",
    "    \n",
    "    # 优化过程\n",
    "    params = init_params\n",
    "    costs = [cost(params)]\n",
    "    \n",
    "    for i in range(steps):\n",
    "        params = opt.step(cost, params)\n",
    "        costs.append(cost(params))\n",
    "        \n",
    "        if (i + 1) % 20 == 0:\n",
    "            print(f\"步骤 {i+1}: 成本 = {costs[-1]:.6f}\")\n",
    "    \n",
    "    return params, costs"
   ]
  },
  {
   "cell_type": "markdown",
   "id": "b769f311",
   "metadata": {},
   "source": [
    "运行QAOA（少量步骤用于演示）\n"
   ]
  },
  {
   "cell_type": "code",
   "execution_count": null,
   "id": "09faecd9",
   "metadata": {},
   "outputs": [],
   "source": [
    "qaoa_params, qaoa_costs = run_qaoa(portfolio_H, p=1, steps=40)\n",
    "\n",
    "print(f\"\\nQAOA优化后的投资组合成本: {qaoa_costs[-1]:.6f}\")"
   ]
  },
  {
   "cell_type": "markdown",
   "id": "1a1a8d76",
   "metadata": {},
   "source": [
    "2.2 蒙特卡洛定价\n"
   ]
  },
  {
   "cell_type": "code",
   "execution_count": null,
   "id": "fcb29786",
   "metadata": {},
   "outputs": [],
   "source": [
    "print(\"\\n2.2 量子蒙特卡洛定价\")\n",
    "print(\"量子计算提供了加速蒙特卡洛模拟的潜力\")"
   ]
  },
  {
   "cell_type": "markdown",
   "id": "c1829d6c",
   "metadata": {},
   "source": [
    "定义一个简单的量子振幅估计电路\n"
   ]
  },
  {
   "cell_type": "code",
   "execution_count": null,
   "id": "95a41726",
   "metadata": {},
   "outputs": [],
   "source": [
    "n_eval = 3  # 需要3个量子比特进行评估\n",
    "n_state = 1  # 1个量子比特表示状态\n",
    "dev_amp = qml.device(\"default.qubit\", wires=n_eval + n_state)\n",
    "\n",
    "@qml.qnode(dev_amp)\n",
    "def amplitude_estimation_circuit(theta):"
   ]
  },
  {
   "cell_type": "markdown",
   "id": "e4b41ec8",
   "metadata": {},
   "source": [
    "简化的量子振幅估计电路"
   ]
  },
  {
   "cell_type": "code",
   "execution_count": null,
   "id": "a6c404ff",
   "metadata": {},
   "outputs": [],
   "source": [
    "# 准备态|1⟩，表示我们感兴趣的状态\n",
    "    qml.PauliX(wires=n_eval)\n",
    "    \n",
    "    # 编码要估计的概率振幅（在实际应用中，这将是某种期权支付）\n",
    "    qml.RY(2 * np.arcsin(np.sqrt(theta)), wires=n_eval)\n",
    "    \n",
    "    # 评估量子比特\n",
    "    for i in range(n_eval):\n",
    "        qml.Hadamard(wires=i)\n",
    "    \n",
    "    # 应用受控量子算子\n",
    "    for i in range(n_eval):\n",
    "        qml.ctrl(qml.PauliX, control=i)(wires=n_eval)\n",
    "    \n",
    "    # 应用QFT†\n",
    "    qml.adjoint(qml.QFT)(wires=range(n_eval))\n",
    "    \n",
    "    # 返回测量概率\n",
    "    return qml.probs(wires=range(n_eval))"
   ]
  },
  {
   "cell_type": "markdown",
   "id": "7641efc8",
   "metadata": {},
   "source": [
    "估计一个示例概率\n"
   ]
  },
  {
   "cell_type": "code",
   "execution_count": null,
   "id": "9d5735b8",
   "metadata": {},
   "outputs": [],
   "source": [
    "true_prob = 0.36\n",
    "estimated_probs = amplitude_estimation_circuit(true_prob)\n",
    "\n",
    "print(f\"\\n真实概率: {true_prob}\")\n",
    "print(f\"量子振幅估计结果: {estimated_probs}\")\n",
    "print(\"振幅估计可用于期权定价，通过估计期权支付的期望值\")"
   ]
  },
  {
   "cell_type": "markdown",
   "id": "885e55ee",
   "metadata": {},
   "source": [
    "3. 量子优化问题\n"
   ]
  },
  {
   "cell_type": "code",
   "execution_count": null,
   "id": "26a946e0",
   "metadata": {},
   "outputs": [],
   "source": [
    "print(\"\\n3. 量子优化问题\")\n",
    "print(\"量子计算在复杂优化问题上展现出潜力\")"
   ]
  },
  {
   "cell_type": "markdown",
   "id": "1832da28",
   "metadata": {},
   "source": [
    "3.1 最大割问题\n"
   ]
  },
  {
   "cell_type": "code",
   "execution_count": null,
   "id": "decdd283",
   "metadata": {},
   "outputs": [],
   "source": [
    "print(\"\\n3.1 最大割问题\")\n",
    "print(\"最大割问题是一个NP难问题，适合用量子算法解决\")"
   ]
  },
  {
   "cell_type": "markdown",
   "id": "b053e969",
   "metadata": {},
   "source": [
    "创建用于最大割的量子设备\n"
   ]
  },
  {
   "cell_type": "code",
   "execution_count": null,
   "id": "096dc6ef",
   "metadata": {},
   "outputs": [],
   "source": [
    "n_nodes = 4  # 节点数量\n",
    "dev_maxcut = qml.device(\"default.qubit\", wires=n_nodes)"
   ]
  },
  {
   "cell_type": "markdown",
   "id": "716aa189",
   "metadata": {},
   "source": [
    "创建示例图\n"
   ]
  },
  {
   "cell_type": "code",
   "execution_count": null,
   "id": "0508b31b",
   "metadata": {},
   "outputs": [],
   "source": [
    "adjacency_matrix = np.array([\n",
    "    [0, 1, 1, 0],\n",
    "    [1, 0, 1, 1],\n",
    "    [1, 1, 0, 1],\n",
    "    [0, 1, 1, 0]\n",
    "])\n",
    "\n",
    "print(f\"\\n图的邻接矩阵:\\n{adjacency_matrix}\")"
   ]
  },
  {
   "cell_type": "markdown",
   "id": "691945f7",
   "metadata": {},
   "source": [
    "定义最大割哈密顿量\n"
   ]
  },
  {
   "cell_type": "code",
   "execution_count": null,
   "id": "a1b9e822",
   "metadata": {},
   "outputs": [],
   "source": [
    "def maxcut_hamiltonian(adjacency_matrix):"
   ]
  },
  {
   "cell_type": "markdown",
   "id": "47d949f1",
   "metadata": {},
   "source": [
    "创建最大割问题的哈密顿量"
   ]
  },
  {
   "cell_type": "code",
   "execution_count": null,
   "id": "e783e2dd",
   "metadata": {},
   "outputs": [],
   "source": [
    "n_nodes = len(adjacency_matrix)\n",
    "    coeffs = []\n",
    "    obs = []\n",
    "    \n",
    "    for i in range(n_nodes):\n",
    "        for j in range(i+1, n_nodes):\n",
    "            if adjacency_matrix[i, j] == 1:\n",
    "                coeffs.append(0.5)\n",
    "                obs.append(qml.PauliZ(i) @ qml.PauliZ(j))\n",
    "                \n",
    "                coeffs.append(-0.5)\n",
    "                obs.append(qml.Identity(0))\n",
    "    \n",
    "    return qml.Hamiltonian(coeffs, obs)"
   ]
  },
  {
   "cell_type": "markdown",
   "id": "5f01443e",
   "metadata": {},
   "source": [
    "构建最大割哈密顿量\n"
   ]
  },
  {
   "cell_type": "code",
   "execution_count": null,
   "id": "f22e1c76",
   "metadata": {},
   "outputs": [],
   "source": [
    "maxcut_H = maxcut_hamiltonian(adjacency_matrix)\n",
    "print(f\"\\n最大割问题哈密顿量:\\n{maxcut_H}\")"
   ]
  },
  {
   "cell_type": "markdown",
   "id": "2939d155",
   "metadata": {},
   "source": [
    "定义QAOA电路\n"
   ]
  },
  {
   "cell_type": "code",
   "execution_count": null,
   "id": "16789d37",
   "metadata": {},
   "outputs": [],
   "source": [
    "@qml.qnode(dev_maxcut)\n",
    "def maxcut_qaoa_circuit(params, hamiltonian):"
   ]
  },
  {
   "cell_type": "markdown",
   "id": "4bb196e5",
   "metadata": {},
   "source": [
    "用于最大割问题的QAOA电路"
   ]
  },
  {
   "cell_type": "code",
   "execution_count": null,
   "id": "a2d5224a",
   "metadata": {},
   "outputs": [],
   "source": [
    "# 准备均匀叠加态\n",
    "    for i in range(n_nodes):\n",
    "        qml.Hadamard(wires=i)\n",
    "    \n",
    "    # QAOA层\n",
    "    p = len(params) // (2 * n_nodes)  # QAOA的深度\n",
    "    \n",
    "    for i in range(p):\n",
    "        # 问题哈密顿量演化\n",
    "        qml.ApproxTimeEvolution(hamiltonian, params[i], 1)\n",
    "        \n",
    "        # 混合哈密顿量演化\n",
    "        for j in range(n_nodes):\n",
    "            qml.RX(params[p + i*n_nodes + j], wires=j)\n",
    "    \n",
    "    # 返回哈密顿量的期望值\n",
    "    return qml.expval(hamiltonian)"
   ]
  },
  {
   "cell_type": "markdown",
   "id": "89814fef",
   "metadata": {},
   "source": [
    "3.2 旅行商问题\n"
   ]
  },
  {
   "cell_type": "code",
   "execution_count": null,
   "id": "902ac88e",
   "metadata": {},
   "outputs": [],
   "source": [
    "print(\"\\n3.2 旅行商问题\")\n",
    "print(\"旅行商问题是一个著名的组合优化问题\")"
   ]
  },
  {
   "cell_type": "markdown",
   "id": "a1e28d16",
   "metadata": {},
   "source": [
    "创建城市距离矩阵\n"
   ]
  },
  {
   "cell_type": "code",
   "execution_count": null,
   "id": "4c6e0383",
   "metadata": {},
   "outputs": [],
   "source": [
    "n_cities = 4\n",
    "np.random.seed(123)\n",
    "distances = np.random.uniform(1, 10, (n_cities, n_cities))\n",
    "distances = (distances + distances.T) / 2  # 确保对称\n",
    "np.fill_diagonal(distances, 0)  # 对角线为0\n",
    "\n",
    "print(f\"\\n城市间距离矩阵:\\n{distances}\")\n",
    "\n",
    "print(\"\\n旅行商问题需要更复杂的编码和约束条件\")\n",
    "print(\"通常需要使用QUBO（二次无约束二进制优化）表示\")\n",
    "print(\"这超出了基础演示的范围，但方法类似于最大割问题\")"
   ]
  },
  {
   "cell_type": "markdown",
   "id": "8d6d5f94",
   "metadata": {},
   "source": [
    "4. 量子机器学习高级应用\n"
   ]
  },
  {
   "cell_type": "code",
   "execution_count": null,
   "id": "1f868c82",
   "metadata": {},
   "outputs": [],
   "source": [
    "print(\"\\n4. 量子机器学习高级应用\")\n",
    "print(\"量子机器学习结合了量子计算和机器学习的优势\")"
   ]
  },
  {
   "cell_type": "markdown",
   "id": "8878dcc5",
   "metadata": {},
   "source": [
    "4.1 量子卷积神经网络\n"
   ]
  },
  {
   "cell_type": "code",
   "execution_count": null,
   "id": "11b0c843",
   "metadata": {},
   "outputs": [],
   "source": [
    "print(\"\\n4.1 量子卷积神经网络 (QCNN)\")\n",
    "print(\"QCNN结合了量子电路和卷积神经网络的思想\")"
   ]
  },
  {
   "cell_type": "markdown",
   "id": "b2ce6f92",
   "metadata": {},
   "source": [
    "创建用于QCNN的设备\n"
   ]
  },
  {
   "cell_type": "code",
   "execution_count": null,
   "id": "32e864fb",
   "metadata": {},
   "outputs": [],
   "source": [
    "n_qubits_qcnn = 8\n",
    "dev_qcnn = qml.device(\"default.qubit\", wires=n_qubits_qcnn)"
   ]
  },
  {
   "cell_type": "markdown",
   "id": "b2ae1ae1",
   "metadata": {},
   "source": [
    "定义卷积层\n"
   ]
  },
  {
   "cell_type": "code",
   "execution_count": null,
   "id": "ec47930d",
   "metadata": {},
   "outputs": [],
   "source": [
    "def quantum_conv_layer(params, wires):"
   ]
  },
  {
   "cell_type": "markdown",
   "id": "0f605570",
   "metadata": {},
   "source": [
    "量子卷积层"
   ]
  },
  {
   "cell_type": "code",
   "execution_count": null,
   "id": "304ea9f4",
   "metadata": {},
   "outputs": [],
   "source": [
    "# 应用旋转门\n",
    "    for i, wire in enumerate(wires):\n",
    "        qml.RY(params[i, 0], wires=wire)\n",
    "        qml.RZ(params[i, 1], wires=wire)\n",
    "    \n",
    "    # 应用纠缠门连接相邻量子比特\n",
    "    for i in range(len(wires) - 1):\n",
    "        qml.CNOT(wires=[wires[i], wires[i+1]])\n",
    "    \n",
    "    # 闭合边界条件（可选）\n",
    "    # qml.CNOT(wires=[wires[-1], wires[0]])"
   ]
  },
  {
   "cell_type": "markdown",
   "id": "209e1e2a",
   "metadata": {},
   "source": [
    "定义池化层\n"
   ]
  },
  {
   "cell_type": "code",
   "execution_count": null,
   "id": "a06be6cb",
   "metadata": {},
   "outputs": [],
   "source": [
    "def quantum_pool_layer(params, wires):"
   ]
  },
  {
   "cell_type": "markdown",
   "id": "28f14e05",
   "metadata": {},
   "source": [
    "量子池化层 - 将成对量子比特映射到单个量子比特"
   ]
  },
  {
   "cell_type": "code",
   "execution_count": null,
   "id": "1e18b00a",
   "metadata": {},
   "outputs": [],
   "source": [
    "for i in range(0, len(wires), 2):\n",
    "        if i + 1 < len(wires):\n",
    "            # 每两个量子比特参数化操作\n",
    "            qml.RY(params[i//2, 0], wires=wires[i])\n",
    "            qml.RY(params[i//2, 1], wires=wires[i+1])\n",
    "            qml.CNOT(wires=[wires[i], wires[i+1]])\n",
    "            qml.RY(params[i//2, 2], wires=wires[i])\n",
    "            qml.RY(params[i//2, 3], wires=wires[i+1])"
   ]
  },
  {
   "cell_type": "markdown",
   "id": "b9ea397d",
   "metadata": {},
   "source": [
    "定义完整的QCNN结构\n"
   ]
  },
  {
   "cell_type": "code",
   "execution_count": null,
   "id": "b7a53982",
   "metadata": {},
   "outputs": [],
   "source": [
    "@qml.qnode(dev_qcnn)\n",
    "def qcnn_circuit(params, features):"
   ]
  },
  {
   "cell_type": "markdown",
   "id": "343b538d",
   "metadata": {},
   "source": [
    "完整的QCNN电路"
   ]
  },
  {
   "cell_type": "code",
   "execution_count": null,
   "id": "d46a39a6",
   "metadata": {},
   "outputs": [],
   "source": [
    "# 编码输入特征\n",
    "    qml.templates.AngleEmbedding(features, wires=range(n_qubits_qcnn))\n",
    "    \n",
    "    # 第一个卷积层\n",
    "    quantum_conv_layer(params[0], wires=range(n_qubits_qcnn))\n",
    "    \n",
    "    # 第一个池化层 - 从8个量子比特到4个\n",
    "    active_wires = list(range(n_qubits_qcnn))\n",
    "    pooled_wires = active_wires[::2]  # 取偶数位置的量子比特\n",
    "    quantum_pool_layer(params[1], wires=active_wires)\n",
    "    active_wires = pooled_wires\n",
    "    \n",
    "    # 第二个卷积层\n",
    "    quantum_conv_layer(params[2], wires=active_wires)\n",
    "    \n",
    "    # 第二个池化层 - 从4个量子比特到2个\n",
    "    pooled_wires = active_wires[::2]\n",
    "    quantum_pool_layer(params[3], wires=active_wires)\n",
    "    active_wires = pooled_wires\n",
    "    \n",
    "    # 最后的卷积层\n",
    "    quantum_conv_layer(params[4], wires=active_wires)\n",
    "    \n",
    "    # 简单的全连接层 - 测量第一个量子比特\n",
    "    return qml.expval(qml.PauliZ(0))"
   ]
  },
  {
   "cell_type": "markdown",
   "id": "8d9b974a",
   "metadata": {},
   "source": [
    "创建随机参数\n"
   ]
  },
  {
   "cell_type": "code",
   "execution_count": null,
   "id": "231f0fe1",
   "metadata": {},
   "outputs": [],
   "source": [
    "num_conv1_params = (n_qubits_qcnn, 2)\n",
    "num_pool1_params = (n_qubits_qcnn // 2, 4)\n",
    "num_conv2_params = (n_qubits_qcnn // 2, 2)\n",
    "num_pool2_params = (n_qubits_qcnn // 4, 4)\n",
    "num_conv3_params = (n_qubits_qcnn // 4, 2)"
   ]
  },
  {
   "cell_type": "markdown",
   "id": "8551a567",
   "metadata": {},
   "source": [
    "构建参数\n"
   ]
  },
  {
   "cell_type": "code",
   "execution_count": null,
   "id": "f972d5a1",
   "metadata": {},
   "outputs": [],
   "source": [
    "params = [\n",
    "    np.random.uniform(-np.pi, np.pi, num_conv1_params),\n",
    "    np.random.uniform(-np.pi, np.pi, num_pool1_params),\n",
    "    np.random.uniform(-np.pi, np.pi, num_conv2_params),\n",
    "    np.random.uniform(-np.pi, np.pi, num_pool2_params),\n",
    "    np.random.uniform(-np.pi, np.pi, num_conv3_params)\n",
    "]"
   ]
  },
  {
   "cell_type": "markdown",
   "id": "edae7578",
   "metadata": {},
   "source": [
    "创建随机特征\n"
   ]
  },
  {
   "cell_type": "code",
   "execution_count": null,
   "id": "1383d3d2",
   "metadata": {},
   "outputs": [],
   "source": [
    "features = np.random.uniform(-np.pi, np.pi, n_qubits_qcnn)"
   ]
  },
  {
   "cell_type": "markdown",
   "id": "17dd4e72",
   "metadata": {},
   "source": [
    "执行QCNN\n"
   ]
  },
  {
   "cell_type": "code",
   "execution_count": null,
   "id": "9170f985",
   "metadata": {},
   "outputs": [],
   "source": [
    "result = qcnn_circuit(params, features)\n",
    "print(f\"\\nQCNN输出: {result:.6f}\")"
   ]
  },
  {
   "cell_type": "markdown",
   "id": "1b235953",
   "metadata": {},
   "source": [
    "4.2 量子生成对抗网络\n"
   ]
  },
  {
   "cell_type": "code",
   "execution_count": null,
   "id": "e6fab277",
   "metadata": {},
   "outputs": [],
   "source": [
    "print(\"\\n4.2 量子生成对抗网络 (QGAN)\")\n",
    "print(\"QGAN结合了量子电路和GAN的思想\")\n",
    "\n",
    "print(\"\\nQGAN通常包含:\")\n",
    "print(\"1. 量子生成器 - 创建量子态\")\n",
    "print(\"2. 量子或经典判别器 - 区分真实和生成的量子态\")\n",
    "print(\"3. 对抗训练过程\")\n",
    "\n",
    "print(\"\\n一个完整的QGAN实现需要更复杂的训练循环，这里只展示基本结构\")"
   ]
  },
  {
   "cell_type": "markdown",
   "id": "5f06e31d",
   "metadata": {},
   "source": [
    "5. 量子误差缓解技术\n"
   ]
  },
  {
   "cell_type": "code",
   "execution_count": null,
   "id": "3bb2f215",
   "metadata": {},
   "outputs": [],
   "source": [
    "print(\"\\n5. 量子误差缓解技术\")\n",
    "print(\"在NISQ时代，处理量子噪声至关重要\")"
   ]
  },
  {
   "cell_type": "markdown",
   "id": "035b4e88",
   "metadata": {},
   "source": [
    "5.1 噪声外推法\n"
   ]
  },
  {
   "cell_type": "code",
   "execution_count": null,
   "id": "ef4208c3",
   "metadata": {},
   "outputs": [],
   "source": [
    "print(\"5.1 噪声外推法\")\n",
    "print(\"通过在不同噪声水平下执行电路，可以外推到零噪声结果\")"
   ]
  },
  {
   "cell_type": "markdown",
   "id": "235302bd",
   "metadata": {},
   "source": [
    "创建一个支持噪声操作的设备\n"
   ]
  },
  {
   "cell_type": "code",
   "execution_count": null,
   "id": "38855cf9",
   "metadata": {},
   "outputs": [],
   "source": [
    "dev_noisy = qml.device('default.mixed', wires=1)"
   ]
  },
  {
   "cell_type": "markdown",
   "id": "6e50f5f1",
   "metadata": {},
   "source": [
    "定义一个带噪声的量子电路\n"
   ]
  },
  {
   "cell_type": "code",
   "execution_count": null,
   "id": "426b6de5",
   "metadata": {},
   "outputs": [],
   "source": [
    "@qml.qnode(dev_noisy)\n",
    "def noisy_circuit(params, noise_level=0.0):"
   ]
  },
  {
   "cell_type": "markdown",
   "id": "894d6f75",
   "metadata": {},
   "source": [
    "带噪声的量子电路"
   ]
  },
  {
   "cell_type": "code",
   "execution_count": null,
   "id": "f9fddec6",
   "metadata": {},
   "outputs": [],
   "source": [
    "# 应用旋转门\n",
    "    qml.RX(params[0], wires=0)\n",
    "    qml.RY(params[1], wires=0)\n",
    "    \n",
    "    # 添加去极化噪声\n",
    "    if noise_level > 0:\n",
    "        qml.DepolarizingChannel(noise_level, wires=0)\n",
    "    \n",
    "    # 测量\n",
    "    return qml.expval(qml.PauliZ(0))"
   ]
  },
  {
   "cell_type": "markdown",
   "id": "769bd195",
   "metadata": {},
   "source": [
    "使用零噪声外推\n"
   ]
  },
  {
   "cell_type": "code",
   "execution_count": null,
   "id": "9f1f83f2",
   "metadata": {},
   "outputs": [],
   "source": [
    "def zero_noise_extrapolation(circuit, params):"
   ]
  },
  {
   "cell_type": "markdown",
   "id": "ed79e0aa",
   "metadata": {},
   "source": [
    "零噪声外推方法"
   ]
  },
  {
   "cell_type": "code",
   "execution_count": null,
   "id": "3fb4f9ba",
   "metadata": {},
   "outputs": [],
   "source": [
    "# 使用不同的噪声级别\n",
    "    noise_levels = [0.0, 0.1, 0.2, 0.3]\n",
    "    results = []\n",
    "    \n",
    "    # 在不同噪声级别下运行电路\n",
    "    for noise in noise_levels:\n",
    "        res = circuit(params, noise_level=noise)\n",
    "        results.append(res)\n",
    "        print(f\"噪声级别 {noise:.1f}: 结果 = {res:.6f}\")\n",
    "    \n",
    "    # 使用线性回归外推到零噪声\n",
    "    from sklearn.linear_model import LinearRegression\n",
    "    model = LinearRegression()\n",
    "    X = np.array(noise_levels).reshape(-1, 1)\n",
    "    y = np.array(results)\n",
    "    model.fit(X, y)\n",
    "    \n",
    "    # 外推到零噪声\n",
    "    extrapolated = model.predict(np.array([0.0]).reshape(-1, 1))[0]\n",
    "    return extrapolated"
   ]
  },
  {
   "cell_type": "markdown",
   "id": "6861a806",
   "metadata": {},
   "source": [
    "生成随机参数并应用零噪声外推\n"
   ]
  },
  {
   "cell_type": "code",
   "execution_count": null,
   "id": "66ab420c",
   "metadata": {},
   "outputs": [],
   "source": [
    "params = np.random.normal(0, np.pi, 2)\n",
    "zne_result = zero_noise_extrapolation(noisy_circuit, params)\n",
    "print(f\"零噪声外推结果: {zne_result:.6f}\")"
   ]
  },
  {
   "cell_type": "markdown",
   "id": "459d7009",
   "metadata": {},
   "source": [
    "5.2 其他量子误差缓解技术\n"
   ]
  },
  {
   "cell_type": "code",
   "execution_count": null,
   "id": "80ed6ca3",
   "metadata": {},
   "outputs": [],
   "source": [
    "print(\"\\n5.2 其他量子误差缓解技术\")\n",
    "print(\"- 概率误差消除法\")\n",
    "print(\"- 动态解耦技术\")\n",
    "print(\"- 量子纠错码\")\n",
    "print(\"- 后选择方法\")\n",
    "print(\"- 镀金方法\")"
   ]
  },
  {
   "cell_type": "markdown",
   "id": "9ed3afc7",
   "metadata": {},
   "source": [
    "6. 实际部署和量子云服务\n"
   ]
  },
  {
   "cell_type": "code",
   "execution_count": null,
   "id": "f0e05495",
   "metadata": {},
   "outputs": [],
   "source": [
    "print(\"\\n6. 实际部署和量子云服务\")\n",
    "print(\"PennyLane可以与多个量子云服务集成\")\n",
    "\n",
    "print(\"\\n支持的量子硬件提供商:\")\n",
    "print(\"- IBM Quantum\")\n",
    "print(\"- Amazon Braket\")\n",
    "print(\"- Microsoft Azure Quantum\")\n",
    "print(\"- Rigetti\")\n",
    "print(\"- Xanadu Cloud\")\n",
    "\n",
    "print(\"\\n连接到真实量子设备的示例代码:\")\n",
    "print("
   ]
  },
  {
   "cell_type": "markdown",
   "id": "651a98b1",
   "metadata": {},
   "source": [
    "\n",
    "# IBM Quantum 集成示例\n",
    "# 需要先安装 pennylane-qiskit\n",
    "# dev = qml.device('qiskit.ibmq', wires=2, backend='ibm_oslo', ibmqx_token=\"YOUR_TOKEN\")\n",
    "\n",
    "# Amazon Braket 集成示例\n",
    "# 需要先安装 pennylane-braket 和设置 AWS 凭证\n",
    "# dev = qml.device('braket.aws.qubit', wires=2, device_arn='arn:aws:braket:::device/quantum-simulator/amazon/sv1')\n",
    "\n",
    "# 创建量子节点\n",
    "@qml.qnode(dev)\n",
    "def cloud_circuit(params):\n",
    "    qml.RX(params[0], wires=0)\n",
    "    qml.RY(params[1], wires=1)\n",
    "    qml.CNOT(wires=[0, 1])\n",
    "    return qml.expval(qml.PauliZ(0) @ qml.PauliZ(1))\n",
    "\n",
    "# 执行云上的量子计算\n",
    "result = cloud_circuit([0.1, 0.2])"
   ]
  },
  {
   "cell_type": "markdown",
   "id": "debeb0c3",
   "metadata": {},
   "source": [
    "IBM Quantum 集成示例\n",
    "需要先安装 pennylane-qiskit\n",
    "dev = qml.device('qiskit.ibmq', wires=2, backend='ibm_oslo', ibmqx_token=\"YOUR_TOKEN\")\n"
   ]
  },
  {
   "cell_type": "markdown",
   "id": "faf97d63",
   "metadata": {},
   "source": [
    "Amazon Braket 集成示例\n",
    "需要先安装 pennylane-braket 和设置 AWS 凭证\n",
    "dev = qml.device('braket.aws.qubit', wires=2, device_arn='arn:aws:braket:::device/quantum-simulator/amazon/sv1')\n"
   ]
  },
  {
   "cell_type": "markdown",
   "id": "67083e66",
   "metadata": {},
   "source": [
    "创建量子节点\n"
   ]
  },
  {
   "cell_type": "code",
   "execution_count": null,
   "id": "356ac3c6",
   "metadata": {},
   "outputs": [],
   "source": [
    "@qml.qnode(dev)\n",
    "def cloud_circuit(params):\n",
    "    qml.RX(params[0], wires=0)\n",
    "    qml.RY(params[1], wires=1)\n",
    "    qml.CNOT(wires=[0, 1])\n",
    "    return qml.expval(qml.PauliZ(0) @ qml.PauliZ(1))"
   ]
  },
  {
   "cell_type": "markdown",
   "id": "88d82406",
   "metadata": {},
   "source": [
    "执行云上的量子计算\n"
   ]
  },
  {
   "cell_type": "code",
   "execution_count": null,
   "id": "b02ab366",
   "metadata": {},
   "outputs": [],
   "source": [
    "result = cloud_circuit([0.1, 0.2])\n",
    "\"\"\")"
   ]
  },
  {
   "cell_type": "markdown",
   "id": "3731e310",
   "metadata": {},
   "source": [
    "7. 总结\n"
   ]
  },
  {
   "cell_type": "code",
   "execution_count": null,
   "id": "55ac1536",
   "metadata": {},
   "outputs": [],
   "source": [
    "print(\"\\n7. 总结\")\n",
    "print(\"1. 量子计算在化学、金融和优化等领域有广泛应用\")\n",
    "print(\"2. VQE是量子化学中最重要的量子算法之一\")\n",
    "print(\"3. 量子优化算法如QAOA可以解决组合优化问题\")\n",
    "print(\"4. 高级量子机器学习模型如QCNN和QGAN展现了量子计算的潜力\")\n",
    "print(\"5. 量子误差缓解技术对于在当前噪声设备上运行算法至关重要\")\n",
    "print(\"6. PennyLane与多个量子云服务的集成使实际部署成为可能\")\n",
    "\n",
    "print(\"\\n下一步学习:\")\n",
    "print(\"- 深入探索特定领域的应用\")\n",
    "print(\"- 量子算法的伸缩性和资源分析\")\n",
    "print(\"- 更复杂的量子误差缓解和纠错技术\")"
   ]
  },
  {
   "cell_type": "markdown",
   "id": "70b76e67",
   "metadata": {},
   "source": [
    "## 💡 挑战任务\n",
    "\n",
    "尝试扩展上面的练习，探索以下内容：\n",
    "1. 更改电路参数并观察结果的变化\n",
    "2. 尝试实现不同的量子态或算法\n",
    "3. 可视化更多量子测量的结果"
   ]
  }
 ],
 "metadata": {
  "kernelspec": {
   "display_name": "Python 3",
   "language": "python",
   "name": "python3"
  },
  "language_info": {
   "codemirror_mode": {
    "name": "ipython",
    "version": 3
   },
   "file_extension": ".py",
   "mimetype": "text/x-python",
   "name": "python",
   "nbconvert_exporter": "python",
   "pygments_lexer": "ipython3",
   "version": "3.9.13"
  }
 },
 "nbformat": 4,
 "nbformat_minor": 5
}

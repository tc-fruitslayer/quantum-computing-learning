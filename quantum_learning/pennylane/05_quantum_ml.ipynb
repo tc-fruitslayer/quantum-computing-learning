{
 "cells": [
  {
   "cell_type": "code",
   "execution_count": null,
   "id": "a04f56a2",
   "metadata": {},
   "outputs": [],
   "source": [
    "#!/usr/bin/env python\n",
    "# -*- coding: utf-8 -*-"
   ]
  },
  {
   "cell_type": "markdown",
   "id": "8fab7e09",
   "metadata": {},
   "source": [
    "\n",
    "Xanadu PennyLane框架学习 5：量子机器学习\n",
    "本文件详细介绍量子机器学习的概念、模型和实现"
   ]
  },
  {
   "cell_type": "markdown",
   "id": "9496f92a",
   "metadata": {},
   "source": [
    "导入必要的库\n"
   ]
  },
  {
   "cell_type": "code",
   "execution_count": null,
   "id": "486a87be",
   "metadata": {},
   "outputs": [],
   "source": [
    "import pennylane as qml\n",
    "import numpy as np\n",
    "import matplotlib.pyplot as plt\n"
   ]
  },
  {
   "cell_type": "markdown",
   "id": "13405bb2",
   "metadata": {},
   "source": [
    "尝试导入经典机器学习库（可选）\n"
   ]
  },
  {
   "cell_type": "code",
   "execution_count": null,
   "id": "5c9f166f",
   "metadata": {},
   "outputs": [],
   "source": [
    "try:\n",
    "    import sklearn\n",
    "    from sklearn.datasets import make_moons, load_iris\n",
    "    from sklearn.preprocessing import StandardScaler\n",
    "    from sklearn.model_selection import train_test_split\n",
    "    SKLEARN_AVAILABLE = True\n",
    "except ImportError:\n",
    "    SKLEARN_AVAILABLE = False\n",
    "    print(\"sklearn未安装，某些示例可能无法运行\")\n",
    "\n",
    "try:\n",
    "    import torch\n",
    "    TORCH_AVAILABLE = True\n",
    "except ImportError:\n",
    "    TORCH_AVAILABLE = False\n",
    "    print(\"PyTorch未安装，某些示例可能无法运行\")\n",
    "\n",
    "print(\"===== PennyLane量子机器学习 =====\")"
   ]
  },
  {
   "cell_type": "markdown",
   "id": "5effcd3c",
   "metadata": {},
   "source": [
    "检查PennyLane版本\n"
   ]
  },
  {
   "cell_type": "code",
   "execution_count": null,
   "id": "06317953",
   "metadata": {},
   "outputs": [],
   "source": [
    "print(f\"PennyLane版本: {qml.__version__}\")"
   ]
  },
  {
   "cell_type": "markdown",
   "id": "01ddaaf9",
   "metadata": {},
   "source": [
    "1. 量子机器学习概述\n"
   ]
  },
  {
   "cell_type": "code",
   "execution_count": null,
   "id": "ecb4c813",
   "metadata": {},
   "outputs": [],
   "source": [
    "print(\"\\n1. 量子机器学习概述\")\n",
    "print(\"量子机器学习(QML)是机器学习和量子计算的交叉领域\")\n",
    "print(\"主要方向包括:\")\n",
    "print(\"- 量子增强机器学习：使用量子算法加速经典机器学习\")\n",
    "print(\"- 量子模型：使用量子电路作为机器学习模型\")\n",
    "print(\"- 量子数据：处理量子数据的机器学习方法\")\n",
    "print(\"- 经典辅助量子学习：使用经典优化器训练量子模型\")"
   ]
  },
  {
   "cell_type": "markdown",
   "id": "fabc10fc",
   "metadata": {},
   "source": [
    "2. 量子机器学习的优势\n"
   ]
  },
  {
   "cell_type": "code",
   "execution_count": null,
   "id": "9987abdc",
   "metadata": {},
   "outputs": [],
   "source": [
    "print(\"\\n2. 量子机器学习的优势\")\n",
    "print(\"为什么要使用量子机器学习？\")\n",
    "print(\"- 处理指数级特征空间：量子计算可以有效地表示和处理大型特征空间\")\n",
    "print(\"- 量子并行性：量子叠加使某些计算可以并行执行\")\n",
    "print(\"- 量子纠缠：可以捕获复杂的特征相关性\")\n",
    "print(\"- 量子隧穿效应：可能帮助优化器逃离局部极小值\")\n",
    "print(\"- 量子增强核方法：某些量子电路可以实现经典算法难以计算的核函数\")"
   ]
  },
  {
   "cell_type": "markdown",
   "id": "1104ebed",
   "metadata": {},
   "source": [
    "3. 数据编码\n"
   ]
  },
  {
   "cell_type": "code",
   "execution_count": null,
   "id": "f71531c9",
   "metadata": {},
   "outputs": [],
   "source": [
    "print(\"\\n3. 数据编码\")\n",
    "print(\"将经典数据编码到量子态是量子机器学习的第一步\")"
   ]
  },
  {
   "cell_type": "markdown",
   "id": "6fddb2af",
   "metadata": {},
   "source": [
    "创建一个量子设备\n"
   ]
  },
  {
   "cell_type": "code",
   "execution_count": null,
   "id": "8a5f381b",
   "metadata": {},
   "outputs": [],
   "source": [
    "n_qubits = 4\n",
    "dev = qml.device(\"default.qubit\", wires=n_qubits)"
   ]
  },
  {
   "cell_type": "markdown",
   "id": "74f25d30",
   "metadata": {},
   "source": [
    "3.1 角度编码\n"
   ]
  },
  {
   "cell_type": "code",
   "execution_count": null,
   "id": "8f93bcd8",
   "metadata": {},
   "outputs": [],
   "source": [
    "print(\"\\n3.1 角度编码\")\n",
    "@qml.qnode(dev)\n",
    "def angle_encoding(features):\n",
    "    qml.templates.AngleEmbedding(features, wires=range(n_qubits))\n",
    "    return qml.state()"
   ]
  },
  {
   "cell_type": "markdown",
   "id": "e8121226",
   "metadata": {},
   "source": [
    "3.2 振幅编码\n"
   ]
  },
  {
   "cell_type": "code",
   "execution_count": null,
   "id": "6c118730",
   "metadata": {},
   "outputs": [],
   "source": [
    "print(\"\\n3.2 振幅编码\")\n",
    "@qml.qnode(dev)\n",
    "def amplitude_encoding(features):\n",
    "    qml.templates.AmplitudeEmbedding(features, wires=range(n_qubits), normalize=True)\n",
    "    return qml.state()"
   ]
  },
  {
   "cell_type": "markdown",
   "id": "6cff34ab",
   "metadata": {},
   "source": [
    "3.3 基于量子傅里叶变换的编码\n"
   ]
  },
  {
   "cell_type": "code",
   "execution_count": null,
   "id": "8fc6b9b8",
   "metadata": {},
   "outputs": [],
   "source": [
    "print(\"\\n3.3 基于量子傅里叶变换的编码\")\n",
    "@qml.qnode(dev)\n",
    "def qft_encoding(features):\n",
    "    # 先编码初始角度\n",
    "    qml.templates.AngleEmbedding(features, wires=range(n_qubits))\n",
    "    # 应用QFT\n",
    "    qml.QFT(wires=range(n_qubits))\n",
    "    return qml.state()"
   ]
  },
  {
   "cell_type": "markdown",
   "id": "6cf74696",
   "metadata": {},
   "source": [
    "示例数据\n"
   ]
  },
  {
   "cell_type": "code",
   "execution_count": null,
   "id": "15f7e948",
   "metadata": {},
   "outputs": [],
   "source": [
    "features = np.random.uniform(0, np.pi, n_qubits)\n",
    "normalized_features = features / np.linalg.norm(features)  # 用于振幅编码\n",
    "\n",
    "print(\"\\n编码方法比较:\")\n",
    "print(\"角度编码结构:\")\n",
    "print(qml.draw(angle_encoding)(features))\n",
    "\n",
    "print(\"\\n振幅编码结构:\")\n",
    "print(qml.draw(amplitude_encoding)(normalized_features))\n",
    "\n",
    "print(\"\\nQFT编码结构:\")\n",
    "print(qml.draw(qft_encoding)(features))"
   ]
  },
  {
   "cell_type": "markdown",
   "id": "504e1cc3",
   "metadata": {},
   "source": [
    "4. 量子神经网络\n"
   ]
  },
  {
   "cell_type": "code",
   "execution_count": null,
   "id": "bad8b0ac",
   "metadata": {},
   "outputs": [],
   "source": [
    "print(\"\\n4. 量子神经网络\")\n",
    "print(\"量子神经网络(QNN)是使用参数化量子电路实现的神经网络\")"
   ]
  },
  {
   "cell_type": "markdown",
   "id": "5d53ab9f",
   "metadata": {},
   "source": [
    "4.1 连续变量量子神经网络\n"
   ]
  },
  {
   "cell_type": "code",
   "execution_count": null,
   "id": "09c95279",
   "metadata": {},
   "outputs": [],
   "source": [
    "print(\"\\n4.1 变分量子电路作为神经网络\")"
   ]
  },
  {
   "cell_type": "markdown",
   "id": "8ad6a249",
   "metadata": {},
   "source": [
    "创建一个简单的变分量子神经网络\n"
   ]
  },
  {
   "cell_type": "code",
   "execution_count": null,
   "id": "3b72b6ce",
   "metadata": {},
   "outputs": [],
   "source": [
    "@qml.qnode(dev)\n",
    "def variational_circuit(inputs, weights):\n",
    "    # 编码输入\n",
    "    qml.templates.AngleEmbedding(inputs, wires=range(n_qubits))\n",
    "    \n",
    "    # 变分层\n",
    "    qml.templates.StronglyEntanglingLayers(weights, wires=range(n_qubits))\n",
    "    \n",
    "    # 测量\n",
    "    return [qml.expval(qml.PauliZ(i)) for i in range(n_qubits)]"
   ]
  },
  {
   "cell_type": "markdown",
   "id": "c54d8bb5",
   "metadata": {},
   "source": [
    "获取权重张量形状\n"
   ]
  },
  {
   "cell_type": "code",
   "execution_count": null,
   "id": "f051cb3f",
   "metadata": {},
   "outputs": [],
   "source": [
    "weight_shape = qml.templates.StronglyEntanglingLayers.shape(n_layers=2, n_wires=n_qubits)\n",
    "weights = np.random.uniform(-np.pi, np.pi, weight_shape)"
   ]
  },
  {
   "cell_type": "markdown",
   "id": "1f94cda0",
   "metadata": {},
   "source": [
    "运行电路\n"
   ]
  },
  {
   "cell_type": "code",
   "execution_count": null,
   "id": "955deabf",
   "metadata": {},
   "outputs": [],
   "source": [
    "inputs = np.random.uniform(-np.pi, np.pi, n_qubits)\n",
    "outputs = variational_circuit(inputs, weights)\n",
    "\n",
    "print(f\"\\n变分量子神经网络结构:\")\n",
    "print(qml.draw(variational_circuit)(inputs, weights))\n",
    "print(f\"\\n输入: {inputs}\")\n",
    "print(f\"输出: {outputs}\")"
   ]
  },
  {
   "cell_type": "markdown",
   "id": "256e222a",
   "metadata": {},
   "source": [
    "5. 量子分类器\n"
   ]
  },
  {
   "cell_type": "code",
   "execution_count": null,
   "id": "93636562",
   "metadata": {},
   "outputs": [],
   "source": [
    "print(\"\\n5. 量子分类器\")\n",
    "print(\"量子分类器使用量子电路进行分类任务\")"
   ]
  },
  {
   "cell_type": "markdown",
   "id": "badbbd8a",
   "metadata": {},
   "source": [
    "5.1 变分量子分类器 (VQC)\n"
   ]
  },
  {
   "cell_type": "code",
   "execution_count": null,
   "id": "53dca7a0",
   "metadata": {},
   "outputs": [],
   "source": [
    "print(\"\\n5.1 变分量子分类器 (VQC)\")\n",
    "\n",
    "def variational_classifier(inputs, weights):"
   ]
  },
  {
   "cell_type": "markdown",
   "id": "25c66aee",
   "metadata": {},
   "source": [
    "变分量子分类器"
   ]
  },
  {
   "cell_type": "code",
   "execution_count": null,
   "id": "d598eead",
   "metadata": {},
   "outputs": [],
   "source": [
    "# 计算变分量子电路的输出\n",
    "    qnn_outputs = variational_circuit(inputs, weights)\n",
    "    \n",
    "    # 聚合输出以获得2类分类输出\n",
    "    # 使用第一个量子比特的期望值作为类别得分\n",
    "    return qnn_outputs[0]"
   ]
  },
  {
   "cell_type": "markdown",
   "id": "3384baef",
   "metadata": {},
   "source": [
    "5.2 基于核的量子分类器\n"
   ]
  },
  {
   "cell_type": "code",
   "execution_count": null,
   "id": "363afb29",
   "metadata": {},
   "outputs": [],
   "source": [
    "print(\"\\n5.2 基于核的量子分类器\")\n",
    "\n",
    "def quantum_kernel(x1, x2):"
   ]
  },
  {
   "cell_type": "markdown",
   "id": "9472d211",
   "metadata": {},
   "source": [
    "量子核函数：计算两个输入向量之间的量子相似度"
   ]
  },
  {
   "cell_type": "code",
   "execution_count": null,
   "id": "82d7ea77",
   "metadata": {},
   "outputs": [],
   "source": [
    "# 创建内积设备\n",
    "    dev_kern = qml.device(\"default.qubit\", wires=n_qubits)\n",
    "    \n",
    "    @qml.qnode(dev_kern)\n",
    "    def kernel_circuit(x1, x2):\n",
    "        # 编码第一个输入\n",
    "        qml.templates.AngleEmbedding(x1, wires=range(n_qubits))\n",
    "        \n",
    "        # 应用逆变换\n",
    "        qml.adjoint(qml.templates.AngleEmbedding)(x2, wires=range(n_qubits))\n",
    "        \n",
    "        # 返回测量|0...0⟩的概率（融洽度）\n",
    "        return qml.probs(wires=range(n_qubits))[0]\n",
    "    \n",
    "    return kernel_circuit(x1, x2)"
   ]
  },
  {
   "cell_type": "markdown",
   "id": "feb01136",
   "metadata": {},
   "source": [
    "> **练习提示:**\n",
    "> 在上面的代码单元格中完成实现。可以使用`?`查看相关函数的文档，例如`qml.Hadamard?`。"
   ]
  },
  {
   "cell_type": "markdown",
   "id": "c0cbf258",
   "metadata": {},
   "source": [
    "测试核函数\n"
   ]
  },
  {
   "cell_type": "code",
   "execution_count": null,
   "id": "8e6da9d3",
   "metadata": {},
   "outputs": [],
   "source": [
    "x1 = np.random.uniform(0, np.pi, n_qubits)\n",
    "x2 = np.random.uniform(0, np.pi, n_qubits)\n",
    "kernel_value = quantum_kernel(x1, x2)\n",
    "\n",
    "print(f\"\\n量子核值 K(x1, x2) = {kernel_value:.6f}\")\n",
    "print(f\"相同输入的核值 K(x1, x1) = {quantum_kernel(x1, x1):.6f}\")"
   ]
  },
  {
   "cell_type": "markdown",
   "id": "0ec46d7f",
   "metadata": {},
   "source": [
    "6. 量子生成对抗网络\n"
   ]
  },
  {
   "cell_type": "code",
   "execution_count": null,
   "id": "cc9f554e",
   "metadata": {},
   "outputs": [],
   "source": [
    "print(\"\\n6. 量子生成对抗网络 (QGAN)\")\n",
    "print(\"QGAN结合了量子电路和GAN的思想\")"
   ]
  },
  {
   "cell_type": "markdown",
   "id": "08c89351",
   "metadata": {},
   "source": [
    "创建一个简单的量子生成器\n"
   ]
  },
  {
   "cell_type": "code",
   "execution_count": null,
   "id": "8ef944b5",
   "metadata": {},
   "outputs": [],
   "source": [
    "@qml.qnode(dev)\n",
    "def quantum_generator(noise, weights):\n",
    "    # 编码噪声\n",
    "    qml.templates.AngleEmbedding(noise, wires=range(n_qubits))\n",
    "    \n",
    "    # 应用参数化电路\n",
    "    qml.templates.StronglyEntanglingLayers(weights, wires=range(n_qubits))\n",
    "    \n",
    "    # 返回测量结果（生成的\"假\"数据）\n",
    "    return [qml.expval(qml.PauliZ(i)) for i in range(n_qubits)]"
   ]
  },
  {
   "cell_type": "markdown",
   "id": "70f6ee24",
   "metadata": {},
   "source": [
    "创建一个简单的量子判别器\n"
   ]
  },
  {
   "cell_type": "code",
   "execution_count": null,
   "id": "8b78bbed",
   "metadata": {},
   "outputs": [],
   "source": [
    "@qml.qnode(dev)\n",
    "def quantum_discriminator(data, weights):\n",
    "    # 编码数据（真实的或生成的）\n",
    "    qml.templates.AngleEmbedding(data, wires=range(n_qubits))\n",
    "    \n",
    "    # 应用参数化电路\n",
    "    qml.templates.StronglyEntanglingLayers(weights, wires=range(n_qubits))\n",
    "    \n",
    "    # 返回判别结果（1代表真实，0代表伪造）\n",
    "    return qml.expval(qml.PauliZ(0))"
   ]
  },
  {
   "cell_type": "markdown",
   "id": "b0971774",
   "metadata": {},
   "source": [
    "7. 量子卷积神经网络\n"
   ]
  },
  {
   "cell_type": "code",
   "execution_count": null,
   "id": "3ac7deb1",
   "metadata": {},
   "outputs": [],
   "source": [
    "print(\"\\n7. 量子卷积神经网络 (QCNN)\")\n",
    "print(\"QCNN结合了量子电路和CNN的思想\")\n",
    "\n",
    "def quantum_conv_layer(inputs, weights, wires):"
   ]
  },
  {
   "cell_type": "markdown",
   "id": "cb6ad8f5",
   "metadata": {},
   "source": [
    "量子卷积层"
   ]
  },
  {
   "cell_type": "code",
   "execution_count": null,
   "id": "18ab2a61",
   "metadata": {},
   "outputs": [],
   "source": [
    "# 编码输入\n",
    "    qml.templates.AngleEmbedding(inputs, wires=wires)\n",
    "    \n",
    "    # 应用卷积式量子操作\n",
    "    for i in range(len(wires)-1):\n",
    "        # 对相邻量子比特应用参数化操作\n",
    "        qml.RY(weights[i, 0], wires=wires[i])\n",
    "        qml.RZ(weights[i, 1], wires=wires[i+1])\n",
    "        qml.CNOT(wires=[wires[i], wires[i+1]])"
   ]
  },
  {
   "cell_type": "markdown",
   "id": "61f48066",
   "metadata": {},
   "source": [
    "8. 实际分类问题示例\n"
   ]
  },
  {
   "cell_type": "code",
   "execution_count": null,
   "id": "f4fb8c3b",
   "metadata": {},
   "outputs": [],
   "source": [
    "print(\"\\n8. 实际分类问题示例\")\n",
    "\n",
    "if SKLEARN_AVAILABLE:\n",
    "    print(\"使用sklearn数据集进行量子分类示例\")\n",
    "    \n",
    "    # 创建一个简单的二分类数据集（月牙形）\n",
    "    X, y = make_moons(n_samples=200, noise=0.1)\n",
    "    X = StandardScaler().fit_transform(X)\n",
    "    X_train, X_test, y_train, y_test = train_test_split(X, y, test_size=0.2)\n",
    "    \n",
    "    # 创建一个2量子比特分类器\n",
    "    n_qubits_class = 2\n",
    "    dev_class = qml.device(\"default.qubit\", wires=n_qubits_class)\n",
    "    \n",
    "    @qml.qnode(dev_class)\n",
    "    def quantum_classifier(inputs, weights):\n",
    "        # 缩放输入到合适的范围\n",
    "        scaled_inputs = np.array([inputs[0], inputs[1]])\n",
    "        \n",
    "        # 编码输入\n",
    "        qml.RY(scaled_inputs[0], wires=0)\n",
    "        qml.RY(scaled_inputs[1], wires=1)\n",
    "        qml.CNOT(wires=[0, 1])\n",
    "        \n",
    "        # 变分层\n",
    "        qml.RX(weights[0], wires=0)\n",
    "        qml.RY(weights[1], wires=1)\n",
    "        qml.CNOT(wires=[0, 1])\n",
    "        qml.RX(weights[2], wires=0)\n",
    "        qml.RY(weights[3], wires=1)\n",
    "        \n",
    "        # 返回测量结果\n",
    "        return qml.expval(qml.PauliZ(0))\n",
    "    \n",
    "    # 定义成本函数（二分类交叉熵损失的简化版本）\n",
    "    def cost(weights, X, y):\n",
    "        predictions = [quantum_classifier(x, weights) for x in X]\n",
    "        # 将[-1,1]范围映射到[0,1]\n",
    "        predictions = [(p + 1) / 2 for p in predictions]\n",
    "        # 计算二元交叉熵\n",
    "        loss = 0\n",
    "        for pred, target in zip(predictions, y):\n",
    "            # 避免数值不稳定性\n",
    "            pred = np.clip(pred, 1e-10, 1 - 1e-10)\n",
    "            loss += -(target * np.log(pred) + (1 - target) * np.log(1 - pred))\n",
    "        return loss / len(y)\n",
    "    \n",
    "    # 训练分类器\n",
    "    def train_classifier(X_train, y_train, n_epochs=50):\n",
    "        # 初始化权重\n",
    "        weights = np.random.uniform(-np.pi, np.pi, 4)\n",
    "        \n",
    "        # 使用Adam优化器\n",
    "        opt = qml.AdamOptimizer(stepsize=0.1)\n",
    "        \n",
    "        # 训练循环\n",
    "        loss_history = []\n",
    "        \n",
    "        for epoch in range(n_epochs):\n",
    "            # 单步优化\n",
    "            weights = opt.step(lambda w: cost(w, X_train, y_train), weights)\n",
    "            \n",
    "            # 计算当前损失\n",
    "            loss = cost(weights, X_train, y_train)\n",
    "            loss_history.append(loss)\n",
    "            \n",
    "            if epoch % 10 == 0:\n",
    "                print(f\"Epoch {epoch}: Loss = {loss:.6f}\")\n",
    "        \n",
    "        return weights, loss_history\n",
    "    \n",
    "    # 运行训练（仅训练几个轮次用于演示）\n",
    "    trained_weights, loss_history = train_classifier(X_train, y_train, n_epochs=20)\n",
    "    \n",
    "    # 评估模型\n",
    "    def evaluate_classifier(weights, X, y):\n",
    "        predictions = [quantum_classifier(x, weights) for x in X]\n",
    "        # 映射到[0,1]然后转换为二进制预测\n",
    "        binary_predictions = [1 if (p + 1) / 2 > 0.5 else 0 for p in predictions]\n",
    "        # 计算准确率\n",
    "        accuracy = np.mean(np.array(binary_predictions) == y)\n",
    "        return accuracy\n",
    "    \n",
    "    train_accuracy = evaluate_classifier(trained_weights, X_train, y_train)\n",
    "    test_accuracy = evaluate_classifier(trained_weights, X_test, y_test)\n",
    "    \n",
    "    print(f\"\\n训练准确率: {train_accuracy:.4f}\")\n",
    "    print(f\"测试准确率: {test_accuracy:.4f}\")\n",
    "    \n",
    "    # 绘制损失曲线\n",
    "    plt.figure(figsize=(8, 5))\n",
    "    plt.plot(loss_history)\n",
    "    plt.xlabel('Epoch')\n",
    "    plt.ylabel('Loss')\n",
    "    plt.title('量子分类器训练损失')\n",
    "    plt.grid(True)\n",
    "    plt.savefig('quantum_classifier_loss.png')\n",
    "    plt.close()\n",
    "    \n",
    "    # 绘制决策边界\n",
    "    def plot_decision_boundary():\n",
    "        h = 0.02  # 步长\n",
    "        x_min, x_max = X[:, 0].min() - 0.5, X[:, 0].max() + 0.5\n",
    "        y_min, y_max = X[:, 1].min() - 0.5, X[:, 1].max() + 0.5\n",
    "        xx, yy = np.meshgrid(np.arange(x_min, x_max, h), np.arange(y_min, y_max, h))\n",
    "        \n",
    "        # 为网格中的每个点获取预测\n",
    "        Z = np.array([quantum_classifier(np.array([x, y]), trained_weights) for x, y in zip(xx.ravel(), yy.ravel())])\n",
    "        Z = (Z + 1) / 2  # 映射到[0,1]\n",
    "        Z = Z.reshape(xx.shape)\n",
    "        \n",
    "        plt.figure(figsize=(10, 8))\n",
    "        plt.contourf(xx, yy, Z, cmap=plt.cm.RdBu, alpha=0.8)\n",
    "        plt.scatter(X_train[:, 0], X_train[:, 1], c=y_train, cmap=plt.cm.RdBu, edgecolors='k')\n",
    "        plt.scatter(X_test[:, 0], X_test[:, 1], c=y_test, cmap=plt.cm.RdBu, edgecolors='k', marker='^')\n",
    "        plt.xlim(xx.min(), xx.max())\n",
    "        plt.ylim(yy.min(), yy.max())\n",
    "        plt.title('量子分类器决策边界')\n",
    "        plt.savefig('quantum_classifier_boundary.png')\n",
    "        plt.close()\n",
    "    \n",
    "    # 生成决策边界图（可能计算量较大）\n",
    "    print(\"\\n绘制决策边界...\")\n",
    "    plot_decision_boundary()\n",
    "    print(\"决策边界已保存到'quantum_classifier_boundary.png'\")\n",
    "else:\n",
    "    print(\"sklearn未安装，跳过分类示例\")"
   ]
  },
  {
   "cell_type": "markdown",
   "id": "64b32c2f",
   "metadata": {},
   "source": [
    "> **练习提示:**\n",
    "> 在上面的代码单元格中完成实现。可以使用`?`查看相关函数的文档，例如`qml.Hadamard?`。"
   ]
  },
  {
   "cell_type": "markdown",
   "id": "9b2d7ffb",
   "metadata": {},
   "source": [
    "9. 量子传递学习\n"
   ]
  },
  {
   "cell_type": "code",
   "execution_count": null,
   "id": "42edcd95",
   "metadata": {},
   "outputs": [],
   "source": [
    "print(\"\\n9. 量子传递学习\")\n",
    "print(\"量子传递学习结合了预训练的经典模型和量子模型\")"
   ]
  },
  {
   "cell_type": "markdown",
   "id": "17f1eaa5",
   "metadata": {},
   "source": [
    "创建一个量子传递学习示例框架\n"
   ]
  },
  {
   "cell_type": "code",
   "execution_count": null,
   "id": "3d868656",
   "metadata": {},
   "outputs": [],
   "source": [
    "def quantum_transfer_learning_example():\n",
    "    print(\"\\n量子传递学习示例流程:\")\n",
    "    print(\"1. 使用预训练的经典网络(如ResNet)提取特征\")\n",
    "    print(\"2. 将提取的特征编码到量子态中\")\n",
    "    print(\"3. 应用量子变分电路进行进一步处理\")\n",
    "    print(\"4. 测量得到最终分类结果\")\n",
    "\n",
    "    # 假设的预训练网络特征\n",
    "    classical_features = np.random.uniform(-1, 1, n_qubits)\n",
    "    print(f\"\\n预训练网络提取的特征: {classical_features}\")\n",
    "    \n",
    "    # 定义量子传递学习电路\n",
    "    @qml.qnode(dev)\n",
    "    def qtl_circuit(features, weights):\n",
    "        # 编码经典特征\n",
    "        qml.templates.AngleEmbedding(features, wires=range(n_qubits))\n",
    "        \n",
    "        # 应用量子变分层\n",
    "        qml.templates.StronglyEntanglingLayers(weights, wires=range(n_qubits))\n",
    "        \n",
    "        # 测量\n",
    "        return qml.expval(qml.PauliZ(0))\n",
    "    \n",
    "    # 随机初始化权重\n",
    "    qtl_weights = np.random.uniform(-np.pi, np.pi, weight_shape)\n",
    "    \n",
    "    # 运行电路\n",
    "    qtl_output = qtl_circuit(classical_features, qtl_weights)\n",
    "    \n",
    "    print(f\"量子传递学习输出: {qtl_output:.6f}\")\n",
    "    print(\"注：完整实现需要与PyTorch或TensorFlow集成\")"
   ]
  },
  {
   "cell_type": "markdown",
   "id": "b694335d",
   "metadata": {},
   "source": [
    "执行量子传递学习示例\n"
   ]
  },
  {
   "cell_type": "code",
   "execution_count": null,
   "id": "85986356",
   "metadata": {},
   "outputs": [],
   "source": [
    "quantum_transfer_learning_example()"
   ]
  },
  {
   "cell_type": "markdown",
   "id": "68c0c5f0",
   "metadata": {},
   "source": [
    "10. 量子卷积神经网络完整示例\n"
   ]
  },
  {
   "cell_type": "code",
   "execution_count": null,
   "id": "659701f0",
   "metadata": {},
   "outputs": [],
   "source": [
    "print(\"\\n10. 量子卷积神经网络完整示例\")\n",
    "\n",
    "def quantum_cnn_example():\n",
    "    # 创建专用设备\n",
    "    n_qubits_cnn = 4\n",
    "    dev_cnn = qml.device(\"default.qubit\", wires=n_qubits_cnn)\n",
    "    \n",
    "    @qml.qnode(dev_cnn)\n",
    "    def qcnn_circuit(inputs, conv_weights, pool_weights, fc_weights):\n",
    "        # 编码输入\n",
    "        qml.templates.AngleEmbedding(inputs, wires=range(n_qubits_cnn))\n",
    "        \n",
    "        # 卷积层 1\n",
    "        # 在相邻量子比特对上应用卷积操作\n",
    "        for i in range(n_qubits_cnn - 1):\n",
    "            qml.RY(conv_weights[0, i, 0], wires=i)\n",
    "            qml.RY(conv_weights[0, i, 1], wires=i+1)\n",
    "            qml.CNOT(wires=[i, i+1])\n",
    "            qml.RY(conv_weights[0, i, 2], wires=i)\n",
    "            qml.RY(conv_weights[0, i, 3], wires=i+1)\n",
    "        \n",
    "        # 池化层 1（通过测量和条件重置实现）\n",
    "        # 简化版本：只保留偶数量子比特\n",
    "        qubits_after_pool = [0, 2]\n",
    "        \n",
    "        # 卷积层 2\n",
    "        qml.RY(conv_weights[1, 0, 0], wires=qubits_after_pool[0])\n",
    "        qml.RY(conv_weights[1, 0, 1], wires=qubits_after_pool[1])\n",
    "        qml.CNOT(wires=qubits_after_pool)\n",
    "        qml.RY(conv_weights[1, 0, 2], wires=qubits_after_pool[0])\n",
    "        qml.RY(conv_weights[1, 0, 3], wires=qubits_after_pool[1])\n",
    "        \n",
    "        # 全连接层\n",
    "        for i, qubit in enumerate(qubits_after_pool):\n",
    "            qml.RY(fc_weights[i], wires=qubit)\n",
    "        \n",
    "        # 最终测量\n",
    "        return qml.expval(qml.PauliZ(0))\n",
    "    \n",
    "    # 初始化随机权重\n",
    "    conv_weights = np.random.uniform(-np.pi, np.pi, (2, n_qubits_cnn-1, 4))  # 2个卷积层\n",
    "    pool_weights = np.random.uniform(-np.pi, np.pi, (1, 2))  # 1个池化层\n",
    "    fc_weights = np.random.uniform(-np.pi, np.pi, 2)  # 全连接层\n",
    "    \n",
    "    # 随机输入\n",
    "    inputs = np.random.uniform(-np.pi, np.pi, n_qubits_cnn)\n",
    "    \n",
    "    # 运行电路\n",
    "    output = qcnn_circuit(inputs, conv_weights, pool_weights, fc_weights)\n",
    "    \n",
    "    print(f\"量子CNN输出: {output:.6f}\")\n",
    "    print(f\"电路结构:\")\n",
    "    print(qml.draw(qcnn_circuit)(inputs, conv_weights, pool_weights, fc_weights))"
   ]
  },
  {
   "cell_type": "markdown",
   "id": "7c96897d",
   "metadata": {},
   "source": [
    "执行量子CNN示例\n"
   ]
  },
  {
   "cell_type": "code",
   "execution_count": null,
   "id": "6eb925e2",
   "metadata": {},
   "outputs": [],
   "source": [
    "quantum_cnn_example()"
   ]
  },
  {
   "cell_type": "markdown",
   "id": "ebf1a700",
   "metadata": {},
   "source": [
    "11. 与PyTorch集成 - 混合经典-量子模型\n"
   ]
  },
  {
   "cell_type": "code",
   "execution_count": null,
   "id": "1512b06c",
   "metadata": {},
   "outputs": [],
   "source": [
    "print(\"\\n11. 与PyTorch集成 - 混合经典-量子模型\")\n",
    "\n",
    "if TORCH_AVAILABLE:\n",
    "    print(\"创建PyTorch-PennyLane混合模型示例\")\n",
    "    \n",
    "    # 创建量子设备\n",
    "    n_qubits_torch = 4\n",
    "    dev_torch = qml.device(\"default.qubit\", wires=n_qubits_torch)\n",
    "    \n",
    "    # 定义量子电路\n",
    "    @qml.qnode(dev_torch, interface=\"torch\")\n",
    "    def torch_quantum_circuit(inputs, weights):\n",
    "        qml.templates.AngleEmbedding(inputs, wires=range(n_qubits_torch))\n",
    "        qml.templates.StronglyEntanglingLayers(weights, wires=range(n_qubits_torch))\n",
    "        return [qml.expval(qml.PauliZ(i)) for i in range(n_qubits_torch)]\n",
    "    \n",
    "    # 定义PyTorch量子层\n",
    "    class TorchQuantumLayer(torch.nn.Module):\n",
    "        def __init__(self, n_qubits, n_layers):\n",
    "            super().__init__()\n",
    "            self.n_qubits = n_qubits\n",
    "            shape = qml.templates.StronglyEntanglingLayers.shape(n_layers=n_layers, n_wires=n_qubits)\n",
    "            weight_shapes = {\"weights\": shape}\n",
    "            self.qlayer = qml.qnn.TorchLayer(torch_quantum_circuit, weight_shapes)\n",
    "            \n",
    "        def forward(self, x):\n",
    "            return self.qlayer(x)\n",
    "    \n",
    "    # 定义混合模型\n",
    "    class HybridModel(torch.nn.Module):\n",
    "        def __init__(self, n_qubits, n_layers, input_size, hidden_size):\n",
    "            super().__init__()\n",
    "            self.pre_net = torch.nn.Sequential(\n",
    "                torch.nn.Linear(input_size, hidden_size),\n",
    "                torch.nn.ReLU(),\n",
    "                torch.nn.Linear(hidden_size, n_qubits)\n",
    "            )\n",
    "            self.quantum_layer = TorchQuantumLayer(n_qubits, n_layers)\n",
    "            self.post_net = torch.nn.Linear(n_qubits, 1)\n",
    "            \n",
    "        def forward(self, x):\n",
    "            x = self.pre_net(x)\n",
    "            x = self.quantum_layer(x)\n",
    "            return torch.sigmoid(self.post_net(x))\n",
    "    \n",
    "    # 创建模型实例\n",
    "    model = HybridModel(n_qubits=n_qubits_torch, n_layers=2, input_size=10, hidden_size=20)\n",
    "    \n",
    "    # 示例输入\n",
    "    x = torch.randn(5, 10)\n",
    "    \n",
    "    # 前向传播\n",
    "    output = model(x)\n",
    "    \n",
    "    print(f\"\\n混合模型输出形状: {output.shape}\")\n",
    "    print(f\"输出值: {output.detach().numpy()}\")\n",
    "    \n",
    "    print(\"\\n混合模型架构:\")\n",
    "    print(model)\n",
    "    \n",
    "    print(\"\\n注：完整训练需要定义损失函数、优化器和训练循环\")\n",
    "else:\n",
    "    print(\"PyTorch未安装，跳过混合模型示例\")"
   ]
  },
  {
   "cell_type": "markdown",
   "id": "a48fb5a0",
   "metadata": {},
   "source": [
    "12. 量子机器学习的挑战和前景\n"
   ]
  },
  {
   "cell_type": "code",
   "execution_count": null,
   "id": "8c30c394",
   "metadata": {},
   "outputs": [],
   "source": [
    "print(\"\\n12. 量子机器学习的挑战和前景\")\n",
    "print(\"挑战:\")\n",
    "print(\"- 量子噪声和退相干：限制了当前量子设备的能力\")\n",
    "print(\"- 有限的量子比特数量：限制了可处理的问题规模\")\n",
    "print(\"- 优化难度：梯度消失、局部极小值等问题\")\n",
    "print(\"- 量子-经典接口开销：频繁的量子-经典通信可能抵消量子优势\")\n",
    "print(\"- 理论理解有限：量子机器学习的理论基础仍在发展中\")\n",
    "\n",
    "print(\"\\n前景:\")\n",
    "print(\"- 量子启发的经典算法：即使在经典硬件上也可能带来改进\")\n",
    "print(\"- 特定应用领域的优势：如量子化学、材料科学等\")\n",
    "print(\"- 新型量子算法：可能带来指数级加速\")\n",
    "print(\"- 量子特征映射：提供经典难以实现的特征空间\")\n",
    "print(\"- 随着量子硬件改进，更多应用将变得可行\")"
   ]
  },
  {
   "cell_type": "markdown",
   "id": "be13957e",
   "metadata": {},
   "source": [
    "13. 总结\n"
   ]
  },
  {
   "cell_type": "code",
   "execution_count": null,
   "id": "77a51f85",
   "metadata": {},
   "outputs": [],
   "source": [
    "print(\"\\n13. 总结\")\n",
    "print(\"1. 量子机器学习结合了量子计算和机器学习的优势\")\n",
    "print(\"2. 数据编码是量子机器学习的关键步骤\")\n",
    "print(\"3. 量子神经网络和分类器为经典任务提供了新方法\")\n",
    "print(\"4. 变分量子算法是当前NISQ时代的主要范式\")\n",
    "print(\"5. 混合经典-量子模型可结合两种计算范式的优势\")\n",
    "\n",
    "print(\"\\n下一步学习:\")\n",
    "print(\"- 更复杂的量子机器学习模型\")\n",
    "print(\"- 实际量子数据处理任务\")\n",
    "print(\"- 量子增强算法的理论保证\")\n",
    "print(\"- 特定领域应用（如量子化学、量子金融）\")"
   ]
  },
  {
   "cell_type": "markdown",
   "id": "7d5cfa8b",
   "metadata": {},
   "source": [
    "## 💡 挑战任务\n",
    "\n",
    "尝试扩展上面的练习，探索以下内容：\n",
    "1. 更改电路参数并观察结果的变化\n",
    "2. 尝试实现不同的量子态或算法\n",
    "3. 可视化更多量子测量的结果"
   ]
  }
 ],
 "metadata": {
  "kernelspec": {
   "display_name": "Python 3",
   "language": "python",
   "name": "python3"
  },
  "language_info": {
   "codemirror_mode": {
    "name": "ipython",
    "version": 3
   },
   "file_extension": ".py",
   "mimetype": "text/x-python",
   "name": "python",
   "nbconvert_exporter": "python",
   "pygments_lexer": "ipython3",
   "version": "3.9.13"
  }
 },
 "nbformat": 4,
 "nbformat_minor": 5
}

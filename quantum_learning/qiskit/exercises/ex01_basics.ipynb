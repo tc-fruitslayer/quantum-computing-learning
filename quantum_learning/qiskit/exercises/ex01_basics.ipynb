{
 "cells": [
  {
   "cell_type": "code",
   "execution_count": null,
   "id": "78c89d15",
   "metadata": {},
   "outputs": [],
   "source": [
    "#!/usr/bin/env python\n",
    "# -*- coding: utf-8 -*-"
   ]
  },
  {
   "cell_type": "markdown",
   "id": "5b9be27e",
   "metadata": {},
   "source": [
    "\n",
    "IBM Qiskit框架学习 - 基础练习\n",
    "本文件包含一系列帮助理解Qiskit基础概念的练习题"
   ]
  },
  {
   "cell_type": "markdown",
   "id": "94acd699",
   "metadata": {},
   "source": [
    "导入必要的库\n"
   ]
  },
  {
   "cell_type": "code",
   "execution_count": null,
   "id": "b37ac0a0",
   "metadata": {},
   "outputs": [],
   "source": [
    "from qiskit import QuantumCircuit, Aer, execute, transpile\n",
    "from qiskit.visualization import plot_histogram, plot_bloch_multivector\n",
    "import matplotlib.pyplot as plt\n",
    "import numpy as np\n"
   ]
  },
  {
   "cell_type": "code",
   "execution_count": null,
   "id": "4dc5fb05",
   "metadata": {},
   "outputs": [],
   "source": [
    "print(\"===== Qiskit基础练习 =====\")\n",
    "print(\"完成以下练习来测试您对Qiskit基础的理解\")\n",
    "print(\"每个练习都有一个或多个任务，请尝试独立完成\")\n",
    "print(\"练习后有提示和参考解答\")"
   ]
  },
  {
   "cell_type": "markdown",
   "id": "c8a8da1a",
   "metadata": {},
   "source": [
    "--------------------------------\n",
    "练习1: 创建和运行第一个量子电路\n",
    "--------------------------------\n"
   ]
  },
  {
   "cell_type": "code",
   "execution_count": null,
   "id": "c5ab6e99",
   "metadata": {},
   "outputs": [],
   "source": [
    "print(\"\\n练习1: 创建和运行第一个量子电路\")\n",
    "print(\"任务1: 创建一个包含1个量子比特和1个经典比特的量子电路\")\n",
    "print(\"任务2: 对量子比特应用一个X门(NOT门)\")\n",
    "print(\"任务3: 测量量子比特并将结果存储到经典比特\")\n",
    "print(\"任务4: 使用QASM模拟器运行电路1000次并打印结果\")"
   ]
  },
  {
   "cell_type": "markdown",
   "id": "74eca116",
   "metadata": {},
   "source": [
    "提示\n"
   ]
  },
  {
   "cell_type": "code",
   "execution_count": null,
   "id": "691a6605",
   "metadata": {},
   "outputs": [],
   "source": [
    "print(\"\\n提示:\")\n",
    "print(\"- 使用QuantumCircuit(1, 1)创建电路\")\n",
    "print(\"- 使用circuit.x(0)应用X门\")\n",
    "print(\"- 使用circuit.measure(0, 0)进行测量\")\n",
    "print(\"- 使用simulator = Aer.get_backend('qasm_simulator')获取模拟器\")\n",
    "print(\"- 使用execute(circuit, simulator, shots=1000)执行电路\")"
   ]
  },
  {
   "cell_type": "markdown",
   "id": "fce234f6",
   "metadata": {},
   "source": [
    "参考解答\n"
   ]
  },
  {
   "cell_type": "code",
   "execution_count": null,
   "id": "30358b0b",
   "metadata": {},
   "outputs": [],
   "source": [
    "def exercise1_solution():\n",
    "    # 任务1: 创建电路\n",
    "    circuit = QuantumCircuit(1, 1)\n",
    "    \n",
    "    # 任务2: 应用X门\n",
    "    circuit.x(0)\n",
    "    \n",
    "    # 任务3: 测量\n",
    "    circuit.measure(0, 0)\n",
    "    \n",
    "    # 任务4: 运行电路\n",
    "    simulator = Aer.get_backend('qasm_simulator')\n",
    "    job = execute(circuit, simulator, shots=1000)\n",
    "    result = job.result()\n",
    "    counts = result.get_counts()\n",
    "    \n",
    "    print(\"\\n参考解答 - 练习1:\")\n",
    "    print(\"电路:\")\n",
    "    print(circuit.draw())\n",
    "    print(\"\\n测量结果:\")\n",
    "    print(counts)\n",
    "    print(\"\\n解释: 应用X门将|0⟩转换为|1⟩，因此所有测量结果都是'1'\")\n",
    "    \n",
    "    return circuit, counts"
   ]
  },
  {
   "cell_type": "markdown",
   "id": "7a3ee452",
   "metadata": {},
   "source": [
    "取消注释下面的行以查看参考解答\n",
    "circuit1, counts1 = exercise1_solution()\n"
   ]
  },
  {
   "cell_type": "markdown",
   "id": "4bf8e6c0",
   "metadata": {},
   "source": [
    "--------------------------------\n",
    "练习2: 创建叠加态\n",
    "--------------------------------\n"
   ]
  },
  {
   "cell_type": "code",
   "execution_count": null,
   "id": "8aece4a2",
   "metadata": {},
   "outputs": [],
   "source": [
    "print(\"\\n练习2: 创建叠加态\")\n",
    "print(\"任务1: 创建一个包含1个量子比特和1个经典比特的量子电路\")\n",
    "print(\"任务2: 将量子比特初始化为叠加态(|0⟩+|1⟩)/√2\")\n",
    "print(\"任务3: 测量量子比特\")\n",
    "print(\"任务4: 运行电路1000次并分析结果\")"
   ]
  },
  {
   "cell_type": "markdown",
   "id": "922e7c60",
   "metadata": {},
   "source": [
    "提示\n"
   ]
  },
  {
   "cell_type": "code",
   "execution_count": null,
   "id": "421b1985",
   "metadata": {},
   "outputs": [],
   "source": [
    "print(\"\\n提示:\")\n",
    "print(\"- 使用Hadamard门(circuit.h(0))创建叠加态\")\n",
    "print(\"- 叠加态测量时，应该有约50%概率得到0，50%概率得到1\")"
   ]
  },
  {
   "cell_type": "markdown",
   "id": "ec50b56f",
   "metadata": {},
   "source": [
    "参考解答\n"
   ]
  },
  {
   "cell_type": "code",
   "execution_count": null,
   "id": "7b07c37e",
   "metadata": {},
   "outputs": [],
   "source": [
    "def exercise2_solution():\n",
    "    # 任务1: 创建电路\n",
    "    circuit = QuantumCircuit(1, 1)\n",
    "    \n",
    "    # 任务2: 创建叠加态\n",
    "    circuit.h(0)\n",
    "    \n",
    "    # 任务3: 测量\n",
    "    circuit.measure(0, 0)\n",
    "    \n",
    "    # 任务4: 运行电路\n",
    "    simulator = Aer.get_backend('qasm_simulator')\n",
    "    job = execute(circuit, simulator, shots=1000)\n",
    "    result = job.result()\n",
    "    counts = result.get_counts()\n",
    "    \n",
    "    print(\"\\n参考解答 - 练习2:\")\n",
    "    print(\"电路:\")\n",
    "    print(circuit.draw())\n",
    "    print(\"\\n测量结果:\")\n",
    "    print(counts)\n",
    "    print(\"\\n解释: Hadamard门将|0⟩转换为(|0⟩+|1⟩)/√2，测量结果应该接近50%/50%分布\")\n",
    "    \n",
    "    # 可视化结果\n",
    "    fig = plot_histogram(counts)\n",
    "    plt.title(\"叠加态测量结果\")\n",
    "    plt.savefig('exercise2_histogram.png')\n",
    "    plt.close(fig)\n",
    "    print(\"直方图已保存为'exercise2_histogram.png'\")\n",
    "    \n",
    "    return circuit, counts"
   ]
  },
  {
   "cell_type": "markdown",
   "id": "d3f931e8",
   "metadata": {},
   "source": [
    "取消注释下面的行以查看参考解答\n",
    "circuit2, counts2 = exercise2_solution()\n"
   ]
  },
  {
   "cell_type": "markdown",
   "id": "a37f2c57",
   "metadata": {},
   "source": [
    "--------------------------------\n",
    "练习3: 创建Bell态\n",
    "--------------------------------\n"
   ]
  },
  {
   "cell_type": "code",
   "execution_count": null,
   "id": "d89f591c",
   "metadata": {},
   "outputs": [],
   "source": [
    "print(\"\\n练习3: 创建Bell态\")\n",
    "print(\"任务1: 创建一个包含2个量子比特和2个经典比特的量子电路\")\n",
    "print(\"任务2: 创建Bell态 (|00⟩+|11⟩)/√2\")\n",
    "print(\"任务3: 测量两个量子比特\")\n",
    "print(\"任务4: 运行电路1000次并分析结果\")"
   ]
  },
  {
   "cell_type": "markdown",
   "id": "b3cdd811",
   "metadata": {},
   "source": [
    "提示\n"
   ]
  },
  {
   "cell_type": "code",
   "execution_count": null,
   "id": "28ff491e",
   "metadata": {},
   "outputs": [],
   "source": [
    "print(\"\\n提示:\")\n",
    "print(\"- 使用Hadamard门创建第一个量子比特的叠加态\")\n",
    "print(\"- 使用CNOT门(circuit.cx(0, 1))使两个量子比特纠缠\")\n",
    "print(\"- Bell态测量时，应该有约50%概率得到00，50%概率得到11\")"
   ]
  },
  {
   "cell_type": "markdown",
   "id": "7245db27",
   "metadata": {},
   "source": [
    "参考解答\n"
   ]
  },
  {
   "cell_type": "code",
   "execution_count": null,
   "id": "d9f499d8",
   "metadata": {},
   "outputs": [],
   "source": [
    "def exercise3_solution():\n",
    "    # 任务1: 创建电路\n",
    "    circuit = QuantumCircuit(2, 2)\n",
    "    \n",
    "    # 任务2: 创建Bell态\n",
    "    circuit.h(0)\n",
    "    circuit.cx(0, 1)\n",
    "    \n",
    "    # 任务3: 测量\n",
    "    circuit.measure([0, 1], [0, 1])\n",
    "    \n",
    "    # 任务4: 运行电路\n",
    "    simulator = Aer.get_backend('qasm_simulator')\n",
    "    job = execute(circuit, simulator, shots=1000)\n",
    "    result = job.result()\n",
    "    counts = result.get_counts()\n",
    "    \n",
    "    print(\"\\n参考解答 - 练习3:\")\n",
    "    print(\"电路:\")\n",
    "    print(circuit.draw())\n",
    "    print(\"\\n测量结果:\")\n",
    "    print(counts)\n",
    "    print(\"\\n解释: Bell态是(|00⟩+|11⟩)/√2，测量结果应该只有'00'和'11'，且接近50%/50%分布\")\n",
    "    \n",
    "    # 可视化结果\n",
    "    fig = plot_histogram(counts)\n",
    "    plt.title(\"Bell态测量结果\")\n",
    "    plt.savefig('exercise3_histogram.png')\n",
    "    plt.close(fig)\n",
    "    print(\"直方图已保存为'exercise3_histogram.png'\")\n",
    "    \n",
    "    # 可视化Bell态的状态向量\n",
    "    statevector_sim = Aer.get_backend('statevector_simulator')\n",
    "    # 创建不带测量的电路以获取状态向量\n",
    "    bell_circuit = QuantumCircuit(2)\n",
    "    bell_circuit.h(0)\n",
    "    bell_circuit.cx(0, 1)\n",
    "    \n",
    "    result = execute(bell_circuit, statevector_sim).result()\n",
    "    statevector = result.get_statevector()\n",
    "    \n",
    "    fig = plot_bloch_multivector(statevector)\n",
    "    plt.savefig('exercise3_bloch.png')\n",
    "    plt.close(fig)\n",
    "    print(\"Bloch球表示已保存为'exercise3_bloch.png'\")\n",
    "    \n",
    "    return circuit, counts"
   ]
  },
  {
   "cell_type": "markdown",
   "id": "178f02a7",
   "metadata": {},
   "source": [
    "取消注释下面的行以查看参考解答\n",
    "circuit3, counts3 = exercise3_solution()\n"
   ]
  },
  {
   "cell_type": "markdown",
   "id": "f9351ee8",
   "metadata": {},
   "source": [
    "--------------------------------\n",
    "练习4: 量子比特的相位\n",
    "--------------------------------\n"
   ]
  },
  {
   "cell_type": "code",
   "execution_count": null,
   "id": "4206c76d",
   "metadata": {},
   "outputs": [],
   "source": [
    "print(\"\\n练习4: 量子比特的相位\")\n",
    "print(\"任务1: 创建一个包含1个量子比特和1个经典比特的量子电路\")\n",
    "print(\"任务2: 将量子比特初始化为|+⟩状态 (|0⟩+|1⟩)/√2\")\n",
    "print(\"任务3: 应用一个Z门以改变相位\")\n",
    "print(\"任务4: 应用一个Hadamard门将相位信息转换为振幅\")\n",
    "print(\"任务5: 测量并分析结果\")"
   ]
  },
  {
   "cell_type": "markdown",
   "id": "db63b03c",
   "metadata": {},
   "source": [
    "提示\n"
   ]
  },
  {
   "cell_type": "code",
   "execution_count": null,
   "id": "7a3c4da5",
   "metadata": {},
   "outputs": [],
   "source": [
    "print(\"\\n提示:\")\n",
    "print(\"- 使用H门创建|+⟩状态\")\n",
    "print(\"- Z门将|+⟩转换为|-⟩ (|0⟩-|1⟩)/√2\")\n",
    "print(\"- 再次应用H门将|-⟩转换为|1⟩\")\n",
    "print(\"- 最终测量应该几乎总是得到'1'\")"
   ]
  },
  {
   "cell_type": "markdown",
   "id": "45c109d7",
   "metadata": {},
   "source": [
    "参考解答\n"
   ]
  },
  {
   "cell_type": "code",
   "execution_count": null,
   "id": "df466449",
   "metadata": {},
   "outputs": [],
   "source": [
    "def exercise4_solution():\n",
    "    # 任务1: 创建电路\n",
    "    circuit = QuantumCircuit(1, 1)\n",
    "    \n",
    "    # 任务2: 创建|+⟩状态\n",
    "    circuit.h(0)\n",
    "    \n",
    "    # 任务3: 应用Z门\n",
    "    circuit.z(0)\n",
    "    \n",
    "    # 任务4: 应用H门\n",
    "    circuit.h(0)\n",
    "    \n",
    "    # 任务5: 测量\n",
    "    circuit.measure(0, 0)\n",
    "    \n",
    "    # 运行电路\n",
    "    simulator = Aer.get_backend('qasm_simulator')\n",
    "    job = execute(circuit, simulator, shots=1000)\n",
    "    result = job.result()\n",
    "    counts = result.get_counts()\n",
    "    \n",
    "    print(\"\\n参考解答 - 练习4:\")\n",
    "    print(\"电路:\")\n",
    "    print(circuit.draw())\n",
    "    print(\"\\n测量结果:\")\n",
    "    print(counts)\n",
    "    print(\"\\n解释: H门将|0⟩转换为|+⟩，Z门将|+⟩转换为|-⟩，再次应用H门将|-⟩转换为|1⟩\")\n",
    "    \n",
    "    # 可视化中间状态\n",
    "    # 步骤1: 初始状态 |0⟩\n",
    "    init_circuit = QuantumCircuit(1)\n",
    "    \n",
    "    # 步骤2: 应用H门 -> |+⟩\n",
    "    h_circuit = QuantumCircuit(1)\n",
    "    h_circuit.h(0)\n",
    "    \n",
    "    # 步骤3: 应用Z门 -> |-⟩\n",
    "    z_circuit = QuantumCircuit(1)\n",
    "    z_circuit.h(0)\n",
    "    z_circuit.z(0)\n",
    "    \n",
    "    # 步骤4: 再次应用H门 -> |1⟩\n",
    "    hz_circuit = QuantumCircuit(1)\n",
    "    hz_circuit.h(0)\n",
    "    hz_circuit.z(0)\n",
    "    hz_circuit.h(0)\n",
    "    \n",
    "    # 获取所有状态向量\n",
    "    statevector_sim = Aer.get_backend('statevector_simulator')\n",
    "    result0 = execute(init_circuit, statevector_sim).result()\n",
    "    state0 = result0.get_statevector()\n",
    "    \n",
    "    result1 = execute(h_circuit, statevector_sim).result()\n",
    "    state1 = result1.get_statevector()\n",
    "    \n",
    "    result2 = execute(z_circuit, statevector_sim).result()\n",
    "    state2 = result2.get_statevector()\n",
    "    \n",
    "    result3 = execute(hz_circuit, statevector_sim).result()\n",
    "    state3 = result3.get_statevector()\n",
    "    \n",
    "    print(\"\\n量子态的演化:\")\n",
    "    print(f\"初始态 |0⟩: {state0}\")\n",
    "    print(f\"应用H门后 |+⟩: {state1}\")\n",
    "    print(f\"应用Z门后 |-⟩: {state2}\")\n",
    "    print(f\"再次应用H门后 |1⟩: {state3}\")\n",
    "    \n",
    "    return circuit, counts"
   ]
  },
  {
   "cell_type": "markdown",
   "id": "8ea9b284",
   "metadata": {},
   "source": [
    "取消注释下面的行以查看参考解答\n",
    "circuit4, counts4 = exercise4_solution()\n"
   ]
  },
  {
   "cell_type": "markdown",
   "id": "694b5f43",
   "metadata": {},
   "source": [
    "--------------------------------\n",
    "练习5: 创建GHZ态\n",
    "--------------------------------\n"
   ]
  },
  {
   "cell_type": "code",
   "execution_count": null,
   "id": "818e241b",
   "metadata": {},
   "outputs": [],
   "source": [
    "print(\"\\n练习5: 创建GHZ态\")\n",
    "print(\"任务1: 创建一个包含3个量子比特和3个经典比特的量子电路\")\n",
    "print(\"任务2: 创建GHZ态 (|000⟩+|111⟩)/√2\")\n",
    "print(\"任务3: 测量所有量子比特\")\n",
    "print(\"任务4: 运行电路1000次并分析结果\")"
   ]
  },
  {
   "cell_type": "markdown",
   "id": "1379a8d6",
   "metadata": {},
   "source": [
    "提示\n"
   ]
  },
  {
   "cell_type": "code",
   "execution_count": null,
   "id": "ad137508",
   "metadata": {},
   "outputs": [],
   "source": [
    "print(\"\\n提示:\")\n",
    "print(\"- GHZ态是Bell态的扩展\")\n",
    "print(\"- 对第一个量子比特应用H门，然后用CNOT门连接其他量子比特\")\n",
    "print(\"- 测量结果应该只有'000'和'111'，且接近50%/50%分布\")"
   ]
  },
  {
   "cell_type": "markdown",
   "id": "7edffc63",
   "metadata": {},
   "source": [
    "参考解答\n"
   ]
  },
  {
   "cell_type": "code",
   "execution_count": null,
   "id": "3cd0f9f0",
   "metadata": {},
   "outputs": [],
   "source": [
    "def exercise5_solution():\n",
    "    # 任务1: 创建电路\n",
    "    circuit = QuantumCircuit(3, 3)\n",
    "    \n",
    "    # 任务2: 创建GHZ态\n",
    "    circuit.h(0)\n",
    "    circuit.cx(0, 1)\n",
    "    circuit.cx(0, 2)\n",
    "    \n",
    "    # 任务3: 测量\n",
    "    circuit.measure([0, 1, 2], [0, 1, 2])\n",
    "    \n",
    "    # 任务4: 运行电路\n",
    "    simulator = Aer.get_backend('qasm_simulator')\n",
    "    job = execute(circuit, simulator, shots=1000)\n",
    "    result = job.result()\n",
    "    counts = result.get_counts()\n",
    "    \n",
    "    print(\"\\n参考解答 - 练习5:\")\n",
    "    print(\"电路:\")\n",
    "    print(circuit.draw())\n",
    "    print(\"\\n测量结果:\")\n",
    "    print(counts)\n",
    "    print(\"\\n解释: GHZ态是(|000⟩+|111⟩)/√2，测量结果应该只有'000'和'111'，且接近50%/50%分布\")\n",
    "    \n",
    "    # 可视化结果\n",
    "    fig = plot_histogram(counts)\n",
    "    plt.title(\"GHZ态测量结果\")\n",
    "    plt.savefig('exercise5_histogram.png')\n",
    "    plt.close(fig)\n",
    "    print(\"直方图已保存为'exercise5_histogram.png'\")\n",
    "    \n",
    "    return circuit, counts"
   ]
  },
  {
   "cell_type": "markdown",
   "id": "a8f0ee2c",
   "metadata": {},
   "source": [
    "取消注释下面的行以查看参考解答\n",
    "circuit5, counts5 = exercise5_solution()\n"
   ]
  },
  {
   "cell_type": "markdown",
   "id": "12fa6f87",
   "metadata": {},
   "source": [
    "--------------------------------\n",
    "练习6: 检测纠缠\n",
    "--------------------------------\n"
   ]
  },
  {
   "cell_type": "code",
   "execution_count": null,
   "id": "36366d16",
   "metadata": {},
   "outputs": [],
   "source": [
    "print(\"\\n练习6: 检测纠缠\")\n",
    "print(\"任务1: 创建一个Bell态 (|00⟩+|11⟩)/√2\")\n",
    "print(\"任务2: 使用状态向量模拟器获取完整的量子态\")\n",
    "print(\"任务3: 检查两个量子比特的纠缠\")"
   ]
  },
  {
   "cell_type": "markdown",
   "id": "809edc06",
   "metadata": {},
   "source": [
    "提示\n"
   ]
  },
  {
   "cell_type": "code",
   "execution_count": null,
   "id": "bac99e88",
   "metadata": {},
   "outputs": [],
   "source": [
    "print(\"\\n提示:\")\n",
    "print(\"- 使用Aer.get_backend('statevector_simulator')获取状态向量\")\n",
    "print(\"- 纠缠态不能表示为单个量子比特状态的张量积\")\n",
    "print(\"- 可以计算归约密度矩阵并检查其纯度\")"
   ]
  },
  {
   "cell_type": "markdown",
   "id": "be7d5332",
   "metadata": {},
   "source": [
    "参考解答\n"
   ]
  },
  {
   "cell_type": "code",
   "execution_count": null,
   "id": "d6a77354",
   "metadata": {},
   "outputs": [],
   "source": [
    "def exercise6_solution():\n",
    "    # 任务1: 创建Bell态\n",
    "    circuit = QuantumCircuit(2)\n",
    "    circuit.h(0)\n",
    "    circuit.cx(0, 1)\n",
    "    \n",
    "    # 任务2: 获取状态向量\n",
    "    simulator = Aer.get_backend('statevector_simulator')\n",
    "    result = execute(circuit, simulator).result()\n",
    "    statevector = result.get_statevector()\n",
    "    \n",
    "    print(\"\\n参考解答 - 练习6:\")\n",
    "    print(\"电路:\")\n",
    "    print(circuit.draw())\n",
    "    print(\"\\nBell态的状态向量:\")\n",
    "    print(statevector)\n",
    "    \n",
    "    # 任务3: 检查纠缠\n",
    "    # 为了简化，我们计算一个量子比特的约化密度矩阵\n",
    "    from qiskit.quantum_info import partial_trace, DensityMatrix\n",
    "    \n",
    "    # 创建密度矩阵\n",
    "    rho = DensityMatrix(statevector)\n",
    "    \n",
    "    # 计算第一个量子比特的约化密度矩阵\n",
    "    rho_0 = partial_trace(rho, [1])\n",
    "    \n",
    "    # 计算纯度，对于纯态应该是1，对于最大混合态是0.5\n",
    "    purity = rho_0.purity()\n",
    "    \n",
    "    print(\"\\n第一个量子比特的约化密度矩阵:\")\n",
    "    print(rho_0)\n",
    "    print(f\"\\n纯度: {purity}\")\n",
    "    \n",
    "    if abs(purity - 0.5) < 0.01:\n",
    "        print(\"\\n结论: 两个量子比特是最大纠缠的\")\n",
    "    else:\n",
    "        print(\"\\n结论: 两个量子比特不是最大纠缠的\")\n",
    "        \n",
    "    # 可视化完整密度矩阵\n",
    "    from qiskit.visualization import plot_state_city\n",
    "    fig = plot_state_city(rho)\n",
    "    plt.savefig('exercise6_density_matrix.png')\n",
    "    plt.close(fig)\n",
    "    print(\"密度矩阵表示已保存为'exercise6_density_matrix.png'\")\n",
    "    \n",
    "    return circuit, statevector"
   ]
  },
  {
   "cell_type": "markdown",
   "id": "b438bb54",
   "metadata": {},
   "source": [
    "取消注释下面的行以查看参考解答\n",
    "circuit6, statevector6 = exercise6_solution()\n"
   ]
  },
  {
   "cell_type": "markdown",
   "id": "dbe19801",
   "metadata": {},
   "source": [
    "--------------------------------\n",
    "练习7: 量子随机数发生器\n",
    "--------------------------------\n"
   ]
  },
  {
   "cell_type": "code",
   "execution_count": null,
   "id": "79d32785",
   "metadata": {},
   "outputs": [],
   "source": [
    "print(\"\\n练习7: 量子随机数发生器\")\n",
    "print(\"任务1: 创建一个包含8个量子比特和8个经典比特的量子电路\")\n",
    "print(\"任务2: 对每个量子比特应用H门以创建均匀叠加态\")\n",
    "print(\"任务3: 测量所有量子比特获取一个随机字节\")\n",
    "print(\"任务4: 运行电路多次并验证随机性\")"
   ]
  },
  {
   "cell_type": "markdown",
   "id": "53a2e870",
   "metadata": {},
   "source": [
    "提示\n"
   ]
  },
  {
   "cell_type": "code",
   "execution_count": null,
   "id": "bb2e1472",
   "metadata": {},
   "outputs": [],
   "source": [
    "print(\"\\n提示:\")\n",
    "print(\"- 量子测量的随机性可以用来生成随机数\")\n",
    "print(\"- 可以使用每次运行的结果生成一个随机字节\")\n",
    "print(\"- 使用直方图或其他统计方法验证分布的均匀性\")"
   ]
  },
  {
   "cell_type": "markdown",
   "id": "25716085",
   "metadata": {},
   "source": [
    "参考解答\n"
   ]
  },
  {
   "cell_type": "code",
   "execution_count": null,
   "id": "79553335",
   "metadata": {},
   "outputs": [],
   "source": [
    "def exercise7_solution():\n",
    "    # 任务1: 创建电路\n",
    "    num_qubits = 8\n",
    "    circuit = QuantumCircuit(num_qubits, num_qubits)\n",
    "    \n",
    "    # 任务2: 创建均匀叠加态\n",
    "    for i in range(num_qubits):\n",
    "        circuit.h(i)\n",
    "    \n",
    "    # 任务3: 测量所有量子比特\n",
    "    circuit.measure(range(num_qubits), range(num_qubits))\n",
    "    \n",
    "    # 任务4: 运行电路多次\n",
    "    num_shots = 10  # 只生成10个随机字节作为示例\n",
    "    simulator = Aer.get_backend('qasm_simulator')\n",
    "    job = execute(circuit, simulator, shots=num_shots)\n",
    "    result = job.result()\n",
    "    counts = result.get_counts()\n",
    "    \n",
    "    print(\"\\n参考解答 - 练习7:\")\n",
    "    print(\"电路:\")\n",
    "    print(circuit.draw())\n",
    "    \n",
    "    # 将结果转换为整数\n",
    "    random_bytes = []\n",
    "    for bitstring in counts.keys():\n",
    "        val = int(bitstring, 2)\n",
    "        random_bytes.extend([val] * counts[bitstring])\n",
    "    \n",
    "    print(\"\\n生成的随机字节:\")\n",
    "    for byte in random_bytes:\n",
    "        print(f\"{byte} (二进制: {byte:08b})\")\n",
    "    \n",
    "    # 生成更多随机数并验证分布\n",
    "    verification_shots = 1000\n",
    "    job = execute(circuit, simulator, shots=verification_shots)\n",
    "    result = job.result()\n",
    "    counts = result.get_counts()\n",
    "    \n",
    "    # 简单的随机性检验\n",
    "    print(f\"\\n生成了{verification_shots}个随机字节\")\n",
    "    print(f\"得到了{len(counts)}种不同的值\")\n",
    "    \n",
    "    # 如果分布均匀，我们期望每个值出现的次数大约相同\n",
    "    # 在8量子比特情况下，有256种可能的值，每个值出现频率约为 1/256\n",
    "    expected_count = verification_shots / 256\n",
    "    all_counts = list(counts.values())\n",
    "    min_count = min(all_counts)\n",
    "    max_count = max(all_counts)\n",
    "    avg_count = sum(all_counts) / len(all_counts)\n",
    "    \n",
    "    print(f\"理论上每个值应出现约{expected_count:.2f}次\")\n",
    "    print(f\"实际最小出现次数: {min_count}\")\n",
    "    print(f\"实际最大出现次数: {max_count}\")\n",
    "    print(f\"实际平均出现次数: {avg_count:.2f}\")\n",
    "    \n",
    "    # 对于真正的随机数发生器，应该进行更严格的统计测试\n",
    "    \n",
    "    return circuit, random_bytes"
   ]
  },
  {
   "cell_type": "markdown",
   "id": "cabb94ee",
   "metadata": {},
   "source": [
    "取消注释下面的行以查看参考解答\n",
    "circuit7, random_bytes7 = exercise7_solution()\n"
   ]
  },
  {
   "cell_type": "markdown",
   "id": "b22deae3",
   "metadata": {},
   "source": [
    "--------------------------------\n",
    "总结\n",
    "--------------------------------\n"
   ]
  },
  {
   "cell_type": "code",
   "execution_count": null,
   "id": "3fe2a808",
   "metadata": {},
   "outputs": [],
   "source": [
    "print(\"\\n==== 练习总结 ====\")\n",
    "print(\"完成这些练习后，您应该已经掌握了Qiskit的基本用法，包括:\")\n",
    "print(\"1. 创建量子电路并应用基本量子门\")\n",
    "print(\"2. 创建叠加态和纠缠态\")\n",
    "print(\"3. 在模拟器上运行量子电路并分析结果\")\n",
    "print(\"4. 理解量子比特的相位和测量\")\n",
    "print(\"5. 实现简单的量子算法\")\n",
    "\n",
    "print(\"\\n要查看参考解答，请取消注释相应的函数调用\")\n",
    "print(\"练习是学习的关键部分，建议先尝试自己解决，然后再参考解答\")\n",
    "print(\"祝您在量子计算的学习道路上取得进步！\")"
   ]
  },
  {
   "cell_type": "markdown",
   "id": "174851ef",
   "metadata": {},
   "source": [
    "## 💡 挑战任务\n",
    "\n",
    "尝试扩展上面的练习，探索以下内容：\n",
    "1. 更改电路参数并观察结果的变化\n",
    "2. 尝试实现不同的量子态或算法\n",
    "3. 可视化更多量子测量的结果"
   ]
  }
 ],
 "metadata": {
  "kernelspec": {
   "display_name": "Python 3",
   "language": "python",
   "name": "python3"
  },
  "language_info": {
   "codemirror_mode": {
    "name": "ipython",
    "version": 3
   },
   "file_extension": ".py",
   "mimetype": "text/x-python",
   "name": "python",
   "nbconvert_exporter": "python",
   "pygments_lexer": "ipython3",
   "version": "3.9.13"
  }
 },
 "nbformat": 4,
 "nbformat_minor": 5
}

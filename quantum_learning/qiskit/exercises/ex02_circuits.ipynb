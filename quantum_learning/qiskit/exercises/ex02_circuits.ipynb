{
 "cells": [
  {
   "cell_type": "code",
   "execution_count": null,
   "id": "8f8fbc5c",
   "metadata": {},
   "outputs": [],
   "source": [
    "#!/usr/bin/env python\n",
    "# -*- coding: utf-8 -*-"
   ]
  },
  {
   "cell_type": "markdown",
   "id": "9e8d5034",
   "metadata": {},
   "source": [
    "\n",
    "IBM Qiskit框架学习 - 量子电路练习\n",
    "本文件包含一系列帮助理解和构建量子电路的练习题"
   ]
  },
  {
   "cell_type": "markdown",
   "id": "3022f5f9",
   "metadata": {},
   "source": [
    "导入必要的库\n"
   ]
  },
  {
   "cell_type": "code",
   "execution_count": null,
   "id": "2972b979",
   "metadata": {},
   "outputs": [],
   "source": [
    "from qiskit import QuantumCircuit, QuantumRegister, ClassicalRegister, Aer, execute, transpile\n",
    "from qiskit.visualization import plot_histogram, plot_bloch_multivector, plot_state_city\n",
    "from qiskit.quantum_info import Statevector\n",
    "from qiskit.circuit.library import QFT\n",
    "import matplotlib.pyplot as plt\n",
    "import numpy as np\n"
   ]
  },
  {
   "cell_type": "code",
   "execution_count": null,
   "id": "915aa8e0",
   "metadata": {},
   "outputs": [],
   "source": [
    "print(\"===== Qiskit量子电路练习 =====\")\n",
    "print(\"完成以下练习来测试您对量子电路构建和操作的理解\")\n",
    "print(\"每个练习都有一个或多个任务，请尝试独立完成\")\n",
    "print(\"练习后有提示和参考解答\")"
   ]
  },
  {
   "cell_type": "markdown",
   "id": "1fa64d03",
   "metadata": {},
   "source": [
    "--------------------------------\n",
    "练习1: 电路组合与复合\n",
    "--------------------------------\n"
   ]
  },
  {
   "cell_type": "code",
   "execution_count": null,
   "id": "f1023a9f",
   "metadata": {},
   "outputs": [],
   "source": [
    "print(\"\\n练习1: 电路组合与复合\")\n",
    "print(\"任务1: 创建两个2量子比特的独立电路，分别应用不同的量子门\")\n",
    "print(\"任务2: 使用compose方法将两个电路合并为一个\")\n",
    "print(\"任务3: 使用状态向量模拟器查看复合电路的输出状态\")"
   ]
  },
  {
   "cell_type": "markdown",
   "id": "ba4b524e",
   "metadata": {},
   "source": [
    "提示\n"
   ]
  },
  {
   "cell_type": "code",
   "execution_count": null,
   "id": "08f9ca1c",
   "metadata": {},
   "outputs": [],
   "source": [
    "print(\"\\n提示:\")\n",
    "print(\"- 创建第一个电路，例如应用H门和X门\")\n",
    "print(\"- 创建第二个电路，例如应用CNOT门和Z门\")\n",
    "print(\"- 使用circuit1.compose(circuit2)方法将它们组合\")\n",
    "print(\"- 使用状态向量模拟器查看结果状态\")"
   ]
  },
  {
   "cell_type": "markdown",
   "id": "e077d0e8",
   "metadata": {},
   "source": [
    "参考解答\n"
   ]
  },
  {
   "cell_type": "code",
   "execution_count": null,
   "id": "6aba12a6",
   "metadata": {},
   "outputs": [],
   "source": [
    "def exercise1_solution():\n",
    "    # 任务1: 创建两个独立电路\n",
    "    # 第一个电路: 对第一个量子比特应用H门，对第二个量子比特应用X门\n",
    "    circuit1 = QuantumCircuit(2)\n",
    "    circuit1.h(0)\n",
    "    circuit1.x(1)\n",
    "    \n",
    "    # 第二个电路: 应用CNOT门和Z门\n",
    "    circuit2 = QuantumCircuit(2)\n",
    "    circuit2.cx(0, 1)\n",
    "    circuit2.z(0)\n",
    "    \n",
    "    # 任务2: 组合电路\n",
    "    combined_circuit = circuit1.compose(circuit2)\n",
    "    \n",
    "    # 任务3: 使用状态向量模拟器\n",
    "    simulator = Aer.get_backend('statevector_simulator')\n",
    "    \n",
    "    # 模拟第一个电路\n",
    "    job1 = execute(circuit1, simulator)\n",
    "    state1 = job1.result().get_statevector()\n",
    "    \n",
    "    # 模拟第二个电路\n",
    "    init_state = Statevector.from_label('00')  # 初始状态 |00⟩\n",
    "    job2 = execute(circuit2, simulator)\n",
    "    state2 = init_state.evolve(circuit2)\n",
    "    \n",
    "    # 模拟组合电路\n",
    "    job_combined = execute(combined_circuit, simulator)\n",
    "    state_combined = job_combined.result().get_statevector()\n",
    "    \n",
    "    print(\"\\n参考解答 - 练习1:\")\n",
    "    print(\"电路1:\")\n",
    "    print(circuit1.draw())\n",
    "    print(\"\\n电路1的状态向量:\")\n",
    "    print(state1)\n",
    "    \n",
    "    print(\"\\n电路2:\")\n",
    "    print(circuit2.draw())\n",
    "    \n",
    "    print(\"\\n组合后的电路:\")\n",
    "    print(combined_circuit.draw())\n",
    "    print(\"\\n组合电路的状态向量:\")\n",
    "    print(state_combined)\n",
    "    print(\"\\n解释: 组合电路执行了电路1和电路2的操作序列，最终结果是两个电路效果的结合\")\n",
    "    \n",
    "    # 可视化最终状态\n",
    "    fig = plot_bloch_multivector(state_combined)\n",
    "    plt.savefig('exercise1_bloch.png')\n",
    "    plt.close(fig)\n",
    "    print(\"Bloch球表示已保存为'exercise1_bloch.png'\")\n",
    "    \n",
    "    return combined_circuit, state_combined"
   ]
  },
  {
   "cell_type": "markdown",
   "id": "488e23cd",
   "metadata": {},
   "source": [
    "取消注释下面的行以查看参考解答\n",
    "combined_circuit1, state1 = exercise1_solution()\n"
   ]
  },
  {
   "cell_type": "markdown",
   "id": "ac2ae7f3",
   "metadata": {},
   "source": [
    "--------------------------------\n",
    "练习2: 使用量子寄存器\n",
    "--------------------------------\n"
   ]
  },
  {
   "cell_type": "code",
   "execution_count": null,
   "id": "06e59f0f",
   "metadata": {},
   "outputs": [],
   "source": [
    "print(\"\\n练习2: 使用量子寄存器\")\n",
    "print(\"任务1: 创建两个量子寄存器和一个经典寄存器\")\n",
    "print(\"任务2: 使用这些寄存器创建一个电路\")\n",
    "print(\"任务3: 在第一个寄存器上应用H门，在第二个寄存器上应用X门\")\n",
    "print(\"任务4: 在两个寄存器之间应用受控门\")\n",
    "print(\"任务5: 测量并运行电路\")"
   ]
  },
  {
   "cell_type": "markdown",
   "id": "dcf9ac36",
   "metadata": {},
   "source": [
    "提示\n"
   ]
  },
  {
   "cell_type": "code",
   "execution_count": null,
   "id": "1cebcaae",
   "metadata": {},
   "outputs": [],
   "source": [
    "print(\"\\n提示:\")\n",
    "print(\"- 使用QuantumRegister和ClassicalRegister创建寄存器\")\n",
    "print(\"- 使用QuantumCircuit(qr1, qr2, cr)创建电路\")\n",
    "print(\"- 使用circuit.h(qr1[0])和circuit.x(qr2[0])应用门\")\n",
    "print(\"- 使用circuit.cx(qr1[0], qr2[0])应用受控门\")\n",
    "print(\"- 使用circuit.measure(qr1, cr)进行测量\")"
   ]
  },
  {
   "cell_type": "markdown",
   "id": "c2326a88",
   "metadata": {},
   "source": [
    "参考解答\n"
   ]
  },
  {
   "cell_type": "code",
   "execution_count": null,
   "id": "b10b1b8b",
   "metadata": {},
   "outputs": [],
   "source": [
    "def exercise2_solution():\n",
    "    # 任务1: 创建寄存器\n",
    "    qr1 = QuantumRegister(2, 'q1')  # 第一个量子寄存器，2个量子比特\n",
    "    qr2 = QuantumRegister(1, 'q2')  # 第二个量子寄存器，1个量子比特\n",
    "    cr = ClassicalRegister(3, 'c')  # 经典寄存器，3个经典比特\n",
    "    \n",
    "    # 任务2: 创建电路\n",
    "    circuit = QuantumCircuit(qr1, qr2, cr)\n",
    "    \n",
    "    # 任务3: 应用门\n",
    "    circuit.h(qr1[0])  # 对第一个寄存器的第一个量子比特应用H门\n",
    "    circuit.h(qr1[1])  # 对第一个寄存器的第二个量子比特应用H门\n",
    "    circuit.x(qr2[0])  # 对第二个寄存器的量子比特应用X门\n",
    "    \n",
    "    # 任务4: 应用受控门\n",
    "    circuit.cx(qr1[0], qr2[0])  # 从qr1[0]到qr2[0]的CNOT门\n",
    "    circuit.cz(qr1[1], qr2[0])  # 从qr1[1]到qr2[0]的CZ门\n",
    "    \n",
    "    # 任务5: 测量和运行\n",
    "    circuit.measure(qr1, cr[0:2])  # 测量第一个寄存器到前两个经典比特\n",
    "    circuit.measure(qr2, cr[2])    # 测量第二个寄存器到第三个经典比特\n",
    "    \n",
    "    # 运行电路\n",
    "    simulator = Aer.get_backend('qasm_simulator')\n",
    "    job = execute(circuit, simulator, shots=1024)\n",
    "    result = job.result()\n",
    "    counts = result.get_counts()\n",
    "    \n",
    "    print(\"\\n参考解答 - 练习2:\")\n",
    "    print(\"电路:\")\n",
    "    print(circuit.draw())\n",
    "    print(\"\\n测量结果:\")\n",
    "    print(counts)\n",
    "    print(\"\\n解释:\")\n",
    "    print(\"- 第一个寄存器的两个量子比特都处于叠加态\")\n",
    "    print(\"- 第二个寄存器的量子比特初始为|1⟩，但受到第一个寄存器的控制\")\n",
    "    print(\"- 结果是多种可能态的叠加，由于量子比特间的纠缠\")\n",
    "    \n",
    "    # 可视化结果\n",
    "    fig = plot_histogram(counts)\n",
    "    plt.title(\"量子寄存器电路测量结果\")\n",
    "    plt.savefig('exercise2_histogram.png')\n",
    "    plt.close(fig)\n",
    "    print(\"直方图已保存为'exercise2_histogram.png'\")\n",
    "    \n",
    "    # 检查寄存器信息\n",
    "    print(\"\\n电路信息:\")\n",
    "    print(f\"量子比特总数: {circuit.num_qubits}\")\n",
    "    print(f\"经典比特总数: {circuit.num_clbits}\")\n",
    "    print(f\"量子寄存器: {circuit.qregs}\")\n",
    "    print(f\"经典寄存器: {circuit.cregs}\")\n",
    "    \n",
    "    return circuit, counts"
   ]
  },
  {
   "cell_type": "markdown",
   "id": "adc0215c",
   "metadata": {},
   "source": [
    "取消注释下面的行以查看参考解答\n",
    "circuit2, counts2 = exercise2_solution()\n"
   ]
  },
  {
   "cell_type": "markdown",
   "id": "0974aa03",
   "metadata": {},
   "source": [
    "--------------------------------\n",
    "练习3: 创建和应用栅栏\n",
    "--------------------------------\n"
   ]
  },
  {
   "cell_type": "code",
   "execution_count": null,
   "id": "32a0590e",
   "metadata": {},
   "outputs": [],
   "source": [
    "print(\"\\n练习3: 创建和应用栅栏\")\n",
    "print(\"任务1: 创建一个3量子比特的电路\")\n",
    "print(\"任务2: 应用一系列量子门，并在不同阶段之间添加栅栏\")\n",
    "print(\"任务3: 绘制电路并观察栅栏的效果\")"
   ]
  },
  {
   "cell_type": "markdown",
   "id": "95bfb02d",
   "metadata": {},
   "source": [
    "提示\n"
   ]
  },
  {
   "cell_type": "code",
   "execution_count": null,
   "id": "1da832c9",
   "metadata": {},
   "outputs": [],
   "source": [
    "print(\"\\n提示:\")\n",
    "print(\"- 栅栏(barrier)用于将电路分成逻辑部分\")\n",
    "print(\"- 使用circuit.barrier()在所有量子比特上添加栅栏\")\n",
    "print(\"- 或者使用circuit.barrier([0, 1])在特定量子比特上添加栅栏\")\n",
    "print(\"- 栅栏可以帮助优化器理解电路的逻辑结构\")"
   ]
  },
  {
   "cell_type": "markdown",
   "id": "a4fffc91",
   "metadata": {},
   "source": [
    "参考解答\n"
   ]
  },
  {
   "cell_type": "code",
   "execution_count": null,
   "id": "cf9a81c5",
   "metadata": {},
   "outputs": [],
   "source": [
    "def exercise3_solution():\n",
    "    # 任务1: 创建电路\n",
    "    circuit = QuantumCircuit(3, 3)\n",
    "    \n",
    "    # 任务2: 应用门和栅栏\n",
    "    # 第一阶段: 初始化\n",
    "    circuit.h(0)\n",
    "    circuit.x(1)\n",
    "    circuit.h(2)\n",
    "    \n",
    "    # 添加栅栏，表示初始化结束\n",
    "    circuit.barrier()\n",
    "    \n",
    "    # 第二阶段: 纠缠操作\n",
    "    circuit.cx(0, 1)\n",
    "    circuit.cx(2, 1)\n",
    "    \n",
    "    # 只在量子比特0和1之间添加栅栏\n",
    "    circuit.barrier([0, 1])\n",
    "    \n",
    "    # 第三阶段: 最终操作\n",
    "    circuit.h(0)\n",
    "    circuit.z(2)\n",
    "    \n",
    "    # 添加栅栏，表示操作结束\n",
    "    circuit.barrier()\n",
    "    \n",
    "    # 测量\n",
    "    circuit.measure([0, 1, 2], [0, 1, 2])\n",
    "    \n",
    "    # 任务3: 绘制电路\n",
    "    print(\"\\n参考解答 - 练习3:\")\n",
    "    print(\"带栅栏的电路:\")\n",
    "    print(circuit.draw())\n",
    "    \n",
    "    # 运行电路\n",
    "    simulator = Aer.get_backend('qasm_simulator')\n",
    "    job = execute(circuit, simulator, shots=1024)\n",
    "    result = job.result()\n",
    "    counts = result.get_counts()\n",
    "    \n",
    "    print(\"\\n测量结果:\")\n",
    "    print(counts)\n",
    "    \n",
    "    print(\"\\n解释:\")\n",
    "    print(\"- 栅栏帮助将电路分成逻辑部分，使电路更容易理解\")\n",
    "    print(\"- 栅栏不影响量子电路的行为，但可以影响电路优化\")\n",
    "    print(\"- 在实际设备上，栅栏可以防止优化器跨越不同的逻辑部分进行优化\")\n",
    "    \n",
    "    # 查看带栅栏电路的转译\n",
    "    transpiled_circuit = transpile(circuit, basis_gates=['u1', 'u2', 'u3', 'cx'], optimization_level=1)\n",
    "    print(\"\\n转译后的电路:\")\n",
    "    print(transpiled_circuit.draw())\n",
    "    print(\"注意栅栏如何在转译过程中保持电路的逻辑结构\")\n",
    "    \n",
    "    return circuit, transpiled_circuit"
   ]
  },
  {
   "cell_type": "markdown",
   "id": "3aa43aff",
   "metadata": {},
   "source": [
    "取消注释下面的行以查看参考解答\n",
    "circuit3, transpiled3 = exercise3_solution()\n"
   ]
  },
  {
   "cell_type": "markdown",
   "id": "8c48cfc2",
   "metadata": {},
   "source": [
    "--------------------------------\n",
    "练习4: 参数化电路\n",
    "--------------------------------\n"
   ]
  },
  {
   "cell_type": "code",
   "execution_count": null,
   "id": "83428e49",
   "metadata": {},
   "outputs": [],
   "source": [
    "print(\"\\n练习4: 参数化电路\")\n",
    "print(\"任务1: 创建一个带有参数的量子电路\")\n",
    "print(\"任务2: 使用不同的参数值绑定电路并执行\")\n",
    "print(\"任务3: 分析参数对输出结果的影响\")"
   ]
  },
  {
   "cell_type": "markdown",
   "id": "cc8a356f",
   "metadata": {},
   "source": [
    "提示\n"
   ]
  },
  {
   "cell_type": "code",
   "execution_count": null,
   "id": "ac8eaa04",
   "metadata": {},
   "outputs": [],
   "source": [
    "print(\"\\n提示:\")\n",
    "print(\"- 使用ParameterVector或Parameter创建参数\")\n",
    "print(\"- 使用circuit.rx(theta, 0)等方法应用参数化门\")\n",
    "print(\"- 使用circuit.bind_parameters({theta: value})绑定参数\")\n",
    "print(\"- 尝试不同参数值并比较结果\")"
   ]
  },
  {
   "cell_type": "markdown",
   "id": "afc118d1",
   "metadata": {},
   "source": [
    "参考解答\n"
   ]
  },
  {
   "cell_type": "code",
   "execution_count": null,
   "id": "240996f1",
   "metadata": {},
   "outputs": [],
   "source": [
    "def exercise4_solution():\n",
    "    # 任务1: 创建参数化电路\n",
    "    from qiskit.circuit import Parameter\n",
    "    \n",
    "    # 创建参数\n",
    "    theta = Parameter('θ')\n",
    "    phi = Parameter('φ')\n",
    "    \n",
    "    # 创建电路\n",
    "    circuit = QuantumCircuit(2, 2)\n",
    "    \n",
    "    # 应用参数化门\n",
    "    circuit.rx(theta, 0)\n",
    "    circuit.ry(phi, 1)\n",
    "    circuit.cx(0, 1)\n",
    "    circuit.measure([0, 1], [0, 1])\n",
    "    \n",
    "    print(\"\\n参考解答 - 练习4:\")\n",
    "    print(\"参数化电路:\")\n",
    "    print(circuit.draw())\n",
    "    \n",
    "    # 任务2: 绑定参数并执行\n",
    "    simulator = Aer.get_backend('qasm_simulator')\n",
    "    \n",
    "    # 定义要测试的参数值\n",
    "    theta_values = [0, np.pi/4, np.pi/2, np.pi]\n",
    "    phi_values = [0, np.pi/2]\n",
    "    \n",
    "    results = {}\n",
    "    \n",
    "    # 尝试不同参数组合\n",
    "    for t in theta_values:\n",
    "        for p in phi_values:\n",
    "            # 绑定参数\n",
    "            bound_circuit = circuit.bind_parameters({theta: t, phi: p})\n",
    "            \n",
    "            # 执行电路\n",
    "            job = execute(bound_circuit, simulator, shots=1024)\n",
    "            result = job.result()\n",
    "            counts = result.get_counts()\n",
    "            \n",
    "            # 存储结果\n",
    "            param_key = f\"θ={t:.2f}, φ={p:.2f}\"\n",
    "            results[param_key] = counts\n",
    "    \n",
    "    # 任务3: 分析结果\n",
    "    print(\"\\n不同参数值的测量结果:\")\n",
    "    for param, counts in results.items():\n",
    "        print(f\"{param}: {counts}\")\n",
    "    \n",
    "    print(\"\\n解释:\")\n",
    "    print(\"- 参数θ控制第一个量子比特绕X轴的旋转角度\")\n",
    "    print(\"- 参数φ控制第二个量子比特绕Y轴的旋转角度\")\n",
    "    print(\"- θ=0时，第一个量子比特保持在|0⟩状态\")\n",
    "    print(\"- θ=π时，第一个量子比特翻转到|1⟩状态\")\n",
    "    print(\"- θ=π/2时，第一个量子比特处于均匀叠加态\")\n",
    "    print(\"- CNOT门将这种改变传递给第二个量子比特，导致纠缠\")\n",
    "    \n",
    "    # 可视化特定参数组合的结果\n",
    "    specific_params = {\n",
    "        \"θ=0.00, φ=0.00\": results[\"θ=0.00, φ=0.00\"],\n",
    "        \"θ=1.57, φ=1.57\": results[\"θ=1.57, φ=1.57\"]\n",
    "    }\n",
    "    \n",
    "    fig = plot_histogram(specific_params)\n",
    "    plt.title(\"不同参数值的测量结果对比\")\n",
    "    plt.savefig('exercise4_histogram.png')\n",
    "    plt.close(fig)\n",
    "    print(\"参数对比直方图已保存为'exercise4_histogram.png'\")\n",
    "    \n",
    "    return circuit, results"
   ]
  },
  {
   "cell_type": "markdown",
   "id": "95f4a518",
   "metadata": {},
   "source": [
    "取消注释下面的行以查看参考解答\n",
    "circuit4, results4 = exercise4_solution()\n"
   ]
  },
  {
   "cell_type": "markdown",
   "id": "18aef9fe",
   "metadata": {},
   "source": [
    "--------------------------------\n",
    "练习5: 使用电路库组件\n",
    "--------------------------------\n"
   ]
  },
  {
   "cell_type": "code",
   "execution_count": null,
   "id": "6deddb19",
   "metadata": {},
   "outputs": [],
   "source": [
    "print(\"\\n练习5: 使用电路库组件\")\n",
    "print(\"任务1: 创建一个使用量子傅里叶变换(QFT)的电路\")\n",
    "print(\"任务2: 应用QFT和逆QFT操作\")\n",
    "print(\"任务3: 分析QFT对不同输入状态的影响\")"
   ]
  },
  {
   "cell_type": "markdown",
   "id": "74788718",
   "metadata": {},
   "source": [
    "提示\n"
   ]
  },
  {
   "cell_type": "code",
   "execution_count": null,
   "id": "572cd4be",
   "metadata": {},
   "outputs": [],
   "source": [
    "print(\"\\n提示:\")\n",
    "print(\"- 使用qiskit.circuit.library中的QFT\")\n",
    "print(\"- 创建不同的初始状态，如|00⟩、|01⟩、|10⟩、|11⟩\")\n",
    "print(\"- 应用QFT，然后应用逆QFT\")\n",
    "print(\"- 使用状态向量模拟器查看变换后的状态\")"
   ]
  },
  {
   "cell_type": "markdown",
   "id": "d311d3d2",
   "metadata": {},
   "source": [
    "参考解答\n"
   ]
  },
  {
   "cell_type": "code",
   "execution_count": null,
   "id": "63ccbb4b",
   "metadata": {},
   "outputs": [],
   "source": [
    "def exercise5_solution():\n",
    "    # 任务1: 创建使用QFT的电路\n",
    "    # 我们将测试4种不同的初始态\n",
    "    initial_states = {\n",
    "        '00': QuantumCircuit(2),\n",
    "        '01': QuantumCircuit(2),\n",
    "        '10': QuantumCircuit(2),\n",
    "        '11': QuantumCircuit(2)\n",
    "    }\n",
    "    \n",
    "    # 准备初始态\n",
    "    initial_states['00']  # |00⟩态不需要额外操作\n",
    "    initial_states['01'].x(1)  # |01⟩态\n",
    "    initial_states['10'].x(0)  # |10⟩态\n",
    "    initial_states['11'].x([0, 1])  # |11⟩态\n",
    "    \n",
    "    # 创建QFT和逆QFT电路\n",
    "    qft = QFT(2)\n",
    "    inverse_qft = QFT(2).inverse()\n",
    "    \n",
    "    # 任务2: 应用QFT和逆QFT\n",
    "    qft_circuits = {}\n",
    "    qft_inverse_circuits = {}\n",
    "    \n",
    "    for state_label, init_circuit in initial_states.items():\n",
    "        # 应用QFT\n",
    "        qft_circuit = init_circuit.copy()\n",
    "        qft_circuit = qft_circuit.compose(qft)\n",
    "        qft_circuits[state_label] = qft_circuit\n",
    "        \n",
    "        # 应用QFT然后逆QFT\n",
    "        qft_inverse_circuit = qft_circuit.copy()\n",
    "        qft_inverse_circuit = qft_inverse_circuit.compose(inverse_qft)\n",
    "        qft_inverse_circuits[state_label] = qft_inverse_circuit\n",
    "    \n",
    "    # 任务3: 分析结果\n",
    "    simulator = Aer.get_backend('statevector_simulator')\n",
    "    \n",
    "    # 存储结果\n",
    "    initial_states_sv = {}\n",
    "    qft_states_sv = {}\n",
    "    qft_inverse_states_sv = {}\n",
    "    \n",
    "    for state_label in initial_states:\n",
    "        # 获取初始态的状态向量\n",
    "        init_job = execute(initial_states[state_label], simulator)\n",
    "        initial_states_sv[state_label] = init_job.result().get_statevector()\n",
    "        \n",
    "        # 获取QFT后的状态向量\n",
    "        qft_job = execute(qft_circuits[state_label], simulator)\n",
    "        qft_states_sv[state_label] = qft_job.result().get_statevector()\n",
    "        \n",
    "        # 获取QFT然后逆QFT后的状态向量\n",
    "        qft_inv_job = execute(qft_inverse_circuits[state_label], simulator)\n",
    "        qft_inverse_states_sv[state_label] = qft_inv_job.result().get_statevector()\n",
    "    \n",
    "    print(\"\\n参考解答 - 练习5:\")\n",
    "    print(\"QFT电路:\")\n",
    "    print(qft.draw())\n",
    "    \n",
    "    print(\"\\n逆QFT电路:\")\n",
    "    print(inverse_qft.draw())\n",
    "    \n",
    "    print(\"\\n不同初始态经过QFT后的状态向量:\")\n",
    "    for state_label, sv in qft_states_sv.items():\n",
    "        print(f\"初始态 |{state_label}⟩ -> QFT后: {sv}\")\n",
    "    \n",
    "    print(\"\\n应用QFT然后逆QFT后的状态向量:\")\n",
    "    for state_label, sv in qft_inverse_states_sv.items():\n",
    "        print(f\"初始态 |{state_label}⟩ -> QFT -> 逆QFT后: {sv}\")\n",
    "        # 计算保真度，检查是否回到初始态\n",
    "        fidelity = abs(np.dot(sv.conjugate(), initial_states_sv[state_label]))**2\n",
    "        print(f\"  与初始态的保真度: {fidelity:.6f}\")\n",
    "    \n",
    "    print(\"\\n解释:\")\n",
    "    print(\"- QFT是量子计算中的基本操作，类似于经典的傅里叶变换\")\n",
    "    print(\"- QFT将计算基态转换为傅里叶基态，逆QFT将傅里叶基态转换回计算基态\")\n",
    "    print(\"- 对|00⟩态应用QFT产生均匀叠加态\")\n",
    "    print(\"- 对其他状态应用QFT会产生不同的相位模式\")\n",
    "    print(\"- 应用QFT然后逆QFT应该恢复原始状态，保真度接近1\")\n",
    "    \n",
    "    # 可视化状态向量\n",
    "    from qiskit.visualization import plot_state_city\n",
    "    \n",
    "    fig = plot_state_city(qft_states_sv['00'])\n",
    "    plt.title(\"初始态|00⟩经过QFT后的状态\")\n",
    "    plt.savefig('exercise5_qft_00.png')\n",
    "    plt.close(fig)\n",
    "    \n",
    "    fig = plot_state_city(qft_states_sv['01'])\n",
    "    plt.title(\"初始态|01⟩经过QFT后的状态\")\n",
    "    plt.savefig('exercise5_qft_01.png')\n",
    "    plt.close(fig)\n",
    "    \n",
    "    print(\"状态可视化已保存为'exercise5_qft_xx.png'\")\n",
    "    \n",
    "    return qft_circuits, qft_states_sv"
   ]
  },
  {
   "cell_type": "markdown",
   "id": "dc88487f",
   "metadata": {},
   "source": [
    "取消注释下面的行以查看参考解答\n",
    "qft_circuits5, qft_states5 = exercise5_solution()\n"
   ]
  },
  {
   "cell_type": "markdown",
   "id": "b57fde85",
   "metadata": {},
   "source": [
    "--------------------------------\n",
    "练习6: 创建多控制门电路\n",
    "--------------------------------\n"
   ]
  },
  {
   "cell_type": "code",
   "execution_count": null,
   "id": "bc30fcf7",
   "metadata": {},
   "outputs": [],
   "source": [
    "print(\"\\n练习6: 创建多控制门电路\")\n",
    "print(\"任务1: 创建一个5量子比特的电路\")\n",
    "print(\"任务2: 应用多控制X门，使用3个控制比特和1个目标比特\")\n",
    "print(\"任务3: 测量并分析结果\")"
   ]
  },
  {
   "cell_type": "markdown",
   "id": "2d8e6a2a",
   "metadata": {},
   "source": [
    "提示\n"
   ]
  },
  {
   "cell_type": "code",
   "execution_count": null,
   "id": "7907cea1",
   "metadata": {},
   "outputs": [],
   "source": [
    "print(\"\\n提示:\")\n",
    "print(\"- 使用circuit.mcx(control_qubits, target_qubit)应用多控制X门\")\n",
    "print(\"- 或使用circuit.mct(control_qubits, target_qubit)应用多控制Toffoli门\")\n",
    "print(\"- 创建一个特定的输入状态，其中所有控制比特都是|1⟩\")\n",
    "print(\"- 观察多控制门的效果\")"
   ]
  },
  {
   "cell_type": "markdown",
   "id": "e0220403",
   "metadata": {},
   "source": [
    "参考解答\n"
   ]
  },
  {
   "cell_type": "code",
   "execution_count": null,
   "id": "792e24d8",
   "metadata": {},
   "outputs": [],
   "source": [
    "def exercise6_solution():\n",
    "    # 任务1: 创建电路\n",
    "    n_qubits = 5\n",
    "    circuit = QuantumCircuit(n_qubits, n_qubits)\n",
    "    \n",
    "    # 任务2: 应用多控制X门\n",
    "    # 让我们设置控制比特为0, 1, 2，目标比特为4\n",
    "    control_qubits = [0, 1, 2]\n",
    "    target_qubit = 4\n",
    "    ancilla_qubit = 3  # 辅助量子比特\n",
    "    \n",
    "    # 首先，我们将所有控制比特置为|1⟩\n",
    "    circuit.x(control_qubits)\n",
    "    \n",
    "    # 应用多控制X门\n",
    "    circuit.mcx(control_qubits, target_qubit)\n",
    "    \n",
    "    # 再次应用多控制X门，但这次使用辅助量子比特\n",
    "    circuit.mcx(control_qubits, ancilla_qubit, mode='recursion')\n",
    "    \n",
    "    # 任务3: 测量并分析\n",
    "    circuit.measure(range(n_qubits), range(n_qubits))\n",
    "    \n",
    "    print(\"\\n参考解答 - 练习6:\")\n",
    "    print(\"多控制X门电路:\")\n",
    "    print(circuit.draw())\n",
    "    \n",
    "    # 运行电路\n",
    "    simulator = Aer.get_backend('qasm_simulator')\n",
    "    job = execute(circuit, simulator, shots=1024)\n",
    "    result = job.result()\n",
    "    counts = result.get_counts()\n",
    "    \n",
    "    print(\"\\n测量结果:\")\n",
    "    print(counts)\n",
    "    \n",
    "    print(\"\\n解释:\")\n",
    "    print(\"- 多控制X门(或多控制Toffoli门)只有在所有控制比特都是|1⟩时才翻转目标比特\")\n",
    "    print(\"- 我们将控制比特(0, 1, 2)初始化为|1⟩，所以目标比特(4)和辅助比特(3)被翻转为|1⟩\")\n",
    "    print(\"- 最终，我们应该看到所有5个量子比特都是|1⟩(对应二进制'11111')\")\n",
    "    \n",
    "    # 转译为基本门的实现\n",
    "    basic_circuit = transpile(circuit, basis_gates=['u1', 'u2', 'u3', 'cx'], optimization_level=0)\n",
    "    print(f\"\\n转译为基本门后的门数量: {len(basic_circuit)}\")\n",
    "    print(\"多控制门通常会转译为多个基本门\")\n",
    "    \n",
    "    # 可视化结果\n",
    "    fig = plot_histogram(counts)\n",
    "    plt.title(\"多控制X门电路测量结果\")\n",
    "    plt.savefig('exercise6_histogram.png')\n",
    "    plt.close(fig)\n",
    "    print(\"直方图已保存为'exercise6_histogram.png'\")\n",
    "    \n",
    "    return circuit, counts"
   ]
  },
  {
   "cell_type": "markdown",
   "id": "04f00a88",
   "metadata": {},
   "source": [
    "取消注释下面的行以查看参考解答\n",
    "circuit6, counts6 = exercise6_solution()\n"
   ]
  },
  {
   "cell_type": "markdown",
   "id": "e3d3e992",
   "metadata": {},
   "source": [
    "--------------------------------\n",
    "练习7: 创建相位估计电路\n",
    "--------------------------------\n"
   ]
  },
  {
   "cell_type": "code",
   "execution_count": null,
   "id": "0aa24b86",
   "metadata": {},
   "outputs": [],
   "source": [
    "print(\"\\n练习7: 创建相位估计电路\")\n",
    "print(\"任务1: 创建一个简单的相位估计电路\")\n",
    "print(\"任务2: 使用QFT实现相位估计\")\n",
    "print(\"任务3: 分析电路对不同相位的估计准确度\")"
   ]
  },
  {
   "cell_type": "markdown",
   "id": "13ba3800",
   "metadata": {},
   "source": [
    "提示\n"
   ]
  },
  {
   "cell_type": "code",
   "execution_count": null,
   "id": "d9df609f",
   "metadata": {},
   "outputs": [],
   "source": [
    "print(\"\\n提示:\")\n",
    "print(\"- 相位估计是Shor算法等的基础\")\n",
    "print(\"- 创建一个包含估计寄存器和目标寄存器的电路\")\n",
    "print(\"- 在估计寄存器上应用H门，在目标寄存器上准备特征态\")\n",
    "print(\"- 应用受控U门和逆QFT\")\n",
    "print(\"- 测量估计寄存器并分析结果\")"
   ]
  },
  {
   "cell_type": "markdown",
   "id": "caa20b34",
   "metadata": {},
   "source": [
    "参考解答\n"
   ]
  },
  {
   "cell_type": "code",
   "execution_count": null,
   "id": "049f21a0",
   "metadata": {},
   "outputs": [],
   "source": [
    "def exercise7_solution():\n",
    "    # 任务1: 创建相位估计电路\n",
    "    # 我们将估计相位θ=1/4 (对应U|1⟩=e^{2πiθ}|1⟩)\n",
    "    \n",
    "    # 定义参数\n",
    "    n_counting = 3  # 相位估计寄存器的量子比特数\n",
    "    theta = 0.25    # 要估计的相位 (1/4)\n",
    "    \n",
    "    # 创建电路\n",
    "    phase_est_circuit = QuantumCircuit(n_counting + 1, n_counting)\n",
    "    \n",
    "    # 任务2: 相位估计实现\n",
    "    # 第1步: 准备估计寄存器为均匀叠加态\n",
    "    for i in range(n_counting):\n",
    "        phase_est_circuit.h(i)\n",
    "    \n",
    "    # 第2步: 准备目标寄存器的特征态 (这里是|1⟩)\n",
    "    phase_est_circuit.x(n_counting)\n",
    "    \n",
    "    # 第3步: 应用受控U^{2^j}门\n",
    "    # U = diag(1, e^{2πiθ})，我们用相位门P来实现\n",
    "    for j in range(n_counting):\n",
    "        # 对于每个j，应用CP门，控制位是估计寄存器的量子比特j\n",
    "        # 旋转角度是2π*θ*2^j\n",
    "        angle = 2 * np.pi * theta * 2**(n_counting-1-j)\n",
    "        phase_est_circuit.cp(angle, j, n_counting)\n",
    "    \n",
    "    # 第4步: 应用逆QFT到估计寄存器\n",
    "    phase_est_circuit.append(QFT(n_counting).inverse(), range(n_counting))\n",
    "    \n",
    "    # 第5步: 测量估计寄存器\n",
    "    phase_est_circuit.measure(range(n_counting), range(n_counting))\n",
    "    \n",
    "    print(\"\\n参考解答 - 练习7:\")\n",
    "    print(\"相位估计电路 (θ=0.25):\")\n",
    "    print(phase_est_circuit.draw())\n",
    "    \n",
    "    # 任务3: 分析不同相位的估计准确度\n",
    "    # 我们将测试几个不同的相位值\n",
    "    phase_values = [0.125, 0.25, 0.375, 0.5]\n",
    "    phase_results = {}\n",
    "    \n",
    "    for phase in phase_values:\n",
    "        # 创建相位估计电路\n",
    "        circuit = QuantumCircuit(n_counting + 1, n_counting)\n",
    "        \n",
    "        # 估计寄存器准备\n",
    "        for i in range(n_counting):\n",
    "            circuit.h(i)\n",
    "        \n",
    "        # 目标寄存器准备\n",
    "        circuit.x(n_counting)\n",
    "        \n",
    "        # 受控相位旋转\n",
    "        for j in range(n_counting):\n",
    "            angle = 2 * np.pi * phase * 2**(n_counting-1-j)\n",
    "            circuit.cp(angle, j, n_counting)\n",
    "        \n",
    "        # 逆QFT\n",
    "        circuit.append(QFT(n_counting).inverse(), range(n_counting))\n",
    "        \n",
    "        # 测量\n",
    "        circuit.measure(range(n_counting), range(n_counting))\n",
    "        \n",
    "        # 运行电路\n",
    "        simulator = Aer.get_backend('qasm_simulator')\n",
    "        job = execute(circuit, simulator, shots=1024)\n",
    "        result = job.result()\n",
    "        counts = result.get_counts()\n",
    "        \n",
    "        phase_results[phase] = counts\n",
    "    \n",
    "    print(\"\\n不同相位值的估计结果:\")\n",
    "    for phase, counts in phase_results.items():\n",
    "        print(f\"\\n相位 θ={phase}:\")\n",
    "        print(counts)\n",
    "        \n",
    "        # 解释测量结果\n",
    "        # 对于每个测量结果比特串，计算对应的相位估计\n",
    "        estimated_phases = {}\n",
    "        for bitstring, count in counts.items():\n",
    "            # 将二进制比特串转换为整数\n",
    "            measured_int = int(bitstring, 2)\n",
    "            # 计算估计的相位\n",
    "            estimated_phase = measured_int / (2**n_counting)\n",
    "            estimated_phases[estimated_phase] = count\n",
    "        \n",
    "        # 输出估计的相位\n",
    "        print(f\"估计的相位值及其计数:\")\n",
    "        for est_phase, count in estimated_phases.items():\n",
    "            print(f\"  {est_phase:.3f}: {count} (误差: {abs(est_phase - phase):.3f})\")\n",
    "    \n",
    "    print(\"\\n解释:\")\n",
    "    print(\"- 相位估计算法用于估计幺正算子U的特征值e^{2πiθ}中的相位θ\")\n",
    "    print(\"- 估计的精度取决于用于估计的量子比特数\")\n",
    "    print(\"- 对于n个量子比特，我们可以估计θ的精度约为1/2^n\")\n",
    "    print(\"- 当真实的相位可以精确表示为k/2^n时，算法可以给出确切的结果\")\n",
    "    print(\"- 否则，算法会返回最接近的可表示的相位\")\n",
    "    \n",
    "    # 可视化特定相位的结果\n",
    "    fig = plot_histogram(phase_results[0.25])\n",
    "    plt.title(\"相位θ=0.25的估计结果\")\n",
    "    plt.savefig('exercise7_histogram.png')\n",
    "    plt.close(fig)\n",
    "    print(\"直方图已保存为'exercise7_histogram.png'\")\n",
    "    \n",
    "    return phase_est_circuit, phase_results"
   ]
  },
  {
   "cell_type": "markdown",
   "id": "e1c59bf0",
   "metadata": {},
   "source": [
    "取消注释下面的行以查看参考解答\n",
    "circuit7, phase_results7 = exercise7_solution()\n"
   ]
  },
  {
   "cell_type": "markdown",
   "id": "9019069e",
   "metadata": {},
   "source": [
    "--------------------------------\n",
    "总结\n",
    "--------------------------------\n"
   ]
  },
  {
   "cell_type": "code",
   "execution_count": null,
   "id": "cafd253f",
   "metadata": {},
   "outputs": [],
   "source": [
    "print(\"\\n==== 练习总结 ====\")\n",
    "print(\"完成这些练习后，您应该已经掌握了更高级的量子电路操作，包括:\")\n",
    "print(\"1. 电路组合和复合技术\")\n",
    "print(\"2. 使用量子寄存器组织电路\")\n",
    "print(\"3. 应用栅栏来划分电路\")\n",
    "print(\"4. 创建和使用参数化电路\")\n",
    "print(\"5. 使用Qiskit电路库组件\")\n",
    "print(\"6. 创建和应用多控制门\")\n",
    "print(\"7. 实现量子相位估计\")\n",
    "\n",
    "print(\"\\n要查看参考解答，请取消注释相应的函数调用\")\n",
    "print(\"这些技能是构建复杂量子算法的基础，如Shor算法、Grover算法等\")\n",
    "print(\"继续实践并尝试将这些技术应用到实际问题中！\")"
   ]
  },
  {
   "cell_type": "markdown",
   "id": "3ad086aa",
   "metadata": {},
   "source": [
    "## 💡 挑战任务\n",
    "\n",
    "尝试扩展上面的练习，探索以下内容：\n",
    "1. 更改电路参数并观察结果的变化\n",
    "2. 尝试实现不同的量子态或算法\n",
    "3. 可视化更多量子测量的结果"
   ]
  }
 ],
 "metadata": {
  "kernelspec": {
   "display_name": "Python 3",
   "language": "python",
   "name": "python3"
  },
  "language_info": {
   "codemirror_mode": {
    "name": "ipython",
    "version": 3
   },
   "file_extension": ".py",
   "mimetype": "text/x-python",
   "name": "python",
   "nbconvert_exporter": "python",
   "pygments_lexer": "ipython3",
   "version": "3.9.13"
  }
 },
 "nbformat": 4,
 "nbformat_minor": 5
}

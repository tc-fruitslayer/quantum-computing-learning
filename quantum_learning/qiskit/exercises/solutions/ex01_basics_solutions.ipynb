{
 "cells": [
  {
   "cell_type": "code",
   "execution_count": null,
   "id": "94ae30ea",
   "metadata": {},
   "outputs": [],
   "source": [
    "#!/usr/bin/env python\n",
    "# -*- coding: utf-8 -*-"
   ]
  },
  {
   "cell_type": "markdown",
   "id": "92ae95f2",
   "metadata": {},
   "source": [
    "\n",
    "IBM Qiskit框架学习 - 基础练习解答\n",
    "本文件包含对应练习的完整解答"
   ]
  },
  {
   "cell_type": "markdown",
   "id": "59a8a0ae",
   "metadata": {},
   "source": [
    "导入必要的库\n"
   ]
  },
  {
   "cell_type": "code",
   "execution_count": null,
   "id": "793e8978",
   "metadata": {},
   "outputs": [],
   "source": [
    "from qiskit import QuantumCircuit, Aer, execute, transpile\n",
    "from qiskit.visualization import plot_histogram, plot_bloch_multivector, plot_state_city\n",
    "import matplotlib.pyplot as plt\n",
    "import numpy as np\n"
   ]
  },
  {
   "cell_type": "markdown",
   "id": "2da8b176",
   "metadata": {},
   "source": [
    "--------------------------------\n",
    "练习1解答: 创建和运行第一个量子电路\n",
    "--------------------------------\n"
   ]
  },
  {
   "cell_type": "code",
   "execution_count": null,
   "id": "1b80337f",
   "metadata": {},
   "outputs": [],
   "source": [
    "def exercise1_solution():"
   ]
  },
  {
   "cell_type": "markdown",
   "id": "cd78e9fd",
   "metadata": {},
   "source": [
    "创建贝尔态电路的解答"
   ]
  },
  {
   "cell_type": "code",
   "execution_count": null,
   "id": "aba7978c",
   "metadata": {},
   "outputs": [],
   "source": [
    "# 创建2量子比特电路\n",
    "    circuit = QuantumCircuit(2, 2)\n",
    "    \n",
    "    # 对第一个量子比特应用Hadamard门\n",
    "    circuit.h(0)\n",
    "    \n",
    "    # 添加CNOT门，从量子比特0到量子比特1\n",
    "    circuit.cx(0, 1)\n",
    "    \n",
    "    # 测量量子比特\n",
    "    circuit.measure([0, 1], [0, 1])\n",
    "    \n",
    "    # 运行电路\n",
    "    simulator = Aer.get_backend('qasm_simulator')\n",
    "    job = execute(circuit, simulator, shots=1024)\n",
    "    result = job.result()\n",
    "    counts = result.get_counts(circuit)\n",
    "    \n",
    "    # 打印结果\n",
    "    print(\"\\n练习1解答 - 贝尔态电路:\")\n",
    "    print(circuit.draw())\n",
    "    print(\"\\n测量结果:\")\n",
    "    print(counts)\n",
    "    \n",
    "    # 可视化结果\n",
    "    plt.figure(figsize=(8, 6))\n",
    "    plot_histogram(counts)\n",
    "    plt.title(\"贝尔态测量结果\")\n",
    "    plt.savefig('bell_state_histogram.png')\n",
    "    plt.close()\n",
    "    \n",
    "    return circuit, counts"
   ]
  },
  {
   "cell_type": "markdown",
   "id": "cfc184aa",
   "metadata": {},
   "source": [
    "--------------------------------\n",
    "练习2解答: 制备不同的量子态\n",
    "--------------------------------\n"
   ]
  },
  {
   "cell_type": "code",
   "execution_count": null,
   "id": "9b326d6a",
   "metadata": {},
   "outputs": [],
   "source": [
    "def exercise2_solution():"
   ]
  },
  {
   "cell_type": "markdown",
   "id": "01141c2b",
   "metadata": {},
   "source": [
    "制备不同量子态的解答"
   ]
  },
  {
   "cell_type": "code",
   "execution_count": null,
   "id": "056283f4",
   "metadata": {},
   "outputs": [],
   "source": [
    "# 创建电路\n",
    "    qc1 = QuantumCircuit(1)  # |0⟩状态，不需要额外操作\n",
    "    \n",
    "    qc2 = QuantumCircuit(1)  # |1⟩状态\n",
    "    qc2.x(0)\n",
    "    \n",
    "    qc3 = QuantumCircuit(1)  # |+⟩状态\n",
    "    qc3.h(0)\n",
    "    \n",
    "    qc4 = QuantumCircuit(1)  # |−⟩状态\n",
    "    qc4.x(0)\n",
    "    qc4.h(0)\n",
    "    \n",
    "    qc5 = QuantumCircuit(1)  # |+i⟩状态\n",
    "    qc5.h(0)\n",
    "    qc5.s(0)\n",
    "    \n",
    "    qc6 = QuantumCircuit(1)  # |−i⟩状态\n",
    "    qc6.h(0)\n",
    "    qc6.sdg(0)\n",
    "    \n",
    "    # 获取所有状态向量\n",
    "    simulator = Aer.get_backend('statevector_simulator')\n",
    "    states = {}\n",
    "    \n",
    "    for i, qc in enumerate([qc1, qc2, qc3, qc4, qc5, qc6]):\n",
    "        job = execute(qc, simulator)\n",
    "        result = job.result()\n",
    "        statevector = result.get_statevector()\n",
    "        states[f\"state{i+1}\"] = statevector\n",
    "    \n",
    "    # 打印结果\n",
    "    print(\"\\n练习2解答 - 制备不同量子态:\")\n",
    "    state_names = [\"$|0\\\\rangle$\", \"$|1\\\\rangle$\", \"$|+\\\\rangle$\", \"$|-\\\\rangle$\", \"$|+i\\\\rangle$\", \"$|-i\\\\rangle$\"]\n",
    "    \n",
    "    for i, (state_key, statevector) in enumerate(states.items()):\n",
    "        print(f\"\\n{state_names[i]}态的电路:\")\n",
    "        if i == 0:\n",
    "            print(qc1.draw())\n",
    "        elif i == 1:\n",
    "            print(qc2.draw())\n",
    "        elif i == 2:\n",
    "            print(qc3.draw())\n",
    "        elif i == 3:\n",
    "            print(qc4.draw())\n",
    "        elif i == 4:\n",
    "            print(qc5.draw())\n",
    "        else:\n",
    "            print(qc6.draw())\n",
    "        print(f\"状态向量: {statevector}\")\n",
    "    \n",
    "    # 可视化Bloch球\n",
    "    fig, axes = plt.subplots(2, 3, figsize=(15, 10))\n",
    "    axes = axes.flatten()\n",
    "    \n",
    "    for i, (state_key, statevector) in enumerate(states.items()):\n",
    "        plot_bloch_multivector(statevector, ax=axes[i], title=state_names[i])\n",
    "    \n",
    "    plt.tight_layout()\n",
    "    plt.savefig('quantum_states_bloch.png')\n",
    "    plt.close(fig)\n",
    "    \n",
    "    return states"
   ]
  },
  {
   "cell_type": "markdown",
   "id": "f410fe0e",
   "metadata": {},
   "source": [
    "--------------------------------\n",
    "练习3解答: 测量不同基底\n",
    "--------------------------------\n"
   ]
  },
  {
   "cell_type": "code",
   "execution_count": null,
   "id": "a0bee746",
   "metadata": {},
   "outputs": [],
   "source": [
    "def exercise3_solution():"
   ]
  },
  {
   "cell_type": "markdown",
   "id": "67b9374d",
   "metadata": {},
   "source": [
    "在不同基底测量的解答"
   ]
  },
  {
   "cell_type": "code",
   "execution_count": null,
   "id": "42671b7e",
   "metadata": {},
   "outputs": [],
   "source": [
    "# 创建电路\n",
    "    qc1 = QuantumCircuit(1, 1)  # Z基测量\n",
    "    qc1.h(0)  # 准备|+⟩态\n",
    "    qc1.measure(0, 0)  # 在Z基测量\n",
    "    \n",
    "    qc2 = QuantumCircuit(1, 1)  # X基测量\n",
    "    qc2.h(0)  # 准备|+⟩态\n",
    "    qc2.h(0)  # 在测量前应用H，将X基转换为Z基\n",
    "    qc2.measure(0, 0)  # 在Z基测量(实际上是X基)\n",
    "    \n",
    "    qc3 = QuantumCircuit(1, 1)  # Y基测量\n",
    "    qc3.h(0)  # 准备|+⟩态\n",
    "    qc3.sdg(0)  # 在测量前应用S†和H\n",
    "    qc3.h(0)\n",
    "    qc3.measure(0, 0)  # 在Z基测量(实际上是Y基)\n",
    "    \n",
    "    # 运行电路\n",
    "    simulator = Aer.get_backend('qasm_simulator')\n",
    "    results = {}\n",
    "    \n",
    "    for i, qc in enumerate([qc1, qc2, qc3]):\n",
    "        job = execute(qc, simulator, shots=1024)\n",
    "        result = job.result()\n",
    "        counts = result.get_counts(qc)\n",
    "        results[f\"basis{i+1}\"] = counts\n",
    "    \n",
    "    # 打印结果\n",
    "    print(\"\\n练习3解答 - 在不同基底测量:\")\n",
    "    basis_names = [\"Z基(计算基)\", \"X基\", \"Y基\"]\n",
    "    \n",
    "    for i, (basis_key, counts) in enumerate(results.items()):\n",
    "        print(f\"\\n在{basis_names[i]}中测量|+⟩态:\")\n",
    "        if i == 0:\n",
    "            print(qc1.draw())\n",
    "        elif i == 1:\n",
    "            print(qc2.draw())\n",
    "        else:\n",
    "            print(qc3.draw())\n",
    "        print(f\"测量结果: {counts}\")\n",
    "    \n",
    "    # 可视化结果\n",
    "    fig, axes = plt.subplots(1, 3, figsize=(15, 5))\n",
    "    \n",
    "    for i, (basis_key, counts) in enumerate(results.items()):\n",
    "        plot_histogram(counts, ax=axes[i], title=f\"在{basis_names[i]}中测量|+⟩态\")\n",
    "    \n",
    "    plt.tight_layout()\n",
    "    plt.savefig('measurement_bases.png')\n",
    "    plt.close(fig)\n",
    "    \n",
    "    return results"
   ]
  },
  {
   "cell_type": "markdown",
   "id": "e8b783af",
   "metadata": {},
   "source": [
    "--------------------------------\n",
    "练习4解答: 制备GHZ态\n",
    "--------------------------------\n"
   ]
  },
  {
   "cell_type": "code",
   "execution_count": null,
   "id": "382b9298",
   "metadata": {},
   "outputs": [],
   "source": [
    "def exercise4_solution():"
   ]
  },
  {
   "cell_type": "markdown",
   "id": "c502e1e7",
   "metadata": {},
   "source": [
    "制备GHZ态的解答"
   ]
  },
  {
   "cell_type": "code",
   "execution_count": null,
   "id": "f1543286",
   "metadata": {},
   "outputs": [],
   "source": [
    "# 创建3量子比特GHZ电路\n",
    "    ghz_circuit = QuantumCircuit(3, 3)\n",
    "    \n",
    "    # 应用H门到第一个量子比特\n",
    "    ghz_circuit.h(0)\n",
    "    \n",
    "    # 应用CNOT门扩展叠加\n",
    "    ghz_circuit.cx(0, 1)\n",
    "    ghz_circuit.cx(0, 2)\n",
    "    \n",
    "    # 测量\n",
    "    ghz_circuit.measure([0, 1, 2], [0, 1, 2])\n",
    "    \n",
    "    # 运行电路\n",
    "    simulator = Aer.get_backend('qasm_simulator')\n",
    "    job = execute(ghz_circuit, simulator, shots=1024)\n",
    "    result = job.result()\n",
    "    counts = result.get_counts(ghz_circuit)\n",
    "    \n",
    "    # 打印结果\n",
    "    print(\"\\n练习4解答 - GHZ态:\")\n",
    "    print(ghz_circuit.draw())\n",
    "    print(\"\\n测量结果:\")\n",
    "    print(counts)\n",
    "    \n",
    "    # 获取状态向量\n",
    "    sv_simulator = Aer.get_backend('statevector_simulator')\n",
    "    ghz_sv_circuit = QuantumCircuit(3)\n",
    "    ghz_sv_circuit.h(0)\n",
    "    ghz_sv_circuit.cx(0, 1)\n",
    "    ghz_sv_circuit.cx(0, 2)\n",
    "    \n",
    "    job_sv = execute(ghz_sv_circuit, sv_simulator)\n",
    "    statevector = job_sv.result().get_statevector()\n",
    "    \n",
    "    print(\"\\nGHZ态状态向量:\")\n",
    "    print(statevector)\n",
    "    \n",
    "    # 可视化结果\n",
    "    plt.figure(figsize=(8, 6))\n",
    "    plot_histogram(counts)\n",
    "    plt.title(\"GHZ态测量结果\")\n",
    "    plt.savefig('ghz_histogram.png')\n",
    "    plt.close()\n",
    "    \n",
    "    # 使用城市图可视化状态向量\n",
    "    fig = plt.figure(figsize=(10, 8))\n",
    "    plot_state_city(statevector)\n",
    "    plt.title(\"GHZ态的状态向量表示\")\n",
    "    plt.savefig('ghz_statevector.png')\n",
    "    plt.close(fig)\n",
    "    \n",
    "    return ghz_circuit, counts, statevector"
   ]
  },
  {
   "cell_type": "markdown",
   "id": "9fc1bd6e",
   "metadata": {},
   "source": [
    "--------------------------------\n",
    "练习5解答: 纠缠与贝尔不等式\n",
    "--------------------------------\n"
   ]
  },
  {
   "cell_type": "code",
   "execution_count": null,
   "id": "ef636dc5",
   "metadata": {},
   "outputs": [],
   "source": [
    "def exercise5_solution():"
   ]
  },
  {
   "cell_type": "markdown",
   "id": "a8e167e5",
   "metadata": {},
   "source": [
    "纠缠与贝尔不等式的解答"
   ]
  },
  {
   "cell_type": "code",
   "execution_count": null,
   "id": "99c362f1",
   "metadata": {},
   "outputs": [],
   "source": [
    "# 创建纠缠态电路\n",
    "    bell_circuit = QuantumCircuit(2)\n",
    "    bell_circuit.h(0)\n",
    "    bell_circuit.cx(0, 1)\n",
    "    \n",
    "    # 在不同角度测量并计算关联\n",
    "    angle_pairs = [\n",
    "        (0, np.pi/4),       # A1,B1\n",
    "        (0, 3*np.pi/4),     # A1,B2\n",
    "        (np.pi/2, np.pi/4), # A2,B1\n",
    "        (np.pi/2, 3*np.pi/4) # A2,B2\n",
    "    ]\n",
    "    \n",
    "    results = {}\n",
    "    correlations = {}\n",
    "    \n",
    "    # 测量每一对角度\n",
    "    for i, (theta_a, theta_b) in enumerate(angle_pairs):\n",
    "        # 创建纠缠后的测量电路\n",
    "        meas_circuit = QuantumCircuit(2, 2)\n",
    "        meas_circuit.h(0)\n",
    "        meas_circuit.cx(0, 1)\n",
    "        \n",
    "        # 在特定角度测量\n",
    "        # 实际中需要旋转测量基底\n",
    "        meas_circuit.ry(-theta_a, 0)\n",
    "        meas_circuit.ry(-theta_b, 1)\n",
    "        \n",
    "        meas_circuit.measure([0, 1], [0, 1])\n",
    "        \n",
    "        # 运行模拟\n",
    "        simulator = Aer.get_backend('qasm_simulator')\n",
    "        job = execute(meas_circuit, simulator, shots=1024)\n",
    "        counts = job.result().get_counts()\n",
    "        results[f\"angle_pair_{i}\"] = counts\n",
    "        \n",
    "        # 计算关联值 E = P(00) + P(11) - P(01) - P(10)\n",
    "        correlation = 0\n",
    "        total_shots = 0\n",
    "        for outcome, count in counts.items():\n",
    "            total_shots += count\n",
    "            # 检查结果是否一致\n",
    "            if outcome == '00' or outcome == '11':\n",
    "                correlation += count\n",
    "            else:\n",
    "                correlation -= count\n",
    "        \n",
    "        # 归一化\n",
    "        correlation /= total_shots\n",
    "        correlations[f\"E({i})\"] = correlation\n",
    "    \n",
    "    # 计算CHSH不等式 S = E(A1,B1) - E(A1,B2) + E(A2,B1) + E(A2,B2)\n",
    "    chsh_value = correlations[\"E(0)\"] - correlations[\"E(1)\"] + correlations[\"E(2)\"] + correlations[\"E(3)\"]\n",
    "    \n",
    "    # 打印结果\n",
    "    print(\"\\n练习5解答 - 纠缠与贝尔不等式:\")\n",
    "    print(\"贝尔态电路:\")\n",
    "    print(bell_circuit.draw())\n",
    "    \n",
    "    print(\"\\n在不同角度对测量结果:\")\n",
    "    for i, (angle_pair, counts) in enumerate(results.items()):\n",
    "        theta_a, theta_b = angle_pairs[i]\n",
    "        print(f\"\\n角度对 θA={theta_a:.4f}, θB={theta_b:.4f}:\")\n",
    "        print(f\"测量结果: {counts}\")\n",
    "        print(f\"关联值 E = {correlations[f'E({i})']:.4f}\")\n",
    "    \n",
    "    print(f\"\\nCHSH不等式值 S = {chsh_value:.4f}\")\n",
    "    print(f\"经典极限为2，量子力学极限为2√2≈2.82\")\n",
    "    if abs(chsh_value) > 2:\n",
    "        print(\"结果违反了贝尔不等式，证明量子纠缠的非局域性!\")\n",
    "    \n",
    "    # 可视化结果\n",
    "    labels = [f\"(θA={theta_a:.2f}, θB={theta_b:.2f})\" for theta_a, theta_b in angle_pairs]\n",
    "    correlation_values = [correlations[f\"E({i})\"] for i in range(len(angle_pairs))]\n",
    "    \n",
    "    plt.figure(figsize=(10, 6))\n",
    "    plt.bar(labels, correlation_values)\n",
    "    plt.axhline(y=1, color='r', linestyle='--', label='经典极限')\n",
    "    plt.axhline(y=-1, color='r', linestyle='--')\n",
    "    plt.ylabel('关联值 E')\n",
    "    plt.title('不同角度对的量子关联')\n",
    "    plt.ylim(-1.1, 1.1)\n",
    "    plt.savefig('bell_correlations.png')\n",
    "    plt.close()\n",
    "    \n",
    "    return results, correlations, chsh_value"
   ]
  },
  {
   "cell_type": "markdown",
   "id": "bb1d77ef",
   "metadata": {},
   "source": [
    "执行解答\n"
   ]
  },
  {
   "cell_type": "code",
   "execution_count": null,
   "id": "bd19dc8e",
   "metadata": {},
   "outputs": [],
   "source": [
    "if __name__ == \"__main__\":\n",
    "    print(\"===== Qiskit基础练习解答 =====\")\n",
    "    \n",
    "    # 取消注释以运行特定练习的解答\n",
    "    # circuit1, counts1 = exercise1_solution()\n",
    "    # states = exercise2_solution()\n",
    "    # measurement_results = exercise3_solution()\n",
    "    # ghz_circuit, ghz_counts, ghz_statevector = exercise4_solution()\n",
    "    # bell_results, bell_correlations, chsh_value = exercise5_solution()\n",
    "    \n",
    "    print(\"\\n所有练习解答已准备就绪!\")\n",
    "    print(\"取消注释相应的函数调用以运行特定练习的解答\")"
   ]
  },
  {
   "cell_type": "markdown",
   "id": "2c37b219",
   "metadata": {},
   "source": [
    "## 💡 挑战任务\n",
    "\n",
    "尝试扩展上面的练习，探索以下内容：\n",
    "1. 更改电路参数并观察结果的变化\n",
    "2. 尝试实现不同的量子态或算法\n",
    "3. 可视化更多量子测量的结果"
   ]
  }
 ],
 "metadata": {
  "kernelspec": {
   "display_name": "Python 3",
   "language": "python",
   "name": "python3"
  },
  "language_info": {
   "codemirror_mode": {
    "name": "ipython",
    "version": 3
   },
   "file_extension": ".py",
   "mimetype": "text/x-python",
   "name": "python",
   "nbconvert_exporter": "python",
   "pygments_lexer": "ipython3",
   "version": "3.9.13"
  }
 },
 "nbformat": 4,
 "nbformat_minor": 5
}

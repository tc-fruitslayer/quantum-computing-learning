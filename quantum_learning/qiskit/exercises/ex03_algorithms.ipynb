{
 "cells": [
  {
   "cell_type": "code",
   "execution_count": null,
   "id": "c41d2890",
   "metadata": {},
   "outputs": [],
   "source": [
    "#!/usr/bin/env python\n",
    "# -*- coding: utf-8 -*-"
   ]
  },
  {
   "cell_type": "markdown",
   "id": "14511736",
   "metadata": {},
   "source": [
    "\n",
    "IBM Qiskit框架学习 - 量子算法练习\n",
    "本文件包含一系列帮助理解和实现量子算法的练习题"
   ]
  },
  {
   "cell_type": "markdown",
   "id": "2c6fde0d",
   "metadata": {},
   "source": [
    "导入必要的库\n"
   ]
  },
  {
   "cell_type": "code",
   "execution_count": null,
   "id": "3a0ee244",
   "metadata": {},
   "outputs": [],
   "source": [
    "from qiskit import QuantumCircuit, QuantumRegister, ClassicalRegister, Aer, execute, transpile\n",
    "from qiskit.visualization import plot_histogram, plot_bloch_multivector\n",
    "from qiskit.quantum_info import Statevector\n",
    "from qiskit.algorithms import Grover, AmplificationProblem\n",
    "from qiskit.circuit.library import PhaseOracle, GroverOperator\n",
    "import matplotlib.pyplot as plt\n",
    "import numpy as np\n"
   ]
  },
  {
   "cell_type": "code",
   "execution_count": null,
   "id": "7bb7c4fe",
   "metadata": {},
   "outputs": [],
   "source": [
    "print(\"===== Qiskit量子算法练习 =====\")\n",
    "print(\"完成以下练习来测试您对量子算法实现的理解\")\n",
    "print(\"每个练习都有一个或多个任务，请尝试独立完成\")\n",
    "print(\"练习后有提示和参考解答\")"
   ]
  },
  {
   "cell_type": "markdown",
   "id": "cb934ca6",
   "metadata": {},
   "source": [
    "--------------------------------\n",
    "练习1: 实现Deutsch-Jozsa算法\n",
    "--------------------------------\n"
   ]
  },
  {
   "cell_type": "code",
   "execution_count": null,
   "id": "e9756da2",
   "metadata": {},
   "outputs": [],
   "source": [
    "print(\"\\n练习1: 实现Deutsch-Jozsa算法\")\n",
    "print(\"任务1: 为常数函数f(x)=0和f(x)=1创建oracle电路\")\n",
    "print(\"任务2: 为平衡函数创建oracle电路\")\n",
    "print(\"任务3: 构建完整的Deutsch-Jozsa电路并运行\")\n",
    "print(\"任务4: 从测量结果判断函数是常数还是平衡\")"
   ]
  },
  {
   "cell_type": "markdown",
   "id": "69b31276",
   "metadata": {},
   "source": [
    "提示\n"
   ]
  },
  {
   "cell_type": "code",
   "execution_count": null,
   "id": "983c8533",
   "metadata": {},
   "outputs": [],
   "source": [
    "print(\"\\n提示:\")\n",
    "print(\"- Deutsch-Jozsa算法用于判断黑盒函数是常数还是平衡的\")\n",
    "print(\"- 常数函数对所有输入返回相同值(0或1)\")\n",
    "print(\"- 平衡函数对一半输入返回0，对一半输入返回1\")\n",
    "print(\"- 传统算法需要测试一半以上的可能输入，而DJ算法只需一次查询\")\n",
    "print(\"- Oracle实现为Uf|x⟩|y⟩ = |x⟩|y⊕f(x)⟩\")"
   ]
  },
  {
   "cell_type": "markdown",
   "id": "79b367be",
   "metadata": {},
   "source": [
    "参考解答\n"
   ]
  },
  {
   "cell_type": "code",
   "execution_count": null,
   "id": "d5fcb933",
   "metadata": {},
   "outputs": [],
   "source": [
    "def exercise1_solution():\n",
    "    # 任务1-3: 实现Deutsch-Jozsa算法的电路\n",
    "    \n",
    "    # 我们将为3个量子比特的输入实现DJ算法\n",
    "    n = 3  # 问题量子比特数量\n",
    "    \n",
    "    # 创建各种oracle函数\n",
    "    # 常数函数f(x)=0: 不做任何操作\n",
    "    def constant_0_oracle():\n",
    "        oracle = QuantumCircuit(n+1)\n",
    "        # 什么都不做，因为f(x)=0意味着y⊕f(x)=y\n",
    "        return oracle\n",
    "    \n",
    "    # 常数函数f(x)=1: 对辅助量子比特应用X门\n",
    "    def constant_1_oracle():\n",
    "        oracle = QuantumCircuit(n+1)\n",
    "        oracle.x(n)  # 翻转辅助量子比特\n",
    "        return oracle\n",
    "    \n",
    "    # 平衡函数oracle示例1: 对一半输入返回0，一半返回1\n",
    "    def balanced_oracle_1():\n",
    "        oracle = QuantumCircuit(n+1)\n",
    "        # 将第一个输入量子比特的值复制到辅助量子比特\n",
    "        # 这意味着f(x)=x[0]\n",
    "        oracle.cx(0, n)\n",
    "        return oracle\n",
    "    \n",
    "    # 平衡函数oracle示例2: 另一种平衡函数\n",
    "    def balanced_oracle_2():\n",
    "        oracle = QuantumCircuit(n+1)\n",
    "        # 这里我们实现f(x) = x[0] ⊕ x[1]\n",
    "        oracle.cx(0, n)\n",
    "        oracle.cx(1, n)\n",
    "        return oracle\n",
    "    \n",
    "    # 完整Deutsch-Jozsa电路构建函数\n",
    "    def deutsch_jozsa_circuit(oracle_function):\n",
    "        # 创建量子电路\n",
    "        dj_circuit = QuantumCircuit(n+1, n)\n",
    "        \n",
    "        # 初始化辅助量子比特为|1⟩\n",
    "        dj_circuit.x(n)\n",
    "        \n",
    "        # 对所有量子比特应用H门，创建叠加态\n",
    "        for qubit in range(n+1):\n",
    "            dj_circuit.h(qubit)\n",
    "        \n",
    "        # 应用oracle\n",
    "        oracle = oracle_function()\n",
    "        dj_circuit = dj_circuit.compose(oracle)\n",
    "        \n",
    "        # 再次对输入量子比特应用H门\n",
    "        for qubit in range(n):\n",
    "            dj_circuit.h(qubit)\n",
    "        \n",
    "        # 测量输入寄存器\n",
    "        dj_circuit.measure(range(n), range(n))\n",
    "        \n",
    "        return dj_circuit\n",
    "    \n",
    "    # 为每个oracle构建和运行电路\n",
    "    simulator = Aer.get_backend('qasm_simulator')\n",
    "    oracles = {\n",
    "        \"常数函数f(x)=0\": constant_0_oracle,\n",
    "        \"常数函数f(x)=1\": constant_1_oracle,\n",
    "        \"平衡函数1\": balanced_oracle_1,\n",
    "        \"平衡函数2\": balanced_oracle_2\n",
    "    }\n",
    "    \n",
    "    results = {}\n",
    "    circuits = {}\n",
    "    \n",
    "    for name, oracle_function in oracles.items():\n",
    "        # 构建电路\n",
    "        circuit = deutsch_jozsa_circuit(oracle_function)\n",
    "        circuits[name] = circuit\n",
    "        \n",
    "        # 运行电路\n",
    "        job = execute(circuit, simulator, shots=1024)\n",
    "        counts = job.result().get_counts()\n",
    "        results[name] = counts\n",
    "    \n",
    "    # 任务4: 分析结果\n",
    "    print(\"\\n参考解答 - 练习1:\")\n",
    "    \n",
    "    for name, counts in results.items():\n",
    "        print(f\"\\n{name}的结果:\")\n",
    "        print(f\"电路:\")\n",
    "        print(circuits[name].draw(output='text', fold=80))\n",
    "        print(f\"测量结果: {counts}\")\n",
    "        \n",
    "        # 判断函数类型\n",
    "        all_zeros = '0' * n\n",
    "        if all_zeros in counts and counts[all_zeros] > 0.9 * sum(counts.values()):\n",
    "            conclusion = \"常数函数\"\n",
    "        else:\n",
    "            conclusion = \"平衡函数\"\n",
    "        \n",
    "        print(f\"结论: 该函数是{conclusion}\")\n",
    "    \n",
    "    print(\"\\n解释:\")\n",
    "    print(\"- 如果所有量子比特的测量结果都是|0⟩，则函数是常数函数\")\n",
    "    print(\"- 如果至少有一个量子比特的测量结果不是|0⟩，则函数是平衡函数\")\n",
    "    print(\"- 经典算法需要2^(n-1)+1次查询来确定，而D-J算法只需1次查询\")\n",
    "    print(\"- 这展示了量子算法的指数级加速\")\n",
    "    \n",
    "    return circuits, results"
   ]
  },
  {
   "cell_type": "markdown",
   "id": "8a2e0d82",
   "metadata": {},
   "source": [
    "取消注释下面的行以查看参考解答\n",
    "dj_circuits, dj_results = exercise1_solution()\n"
   ]
  },
  {
   "cell_type": "markdown",
   "id": "7feebe01",
   "metadata": {},
   "source": [
    "--------------------------------\n",
    "练习2: 实现Bernstein-Vazirani算法\n",
    "--------------------------------\n"
   ]
  },
  {
   "cell_type": "code",
   "execution_count": null,
   "id": "b63a0331",
   "metadata": {},
   "outputs": [],
   "source": [
    "print(\"\\n练习2: 实现Bernstein-Vazirani算法\")\n",
    "print(\"任务1: 为隐藏字符串s创建oracle电路\")\n",
    "print(\"任务2: 构建完整的Bernstein-Vazirani电路\")\n",
    "print(\"任务3: 运行电路并从测量结果中恢复隐藏字符串\")"
   ]
  },
  {
   "cell_type": "markdown",
   "id": "11ad025d",
   "metadata": {},
   "source": [
    "提示\n"
   ]
  },
  {
   "cell_type": "code",
   "execution_count": null,
   "id": "af9fdaa5",
   "metadata": {},
   "outputs": [],
   "source": [
    "print(\"\\n提示:\")\n",
    "print(\"- Bernstein-Vazirani算法用于查找隐藏的位串s\")\n",
    "print(\"- 给定一个函数f(x) = s·x mod 2，其中s·x是点积\")\n",
    "print(\"- 经典算法需要n次查询，量子算法只需1次\")\n",
    "print(\"- Oracle实现为Uf|x⟩|y⟩ = |x⟩|y⊕(s·x)⟩\")\n",
    "print(\"- 最终测量结果直接给出隐藏字符串s\")"
   ]
  },
  {
   "cell_type": "markdown",
   "id": "2a6ee7e8",
   "metadata": {},
   "source": [
    "参考解答\n"
   ]
  },
  {
   "cell_type": "code",
   "execution_count": null,
   "id": "697da057",
   "metadata": {},
   "outputs": [],
   "source": [
    "def exercise2_solution():\n",
    "    # 我们将为4量子比特的问题实现BV算法\n",
    "    n = 4  # 问题量子比特数量\n",
    "    \n",
    "    # 任务1: 创建oracle函数\n",
    "    def bv_oracle(hidden_string):\n",
    "        oracle = QuantumCircuit(n+1)\n",
    "        \n",
    "        # 对于hidden_string中的每个1，添加CNOT门\n",
    "        for i in range(n):\n",
    "            if hidden_string[i] == '1':\n",
    "                oracle.cx(i, n)\n",
    "                \n",
    "        return oracle\n",
    "    \n",
    "    # 任务2: 构建Bernstein-Vazirani电路\n",
    "    def bernstein_vazirani_circuit(hidden_string):\n",
    "        # 创建量子电路\n",
    "        bv_circuit = QuantumCircuit(n+1, n)\n",
    "        \n",
    "        # 初始化辅助量子比特为|1⟩\n",
    "        bv_circuit.x(n)\n",
    "        \n",
    "        # 对所有量子比特应用H门\n",
    "        for qubit in range(n+1):\n",
    "            bv_circuit.h(qubit)\n",
    "        \n",
    "        # 应用oracle\n",
    "        oracle = bv_oracle(hidden_string)\n",
    "        bv_circuit = bv_circuit.compose(oracle)\n",
    "        \n",
    "        # 再次对输入量子比特应用H门\n",
    "        for qubit in range(n):\n",
    "            bv_circuit.h(qubit)\n",
    "        \n",
    "        # 测量\n",
    "        bv_circuit.measure(range(n), range(n))\n",
    "        \n",
    "        return bv_circuit\n",
    "    \n",
    "    # 测试几个不同的隐藏字符串\n",
    "    hidden_strings = [\"0101\", \"1100\", \"1111\", \"1010\"]\n",
    "    simulator = Aer.get_backend('qasm_simulator')\n",
    "    \n",
    "    results = {}\n",
    "    circuits = {}\n",
    "    \n",
    "    for hidden in hidden_strings:\n",
    "        # 构建电路\n",
    "        circuit = bernstein_vazirani_circuit(hidden)\n",
    "        circuits[hidden] = circuit\n",
    "        \n",
    "        # 运行电路\n",
    "        job = execute(circuit, simulator, shots=1024)\n",
    "        counts = job.result().get_counts()\n",
    "        results[hidden] = counts\n",
    "    \n",
    "    # 任务3: 分析结果\n",
    "    print(\"\\n参考解答 - 练习2:\")\n",
    "    \n",
    "    for hidden_string, counts in results.items():\n",
    "        print(f\"\\n隐藏字符串s={hidden_string}的结果:\")\n",
    "        \n",
    "        # 找出出现次数最多的测量结果\n",
    "        most_common = max(counts.items(), key=lambda x: x[1])\n",
    "        recovered_string = most_common[0][::-1]  # 反转比特顺序\n",
    "        \n",
    "        print(f\"测量结果: {counts}\")\n",
    "        print(f\"恢复的字符串: {recovered_string}\")\n",
    "        print(f\"与原始隐藏字符串匹配: {recovered_string == hidden_string}\")\n",
    "    \n",
    "    # 可视化其中一个电路和结果\n",
    "    example = \"1010\"\n",
    "    circuit = circuits[example]\n",
    "    result = results[example]\n",
    "    \n",
    "    print(f\"\\n隐藏字符串s={example}的电路:\")\n",
    "    print(circuit.draw(output='text', fold=80))\n",
    "    \n",
    "    print(\"\\n解释:\")\n",
    "    print(\"- Bernstein-Vazirani算法通过一次查询找到隐藏字符串s\")\n",
    "    print(\"- 这是通过将f(x)=s·x映射到量子电路，并使用量子并行性实现的\")\n",
    "    print(\"- 在理想情况下，测量结果直接给出隐藏字符串\")\n",
    "    print(\"- 经典算法需要n次查询，而BV算法只需1次\")\n",
    "    \n",
    "    # 可视化结果\n",
    "    fig = plot_histogram(result)\n",
    "    plt.title(f\"隐藏字符串s={example}的测量结果\")\n",
    "    plt.savefig('exercise2_histogram.png')\n",
    "    plt.close(fig)\n",
    "    print(\"直方图已保存为'exercise2_histogram.png'\")\n",
    "    \n",
    "    return circuits, results"
   ]
  },
  {
   "cell_type": "markdown",
   "id": "6aad7284",
   "metadata": {},
   "source": [
    "取消注释下面的行以查看参考解答\n",
    "bv_circuits, bv_results = exercise2_solution()\n"
   ]
  },
  {
   "cell_type": "markdown",
   "id": "8667d1b7",
   "metadata": {},
   "source": [
    "--------------------------------\n",
    "练习3: 实现Grover搜索算法\n",
    "--------------------------------\n"
   ]
  },
  {
   "cell_type": "code",
   "execution_count": null,
   "id": "37efd1bd",
   "metadata": {},
   "outputs": [],
   "source": [
    "print(\"\\n练习3: 实现Grover搜索算法\")\n",
    "print(\"任务1: 为搜索问题创建oracle电路\")\n",
    "print(\"任务2: 构建Grover扩散算子\")\n",
    "print(\"任务3: 实现完整的Grover搜索算法\")\n",
    "print(\"任务4: 分析不同问题规模下Grover算法的性能\")"
   ]
  },
  {
   "cell_type": "markdown",
   "id": "f9d58166",
   "metadata": {},
   "source": [
    "提示\n"
   ]
  },
  {
   "cell_type": "code",
   "execution_count": null,
   "id": "e5fa8b01",
   "metadata": {},
   "outputs": [],
   "source": [
    "print(\"\\n提示:\")\n",
    "print(\"- Grover算法用于在未排序数据中搜索\")\n",
    "print(\"- 经典算法需要O(N)次查询，而Grover算法只需O(√N)次\")\n",
    "print(\"- Oracle标记目标状态，扩散算子放大这些标记状态的振幅\")\n",
    "print(\"- 迭代次数与问题规模有关，大约为π√N/4\")\n",
    "print(\"- 使用qiskit.algorithms.AmplificationProblem和Grover可以简化实现\")"
   ]
  },
  {
   "cell_type": "markdown",
   "id": "0cb8ce07",
   "metadata": {},
   "source": [
    "参考解答\n"
   ]
  },
  {
   "cell_type": "code",
   "execution_count": null,
   "id": "afdedc66",
   "metadata": {},
   "outputs": [],
   "source": [
    "def exercise3_solution():\n",
    "    # 任务1-3: 实现Grover搜索算法\n",
    "    \n",
    "    # 首先，我们手动实现一个简单的Grover搜索\n",
    "    def manual_grover(target_string, n_qubits):"
   ]
  },
  {
   "cell_type": "markdown",
   "id": "1aa31961",
   "metadata": {},
   "source": [
    "手动实现Grover算法"
   ]
  },
  {
   "cell_type": "code",
   "execution_count": null,
   "id": "9c0aa567",
   "metadata": {},
   "outputs": [],
   "source": [
    "# 创建量子电路\n",
    "        grover_circuit = QuantumCircuit(n_qubits)\n",
    "        \n",
    "        # 初始化为均匀叠加态\n",
    "        grover_circuit.h(range(n_qubits))\n",
    "        \n",
    "        # 确定迭代次数\n",
    "        iterations = int(np.pi/4 * np.sqrt(2**n_qubits))\n",
    "        \n",
    "        # 添加阻断，以便绘图时区分不同部分\n",
    "        grover_circuit.barrier()\n",
    "        \n",
    "        # 实现Grover迭代\n",
    "        for i in range(iterations):\n",
    "            # Oracle: 标记目标状态\n",
    "            # 如果状态等于目标状态，将相位反转\n",
    "            target_int = int(target_string, 2)\n",
    "            grover_circuit.z(n_qubits - 1).c_if(range(n_qubits), target_int)\n",
    "            \n",
    "            # 添加阻断\n",
    "            grover_circuit.barrier()\n",
    "            \n",
    "            # 扩散: H -> Z0 -> H\n",
    "            # 对所有量子比特应用H门\n",
    "            grover_circuit.h(range(n_qubits))\n",
    "            \n",
    "            # 对|0⟩态应用相位反转\n",
    "            grover_circuit.z(range(n_qubits))\n",
    "            \n",
    "            # 实现受控-Z门，除了|0⟩以外的所有状态都取反\n",
    "            grover_circuit.x(range(n_qubits))\n",
    "            grover_circuit.h(n_qubits - 1)\n",
    "            grover_circuit.mct(list(range(n_qubits - 1)), n_qubits - 1)\n",
    "            grover_circuit.h(n_qubits - 1)\n",
    "            grover_circuit.x(range(n_qubits))\n",
    "            \n",
    "            # 再次对所有量子比特应用H门\n",
    "            grover_circuit.h(range(n_qubits))\n",
    "            \n",
    "            # 添加阻断\n",
    "            grover_circuit.barrier()\n",
    "        \n",
    "        # 测量\n",
    "        grover_circuit.measure_all()\n",
    "        \n",
    "        return grover_circuit\n",
    "    \n",
    "    # 接下来，我们使用Qiskit提供的Grover算法实现\n",
    "    def qiskit_grover(target_string, n_qubits):"
   ]
  },
  {
   "cell_type": "markdown",
   "id": "f4e9bd88",
   "metadata": {},
   "source": [
    "使用Qiskit的Grover实现"
   ]
  },
  {
   "cell_type": "code",
   "execution_count": null,
   "id": "c1e47566",
   "metadata": {},
   "outputs": [],
   "source": [
    "# 创建oracle\n",
    "        oracle = PhaseOracle(f\"0b{target_string} & (1)\")\n",
    "        \n",
    "        # 创建量子求解问题\n",
    "        problem = AmplificationProblem(oracle, is_good_state=oracle.evaluate_bitstring)\n",
    "        \n",
    "        # 使用Qiskit的Grover算法\n",
    "        grover = Grover(iterations=None)  # 自动确定迭代次数\n",
    "        \n",
    "        # 获取Grover电路\n",
    "        circuit = grover.construct_circuit(problem)\n",
    "        \n",
    "        return circuit\n",
    "    \n",
    "    # 任务4: 分析不同问题规模下的性能\n",
    "    problem_sizes = [2, 3]\n",
    "    results = {}\n",
    "    \n",
    "    simulator = Aer.get_backend('qasm_simulator')\n",
    "    \n",
    "    for n in problem_sizes:\n",
    "        # 为每个问题规模选择一个随机目标字符串\n",
    "        target = bin(np.random.randint(2**n))[2:].zfill(n)\n",
    "        \n",
    "        # 两种实现方式\n",
    "        # circuit_manual = manual_grover(target, n)\n",
    "        circuit_qiskit = qiskit_grover(target, n)\n",
    "        \n",
    "        # 运行Qiskit实现\n",
    "        job_qiskit = execute(circuit_qiskit, simulator, shots=1024)\n",
    "        counts_qiskit = job_qiskit.result().get_counts()\n",
    "        \n",
    "        results[f\"{n}_qubits_target_{target}\"] = {\n",
    "            \"target\": target,\n",
    "            \"qiskit_counts\": counts_qiskit\n",
    "        }\n",
    "    \n",
    "    print(\"\\n参考解答 - 练习3:\")\n",
    "    \n",
    "    for key, data in results.items():\n",
    "        target = data[\"target\"]\n",
    "        counts = data[\"qiskit_counts\"]\n",
    "        \n",
    "        print(f\"\\n问题规模: {key}\")\n",
    "        print(f\"目标字符串: {target}\")\n",
    "        print(f\"测量结果: {counts}\")\n",
    "        \n",
    "        # 找出最可能的结果\n",
    "        most_common = max(counts.items(), key=lambda x: x[1])\n",
    "        found_string = most_common[0]\n",
    "        \n",
    "        # 在Qiskit Grover结果中，状态可能包含辅助量子比特，需要提取\n",
    "        if '_' in found_string:\n",
    "            # 提取与目标长度相同的部分\n",
    "            relevant_bits = found_string[-len(target):]\n",
    "        else:\n",
    "            relevant_bits = found_string\n",
    "        \n",
    "        print(f\"找到的字符串: {relevant_bits}\")\n",
    "        print(f\"成功: {relevant_bits == target}\")\n",
    "    \n",
    "    print(\"\\n解释:\")\n",
    "    print(\"- Grover算法通过迭代放大目标状态的振幅来查找解\")\n",
    "    print(\"- 对于N=2^n个元素的数据库，经典搜索需要O(N)次查询\")\n",
    "    print(\"- Grover算法只需O(√N)次查询，对于大型问题是显著的加速\")\n",
    "    print(\"- 最佳迭代次数约为π√N/4，太多或太少都会降低成功概率\")\n",
    "    print(\"- Qiskit提供了高级工具来简化Grover算法的实现\")\n",
    "    \n",
    "    return results"
   ]
  },
  {
   "cell_type": "markdown",
   "id": "448c59cb",
   "metadata": {},
   "source": [
    "取消注释下面的行以查看参考解答\n",
    "grover_results = exercise3_solution()\n"
   ]
  },
  {
   "cell_type": "markdown",
   "id": "8d4e60cb",
   "metadata": {},
   "source": [
    "--------------------------------\n",
    "练习4: 实现量子相位估计\n",
    "--------------------------------\n"
   ]
  },
  {
   "cell_type": "code",
   "execution_count": null,
   "id": "26f21261",
   "metadata": {},
   "outputs": [],
   "source": [
    "print(\"\\n练习4: 实现量子相位估计\")\n",
    "print(\"任务1: 创建一个相位估计电路，估计幺正算子的特征值\")\n",
    "print(\"任务2: 执行相位估计并分析结果准确性\")\n",
    "print(\"任务3: 尝试不同精度(量子比特数)并比较结果\")"
   ]
  },
  {
   "cell_type": "markdown",
   "id": "4faa3ab1",
   "metadata": {},
   "source": [
    "提示\n"
   ]
  },
  {
   "cell_type": "code",
   "execution_count": null,
   "id": "8ffb19d1",
   "metadata": {},
   "outputs": [],
   "source": [
    "print(\"\\n提示:\")\n",
    "print(\"- 量子相位估计是许多量子算法的关键子程序\")\n",
    "print(\"- 算法用于估计幺正算子U的特征值e^{2πiθ}中的θ\")\n",
    "print(\"- 算法需要两个寄存器:计数寄存器和特征值寄存器\")\n",
    "print(\"- 主要步骤:初始化、应用受控U^(2^j)操作、逆QFT、测量\")\n",
    "print(\"- 精度取决于计数寄存器的量子比特数\")"
   ]
  },
  {
   "cell_type": "markdown",
   "id": "6eb8d04d",
   "metadata": {},
   "source": [
    "参考解答\n"
   ]
  },
  {
   "cell_type": "code",
   "execution_count": null,
   "id": "3c7c3113",
   "metadata": {},
   "outputs": [],
   "source": [
    "def exercise4_solution():\n",
    "    # 任务1-2: 实现量子相位估计\n",
    "    \n",
    "    # 创建一个用于相位估计的函数\n",
    "    def phase_estimation(unitary, precision, state_preparation=None):"
   ]
  },
  {
   "cell_type": "markdown",
   "id": "b0a8ccdb",
   "metadata": {},
   "source": [
    "\n",
    "        实现量子相位估计算法\n",
    "        \n",
    "        参数:\n",
    "        unitary - 要估计特征值的幺正矩阵(以电路形式)\n",
    "        precision - 计数寄存器的量子比特数(精度)\n",
    "        state_preparation - 可选的状态准备电路\n",
    "        \n",
    "        返回:\n",
    "        量子相位估计电路"
   ]
  },
  {
   "cell_type": "code",
   "execution_count": null,
   "id": "98206af0",
   "metadata": {},
   "outputs": [],
   "source": [
    "# 确定量子比特数\n",
    "        n_counting = precision\n",
    "        n_target = unitary.num_qubits\n",
    "        \n",
    "        # 创建电路\n",
    "        qpe_circuit = QuantumCircuit(n_counting + n_target, n_counting)\n",
    "        \n",
    "        # 如果提供了状态准备电路，应用它\n",
    "        if state_preparation:\n",
    "            qpe_circuit.compose(state_preparation, qubits=range(n_counting, n_counting + n_target), inplace=True)\n",
    "            \n",
    "        # 对计数寄存器应用H门\n",
    "        for qubit in range(n_counting):\n",
    "            qpe_circuit.h(qubit)\n",
    "            \n",
    "        # 对于每个计数量子比特，应用受控-U^(2^j)\n",
    "        for j in range(n_counting):\n",
    "            # 计算要应用的U的幂次\n",
    "            power = 2**(n_counting - j - 1)\n",
    "            \n",
    "            # 创建受控版本的U^power\n",
    "            controlled_u_power = unitary.copy()\n",
    "            \n",
    "            # 循环应用power次unitary\n",
    "            for _ in range(power - 1):\n",
    "                controlled_u_power = controlled_u_power.compose(unitary)\n",
    "            \n",
    "            # 添加控制\n",
    "            qpe_circuit.compose(controlled_u_power.control(), \n",
    "                              qubits=[j] + list(range(n_counting, n_counting + n_target)), \n",
    "                              inplace=True)\n",
    "        \n",
    "        # 应用逆QFT到计数寄存器\n",
    "        from qiskit.circuit.library import QFT\n",
    "        qpe_circuit.compose(QFT(n_counting, do_swaps=False).inverse(), qubits=range(n_counting), inplace=True)\n",
    "        \n",
    "        # 测量计数寄存器\n",
    "        qpe_circuit.measure(range(n_counting), range(n_counting))\n",
    "        \n",
    "        return qpe_circuit\n",
    "    \n",
    "    # 创建一个简单的相位门作为要估计的幺正算子\n",
    "    # 我们将估计S门的相位，其特征值是e^{iπ/2}，对应相位θ=1/4\n",
    "    def s_gate():"
   ]
  },
  {
   "cell_type": "markdown",
   "id": "ea203a2c",
   "metadata": {},
   "source": [
    "创建S门电路"
   ]
  },
  {
   "cell_type": "code",
   "execution_count": null,
   "id": "59c98569",
   "metadata": {},
   "outputs": [],
   "source": [
    "s_circuit = QuantumCircuit(1)\n",
    "        s_circuit.s(0)\n",
    "        return s_circuit\n",
    "    \n",
    "    # 创建一个将目标寄存器准备为S门特征态的电路\n",
    "    def prepare_eigenstate():"
   ]
  },
  {
   "cell_type": "markdown",
   "id": "50640fe8",
   "metadata": {},
   "source": [
    "准备S门的特征态|1⟩"
   ]
  },
  {
   "cell_type": "code",
   "execution_count": null,
   "id": "efe32f00",
   "metadata": {},
   "outputs": [],
   "source": [
    "prep_circuit = QuantumCircuit(1)\n",
    "        prep_circuit.x(0)  # 将|0⟩转换为|1⟩\n",
    "        return prep_circuit\n",
    "    \n",
    "    # 任务3: 尝试不同精度\n",
    "    precision_levels = [3, 5, 7]\n",
    "    simulator = Aer.get_backend('qasm_simulator')\n",
    "    \n",
    "    results = {}\n",
    "    circuits = {}\n",
    "    \n",
    "    for precision in precision_levels:\n",
    "        # 创建QPE电路\n",
    "        qpe_circuit = phase_estimation(s_gate(), precision, prepare_eigenstate())\n",
    "        circuits[precision] = qpe_circuit\n",
    "        \n",
    "        # 运行电路\n",
    "        job = execute(qpe_circuit, simulator, shots=1024)\n",
    "        counts = job.result().get_counts()\n",
    "        results[precision] = counts\n",
    "    \n",
    "    print(\"\\n参考解答 - 练习4:\")\n",
    "    \n",
    "    # 真实相位值(S门对应θ=1/4)\n",
    "    true_phase = 0.25\n",
    "    \n",
    "    for precision, counts in results.items():\n",
    "        print(f\"\\n精度(量子比特数): {precision}\")\n",
    "        print(f\"测量结果: {counts}\")\n",
    "        \n",
    "        # 分析结果\n",
    "        estimated_phases = {}\n",
    "        for bitstring, count in counts.items():\n",
    "            # 将二进制转换为十进制\n",
    "            decimal = int(bitstring, 2)\n",
    "            # 计算对应的相位估计\n",
    "            phase = decimal / (2**precision)\n",
    "            estimated_phases[phase] = count\n",
    "        \n",
    "        # 显示估计的相位和误差\n",
    "        print(\"估计的相位值:\")\n",
    "        for phase, count in sorted(estimated_phases.items()):\n",
    "            error = abs(phase - true_phase)\n",
    "            probability = count / 1024\n",
    "            print(f\"  θ≈{phase:.6f}, 概率:{probability:.4f}, 误差:{error:.6f}\")\n",
    "        \n",
    "        # 理论最小误差\n",
    "        min_error = 1 / (2**precision)\n",
    "        print(f\"理论最小误差: {min_error:.6f}\")\n",
    "    \n",
    "    # 可视化结果\n",
    "    example_precision = 5\n",
    "    circuit = circuits[example_precision]\n",
    "    result = results[example_precision]\n",
    "    \n",
    "    print(f\"\\n精度为{example_precision}的QPE电路:\")\n",
    "    print(circuit.draw(output='text', fold=120))\n",
    "    \n",
    "    print(\"\\n解释:\")\n",
    "    print(\"- 量子相位估计能够估计幺正算子的特征值e^{2πiθ}中的相位θ\")\n",
    "    print(\"- 精度取决于计数寄存器的量子比特数\")\n",
    "    print(\"- 对于n个量子比特，我们可以将θ估计到2^-n的精度\")\n",
    "    print(\"- 特征态必须已知并且能够准备\")\n",
    "    print(\"- 该算法是Shor算法、量子化学模拟等其他量子算法的核心\")\n",
    "    \n",
    "    # 处理结果以显示相位而不是二进制字符串\n",
    "    phase_counts = {}\n",
    "    for bitstring, count in result.items():\n",
    "        decimal = int(bitstring, 2)\n",
    "        phase = decimal / (2**example_precision)\n",
    "        phase_str = f\"{phase:.4f}\"\n",
    "        phase_counts[phase_str] = count\n",
    "    \n",
    "    # 可视化相位估计结果\n",
    "    fig = plot_histogram(phase_counts)\n",
    "    plt.title(f\"S门相位估计结果 (真实值θ=0.25)\")\n",
    "    plt.xlabel(\"估计的相位值θ\")\n",
    "    plt.savefig('exercise4_histogram.png')\n",
    "    plt.close(fig)\n",
    "    print(\"相位估计结果直方图已保存为'exercise4_histogram.png'\")\n",
    "    \n",
    "    return circuits, results"
   ]
  },
  {
   "cell_type": "markdown",
   "id": "5f30c689",
   "metadata": {},
   "source": [
    "取消注释下面的行以查看参考解答\n",
    "qpe_circuits, qpe_results = exercise4_solution()\n"
   ]
  },
  {
   "cell_type": "markdown",
   "id": "c4109b3c",
   "metadata": {},
   "source": [
    "--------------------------------\n",
    "练习5: 实现量子傅里叶变换\n",
    "--------------------------------\n"
   ]
  },
  {
   "cell_type": "code",
   "execution_count": null,
   "id": "42301061",
   "metadata": {},
   "outputs": [],
   "source": [
    "print(\"\\n练习5: 实现量子傅里叶变换\")\n",
    "print(\"任务1: 手动构建量子傅里叶变换(QFT)电路\")\n",
    "print(\"任务2: 比较手动实现与Qiskit库中QFT的差异\")\n",
    "print(\"任务3: 对不同输入态应用QFT并分析结果\")"
   ]
  },
  {
   "cell_type": "markdown",
   "id": "38656c16",
   "metadata": {},
   "source": [
    "提示\n"
   ]
  },
  {
   "cell_type": "code",
   "execution_count": null,
   "id": "bae9ae0a",
   "metadata": {},
   "outputs": [],
   "source": [
    "print(\"\\n提示:\")\n",
    "print(\"- QFT是量子版本的离散傅里叶变换\")\n",
    "print(\"- QFT将计算基态|x⟩映射到傅里叶基态\")\n",
    "print(\"- 实现包括Hadamard门和受控旋转门\")\n",
    "print(\"- 可以使用circuit.qft()或qiskit.circuit.library.QFT\")\n",
    "print(\"- QFT在许多量子算法中是关键组件，如Shor算法和相位估计\")"
   ]
  },
  {
   "cell_type": "markdown",
   "id": "4bc8a9b3",
   "metadata": {},
   "source": [
    "参考解答\n"
   ]
  },
  {
   "cell_type": "code",
   "execution_count": null,
   "id": "bf7d77f4",
   "metadata": {},
   "outputs": [],
   "source": [
    "def exercise5_solution():\n",
    "    # 任务1: 手动构建QFT电路\n",
    "    def qft_rotations(circuit, n):"
   ]
  },
  {
   "cell_type": "markdown",
   "id": "a65a0050",
   "metadata": {},
   "source": [
    "对n个量子比特应用QFT旋转"
   ]
  },
  {
   "cell_type": "code",
   "execution_count": null,
   "id": "34230e1c",
   "metadata": {},
   "outputs": [],
   "source": [
    "if n == 0:\n",
    "            return circuit\n",
    "        n -= 1\n",
    "        circuit.h(n)\n",
    "        for qubit in range(n):\n",
    "            # 计算旋转角度\n",
    "            angle = 2 * np.pi / (2**(n-qubit+1))\n",
    "            # 应用受控旋转\n",
    "            circuit.cp(angle, qubit, n)\n",
    "        # 递归处理剩余量子比特\n",
    "        qft_rotations(circuit, n)\n",
    "        \n",
    "    def swap_registers(circuit, n):"
   ]
  },
  {
   "cell_type": "markdown",
   "id": "fde2d494",
   "metadata": {},
   "source": [
    "反转量子比特的顺序"
   ]
  },
  {
   "cell_type": "code",
   "execution_count": null,
   "id": "c43af64d",
   "metadata": {},
   "outputs": [],
   "source": [
    "for qubit in range(n//2):\n",
    "            circuit.swap(qubit, n-qubit-1)\n",
    "        return circuit\n",
    "    \n",
    "    def manual_qft(n_qubits):"
   ]
  },
  {
   "cell_type": "markdown",
   "id": "c9bd2fba",
   "metadata": {},
   "source": [
    "手动实现的QFT电路"
   ]
  },
  {
   "cell_type": "code",
   "execution_count": null,
   "id": "6ede189d",
   "metadata": {},
   "outputs": [],
   "source": [
    "qft_circuit = QuantumCircuit(n_qubits)\n",
    "        \n",
    "        # 应用QFT旋转\n",
    "        qft_rotations(qft_circuit, n_qubits)\n",
    "        \n",
    "        # 交换寄存器以匹配标准定义\n",
    "        swap_registers(qft_circuit, n_qubits)\n",
    "        \n",
    "        return qft_circuit\n",
    "    \n",
    "    # 任务2: 比较手动实现与Qiskit库实现\n",
    "    n_qubits = 4\n",
    "    \n",
    "    # 手动实现\n",
    "    manual_qft_circuit = manual_qft(n_qubits)\n",
    "    \n",
    "    # Qiskit库实现\n",
    "    from qiskit.circuit.library import QFT\n",
    "    library_qft_circuit = QFT(n_qubits)\n",
    "    \n",
    "    # 任务3: 对不同输入态应用QFT\n",
    "    input_states = {\n",
    "        '0000': QuantumCircuit(n_qubits),\n",
    "        '0001': QuantumCircuit(n_qubits),\n",
    "        '0101': QuantumCircuit(n_qubits),\n",
    "        '1111': QuantumCircuit(n_qubits)\n",
    "    }\n",
    "    \n",
    "    # 准备输入态\n",
    "    input_states['0000']  # |0000⟩不需要额外操作\n",
    "    input_states['0001'].x(n_qubits-1)  # |0001⟩\n",
    "    \n",
    "    # |0101⟩准备\n",
    "    input_states['0101'].x(1)\n",
    "    input_states['0101'].x(3)\n",
    "    \n",
    "    # |1111⟩准备\n",
    "    input_states['1111'].x(range(n_qubits))\n",
    "    \n",
    "    # 应用QFT并获取状态向量\n",
    "    simulator = Aer.get_backend('statevector_simulator')\n",
    "    \n",
    "    results = {}\n",
    "    \n",
    "    for state_label, init_circuit in input_states.items():\n",
    "        # 应用手动QFT\n",
    "        qft_circuit = init_circuit.copy()\n",
    "        qft_circuit = qft_circuit.compose(manual_qft_circuit)\n",
    "        \n",
    "        # 获取状态向量\n",
    "        job = execute(qft_circuit, simulator)\n",
    "        statevector = job.result().get_statevector()\n",
    "        \n",
    "        results[state_label] = statevector\n",
    "    \n",
    "    print(\"\\n参考解答 - 练习5:\")\n",
    "    \n",
    "    print(\"\\n手动实现的QFT电路:\")\n",
    "    print(manual_qft_circuit.draw())\n",
    "    \n",
    "    print(\"\\nQiskit库的QFT电路:\")\n",
    "    print(library_qft_circuit.draw())\n",
    "    \n",
    "    print(\"\\n比较:\")\n",
    "    if manual_qft_circuit.equiv(library_qft_circuit):\n",
    "        print(\"手动实现和库实现的QFT电路等价\")\n",
    "    else:\n",
    "        print(\"手动实现和库实现的QFT电路有差异\")\n",
    "        \n",
    "        # 分析差异\n",
    "        from qiskit import transpile\n",
    "        basis_gates = ['h', 'cx', 'u1', 'u2', 'u3']\n",
    "        \n",
    "        manual_transpiled = transpile(manual_qft_circuit, basis_gates=basis_gates)\n",
    "        library_transpiled = transpile(library_qft_circuit, basis_gates=basis_gates)\n",
    "        \n",
    "        print(f\"手动实现门数量: {len(manual_transpiled)}\")\n",
    "        print(f\"库实现门数量: {len(library_transpiled)}\")\n",
    "    \n",
    "    print(\"\\n不同输入态的QFT结果:\")\n",
    "    for state_label, statevector in results.items():\n",
    "        print(f\"\\n输入态|{state_label}⟩的QFT后状态:\")\n",
    "        # 提取振幅和相位\n",
    "        amplitudes = np.abs(statevector)\n",
    "        phases = np.angle(statevector) / np.pi\n",
    "        \n",
    "        # 显示最大振幅的几个状态\n",
    "        indices = np.argsort(-amplitudes)[:8]  # 取振幅最大的8个\n",
    "        for idx in indices:\n",
    "            if amplitudes[idx] > 0.01:  # 仅显示振幅较大的\n",
    "                bin_idx = bin(idx)[2:].zfill(n_qubits)\n",
    "                print(f\"  |{bin_idx}⟩: 振幅={amplitudes[idx]:.4f}, 相位={phases[idx]:.4f}π\")\n",
    "    \n",
    "    print(\"\\n解释:\")\n",
    "    print(\"- QFT将计算基态转换到傅里叶基态\")\n",
    "    print(\"- |0⟩态在QFT下变为均匀叠加态\")\n",
    "    print(\"- 其他输入产生特定的振幅和相位模式\")\n",
    "    print(\"- QFT是逆QFT的共轭转置\")\n",
    "    print(\"- 经典FFT算法复杂度为O(n log n)，QFT为O(n²)\")\n",
    "    print(\"- 但QFT作用于叠加态，使其在特定算法中提供指数级加速\")\n",
    "    \n",
    "    # 可视化|0101⟩的QFT结果\n",
    "    from qiskit.visualization import plot_state_city\n",
    "    \n",
    "    fig = plot_state_city(results['0101'])\n",
    "    plt.title(\"输入态|0101⟩的QFT结果\")\n",
    "    plt.savefig('exercise5_qft_state.png')\n",
    "    plt.close(fig)\n",
    "    print(\"状态可视化已保存为'exercise5_qft_state.png'\")\n",
    "    \n",
    "    return results"
   ]
  },
  {
   "cell_type": "markdown",
   "id": "e426406a",
   "metadata": {},
   "source": [
    "取消注释下面的行以查看参考解答\n",
    "qft_results = exercise5_solution()\n"
   ]
  },
  {
   "cell_type": "markdown",
   "id": "5c6b74ae",
   "metadata": {},
   "source": [
    "--------------------------------\n",
    "总结\n",
    "--------------------------------\n"
   ]
  },
  {
   "cell_type": "code",
   "execution_count": null,
   "id": "159ab394",
   "metadata": {},
   "outputs": [],
   "source": [
    "print(\"\\n==== 练习总结 ====\")\n",
    "print(\"完成这些练习后，您应该已经掌握了几种基本量子算法，包括:\")\n",
    "print(\"1. Deutsch-Jozsa算法 - 区分常数和平衡函数\")\n",
    "print(\"2. Bernstein-Vazirani算法 - 寻找隐藏字符串\")\n",
    "print(\"3. Grover搜索算法 - 在未排序数据中搜索\")\n",
    "print(\"4. 量子相位估计 - 估计幺正算子的特征值\")\n",
    "print(\"5. 量子傅里叶变换 - 量子信息的基本变换\")\n",
    "\n",
    "print(\"\\n这些算法展示了量子计算的几种基本优势:\")\n",
    "print(\"- 量子并行性 - 同时处理多种可能性\")\n",
    "print(\"- 干涉效应 - 增强正确答案的概率\")\n",
    "print(\"- 纠缠 - 在量子比特之间建立相关性\")\n",
    "\n",
    "print(\"\\n要查看参考解答，请取消注释相应的函数调用\")\n",
    "print(\"继续深入探索这些算法，并尝试将其应用到更复杂的问题中！\")"
   ]
  },
  {
   "cell_type": "markdown",
   "id": "ce1b4aa2",
   "metadata": {},
   "source": [
    "## 💡 挑战任务\n",
    "\n",
    "尝试扩展上面的练习，探索以下内容：\n",
    "1. 更改电路参数并观察结果的变化\n",
    "2. 尝试实现不同的量子态或算法\n",
    "3. 可视化更多量子测量的结果"
   ]
  }
 ],
 "metadata": {
  "kernelspec": {
   "display_name": "Python 3",
   "language": "python",
   "name": "python3"
  },
  "language_info": {
   "codemirror_mode": {
    "name": "ipython",
    "version": 3
   },
   "file_extension": ".py",
   "mimetype": "text/x-python",
   "name": "python",
   "nbconvert_exporter": "python",
   "pygments_lexer": "ipython3",
   "version": "3.9.13"
  }
 },
 "nbformat": 4,
 "nbformat_minor": 5
}

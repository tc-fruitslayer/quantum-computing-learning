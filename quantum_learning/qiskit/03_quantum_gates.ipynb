{
 "cells": [
  {
   "cell_type": "code",
   "execution_count": null,
   "id": "721bde90",
   "metadata": {},
   "outputs": [],
   "source": [
    "#!/usr/bin/env python\n",
    "# -*- coding: utf-8 -*-"
   ]
  },
  {
   "cell_type": "markdown",
   "id": "99f093bb",
   "metadata": {},
   "source": [
    "\n",
    "IBM Qiskit框架学习 3：Qiskit中的量子门\n",
    "本文件详细介绍Qiskit中各种量子门的特性、矩阵表示和应用"
   ]
  },
  {
   "cell_type": "markdown",
   "id": "81461e6e",
   "metadata": {},
   "source": [
    "导入必要的库\n"
   ]
  },
  {
   "cell_type": "code",
   "execution_count": null,
   "id": "813262bf",
   "metadata": {},
   "outputs": [],
   "source": [
    "from qiskit import QuantumCircuit, transpile, Aer\n",
    "from qiskit.quantum_info import Operator\n",
    "from qiskit.visualization import plot_bloch_multivector, array_to_latex\n",
    "from qiskit.extensions import UnitaryGate\n",
    "from qiskit.circuit.library import (\n"
   ]
  },
  {
   "cell_type": "code",
   "execution_count": null,
   "id": "6c0be1d1",
   "metadata": {},
   "outputs": [],
   "source": [
    "HGate, XGate, YGate, ZGate, SGate, TGate, CXGate, CZGate, \n",
    "    SwapGate, CCXGate, PhaseGate, RXGate, RYGate, RZGate\n",
    ")"
   ]
  },
  {
   "cell_type": "code",
   "execution_count": null,
   "id": "12d3525a",
   "metadata": {},
   "outputs": [],
   "source": [
    "import numpy as np\n",
    "import matplotlib.pyplot as plt\n"
   ]
  },
  {
   "cell_type": "code",
   "execution_count": null,
   "id": "d6e97ac8",
   "metadata": {},
   "outputs": [],
   "source": [
    "print(\"===== Qiskit中的量子门 =====\")"
   ]
  },
  {
   "cell_type": "markdown",
   "id": "70639b0a",
   "metadata": {},
   "source": [
    "1. 单量子比特门\n"
   ]
  },
  {
   "cell_type": "code",
   "execution_count": null,
   "id": "f8b0b8b8",
   "metadata": {},
   "outputs": [],
   "source": [
    "print(\"\\n1. 单量子比特门 (Single-qubit gates)\")"
   ]
  },
  {
   "cell_type": "markdown",
   "id": "4d97477d",
   "metadata": {},
   "source": [
    "创建一个量子电路并应用各种单比特门\n"
   ]
  },
  {
   "cell_type": "code",
   "execution_count": null,
   "id": "fe19ffb6",
   "metadata": {},
   "outputs": [],
   "source": [
    "qc_single = QuantumCircuit(1)"
   ]
  },
  {
   "cell_type": "markdown",
   "id": "f3b5c3c4",
   "metadata": {},
   "source": [
    "应用几个常见的单比特门并展示\n"
   ]
  },
  {
   "cell_type": "code",
   "execution_count": null,
   "id": "69ab1131",
   "metadata": {},
   "outputs": [],
   "source": [
    "print(\"应用各种单比特门到|0⟩上，观察不同效果\")"
   ]
  },
  {
   "cell_type": "markdown",
   "id": "9aa79c3d",
   "metadata": {},
   "source": [
    "初始状态 |0⟩\n"
   ]
  },
  {
   "cell_type": "code",
   "execution_count": null,
   "id": "0e340167",
   "metadata": {},
   "outputs": [],
   "source": [
    "print(\"\\n初始状态 |0⟩:\")\n",
    "init_circ = QuantumCircuit(1)\n",
    "backend = Aer.get_backend('statevector_simulator')\n",
    "init_result = backend.run(transpile(init_circ, backend)).result()\n",
    "init_state = init_result.get_statevector()\n",
    "print(f\"状态向量: {init_state}\")"
   ]
  },
  {
   "cell_type": "markdown",
   "id": "26789a8a",
   "metadata": {},
   "source": [
    "X门 (NOT门) |0⟩ → |1⟩\n"
   ]
  },
  {
   "cell_type": "code",
   "execution_count": null,
   "id": "ce0e98f5",
   "metadata": {},
   "outputs": [],
   "source": [
    "print(\"\\nX门 (NOT门) - 比特翻转:\")\n",
    "x_circ = QuantumCircuit(1)\n",
    "x_circ.x(0)\n",
    "x_result = backend.run(transpile(x_circ, backend)).result()\n",
    "x_state = x_result.get_statevector()\n",
    "print(f\"状态向量: {x_state}\")\n",
    "print(f\"矩阵表示:\\n{Operator(XGate()).data}\")"
   ]
  },
  {
   "cell_type": "markdown",
   "id": "8c21cb81",
   "metadata": {},
   "source": [
    "H门 (Hadamard) |0⟩ → (|0⟩+|1⟩)/√2\n"
   ]
  },
  {
   "cell_type": "code",
   "execution_count": null,
   "id": "fc46fb51",
   "metadata": {},
   "outputs": [],
   "source": [
    "print(\"\\nH门 (Hadamard) - 创建叠加态:\")\n",
    "h_circ = QuantumCircuit(1)\n",
    "h_circ.h(0)\n",
    "h_result = backend.run(transpile(h_circ, backend)).result()\n",
    "h_state = h_result.get_statevector()\n",
    "print(f\"状态向量: {h_state}\")\n",
    "print(f\"矩阵表示:\\n{Operator(HGate()).data}\")"
   ]
  },
  {
   "cell_type": "markdown",
   "id": "fd3f1f9a",
   "metadata": {},
   "source": [
    "Z门 - 相位翻转\n"
   ]
  },
  {
   "cell_type": "code",
   "execution_count": null,
   "id": "7d1f75c5",
   "metadata": {},
   "outputs": [],
   "source": [
    "print(\"\\nZ门 - 相位翻转:\")"
   ]
  },
  {
   "cell_type": "markdown",
   "id": "4a2f5c90",
   "metadata": {},
   "source": [
    "先创建叠加态再应用Z门\n"
   ]
  },
  {
   "cell_type": "code",
   "execution_count": null,
   "id": "260f3c2f",
   "metadata": {},
   "outputs": [],
   "source": [
    "z_circ = QuantumCircuit(1)\n",
    "z_circ.h(0)  # 先创建叠加态\n",
    "z_circ.z(0)  # 再应用Z门\n",
    "z_result = backend.run(transpile(z_circ, backend)).result()\n",
    "z_state = z_result.get_statevector()\n",
    "print(f\"状态向量: {z_state}\")\n",
    "print(f\"矩阵表示:\\n{Operator(ZGate()).data}\")"
   ]
  },
  {
   "cell_type": "markdown",
   "id": "5f09053e",
   "metadata": {},
   "source": [
    "Y门\n"
   ]
  },
  {
   "cell_type": "code",
   "execution_count": null,
   "id": "1861c24a",
   "metadata": {},
   "outputs": [],
   "source": [
    "print(\"\\nY门:\")\n",
    "y_circ = QuantumCircuit(1)\n",
    "y_circ.y(0)\n",
    "y_result = backend.run(transpile(y_circ, backend)).result()\n",
    "y_state = y_result.get_statevector()\n",
    "print(f\"状态向量: {y_state}\")\n",
    "print(f\"矩阵表示:\\n{Operator(YGate()).data}\")"
   ]
  },
  {
   "cell_type": "markdown",
   "id": "15134b46",
   "metadata": {},
   "source": [
    "S门 (√Z)\n"
   ]
  },
  {
   "cell_type": "code",
   "execution_count": null,
   "id": "20f89e3b",
   "metadata": {},
   "outputs": [],
   "source": [
    "print(\"\\nS门 (√Z):\")\n",
    "s_circ = QuantumCircuit(1)\n",
    "s_circ.h(0)  # 先创建叠加态\n",
    "s_circ.s(0)  # 再应用S门\n",
    "s_result = backend.run(transpile(s_circ, backend)).result()\n",
    "s_state = s_result.get_statevector()\n",
    "print(f\"状态向量: {s_state}\")\n",
    "print(f\"矩阵表示:\\n{Operator(SGate()).data}\")"
   ]
  },
  {
   "cell_type": "markdown",
   "id": "3c2525e3",
   "metadata": {},
   "source": [
    "T门 (√S)\n"
   ]
  },
  {
   "cell_type": "code",
   "execution_count": null,
   "id": "ae28c4fd",
   "metadata": {},
   "outputs": [],
   "source": [
    "print(\"\\nT门 (√S):\")\n",
    "t_circ = QuantumCircuit(1)\n",
    "t_circ.h(0)  # 先创建叠加态\n",
    "t_circ.t(0)  # 再应用T门\n",
    "t_result = backend.run(transpile(t_circ, backend)).result()\n",
    "t_state = t_result.get_statevector()\n",
    "print(f\"状态向量: {t_state}\")\n",
    "print(f\"矩阵表示:\\n{Operator(TGate()).data}\")"
   ]
  },
  {
   "cell_type": "markdown",
   "id": "34f4e4bd",
   "metadata": {},
   "source": [
    "2. 旋转门\n"
   ]
  },
  {
   "cell_type": "code",
   "execution_count": null,
   "id": "d9c19196",
   "metadata": {},
   "outputs": [],
   "source": [
    "print(\"\\n2. 旋转门 (Rotation gates)\")"
   ]
  },
  {
   "cell_type": "markdown",
   "id": "da1bcac3",
   "metadata": {},
   "source": [
    "RX门 (绕X轴旋转)\n"
   ]
  },
  {
   "cell_type": "code",
   "execution_count": null,
   "id": "a0f05ff8",
   "metadata": {},
   "outputs": [],
   "source": [
    "print(\"\\nRX门 (绕X轴旋转π/2):\")\n",
    "rx_circ = QuantumCircuit(1)\n",
    "rx_circ.rx(np.pi/2, 0)\n",
    "rx_result = backend.run(transpile(rx_circ, backend)).result()\n",
    "rx_state = rx_result.get_statevector()\n",
    "print(f\"状态向量: {rx_state}\")\n",
    "print(f\"矩阵表示:\\n{Operator(RXGate(np.pi/2)).data}\")"
   ]
  },
  {
   "cell_type": "markdown",
   "id": "f3b47bc7",
   "metadata": {},
   "source": [
    "RY门 (绕Y轴旋转)\n"
   ]
  },
  {
   "cell_type": "code",
   "execution_count": null,
   "id": "422a1b16",
   "metadata": {},
   "outputs": [],
   "source": [
    "print(\"\\nRY门 (绕Y轴旋转π/2):\")\n",
    "ry_circ = QuantumCircuit(1)\n",
    "ry_circ.ry(np.pi/2, 0)\n",
    "ry_result = backend.run(transpile(ry_circ, backend)).result()\n",
    "ry_state = ry_result.get_statevector()\n",
    "print(f\"状态向量: {ry_state}\")\n",
    "print(f\"矩阵表示:\\n{Operator(RYGate(np.pi/2)).data}\")"
   ]
  },
  {
   "cell_type": "markdown",
   "id": "68554cdd",
   "metadata": {},
   "source": [
    "RZ门 (绕Z轴旋转)\n"
   ]
  },
  {
   "cell_type": "code",
   "execution_count": null,
   "id": "6afc4488",
   "metadata": {},
   "outputs": [],
   "source": [
    "print(\"\\nRZ门 (绕Z轴旋转π/2):\")\n",
    "rz_circ = QuantumCircuit(1)\n",
    "rz_circ.h(0)  # 先创建叠加态\n",
    "rz_circ.rz(np.pi/2, 0)\n",
    "rz_result = backend.run(transpile(rz_circ, backend)).result()\n",
    "rz_state = rz_result.get_statevector()\n",
    "print(f\"状态向量: {rz_state}\")\n",
    "print(f\"矩阵表示:\\n{Operator(RZGate(np.pi/2)).data}\")"
   ]
  },
  {
   "cell_type": "markdown",
   "id": "a964955f",
   "metadata": {},
   "source": [
    "Phase门\n"
   ]
  },
  {
   "cell_type": "code",
   "execution_count": null,
   "id": "5301bef6",
   "metadata": {},
   "outputs": [],
   "source": [
    "print(\"\\nPhase门 (旋转相位π/4):\")\n",
    "p_circ = QuantumCircuit(1)\n",
    "p_circ.h(0)  # 先创建叠加态\n",
    "p_circ.p(np.pi/4, 0)\n",
    "p_result = backend.run(transpile(p_circ, backend)).result()\n",
    "p_state = p_result.get_statevector()\n",
    "print(f\"状态向量: {p_state}\")\n",
    "print(f\"矩阵表示:\\n{Operator(PhaseGate(np.pi/4)).data}\")"
   ]
  },
  {
   "cell_type": "markdown",
   "id": "51032b88",
   "metadata": {},
   "source": [
    "3. 多量子比特门\n"
   ]
  },
  {
   "cell_type": "code",
   "execution_count": null,
   "id": "1c966f0b",
   "metadata": {},
   "outputs": [],
   "source": [
    "print(\"\\n3. 多量子比特门 (Multi-qubit gates)\")"
   ]
  },
  {
   "cell_type": "markdown",
   "id": "3e91e177",
   "metadata": {},
   "source": [
    "CNOT门 (CX)\n"
   ]
  },
  {
   "cell_type": "code",
   "execution_count": null,
   "id": "c02b1399",
   "metadata": {},
   "outputs": [],
   "source": [
    "print(\"\\nCNOT门 (CX) - 受控X门:\")\n",
    "cx_circ = QuantumCircuit(2)\n",
    "cx_circ.h(0)  # 控制位创建叠加态\n",
    "cx_circ.cx(0, 1)  # 0控制1\n",
    "cx_result = backend.run(transpile(cx_circ, backend)).result()\n",
    "cx_state = cx_result.get_statevector()\n",
    "print(f\"状态向量: {cx_state}\")\n",
    "print(f\"矩阵表示:\\n{Operator(CXGate()).data}\")"
   ]
  },
  {
   "cell_type": "markdown",
   "id": "2a77db81",
   "metadata": {},
   "source": [
    "CZ门 - 受控Z门\n"
   ]
  },
  {
   "cell_type": "code",
   "execution_count": null,
   "id": "285b1b77",
   "metadata": {},
   "outputs": [],
   "source": [
    "print(\"\\nCZ门 - 受控Z门:\")\n",
    "cz_circ = QuantumCircuit(2)\n",
    "cz_circ.h(0)  # 控制位创建叠加态\n",
    "cz_circ.h(1)  # 目标位也创建叠加态\n",
    "cz_circ.cz(0, 1)\n",
    "cz_result = backend.run(transpile(cz_circ, backend)).result()\n",
    "cz_state = cz_result.get_statevector()\n",
    "print(f\"状态向量: {cz_state}\")\n",
    "print(f\"矩阵表示:\\n{Operator(CZGate()).data}\")"
   ]
  },
  {
   "cell_type": "markdown",
   "id": "0a22e9a5",
   "metadata": {},
   "source": [
    "SWAP门 - 交换两个量子比特的状态\n"
   ]
  },
  {
   "cell_type": "code",
   "execution_count": null,
   "id": "c2188246",
   "metadata": {},
   "outputs": [],
   "source": [
    "print(\"\\nSWAP门 - 交换两个量子比特的状态:\")\n",
    "swap_circ = QuantumCircuit(2)\n",
    "swap_circ.x(0)  # 将第一个比特置为|1⟩\n",
    "swap_circ.swap(0, 1)  # 交换0和1的状态\n",
    "swap_result = backend.run(transpile(swap_circ, backend)).result()\n",
    "swap_state = swap_result.get_statevector()\n",
    "print(f\"状态向量: {swap_state}\")\n",
    "print(f\"矩阵表示:\\n{Operator(SwapGate()).data}\")"
   ]
  },
  {
   "cell_type": "markdown",
   "id": "dee385df",
   "metadata": {},
   "source": [
    "Toffoli门 (CCX) - 两个控制位的X门\n"
   ]
  },
  {
   "cell_type": "code",
   "execution_count": null,
   "id": "d40ff1bf",
   "metadata": {},
   "outputs": [],
   "source": [
    "print(\"\\nToffoli门 (CCX) - 两个控制位的X门:\")\n",
    "ccx_circ = QuantumCircuit(3)\n",
    "ccx_circ.x(0)\n",
    "ccx_circ.x(1)\n",
    "ccx_circ.ccx(0, 1, 2)\n",
    "ccx_result = backend.run(transpile(ccx_circ, backend)).result()\n",
    "ccx_state = ccx_result.get_statevector()\n",
    "print(f\"状态向量: {ccx_state}\")"
   ]
  },
  {
   "cell_type": "markdown",
   "id": "edbbe949",
   "metadata": {},
   "source": [
    "4. 在Bloch球上可视化单量子比特门的效果\n"
   ]
  },
  {
   "cell_type": "code",
   "execution_count": null,
   "id": "35af3245",
   "metadata": {},
   "outputs": [],
   "source": [
    "print(\"\\n4. 在Bloch球上可视化单量子比特门的效果\")\n",
    "print(\"各种单比特门对|0⟩状态的效果（图像将保存到文件）\")"
   ]
  },
  {
   "cell_type": "markdown",
   "id": "e3073800",
   "metadata": {},
   "source": [
    "准备几个单比特电路\n"
   ]
  },
  {
   "cell_type": "code",
   "execution_count": null,
   "id": "7bf30114",
   "metadata": {},
   "outputs": [],
   "source": [
    "bloch_circuits = {\n",
    "    \"初始态|0⟩\": QuantumCircuit(1),\n",
    "    \"X门\": QuantumCircuit(1).compose(XGate(), [0]),\n",
    "    \"H门\": QuantumCircuit(1).compose(HGate(), [0]),\n",
    "    \"Y门\": QuantumCircuit(1).compose(YGate(), [0]),\n",
    "    \"RX(π/4)\": QuantumCircuit(1).compose(RXGate(np.pi/4), [0]),\n",
    "    \"RY(π/4)\": QuantumCircuit(1).compose(RYGate(np.pi/4), [0])\n",
    "}"
   ]
  },
  {
   "cell_type": "markdown",
   "id": "af11bbb3",
   "metadata": {},
   "source": [
    "运行并保存Bloch球可视化\n"
   ]
  },
  {
   "cell_type": "code",
   "execution_count": null,
   "id": "b5bfb05b",
   "metadata": {},
   "outputs": [],
   "source": [
    "for name, circ in bloch_circuits.items():\n",
    "    result = backend.run(transpile(circ, backend)).result()\n",
    "    state = result.get_statevector()\n",
    "    \n",
    "    # 保存Bloch球可视化\n",
    "    fig = plot_bloch_multivector(state)\n",
    "    fig.savefig(f'bloch_{name.replace(\"|\", \"\").replace(\"⟩\", \"\").replace(\"(\", \"\").replace(\")\", \"\").replace(\"/\", \"_\")}.png')\n",
    "    plt.close(fig)\n",
    "    print(f\"保存了{name}的Bloch球可视化\")"
   ]
  },
  {
   "cell_type": "markdown",
   "id": "1325812c",
   "metadata": {},
   "source": [
    "5. 定制量子门\n"
   ]
  },
  {
   "cell_type": "code",
   "execution_count": null,
   "id": "69156876",
   "metadata": {},
   "outputs": [],
   "source": [
    "print(\"\\n5. 定制量子门\")"
   ]
  },
  {
   "cell_type": "markdown",
   "id": "b2ccbe0f",
   "metadata": {},
   "source": [
    "自定义一个量子门 - 例如创建一个√X门\n"
   ]
  },
  {
   "cell_type": "code",
   "execution_count": null,
   "id": "609a2b8d",
   "metadata": {},
   "outputs": [],
   "source": [
    "sqrtx_matrix = np.array([\n",
    "    [0.5+0.5j, 0.5-0.5j],\n",
    "    [0.5-0.5j, 0.5+0.5j]\n",
    "])"
   ]
  },
  {
   "cell_type": "markdown",
   "id": "3620a9d1",
   "metadata": {},
   "source": [
    "创建一个自定义门\n"
   ]
  },
  {
   "cell_type": "code",
   "execution_count": null,
   "id": "10338bfa",
   "metadata": {},
   "outputs": [],
   "source": [
    "sqrtx_gate = UnitaryGate(sqrtx_matrix, label='√X')"
   ]
  },
  {
   "cell_type": "markdown",
   "id": "e75a9b09",
   "metadata": {},
   "source": [
    "使用自定义门\n"
   ]
  },
  {
   "cell_type": "code",
   "execution_count": null,
   "id": "950431e2",
   "metadata": {},
   "outputs": [],
   "source": [
    "custom_circ = QuantumCircuit(1)\n",
    "custom_circ.append(sqrtx_gate, [0])\n",
    "custom_result = backend.run(transpile(custom_circ, backend)).result()\n",
    "custom_state = custom_result.get_statevector()\n",
    "print(\"自定义√X门:\")\n",
    "print(f\"状态向量: {custom_state}\")\n",
    "print(f\"矩阵表示:\\n{Operator(sqrtx_gate).data}\")\n",
    "print(\"应用两次√X门等同于一次X门\")"
   ]
  },
  {
   "cell_type": "markdown",
   "id": "d88168e1",
   "metadata": {},
   "source": [
    "应用两次√X门\n"
   ]
  },
  {
   "cell_type": "code",
   "execution_count": null,
   "id": "321098e8",
   "metadata": {},
   "outputs": [],
   "source": [
    "custom_circ2 = QuantumCircuit(1)\n",
    "custom_circ2.append(sqrtx_gate, [0])\n",
    "custom_circ2.append(sqrtx_gate, [0])\n",
    "custom_result2 = backend.run(transpile(custom_circ2, backend)).result()\n",
    "custom_state2 = custom_result2.get_statevector()\n",
    "print(f\"应用两次后的状态向量: {custom_state2}\")\n",
    "print(f\"对比X门的状态向量: {x_state}\")"
   ]
  },
  {
   "cell_type": "markdown",
   "id": "74a03e34",
   "metadata": {},
   "source": [
    "6. 常用量子门组合和等价关系\n"
   ]
  },
  {
   "cell_type": "code",
   "execution_count": null,
   "id": "74eb2189",
   "metadata": {},
   "outputs": [],
   "source": [
    "print(\"\\n6. 常用量子门组合和等价关系\")"
   ]
  },
  {
   "cell_type": "markdown",
   "id": "07b282cc",
   "metadata": {},
   "source": [
    "X门 = H-Z-H\n"
   ]
  },
  {
   "cell_type": "code",
   "execution_count": null,
   "id": "2fba3333",
   "metadata": {},
   "outputs": [],
   "source": [
    "print(\"X门 = H-Z-H:\")\n",
    "equiv_circ = QuantumCircuit(1)\n",
    "equiv_circ.h(0)\n",
    "equiv_circ.z(0)\n",
    "equiv_circ.h(0)\n",
    "equiv_result = backend.run(transpile(equiv_circ, backend)).result()\n",
    "equiv_state = equiv_result.get_statevector()\n",
    "print(f\"HZH的状态向量: {equiv_state}\")\n",
    "print(f\"X门的状态向量: {x_state}\")"
   ]
  },
  {
   "cell_type": "markdown",
   "id": "ee5e9f31",
   "metadata": {},
   "source": [
    "CNOT = H-CZ-H\n"
   ]
  },
  {
   "cell_type": "code",
   "execution_count": null,
   "id": "6652d6f5",
   "metadata": {},
   "outputs": [],
   "source": [
    "print(\"\\nCNOT(0,1) = H(1)-CZ(0,1)-H(1):\")\n",
    "cnot_equiv_circ = QuantumCircuit(2)\n",
    "cnot_equiv_circ.h(0)\n",
    "cnot_equiv_circ.h(1)\n",
    "cnot_equiv_circ.cz(0, 1)\n",
    "cnot_equiv_circ.h(1)\n",
    "cnot_result = backend.run(transpile(cnot_equiv_circ, backend)).result()\n",
    "cnot_state = cnot_result.get_statevector()\n",
    "print(f\"H-CZ-H的状态向量: {cnot_state}\")"
   ]
  },
  {
   "cell_type": "markdown",
   "id": "4aee8a9f",
   "metadata": {},
   "source": [
    "7. 量子门的代数性质\n"
   ]
  },
  {
   "cell_type": "code",
   "execution_count": null,
   "id": "31a2655e",
   "metadata": {},
   "outputs": [],
   "source": [
    "print(\"\\n7. 量子门的代数性质\")"
   ]
  },
  {
   "cell_type": "markdown",
   "id": "e0e2c07a",
   "metadata": {},
   "source": [
    "1. 幂等性 - 应用两次相同的门，例如X^2 = I\n"
   ]
  },
  {
   "cell_type": "code",
   "execution_count": null,
   "id": "1387a733",
   "metadata": {},
   "outputs": [],
   "source": [
    "print(\"幂等性 - 例如X^2 = I:\")\n",
    "xx_circ = QuantumCircuit(1)\n",
    "xx_circ.x(0)\n",
    "xx_circ.x(0)\n",
    "xx_result = backend.run(transpile(xx_circ, backend)).result()\n",
    "xx_state = xx_result.get_statevector()\n",
    "print(f\"X^2的状态向量: {xx_state}\")\n",
    "print(f\"等同于单位操作的状态向量: {init_state}\")"
   ]
  },
  {
   "cell_type": "markdown",
   "id": "a012f856",
   "metadata": {},
   "source": [
    "2. 可逆性 - 每个量子门都是可逆的\n"
   ]
  },
  {
   "cell_type": "code",
   "execution_count": null,
   "id": "82f7bfb4",
   "metadata": {},
   "outputs": [],
   "source": [
    "print(\"\\n可逆性 - 每个量子门都是可逆的\")\n",
    "print(\"例如H^2 = I:\")\n",
    "hh_circ = QuantumCircuit(1)\n",
    "hh_circ.h(0)\n",
    "hh_circ.h(0)\n",
    "hh_result = backend.run(transpile(hh_circ, backend)).result()\n",
    "hh_state = hh_result.get_statevector()\n",
    "print(f\"H^2的状态向量: {hh_state}\")\n",
    "print(f\"等同于单位操作的状态向量: {init_state}\")"
   ]
  },
  {
   "cell_type": "markdown",
   "id": "5cdb7c8e",
   "metadata": {},
   "source": [
    "3. 交换关系 - 某些门之间的交换性质\n"
   ]
  },
  {
   "cell_type": "code",
   "execution_count": null,
   "id": "c1a1a227",
   "metadata": {},
   "outputs": [],
   "source": [
    "print(\"\\n交换关系 - 例如X和Z门不满足交换律:\")\n",
    "xz_circ = QuantumCircuit(1)\n",
    "xz_circ.x(0)\n",
    "xz_circ.z(0)\n",
    "xz_result = backend.run(transpile(xz_circ, backend)).result()\n",
    "xz_state = xz_result.get_statevector()\n",
    "\n",
    "zx_circ = QuantumCircuit(1)\n",
    "zx_circ.z(0)\n",
    "zx_circ.x(0)\n",
    "zx_result = backend.run(transpile(zx_circ, backend)).result()\n",
    "zx_state = zx_result.get_statevector()\n",
    "\n",
    "print(f\"XZ的状态向量: {xz_state}\")\n",
    "print(f\"ZX的状态向量: {zx_state}\")\n",
    "print(\"注意两个结果之间的相位差异\")"
   ]
  },
  {
   "cell_type": "markdown",
   "id": "a6d8743b",
   "metadata": {},
   "source": [
    "8. 量子门的完备性\n"
   ]
  },
  {
   "cell_type": "code",
   "execution_count": null,
   "id": "51f78076",
   "metadata": {},
   "outputs": [],
   "source": [
    "print(\"\\n8. 量子门的完备性\")\n",
    "print(\"量子计算的通用门集:任何量子电路原则上都可以由以下门组成：\")\n",
    "print(\"1. H门\")\n",
    "print(\"2. T门\")\n",
    "print(\"3. CNOT门\")\n",
    "print(\"这是一个万能门集，可以近似实现任何酉变换\")\n",
    "\n",
    "print(\"\\n另一个通用门集包括:\")\n",
    "print(\"1. 单量子比特旋转门（RX, RY, RZ）\")\n",
    "print(\"2. CNOT门\")"
   ]
  },
  {
   "cell_type": "markdown",
   "id": "2492e14b",
   "metadata": {},
   "source": [
    "9. 量子门和经典逻辑门的比较\n"
   ]
  },
  {
   "cell_type": "code",
   "execution_count": null,
   "id": "7da553b3",
   "metadata": {},
   "outputs": [],
   "source": [
    "print(\"\\n9. 量子门和经典逻辑门的比较\")\n",
    "print(\"经典门与量子门对比:\")\n",
    "print(\"- NOT (经典) ⟷ X (量子): 比特翻转\")\n",
    "print(\"- AND (经典) ⟷ Toffoli/CCX (量子): 在量子计算中可逆版本的AND\")\n",
    "print(\"- XOR (经典) ⟷ CNOT (量子): 量子条件非门\")\n",
    "print(\"- 没有直接对应: H, Z, Phase, 旋转门\")\n",
    "print(\"关键区别: 量子门必须是可逆的（酉的），经典门不需要\")"
   ]
  },
  {
   "cell_type": "markdown",
   "id": "6a0c0f5a",
   "metadata": {},
   "source": [
    "10. 总结\n"
   ]
  },
  {
   "cell_type": "code",
   "execution_count": null,
   "id": "7d912b3f",
   "metadata": {},
   "outputs": [],
   "source": [
    "print(\"\\n10. 总结\")\n",
    "print(\"1. 量子门是量子计算的基本构建块\")\n",
    "print(\"2. 单量子比特门操作单个量子比特的状态\")\n",
    "print(\"3. 多量子比特门允许量子比特之间的交互和纠缠\")\n",
    "print(\"4. 旋转门能够在Bloch球上实现任意的单量子比特操作\")\n",
    "print(\"5. 量子门必须是酉的（可逆的）\")\n",
    "print(\"6. 一小组量子门可以组成通用门集，能够实现任意量子电路\")\n",
    "print(\"7. 量子门的组合可以创建复杂的量子算法和协议\")\n",
    "\n",
    "print(\"\\n下一步学习:\")\n",
    "print(\"- 学习如何使用这些量子门实现经典量子算法\")\n",
    "print(\"- 探索量子电路优化和编译技术\")\n",
    "print(\"- 实现特定问题的量子解决方案\")"
   ]
  },
  {
   "cell_type": "markdown",
   "id": "d9acf8fe",
   "metadata": {},
   "source": [
    "## 💡 挑战任务\n",
    "\n",
    "尝试扩展上面的练习，探索以下内容：\n",
    "1. 更改电路参数并观察结果的变化\n",
    "2. 尝试实现不同的量子态或算法\n",
    "3. 可视化更多量子测量的结果"
   ]
  }
 ],
 "metadata": {
  "kernelspec": {
   "display_name": "Python 3",
   "language": "python",
   "name": "python3"
  },
  "language_info": {
   "codemirror_mode": {
    "name": "ipython",
    "version": 3
   },
   "file_extension": ".py",
   "mimetype": "text/x-python",
   "name": "python",
   "nbconvert_exporter": "python",
   "pygments_lexer": "ipython3",
   "version": "3.9.13"
  }
 },
 "nbformat": 4,
 "nbformat_minor": 5
}

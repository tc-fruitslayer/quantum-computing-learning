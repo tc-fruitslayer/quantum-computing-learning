{
 "cells": [
  {
   "cell_type": "code",
   "execution_count": null,
   "id": "420cbfbe",
   "metadata": {},
   "outputs": [],
   "source": [
    "#!/usr/bin/env python\n",
    "# -*- coding: utf-8 -*-"
   ]
  },
  {
   "cell_type": "markdown",
   "id": "2fded64e",
   "metadata": {},
   "source": [
    "\n",
    "IBM Qiskit框架学习 2：量子电路创建和可视化\n",
    "本文件详细介绍Qiskit中创建、组合和可视化量子电路的方法"
   ]
  },
  {
   "cell_type": "markdown",
   "id": "867e4390",
   "metadata": {},
   "source": [
    "导入必要的库\n"
   ]
  },
  {
   "cell_type": "code",
   "execution_count": null,
   "id": "3daa5ace",
   "metadata": {},
   "outputs": [],
   "source": [
    "from qiskit import QuantumCircuit, QuantumRegister, ClassicalRegister, transpile, Aer\n",
    "from qiskit.visualization import plot_histogram, plot_bloch_multivector, plot_circuit_layout\n",
    "from qiskit.visualization import plot_state_city, plot_state_qsphere, plot_state_hinton\n",
    "from qiskit.circuit.library import EfficientSU2\n",
    "from qiskit.providers.aer import QasmSimulator, StatevectorSimulator\n",
    "import numpy as np\n",
    "import matplotlib.pyplot as plt\n"
   ]
  },
  {
   "cell_type": "code",
   "execution_count": null,
   "id": "6226e66d",
   "metadata": {},
   "outputs": [],
   "source": [
    "print(\"===== Qiskit量子电路创建和可视化 =====\")"
   ]
  },
  {
   "cell_type": "markdown",
   "id": "cc5e047c",
   "metadata": {},
   "source": [
    "1. 基本电路创建方法\n"
   ]
  },
  {
   "cell_type": "code",
   "execution_count": null,
   "id": "97c1e4e3",
   "metadata": {},
   "outputs": [],
   "source": [
    "print(\"\\n1. 基本电路创建方法\")"
   ]
  },
  {
   "cell_type": "markdown",
   "id": "7ecd40fc",
   "metadata": {},
   "source": [
    "方法1：直接创建\n"
   ]
  },
  {
   "cell_type": "code",
   "execution_count": null,
   "id": "3b4d1601",
   "metadata": {},
   "outputs": [],
   "source": [
    "print(\"方法1：直接指定量子比特和经典比特数量\")\n",
    "qc1 = QuantumCircuit(3, 3)  # 3个量子比特，3个经典比特\n",
    "qc1.h(0)\n",
    "qc1.cx(0, 1)\n",
    "qc1.cx(0, 2)\n",
    "qc1.measure([0, 1, 2], [0, 1, 2])\n",
    "print(qc1.draw())"
   ]
  },
  {
   "cell_type": "markdown",
   "id": "1556c4be",
   "metadata": {},
   "source": [
    "方法2：使用寄存器\n"
   ]
  },
  {
   "cell_type": "code",
   "execution_count": null,
   "id": "767879da",
   "metadata": {},
   "outputs": [],
   "source": [
    "print(\"\\n方法2：使用量子寄存器和经典寄存器\")\n",
    "qr = QuantumRegister(2, name='q')\n",
    "cr = ClassicalRegister(2, name='c')\n",
    "qc2 = QuantumCircuit(qr, cr)\n",
    "qc2.h(qr[0])\n",
    "qc2.cx(qr[0], qr[1])\n",
    "qc2.measure(qr, cr)\n",
    "print(qc2.draw())"
   ]
  },
  {
   "cell_type": "markdown",
   "id": "880a1575",
   "metadata": {},
   "source": [
    "方法3：从空电路添加寄存器\n"
   ]
  },
  {
   "cell_type": "code",
   "execution_count": null,
   "id": "712e80bd",
   "metadata": {},
   "outputs": [],
   "source": [
    "print(\"\\n方法3：从空电路添加寄存器\")\n",
    "qc3 = QuantumCircuit()\n",
    "qr1 = QuantumRegister(2, 'q1')\n",
    "qr2 = QuantumRegister(1, 'q2')\n",
    "cr1 = ClassicalRegister(2, 'c1')\n",
    "cr2 = ClassicalRegister(1, 'c2')\n",
    "qc3.add_register(qr1)\n",
    "qc3.add_register(qr2)\n",
    "qc3.add_register(cr1)\n",
    "qc3.add_register(cr2)\n",
    "print(f\"量子比特总数: {qc3.num_qubits}\")\n",
    "print(f\"经典比特总数: {qc3.num_clbits}\")\n",
    "print(f\"寄存器总数: {len(qc3.qregs) + len(qc3.cregs)}\")"
   ]
  },
  {
   "cell_type": "markdown",
   "id": "40b891f5",
   "metadata": {},
   "source": [
    "2. 电路构建和操作\n"
   ]
  },
  {
   "cell_type": "code",
   "execution_count": null,
   "id": "99153b3c",
   "metadata": {},
   "outputs": [],
   "source": [
    "print(\"\\n2. 电路构建和操作\")"
   ]
  },
  {
   "cell_type": "markdown",
   "id": "73bad4a9",
   "metadata": {},
   "source": [
    "创建基本电路\n"
   ]
  },
  {
   "cell_type": "code",
   "execution_count": null,
   "id": "cbb2a870",
   "metadata": {},
   "outputs": [],
   "source": [
    "qc = QuantumCircuit(3)"
   ]
  },
  {
   "cell_type": "markdown",
   "id": "459e5772",
   "metadata": {},
   "source": [
    "添加基本门\n"
   ]
  },
  {
   "cell_type": "code",
   "execution_count": null,
   "id": "a11f66f7",
   "metadata": {},
   "outputs": [],
   "source": [
    "print(\"添加基本量子门:\")\n",
    "qc.h(0)       # Hadamard门\n",
    "qc.x(1)       # X门（NOT门）\n",
    "qc.z(2)       # Z门\n",
    "qc.cx(0, 1)   # CNOT门"
   ]
  },
  {
   "cell_type": "markdown",
   "id": "ffcc03ff",
   "metadata": {},
   "source": [
    "添加旋转门\n"
   ]
  },
  {
   "cell_type": "code",
   "execution_count": null,
   "id": "cfb2f9b2",
   "metadata": {},
   "outputs": [],
   "source": [
    "qc.rx(np.pi/4, 0)  # 绕X轴旋转π/4\n",
    "qc.ry(np.pi/2, 1)  # 绕Y轴旋转π/2\n",
    "qc.rz(np.pi/6, 2)  # 绕Z轴旋转π/6\n",
    "\n",
    "print(qc.draw())"
   ]
  },
  {
   "cell_type": "markdown",
   "id": "2a8eef3b",
   "metadata": {},
   "source": [
    "3. 电路组合\n"
   ]
  },
  {
   "cell_type": "code",
   "execution_count": null,
   "id": "5b89c065",
   "metadata": {},
   "outputs": [],
   "source": [
    "print(\"\\n3. 电路组合\")"
   ]
  },
  {
   "cell_type": "markdown",
   "id": "93ec98a4",
   "metadata": {},
   "source": [
    "创建两个小电路\n"
   ]
  },
  {
   "cell_type": "code",
   "execution_count": null,
   "id": "191d71df",
   "metadata": {},
   "outputs": [],
   "source": [
    "bell_pair = QuantumCircuit(2)\n",
    "bell_pair.h(0)\n",
    "bell_pair.cx(0, 1)\n",
    "print(\"Bell对电路:\")\n",
    "print(bell_pair.draw())\n",
    "\n",
    "ghz = QuantumCircuit(3)\n",
    "ghz.h(0)\n",
    "ghz.cx(0, 1)\n",
    "ghz.cx(0, 2)\n",
    "print(\"\\nGHZ态电路:\")\n",
    "print(ghz.draw())"
   ]
  },
  {
   "cell_type": "markdown",
   "id": "dcdd7183",
   "metadata": {},
   "source": [
    "组合电路 - 添加门\n"
   ]
  },
  {
   "cell_type": "code",
   "execution_count": null,
   "id": "2c614d35",
   "metadata": {},
   "outputs": [],
   "source": [
    "print(\"\\n组合电路 - 添加门:\")\n",
    "combined = QuantumCircuit(3)\n",
    "combined.append(bell_pair, [0, 1])  # 将bell_pair应用于量子比特0和1\n",
    "combined.x(2)\n",
    "print(combined.draw())"
   ]
  },
  {
   "cell_type": "markdown",
   "id": "e675126f",
   "metadata": {},
   "source": [
    "组合电路 - 电路复合\n"
   ]
  },
  {
   "cell_type": "code",
   "execution_count": null,
   "id": "07e37d91",
   "metadata": {},
   "outputs": [],
   "source": [
    "print(\"\\n组合电路 - 电路复合:\")"
   ]
  },
  {
   "cell_type": "markdown",
   "id": "6788c271",
   "metadata": {},
   "source": [
    "创建一个3量子比特的电路\n"
   ]
  },
  {
   "cell_type": "code",
   "execution_count": null,
   "id": "8bfcb3ad",
   "metadata": {},
   "outputs": [],
   "source": [
    "circuit1 = QuantumCircuit(3)\n",
    "circuit1.h([0, 1, 2])"
   ]
  },
  {
   "cell_type": "markdown",
   "id": "f38e5f80",
   "metadata": {},
   "source": [
    "创建一个3量子比特的电路\n"
   ]
  },
  {
   "cell_type": "code",
   "execution_count": null,
   "id": "d6c7c618",
   "metadata": {},
   "outputs": [],
   "source": [
    "circuit2 = QuantumCircuit(3)\n",
    "circuit2.cx(0, 1)\n",
    "circuit2.cx(1, 2)"
   ]
  },
  {
   "cell_type": "markdown",
   "id": "9df0843e",
   "metadata": {},
   "source": [
    "复合两个电路\n"
   ]
  },
  {
   "cell_type": "code",
   "execution_count": null,
   "id": "e6bdabd8",
   "metadata": {},
   "outputs": [],
   "source": [
    "composed = circuit1.compose(circuit2)\n",
    "print(\"复合电路:\")\n",
    "print(composed.draw())"
   ]
  },
  {
   "cell_type": "markdown",
   "id": "78bc8c5a",
   "metadata": {},
   "source": [
    "4. 电路可视化\n"
   ]
  },
  {
   "cell_type": "code",
   "execution_count": null,
   "id": "a5631136",
   "metadata": {},
   "outputs": [],
   "source": [
    "print(\"\\n4. 电路可视化\")"
   ]
  },
  {
   "cell_type": "markdown",
   "id": "4dd051a6",
   "metadata": {},
   "source": [
    "创建复杂点的电路进行演示\n"
   ]
  },
  {
   "cell_type": "code",
   "execution_count": null,
   "id": "4e150a1a",
   "metadata": {},
   "outputs": [],
   "source": [
    "vis_circuit = QuantumCircuit(5, 5)\n",
    "vis_circuit.h(0)\n",
    "vis_circuit.cx(0, range(1, 5))\n",
    "vis_circuit.barrier()\n",
    "vis_circuit.x([0, 2])\n",
    "vis_circuit.z([1, 3, 4])\n",
    "vis_circuit.barrier()\n",
    "vis_circuit.measure(range(5), range(5))\n",
    "\n",
    "print(\"复杂电路绘制:\")\n",
    "print(vis_circuit.draw())"
   ]
  },
  {
   "cell_type": "markdown",
   "id": "10bdce8f",
   "metadata": {},
   "source": [
    "保存电路图到不同格式\n"
   ]
  },
  {
   "cell_type": "code",
   "execution_count": null,
   "id": "bbea9006",
   "metadata": {},
   "outputs": [],
   "source": [
    "print(\"\\n保存电路图到不同格式\")\n",
    "print(\"- 电路以文本格式输出\")\n",
    "print(\"- 电路图会保存为图片文件\")"
   ]
  },
  {
   "cell_type": "markdown",
   "id": "32040672",
   "metadata": {},
   "source": [
    "绘制并保存matplotlib格式\n"
   ]
  },
  {
   "cell_type": "code",
   "execution_count": null,
   "id": "19bb3a5b",
   "metadata": {},
   "outputs": [],
   "source": [
    "print(\"绘制电路图(matplotlib格式)并保存到文件\")\n",
    "fig = vis_circuit.draw(output='mpl', style={'backgroundcolor': '#EEEEEE'})\n",
    "fig.savefig('vis_circuit_mpl.png')\n",
    "plt.close(fig)"
   ]
  },
  {
   "cell_type": "markdown",
   "id": "407741c9",
   "metadata": {},
   "source": [
    "5. 电路的层次结构\n"
   ]
  },
  {
   "cell_type": "code",
   "execution_count": null,
   "id": "b0cc31b8",
   "metadata": {},
   "outputs": [],
   "source": [
    "print(\"\\n5. 电路的层次结构\")"
   ]
  },
  {
   "cell_type": "markdown",
   "id": "e17e7691",
   "metadata": {},
   "source": [
    "创建一个电路，展示时刻(Moment)和指令(Instruction)\n"
   ]
  },
  {
   "cell_type": "code",
   "execution_count": null,
   "id": "00d63a41",
   "metadata": {},
   "outputs": [],
   "source": [
    "moment_circuit = QuantumCircuit(3)\n",
    "moment_circuit.h(0)\n",
    "moment_circuit.h(1)  # 这与H(0)在同一时刻\n",
    "moment_circuit.cx(0, 2)  # 这与上面的H门不在同一时刻\n",
    "moment_circuit.z(1)  # 这与CNOT门可以在同一时刻\n",
    "\n",
    "print(\"电路的时刻结构:\")\n",
    "print(moment_circuit.draw())\n",
    "\n",
    "print(\"\\n电路指令分析:\")\n",
    "for i, instruction in enumerate(moment_circuit.data):\n",
    "    print(f\"指令 {i+1}: {instruction.operation.name} 在量子比特 {[qubit.index for qubit in instruction.qubits]}\")"
   ]
  },
  {
   "cell_type": "markdown",
   "id": "2a164774",
   "metadata": {},
   "source": [
    "6. 参数化电路\n"
   ]
  },
  {
   "cell_type": "code",
   "execution_count": null,
   "id": "b592c1cc",
   "metadata": {},
   "outputs": [],
   "source": [
    "print(\"\\n6. 参数化电路\")"
   ]
  },
  {
   "cell_type": "markdown",
   "id": "fe8e4442",
   "metadata": {},
   "source": [
    "创建参数化电路\n"
   ]
  },
  {
   "cell_type": "code",
   "execution_count": null,
   "id": "db9ac82f",
   "metadata": {},
   "outputs": [],
   "source": [
    "from qiskit.circuit import Parameter\n"
   ]
  },
  {
   "cell_type": "code",
   "execution_count": null,
   "id": "064dbd92",
   "metadata": {},
   "outputs": [],
   "source": [
    "theta = Parameter('θ')\n",
    "phi = Parameter('φ')\n",
    "\n",
    "param_circuit = QuantumCircuit(2)\n",
    "param_circuit.rx(theta, 0)\n",
    "param_circuit.ry(phi, 1)\n",
    "param_circuit.cx(0, 1)\n",
    "\n",
    "print(\"参数化电路:\")\n",
    "print(param_circuit.draw())"
   ]
  },
  {
   "cell_type": "markdown",
   "id": "29272cad",
   "metadata": {},
   "source": [
    "为参数赋值\n"
   ]
  },
  {
   "cell_type": "code",
   "execution_count": null,
   "id": "535163a4",
   "metadata": {},
   "outputs": [],
   "source": [
    "bound_circuit = param_circuit.bind_parameters({theta: np.pi/2, phi: np.pi/4})\n",
    "print(\"\\n绑定参数后的电路:\")\n",
    "print(bound_circuit.draw())"
   ]
  },
  {
   "cell_type": "markdown",
   "id": "a4408f66",
   "metadata": {},
   "source": [
    "7. 使用电路库\n"
   ]
  },
  {
   "cell_type": "code",
   "execution_count": null,
   "id": "5eac3efc",
   "metadata": {},
   "outputs": [],
   "source": [
    "print(\"\\n7. 使用电路库\")"
   ]
  },
  {
   "cell_type": "markdown",
   "id": "578e3013",
   "metadata": {},
   "source": [
    "使用EfficientSU2库电路，创建一个参数化的变分量子电路\n"
   ]
  },
  {
   "cell_type": "code",
   "execution_count": null,
   "id": "868caf46",
   "metadata": {},
   "outputs": [],
   "source": [
    "print(\"使用电路库创建变分量子电路:\")\n",
    "var_form = EfficientSU2(4, entanglement='linear', reps=1)\n",
    "print(var_form.draw())\n",
    "\n",
    "print(f\"\\n参数数量: {var_form.num_parameters}\")\n",
    "print(f\"参数名称: {var_form.parameters}\")"
   ]
  },
  {
   "cell_type": "markdown",
   "id": "d0910986",
   "metadata": {},
   "source": [
    "8. 模拟和结果可视化\n"
   ]
  },
  {
   "cell_type": "code",
   "execution_count": null,
   "id": "916b38e2",
   "metadata": {},
   "outputs": [],
   "source": [
    "print(\"\\n8. 模拟和结果可视化\")"
   ]
  },
  {
   "cell_type": "markdown",
   "id": "797cfb39",
   "metadata": {},
   "source": [
    "创建一个Bell状态电路\n"
   ]
  },
  {
   "cell_type": "code",
   "execution_count": null,
   "id": "f9833b35",
   "metadata": {},
   "outputs": [],
   "source": [
    "bell = QuantumCircuit(2, 2)\n",
    "bell.h(0)\n",
    "bell.cx(0, 1)\n",
    "bell.measure([0, 1], [0, 1])"
   ]
  },
  {
   "cell_type": "markdown",
   "id": "30790dec",
   "metadata": {},
   "source": [
    "使用QASM模拟器\n"
   ]
  },
  {
   "cell_type": "code",
   "execution_count": null,
   "id": "48d2fcc8",
   "metadata": {},
   "outputs": [],
   "source": [
    "simulator = Aer.get_backend('qasm_simulator')\n",
    "job = simulator.run(transpile(bell, simulator), shots=1000)\n",
    "result = job.result()\n",
    "counts = result.get_counts()\n",
    "\n",
    "print(\"Bell状态测量结果:\")\n",
    "print(counts)"
   ]
  },
  {
   "cell_type": "markdown",
   "id": "2423e36e",
   "metadata": {},
   "source": [
    "绘制结果直方图\n"
   ]
  },
  {
   "cell_type": "code",
   "execution_count": null,
   "id": "9a40bead",
   "metadata": {},
   "outputs": [],
   "source": [
    "print(\"结果直方图将保存到文件\")\n",
    "fig = plot_histogram(counts)\n",
    "fig.savefig('bell_histogram.png')\n",
    "plt.close(fig)"
   ]
  },
  {
   "cell_type": "markdown",
   "id": "9fabcc37",
   "metadata": {},
   "source": [
    "使用状态向量模拟器\n"
   ]
  },
  {
   "cell_type": "code",
   "execution_count": null,
   "id": "f34295b4",
   "metadata": {},
   "outputs": [],
   "source": [
    "sv_sim = Aer.get_backend('statevector_simulator')"
   ]
  },
  {
   "cell_type": "markdown",
   "id": "7ecd3ad2",
   "metadata": {},
   "source": [
    "创建没有测量的Bell态\n"
   ]
  },
  {
   "cell_type": "code",
   "execution_count": null,
   "id": "9a2faf5d",
   "metadata": {},
   "outputs": [],
   "source": [
    "bell_sv = QuantumCircuit(2)\n",
    "bell_sv.h(0)\n",
    "bell_sv.cx(0, 1)\n",
    "job = sv_sim.run(transpile(bell_sv, sv_sim))\n",
    "state = job.result().get_statevector()"
   ]
  },
  {
   "cell_type": "markdown",
   "id": "9d75eb4d",
   "metadata": {},
   "source": [
    "不同的状态可视化方法\n"
   ]
  },
  {
   "cell_type": "code",
   "execution_count": null,
   "id": "b2be944d",
   "metadata": {},
   "outputs": [],
   "source": [
    "print(\"\\n使用不同方法可视化量子态（结果将保存到文件）\")"
   ]
  },
  {
   "cell_type": "markdown",
   "id": "161447d4",
   "metadata": {},
   "source": [
    "Bloch球多向量表示\n"
   ]
  },
  {
   "cell_type": "code",
   "execution_count": null,
   "id": "83a16480",
   "metadata": {},
   "outputs": [],
   "source": [
    "fig = plot_bloch_multivector(state)\n",
    "fig.savefig('bell_bloch.png')\n",
    "plt.close(fig)"
   ]
  },
  {
   "cell_type": "markdown",
   "id": "5ebce4b0",
   "metadata": {},
   "source": [
    "城市图表示\n"
   ]
  },
  {
   "cell_type": "code",
   "execution_count": null,
   "id": "b22b2223",
   "metadata": {},
   "outputs": [],
   "source": [
    "fig = plot_state_city(state)\n",
    "fig.savefig('bell_city.png')\n",
    "plt.close(fig)"
   ]
  },
  {
   "cell_type": "markdown",
   "id": "fdb7c836",
   "metadata": {},
   "source": [
    "Q球表示\n"
   ]
  },
  {
   "cell_type": "code",
   "execution_count": null,
   "id": "f2548557",
   "metadata": {},
   "outputs": [],
   "source": [
    "fig = plot_state_qsphere(state)\n",
    "fig.savefig('bell_qsphere.png')\n",
    "plt.close(fig)"
   ]
  },
  {
   "cell_type": "markdown",
   "id": "c8f3ccd8",
   "metadata": {},
   "source": [
    "Hinton图表示\n"
   ]
  },
  {
   "cell_type": "code",
   "execution_count": null,
   "id": "7d6a06a4",
   "metadata": {},
   "outputs": [],
   "source": [
    "fig = plot_state_hinton(state)\n",
    "fig.savefig('bell_hinton.png')\n",
    "plt.close(fig)"
   ]
  },
  {
   "cell_type": "markdown",
   "id": "aef98e1e",
   "metadata": {},
   "source": [
    "9. 电路与后端布局\n"
   ]
  },
  {
   "cell_type": "code",
   "execution_count": null,
   "id": "00297c9d",
   "metadata": {},
   "outputs": [],
   "source": [
    "print(\"\\n9. 电路与后端布局\")\n",
    "print(\"在真实量子设备上运行时，需要考虑量子比特的物理布局\")"
   ]
  },
  {
   "cell_type": "markdown",
   "id": "2ac26648",
   "metadata": {},
   "source": [
    "创建一个简单的量子电路\n"
   ]
  },
  {
   "cell_type": "code",
   "execution_count": null,
   "id": "a70e566a",
   "metadata": {},
   "outputs": [],
   "source": [
    "layout_circuit = QuantumCircuit(5)\n",
    "layout_circuit.h(0)\n",
    "layout_circuit.cx(0, 1)\n",
    "layout_circuit.cx(0, 2)\n",
    "layout_circuit.cx(2, 3)\n",
    "layout_circuit.cx(3, 4)"
   ]
  },
  {
   "cell_type": "markdown",
   "id": "199a164e",
   "metadata": {},
   "source": [
    "获取后端\n"
   ]
  },
  {
   "cell_type": "code",
   "execution_count": null,
   "id": "54ad43e7",
   "metadata": {},
   "outputs": [],
   "source": [
    "backend = Aer.get_backend('qasm_simulator')"
   ]
  },
  {
   "cell_type": "markdown",
   "id": "260eb4d5",
   "metadata": {},
   "source": [
    "转译电路\n"
   ]
  },
  {
   "cell_type": "code",
   "execution_count": null,
   "id": "40d85897",
   "metadata": {},
   "outputs": [],
   "source": [
    "transpiled_circuit = transpile(layout_circuit, backend, optimization_level=3)\n",
    "\n",
    "print(\"原始电路:\")\n",
    "print(layout_circuit.draw())\n",
    "\n",
    "print(\"\\n转译后的电路:\")\n",
    "print(transpiled_circuit.draw())"
   ]
  },
  {
   "cell_type": "markdown",
   "id": "f0b75b17",
   "metadata": {},
   "source": [
    "10. 总结\n"
   ]
  },
  {
   "cell_type": "code",
   "execution_count": null,
   "id": "957e5d63",
   "metadata": {},
   "outputs": [],
   "source": [
    "print(\"\\n10. 总结\")\n",
    "print(\"1. Qiskit提供了多种创建量子电路的方式\")\n",
    "print(\"2. 可以使用寄存器灵活组织量子比特和经典比特\")\n",
    "print(\"3. 电路可以通过多种方式组合和扩展\")\n",
    "print(\"4. Qiskit提供丰富的可视化工具\")\n",
    "print(\"5. 支持参数化电路，适用于变分算法\")\n",
    "print(\"6. 电路库提供了常用的量子电路模板\")\n",
    "print(\"7. 多种方法可以可视化量子态和测量结果\")\n",
    "\n",
    "print(\"\\n下一步学习:\")\n",
    "print(\"- 深入了解各种量子门的性质和应用\")\n",
    "print(\"- 实现经典量子算法\")\n",
    "print(\"- 探索量子电路优化技术\")\n",
    "print(\"- 在真实量子设备上运行程序\")"
   ]
  },
  {
   "cell_type": "markdown",
   "id": "abb6f045",
   "metadata": {},
   "source": [
    "## 💡 挑战任务\n",
    "\n",
    "尝试扩展上面的练习，探索以下内容：\n",
    "1. 更改电路参数并观察结果的变化\n",
    "2. 尝试实现不同的量子态或算法\n",
    "3. 可视化更多量子测量的结果"
   ]
  }
 ],
 "metadata": {
  "kernelspec": {
   "display_name": "Python 3",
   "language": "python",
   "name": "python3"
  },
  "language_info": {
   "codemirror_mode": {
    "name": "ipython",
    "version": 3
   },
   "file_extension": ".py",
   "mimetype": "text/x-python",
   "name": "python",
   "nbconvert_exporter": "python",
   "pygments_lexer": "ipython3",
   "version": "3.9.13"
  }
 },
 "nbformat": 4,
 "nbformat_minor": 5
}

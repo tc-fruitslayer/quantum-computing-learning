{
 "cells": [
  {
   "cell_type": "code",
   "execution_count": null,
   "id": "871d16d6",
   "metadata": {},
   "outputs": [],
   "source": [
    "#!/usr/bin/env python\n",
    "# -*- coding: utf-8 -*-"
   ]
  },
  {
   "cell_type": "markdown",
   "id": "34deea31",
   "metadata": {},
   "source": [
    "\n",
    "IBM Qiskit框架学习 1：Qiskit基础和特性\n",
    "本文件介绍Qiskit的基本概念、架构和使用方式"
   ]
  },
  {
   "cell_type": "markdown",
   "id": "1db44d68",
   "metadata": {},
   "source": [
    "导入Qiskit库\n"
   ]
  },
  {
   "cell_type": "code",
   "execution_count": null,
   "id": "63c188a3",
   "metadata": {},
   "outputs": [],
   "source": [
    "from qiskit import QuantumCircuit, transpile, Aer, IBMQ\n",
    "from qiskit.visualization import plot_histogram, plot_bloch_multivector\n",
    "from qiskit.tools.monitor import job_monitor\n",
    "from qiskit.providers.aer import QasmSimulator\n",
    "import numpy as np\n",
    "import matplotlib.pyplot as plt\n"
   ]
  },
  {
   "cell_type": "code",
   "execution_count": null,
   "id": "2e6e131f",
   "metadata": {},
   "outputs": [],
   "source": [
    "print(\"===== Qiskit基础和特性 =====\")"
   ]
  },
  {
   "cell_type": "markdown",
   "id": "ff932504",
   "metadata": {},
   "source": [
    "检查Qiskit版本\n"
   ]
  },
  {
   "cell_type": "code",
   "execution_count": null,
   "id": "4bff4484",
   "metadata": {},
   "outputs": [],
   "source": [
    "import qiskit\n"
   ]
  },
  {
   "cell_type": "code",
   "execution_count": null,
   "id": "edd34c0f",
   "metadata": {},
   "outputs": [],
   "source": [
    "print(f\"Qiskit版本: {qiskit.__version__}\")"
   ]
  },
  {
   "cell_type": "markdown",
   "id": "002780b6",
   "metadata": {},
   "source": [
    "1. Qiskit架构概述\n"
   ]
  },
  {
   "cell_type": "code",
   "execution_count": null,
   "id": "01fa40b9",
   "metadata": {},
   "outputs": [],
   "source": [
    "print(\"\\n1. Qiskit架构概述\")\n",
    "print(\"Qiskit是一个用于量子计算的开源软件开发套件，包含以下主要组件:\")\n",
    "print(\"- Qiskit Terra: 核心组件，提供构建量子电路和执行的基础\")\n",
    "print(\"- Qiskit Aer: 模拟器组件，用于模拟量子电路\")\n",
    "print(\"- Qiskit Ignis: 错误表征和缓解组件\")\n",
    "print(\"- Qiskit Aqua: 跨领域量子算法库\")\n",
    "print(\"- Qiskit Machine Learning: 量子机器学习库\")\n",
    "print(\"- Qiskit Nature: 量子化学和物理模拟库\")\n",
    "print(\"- Qiskit Finance: 量子金融应用库\")\n",
    "print(\"- Qiskit Optimization: 量子优化算法库\")"
   ]
  },
  {
   "cell_type": "markdown",
   "id": "d3f1b722",
   "metadata": {},
   "source": [
    "2. 创建第一个量子电路\n"
   ]
  },
  {
   "cell_type": "code",
   "execution_count": null,
   "id": "de149dfc",
   "metadata": {},
   "outputs": [],
   "source": [
    "print(\"\\n2. 创建第一个量子电路\")\n",
    "print(\"在Qiskit中，量子电路是使用QuantumCircuit类创建的\")\n",
    "print(\"以下是一个2量子比特的Bell态电路\")"
   ]
  },
  {
   "cell_type": "markdown",
   "id": "c56fd623",
   "metadata": {},
   "source": [
    "创建一个有2个量子比特和2个经典比特的量子电路\n"
   ]
  },
  {
   "cell_type": "code",
   "execution_count": null,
   "id": "7ff13662",
   "metadata": {},
   "outputs": [],
   "source": [
    "qc = QuantumCircuit(2, 2)"
   ]
  },
  {
   "cell_type": "markdown",
   "id": "61759ead",
   "metadata": {},
   "source": [
    "对第一个量子比特应用Hadamard门\n"
   ]
  },
  {
   "cell_type": "code",
   "execution_count": null,
   "id": "d1ee6bd8",
   "metadata": {},
   "outputs": [],
   "source": [
    "qc.h(0)"
   ]
  },
  {
   "cell_type": "markdown",
   "id": "90341a9a",
   "metadata": {},
   "source": [
    "对第一个和第二个量子比特应用CNOT门 (受控非门)\n"
   ]
  },
  {
   "cell_type": "code",
   "execution_count": null,
   "id": "57dfa263",
   "metadata": {},
   "outputs": [],
   "source": [
    "qc.cx(0, 1)"
   ]
  },
  {
   "cell_type": "markdown",
   "id": "29064930",
   "metadata": {},
   "source": [
    "测量量子比特\n"
   ]
  },
  {
   "cell_type": "code",
   "execution_count": null,
   "id": "da6a485d",
   "metadata": {},
   "outputs": [],
   "source": [
    "qc.measure([0, 1], [0, 1])"
   ]
  },
  {
   "cell_type": "markdown",
   "id": "0aa2ba0a",
   "metadata": {},
   "source": [
    "显示电路图\n"
   ]
  },
  {
   "cell_type": "code",
   "execution_count": null,
   "id": "de457a95",
   "metadata": {},
   "outputs": [],
   "source": [
    "print(\"Bell态电路:\")\n",
    "print(qc.draw())"
   ]
  },
  {
   "cell_type": "markdown",
   "id": "30d27de4",
   "metadata": {},
   "source": [
    "3. 量子寄存器和经典寄存器\n"
   ]
  },
  {
   "cell_type": "code",
   "execution_count": null,
   "id": "bb0d4222",
   "metadata": {},
   "outputs": [],
   "source": [
    "print(\"\\n3. 量子寄存器和经典寄存器\")\n",
    "print(\"Qiskit使用量子寄存器(QuantumRegister)和经典寄存器(ClassicalRegister)来组织量子比特和经典比特\")"
   ]
  },
  {
   "cell_type": "code",
   "execution_count": null,
   "id": "ceeb70b1",
   "metadata": {},
   "outputs": [],
   "source": [
    "from qiskit import QuantumRegister, ClassicalRegister\n"
   ]
  },
  {
   "cell_type": "markdown",
   "id": "d458f788",
   "metadata": {},
   "source": [
    "创建两个量子寄存器\n"
   ]
  },
  {
   "cell_type": "code",
   "execution_count": null,
   "id": "6d64e3c5",
   "metadata": {},
   "outputs": [],
   "source": [
    "qr1 = QuantumRegister(2, name=\"q1\")  # 2个量子比特，名称为q1\n",
    "qr2 = QuantumRegister(1, name=\"q2\")  # 1个量子比特，名称为q2"
   ]
  },
  {
   "cell_type": "markdown",
   "id": "2f176ed1",
   "metadata": {},
   "source": [
    "创建两个经典寄存器\n"
   ]
  },
  {
   "cell_type": "code",
   "execution_count": null,
   "id": "4dcd4323",
   "metadata": {},
   "outputs": [],
   "source": [
    "cr1 = ClassicalRegister(2, name=\"c1\")  # 2个经典比特，名称为c1\n",
    "cr2 = ClassicalRegister(1, name=\"c2\")  # 1个经典比特，名称为c2"
   ]
  },
  {
   "cell_type": "markdown",
   "id": "fdef665f",
   "metadata": {},
   "source": [
    "使用寄存器创建量子电路\n"
   ]
  },
  {
   "cell_type": "code",
   "execution_count": null,
   "id": "71fa1c4a",
   "metadata": {},
   "outputs": [],
   "source": [
    "qc_registers = QuantumCircuit(qr1, qr2, cr1, cr2)"
   ]
  },
  {
   "cell_type": "markdown",
   "id": "78b9a5a3",
   "metadata": {},
   "source": [
    "对第一个寄存器的第一个量子比特应用H门\n"
   ]
  },
  {
   "cell_type": "code",
   "execution_count": null,
   "id": "c86fb9af",
   "metadata": {},
   "outputs": [],
   "source": [
    "qc_registers.h(qr1[0])"
   ]
  },
  {
   "cell_type": "markdown",
   "id": "fb1f1615",
   "metadata": {},
   "source": [
    "在两个不同寄存器的量子比特之间应用CNOT门\n"
   ]
  },
  {
   "cell_type": "code",
   "execution_count": null,
   "id": "f186c177",
   "metadata": {},
   "outputs": [],
   "source": [
    "qc_registers.cx(qr1[0], qr2[0])"
   ]
  },
  {
   "cell_type": "markdown",
   "id": "d5d59958",
   "metadata": {},
   "source": [
    "测量第一个量子寄存器到第一个经典寄存器\n"
   ]
  },
  {
   "cell_type": "code",
   "execution_count": null,
   "id": "dc8dbb69",
   "metadata": {},
   "outputs": [],
   "source": [
    "qc_registers.measure(qr1, cr1)"
   ]
  },
  {
   "cell_type": "markdown",
   "id": "55249223",
   "metadata": {},
   "source": [
    "测量第二个量子寄存器到第二个经典寄存器\n"
   ]
  },
  {
   "cell_type": "code",
   "execution_count": null,
   "id": "466c1417",
   "metadata": {},
   "outputs": [],
   "source": [
    "qc_registers.measure(qr2, cr2)\n",
    "\n",
    "print(\"使用多个寄存器的电路:\")\n",
    "print(qc_registers.draw())"
   ]
  },
  {
   "cell_type": "markdown",
   "id": "e99fa219",
   "metadata": {},
   "source": [
    "4. 模拟量子电路\n"
   ]
  },
  {
   "cell_type": "code",
   "execution_count": null,
   "id": "3cbb67d2",
   "metadata": {},
   "outputs": [],
   "source": [
    "print(\"\\n4. 模拟量子电路\")\n",
    "print(\"Qiskit提供多种模拟器，最基本的是状态向量模拟器和QASM模拟器\")"
   ]
  },
  {
   "cell_type": "markdown",
   "id": "e68df84a",
   "metadata": {},
   "source": [
    "获取状态向量模拟器后端\n"
   ]
  },
  {
   "cell_type": "code",
   "execution_count": null,
   "id": "6e4f1c4e",
   "metadata": {},
   "outputs": [],
   "source": [
    "simulator = Aer.get_backend('statevector_simulator')"
   ]
  },
  {
   "cell_type": "markdown",
   "id": "2918bc30",
   "metadata": {},
   "source": [
    "创建一个简单的Bell态电路（不包括测量）\n"
   ]
  },
  {
   "cell_type": "code",
   "execution_count": null,
   "id": "e528732b",
   "metadata": {},
   "outputs": [],
   "source": [
    "bell = QuantumCircuit(2)\n",
    "bell.h(0)\n",
    "bell.cx(0, 1)"
   ]
  },
  {
   "cell_type": "markdown",
   "id": "f7fc45da",
   "metadata": {},
   "source": [
    "执行模拟\n"
   ]
  },
  {
   "cell_type": "code",
   "execution_count": null,
   "id": "4b87882c",
   "metadata": {},
   "outputs": [],
   "source": [
    "job = simulator.run(transpile(bell, simulator))\n",
    "result = job.result()"
   ]
  },
  {
   "cell_type": "markdown",
   "id": "8fc59505",
   "metadata": {},
   "source": [
    "获取状态向量\n"
   ]
  },
  {
   "cell_type": "code",
   "execution_count": null,
   "id": "c779281b",
   "metadata": {},
   "outputs": [],
   "source": [
    "statevector = result.get_statevector()\n",
    "print(\"Bell态的状态向量:\")\n",
    "print(statevector)"
   ]
  },
  {
   "cell_type": "markdown",
   "id": "f2bcc172",
   "metadata": {},
   "source": [
    "通过状态向量可视化Bell态（在交互环境中才能显示）\n"
   ]
  },
  {
   "cell_type": "code",
   "execution_count": null,
   "id": "75d7ca97",
   "metadata": {},
   "outputs": [],
   "source": [
    "print(\"状态向量可视化结果将保存到文件\")\n",
    "fig = plot_bloch_multivector(statevector)\n",
    "fig.savefig('bell_state_bloch.png')\n",
    "plt.close(fig)"
   ]
  },
  {
   "cell_type": "markdown",
   "id": "8656b0d4",
   "metadata": {},
   "source": [
    "使用QASM模拟器运行包含测量的电路\n"
   ]
  },
  {
   "cell_type": "code",
   "execution_count": null,
   "id": "10e7bbe6",
   "metadata": {},
   "outputs": [],
   "source": [
    "qasm_simulator = Aer.get_backend('qasm_simulator')"
   ]
  },
  {
   "cell_type": "markdown",
   "id": "05dadfa1",
   "metadata": {},
   "source": [
    "使用前面创建的Bell态电路（包含测量）\n"
   ]
  },
  {
   "cell_type": "code",
   "execution_count": null,
   "id": "0349ef18",
   "metadata": {},
   "outputs": [],
   "source": [
    "job = qasm_simulator.run(transpile(qc, qasm_simulator), shots=1024)\n",
    "result = job.result()"
   ]
  },
  {
   "cell_type": "markdown",
   "id": "874a60e4",
   "metadata": {},
   "source": [
    "获取计数结果\n"
   ]
  },
  {
   "cell_type": "code",
   "execution_count": null,
   "id": "fae368d9",
   "metadata": {},
   "outputs": [],
   "source": [
    "counts = result.get_counts()\n",
    "print(\"\\n模拟1024次测量的结果:\")\n",
    "print(counts)"
   ]
  },
  {
   "cell_type": "markdown",
   "id": "44c27d03",
   "metadata": {},
   "source": [
    "结果可视化\n"
   ]
  },
  {
   "cell_type": "code",
   "execution_count": null,
   "id": "80c330ef",
   "metadata": {},
   "outputs": [],
   "source": [
    "print(\"计数结果可视化将保存到文件\")\n",
    "fig = plot_histogram(counts)\n",
    "fig.savefig('bell_state_histogram.png')\n",
    "plt.close(fig)"
   ]
  },
  {
   "cell_type": "markdown",
   "id": "0c25c504",
   "metadata": {},
   "source": [
    "5. Qiskit中的电路编译和优化\n"
   ]
  },
  {
   "cell_type": "code",
   "execution_count": null,
   "id": "d7101183",
   "metadata": {},
   "outputs": [],
   "source": [
    "print(\"\\n5. Qiskit中的电路编译和优化\")\n",
    "print(\"量子电路在执行前，需要通过transpile转换为特定后端支持的门集\")"
   ]
  },
  {
   "cell_type": "markdown",
   "id": "9a2722b0",
   "metadata": {},
   "source": [
    "创建一个简单电路\n"
   ]
  },
  {
   "cell_type": "code",
   "execution_count": null,
   "id": "14ec7de2",
   "metadata": {},
   "outputs": [],
   "source": [
    "qc_original = QuantumCircuit(2)\n",
    "qc_original.h(0)\n",
    "qc_original.cx(0, 1)\n",
    "qc_original.z(1)\n",
    "qc_original.x(0)\n",
    "\n",
    "print(\"原始电路:\")\n",
    "print(qc_original.draw())"
   ]
  },
  {
   "cell_type": "markdown",
   "id": "119590ac",
   "metadata": {},
   "source": [
    "对不同后端的编译优化\n"
   ]
  },
  {
   "cell_type": "code",
   "execution_count": null,
   "id": "db94b1f0",
   "metadata": {},
   "outputs": [],
   "source": [
    "backend_sim = Aer.get_backend('qasm_simulator')\n",
    "qc_transpiled = transpile(qc_original, backend_sim, optimization_level=1)\n",
    "\n",
    "print(\"\\n编译后的电路 (optimization_level=1):\")\n",
    "print(qc_transpiled.draw())"
   ]
  },
  {
   "cell_type": "markdown",
   "id": "9b09cd22",
   "metadata": {},
   "source": [
    "更高级的优化\n"
   ]
  },
  {
   "cell_type": "code",
   "execution_count": null,
   "id": "fc7fd113",
   "metadata": {},
   "outputs": [],
   "source": [
    "qc_optimized = transpile(qc_original, backend_sim, optimization_level=3)\n",
    "print(\"\\n高度优化的电路 (optimization_level=3):\")\n",
    "print(qc_optimized.draw())"
   ]
  },
  {
   "cell_type": "markdown",
   "id": "c69c9386",
   "metadata": {},
   "source": [
    "6. Qiskit Provider体系\n"
   ]
  },
  {
   "cell_type": "code",
   "execution_count": null,
   "id": "1ea8348b",
   "metadata": {},
   "outputs": [],
   "source": [
    "print(\"\\n6. Qiskit Provider体系\")\n",
    "print(\"Qiskit使用Provider模型来管理不同的量子后端\")\n",
    "print(\"主要包括:\")\n",
    "print(\"- Aer: 模拟器提供者\")\n",
    "print(\"- IBMQ: IBM真实量子设备提供者\")\n",
    "print(\"- 第三方提供者: 其他供应商的量子设备\")"
   ]
  },
  {
   "cell_type": "markdown",
   "id": "bc5b6fac",
   "metadata": {},
   "source": [
    "获取可用的Aer模拟器\n"
   ]
  },
  {
   "cell_type": "code",
   "execution_count": null,
   "id": "31ce0d8a",
   "metadata": {},
   "outputs": [],
   "source": [
    "print(\"\\nAer提供的模拟器:\")\n",
    "for backend in Aer.backends():\n",
    "    print(f\"- {backend.name()}\")"
   ]
  },
  {
   "cell_type": "markdown",
   "id": "3f9d04ae",
   "metadata": {},
   "source": [
    "连接IBMQ需要账号和API密钥\n",
    "这里只展示代码结构，不实际运行\n"
   ]
  },
  {
   "cell_type": "code",
   "execution_count": null,
   "id": "ad6d20ea",
   "metadata": {},
   "outputs": [],
   "source": [
    "print(\"\\n连接IBMQ的代码示例 (需要API密钥):\")\n",
    "print("
   ]
  },
  {
   "cell_type": "markdown",
   "id": "7c0e78a7",
   "metadata": {},
   "source": [
    "\n",
    "# 加载已保存的账号\n",
    "IBMQ.load_account()\n",
    "\n",
    "# 获取提供者\n",
    "provider = IBMQ.get_provider(hub='ibm-q')\n",
    "\n",
    "# 获取可用后端\n",
    "for backend in provider.backends():\n",
    "    print(backend.name())\n",
    "    \n",
    "# 选择一个后端\n",
    "backend = provider.get_backend('ibmq_qasm_simulator')"
   ]
  },
  {
   "cell_type": "markdown",
   "id": "3f81364d",
   "metadata": {},
   "source": [
    "加载已保存的账号\n"
   ]
  },
  {
   "cell_type": "code",
   "execution_count": null,
   "id": "c7e1e996",
   "metadata": {},
   "outputs": [],
   "source": [
    "IBMQ.load_account()"
   ]
  },
  {
   "cell_type": "markdown",
   "id": "e8589c48",
   "metadata": {},
   "source": [
    "获取提供者\n"
   ]
  },
  {
   "cell_type": "code",
   "execution_count": null,
   "id": "da9238b9",
   "metadata": {},
   "outputs": [],
   "source": [
    "provider = IBMQ.get_provider(hub='ibm-q')"
   ]
  },
  {
   "cell_type": "markdown",
   "id": "b77051b5",
   "metadata": {},
   "source": [
    "获取可用后端\n"
   ]
  },
  {
   "cell_type": "code",
   "execution_count": null,
   "id": "d6c56dc8",
   "metadata": {},
   "outputs": [],
   "source": [
    "for backend in provider.backends():\n",
    "    print(backend.name())"
   ]
  },
  {
   "cell_type": "markdown",
   "id": "1cdad02b",
   "metadata": {},
   "source": [
    "选择一个后端\n"
   ]
  },
  {
   "cell_type": "code",
   "execution_count": null,
   "id": "0c66c2ac",
   "metadata": {},
   "outputs": [],
   "source": [
    "backend = provider.get_backend('ibmq_qasm_simulator')\n",
    "\"\"\")"
   ]
  },
  {
   "cell_type": "markdown",
   "id": "043fa6eb",
   "metadata": {},
   "source": [
    "7. 自定义Qiskit组件\n"
   ]
  },
  {
   "cell_type": "code",
   "execution_count": null,
   "id": "160a975c",
   "metadata": {},
   "outputs": [],
   "source": [
    "print(\"\\n7. 自定义Qiskit组件\")\n",
    "print(\"Qiskit允许您创建自定义门、电路和其他组件\")"
   ]
  },
  {
   "cell_type": "markdown",
   "id": "d8e4b329",
   "metadata": {},
   "source": [
    "示例：创建一个自定义电路函数，生成一个GHZ状态\n"
   ]
  },
  {
   "cell_type": "code",
   "execution_count": null,
   "id": "8f1b9733",
   "metadata": {},
   "outputs": [],
   "source": [
    "def create_ghz_circuit(num_qubits):"
   ]
  },
  {
   "cell_type": "markdown",
   "id": "2a7e1223",
   "metadata": {},
   "source": [
    "创建一个生成GHZ状态的电路"
   ]
  },
  {
   "cell_type": "code",
   "execution_count": null,
   "id": "6a9891ac",
   "metadata": {},
   "outputs": [],
   "source": [
    "qc = QuantumCircuit(num_qubits)\n",
    "    \n",
    "    # 对第一个量子比特应用H门\n",
    "    qc.h(0)\n",
    "    \n",
    "    # 对所有其他量子比特使用CNOT门\n",
    "    for i in range(num_qubits - 1):\n",
    "        qc.cx(i, i + 1)\n",
    "    \n",
    "    return qc"
   ]
  },
  {
   "cell_type": "markdown",
   "id": "1b6f44db",
   "metadata": {},
   "source": [
    "创建3量子比特GHZ态\n"
   ]
  },
  {
   "cell_type": "code",
   "execution_count": null,
   "id": "a6c29ba8",
   "metadata": {},
   "outputs": [],
   "source": [
    "ghz = create_ghz_circuit(3)\n",
    "print(\"3量子比特GHZ电路:\")\n",
    "print(ghz.draw())"
   ]
  },
  {
   "cell_type": "markdown",
   "id": "caeba455",
   "metadata": {},
   "source": [
    "模拟GHZ态\n"
   ]
  },
  {
   "cell_type": "code",
   "execution_count": null,
   "id": "cbb1dd7f",
   "metadata": {},
   "outputs": [],
   "source": [
    "simulator = Aer.get_backend('statevector_simulator')\n",
    "result = simulator.run(transpile(ghz, simulator)).result()\n",
    "statevector = result.get_statevector()"
   ]
  },
  {
   "cell_type": "markdown",
   "id": "a7788e68",
   "metadata": {},
   "source": [
    "打印状态向量（理论上应该是|000⟩和|111⟩的均匀叠加）\n"
   ]
  },
  {
   "cell_type": "code",
   "execution_count": null,
   "id": "15db6531",
   "metadata": {},
   "outputs": [],
   "source": [
    "print(\"\\n3量子比特GHZ态的状态向量:\")\n",
    "print(statevector)"
   ]
  },
  {
   "cell_type": "markdown",
   "id": "a3a2f6fa",
   "metadata": {},
   "source": [
    "8. 总结\n"
   ]
  },
  {
   "cell_type": "code",
   "execution_count": null,
   "id": "d6ad549a",
   "metadata": {},
   "outputs": [],
   "source": [
    "print(\"\\n8. 总结\")\n",
    "print(\"1. Qiskit是一个全面的量子计算软件开发工具包\")\n",
    "print(\"2. 它提供了创建、转译和执行量子电路的工具\")\n",
    "print(\"3. 多种模拟器可用于不同类型的量子计算任务\")\n",
    "print(\"4. 可以连接到IBM真实量子设备运行电路\")\n",
    "print(\"5. 支持高级的电路优化和分析功能\")\n",
    "print(\"6. 提供了丰富的量子算法和应用库\")\n",
    "\n",
    "print(\"\\n下一步学习:\")\n",
    "print(\"- 创建更复杂的量子电路\")\n",
    "print(\"- 深入了解各种量子门\")\n",
    "print(\"- 探索量子算法实现\")\n",
    "print(\"- 使用可视化工具分析结果\")\n",
    "print(\"- 连接到真实量子计算机\")\n",
    "print(\"- 学习量子误差缓解技术\")"
   ]
  },
  {
   "cell_type": "markdown",
   "id": "0c75642f",
   "metadata": {},
   "source": [
    "## 💡 挑战任务\n",
    "\n",
    "尝试扩展上面的练习，探索以下内容：\n",
    "1. 更改电路参数并观察结果的变化\n",
    "2. 尝试实现不同的量子态或算法\n",
    "3. 可视化更多量子测量的结果"
   ]
  }
 ],
 "metadata": {
  "kernelspec": {
   "display_name": "Python 3",
   "language": "python",
   "name": "python3"
  },
  "language_info": {
   "codemirror_mode": {
    "name": "ipython",
    "version": 3
   },
   "file_extension": ".py",
   "mimetype": "text/x-python",
   "name": "python",
   "nbconvert_exporter": "python",
   "pygments_lexer": "ipython3",
   "version": "3.9.13"
  }
 },
 "nbformat": 4,
 "nbformat_minor": 5
}

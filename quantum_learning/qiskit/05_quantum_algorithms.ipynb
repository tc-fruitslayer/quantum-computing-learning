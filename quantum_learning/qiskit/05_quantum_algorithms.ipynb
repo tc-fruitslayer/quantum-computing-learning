{
 "cells": [
  {
   "cell_type": "code",
   "execution_count": null,
   "id": "78993203",
   "metadata": {},
   "outputs": [],
   "source": [
    "#!/usr/bin/env python\n",
    "# -*- coding: utf-8 -*-"
   ]
  },
  {
   "cell_type": "markdown",
   "id": "2c461c7d",
   "metadata": {},
   "source": [
    "\n",
    "IBM Qiskit框架学习 5：量子算法实现\n",
    "本文件详细介绍Qiskit中经典量子算法的实现和应用"
   ]
  },
  {
   "cell_type": "markdown",
   "id": "ea103f62",
   "metadata": {},
   "source": [
    "导入必要的库\n"
   ]
  },
  {
   "cell_type": "code",
   "execution_count": null,
   "id": "0bee945d",
   "metadata": {},
   "outputs": [],
   "source": [
    "from qiskit import QuantumCircuit, Aer, execute, transpile\n",
    "from qiskit.visualization import plot_histogram\n",
    "from qiskit.algorithms import Grover, AmplificationProblem, Shor, PhaseEstimation\n",
    "from qiskit.algorithms.optimizers import COBYLA\n",
    "from qiskit.circuit.library import QFT, PhaseEstimation as PhaseEstimationCircuit\n",
    "from qiskit.circuit.library import EfficientSU2\n",
    "from qiskit.quantum_info import Operator\n",
    "from qiskit.opflow import X, Z, I\n",
    "import numpy as np\n",
    "import matplotlib.pyplot as plt\n",
    "from fractions import Fraction\n"
   ]
  },
  {
   "cell_type": "code",
   "execution_count": null,
   "id": "aaee913b",
   "metadata": {},
   "outputs": [],
   "source": [
    "print(\"===== Qiskit量子算法实现 =====\")"
   ]
  },
  {
   "cell_type": "markdown",
   "id": "d9b89caa",
   "metadata": {},
   "source": [
    "1. Deutsch-Jozsa算法\n"
   ]
  },
  {
   "cell_type": "code",
   "execution_count": null,
   "id": "682dd85a",
   "metadata": {},
   "outputs": [],
   "source": [
    "print(\"\\n1. Deutsch-Jozsa算法\")\n",
    "print(\"Deutsch-Jozsa算法可以判断一个黑盒函数是常数函数还是平衡函数\")"
   ]
  },
  {
   "cell_type": "markdown",
   "id": "015a9afb",
   "metadata": {},
   "source": [
    "实现常数函数（全0或全1）的Oracle\n"
   ]
  },
  {
   "cell_type": "code",
   "execution_count": null,
   "id": "8068587a",
   "metadata": {},
   "outputs": [],
   "source": [
    "def dj_constant_oracle(n):"
   ]
  },
  {
   "cell_type": "markdown",
   "id": "259ca7ff",
   "metadata": {},
   "source": [
    "返回一个n量子比特的常数Oracle"
   ]
  },
  {
   "cell_type": "code",
   "execution_count": null,
   "id": "1348f855",
   "metadata": {},
   "outputs": [],
   "source": [
    "oracle = QuantumCircuit(n+1)\n",
    "    # 如果要输出1，则在目标量子比特上添加X门\n",
    "    # 这里我们选择输出0，所以不需要添加额外的门\n",
    "    return oracle"
   ]
  },
  {
   "cell_type": "markdown",
   "id": "7d3cff5d",
   "metadata": {},
   "source": [
    "实现平衡函数Oracle\n"
   ]
  },
  {
   "cell_type": "code",
   "execution_count": null,
   "id": "ea41160a",
   "metadata": {},
   "outputs": [],
   "source": [
    "def dj_balanced_oracle(n):"
   ]
  },
  {
   "cell_type": "markdown",
   "id": "6807d3ab",
   "metadata": {},
   "source": [
    "返回一个n量子比特的平衡Oracle"
   ]
  },
  {
   "cell_type": "code",
   "execution_count": null,
   "id": "4fabfc4c",
   "metadata": {},
   "outputs": [],
   "source": [
    "oracle = QuantumCircuit(n+1)\n",
    "    # 对每个输入量子比特施加CNOT门，以控制目标量子比特\n",
    "    for i in range(n):\n",
    "        oracle.cx(i, n)\n",
    "    return oracle"
   ]
  },
  {
   "cell_type": "markdown",
   "id": "838d843e",
   "metadata": {},
   "source": [
    "实现Deutsch-Jozsa算法\n"
   ]
  },
  {
   "cell_type": "code",
   "execution_count": null,
   "id": "fa83b675",
   "metadata": {},
   "outputs": [],
   "source": [
    "def deutsch_jozsa_algorithm(oracle, n):"
   ]
  },
  {
   "cell_type": "markdown",
   "id": "9d1e5fd3",
   "metadata": {},
   "source": [
    "实现Deutsch-Jozsa算法\n",
    "    \n",
    "    参数:\n",
    "        oracle (QuantumCircuit): Oracle电路\n",
    "        n (int): 量子比特数量\n",
    "    \n",
    "    返回:\n",
    "        QuantumCircuit: 完整的Deutsch-Jozsa电路"
   ]
  },
  {
   "cell_type": "code",
   "execution_count": null,
   "id": "c22746e7",
   "metadata": {},
   "outputs": [],
   "source": [
    "dj_circuit = QuantumCircuit(n+1, n)\n",
    "    \n",
    "    # 初始化目标量子比特到|1⟩\n",
    "    dj_circuit.x(n)\n",
    "    \n",
    "    # 对所有量子比特应用H门\n",
    "    for qubit in range(n+1):\n",
    "        dj_circuit.h(qubit)\n",
    "    \n",
    "    # 添加Oracle\n",
    "    dj_circuit = dj_circuit.compose(oracle)\n",
    "    \n",
    "    # 再次对输入量子比特应用H门\n",
    "    for qubit in range(n):\n",
    "        dj_circuit.h(qubit)\n",
    "    \n",
    "    # 测量\n",
    "    dj_circuit.measure(range(n), range(n))\n",
    "    \n",
    "    return dj_circuit"
   ]
  },
  {
   "cell_type": "markdown",
   "id": "d03d8855",
   "metadata": {},
   "source": [
    "执行常数函数测试\n"
   ]
  },
  {
   "cell_type": "code",
   "execution_count": null,
   "id": "aad4af41",
   "metadata": {},
   "outputs": [],
   "source": [
    "n = 3  # 使用3个量子比特\n",
    "constant_oracle = dj_constant_oracle(n)\n",
    "dj_constant_circuit = deutsch_jozsa_algorithm(constant_oracle, n)\n",
    "\n",
    "print(\"Deutsch-Jozsa电路 (常数函数):\")\n",
    "print(dj_constant_circuit.draw())"
   ]
  },
  {
   "cell_type": "markdown",
   "id": "1fa718b1",
   "metadata": {},
   "source": [
    "执行平衡函数测试\n"
   ]
  },
  {
   "cell_type": "code",
   "execution_count": null,
   "id": "bccc214d",
   "metadata": {},
   "outputs": [],
   "source": [
    "balanced_oracle = dj_balanced_oracle(n)\n",
    "dj_balanced_circuit = deutsch_jozsa_algorithm(balanced_oracle, n)\n",
    "\n",
    "print(\"\\nDeutsch-Jozsa电路 (平衡函数):\")\n",
    "print(dj_balanced_circuit.draw())"
   ]
  },
  {
   "cell_type": "markdown",
   "id": "16067a7b",
   "metadata": {},
   "source": [
    "模拟电路执行\n"
   ]
  },
  {
   "cell_type": "code",
   "execution_count": null,
   "id": "08fe59bb",
   "metadata": {},
   "outputs": [],
   "source": [
    "simulator = Aer.get_backend('qasm_simulator')\n",
    "constant_result = execute(dj_constant_circuit, simulator, shots=1024).result()\n",
    "constant_counts = constant_result.get_counts()\n",
    "\n",
    "balanced_result = execute(dj_balanced_circuit, simulator, shots=1024).result()\n",
    "balanced_counts = balanced_result.get_counts()\n",
    "\n",
    "print(\"\\n常数函数结果:\")\n",
    "print(constant_counts)\n",
    "print(\"全0结果表示函数是常数函数\")\n",
    "\n",
    "print(\"\\n平衡函数结果:\")\n",
    "print(balanced_counts)\n",
    "print(\"其他结果表示函数是平衡函数\")"
   ]
  },
  {
   "cell_type": "markdown",
   "id": "caa3f443",
   "metadata": {},
   "source": [
    "2. Bernstein-Vazirani算法\n"
   ]
  },
  {
   "cell_type": "code",
   "execution_count": null,
   "id": "32c49060",
   "metadata": {},
   "outputs": [],
   "source": [
    "print(\"\\n2. Bernstein-Vazirani算法\")\n",
    "print(\"Bernstein-Vazirani算法可以一次性确定一个黑盒函数的隐藏位串\")"
   ]
  },
  {
   "cell_type": "markdown",
   "id": "2d5aad63",
   "metadata": {},
   "source": [
    "实现具有隐藏位串的Oracle\n"
   ]
  },
  {
   "cell_type": "code",
   "execution_count": null,
   "id": "54d3ac6c",
   "metadata": {},
   "outputs": [],
   "source": [
    "def bv_oracle(hidden_string):"
   ]
  },
  {
   "cell_type": "markdown",
   "id": "b7081912",
   "metadata": {},
   "source": [
    "返回一个具有隐藏位串的Oracle\n",
    "    \n",
    "    参数:\n",
    "        hidden_string (str): 隐藏的位串，如'101'\n",
    "    \n",
    "    返回:\n",
    "        QuantumCircuit: Oracle电路"
   ]
  },
  {
   "cell_type": "code",
   "execution_count": null,
   "id": "2c4a70da",
   "metadata": {},
   "outputs": [],
   "source": [
    "n = len(hidden_string)\n",
    "    oracle = QuantumCircuit(n+1)\n",
    "    \n",
    "    # 将目标量子比特置于|-⟩态\n",
    "    oracle.x(n)\n",
    "    oracle.h(n)\n",
    "    \n",
    "    # 对于隐藏串中为1的每个位，添加一个CNOT门\n",
    "    for i in range(n):\n",
    "        if hidden_string[i] == '1':\n",
    "            oracle.cx(i, n)\n",
    "    \n",
    "    return oracle"
   ]
  },
  {
   "cell_type": "markdown",
   "id": "c0e9ae3e",
   "metadata": {},
   "source": [
    "实现Bernstein-Vazirani算法\n"
   ]
  },
  {
   "cell_type": "code",
   "execution_count": null,
   "id": "7d3ac1d9",
   "metadata": {},
   "outputs": [],
   "source": [
    "def bernstein_vazirani_algorithm(oracle, n):"
   ]
  },
  {
   "cell_type": "markdown",
   "id": "dc1cd2e0",
   "metadata": {},
   "source": [
    "实现Bernstein-Vazirani算法\n",
    "    \n",
    "    参数:\n",
    "        oracle (QuantumCircuit): Oracle电路\n",
    "        n (int): 量子比特数量\n",
    "    \n",
    "    返回:\n",
    "        QuantumCircuit: 完整的Bernstein-Vazirani电路"
   ]
  },
  {
   "cell_type": "code",
   "execution_count": null,
   "id": "8dbe3b28",
   "metadata": {},
   "outputs": [],
   "source": [
    "bv_circuit = QuantumCircuit(n+1, n)\n",
    "    \n",
    "    # 初始化目标量子比特到|1⟩\n",
    "    bv_circuit.x(n)\n",
    "    \n",
    "    # 对所有量子比特应用H门\n",
    "    for qubit in range(n+1):\n",
    "        bv_circuit.h(qubit)\n",
    "    \n",
    "    # 添加Oracle\n",
    "    bv_circuit = bv_circuit.compose(oracle)\n",
    "    \n",
    "    # 再次对输入量子比特应用H门\n",
    "    for qubit in range(n):\n",
    "        bv_circuit.h(qubit)\n",
    "    \n",
    "    # 测量\n",
    "    bv_circuit.measure(range(n), range(n))\n",
    "    \n",
    "    return bv_circuit"
   ]
  },
  {
   "cell_type": "markdown",
   "id": "1688ee6b",
   "metadata": {},
   "source": [
    "执行Bernstein-Vazirani算法\n"
   ]
  },
  {
   "cell_type": "code",
   "execution_count": null,
   "id": "e0d498b6",
   "metadata": {},
   "outputs": [],
   "source": [
    "hidden_string = '101'  # 隐藏的位串\n",
    "n = len(hidden_string)\n",
    "bv_oracle_circuit = bv_oracle(hidden_string)\n",
    "bv_circuit = bernstein_vazirani_algorithm(bv_oracle_circuit, n)\n",
    "\n",
    "print(\"Bernstein-Vazirani电路:\")\n",
    "print(bv_circuit.draw())"
   ]
  },
  {
   "cell_type": "markdown",
   "id": "c332ae18",
   "metadata": {},
   "source": [
    "模拟电路执行\n"
   ]
  },
  {
   "cell_type": "code",
   "execution_count": null,
   "id": "c6bede92",
   "metadata": {},
   "outputs": [],
   "source": [
    "simulator = Aer.get_backend('qasm_simulator')\n",
    "bv_result = execute(bv_circuit, simulator, shots=1024).result()\n",
    "bv_counts = bv_result.get_counts()\n",
    "\n",
    "print(\"\\nBernstein-Vazirani结果:\")\n",
    "print(bv_counts)\n",
    "print(f\"最频繁的结果应该与隐藏位串{hidden_string}匹配\")"
   ]
  },
  {
   "cell_type": "markdown",
   "id": "eeca1967",
   "metadata": {},
   "source": [
    "3. Grover搜索算法\n"
   ]
  },
  {
   "cell_type": "code",
   "execution_count": null,
   "id": "f012c6b5",
   "metadata": {},
   "outputs": [],
   "source": [
    "print(\"\\n3. Grover搜索算法\")\n",
    "print(\"Grover算法是一种量子搜索算法，可以在O(√N)时间内在无序数据库中找到目标项\")"
   ]
  },
  {
   "cell_type": "markdown",
   "id": "abf6d82f",
   "metadata": {},
   "source": [
    "创建一个简单的Grover Oracle，标记指定的状态\n"
   ]
  },
  {
   "cell_type": "code",
   "execution_count": null,
   "id": "e65bdace",
   "metadata": {},
   "outputs": [],
   "source": [
    "def grover_oracle(marked_states, n_qubits):"
   ]
  },
  {
   "cell_type": "markdown",
   "id": "110a30cd",
   "metadata": {},
   "source": [
    "创建一个标记指定状态的Oracle\n",
    "    \n",
    "    参数:\n",
    "        marked_states (list): 要标记的状态列表，如['101']\n",
    "        n_qubits (int): 量子比特数\n",
    "    \n",
    "    返回:\n",
    "        Operator: Oracle算子"
   ]
  },
  {
   "cell_type": "code",
   "execution_count": null,
   "id": "0842175e",
   "metadata": {},
   "outputs": [],
   "source": [
    "# 创建一个零矩阵\n",
    "    oracle_matrix = np.zeros((2**n_qubits, 2**n_qubits))\n",
    "    \n",
    "    # 对角线上全部设为1\n",
    "    for i in range(2**n_qubits):\n",
    "        oracle_matrix[i, i] = 1\n",
    "    \n",
    "    # 对标记的状态反转符号\n",
    "    for state in marked_states:\n",
    "        # 将二进制字符串转换为整数\n",
    "        idx = int(state, 2)\n",
    "        oracle_matrix[idx, idx] = -1\n",
    "    \n",
    "    return Operator(oracle_matrix)"
   ]
  },
  {
   "cell_type": "markdown",
   "id": "ffed80af",
   "metadata": {},
   "source": [
    "实现Grover算法\n"
   ]
  },
  {
   "cell_type": "code",
   "execution_count": null,
   "id": "0a87abe5",
   "metadata": {},
   "outputs": [],
   "source": [
    "def grover_algorithm(oracle, n_qubits, n_iterations=1):"
   ]
  },
  {
   "cell_type": "markdown",
   "id": "6f745ed5",
   "metadata": {},
   "source": [
    "实现Grover搜索算法\n",
    "    \n",
    "    参数:\n",
    "        oracle (Operator): Oracle算子\n",
    "        n_qubits (int): 量子比特数\n",
    "        n_iterations (int): Grover迭代次数\n",
    "    \n",
    "    返回:\n",
    "        QuantumCircuit: 完整的Grover电路"
   ]
  },
  {
   "cell_type": "code",
   "execution_count": null,
   "id": "9c1d350a",
   "metadata": {},
   "outputs": [],
   "source": [
    "# 初始化电路\n",
    "    grover_circuit = QuantumCircuit(n_qubits, n_qubits)\n",
    "    \n",
    "    # 初始化为均匀叠加态\n",
    "    grover_circuit.h(range(n_qubits))\n",
    "    \n",
    "    # 实现指定次数的Grover迭代\n",
    "    for _ in range(n_iterations):\n",
    "        # 应用Oracle\n",
    "        grover_circuit.append(oracle, range(n_qubits))\n",
    "        \n",
    "        # 应用扩散算子\n",
    "        grover_circuit.h(range(n_qubits))\n",
    "        grover_circuit.x(range(n_qubits))\n",
    "        \n",
    "        # 多控制Z门\n",
    "        grover_circuit.h(n_qubits-1)\n",
    "        grover_circuit.mct(list(range(n_qubits-1)), n_qubits-1)  # 多控制Toffoli门\n",
    "        grover_circuit.h(n_qubits-1)\n",
    "        \n",
    "        grover_circuit.x(range(n_qubits))\n",
    "        grover_circuit.h(range(n_qubits))\n",
    "    \n",
    "    # 测量所有量子比特\n",
    "    grover_circuit.measure(range(n_qubits), range(n_qubits))\n",
    "    \n",
    "    return grover_circuit"
   ]
  },
  {
   "cell_type": "markdown",
   "id": "785cc5d0",
   "metadata": {},
   "source": [
    "执行Grover算法\n"
   ]
  },
  {
   "cell_type": "code",
   "execution_count": null,
   "id": "c3b8ab24",
   "metadata": {},
   "outputs": [],
   "source": [
    "n_qubits = 3\n",
    "marked_states = ['101']  # 要搜索的状态"
   ]
  },
  {
   "cell_type": "markdown",
   "id": "eda4bd46",
   "metadata": {},
   "source": [
    "计算最优迭代次数\n"
   ]
  },
  {
   "cell_type": "code",
   "execution_count": null,
   "id": "dc193038",
   "metadata": {},
   "outputs": [],
   "source": [
    "n_iterations = int(np.pi/4 * np.sqrt(2**n_qubits / len(marked_states)))\n",
    "print(f\"最优Grover迭代次数: {n_iterations}\")"
   ]
  },
  {
   "cell_type": "markdown",
   "id": "72364a90",
   "metadata": {},
   "source": [
    "创建Oracle\n"
   ]
  },
  {
   "cell_type": "code",
   "execution_count": null,
   "id": "3c411b50",
   "metadata": {},
   "outputs": [],
   "source": [
    "oracle = grover_oracle(marked_states, n_qubits)"
   ]
  },
  {
   "cell_type": "markdown",
   "id": "def01eec",
   "metadata": {},
   "source": [
    "创建并执行Grover电路\n"
   ]
  },
  {
   "cell_type": "code",
   "execution_count": null,
   "id": "17cde04b",
   "metadata": {},
   "outputs": [],
   "source": [
    "grover_circuit = grover_algorithm(oracle, n_qubits, n_iterations)\n",
    "\n",
    "print(\"Grover搜索电路:\")\n",
    "print(grover_circuit.draw())"
   ]
  },
  {
   "cell_type": "markdown",
   "id": "19b875e0",
   "metadata": {},
   "source": [
    "模拟电路执行\n"
   ]
  },
  {
   "cell_type": "code",
   "execution_count": null,
   "id": "58e16b05",
   "metadata": {},
   "outputs": [],
   "source": [
    "simulator = Aer.get_backend('qasm_simulator')\n",
    "grover_result = execute(grover_circuit, simulator, shots=1024).result()\n",
    "grover_counts = grover_result.get_counts()\n",
    "\n",
    "print(\"\\nGrover搜索结果:\")\n",
    "print(grover_counts)\n",
    "print(f\"结果应该集中在标记的状态{marked_states}上\")"
   ]
  },
  {
   "cell_type": "markdown",
   "id": "9c37027f",
   "metadata": {},
   "source": [
    "使用Qiskit的内置Grover实现\n"
   ]
  },
  {
   "cell_type": "code",
   "execution_count": null,
   "id": "f7b7662c",
   "metadata": {},
   "outputs": [],
   "source": [
    "print(\"\\n使用Qiskit内置Grover实现:\")"
   ]
  },
  {
   "cell_type": "markdown",
   "id": "0eadfcbe",
   "metadata": {},
   "source": [
    "定义要搜索的布尔函数\n"
   ]
  },
  {
   "cell_type": "code",
   "execution_count": null,
   "id": "856d8044",
   "metadata": {},
   "outputs": [],
   "source": [
    "def oracle_function(x):\n",
    "    return x == '101'"
   ]
  },
  {
   "cell_type": "markdown",
   "id": "4f3234c3",
   "metadata": {},
   "source": [
    "定义搜索问题\n"
   ]
  },
  {
   "cell_type": "code",
   "execution_count": null,
   "id": "b4484cfd",
   "metadata": {},
   "outputs": [],
   "source": [
    "problem = AmplificationProblem(\n",
    "    oracle=oracle_function,\n",
    "    state_preparation=QuantumCircuit(n_qubits).h(range(n_qubits))\n",
    ")"
   ]
  },
  {
   "cell_type": "markdown",
   "id": "36a6d04c",
   "metadata": {},
   "source": [
    "创建Grover算法实例\n"
   ]
  },
  {
   "cell_type": "code",
   "execution_count": null,
   "id": "e0816a3b",
   "metadata": {},
   "outputs": [],
   "source": [
    "grover = Grover(iterations=n_iterations)"
   ]
  },
  {
   "cell_type": "markdown",
   "id": "be20288c",
   "metadata": {},
   "source": [
    "执行Grover算法\n"
   ]
  },
  {
   "cell_type": "code",
   "execution_count": null,
   "id": "de5c4339",
   "metadata": {},
   "outputs": [],
   "source": [
    "result = grover.amplify(problem)\n",
    "print(f\"测量结果: {result.top_measurement}\")\n",
    "print(f\"成功概率: {result.assignment_probability:.4f}\")"
   ]
  },
  {
   "cell_type": "markdown",
   "id": "ce2a5162",
   "metadata": {},
   "source": [
    "4. 量子相位估计\n"
   ]
  },
  {
   "cell_type": "code",
   "execution_count": null,
   "id": "0a64dedd",
   "metadata": {},
   "outputs": [],
   "source": [
    "print(\"\\n4. 量子相位估计\")\n",
    "print(\"量子相位估计是许多量子算法的基础，如Shor算法\")"
   ]
  },
  {
   "cell_type": "markdown",
   "id": "734b58b2",
   "metadata": {},
   "source": [
    "实现量子相位估计\n"
   ]
  },
  {
   "cell_type": "code",
   "execution_count": null,
   "id": "fe817007",
   "metadata": {},
   "outputs": [],
   "source": [
    "def phase_estimation_example(phase, n_counting_qubits):"
   ]
  },
  {
   "cell_type": "markdown",
   "id": "95c4203b",
   "metadata": {},
   "source": [
    "使用量子相位估计电路估计相位\n",
    "    \n",
    "    参数:\n",
    "        phase (float): 要估计的相位 (0到1之间)\n",
    "        n_counting_qubits (int): 相位估计使用的量子比特数\n",
    "    \n",
    "    返回:\n",
    "        QuantumCircuit: 量子相位估计电路"
   ]
  },
  {
   "cell_type": "code",
   "execution_count": null,
   "id": "6d7bcc1c",
   "metadata": {},
   "outputs": [],
   "source": [
    "# 创建量子相位估计电路\n",
    "    qpe_circuit = QuantumCircuit(n_counting_qubits + 1, n_counting_qubits)\n",
    "    \n",
    "    # 准备目标量子比特的特征态 |1⟩\n",
    "    qpe_circuit.x(n_counting_qubits)\n",
    "    \n",
    "    # 对相位估计寄存器应用H门\n",
    "    for qubit in range(n_counting_qubits):\n",
    "        qpe_circuit.h(qubit)\n",
    "    \n",
    "    # 应用受控相位旋转\n",
    "    for i in range(n_counting_qubits):\n",
    "        angle = phase * 2*np.pi * 2**(n_counting_qubits-1-i)\n",
    "        qpe_circuit.cp(angle, i, n_counting_qubits)\n",
    "    \n",
    "    # 应用逆QFT\n",
    "    qpe_circuit.append(QFT(n_counting_qubits).inverse(), range(n_counting_qubits))\n",
    "    \n",
    "    # 测量相位估计寄存器\n",
    "    qpe_circuit.measure(range(n_counting_qubits), range(n_counting_qubits))\n",
    "    \n",
    "    return qpe_circuit"
   ]
  },
  {
   "cell_type": "markdown",
   "id": "1bdeb42d",
   "metadata": {},
   "source": [
    "执行量子相位估计\n"
   ]
  },
  {
   "cell_type": "code",
   "execution_count": null,
   "id": "90882966",
   "metadata": {},
   "outputs": [],
   "source": [
    "phase = 0.25  # 要估计的相位 (这里是1/4)\n",
    "n_counting_qubits = 4  # 相位估计使用的量子比特数\n",
    "\n",
    "qpe_circuit = phase_estimation_example(phase, n_counting_qubits)\n",
    "\n",
    "print(\"量子相位估计电路:\")\n",
    "print(qpe_circuit.draw())"
   ]
  },
  {
   "cell_type": "markdown",
   "id": "100554a1",
   "metadata": {},
   "source": [
    "模拟电路执行\n"
   ]
  },
  {
   "cell_type": "code",
   "execution_count": null,
   "id": "e0637fbe",
   "metadata": {},
   "outputs": [],
   "source": [
    "simulator = Aer.get_backend('qasm_simulator')\n",
    "qpe_result = execute(qpe_circuit, simulator, shots=1024).result()\n",
    "qpe_counts = qpe_result.get_counts()"
   ]
  },
  {
   "cell_type": "markdown",
   "id": "67986756",
   "metadata": {},
   "source": [
    "打印结果并分析\n"
   ]
  },
  {
   "cell_type": "code",
   "execution_count": null,
   "id": "e270b384",
   "metadata": {},
   "outputs": [],
   "source": [
    "print(\"\\n量子相位估计结果:\")\n",
    "for bitstring, count in qpe_counts.items():\n",
    "    decimal = int(bitstring, 2) / (2**n_counting_qubits)\n",
    "    print(f\"测量值: {bitstring} -> 相位估计: {decimal:.4f}, 计数: {count}\")"
   ]
  },
  {
   "cell_type": "markdown",
   "id": "9af98498",
   "metadata": {},
   "source": [
    "使用Qiskit的内置QPE实现\n"
   ]
  },
  {
   "cell_type": "code",
   "execution_count": null,
   "id": "6fa5beb6",
   "metadata": {},
   "outputs": [],
   "source": [
    "print(\"\\n使用Qiskit内置QPE实现:\")"
   ]
  },
  {
   "cell_type": "markdown",
   "id": "e0dbfe4a",
   "metadata": {},
   "source": [
    "创建一个简单的酉算子，其特征值的相位是我们要估计的\n"
   ]
  },
  {
   "cell_type": "code",
   "execution_count": null,
   "id": "7ea42bec",
   "metadata": {},
   "outputs": [],
   "source": [
    "theta = phase * 2 * np.pi\n",
    "unitary = np.array([[np.exp(1j * theta), 0], [0, np.exp(-1j * theta)]])\n",
    "u_gate = Operator(unitary)"
   ]
  },
  {
   "cell_type": "markdown",
   "id": "9328f4f0",
   "metadata": {},
   "source": [
    "创建目标状态准备电路\n"
   ]
  },
  {
   "cell_type": "code",
   "execution_count": null,
   "id": "ea9d6604",
   "metadata": {},
   "outputs": [],
   "source": [
    "state_preparation = QuantumCircuit(1)\n",
    "state_preparation.x(0)"
   ]
  },
  {
   "cell_type": "markdown",
   "id": "3554ca9e",
   "metadata": {},
   "source": [
    "创建相位估计电路\n"
   ]
  },
  {
   "cell_type": "code",
   "execution_count": null,
   "id": "07940ba8",
   "metadata": {},
   "outputs": [],
   "source": [
    "pe = PhaseEstimation(n_counting_qubits, state_preparation, u_gate)"
   ]
  },
  {
   "cell_type": "markdown",
   "id": "8127ae7b",
   "metadata": {},
   "source": [
    "执行相位估计\n"
   ]
  },
  {
   "cell_type": "code",
   "execution_count": null,
   "id": "83df4c88",
   "metadata": {},
   "outputs": [],
   "source": [
    "result = pe.run(simulator)\n",
    "print(f\"估计的相位: {result.phase}\")\n",
    "print(f\"最接近的分数: {Fraction(result.phase).limit_denominator(100)}\")"
   ]
  },
  {
   "cell_type": "markdown",
   "id": "dafba3bc",
   "metadata": {},
   "source": [
    "5. 量子傅里叶变换\n"
   ]
  },
  {
   "cell_type": "code",
   "execution_count": null,
   "id": "2de5d3d7",
   "metadata": {},
   "outputs": [],
   "source": [
    "print(\"\\n5. 量子傅里叶变换\")\n",
    "print(\"量子傅里叶变换是多个量子算法的核心组件\")"
   ]
  },
  {
   "cell_type": "markdown",
   "id": "b2d06672",
   "metadata": {},
   "source": [
    "创建QFT电路\n"
   ]
  },
  {
   "cell_type": "code",
   "execution_count": null,
   "id": "7f4b0591",
   "metadata": {},
   "outputs": [],
   "source": [
    "def create_qft_circuit(n_qubits):"
   ]
  },
  {
   "cell_type": "markdown",
   "id": "9ca1f8a6",
   "metadata": {},
   "source": [
    "创建n个量子比特的QFT电路\n",
    "    \n",
    "    参数:\n",
    "        n_qubits (int): 量子比特数\n",
    "    \n",
    "    返回:\n",
    "        QuantumCircuit: QFT电路"
   ]
  },
  {
   "cell_type": "code",
   "execution_count": null,
   "id": "3870bb1b",
   "metadata": {},
   "outputs": [],
   "source": [
    "qft_circuit = QuantumCircuit(n_qubits)\n",
    "    \n",
    "    # 实现QFT\n",
    "    for i in range(n_qubits):\n",
    "        qft_circuit.h(i)\n",
    "        for j in range(i+1, n_qubits):\n",
    "            qft_circuit.cp(np.pi/float(2**(j-i)), j, i)\n",
    "    \n",
    "    # 交换量子比特顺序\n",
    "    for i in range(n_qubits//2):\n",
    "        qft_circuit.swap(i, n_qubits-1-i)\n",
    "    \n",
    "    return qft_circuit"
   ]
  },
  {
   "cell_type": "markdown",
   "id": "c9ad03da",
   "metadata": {},
   "source": [
    "创建一个示例电路，先准备一个状态然后应用QFT\n"
   ]
  },
  {
   "cell_type": "code",
   "execution_count": null,
   "id": "fbae4b50",
   "metadata": {},
   "outputs": [],
   "source": [
    "def qft_example():"
   ]
  },
  {
   "cell_type": "markdown",
   "id": "069dea0c",
   "metadata": {},
   "source": [
    "创建一个QFT示例电路"
   ]
  },
  {
   "cell_type": "code",
   "execution_count": null,
   "id": "d8662aa2",
   "metadata": {},
   "outputs": [],
   "source": [
    "n_qubits = 3\n",
    "    \n",
    "    # 创建电路\n",
    "    qft_example_circuit = QuantumCircuit(n_qubits, n_qubits)\n",
    "    \n",
    "    # 准备一个简单的状态\n",
    "    qft_example_circuit.x(0)  # |001⟩\n",
    "    \n",
    "    # 应用QFT\n",
    "    qft = create_qft_circuit(n_qubits)\n",
    "    qft_example_circuit = qft_example_circuit.compose(qft)\n",
    "    \n",
    "    # 测量\n",
    "    qft_example_circuit.measure(range(n_qubits), range(n_qubits))\n",
    "    \n",
    "    return qft_example_circuit"
   ]
  },
  {
   "cell_type": "markdown",
   "id": "6707be37",
   "metadata": {},
   "source": [
    "执行QFT示例\n"
   ]
  },
  {
   "cell_type": "code",
   "execution_count": null,
   "id": "68552acb",
   "metadata": {},
   "outputs": [],
   "source": [
    "qft_example_circuit = qft_example()\n",
    "\n",
    "print(\"QFT示例电路:\")\n",
    "print(qft_example_circuit.draw())"
   ]
  },
  {
   "cell_type": "markdown",
   "id": "bec91f0a",
   "metadata": {},
   "source": [
    "模拟电路执行\n"
   ]
  },
  {
   "cell_type": "code",
   "execution_count": null,
   "id": "efb0044d",
   "metadata": {},
   "outputs": [],
   "source": [
    "simulator = Aer.get_backend('qasm_simulator')\n",
    "qft_result = execute(qft_example_circuit, simulator, shots=1024).result()\n",
    "qft_counts = qft_result.get_counts()\n",
    "\n",
    "print(\"\\nQFT结果:\")\n",
    "print(qft_counts)"
   ]
  },
  {
   "cell_type": "markdown",
   "id": "cccc0c21",
   "metadata": {},
   "source": [
    "使用Qiskit的内置QFT\n"
   ]
  },
  {
   "cell_type": "code",
   "execution_count": null,
   "id": "98789ab5",
   "metadata": {},
   "outputs": [],
   "source": [
    "print(\"\\n使用Qiskit内置QFT:\")\n",
    "qiskit_qft = QFT(3)\n",
    "print(qiskit_qft.draw())"
   ]
  },
  {
   "cell_type": "markdown",
   "id": "b4aa32b5",
   "metadata": {},
   "source": [
    "6. VQE (变分量子特征值求解器)\n"
   ]
  },
  {
   "cell_type": "code",
   "execution_count": null,
   "id": "f04f439a",
   "metadata": {},
   "outputs": [],
   "source": [
    "print(\"\\n6. VQE (变分量子特征值求解器)\")\n",
    "print(\"VQE是一种混合量子-经典算法，用于找到哈密顿量的最低特征值\")"
   ]
  },
  {
   "cell_type": "markdown",
   "id": "3b207de4",
   "metadata": {},
   "source": [
    "创建一个简单的哈密顿量\n"
   ]
  },
  {
   "cell_type": "code",
   "execution_count": null,
   "id": "1cdb825a",
   "metadata": {},
   "outputs": [],
   "source": [
    "hamiltonian = Z ^ I + I ^ Z + 0.5 * X ^ X\n",
    "\n",
    "print(\"哈密顿量:\")\n",
    "print(hamiltonian)"
   ]
  },
  {
   "cell_type": "markdown",
   "id": "442419b8",
   "metadata": {},
   "source": [
    "创建一个简单的变分形式\n"
   ]
  },
  {
   "cell_type": "code",
   "execution_count": null,
   "id": "7cd64f99",
   "metadata": {},
   "outputs": [],
   "source": [
    "ansatz = EfficientSU2(2, reps=1)\n",
    "\n",
    "print(\"变分形式电路:\")\n",
    "print(ansatz.draw())"
   ]
  },
  {
   "cell_type": "markdown",
   "id": "4ea8d574",
   "metadata": {},
   "source": [
    "实际的VQE实现需要经典优化器和多次测量，这里为了简化，我们手动测试一些参数\n"
   ]
  },
  {
   "cell_type": "markdown",
   "id": "3c0e0d48",
   "metadata": {},
   "source": [
    "定义一个函数来计算期望值\n"
   ]
  },
  {
   "cell_type": "code",
   "execution_count": null,
   "id": "71e5e49c",
   "metadata": {},
   "outputs": [],
   "source": [
    "def compute_expectation(parameters):"
   ]
  },
  {
   "cell_type": "markdown",
   "id": "9da15217",
   "metadata": {},
   "source": [
    "计算给定参数下的哈密顿量期望值\n",
    "    \n",
    "    参数:\n",
    "        parameters (list): 变分形式的参数\n",
    "    \n",
    "    返回:\n",
    "        float: 期望值"
   ]
  },
  {
   "cell_type": "code",
   "execution_count": null,
   "id": "59142f96",
   "metadata": {},
   "outputs": [],
   "source": [
    "# 绑定参数\n",
    "    bound_circuit = ansatz.bind_parameters(parameters)\n",
    "    \n",
    "    # 模拟电路\n",
    "    simulator = Aer.get_backend('statevector_simulator')\n",
    "    result = execute(bound_circuit, simulator).result()\n",
    "    statevector = result.get_statevector()\n",
    "    \n",
    "    # 计算哈密顿量的期望值\n",
    "    from qiskit.quantum_info import Statevector\n",
    "    sv = Statevector(statevector)\n",
    "    expectation = sv.expectation_value(hamiltonian)\n",
    "    \n",
    "    return expectation.real"
   ]
  },
  {
   "cell_type": "markdown",
   "id": "50c70ef1",
   "metadata": {},
   "source": [
    "测试一些参数\n"
   ]
  },
  {
   "cell_type": "code",
   "execution_count": null,
   "id": "3a8bb1aa",
   "metadata": {},
   "outputs": [],
   "source": [
    "test_parameters = [\n",
    "    [0, 0, 0, 0],\n",
    "    [np.pi/4, 0, 0, 0],\n",
    "    [np.pi/2, 0, 0, 0],\n",
    "    [np.pi/4, np.pi/4, 0, 0]\n",
    "]\n",
    "\n",
    "print(\"\\nVQE参数测试:\")\n",
    "for params in test_parameters:\n",
    "    exp_val = compute_expectation(params)\n",
    "    print(f\"参数: {params} -> 期望值: {exp_val:.6f}\")"
   ]
  },
  {
   "cell_type": "markdown",
   "id": "7ff3aa4b",
   "metadata": {},
   "source": [
    "7. 总结\n"
   ]
  },
  {
   "cell_type": "code",
   "execution_count": null,
   "id": "0ba99ea1",
   "metadata": {},
   "outputs": [],
   "source": [
    "print(\"\\n7. 总结\")\n",
    "print(\"1. Deutsch-Jozsa算法可以一次性判断函数是常数函数还是平衡函数\")\n",
    "print(\"2. Bernstein-Vazirani算法可以一次性找到隐藏位串\")\n",
    "print(\"3. Grover搜索算法可以在无序数据库中实现平方加速搜索\")\n",
    "print(\"4. 量子相位估计是Shor算法等高级量子算法的基础\")\n",
    "print(\"5. 量子傅里叶变换在多个量子算法中扮演关键角色\")\n",
    "print(\"6. VQE是一种混合量子-经典算法，用于解决量子化学等领域的问题\")\n",
    "\n",
    "print(\"\\n下一步学习:\")\n",
    "print(\"- 实现更复杂的量子算法，如Shor算法和HHL算法\")\n",
    "print(\"- 探索量子机器学习算法\")\n",
    "print(\"- 学习如何将实际问题映射到量子算法\")\n",
    "print(\"- 在真实量子硬件上运行量子算法\")"
   ]
  },
  {
   "cell_type": "markdown",
   "id": "9e00fd33",
   "metadata": {},
   "source": [
    "## 💡 挑战任务\n",
    "\n",
    "尝试扩展上面的练习，探索以下内容：\n",
    "1. 更改电路参数并观察结果的变化\n",
    "2. 尝试实现不同的量子态或算法\n",
    "3. 可视化更多量子测量的结果"
   ]
  }
 ],
 "metadata": {
  "kernelspec": {
   "display_name": "Python 3",
   "language": "python",
   "name": "python3"
  },
  "language_info": {
   "codemirror_mode": {
    "name": "ipython",
    "version": 3
   },
   "file_extension": ".py",
   "mimetype": "text/x-python",
   "name": "python",
   "nbconvert_exporter": "python",
   "pygments_lexer": "ipython3",
   "version": "3.9.13"
  }
 },
 "nbformat": 4,
 "nbformat_minor": 5
}

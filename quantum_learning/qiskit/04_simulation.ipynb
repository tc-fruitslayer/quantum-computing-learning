{
 "cells": [
  {
   "cell_type": "code",
   "execution_count": null,
   "id": "f6764dc8",
   "metadata": {},
   "outputs": [],
   "source": [
    "#!/usr/bin/env python\n",
    "# -*- coding: utf-8 -*-"
   ]
  },
  {
   "cell_type": "markdown",
   "id": "489d9a39",
   "metadata": {},
   "source": [
    "\n",
    "IBM Qiskit框架学习 4：模拟和测量\n",
    "本文件详细介绍Qiskit中的各种模拟器、测量方法和结果分析"
   ]
  },
  {
   "cell_type": "markdown",
   "id": "0d77c9b2",
   "metadata": {},
   "source": [
    "导入必要的库\n"
   ]
  },
  {
   "cell_type": "code",
   "execution_count": null,
   "id": "c43c135f",
   "metadata": {},
   "outputs": [],
   "source": [
    "from qiskit import QuantumCircuit, Aer, execute, transpile, assemble\n",
    "from qiskit.visualization import plot_histogram, plot_bloch_multivector, plot_state_city\n",
    "from qiskit.quantum_info import Statevector, DensityMatrix\n",
    "from qiskit.result import marginal_counts\n",
    "from qiskit.providers.aer import QasmSimulator, StatevectorSimulator, UnitarySimulator\n",
    "from qiskit.providers.aer.noise import NoiseModel\n",
    "from qiskit.providers.aer.noise.errors import pauli_error, depolarizing_error\n",
    "from qiskit.ignis.mitigation.measurement import complete_meas_cal, CompleteMeasFitter\n",
    "from qiskit.ignis.verification.tomography import state_tomography_circuits, StateTomographyFitter\n",
    "import numpy as np\n",
    "import matplotlib.pyplot as plt\n"
   ]
  },
  {
   "cell_type": "code",
   "execution_count": null,
   "id": "3b2fac38",
   "metadata": {},
   "outputs": [],
   "source": [
    "print(\"===== Qiskit模拟和测量 =====\")"
   ]
  },
  {
   "cell_type": "markdown",
   "id": "fe756298",
   "metadata": {},
   "source": [
    "1. Qiskit中的模拟器类型\n"
   ]
  },
  {
   "cell_type": "code",
   "execution_count": null,
   "id": "2f19533b",
   "metadata": {},
   "outputs": [],
   "source": [
    "print(\"\\n1. Qiskit中的模拟器类型\")\n",
    "print(\"Qiskit提供多种类型的模拟器，适合不同的模拟需求:\")\n",
    "\n",
    "print(\"\\n可用的Aer模拟器:\")\n",
    "for backend_name in Aer.backends():\n",
    "    print(f\"- {backend_name}\")"
   ]
  },
  {
   "cell_type": "markdown",
   "id": "091407d3",
   "metadata": {},
   "source": [
    "2. 状态向量模拟器\n"
   ]
  },
  {
   "cell_type": "code",
   "execution_count": null,
   "id": "fc5f11e1",
   "metadata": {},
   "outputs": [],
   "source": [
    "print(\"\\n2. 状态向量模拟器 (Statevector Simulator)\")\n",
    "print(\"此模拟器直接计算量子态的状态向量表示\")"
   ]
  },
  {
   "cell_type": "markdown",
   "id": "ed20a753",
   "metadata": {},
   "source": [
    "创建一个简单的叠加态电路\n"
   ]
  },
  {
   "cell_type": "code",
   "execution_count": null,
   "id": "9d9dd1d9",
   "metadata": {},
   "outputs": [],
   "source": [
    "bell_circuit = QuantumCircuit(2)\n",
    "bell_circuit.h(0)\n",
    "bell_circuit.cx(0, 1)"
   ]
  },
  {
   "cell_type": "markdown",
   "id": "49b6aa1a",
   "metadata": {},
   "source": [
    "使用状态向量模拟器\n"
   ]
  },
  {
   "cell_type": "code",
   "execution_count": null,
   "id": "866dfd72",
   "metadata": {},
   "outputs": [],
   "source": [
    "sv_sim = Aer.get_backend('statevector_simulator')\n",
    "result = execute(bell_circuit, sv_sim).result()\n",
    "statevector = result.get_statevector()\n",
    "\n",
    "print(\"贝尔态电路:\")\n",
    "print(bell_circuit.draw())\n",
    "print(\"\\n贝尔态的状态向量:\")\n",
    "print(statevector)"
   ]
  },
  {
   "cell_type": "markdown",
   "id": "23006efb",
   "metadata": {},
   "source": [
    "可视化状态向量\n"
   ]
  },
  {
   "cell_type": "code",
   "execution_count": null,
   "id": "d03d56ae",
   "metadata": {},
   "outputs": [],
   "source": [
    "print(\"\\n状态向量可视化（图像将保存到文件）:\")\n",
    "fig = plot_bloch_multivector(statevector)\n",
    "fig.savefig('statevector_bloch.png')\n",
    "plt.close(fig)\n",
    "\n",
    "fig = plot_state_city(statevector)\n",
    "fig.savefig('statevector_city.png')\n",
    "plt.close(fig)"
   ]
  },
  {
   "cell_type": "markdown",
   "id": "adb7e2e5",
   "metadata": {},
   "source": [
    "直接创建和操作状态向量\n"
   ]
  },
  {
   "cell_type": "code",
   "execution_count": null,
   "id": "68475f62",
   "metadata": {},
   "outputs": [],
   "source": [
    "print(\"\\n直接创建和操作状态向量:\")"
   ]
  },
  {
   "cell_type": "markdown",
   "id": "34e54cbc",
   "metadata": {},
   "source": [
    "创建|0⟩状态\n"
   ]
  },
  {
   "cell_type": "code",
   "execution_count": null,
   "id": "86bfc00e",
   "metadata": {},
   "outputs": [],
   "source": [
    "psi = Statevector.from_label('0')\n",
    "print(f\"|0⟩状态向量: {psi}\")"
   ]
  },
  {
   "cell_type": "markdown",
   "id": "64b17816",
   "metadata": {},
   "source": [
    "应用Hadamard门\n"
   ]
  },
  {
   "cell_type": "code",
   "execution_count": null,
   "id": "3a4b33c4",
   "metadata": {},
   "outputs": [],
   "source": [
    "psi = psi.evolve(bell_circuit)\n",
    "print(f\"应用Bell电路后的状态向量: {psi}\")"
   ]
  },
  {
   "cell_type": "markdown",
   "id": "766bfe2e",
   "metadata": {},
   "source": [
    "3. QASM模拟器\n"
   ]
  },
  {
   "cell_type": "code",
   "execution_count": null,
   "id": "18950783",
   "metadata": {},
   "outputs": [],
   "source": [
    "print(\"\\n3. QASM模拟器 (QASM Simulator)\")\n",
    "print(\"此模拟器执行量子电路的多次测量，模拟真实量子计算机的行为\")"
   ]
  },
  {
   "cell_type": "markdown",
   "id": "73258b6e",
   "metadata": {},
   "source": [
    "创建带测量的贝尔态电路\n"
   ]
  },
  {
   "cell_type": "code",
   "execution_count": null,
   "id": "47784464",
   "metadata": {},
   "outputs": [],
   "source": [
    "meas_bell = QuantumCircuit(2, 2)\n",
    "meas_bell.h(0)\n",
    "meas_bell.cx(0, 1)\n",
    "meas_bell.measure([0, 1], [0, 1])\n",
    "\n",
    "print(\"带测量的贝尔态电路:\")\n",
    "print(meas_bell.draw())"
   ]
  },
  {
   "cell_type": "markdown",
   "id": "45228ca6",
   "metadata": {},
   "source": [
    "使用QASM模拟器执行\n"
   ]
  },
  {
   "cell_type": "code",
   "execution_count": null,
   "id": "11b333ec",
   "metadata": {},
   "outputs": [],
   "source": [
    "qasm_sim = Aer.get_backend('qasm_simulator')\n",
    "shots = 1024\n",
    "qasm_job = execute(meas_bell, qasm_sim, shots=shots)\n",
    "qasm_result = qasm_job.result()\n",
    "counts = qasm_result.get_counts()\n",
    "\n",
    "print(f\"\\n用{shots}次测量得到的计数结果:\")\n",
    "print(counts)"
   ]
  },
  {
   "cell_type": "markdown",
   "id": "b0330e7c",
   "metadata": {},
   "source": [
    "可视化计数结果\n"
   ]
  },
  {
   "cell_type": "code",
   "execution_count": null,
   "id": "b295e1e6",
   "metadata": {},
   "outputs": [],
   "source": [
    "print(\"\\n计数结果的可视化（图像将保存到文件）:\")\n",
    "fig = plot_histogram(counts)\n",
    "fig.savefig('qasm_counts_histogram.png')\n",
    "plt.close(fig)"
   ]
  },
  {
   "cell_type": "markdown",
   "id": "821e6e7a",
   "metadata": {},
   "source": [
    "4. 酉模拟器\n"
   ]
  },
  {
   "cell_type": "code",
   "execution_count": null,
   "id": "1b0e0528",
   "metadata": {},
   "outputs": [],
   "source": [
    "print(\"\\n4. 酉模拟器 (Unitary Simulator)\")\n",
    "print(\"此模拟器计算电路的酉矩阵表示\")"
   ]
  },
  {
   "cell_type": "markdown",
   "id": "d9fe4848",
   "metadata": {},
   "source": [
    "使用酉模拟器\n"
   ]
  },
  {
   "cell_type": "code",
   "execution_count": null,
   "id": "45b84ffb",
   "metadata": {},
   "outputs": [],
   "source": [
    "unit_sim = Aer.get_backend('unitary_simulator')\n",
    "unit_result = execute(bell_circuit, unit_sim).result()\n",
    "unitary = unit_result.get_unitary()\n",
    "\n",
    "print(\"贝尔态电路的酉矩阵表示:\")\n",
    "print(unitary)"
   ]
  },
  {
   "cell_type": "markdown",
   "id": "aeb34f9a",
   "metadata": {},
   "source": [
    "5. 扩展的QASM模拟器功能\n"
   ]
  },
  {
   "cell_type": "code",
   "execution_count": null,
   "id": "69758fda",
   "metadata": {},
   "outputs": [],
   "source": [
    "print(\"\\n5. 扩展的QASM模拟器功能\")\n",
    "print(\"QASM模拟器提供了多种高级功能，如噪声模拟和保存额外数据\")"
   ]
  },
  {
   "cell_type": "markdown",
   "id": "4d65491d",
   "metadata": {},
   "source": [
    "创建一个更复杂的电路\n"
   ]
  },
  {
   "cell_type": "code",
   "execution_count": null,
   "id": "5b932f85",
   "metadata": {},
   "outputs": [],
   "source": [
    "complex_circuit = QuantumCircuit(3, 3)\n",
    "complex_circuit.h(0)\n",
    "complex_circuit.cx(0, 1)\n",
    "complex_circuit.cx(0, 2)\n",
    "complex_circuit.measure([0, 1, 2], [0, 1, 2])\n",
    "\n",
    "print(\"GHZ状态电路:\")\n",
    "print(complex_circuit.draw())"
   ]
  },
  {
   "cell_type": "markdown",
   "id": "930de062",
   "metadata": {},
   "source": [
    "使用高级选项运行QASM模拟器\n"
   ]
  },
  {
   "cell_type": "code",
   "execution_count": null,
   "id": "4af72ced",
   "metadata": {},
   "outputs": [],
   "source": [
    "aer_sim = Aer.get_backend('aer_simulator')\n",
    "options = {\n",
    "    \"method\": \"statevector\",\n",
    "    \"device\": \"CPU\",\n",
    "    \"shots\": 1024,\n",
    "    \"save_state\": True  # 保存最终状态\n",
    "}\n",
    "\n",
    "aer_result = execute(complex_circuit, aer_sim, **options).result()\n",
    "aer_counts = aer_result.get_counts()\n",
    "\n",
    "print(f\"\\nGHZ状态的测量结果:\")\n",
    "print(aer_counts)"
   ]
  },
  {
   "cell_type": "markdown",
   "id": "195bf6c8",
   "metadata": {},
   "source": [
    "6. 部分测量和边缘计数\n"
   ]
  },
  {
   "cell_type": "code",
   "execution_count": null,
   "id": "929ea536",
   "metadata": {},
   "outputs": [],
   "source": [
    "print(\"\\n6. 部分测量和边缘计数\")\n",
    "print(\"可以对特定的量子比特子集进行测量或计算边缘分布\")"
   ]
  },
  {
   "cell_type": "markdown",
   "id": "9da4066c",
   "metadata": {},
   "source": [
    "创建一个3量子比特电路\n"
   ]
  },
  {
   "cell_type": "code",
   "execution_count": null,
   "id": "4c87e8f7",
   "metadata": {},
   "outputs": [],
   "source": [
    "three_qubits = QuantumCircuit(3, 3)\n",
    "three_qubits.h(0)\n",
    "three_qubits.cx(0, 1)\n",
    "three_qubits.cx(1, 2)\n",
    "three_qubits.measure([0, 1, 2], [0, 1, 2])"
   ]
  },
  {
   "cell_type": "markdown",
   "id": "c7abaeb5",
   "metadata": {},
   "source": [
    "运行模拟器\n"
   ]
  },
  {
   "cell_type": "code",
   "execution_count": null,
   "id": "167147fa",
   "metadata": {},
   "outputs": [],
   "source": [
    "result = execute(three_qubits, qasm_sim, shots=1024).result()\n",
    "counts = result.get_counts()\n",
    "\n",
    "print(\"3量子比特电路测量结果:\")\n",
    "print(counts)"
   ]
  },
  {
   "cell_type": "markdown",
   "id": "cfa880b5",
   "metadata": {},
   "source": [
    "计算0和1量子比特的边缘分布\n"
   ]
  },
  {
   "cell_type": "code",
   "execution_count": null,
   "id": "795e9982",
   "metadata": {},
   "outputs": [],
   "source": [
    "marginal_01 = marginal_counts(counts, [0, 1])\n",
    "print(\"\\n量子比特0和1的边缘分布:\")\n",
    "print(marginal_01)"
   ]
  },
  {
   "cell_type": "markdown",
   "id": "ee5bedec",
   "metadata": {},
   "source": [
    "计算量子比特2的边缘分布\n"
   ]
  },
  {
   "cell_type": "code",
   "execution_count": null,
   "id": "e64bcb09",
   "metadata": {},
   "outputs": [],
   "source": [
    "marginal_2 = marginal_counts(counts, [2])\n",
    "print(\"\\n量子比特2的边缘分布:\")\n",
    "print(marginal_2)"
   ]
  },
  {
   "cell_type": "markdown",
   "id": "3ac94224",
   "metadata": {},
   "source": [
    "7. 密度矩阵模拟\n"
   ]
  },
  {
   "cell_type": "code",
   "execution_count": null,
   "id": "a21c3c06",
   "metadata": {},
   "outputs": [],
   "source": [
    "print(\"\\n7. 密度矩阵模拟\")\n",
    "print(\"密度矩阵可以表示混合状态，对于噪声模拟很有用\")"
   ]
  },
  {
   "cell_type": "markdown",
   "id": "6ef92320",
   "metadata": {},
   "source": [
    "创建一个纯态的密度矩阵\n"
   ]
  },
  {
   "cell_type": "code",
   "execution_count": null,
   "id": "119c6ca8",
   "metadata": {},
   "outputs": [],
   "source": [
    "bell_statevector = Statevector.from_instruction(bell_circuit)\n",
    "bell_dm = DensityMatrix(bell_statevector)\n",
    "\n",
    "print(\"贝尔态的密度矩阵:\")\n",
    "print(bell_dm)"
   ]
  },
  {
   "cell_type": "markdown",
   "id": "81a244a4",
   "metadata": {},
   "source": [
    "模拟退相干噪声\n"
   ]
  },
  {
   "cell_type": "code",
   "execution_count": null,
   "id": "cf41036d",
   "metadata": {},
   "outputs": [],
   "source": [
    "noisy_dm = bell_dm.evolve(pauli_error([('X', 0.1), ('I', 0.9)]), qargs=[0])\n",
    "print(\"\\n施加退相干噪声后的密度矩阵:\")\n",
    "print(noisy_dm)"
   ]
  },
  {
   "cell_type": "markdown",
   "id": "f194932f",
   "metadata": {},
   "source": [
    "8. 噪声模拟\n"
   ]
  },
  {
   "cell_type": "code",
   "execution_count": null,
   "id": "88d08b0d",
   "metadata": {},
   "outputs": [],
   "source": [
    "print(\"\\n8. 噪声模拟\")\n",
    "print(\"Qiskit Aer支持各种噪声模型，可以模拟真实量子计算机的噪声\")"
   ]
  },
  {
   "cell_type": "markdown",
   "id": "565c63d2",
   "metadata": {},
   "source": [
    "创建一个简单的噪声模型\n"
   ]
  },
  {
   "cell_type": "code",
   "execution_count": null,
   "id": "2dce6fbe",
   "metadata": {},
   "outputs": [],
   "source": [
    "noise_model = NoiseModel()"
   ]
  },
  {
   "cell_type": "markdown",
   "id": "c99b48fe",
   "metadata": {},
   "source": [
    "添加单量子比特去极化噪声\n"
   ]
  },
  {
   "cell_type": "code",
   "execution_count": null,
   "id": "e9d8b5ed",
   "metadata": {},
   "outputs": [],
   "source": [
    "p1q = 0.05  # 单量子比特噪声概率\n",
    "error1 = depolarizing_error(p1q, 1)\n",
    "noise_model.add_all_qubit_quantum_error(error1, ['u1', 'u2', 'u3'])"
   ]
  },
  {
   "cell_type": "markdown",
   "id": "efea26fb",
   "metadata": {},
   "source": [
    "添加双量子比特去极化噪声\n"
   ]
  },
  {
   "cell_type": "code",
   "execution_count": null,
   "id": "1a343fd6",
   "metadata": {},
   "outputs": [],
   "source": [
    "p2q = 0.1  # 双量子比特噪声概率\n",
    "error2 = depolarizing_error(p2q, 2)\n",
    "noise_model.add_all_qubit_quantum_error(error2, ['cx'])\n",
    "\n",
    "print(\"噪声模型:\")\n",
    "print(noise_model)"
   ]
  },
  {
   "cell_type": "markdown",
   "id": "12209fa3",
   "metadata": {},
   "source": [
    "使用噪声模型运行电路\n"
   ]
  },
  {
   "cell_type": "code",
   "execution_count": null,
   "id": "f5553006",
   "metadata": {},
   "outputs": [],
   "source": [
    "noisy_result = execute(meas_bell, \n",
    "                        qasm_sim, \n",
    "                        noise_model=noise_model, \n",
    "                        shots=1024).result()\n",
    "noisy_counts = noisy_result.get_counts()\n",
    "\n",
    "print(\"\\n无噪声测量结果:\")\n",
    "print(counts)\n",
    "print(\"\\n有噪声测量结果:\")\n",
    "print(noisy_counts)"
   ]
  },
  {
   "cell_type": "markdown",
   "id": "97d2f146",
   "metadata": {},
   "source": [
    "可视化对比\n"
   ]
  },
  {
   "cell_type": "code",
   "execution_count": null,
   "id": "e02fb98a",
   "metadata": {},
   "outputs": [],
   "source": [
    "print(\"\\n无噪声vs有噪声结果对比（图像将保存到文件）:\")\n",
    "fig = plot_histogram([counts, noisy_counts], \n",
    "                     legend=['无噪声', '有噪声'])\n",
    "fig.savefig('noise_comparison.png')\n",
    "plt.close(fig)"
   ]
  },
  {
   "cell_type": "markdown",
   "id": "28212c6b",
   "metadata": {},
   "source": [
    "9. 测量误差缓解\n"
   ]
  },
  {
   "cell_type": "code",
   "execution_count": null,
   "id": "3efed682",
   "metadata": {},
   "outputs": [],
   "source": [
    "print(\"\\n9. 测量误差缓解\")\n",
    "print(\"Qiskit提供了测量误差缓解技术，可以减轻测量过程中的误差\")"
   ]
  },
  {
   "cell_type": "markdown",
   "id": "c40947bd",
   "metadata": {},
   "source": [
    "创建一个简单的电路用于校准\n"
   ]
  },
  {
   "cell_type": "code",
   "execution_count": null,
   "id": "b26526c8",
   "metadata": {},
   "outputs": [],
   "source": [
    "qr = QuantumCircuit(2)\n",
    "meas_calibs, state_labels = complete_meas_cal(qr=qr, circlabel='mcal')"
   ]
  },
  {
   "cell_type": "markdown",
   "id": "8b3cb12b",
   "metadata": {},
   "source": [
    "运行校准电路\n"
   ]
  },
  {
   "cell_type": "code",
   "execution_count": null,
   "id": "e068b418",
   "metadata": {},
   "outputs": [],
   "source": [
    "calibration_result = execute(meas_calibs, qasm_sim, \n",
    "                            shots=1024, \n",
    "                            noise_model=noise_model).result()"
   ]
  },
  {
   "cell_type": "markdown",
   "id": "a296434a",
   "metadata": {},
   "source": [
    "创建校准矩阵\n"
   ]
  },
  {
   "cell_type": "code",
   "execution_count": null,
   "id": "a050f034",
   "metadata": {},
   "outputs": [],
   "source": [
    "meas_fitter = CompleteMeasFitter(calibration_result, state_labels, circlabel='mcal')\n",
    "print(\"测量校准矩阵:\")\n",
    "print(meas_fitter.cal_matrix)"
   ]
  },
  {
   "cell_type": "markdown",
   "id": "91dde954",
   "metadata": {},
   "source": [
    "运行带噪声的电路\n"
   ]
  },
  {
   "cell_type": "code",
   "execution_count": null,
   "id": "1bf8991f",
   "metadata": {},
   "outputs": [],
   "source": [
    "noisy_result = execute(meas_bell, qasm_sim, \n",
    "                      shots=1024, \n",
    "                      noise_model=noise_model).result()\n",
    "noisy_counts = noisy_result.get_counts()"
   ]
  },
  {
   "cell_type": "markdown",
   "id": "cce8ee2e",
   "metadata": {},
   "source": [
    "应用误差缓解\n"
   ]
  },
  {
   "cell_type": "code",
   "execution_count": null,
   "id": "2abdba72",
   "metadata": {},
   "outputs": [],
   "source": [
    "mitigated_result = meas_fitter.filter.apply(noisy_result)\n",
    "mitigated_counts = mitigated_result.get_counts()\n",
    "\n",
    "print(\"\\n无噪声结果:\")\n",
    "print(counts)\n",
    "print(\"\\n噪声结果:\")\n",
    "print(noisy_counts)\n",
    "print(\"\\n误差缓解后结果:\")\n",
    "print(mitigated_counts)"
   ]
  },
  {
   "cell_type": "markdown",
   "id": "eddc7ffa",
   "metadata": {},
   "source": [
    "10. 量子态层析\n"
   ]
  },
  {
   "cell_type": "code",
   "execution_count": null,
   "id": "99f8761b",
   "metadata": {},
   "outputs": [],
   "source": [
    "print(\"\\n10. 量子态层析\")\n",
    "print(\"量子态层析是一种重构量子态的技术，通过多种基测量来估计量子态\")"
   ]
  },
  {
   "cell_type": "markdown",
   "id": "787e9b16",
   "metadata": {},
   "source": [
    "创建一个量子态\n"
   ]
  },
  {
   "cell_type": "code",
   "execution_count": null,
   "id": "a877d166",
   "metadata": {},
   "outputs": [],
   "source": [
    "state_circuit = QuantumCircuit(2)\n",
    "state_circuit.h(0)\n",
    "state_circuit.cx(0, 1)"
   ]
  },
  {
   "cell_type": "markdown",
   "id": "b097043a",
   "metadata": {},
   "source": [
    "生成层析电路\n"
   ]
  },
  {
   "cell_type": "code",
   "execution_count": null,
   "id": "a04be024",
   "metadata": {},
   "outputs": [],
   "source": [
    "qst_circuits = state_tomography_circuits(state_circuit, [0, 1])\n",
    "print(f\"层析需要{len(qst_circuits)}个电路\")"
   ]
  },
  {
   "cell_type": "markdown",
   "id": "cd4c3e69",
   "metadata": {},
   "source": [
    "执行层析电路\n"
   ]
  },
  {
   "cell_type": "code",
   "execution_count": null,
   "id": "8e4d5fef",
   "metadata": {},
   "outputs": [],
   "source": [
    "job = execute(qst_circuits, qasm_sim, shots=1024)\n",
    "qst_result = job.result()"
   ]
  },
  {
   "cell_type": "markdown",
   "id": "a86c0196",
   "metadata": {},
   "source": [
    "重构密度矩阵\n"
   ]
  },
  {
   "cell_type": "code",
   "execution_count": null,
   "id": "380cf8d6",
   "metadata": {},
   "outputs": [],
   "source": [
    "tomo_fitter = StateTomographyFitter(qst_result, qst_circuits)\n",
    "rho_fit = tomo_fitter.fit(method='lstsq')\n",
    "\n",
    "print(\"\\n通过层析重构的密度矩阵:\")\n",
    "print(rho_fit)"
   ]
  },
  {
   "cell_type": "markdown",
   "id": "cf1b33a7",
   "metadata": {},
   "source": [
    "理论密度矩阵\n"
   ]
  },
  {
   "cell_type": "code",
   "execution_count": null,
   "id": "3d596762",
   "metadata": {},
   "outputs": [],
   "source": [
    "expected_rho = DensityMatrix.from_instruction(state_circuit)\n",
    "print(\"\\n理论密度矩阵:\")\n",
    "print(expected_rho)"
   ]
  },
  {
   "cell_type": "markdown",
   "id": "437564e8",
   "metadata": {},
   "source": [
    "计算保真度\n"
   ]
  },
  {
   "cell_type": "code",
   "execution_count": null,
   "id": "5302c0e4",
   "metadata": {},
   "outputs": [],
   "source": [
    "fidelity = expected_rho.fidelity(rho_fit)\n",
    "print(f\"\\n保真度: {fidelity}\")"
   ]
  },
  {
   "cell_type": "markdown",
   "id": "ea0c7a8f",
   "metadata": {},
   "source": [
    "11. 总结\n"
   ]
  },
  {
   "cell_type": "code",
   "execution_count": null,
   "id": "314cfcc8",
   "metadata": {},
   "outputs": [],
   "source": [
    "print(\"\\n11. 总结\")\n",
    "print(\"1. Qiskit提供多种模拟器，包括状态向量、QASM和酉模拟器\")\n",
    "print(\"2. 可以通过测量获得量子电路的概率分布\")\n",
    "print(\"3. 可以使用噪声模型模拟真实量子计算机中的错误\")\n",
    "print(\"4. 提供测量误差缓解技术来减轻测量误差\")\n",
    "print(\"5. 支持量子态层析来重构量子态\")\n",
    "print(\"6. 可以使用密度矩阵表示纯态和混合态\")\n",
    "print(\"7. 提供丰富的可视化工具来分析模拟结果\")\n",
    "\n",
    "print(\"\\n下一步学习:\")\n",
    "print(\"- 实现具体的量子算法\")\n",
    "print(\"- 在真实量子设备上运行电路\")\n",
    "print(\"- 学习更高级的量子错误校正技术\")\n",
    "print(\"- 探索量子机器学习应用\")"
   ]
  },
  {
   "cell_type": "markdown",
   "id": "5c8ae239",
   "metadata": {},
   "source": [
    "## 💡 挑战任务\n",
    "\n",
    "尝试扩展上面的练习，探索以下内容：\n",
    "1. 更改电路参数并观察结果的变化\n",
    "2. 尝试实现不同的量子态或算法\n",
    "3. 可视化更多量子测量的结果"
   ]
  }
 ],
 "metadata": {
  "kernelspec": {
   "display_name": "Python 3",
   "language": "python",
   "name": "python3"
  },
  "language_info": {
   "codemirror_mode": {
    "name": "ipython",
    "version": 3
   },
   "file_extension": ".py",
   "mimetype": "text/x-python",
   "name": "python",
   "nbconvert_exporter": "python",
   "pygments_lexer": "ipython3",
   "version": "3.9.13"
  }
 },
 "nbformat": 4,
 "nbformat_minor": 5
}

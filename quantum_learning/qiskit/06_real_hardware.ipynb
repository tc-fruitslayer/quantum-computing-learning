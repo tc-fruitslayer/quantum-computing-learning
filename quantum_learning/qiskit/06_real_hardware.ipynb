{
 "cells": [
  {
   "cell_type": "code",
   "execution_count": null,
   "id": "0a453fd8",
   "metadata": {},
   "outputs": [],
   "source": [
    "#!/usr/bin/env python\n",
    "# -*- coding: utf-8 -*-"
   ]
  },
  {
   "cell_type": "markdown",
   "id": "0db0cb1a",
   "metadata": {},
   "source": [
    "\n",
    "IBM Qiskit框架学习 6：在真实量子硬件上运行\n",
    "本文件详细介绍如何连接IBM量子计算机、提交作业和分析结果"
   ]
  },
  {
   "cell_type": "markdown",
   "id": "ab1a9a20",
   "metadata": {},
   "source": [
    "导入必要的库\n"
   ]
  },
  {
   "cell_type": "code",
   "execution_count": null,
   "id": "441aa5bf",
   "metadata": {},
   "outputs": [],
   "source": [
    "from qiskit import QuantumCircuit, Aer, IBMQ, execute, transpile\n",
    "from qiskit.providers.ibmq import least_busy\n",
    "from qiskit.visualization import plot_histogram, plot_gate_map, plot_error_map\n",
    "from qiskit.tools.monitor import job_monitor\n",
    "from qiskit.tools.visualization import plot_histogram\n",
    "import matplotlib.pyplot as plt\n",
    "import numpy as np\n",
    "import time\n"
   ]
  },
  {
   "cell_type": "code",
   "execution_count": null,
   "id": "a34e77ce",
   "metadata": {},
   "outputs": [],
   "source": [
    "print(\"===== 在真实量子硬件上运行 =====\")"
   ]
  },
  {
   "cell_type": "markdown",
   "id": "4053502e",
   "metadata": {},
   "source": [
    "1. 连接到IBM Quantum Experience\n"
   ]
  },
  {
   "cell_type": "code",
   "execution_count": null,
   "id": "cd3dc414",
   "metadata": {},
   "outputs": [],
   "source": [
    "print(\"\\n1. 连接到IBM Quantum Experience\")\n",
    "print(\"要使用真实量子设备，首先需要连接到IBM Quantum Experience\")\n",
    "\n",
    "print(\"连接到IBM Quantum Experience需要API密钥。您可以在https://quantum-computing.ibm.com/获取API密钥。\")\n",
    "print(\"首次使用时需要保存API密钥:\")\n",
    "print(\"IBMQ.save_account('YOUR_API_KEY')\")"
   ]
  },
  {
   "cell_type": "markdown",
   "id": "30c3af42",
   "metadata": {},
   "source": [
    "注释掉实际加载账户的代码，以避免执行错误\n",
    "取消注释下面的代码并替换为您的API密钥来实际运行\n"
   ]
  },
  {
   "cell_type": "code",
   "execution_count": null,
   "id": "ae9a8f7a",
   "metadata": {},
   "outputs": [],
   "source": [
    "print(\"\\n加载已保存的账户:\")\n",
    "print(\"IBMQ.load_account()\")"
   ]
  },
  {
   "cell_type": "markdown",
   "id": "b7a392e5",
   "metadata": {},
   "source": [
    "模拟加载账户\n"
   ]
  },
  {
   "cell_type": "code",
   "execution_count": null,
   "id": "0c40d733",
   "metadata": {},
   "outputs": [],
   "source": [
    "print(\"\\n模拟连接到IBM Quantum Experience...\")\n",
    "print(\"成功连接到IBM Quantum Experience!\")"
   ]
  },
  {
   "cell_type": "markdown",
   "id": "e957c9af",
   "metadata": {},
   "source": [
    "> **练习提示:**\n",
    "> 在上面的代码单元格中完成实现。可以使用`?`查看相关函数的文档，例如`qml.Hadamard?`。"
   ]
  },
  {
   "cell_type": "markdown",
   "id": "e8a25c98",
   "metadata": {},
   "source": [
    "2. 探索可用的量子后端\n"
   ]
  },
  {
   "cell_type": "code",
   "execution_count": null,
   "id": "bf01020a",
   "metadata": {},
   "outputs": [],
   "source": [
    "print(\"\\n2. 探索可用的量子后端\")\n",
    "print(\"IBM提供多种量子设备和模拟器，每个具有不同的性能和特性\")"
   ]
  },
  {
   "cell_type": "markdown",
   "id": "4710a2b2",
   "metadata": {},
   "source": [
    "模拟获取可用的后端\n"
   ]
  },
  {
   "cell_type": "code",
   "execution_count": null,
   "id": "6e1d7244",
   "metadata": {},
   "outputs": [],
   "source": [
    "print(\"获取可用的IBM量子后端...\")\n",
    "print(\"\\n模拟IBM量子后端列表:\")\n",
    "print(\"- ibmq_qasm_simulator (模拟器, 32量子比特)\")\n",
    "print(\"- ibmq_armonk (真实量子计算机, 1量子比特)\")\n",
    "print(\"- ibm_nairobi (真实量子计算机, 7量子比特)\")\n",
    "print(\"- ibm_oslo (真实量子计算机, 7量子比特)\")\n",
    "print(\"- ibm_cairo (真实量子计算机, 27量子比特)\")\n",
    "print(\"- ibm_brisbane (真实量子计算机, 127量子比特)\")"
   ]
  },
  {
   "cell_type": "markdown",
   "id": "abce0137",
   "metadata": {},
   "source": [
    "> **练习提示:**\n",
    "> 在上面的代码单元格中完成实现。可以使用`?`查看相关函数的文档，例如`qml.Hadamard?`。"
   ]
  },
  {
   "cell_type": "markdown",
   "id": "c22ac1bc",
   "metadata": {},
   "source": [
    "3. 了解设备特性\n"
   ]
  },
  {
   "cell_type": "code",
   "execution_count": null,
   "id": "fe841826",
   "metadata": {},
   "outputs": [],
   "source": [
    "print(\"\\n3. 了解设备特性\")\n",
    "print(\"在选择后端时，需要考虑量子比特数量、连接性、错误率等特性\")"
   ]
  },
  {
   "cell_type": "markdown",
   "id": "4cd20667",
   "metadata": {},
   "source": [
    "模拟获取后端的属性\n"
   ]
  },
  {
   "cell_type": "code",
   "execution_count": null,
   "id": "57df7dc8",
   "metadata": {},
   "outputs": [],
   "source": [
    "print(\"\\n查看后端属性 (模拟 'ibm_nairobi' 数据):\")\n",
    "print(\"- 量子比特数量: 7\")\n",
    "print(\"- 量子比特连接图: 链式连接\")\n",
    "print(\"- 单量子比特门错误率: ~0.1%\")\n",
    "print(\"- 双量子比特门错误率: ~1%\")\n",
    "print(\"- T1/T2 相干时间: ~100μs\")\n",
    "print(\"- 最大电路深度: 75\")"
   ]
  },
  {
   "cell_type": "markdown",
   "id": "065576f2",
   "metadata": {},
   "source": [
    "模拟错误图和连接图\n"
   ]
  },
  {
   "cell_type": "code",
   "execution_count": null,
   "id": "467c1936",
   "metadata": {},
   "outputs": [],
   "source": [
    "print(\"\\n可使用以下命令绘制设备错误图和连接图 (需要实际连接):\")\n",
    "print(\"plot_error_map(backend)\")\n",
    "print(\"plot_gate_map(backend)\")"
   ]
  },
  {
   "cell_type": "markdown",
   "id": "b392619e",
   "metadata": {},
   "source": [
    "4. 创建适合真实硬件的电路\n"
   ]
  },
  {
   "cell_type": "code",
   "execution_count": null,
   "id": "9cab9a2c",
   "metadata": {},
   "outputs": [],
   "source": [
    "print(\"\\n4. 创建适合真实硬件的电路\")\n",
    "print(\"为了在真实设备上运行，需要确保电路符合设备的限制\")"
   ]
  },
  {
   "cell_type": "markdown",
   "id": "f9a77a67",
   "metadata": {},
   "source": [
    "创建一个简单的Bell状态电路\n"
   ]
  },
  {
   "cell_type": "code",
   "execution_count": null,
   "id": "3cda74e9",
   "metadata": {},
   "outputs": [],
   "source": [
    "bell_circuit = QuantumCircuit(2, 2)\n",
    "bell_circuit.h(0)\n",
    "bell_circuit.cx(0, 1)\n",
    "bell_circuit.measure([0, 1], [0, 1])\n",
    "\n",
    "print(\"Bell状态电路:\")\n",
    "print(bell_circuit.draw())"
   ]
  },
  {
   "cell_type": "markdown",
   "id": "3cff821e",
   "metadata": {},
   "source": [
    "5. 为目标后端转译电路\n"
   ]
  },
  {
   "cell_type": "code",
   "execution_count": null,
   "id": "cc164091",
   "metadata": {},
   "outputs": [],
   "source": [
    "print(\"\\n5. 为目标后端转译电路\")\n",
    "print(\"在提交到真实设备前，需要将电路转译为设备支持的门集\")"
   ]
  },
  {
   "cell_type": "markdown",
   "id": "939d9bcd",
   "metadata": {},
   "source": [
    "模拟获取设备信息并转译\n"
   ]
  },
  {
   "cell_type": "code",
   "execution_count": null,
   "id": "eb2119f5",
   "metadata": {},
   "outputs": [],
   "source": [
    "print(\"\\n模拟转译电路...\")\n",
    "print(\"转译后的电路将会:\")\n",
    "print(\"- 映射到设备的物理量子比特\")\n",
    "print(\"- 分解为设备支持的基本门集\")\n",
    "print(\"- 优化以减少深度和门数量\")"
   ]
  },
  {
   "cell_type": "markdown",
   "id": "091d1b1f",
   "metadata": {},
   "source": [
    "> **练习提示:**\n",
    "> 在上面的代码单元格中完成实现。可以使用`?`查看相关函数的文档，例如`qml.Hadamard?`。"
   ]
  },
  {
   "cell_type": "markdown",
   "id": "4a96a291",
   "metadata": {},
   "source": [
    "6. 向实际设备提交作业\n"
   ]
  },
  {
   "cell_type": "code",
   "execution_count": null,
   "id": "e76d49ff",
   "metadata": {},
   "outputs": [],
   "source": [
    "print(\"\\n6. 向实际设备提交作业\")\n",
    "print(\"将电路提交到真实量子计算机后，需要等待排队并获取结果\")"
   ]
  },
  {
   "cell_type": "markdown",
   "id": "f53a3cd1",
   "metadata": {},
   "source": [
    "提交作业的代码演示\n"
   ]
  },
  {
   "cell_type": "code",
   "execution_count": null,
   "id": "b20738cd",
   "metadata": {},
   "outputs": [],
   "source": [
    "print(\"\\n提交作业到真实设备的代码 (不会实际运行):\")\n",
    "print("
   ]
  },
  {
   "cell_type": "markdown",
   "id": "0bceb63e",
   "metadata": {},
   "source": [
    "\n",
    "# 选择后端\n",
    "provider = IBMQ.get_provider(hub='ibm-q')\n",
    "backend = provider.get_backend('ibm_nairobi')\n",
    "\n",
    "# 转译电路\n",
    "transpiled_circuit = transpile(bell_circuit, backend=backend, optimization_level=3)\n",
    "\n",
    "# 提交作业\n",
    "job = execute(transpiled_circuit, backend=backend, shots=1024)\n",
    "\n",
    "# 监控作业状态\n",
    "job_monitor(job)\n",
    "\n",
    "# 获取结果\n",
    "result = job.result()\n",
    "counts = result.get_counts()\n",
    "plot_histogram(counts)"
   ]
  },
  {
   "cell_type": "markdown",
   "id": "98446b77",
   "metadata": {},
   "source": [
    "选择后端\n"
   ]
  },
  {
   "cell_type": "code",
   "execution_count": null,
   "id": "3bfcf5b8",
   "metadata": {},
   "outputs": [],
   "source": [
    "provider = IBMQ.get_provider(hub='ibm-q')\n",
    "backend = provider.get_backend('ibm_nairobi')"
   ]
  },
  {
   "cell_type": "markdown",
   "id": "903be253",
   "metadata": {},
   "source": [
    "转译电路\n"
   ]
  },
  {
   "cell_type": "code",
   "execution_count": null,
   "id": "2c5a37c6",
   "metadata": {},
   "outputs": [],
   "source": [
    "transpiled_circuit = transpile(bell_circuit, backend=backend, optimization_level=3)"
   ]
  },
  {
   "cell_type": "markdown",
   "id": "39c855d0",
   "metadata": {},
   "source": [
    "提交作业\n"
   ]
  },
  {
   "cell_type": "code",
   "execution_count": null,
   "id": "8999df71",
   "metadata": {},
   "outputs": [],
   "source": [
    "job = execute(transpiled_circuit, backend=backend, shots=1024)"
   ]
  },
  {
   "cell_type": "markdown",
   "id": "4d1d6979",
   "metadata": {},
   "source": [
    "监控作业状态\n"
   ]
  },
  {
   "cell_type": "code",
   "execution_count": null,
   "id": "3c4a74a9",
   "metadata": {},
   "outputs": [],
   "source": [
    "job_monitor(job)"
   ]
  },
  {
   "cell_type": "markdown",
   "id": "b7a2a593",
   "metadata": {},
   "source": [
    "获取结果\n"
   ]
  },
  {
   "cell_type": "code",
   "execution_count": null,
   "id": "0ee33508",
   "metadata": {},
   "outputs": [],
   "source": [
    "result = job.result()\n",
    "counts = result.get_counts()\n",
    "plot_histogram(counts)\n",
    "\"\"\")"
   ]
  },
  {
   "cell_type": "markdown",
   "id": "66e93e4d",
   "metadata": {},
   "source": [
    "7. 排队策略和提示\n"
   ]
  },
  {
   "cell_type": "code",
   "execution_count": null,
   "id": "44925c5f",
   "metadata": {},
   "outputs": [],
   "source": [
    "print(\"\\n7. 排队策略和提示\")\n",
    "print(\"在真实设备上运行时，排队时间可能很长，有几种策略可以优化等待时间\")"
   ]
  },
  {
   "cell_type": "markdown",
   "id": "6e175392",
   "metadata": {},
   "source": [
    "排队策略\n"
   ]
  },
  {
   "cell_type": "code",
   "execution_count": null,
   "id": "b3180e4d",
   "metadata": {},
   "outputs": [],
   "source": [
    "print(\"\\n优化排队时间的策略:\")\n",
    "print(\"- 使用lease_busy()函数找到队列最短的设备\")\n",
    "print(\"- 在非高峰时段提交作业\")\n",
    "print(\"- 使用更小的电路\")\n",
    "print(\"- 将多个电路打包在一个作业中\")\n",
    "print(\"- 考虑使用IBM Quantum优先级访问计划\")"
   ]
  },
  {
   "cell_type": "markdown",
   "id": "924a0ae0",
   "metadata": {},
   "source": [
    "选择最不繁忙后端的示例代码\n"
   ]
  },
  {
   "cell_type": "code",
   "execution_count": null,
   "id": "8436f06d",
   "metadata": {},
   "outputs": [],
   "source": [
    "print(\"\\n选择最不繁忙后端的代码 (不会实际运行):\")\n",
    "print("
   ]
  },
  {
   "cell_type": "markdown",
   "id": "c48dbcd5",
   "metadata": {},
   "source": [
    "\n",
    "# 获取具有至少5个量子比特的后端列表\n",
    "provider = IBMQ.get_provider(hub='ibm-q')\n",
    "large_enough_devices = provider.backends(filters=lambda b: b.configuration().n_qubits >= 5 \n",
    "                                           and not b.configuration().simulator)\n",
    "\n",
    "# 选择最不繁忙的后端\n",
    "least_busy_device = least_busy(large_enough_devices)\n",
    "print(f\"最不繁忙的后端是: {least_busy_device.name()}\")"
   ]
  },
  {
   "cell_type": "markdown",
   "id": "63c956b9",
   "metadata": {},
   "source": [
    "获取具有至少5个量子比特的后端列表\n"
   ]
  },
  {
   "cell_type": "code",
   "execution_count": null,
   "id": "19270a9b",
   "metadata": {},
   "outputs": [],
   "source": [
    "provider = IBMQ.get_provider(hub='ibm-q')\n",
    "large_enough_devices = provider.backends(filters=lambda b: b.configuration().n_qubits >= 5 \n",
    "                                           and not b.configuration().simulator)"
   ]
  },
  {
   "cell_type": "markdown",
   "id": "69c073c5",
   "metadata": {},
   "source": [
    "选择最不繁忙的后端\n"
   ]
  },
  {
   "cell_type": "code",
   "execution_count": null,
   "id": "bdb3a6ca",
   "metadata": {},
   "outputs": [],
   "source": [
    "least_busy_device = least_busy(large_enough_devices)\n",
    "print(f\"最不繁忙的后端是: {least_busy_device.name()}\")\n",
    "\"\"\")"
   ]
  },
  {
   "cell_type": "markdown",
   "id": "5f7f0f2f",
   "metadata": {},
   "source": [
    "8. 使用模拟器预测真实设备结果\n"
   ]
  },
  {
   "cell_type": "code",
   "execution_count": null,
   "id": "428a87ae",
   "metadata": {},
   "outputs": [],
   "source": [
    "print(\"\\n8. 使用模拟器预测真实设备结果\")\n",
    "print(\"在提交到真实设备前，可以使用带噪声的模拟器预测结果\")"
   ]
  },
  {
   "cell_type": "markdown",
   "id": "03ca1400",
   "metadata": {},
   "source": [
    "使用噪声模拟器的代码\n"
   ]
  },
  {
   "cell_type": "code",
   "execution_count": null,
   "id": "f099cf46",
   "metadata": {},
   "outputs": [],
   "source": [
    "print(\"\\n使用噪声模拟器的代码 (不会实际运行):\")\n",
    "print("
   ]
  },
  {
   "cell_type": "markdown",
   "id": "06f824d3",
   "metadata": {},
   "source": [
    "\n",
    "# 获取后端的噪声特性\n",
    "provider = IBMQ.get_provider(hub='ibm-q')\n",
    "backend = provider.get_backend('ibm_nairobi')\n",
    "noise_model = NoiseModel.from_backend(backend)\n",
    "\n",
    "# 使用噪声模型执行电路\n",
    "simulator = Aer.get_backend('qasm_simulator')\n",
    "job = execute(bell_circuit, \n",
    "              simulator,\n",
    "              noise_model=noise_model,\n",
    "              coupling_map=backend.configuration().coupling_map,\n",
    "              basis_gates=noise_model.basis_gates,\n",
    "              shots=1024)\n",
    "\n",
    "# 获取结果\n",
    "result = job.result()\n",
    "counts = result.get_counts()\n",
    "plot_histogram(counts)"
   ]
  },
  {
   "cell_type": "markdown",
   "id": "91d36b5c",
   "metadata": {},
   "source": [
    "获取后端的噪声特性\n"
   ]
  },
  {
   "cell_type": "code",
   "execution_count": null,
   "id": "9f7e6511",
   "metadata": {},
   "outputs": [],
   "source": [
    "provider = IBMQ.get_provider(hub='ibm-q')\n",
    "backend = provider.get_backend('ibm_nairobi')\n",
    "noise_model = NoiseModel.from_backend(backend)"
   ]
  },
  {
   "cell_type": "markdown",
   "id": "6ca87e69",
   "metadata": {},
   "source": [
    "使用噪声模型执行电路\n"
   ]
  },
  {
   "cell_type": "code",
   "execution_count": null,
   "id": "0418bb7d",
   "metadata": {},
   "outputs": [],
   "source": [
    "simulator = Aer.get_backend('qasm_simulator')\n",
    "job = execute(bell_circuit, \n",
    "              simulator,\n",
    "              noise_model=noise_model,\n",
    "              coupling_map=backend.configuration().coupling_map,\n",
    "              basis_gates=noise_model.basis_gates,\n",
    "              shots=1024)"
   ]
  },
  {
   "cell_type": "markdown",
   "id": "3b88b31e",
   "metadata": {},
   "source": [
    "获取结果\n"
   ]
  },
  {
   "cell_type": "code",
   "execution_count": null,
   "id": "7f733462",
   "metadata": {},
   "outputs": [],
   "source": [
    "result = job.result()\n",
    "counts = result.get_counts()\n",
    "plot_histogram(counts)\n",
    "\"\"\")"
   ]
  },
  {
   "cell_type": "markdown",
   "id": "667627c5",
   "metadata": {},
   "source": [
    "9. 分析真实硬件结果\n"
   ]
  },
  {
   "cell_type": "code",
   "execution_count": null,
   "id": "1cce574d",
   "metadata": {},
   "outputs": [],
   "source": [
    "print(\"\\n9. 分析真实硬件结果\")\n",
    "print(\"真实设备的结果会受到噪声影响，需要进行结果分析和修正\")"
   ]
  },
  {
   "cell_type": "markdown",
   "id": "59e80694",
   "metadata": {},
   "source": [
    "模拟真实设备的结果\n"
   ]
  },
  {
   "cell_type": "code",
   "execution_count": null,
   "id": "d3480fcd",
   "metadata": {},
   "outputs": [],
   "source": [
    "real_device_counts = {'00': 480, '01': 25, '10': 35, '11': 460}\n",
    "\n",
    "print(\"\\n模拟真实设备的结果:\")\n",
    "print(real_device_counts)\n",
    "print(\"\\n可以看到结果存在噪声，理想情况下应该只有'00'和'11'\")"
   ]
  },
  {
   "cell_type": "markdown",
   "id": "e67c0e2c",
   "metadata": {},
   "source": [
    "可视化结果\n"
   ]
  },
  {
   "cell_type": "code",
   "execution_count": null,
   "id": "33fd022a",
   "metadata": {},
   "outputs": [],
   "source": [
    "print(\"\\n可视化结果 (图像将保存到文件):\")\n",
    "fig = plot_histogram(real_device_counts)\n",
    "fig.savefig('real_device_results.png')\n",
    "plt.close(fig)"
   ]
  },
  {
   "cell_type": "markdown",
   "id": "9e50354d",
   "metadata": {},
   "source": [
    "计算保真度\n"
   ]
  },
  {
   "cell_type": "code",
   "execution_count": null,
   "id": "6db9b24b",
   "metadata": {},
   "outputs": [],
   "source": [
    "ideal_counts = {'00': 512, '11': 512}\n",
    "overlap = sum(min(real_device_counts.get(k, 0), v) for k, v in ideal_counts.items())\n",
    "fidelity = overlap / 1024\n",
    "print(f\"\\n计算结果的保真度: {fidelity:.4f}\")"
   ]
  },
  {
   "cell_type": "markdown",
   "id": "5ff90cc5",
   "metadata": {},
   "source": [
    "10. 访问历史作业和结果\n"
   ]
  },
  {
   "cell_type": "code",
   "execution_count": null,
   "id": "8b89fae0",
   "metadata": {},
   "outputs": [],
   "source": [
    "print(\"\\n10. 访问历史作业和结果\")\n",
    "print(\"您可以访问之前在IBM Quantum Experience上提交的作业\")"
   ]
  },
  {
   "cell_type": "markdown",
   "id": "03a7af97",
   "metadata": {},
   "source": [
    "检索历史作业的代码\n"
   ]
  },
  {
   "cell_type": "code",
   "execution_count": null,
   "id": "f885b138",
   "metadata": {},
   "outputs": [],
   "source": [
    "print(\"\\n检索历史作业的代码 (不会实际运行):\")\n",
    "print("
   ]
  },
  {
   "cell_type": "markdown",
   "id": "e5068a9a",
   "metadata": {},
   "source": [
    "\n",
    "# 获取provider\n",
    "provider = IBMQ.get_provider(hub='ibm-q')\n",
    "\n",
    "# 获取最近5个作业\n",
    "jobs = provider.backends.jobs(limit=5)\n",
    "\n",
    "# 打印每个作业的信息\n",
    "for i, job in enumerate(jobs):\n",
    "    print(f\"作业 {i}: {job.job_id()}\")\n",
    "    print(f\"状态: {job.status()}\")\n",
    "    print(f\"后端: {job.backend().name()}\")\n",
    "    print(f\"提交时间: {job.creation_date()}\")\n",
    "    print()"
   ]
  },
  {
   "cell_type": "markdown",
   "id": "cf258749",
   "metadata": {},
   "source": [
    "获取provider\n"
   ]
  },
  {
   "cell_type": "code",
   "execution_count": null,
   "id": "0a4f0288",
   "metadata": {},
   "outputs": [],
   "source": [
    "provider = IBMQ.get_provider(hub='ibm-q')"
   ]
  },
  {
   "cell_type": "markdown",
   "id": "ab38ba4d",
   "metadata": {},
   "source": [
    "获取最近5个作业\n"
   ]
  },
  {
   "cell_type": "code",
   "execution_count": null,
   "id": "4eeb6011",
   "metadata": {},
   "outputs": [],
   "source": [
    "jobs = provider.backends.jobs(limit=5)"
   ]
  },
  {
   "cell_type": "markdown",
   "id": "76621e8c",
   "metadata": {},
   "source": [
    "打印每个作业的信息\n"
   ]
  },
  {
   "cell_type": "code",
   "execution_count": null,
   "id": "38e3efa9",
   "metadata": {},
   "outputs": [],
   "source": [
    "for i, job in enumerate(jobs):\n",
    "    print(f\"作业 {i}: {job.job_id()}\")\n",
    "    print(f\"状态: {job.status()}\")\n",
    "    print(f\"后端: {job.backend().name()}\")\n",
    "    print(f\"提交时间: {job.creation_date()}\")\n",
    "    print()\n",
    "\"\"\")"
   ]
  },
  {
   "cell_type": "markdown",
   "id": "0cee7771",
   "metadata": {},
   "source": [
    "11. IBM Quantum Experience网站功能\n"
   ]
  },
  {
   "cell_type": "code",
   "execution_count": null,
   "id": "dbc405c1",
   "metadata": {},
   "outputs": [],
   "source": [
    "print(\"\\n11. IBM Quantum Experience网站功能\")\n",
    "print(\"除了通过代码访问，IBM Quantum Experience网站还提供许多功能\")\n",
    "\n",
    "print(\"\\nIBM Quantum Experience网站功能:\")\n",
    "print(\"- 可视化电路编辑器\")\n",
    "print(\"- 设备可用性和属性查看\")\n",
    "print(\"- 作业历史记录和管理\")\n",
    "print(\"- 结果可视化工具\")\n",
    "print(\"- 学习资源和教程\")\n",
    "print(\"- Qiskit Notebooks环境\")"
   ]
  },
  {
   "cell_type": "markdown",
   "id": "8d59ccf6",
   "metadata": {},
   "source": [
    "12. 总结\n"
   ]
  },
  {
   "cell_type": "code",
   "execution_count": null,
   "id": "fca09d9f",
   "metadata": {},
   "outputs": [],
   "source": [
    "print(\"\\n12. 总结\")\n",
    "print(\"1. IBM提供多种真实量子设备进行远程访问\")\n",
    "print(\"2. 在提交到真实设备前，需要转译电路以符合设备限制\")\n",
    "print(\"3. 提交作业后需要等待排队\")\n",
    "print(\"4. 真实设备的结果会受到噪声影响\")\n",
    "print(\"5. 可以使用噪声模拟器预测真实设备的性能\")\n",
    "print(\"6. 历史作业和结果可以通过API或网站访问\")\n",
    "\n",
    "print(\"\\n在真实量子设备上运行电路需要:\")\n",
    "print(\"- IBM Quantum Experience账户\")\n",
    "print(\"- 理解设备的限制和特性\")\n",
    "print(\"- 电路优化以减少深度和复杂性\")\n",
    "print(\"- 结果分析和噪声处理技术\")\n",
    "\n",
    "print(\"\\n下一步学习:\")\n",
    "print(\"- 学习更多量子错误缓解技术\")\n",
    "print(\"- 为特定设备优化电路\")\n",
    "print(\"- 探索更复杂的量子算法在真实设备上的实现\")\n",
    "print(\"- 研究量子计算机的扩展性挑战\")"
   ]
  },
  {
   "cell_type": "markdown",
   "id": "2b62c8b3",
   "metadata": {},
   "source": [
    "## 💡 挑战任务\n",
    "\n",
    "尝试扩展上面的练习，探索以下内容：\n",
    "1. 更改电路参数并观察结果的变化\n",
    "2. 尝试实现不同的量子态或算法\n",
    "3. 可视化更多量子测量的结果"
   ]
  }
 ],
 "metadata": {
  "kernelspec": {
   "display_name": "Python 3",
   "language": "python",
   "name": "python3"
  },
  "language_info": {
   "codemirror_mode": {
    "name": "ipython",
    "version": 3
   },
   "file_extension": ".py",
   "mimetype": "text/x-python",
   "name": "python",
   "nbconvert_exporter": "python",
   "pygments_lexer": "ipython3",
   "version": "3.9.13"
  }
 },
 "nbformat": 4,
 "nbformat_minor": 5
}

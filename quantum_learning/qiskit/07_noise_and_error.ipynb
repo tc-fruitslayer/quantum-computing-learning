{
 "cells": [
  {
   "cell_type": "code",
   "execution_count": null,
   "id": "ff84312a",
   "metadata": {},
   "outputs": [],
   "source": [
    "#!/usr/bin/env python\n",
    "# -*- coding: utf-8 -*-"
   ]
  },
  {
   "cell_type": "markdown",
   "id": "a4db6973",
   "metadata": {},
   "source": [
    "\n",
    "IBM Qiskit框架学习 7：量子误差纠正和降噪\n",
    "本文件详细介绍量子计算中的误差源、量子误差纠正码和降噪技术"
   ]
  },
  {
   "cell_type": "markdown",
   "id": "8336f612",
   "metadata": {},
   "source": [
    "导入必要的库\n"
   ]
  },
  {
   "cell_type": "code",
   "execution_count": null,
   "id": "b5aba6df",
   "metadata": {},
   "outputs": [],
   "source": [
    "from qiskit import QuantumCircuit, Aer, execute, transpile\n",
    "from qiskit.visualization import plot_histogram\n",
    "from qiskit.providers.aer import QasmSimulator\n",
    "from qiskit.providers.aer.noise import NoiseModel\n",
    "from qiskit.providers.aer.noise.errors import pauli_error, depolarizing_error, thermal_relaxation_error\n",
    "from qiskit.ignis.mitigation.measurement import complete_meas_cal, CompleteMeasFitter\n",
    "from qiskit.ignis.verification.tomography import state_tomography_circuits, StateTomographyFitter\n",
    "from qiskit.quantum_info import Statevector, state_fidelity\n",
    "import matplotlib.pyplot as plt\n",
    "import numpy as np\n"
   ]
  },
  {
   "cell_type": "code",
   "execution_count": null,
   "id": "0cc03d14",
   "metadata": {},
   "outputs": [],
   "source": [
    "print(\"===== 量子误差纠正和降噪 =====\")"
   ]
  },
  {
   "cell_type": "markdown",
   "id": "6e7ee387",
   "metadata": {},
   "source": [
    "1. 量子噪声的来源\n"
   ]
  },
  {
   "cell_type": "code",
   "execution_count": null,
   "id": "0d993b2e",
   "metadata": {},
   "outputs": [],
   "source": [
    "print(\"\\n1. 量子噪声的来源\")\n",
    "print(\"量子计算机中的噪声有多种来源，包括:\")\n",
    "\n",
    "print(\"\\n主要噪声源:\")\n",
    "print(\"- 量子退相干 (Decoherence): 量子比特与环境的相互作用导致量子态的损失\")\n",
    "print(\"- 门操作误差 (Gate Errors): 量子门执行时的不精确性\")\n",
    "print(\"- 测量误差 (Measurement Errors): 读取量子态时的不准确性\")\n",
    "print(\"- 准备态误差 (State Preparation Errors): 初始化量子比特时的误差\")\n",
    "print(\"- 串扰 (Crosstalk): 操作一个量子比特对附近量子比特的意外影响\")\n",
    "print(\"- 热噪声 (Thermal Noise): 由非零温度导致的能量波动\")"
   ]
  },
  {
   "cell_type": "markdown",
   "id": "ed30966d",
   "metadata": {},
   "source": [
    "2. 在Qiskit中模拟噪声\n"
   ]
  },
  {
   "cell_type": "code",
   "execution_count": null,
   "id": "4bd62602",
   "metadata": {},
   "outputs": [],
   "source": [
    "print(\"\\n2. 在Qiskit中模拟噪声\")\n",
    "print(\"Qiskit Aer允许我们模拟不同类型的量子噪声\")"
   ]
  },
  {
   "cell_type": "markdown",
   "id": "26dd3eca",
   "metadata": {},
   "source": [
    "创建一个简单的贝尔态电路\n"
   ]
  },
  {
   "cell_type": "code",
   "execution_count": null,
   "id": "ad680ec2",
   "metadata": {},
   "outputs": [],
   "source": [
    "bell_circuit = QuantumCircuit(2, 2)\n",
    "bell_circuit.h(0)\n",
    "bell_circuit.cx(0, 1)\n",
    "bell_circuit.measure([0, 1], [0, 1])\n",
    "\n",
    "print(\"贝尔态电路:\")\n",
    "print(bell_circuit.draw())"
   ]
  },
  {
   "cell_type": "markdown",
   "id": "ef7c7d21",
   "metadata": {},
   "source": [
    "定义不同类型的噪声模型\n"
   ]
  },
  {
   "cell_type": "markdown",
   "id": "bb919e82",
   "metadata": {},
   "source": [
    "1. 退相干噪声模型 (比特翻转错误)\n"
   ]
  },
  {
   "cell_type": "code",
   "execution_count": null,
   "id": "e2c01927",
   "metadata": {},
   "outputs": [],
   "source": [
    "print(\"\\n2.1 退相干噪声模型 (比特翻转错误)\")\n",
    "bit_flip_noise_model = NoiseModel()"
   ]
  },
  {
   "cell_type": "markdown",
   "id": "96019108",
   "metadata": {},
   "source": [
    "单量子比特比特翻转误差\n"
   ]
  },
  {
   "cell_type": "code",
   "execution_count": null,
   "id": "26649fa8",
   "metadata": {},
   "outputs": [],
   "source": [
    "p_bit_flip = 0.05  # 比特翻转的概率\n",
    "bit_flip = pauli_error([('X', p_bit_flip), ('I', 1 - p_bit_flip)])\n",
    "bit_flip_noise_model.add_all_qubit_quantum_error(bit_flip, ['u1', 'u2', 'u3'])"
   ]
  },
  {
   "cell_type": "markdown",
   "id": "77c63536",
   "metadata": {},
   "source": [
    "执行带噪声的模拟\n"
   ]
  },
  {
   "cell_type": "code",
   "execution_count": null,
   "id": "74e5ed9d",
   "metadata": {},
   "outputs": [],
   "source": [
    "simulator = Aer.get_backend('qasm_simulator')\n",
    "job = execute(bell_circuit, simulator, noise_model=bit_flip_noise_model, shots=1024)\n",
    "bit_flip_result = job.result()\n",
    "bit_flip_counts = bit_flip_result.get_counts()\n",
    "\n",
    "print(\"\\n比特翻转噪声模拟结果:\")\n",
    "print(bit_flip_counts)"
   ]
  },
  {
   "cell_type": "markdown",
   "id": "521825a5",
   "metadata": {},
   "source": [
    "2. 去极化噪声模型 (多种错误)\n"
   ]
  },
  {
   "cell_type": "code",
   "execution_count": null,
   "id": "f9c11546",
   "metadata": {},
   "outputs": [],
   "source": [
    "print(\"\\n2.2 去极化噪声模型 (多种错误)\")\n",
    "depol_noise_model = NoiseModel()"
   ]
  },
  {
   "cell_type": "markdown",
   "id": "2737e958",
   "metadata": {},
   "source": [
    "单量子比特去极化误差\n"
   ]
  },
  {
   "cell_type": "code",
   "execution_count": null,
   "id": "2a08f87f",
   "metadata": {},
   "outputs": [],
   "source": [
    "p_depol_1 = 0.05  # 单量子比特去极化概率\n",
    "error_1q = depolarizing_error(p_depol_1, 1)\n",
    "depol_noise_model.add_all_qubit_quantum_error(error_1q, ['u1', 'u2', 'u3'])"
   ]
  },
  {
   "cell_type": "markdown",
   "id": "ea1b13ba",
   "metadata": {},
   "source": [
    "双量子比特去极化误差\n"
   ]
  },
  {
   "cell_type": "code",
   "execution_count": null,
   "id": "2405d3ec",
   "metadata": {},
   "outputs": [],
   "source": [
    "p_depol_2 = 0.1  # 双量子比特去极化概率\n",
    "error_2q = depolarizing_error(p_depol_2, 2)\n",
    "depol_noise_model.add_all_qubit_quantum_error(error_2q, ['cx'])"
   ]
  },
  {
   "cell_type": "markdown",
   "id": "8b3c5af5",
   "metadata": {},
   "source": [
    "执行带噪声的模拟\n"
   ]
  },
  {
   "cell_type": "code",
   "execution_count": null,
   "id": "4d0ee951",
   "metadata": {},
   "outputs": [],
   "source": [
    "job = execute(bell_circuit, simulator, noise_model=depol_noise_model, shots=1024)\n",
    "depol_result = job.result()\n",
    "depol_counts = depol_result.get_counts()\n",
    "\n",
    "print(\"\\n去极化噪声模拟结果:\")\n",
    "print(depol_counts)"
   ]
  },
  {
   "cell_type": "markdown",
   "id": "286cfb4b",
   "metadata": {},
   "source": [
    "3. 热弛豫噪声模型 (T1/T2衰减)\n"
   ]
  },
  {
   "cell_type": "code",
   "execution_count": null,
   "id": "8fab259c",
   "metadata": {},
   "outputs": [],
   "source": [
    "print(\"\\n2.3 热弛豫噪声模型 (T1/T2衰减)\")\n",
    "t1_noise_model = NoiseModel()"
   ]
  },
  {
   "cell_type": "markdown",
   "id": "634bba47",
   "metadata": {},
   "source": [
    "设置T1和T2参数\n"
   ]
  },
  {
   "cell_type": "code",
   "execution_count": null,
   "id": "02e1685b",
   "metadata": {},
   "outputs": [],
   "source": [
    "t1 = 50  # T1时间 (微秒)\n",
    "t2 = 30  # T2时间 (微秒，注意T2 <= T1)\n",
    "gate_time = 0.1  # 门操作时间 (微秒)"
   ]
  },
  {
   "cell_type": "markdown",
   "id": "4b5e3181",
   "metadata": {},
   "source": [
    "创建热弛豫误差\n"
   ]
  },
  {
   "cell_type": "code",
   "execution_count": null,
   "id": "46a3a216",
   "metadata": {},
   "outputs": [],
   "source": [
    "thermal_error = thermal_relaxation_error(t1, t2, gate_time)\n",
    "t1_noise_model.add_all_qubit_quantum_error(thermal_error, ['u1', 'u2', 'u3'])"
   ]
  },
  {
   "cell_type": "markdown",
   "id": "907e1a41",
   "metadata": {},
   "source": [
    "CNOT门的热弛豫误差 (为简化，我们使用相同的参数)\n"
   ]
  },
  {
   "cell_type": "code",
   "execution_count": null,
   "id": "6d9f0444",
   "metadata": {},
   "outputs": [],
   "source": [
    "cx_gate_time = 0.3  # CNOT门时间\n",
    "cx_thermal_error = thermal_relaxation_error(t1, t2, cx_gate_time, 2)\n",
    "t1_noise_model.add_all_qubit_quantum_error(cx_thermal_error, ['cx'])"
   ]
  },
  {
   "cell_type": "markdown",
   "id": "f72910ba",
   "metadata": {},
   "source": [
    "执行带噪声的模拟\n"
   ]
  },
  {
   "cell_type": "code",
   "execution_count": null,
   "id": "dde9435e",
   "metadata": {},
   "outputs": [],
   "source": [
    "job = execute(bell_circuit, simulator, noise_model=t1_noise_model, shots=1024)\n",
    "t1_result = job.result()\n",
    "t1_counts = t1_result.get_counts()\n",
    "\n",
    "print(\"\\n热弛豫噪声模拟结果:\")\n",
    "print(t1_counts)"
   ]
  },
  {
   "cell_type": "markdown",
   "id": "90c400f0",
   "metadata": {},
   "source": [
    "可视化不同噪声模型的结果\n"
   ]
  },
  {
   "cell_type": "code",
   "execution_count": null,
   "id": "70bdf694",
   "metadata": {},
   "outputs": [],
   "source": [
    "print(\"\\n不同噪声模型结果对比 (图像将保存到文件):\")\n",
    "fig = plot_histogram([bit_flip_counts, depol_counts, t1_counts],\n",
    "                      legend=['比特翻转', '去极化', '热弛豫'])\n",
    "fig.savefig('noise_models_comparison.png')\n",
    "plt.close(fig)"
   ]
  },
  {
   "cell_type": "markdown",
   "id": "ceb828ab",
   "metadata": {},
   "source": [
    "3. 测量误差缓解\n"
   ]
  },
  {
   "cell_type": "code",
   "execution_count": null,
   "id": "f6597c1a",
   "metadata": {},
   "outputs": [],
   "source": [
    "print(\"\\n3. 测量误差缓解\")\n",
    "print(\"测量误差是量子电路噪声的主要来源之一，可以通过校准进行缓解\")"
   ]
  },
  {
   "cell_type": "markdown",
   "id": "97120b4a",
   "metadata": {},
   "source": [
    "创建测量误差模型\n"
   ]
  },
  {
   "cell_type": "code",
   "execution_count": null,
   "id": "af265aca",
   "metadata": {},
   "outputs": [],
   "source": [
    "meas_noise_model = NoiseModel()"
   ]
  },
  {
   "cell_type": "markdown",
   "id": "1a12dfcd",
   "metadata": {},
   "source": [
    "添加测量误差 (0->1的概率为0.1，1->0的概率为0.05)\n"
   ]
  },
  {
   "cell_type": "code",
   "execution_count": null,
   "id": "8d37dbcf",
   "metadata": {},
   "outputs": [],
   "source": [
    "p01 = 0.1  # |0⟩错误测量为|1⟩的概率\n",
    "p10 = 0.05  # |1⟩错误测量为|0⟩的概率"
   ]
  },
  {
   "cell_type": "markdown",
   "id": "3c16c606",
   "metadata": {},
   "source": [
    "使用完全测量误差校准和过滤\n",
    "创建校准电路\n"
   ]
  },
  {
   "cell_type": "code",
   "execution_count": null,
   "id": "34a1fc85",
   "metadata": {},
   "outputs": [],
   "source": [
    "qc = QuantumCircuit(2)\n",
    "meas_calibs, state_labels = complete_meas_cal(qr=qc.qregs[0], circlabel='mcal')"
   ]
  },
  {
   "cell_type": "markdown",
   "id": "c5bc5514",
   "metadata": {},
   "source": [
    "对校准电路应用测量误差\n"
   ]
  },
  {
   "cell_type": "code",
   "execution_count": null,
   "id": "f71eeb55",
   "metadata": {},
   "outputs": [],
   "source": [
    "for i in range(len(meas_calibs)):\n",
    "    meas_calibs[i].measure_all()"
   ]
  },
  {
   "cell_type": "markdown",
   "id": "0b547f5c",
   "metadata": {},
   "source": [
    "模拟带测量误差的校准电路执行\n"
   ]
  },
  {
   "cell_type": "code",
   "execution_count": null,
   "id": "55fc53f0",
   "metadata": {},
   "outputs": [],
   "source": [
    "noise_model = NoiseModel()"
   ]
  },
  {
   "cell_type": "markdown",
   "id": "694824d9",
   "metadata": {},
   "source": [
    "对每个量子比特添加自定义的读取误差\n"
   ]
  },
  {
   "cell_type": "code",
   "execution_count": null,
   "id": "8405abbd",
   "metadata": {},
   "outputs": [],
   "source": [
    "for qubit in range(2):\n",
    "    read_err = pauli_error([('X', p01), ('I', 1 - p01)])  # |0⟩ -> |1⟩ 错误\n",
    "    noise_model.add_quantum_error(read_err, ['measure'], [qubit])\n",
    "    read_err = pauli_error([('X', p10), ('I', 1 - p10)])  # |1⟩ -> |0⟩ 错误\n",
    "    noise_model.add_quantum_error(read_err, ['reset'], [qubit])\n",
    "\n",
    "print(\"\\n测量校准电路:\")\n",
    "print(meas_calibs[0].draw())"
   ]
  },
  {
   "cell_type": "markdown",
   "id": "0cac6e7d",
   "metadata": {},
   "source": [
    "执行校准电路\n"
   ]
  },
  {
   "cell_type": "code",
   "execution_count": null,
   "id": "c4b5c6e1",
   "metadata": {},
   "outputs": [],
   "source": [
    "calib_job = execute(meas_calibs, simulator, \n",
    "                   shots=1024,\n",
    "                   noise_model=noise_model)\n",
    "calib_result = calib_job.result()"
   ]
  },
  {
   "cell_type": "markdown",
   "id": "efaabfc5",
   "metadata": {},
   "source": [
    "构建测量过滤器\n"
   ]
  },
  {
   "cell_type": "code",
   "execution_count": null,
   "id": "04be2cd4",
   "metadata": {},
   "outputs": [],
   "source": [
    "meas_fitter = CompleteMeasFitter(calib_result, state_labels, circlabel='mcal')\n",
    "meas_filter = meas_fitter.filter\n",
    "\n",
    "print(\"\\n测量误差校准矩阵:\")\n",
    "print(meas_fitter.cal_matrix)"
   ]
  },
  {
   "cell_type": "markdown",
   "id": "eeb18d95",
   "metadata": {},
   "source": [
    "应用相同的噪声模型到Bell状态电路\n"
   ]
  },
  {
   "cell_type": "code",
   "execution_count": null,
   "id": "bc456b45",
   "metadata": {},
   "outputs": [],
   "source": [
    "noisy_bell_job = execute(bell_circuit, simulator, \n",
    "                        shots=1024,\n",
    "                        noise_model=noise_model)\n",
    "noisy_bell_result = noisy_bell_job.result()\n",
    "noisy_bell_counts = noisy_bell_result.get_counts()"
   ]
  },
  {
   "cell_type": "markdown",
   "id": "e22c9e81",
   "metadata": {},
   "source": [
    "应用测量误差缓解\n"
   ]
  },
  {
   "cell_type": "code",
   "execution_count": null,
   "id": "87bd4371",
   "metadata": {},
   "outputs": [],
   "source": [
    "mitigated_result = meas_filter.apply(noisy_bell_result)\n",
    "mitigated_counts = mitigated_result.get_counts()\n",
    "\n",
    "print(\"\\n有噪声的Bell状态测量结果:\")\n",
    "print(noisy_bell_counts)\n",
    "print(\"\\n误差缓解后的Bell状态测量结果:\")\n",
    "print(mitigated_counts)"
   ]
  },
  {
   "cell_type": "markdown",
   "id": "9ba717ae",
   "metadata": {},
   "source": [
    "可视化误差缓解前后的结果\n"
   ]
  },
  {
   "cell_type": "code",
   "execution_count": null,
   "id": "c693a05f",
   "metadata": {},
   "outputs": [],
   "source": [
    "print(\"\\n测量误差缓解前后对比 (图像将保存到文件):\")\n",
    "fig = plot_histogram([noisy_bell_counts, mitigated_counts],\n",
    "                      legend=['有噪声', '误差缓解后'])\n",
    "fig.savefig('measurement_error_mitigation.png')\n",
    "plt.close(fig)"
   ]
  },
  {
   "cell_type": "markdown",
   "id": "028f9bf3",
   "metadata": {},
   "source": [
    "4. 量子误差纠正码\n"
   ]
  },
  {
   "cell_type": "code",
   "execution_count": null,
   "id": "16d2285f",
   "metadata": {},
   "outputs": [],
   "source": [
    "print(\"\\n4. 量子误差纠正码\")\n",
    "print(\"量子纠错码是抵抗量子噪声的关键技术\")"
   ]
  },
  {
   "cell_type": "markdown",
   "id": "2fdbe4c2",
   "metadata": {},
   "source": [
    "4.1 比特翻转码\n"
   ]
  },
  {
   "cell_type": "code",
   "execution_count": null,
   "id": "1caed7ce",
   "metadata": {},
   "outputs": [],
   "source": [
    "print(\"\\n4.1 比特翻转码\")\n",
    "print(\"比特翻转码可以纠正X错误 (比特翻转)\")\n",
    "\n",
    "def bit_flip_code_encode():"
   ]
  },
  {
   "cell_type": "markdown",
   "id": "ce46af24",
   "metadata": {},
   "source": [
    "比特翻转码编码电路"
   ]
  },
  {
   "cell_type": "code",
   "execution_count": null,
   "id": "1f454c2e",
   "metadata": {},
   "outputs": [],
   "source": [
    "qc = QuantumCircuit(3, 1)\n",
    "    \n",
    "    # 将第一个量子比特编码到逻辑态\n",
    "    qc.x(0)  # 将第一个量子比特初始化为|1⟩\n",
    "    \n",
    "    # 使用CNOT门将状态复制到其他量子比特\n",
    "    qc.cx(0, 1)\n",
    "    qc.cx(0, 2)\n",
    "    \n",
    "    return qc\n",
    "\n",
    "def bit_flip_code_correct():"
   ]
  },
  {
   "cell_type": "markdown",
   "id": "0d8797fe",
   "metadata": {},
   "source": [
    "比特翻转码纠错电路"
   ]
  },
  {
   "cell_type": "code",
   "execution_count": null,
   "id": "d015aefd",
   "metadata": {},
   "outputs": [],
   "source": [
    "qc = QuantumCircuit(3, 1)\n",
    "    \n",
    "    # 使用辅助量子比特执行多数投票\n",
    "    qc.cx(0, 1)  # 第一个和第二个比特的奇偶性\n",
    "    qc.cx(0, 2)  # 第一个和第三个比特的奇偶性\n",
    "    \n",
    "    # 如果第二个和第三个量子比特都是1，则第一个量子比特有错误\n",
    "    qc.ccx(1, 2, 0)  # 双控制X门，如果辅助比特都是1，则翻转目标比特\n",
    "    \n",
    "    # 重置辅助量子比特\n",
    "    qc.cx(0, 1)\n",
    "    qc.cx(0, 2)\n",
    "    \n",
    "    # 测量结果\n",
    "    qc.measure(0, 0)\n",
    "    \n",
    "    return qc"
   ]
  },
  {
   "cell_type": "markdown",
   "id": "97c906dd",
   "metadata": {},
   "source": [
    "创建完整的比特翻转码电路\n"
   ]
  },
  {
   "cell_type": "code",
   "execution_count": null,
   "id": "365e2fe5",
   "metadata": {},
   "outputs": [],
   "source": [
    "def complete_bit_flip_code(error_qubit=None, error_type='X'):"
   ]
  },
  {
   "cell_type": "markdown",
   "id": "b9630336",
   "metadata": {},
   "source": [
    "完整的比特翻转码电路，包括编码、错误注入和纠错"
   ]
  },
  {
   "cell_type": "code",
   "execution_count": null,
   "id": "124c0f90",
   "metadata": {},
   "outputs": [],
   "source": [
    "# 编码\n",
    "    qc = bit_flip_code_encode()\n",
    "    \n",
    "    # 注入错误\n",
    "    if error_qubit is not None:\n",
    "        if error_type == 'X':\n",
    "            qc.x(error_qubit)\n",
    "        elif error_type == 'Z':\n",
    "            qc.z(error_qubit)\n",
    "    \n",
    "    # 纠错\n",
    "    qc = qc.compose(bit_flip_code_correct())\n",
    "    \n",
    "    return qc"
   ]
  },
  {
   "cell_type": "markdown",
   "id": "1428cdea",
   "metadata": {},
   "source": [
    "无错误情况\n"
   ]
  },
  {
   "cell_type": "code",
   "execution_count": null,
   "id": "77c0c855",
   "metadata": {},
   "outputs": [],
   "source": [
    "no_error_circuit = complete_bit_flip_code()\n",
    "print(\"比特翻转码 (无错误):\")\n",
    "print(no_error_circuit.draw())"
   ]
  },
  {
   "cell_type": "markdown",
   "id": "e007c21a",
   "metadata": {},
   "source": [
    "对量子比特1注入X错误\n"
   ]
  },
  {
   "cell_type": "code",
   "execution_count": null,
   "id": "34df16a0",
   "metadata": {},
   "outputs": [],
   "source": [
    "x_error_circuit = complete_bit_flip_code(error_qubit=1, error_type='X')\n",
    "print(\"\\n比特翻转码 (量子比特1上的X错误):\")\n",
    "print(x_error_circuit.draw())"
   ]
  },
  {
   "cell_type": "markdown",
   "id": "7360103d",
   "metadata": {},
   "source": [
    "模拟电路\n"
   ]
  },
  {
   "cell_type": "code",
   "execution_count": null,
   "id": "6db2c0d8",
   "metadata": {},
   "outputs": [],
   "source": [
    "simulator = Aer.get_backend('qasm_simulator')\n",
    "no_error_job = execute(no_error_circuit, simulator, shots=1024)\n",
    "no_error_result = no_error_job.result()\n",
    "no_error_counts = no_error_result.get_counts()\n",
    "\n",
    "x_error_job = execute(x_error_circuit, simulator, shots=1024)\n",
    "x_error_result = x_error_job.result()\n",
    "x_error_counts = x_error_result.get_counts()\n",
    "\n",
    "print(\"\\n无错误结果:\")\n",
    "print(no_error_counts)\n",
    "print(\"\\nX错误纠正后结果:\")\n",
    "print(x_error_counts)"
   ]
  },
  {
   "cell_type": "markdown",
   "id": "71c83b77",
   "metadata": {},
   "source": [
    "4.2 相位翻转码\n"
   ]
  },
  {
   "cell_type": "code",
   "execution_count": null,
   "id": "f72c09c7",
   "metadata": {},
   "outputs": [],
   "source": [
    "print(\"\\n4.2 相位翻转码\")\n",
    "print(\"相位翻转码可以纠正Z错误 (相位翻转)\")\n",
    "\n",
    "def phase_flip_code_encode():"
   ]
  },
  {
   "cell_type": "markdown",
   "id": "a0148e80",
   "metadata": {},
   "source": [
    "相位翻转码编码电路"
   ]
  },
  {
   "cell_type": "code",
   "execution_count": null,
   "id": "e1f8b498",
   "metadata": {},
   "outputs": [],
   "source": [
    "qc = QuantumCircuit(3, 1)\n",
    "    \n",
    "    # 将第一个量子比特初始化为|+⟩\n",
    "    qc.x(0)  # 先初始化为|1⟩\n",
    "    qc.h(0)  # 变为|+⟩或|-⟩\n",
    "    \n",
    "    # 创建纠缠态\n",
    "    qc.h(1)\n",
    "    qc.h(2)\n",
    "    qc.cx(0, 1)\n",
    "    qc.cx(0, 2)\n",
    "    \n",
    "    return qc\n",
    "\n",
    "def phase_flip_code_correct():"
   ]
  },
  {
   "cell_type": "markdown",
   "id": "801d2148",
   "metadata": {},
   "source": [
    "相位翻转码纠错电路"
   ]
  },
  {
   "cell_type": "code",
   "execution_count": null,
   "id": "e0a7be0e",
   "metadata": {},
   "outputs": [],
   "source": [
    "qc = QuantumCircuit(3, 1)\n",
    "    \n",
    "    # 对所有量子比特应用Hadamard门\n",
    "    qc.h(0)\n",
    "    qc.h(1)\n",
    "    qc.h(2)\n",
    "    \n",
    "    # 使用辅助量子比特执行相位奇偶校验\n",
    "    qc.cx(0, 1)\n",
    "    qc.cx(0, 2)\n",
    "    \n",
    "    # 纠正相位错误\n",
    "    qc.ccx(1, 2, 0)\n",
    "    \n",
    "    # 重置辅助量子比特\n",
    "    qc.cx(0, 1)\n",
    "    qc.cx(0, 2)\n",
    "    \n",
    "    # 转回计算基\n",
    "    qc.h(0)\n",
    "    qc.h(1)\n",
    "    qc.h(2)\n",
    "    \n",
    "    # 测量结果\n",
    "    qc.measure(0, 0)\n",
    "    \n",
    "    return qc"
   ]
  },
  {
   "cell_type": "markdown",
   "id": "95f12114",
   "metadata": {},
   "source": [
    "创建完整的相位翻转码电路\n"
   ]
  },
  {
   "cell_type": "code",
   "execution_count": null,
   "id": "b290b1b2",
   "metadata": {},
   "outputs": [],
   "source": [
    "def complete_phase_flip_code(error_qubit=None, error_type='Z'):"
   ]
  },
  {
   "cell_type": "markdown",
   "id": "e5651f2b",
   "metadata": {},
   "source": [
    "完整的相位翻转码电路，包括编码、错误注入和纠错"
   ]
  },
  {
   "cell_type": "code",
   "execution_count": null,
   "id": "b97ecc28",
   "metadata": {},
   "outputs": [],
   "source": [
    "# 编码\n",
    "    qc = phase_flip_code_encode()\n",
    "    \n",
    "    # 注入错误\n",
    "    if error_qubit is not None:\n",
    "        if error_type == 'X':\n",
    "            qc.x(error_qubit)\n",
    "        elif error_type == 'Z':\n",
    "            qc.z(error_qubit)\n",
    "    \n",
    "    # 纠错\n",
    "    qc = qc.compose(phase_flip_code_correct())\n",
    "    \n",
    "    return qc"
   ]
  },
  {
   "cell_type": "markdown",
   "id": "868ca1ba",
   "metadata": {},
   "source": [
    "无错误情况\n"
   ]
  },
  {
   "cell_type": "code",
   "execution_count": null,
   "id": "f7f96277",
   "metadata": {},
   "outputs": [],
   "source": [
    "no_error_phase_circuit = complete_phase_flip_code()\n",
    "print(\"相位翻转码 (无错误):\")\n",
    "print(no_error_phase_circuit.draw())"
   ]
  },
  {
   "cell_type": "markdown",
   "id": "00e76063",
   "metadata": {},
   "source": [
    "对量子比特1注入Z错误\n"
   ]
  },
  {
   "cell_type": "code",
   "execution_count": null,
   "id": "4238e4b8",
   "metadata": {},
   "outputs": [],
   "source": [
    "z_error_phase_circuit = complete_phase_flip_code(error_qubit=1, error_type='Z')\n",
    "print(\"\\n相位翻转码 (量子比特1上的Z错误):\")\n",
    "print(z_error_phase_circuit.draw())"
   ]
  },
  {
   "cell_type": "markdown",
   "id": "7b5fa6ed",
   "metadata": {},
   "source": [
    "模拟电路\n"
   ]
  },
  {
   "cell_type": "code",
   "execution_count": null,
   "id": "00a59252",
   "metadata": {},
   "outputs": [],
   "source": [
    "no_error_phase_job = execute(no_error_phase_circuit, simulator, shots=1024)\n",
    "no_error_phase_result = no_error_phase_job.result()\n",
    "no_error_phase_counts = no_error_phase_result.get_counts()\n",
    "\n",
    "z_error_phase_job = execute(z_error_phase_circuit, simulator, shots=1024)\n",
    "z_error_phase_result = z_error_phase_job.result()\n",
    "z_error_phase_counts = z_error_phase_result.get_counts()\n",
    "\n",
    "print(\"\\n无错误结果:\")\n",
    "print(no_error_phase_counts)\n",
    "print(\"\\nZ错误纠正后结果:\")\n",
    "print(z_error_phase_counts)"
   ]
  },
  {
   "cell_type": "markdown",
   "id": "2b2499ca",
   "metadata": {},
   "source": [
    "5. Shor码 - 通用量子纠错码\n"
   ]
  },
  {
   "cell_type": "code",
   "execution_count": null,
   "id": "f80b252e",
   "metadata": {},
   "outputs": [],
   "source": [
    "print(\"\\n5. Shor码 - 通用量子纠错码\")\n",
    "print(\"Shor码是一种可以纠正任意单量子比特错误的量子纠错码\")\n",
    "print(\"完整的Shor码实现较为复杂，需要9个量子比特\")\n",
    "print(\"Shor码是通过结合比特翻转码和相位翻转码来实现的\")\n",
    "print(\"它可以纠正X、Z和Y错误，其中Y错误等同于X和Z错误的组合\")"
   ]
  },
  {
   "cell_type": "markdown",
   "id": "d05ce727",
   "metadata": {},
   "source": [
    "6. 动态解耦技术\n"
   ]
  },
  {
   "cell_type": "code",
   "execution_count": null,
   "id": "81ea33a1",
   "metadata": {},
   "outputs": [],
   "source": [
    "print(\"\\n6. 动态解耦技术\")\n",
    "print(\"动态解耦是一种降低退相干噪声影响的技术\")"
   ]
  },
  {
   "cell_type": "markdown",
   "id": "fa88117f",
   "metadata": {},
   "source": [
    "实现简单的动态解耦序列\n"
   ]
  },
  {
   "cell_type": "code",
   "execution_count": null,
   "id": "d093872a",
   "metadata": {},
   "outputs": [],
   "source": [
    "def spin_echo_sequence():"
   ]
  },
  {
   "cell_type": "markdown",
   "id": "ed80b568",
   "metadata": {},
   "source": [
    "自旋回波序列，可减轻退相干影响"
   ]
  },
  {
   "cell_type": "code",
   "execution_count": null,
   "id": "ec18d5e8",
   "metadata": {},
   "outputs": [],
   "source": [
    "qc = QuantumCircuit(1, 1)\n",
    "    \n",
    "    # 创建叠加态\n",
    "    qc.h(0)\n",
    "    \n",
    "    # 等待一段时间 (这里用身份门替代)\n",
    "    qc.id(0)\n",
    "    \n",
    "    # 插入X门，翻转相位\n",
    "    qc.x(0)\n",
    "    \n",
    "    # 再等待相同的时间\n",
    "    qc.id(0)\n",
    "    \n",
    "    # 再次应用X门，回到原始状态\n",
    "    qc.x(0)\n",
    "    \n",
    "    # 测量\n",
    "    qc.h(0)\n",
    "    qc.measure(0, 0)\n",
    "    \n",
    "    return qc"
   ]
  },
  {
   "cell_type": "markdown",
   "id": "ea1cd29a",
   "metadata": {},
   "source": [
    "创建自旋回波电路\n"
   ]
  },
  {
   "cell_type": "code",
   "execution_count": null,
   "id": "24c833ab",
   "metadata": {},
   "outputs": [],
   "source": [
    "spin_echo_circuit = spin_echo_sequence()\n",
    "print(\"自旋回波序列:\")\n",
    "print(spin_echo_circuit.draw())"
   ]
  },
  {
   "cell_type": "markdown",
   "id": "3883c781",
   "metadata": {},
   "source": [
    "带噪声和不带自旋回波的对比\n"
   ]
  },
  {
   "cell_type": "code",
   "execution_count": null,
   "id": "98de0790",
   "metadata": {},
   "outputs": [],
   "source": [
    "def no_decoupling_sequence():"
   ]
  },
  {
   "cell_type": "markdown",
   "id": "a15726d1",
   "metadata": {},
   "source": [
    "没有解耦的参考电路"
   ]
  },
  {
   "cell_type": "code",
   "execution_count": null,
   "id": "44267cd1",
   "metadata": {},
   "outputs": [],
   "source": [
    "qc = QuantumCircuit(1, 1)\n",
    "    \n",
    "    # 创建叠加态\n",
    "    qc.h(0)\n",
    "    \n",
    "    # 等待一段时间 (用多个身份门替代)\n",
    "    qc.id(0)\n",
    "    qc.id(0)\n",
    "    qc.id(0)\n",
    "    qc.id(0)\n",
    "    \n",
    "    # 测量\n",
    "    qc.h(0)\n",
    "    qc.measure(0, 0)\n",
    "    \n",
    "    return qc"
   ]
  },
  {
   "cell_type": "markdown",
   "id": "89f1e470",
   "metadata": {},
   "source": [
    "创建不带解耦的电路\n"
   ]
  },
  {
   "cell_type": "code",
   "execution_count": null,
   "id": "9dd5de66",
   "metadata": {},
   "outputs": [],
   "source": [
    "no_decoupling_circuit = no_decoupling_sequence()\n",
    "print(\"\\n没有解耦的参考电路:\")\n",
    "print(no_decoupling_circuit.draw())"
   ]
  },
  {
   "cell_type": "markdown",
   "id": "08d4b1a6",
   "metadata": {},
   "source": [
    "使用热弛豫模型模拟退相干\n"
   ]
  },
  {
   "cell_type": "code",
   "execution_count": null,
   "id": "23560647",
   "metadata": {},
   "outputs": [],
   "source": [
    "t1 = 20  # T1时间\n",
    "t2 = 10  # T2时间 (T2 <= T1)\n",
    "gate_time = 1  # 每个门的时间"
   ]
  },
  {
   "cell_type": "markdown",
   "id": "001bd5ef",
   "metadata": {},
   "source": [
    "创建噪声模型\n"
   ]
  },
  {
   "cell_type": "code",
   "execution_count": null,
   "id": "6cfbd679",
   "metadata": {},
   "outputs": [],
   "source": [
    "decoh_noise_model = NoiseModel()\n",
    "thermal_err = thermal_relaxation_error(t1, t2, gate_time)\n",
    "decoh_noise_model.add_all_qubit_quantum_error(thermal_err, ['id', 'u1', 'u2', 'u3'])"
   ]
  },
  {
   "cell_type": "markdown",
   "id": "5157f73d",
   "metadata": {},
   "source": [
    "模拟带噪声的电路\n"
   ]
  },
  {
   "cell_type": "code",
   "execution_count": null,
   "id": "d02566cb",
   "metadata": {},
   "outputs": [],
   "source": [
    "spin_echo_job = execute(spin_echo_circuit, simulator, \n",
    "                      noise_model=decoh_noise_model, shots=1024)\n",
    "spin_echo_result = spin_echo_job.result()\n",
    "spin_echo_counts = spin_echo_result.get_counts()\n",
    "\n",
    "no_decoupling_job = execute(no_decoupling_circuit, simulator, \n",
    "                          noise_model=decoh_noise_model, shots=1024)\n",
    "no_decoupling_result = no_decoupling_job.result()\n",
    "no_decoupling_counts = no_decoupling_result.get_counts()\n",
    "\n",
    "print(\"\\n带自旋回波的结果:\")\n",
    "print(spin_echo_counts)\n",
    "print(\"\\n没有解耦的结果:\")\n",
    "print(no_decoupling_counts)"
   ]
  },
  {
   "cell_type": "markdown",
   "id": "0083c055",
   "metadata": {},
   "source": [
    "可视化比较\n"
   ]
  },
  {
   "cell_type": "code",
   "execution_count": null,
   "id": "5d097086",
   "metadata": {},
   "outputs": [],
   "source": [
    "print(\"\\n动态解耦效果对比 (图像将保存到文件):\")\n",
    "fig = plot_histogram([spin_echo_counts, no_decoupling_counts],\n",
    "                      legend=['自旋回波', '无解耦'])\n",
    "fig.savefig('dynamic_decoupling_comparison.png')\n",
    "plt.close(fig)"
   ]
  },
  {
   "cell_type": "markdown",
   "id": "c3174758",
   "metadata": {},
   "source": [
    "7. 其他降噪技术\n"
   ]
  },
  {
   "cell_type": "code",
   "execution_count": null,
   "id": "9ca20393",
   "metadata": {},
   "outputs": [],
   "source": [
    "print(\"\\n7. 其他降噪技术\")\n",
    "print(\"除了上述方法，还有其他几种降噪和错误缓解技术:\")\n",
    "\n",
    "print(\"\\n- 零噪声外推法 (Zero-Noise Extrapolation):\")\n",
    "print(\"  通过在不同噪声水平下运行电路并外推到零噪声点来减轻误差\")\n",
    "\n",
    "print(\"\\n- 概率错误消除 (Probabilistic Error Cancellation):\")\n",
    "print(\"  通过添加额外的门操作来消除特定噪声的效果\")\n",
    "\n",
    "print(\"\\n- 变分量子误差缓解 (Variational Quantum Error Mitigation):\")\n",
    "print(\"  使用变分方法优化电路参数，使其对噪声更加稳健\")\n",
    "\n",
    "print(\"\\n- 量子重启 (Quantum Restart):\")\n",
    "print(\"  在出现错误时重新开始计算，适用于有中间测量的电路\")"
   ]
  },
  {
   "cell_type": "markdown",
   "id": "1815eb72",
   "metadata": {},
   "source": [
    "8. 总结\n"
   ]
  },
  {
   "cell_type": "code",
   "execution_count": null,
   "id": "ff965c11",
   "metadata": {},
   "outputs": [],
   "source": [
    "print(\"\\n8. 总结\")\n",
    "print(\"1. 量子计算机面临多种噪声源，包括退相干、门误差和测量误差\")\n",
    "print(\"2. Qiskit提供了丰富的工具来模拟各种噪声模型\")\n",
    "print(\"3. 测量误差缓解是最容易实现的错误缓解技术之一\")\n",
    "print(\"4. 量子纠错码如比特翻转码和相位翻转码可以纠正特定类型的错误\")\n",
    "print(\"5. Shor码等通用量子纠错码可以纠正任意单量子比特错误\")\n",
    "print(\"6. 动态解耦等技术可以减轻退相干噪声的影响\")\n",
    "\n",
    "print(\"\\n下一步学习:\")\n",
    "print(\"- 实现更复杂的量子纠错码，如Steane码和表面码\")\n",
    "print(\"- 学习容错量子计算的基本原理\")\n",
    "print(\"- 研究针对特定量子硬件优化的误差缓解策略\")\n",
    "print(\"- 探索量子纠错码与量子算法的结合\")"
   ]
  },
  {
   "cell_type": "markdown",
   "id": "411da458",
   "metadata": {},
   "source": [
    "## 💡 挑战任务\n",
    "\n",
    "尝试扩展上面的练习，探索以下内容：\n",
    "1. 更改电路参数并观察结果的变化\n",
    "2. 尝试实现不同的量子态或算法\n",
    "3. 可视化更多量子测量的结果"
   ]
  }
 ],
 "metadata": {
  "kernelspec": {
   "display_name": "Python 3",
   "language": "python",
   "name": "python3"
  },
  "language_info": {
   "codemirror_mode": {
    "name": "ipython",
    "version": 3
   },
   "file_extension": ".py",
   "mimetype": "text/x-python",
   "name": "python",
   "nbconvert_exporter": "python",
   "pygments_lexer": "ipython3",
   "version": "3.9.13"
  }
 },
 "nbformat": 4,
 "nbformat_minor": 5
}

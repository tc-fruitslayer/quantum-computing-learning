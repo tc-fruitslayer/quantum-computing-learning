{
 "cells": [
  {
   "cell_type": "code",
   "execution_count": null,
   "id": "7c27320d",
   "metadata": {},
   "outputs": [],
   "source": [
    "#!/usr/bin/env python\n",
    "# -*- coding: utf-8 -*-"
   ]
  },
  {
   "cell_type": "markdown",
   "id": "38216517",
   "metadata": {},
   "source": [
    "\n",
    "Google Cirq框架学习 1：Cirq基础和特性\n",
    "本文件介绍Cirq的基本概念、数据结构和操作方式"
   ]
  },
  {
   "cell_type": "code",
   "execution_count": null,
   "id": "fa31a709",
   "metadata": {},
   "outputs": [],
   "source": [
    "import cirq\n",
    "import numpy as np\n",
    "import matplotlib.pyplot as plt\n"
   ]
  },
  {
   "cell_type": "code",
   "execution_count": null,
   "id": "5d60babd",
   "metadata": {},
   "outputs": [],
   "source": [
    "print(\"===== Cirq基础和特性 =====\")"
   ]
  },
  {
   "cell_type": "markdown",
   "id": "fd26faf9",
   "metadata": {},
   "source": [
    "1. 量子比特表示\n"
   ]
  },
  {
   "cell_type": "code",
   "execution_count": null,
   "id": "4b01b6b8",
   "metadata": {},
   "outputs": [],
   "source": [
    "print(\"\\n1. 量子比特表示\")\n",
    "print(\"   Cirq中有多种不同类型的量子比特表示方式\")"
   ]
  },
  {
   "cell_type": "markdown",
   "id": "91adb4f9",
   "metadata": {},
   "source": [
    "1.1 线性量子比特（LineQubit）- 最常用\n"
   ]
  },
  {
   "cell_type": "code",
   "execution_count": null,
   "id": "faf0383a",
   "metadata": {},
   "outputs": [],
   "source": [
    "print(\"\\n1.1 线性量子比特（LineQubit）\")\n",
    "q0 = cirq.LineQubit(0)  # 单个线性量子比特，索引为0\n",
    "q1 = cirq.LineQubit(1)  # 单个线性量子比特，索引为1"
   ]
  },
  {
   "cell_type": "markdown",
   "id": "248b2e0f",
   "metadata": {},
   "source": [
    "创建一系列连续的线性量子比特\n"
   ]
  },
  {
   "cell_type": "code",
   "execution_count": null,
   "id": "e79c0306",
   "metadata": {},
   "outputs": [],
   "source": [
    "line_qubits = cirq.LineQubit.range(5)  # 索引为0,1,2,3,4的5个量子比特\n",
    "print(f\"单个线性量子比特: {q0}, {q1}\")\n",
    "print(f\"连续的线性量子比特: {line_qubits}\")"
   ]
  },
  {
   "cell_type": "markdown",
   "id": "3dd4936d",
   "metadata": {},
   "source": [
    "1.2 网格量子比特（GridQubit）- 二维网格上的量子比特\n"
   ]
  },
  {
   "cell_type": "code",
   "execution_count": null,
   "id": "de9bd51f",
   "metadata": {},
   "outputs": [],
   "source": [
    "print(\"\\n1.2 网格量子比特（GridQubit）\")\n",
    "grid_q00 = cirq.GridQubit(0, 0)  # 位于(0,0)的网格量子比特\n",
    "grid_q01 = cirq.GridQubit(0, 1)  # 位于(0,1)的网格量子比特"
   ]
  },
  {
   "cell_type": "markdown",
   "id": "028d4930",
   "metadata": {},
   "source": [
    "创建一个2x3的网格量子比特阵列\n"
   ]
  },
  {
   "cell_type": "code",
   "execution_count": null,
   "id": "f405b46e",
   "metadata": {},
   "outputs": [],
   "source": [
    "grid = cirq.GridQubit.rect(2, 3)  # 2行3列的网格\n",
    "print(f\"单个网格量子比特: {grid_q00}, {grid_q01}\")\n",
    "print(f\"网格量子比特阵列: {grid}\")"
   ]
  },
  {
   "cell_type": "markdown",
   "id": "cc8b9e76",
   "metadata": {},
   "source": [
    "1.3 命名量子比特（NamedQubit）- 使用字符串标识的量子比特\n"
   ]
  },
  {
   "cell_type": "code",
   "execution_count": null,
   "id": "f8a781f0",
   "metadata": {},
   "outputs": [],
   "source": [
    "print(\"\\n1.3 命名量子比特（NamedQubit）\")\n",
    "alice = cirq.NamedQubit(\"Alice\")\n",
    "bob = cirq.NamedQubit(\"Bob\")\n",
    "print(f\"命名量子比特: {alice}, {bob}\")"
   ]
  },
  {
   "cell_type": "markdown",
   "id": "2a2fac90",
   "metadata": {},
   "source": [
    "2. 量子门\n"
   ]
  },
  {
   "cell_type": "code",
   "execution_count": null,
   "id": "5752a3cf",
   "metadata": {},
   "outputs": [],
   "source": [
    "print(\"\\n2. Cirq中的基本量子门\")"
   ]
  },
  {
   "cell_type": "markdown",
   "id": "b54a60d4",
   "metadata": {},
   "source": [
    "2.1 常见单量子比特门\n"
   ]
  },
  {
   "cell_type": "code",
   "execution_count": null,
   "id": "25b80fde",
   "metadata": {},
   "outputs": [],
   "source": [
    "print(\"\\n2.1 常见单量子比特门\")\n",
    "print(f\"X门 (NOT门): {cirq.X}\")\n",
    "print(f\"Y门: {cirq.Y}\")\n",
    "print(f\"Z门: {cirq.Z}\")\n",
    "print(f\"H门 (Hadamard): {cirq.H}\")\n",
    "print(f\"S门 (相位门): {cirq.S}\")\n",
    "print(f\"T门: {cirq.T}\")"
   ]
  },
  {
   "cell_type": "markdown",
   "id": "6e7a1157",
   "metadata": {},
   "source": [
    "2.2 旋转门\n"
   ]
  },
  {
   "cell_type": "code",
   "execution_count": null,
   "id": "e4a8bd1d",
   "metadata": {},
   "outputs": [],
   "source": [
    "print(\"\\n2.2 旋转门\")\n",
    "theta = np.pi/4\n",
    "rx = cirq.rx(theta)\n",
    "ry = cirq.ry(theta)\n",
    "rz = cirq.rz(theta)\n",
    "print(f\"Rx(π/4): {rx}\")\n",
    "print(f\"Ry(π/4): {ry}\")\n",
    "print(f\"Rz(π/4): {rz}\")"
   ]
  },
  {
   "cell_type": "markdown",
   "id": "35ea77bf",
   "metadata": {},
   "source": [
    "2.3 多量子比特门\n"
   ]
  },
  {
   "cell_type": "code",
   "execution_count": null,
   "id": "d6c2c427",
   "metadata": {},
   "outputs": [],
   "source": [
    "print(\"\\n2.3 多量子比特门\")\n",
    "print(f\"CNOT门: {cirq.CNOT}\")\n",
    "print(f\"CZ门: {cirq.CZ}\")\n",
    "print(f\"SWAP门: {cirq.SWAP}\")"
   ]
  },
  {
   "cell_type": "markdown",
   "id": "641f8955",
   "metadata": {},
   "source": [
    "3. 创建量子电路\n"
   ]
  },
  {
   "cell_type": "code",
   "execution_count": null,
   "id": "638cd307",
   "metadata": {},
   "outputs": [],
   "source": [
    "print(\"\\n3. 创建量子电路\")"
   ]
  },
  {
   "cell_type": "markdown",
   "id": "2d79b65b",
   "metadata": {},
   "source": [
    "3.1 创建一个空电路\n"
   ]
  },
  {
   "cell_type": "code",
   "execution_count": null,
   "id": "5e945304",
   "metadata": {},
   "outputs": [],
   "source": [
    "circuit = cirq.Circuit()\n",
    "print(\"\\n3.1 空电路:\")\n",
    "print(circuit)"
   ]
  },
  {
   "cell_type": "markdown",
   "id": "3bbdba67",
   "metadata": {},
   "source": [
    "3.2 添加操作\n"
   ]
  },
  {
   "cell_type": "code",
   "execution_count": null,
   "id": "fb6ae4d0",
   "metadata": {},
   "outputs": [],
   "source": [
    "print(\"\\n3.2 添加操作到电路\")"
   ]
  },
  {
   "cell_type": "markdown",
   "id": "45152e47",
   "metadata": {},
   "source": [
    "创建两个量子比特\n"
   ]
  },
  {
   "cell_type": "code",
   "execution_count": null,
   "id": "3c13b00a",
   "metadata": {},
   "outputs": [],
   "source": [
    "q0, q1 = cirq.LineQubit.range(2)"
   ]
  },
  {
   "cell_type": "markdown",
   "id": "3b18af9f",
   "metadata": {},
   "source": [
    "方法1：使用append方法\n"
   ]
  },
  {
   "cell_type": "code",
   "execution_count": null,
   "id": "1eadea8c",
   "metadata": {},
   "outputs": [],
   "source": [
    "circuit.append(cirq.H(q0))\n",
    "circuit.append(cirq.CNOT(q0, q1))\n",
    "print(\"使用append方法添加门后的电路:\")\n",
    "print(circuit)"
   ]
  },
  {
   "cell_type": "markdown",
   "id": "77d65ae9",
   "metadata": {},
   "source": [
    "方法2：直接从操作列表创建\n"
   ]
  },
  {
   "cell_type": "code",
   "execution_count": null,
   "id": "3c60fff7",
   "metadata": {},
   "outputs": [],
   "source": [
    "ops = [\n",
    "    cirq.H(q0),\n",
    "    cirq.CNOT(q0, q1),\n",
    "    cirq.measure(q0, q1, key='result')\n",
    "]\n",
    "bell_circuit = cirq.Circuit(ops)\n",
    "print(\"\\n从操作列表直接创建的Bell态电路:\")\n",
    "print(bell_circuit)"
   ]
  },
  {
   "cell_type": "markdown",
   "id": "a31d219d",
   "metadata": {},
   "source": [
    "3.3 创建和应用矩量（Moment）- 同时执行的操作集合\n"
   ]
  },
  {
   "cell_type": "code",
   "execution_count": null,
   "id": "3eaedd33",
   "metadata": {},
   "outputs": [],
   "source": [
    "print(\"\\n3.3 创建和应用矩量（Moment）\")\n",
    "q0, q1, q2 = cirq.LineQubit.range(3)\n",
    "moment1 = cirq.Moment([cirq.H(q0), cirq.H(q1), cirq.H(q2)])  # 3个Hadamard门并行\n",
    "moment2 = cirq.Moment([cirq.CNOT(q0, q1), cirq.X(q2)])       # CNOT和X门并行\n",
    "moment_circuit = cirq.Circuit([moment1, moment2])\n",
    "print(\"使用矩量创建的电路:\")\n",
    "print(moment_circuit)"
   ]
  },
  {
   "cell_type": "markdown",
   "id": "c2f777f4",
   "metadata": {},
   "source": [
    "4. 电路可视化\n"
   ]
  },
  {
   "cell_type": "code",
   "execution_count": null,
   "id": "30ee05e9",
   "metadata": {},
   "outputs": [],
   "source": [
    "print(\"\\n4. 电路可视化\")"
   ]
  },
  {
   "cell_type": "markdown",
   "id": "d1099437",
   "metadata": {},
   "source": [
    "创建一个稍复杂的电路进行可视化\n"
   ]
  },
  {
   "cell_type": "code",
   "execution_count": null,
   "id": "1f0b316a",
   "metadata": {},
   "outputs": [],
   "source": [
    "q0, q1, q2 = cirq.LineQubit.range(3)\n",
    "complex_circuit = cirq.Circuit(\n",
    "    cirq.H(q0),\n",
    "    cirq.CNOT(q0, q1),\n",
    "    cirq.CNOT(q1, q2),\n",
    "    cirq.H(q2),\n",
    "    cirq.X(q0),\n",
    "    cirq.measure(q0, q1, q2, key='result')\n",
    ")\n",
    "print(\"复杂电路的文本表示:\")\n",
    "print(complex_circuit)\n",
    "\n",
    "print(\"\\n复杂电路的ASCII图表示:\")\n",
    "print(complex_circuit.to_text_diagram(transpose=True))"
   ]
  },
  {
   "cell_type": "markdown",
   "id": "e8a5efa9",
   "metadata": {},
   "source": [
    "5. 模拟执行电路\n"
   ]
  },
  {
   "cell_type": "code",
   "execution_count": null,
   "id": "ab211c3d",
   "metadata": {},
   "outputs": [],
   "source": [
    "print(\"\\n5. 模拟执行电路\")"
   ]
  },
  {
   "cell_type": "markdown",
   "id": "bc7846d3",
   "metadata": {},
   "source": [
    "创建一个Bell态电路\n"
   ]
  },
  {
   "cell_type": "code",
   "execution_count": null,
   "id": "e70b2de7",
   "metadata": {},
   "outputs": [],
   "source": [
    "q0, q1 = cirq.LineQubit.range(2)\n",
    "bell_circuit = cirq.Circuit(\n",
    "    cirq.H(q0),\n",
    "    cirq.CNOT(q0, q1),\n",
    "    cirq.measure(q0, key='m0'),\n",
    "    cirq.measure(q1, key='m1')\n",
    ")"
   ]
  },
  {
   "cell_type": "markdown",
   "id": "15dff938",
   "metadata": {},
   "source": [
    "使用Cirq的模拟器执行电路\n"
   ]
  },
  {
   "cell_type": "code",
   "execution_count": null,
   "id": "158a9f79",
   "metadata": {},
   "outputs": [],
   "source": [
    "simulator = cirq.Simulator()\n",
    "repetitions = 1000\n",
    "result = simulator.run(bell_circuit, repetitions=repetitions)"
   ]
  },
  {
   "cell_type": "markdown",
   "id": "ef50b077",
   "metadata": {},
   "source": [
    "分析结果\n"
   ]
  },
  {
   "cell_type": "code",
   "execution_count": null,
   "id": "1571d36b",
   "metadata": {},
   "outputs": [],
   "source": [
    "print(f\"Bell态电路的运行结果 ({repetitions} 次重复):\")\n",
    "print(result.histogram(key='m0'))  # 测量q0的结果直方图\n",
    "print(result.histogram(key='m1'))  # 测量q1的结果直方图"
   ]
  },
  {
   "cell_type": "markdown",
   "id": "4f995ab5",
   "metadata": {},
   "source": [
    "计算m0和m1的相关性\n"
   ]
  },
  {
   "cell_type": "code",
   "execution_count": null,
   "id": "b382cb68",
   "metadata": {},
   "outputs": [],
   "source": [
    "m0_results = result.measurements['m0'].flatten()\n",
    "m1_results = result.measurements['m1'].flatten()\n",
    "print(\"\\n量子比特测量结果的相关性:\")\n",
    "matches = sum(m0_results == m1_results)\n",
    "print(f\"相同结果的比例: {matches / repetitions:.2f} (理论值应为1.0)\")"
   ]
  },
  {
   "cell_type": "markdown",
   "id": "7fedeb8c",
   "metadata": {},
   "source": [
    "6. Cirq的特殊功能：参数化电路\n"
   ]
  },
  {
   "cell_type": "code",
   "execution_count": null,
   "id": "bb6b88a4",
   "metadata": {},
   "outputs": [],
   "source": [
    "print(\"\\n6. 参数化电路\")"
   ]
  },
  {
   "cell_type": "markdown",
   "id": "5fbd18f8",
   "metadata": {},
   "source": [
    "定义参数\n"
   ]
  },
  {
   "cell_type": "code",
   "execution_count": null,
   "id": "27018a9f",
   "metadata": {},
   "outputs": [],
   "source": [
    "theta = cirq.Parameter('θ')\n",
    "phi = cirq.Parameter('φ')"
   ]
  },
  {
   "cell_type": "markdown",
   "id": "b347636f",
   "metadata": {},
   "source": [
    "创建带参数的电路\n"
   ]
  },
  {
   "cell_type": "code",
   "execution_count": null,
   "id": "17d74ae0",
   "metadata": {},
   "outputs": [],
   "source": [
    "q0 = cirq.LineQubit(0)\n",
    "param_circuit = cirq.Circuit(\n",
    "    cirq.rx(theta)(q0),\n",
    "    cirq.rz(phi)(q0),\n",
    "    cirq.measure(q0, key='result')\n",
    ")\n",
    "\n",
    "print(\"参数化电路:\")\n",
    "print(param_circuit)"
   ]
  },
  {
   "cell_type": "markdown",
   "id": "af039b30",
   "metadata": {},
   "source": [
    "绑定参数\n"
   ]
  },
  {
   "cell_type": "code",
   "execution_count": null,
   "id": "29dd98c0",
   "metadata": {},
   "outputs": [],
   "source": [
    "resolver = cirq.ParamResolver({theta: np.pi/4, phi: np.pi/2})\n",
    "resolved_circuit = cirq.resolve_parameters(param_circuit, resolver)\n",
    "\n",
    "print(\"\\n绑定参数后的电路 (θ=π/4, φ=π/2):\")\n",
    "print(resolved_circuit)"
   ]
  },
  {
   "cell_type": "markdown",
   "id": "8fc61e84",
   "metadata": {},
   "source": [
    "7. 比较Cirq和其他框架的主要区别\n"
   ]
  },
  {
   "cell_type": "code",
   "execution_count": null,
   "id": "89fcd30c",
   "metadata": {},
   "outputs": [],
   "source": [
    "print(\"\\n7. Cirq的独特特性\")\n",
    "print(\"   1. 设备特定的拓扑结构：针对特定量子硬件的限制\")\n",
    "print(\"   2. 矩量（Moment）：明确控制并行操作\")\n",
    "print(\"   3. 强大的参数化支持\")\n",
    "print(\"   4. 与Google的量子硬件和TensorFlow Quantum的紧密集成\")\n",
    "print(\"   5. 集中于NISQ时代的应用\")\n",
    "\n",
    "print(\"\\n总结:\")\n",
    "print(\"1. Cirq提供了丰富的量子比特表示方式\")\n",
    "print(\"2. 支持标准量子门和自定义门操作\")\n",
    "print(\"3. 电路创建和修改非常灵活\")\n",
    "print(\"4. 提供多种模拟器和可视化工具\")\n",
    "print(\"5. 特别适合针对特定硬件拓扑的电路设计\")\n",
    "print(\"6. 与Google量子生态系统紧密集成\")"
   ]
  },
  {
   "cell_type": "markdown",
   "id": "cb496756",
   "metadata": {},
   "source": [
    "## 💡 挑战任务\n",
    "\n",
    "尝试扩展上面的练习，探索以下内容：\n",
    "1. 更改电路参数并观察结果的变化\n",
    "2. 尝试实现不同的量子态或算法\n",
    "3. 可视化更多量子测量的结果"
   ]
  }
 ],
 "metadata": {
  "kernelspec": {
   "display_name": "Python 3",
   "language": "python",
   "name": "python3"
  },
  "language_info": {
   "codemirror_mode": {
    "name": "ipython",
    "version": 3
   },
   "file_extension": ".py",
   "mimetype": "text/x-python",
   "name": "python",
   "nbconvert_exporter": "python",
   "pygments_lexer": "ipython3",
   "version": "3.9.13"
  }
 },
 "nbformat": 4,
 "nbformat_minor": 5
}

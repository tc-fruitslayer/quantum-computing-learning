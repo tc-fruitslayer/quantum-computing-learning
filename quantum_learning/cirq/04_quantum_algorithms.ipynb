{
 "cells": [
  {
   "cell_type": "code",
   "execution_count": null,
   "id": "6b58a201",
   "metadata": {},
   "outputs": [],
   "source": [
    "#!/usr/bin/env python\n",
    "# -*- coding: utf-8 -*-"
   ]
  },
  {
   "cell_type": "markdown",
   "id": "00057a6f",
   "metadata": {},
   "source": [
    "\n",
    "Google Cirq框架学习 4：量子算法实现\n",
    "本文件详细介绍如何使用Cirq实现经典量子算法"
   ]
  },
  {
   "cell_type": "code",
   "execution_count": null,
   "id": "1a75fa4a",
   "metadata": {},
   "outputs": [],
   "source": [
    "import cirq\n",
    "import numpy as np\n",
    "import matplotlib.pyplot as plt\n",
    "import sympy\n",
    "from typing import List, Dict, Tuple\n"
   ]
  },
  {
   "cell_type": "code",
   "execution_count": null,
   "id": "9c046fff",
   "metadata": {},
   "outputs": [],
   "source": [
    "print(\"===== Cirq中的量子算法实现 =====\")"
   ]
  },
  {
   "cell_type": "markdown",
   "id": "15243fd6",
   "metadata": {},
   "source": [
    "1. Deutsch-Jozsa算法\n"
   ]
  },
  {
   "cell_type": "code",
   "execution_count": null,
   "id": "51a8192e",
   "metadata": {},
   "outputs": [],
   "source": [
    "print(\"\\n1. Deutsch-Jozsa算法\")\n",
    "print(\"目标：确定一个黑盒函数是常数函数还是平衡函数\")\n",
    "print(\"常数函数: f(x) 对所有输入返回相同的值(全0或全1)\")\n",
    "print(\"平衡函数: f(x) 对一半的输入返回0，另一半输入返回1\")"
   ]
  },
  {
   "cell_type": "markdown",
   "id": "4ed74965",
   "metadata": {},
   "source": [
    "1.1 实现常数函数的Oracle\n"
   ]
  },
  {
   "cell_type": "code",
   "execution_count": null,
   "id": "ce81f11e",
   "metadata": {},
   "outputs": [],
   "source": [
    "print(\"\\n1.1 常数函数的Oracle\")\n",
    "def deutsch_jozsa_constant_oracle(qubits, target, constant_value=0):"
   ]
  },
  {
   "cell_type": "markdown",
   "id": "58c22e0f",
   "metadata": {},
   "source": [
    "创建一个常数函数的量子Oracle\n",
    "    \n",
    "    Args:\n",
    "        qubits: 输入量子比特列表\n",
    "        target: 目标/输出量子比特\n",
    "        constant_value: 常数值（0或1）\n",
    "    \n",
    "    Returns:\n",
    "        包含Oracle操作的cirq.Circuit"
   ]
  },
  {
   "cell_type": "code",
   "execution_count": null,
   "id": "59e009a5",
   "metadata": {},
   "outputs": [],
   "source": [
    "circuit = cirq.Circuit()\n",
    "    \n",
    "    # 如果常数值为1，则对目标比特应用X门\n",
    "    if constant_value == 1:\n",
    "        circuit.append(cirq.X(target))\n",
    "    \n",
    "    return circuit"
   ]
  },
  {
   "cell_type": "markdown",
   "id": "a0c95f89",
   "metadata": {},
   "source": [
    "1.2 实现平衡函数的Oracle\n"
   ]
  },
  {
   "cell_type": "code",
   "execution_count": null,
   "id": "1de99c66",
   "metadata": {},
   "outputs": [],
   "source": [
    "print(\"\\n1.2 平衡函数的Oracle\")\n",
    "def deutsch_jozsa_balanced_oracle(qubits, target):"
   ]
  },
  {
   "cell_type": "markdown",
   "id": "601f390d",
   "metadata": {},
   "source": [
    "创建一个平衡函数的量子Oracle\n",
    "    平衡函数将一半的输入映射到0，另一半映射到1\n",
    "    在这个例子中，我们创建一个将目标比特与第一个输入比特进行XOR的Oracle\n",
    "    \n",
    "    Args:\n",
    "        qubits: 输入量子比特列表\n",
    "        target: 目标/输出量子比特\n",
    "    \n",
    "    Returns:\n",
    "        包含Oracle操作的cirq.Circuit"
   ]
  },
  {
   "cell_type": "code",
   "execution_count": null,
   "id": "194a7a90",
   "metadata": {},
   "outputs": [],
   "source": [
    "circuit = cirq.Circuit()\n",
    "    # 简单的平衡函数：f(x) = x_0\n",
    "    circuit.append(cirq.CNOT(qubits[0], target))\n",
    "    return circuit"
   ]
  },
  {
   "cell_type": "markdown",
   "id": "ec2c0c8b",
   "metadata": {},
   "source": [
    "1.3 完整的Deutsch-Jozsa算法\n"
   ]
  },
  {
   "cell_type": "code",
   "execution_count": null,
   "id": "4a8b60b9",
   "metadata": {},
   "outputs": [],
   "source": [
    "print(\"\\n1.3 完整的Deutsch-Jozsa算法\")\n",
    "def deutsch_jozsa_algorithm(n_qubits, oracle_type='constant', constant_value=0):"
   ]
  },
  {
   "cell_type": "markdown",
   "id": "50a85b96",
   "metadata": {},
   "source": [
    "实现Deutsch-Jozsa算法\n",
    "    \n",
    "    Args:\n",
    "        n_qubits: 输入量子比特的数量\n",
    "        oracle_type: Oracle类型 ('constant' 或 'balanced')\n",
    "        constant_value: 如果使用常数函数，指定常数值（0或1）\n",
    "    \n",
    "    Returns:\n",
    "        包含完整算法的cirq.Circuit"
   ]
  },
  {
   "cell_type": "code",
   "execution_count": null,
   "id": "e7ab8a0e",
   "metadata": {},
   "outputs": [],
   "source": [
    "# 创建量子比特\n",
    "    input_qubits = [cirq.LineQubit(i) for i in range(n_qubits)]\n",
    "    output_qubit = cirq.LineQubit(n_qubits)\n",
    "    \n",
    "    circuit = cirq.Circuit()\n",
    "    \n",
    "    # 初始化输出量子比特为|1>\n",
    "    circuit.append(cirq.X(output_qubit))\n",
    "    \n",
    "    # 对所有量子比特应用Hadamard门\n",
    "    circuit.append(cirq.H.on_each(input_qubits))\n",
    "    circuit.append(cirq.H(output_qubit))\n",
    "    \n",
    "    # 应用Oracle\n",
    "    if oracle_type == 'constant':\n",
    "        oracle_circuit = deutsch_jozsa_constant_oracle(input_qubits, output_qubit, constant_value)\n",
    "    else:  # balanced\n",
    "        oracle_circuit = deutsch_jozsa_balanced_oracle(input_qubits, output_qubit)\n",
    "    \n",
    "    circuit.append(oracle_circuit)\n",
    "    \n",
    "    # 再次对输入量子比特应用Hadamard门\n",
    "    circuit.append(cirq.H.on_each(input_qubits))\n",
    "    \n",
    "    # 测量所有输入量子比特\n",
    "    circuit.append(cirq.measure(*input_qubits, key='result'))\n",
    "    \n",
    "    return circuit"
   ]
  },
  {
   "cell_type": "markdown",
   "id": "f59c3372",
   "metadata": {},
   "source": [
    "演示Deutsch-Jozsa算法\n"
   ]
  },
  {
   "cell_type": "code",
   "execution_count": null,
   "id": "39ff13cd",
   "metadata": {},
   "outputs": [],
   "source": [
    "n_qubits = 3  # 使用3个输入量子比特"
   ]
  },
  {
   "cell_type": "markdown",
   "id": "10d2ff08",
   "metadata": {},
   "source": [
    "常数函数的情况\n"
   ]
  },
  {
   "cell_type": "code",
   "execution_count": null,
   "id": "d7caee5d",
   "metadata": {},
   "outputs": [],
   "source": [
    "constant_circuit = deutsch_jozsa_algorithm(n_qubits, 'constant', 0)\n",
    "print(\"\\n常数函数(f(x) = 0)的Deutsch-Jozsa电路:\")\n",
    "print(constant_circuit)"
   ]
  },
  {
   "cell_type": "markdown",
   "id": "b8ad4cfc",
   "metadata": {},
   "source": [
    "平衡函数的情况\n"
   ]
  },
  {
   "cell_type": "code",
   "execution_count": null,
   "id": "f911ec59",
   "metadata": {},
   "outputs": [],
   "source": [
    "balanced_circuit = deutsch_jozsa_algorithm(n_qubits, 'balanced')\n",
    "print(\"\\n平衡函数的Deutsch-Jozsa电路:\")\n",
    "print(balanced_circuit)"
   ]
  },
  {
   "cell_type": "markdown",
   "id": "32520bba",
   "metadata": {},
   "source": [
    "模拟并解释结果\n"
   ]
  },
  {
   "cell_type": "code",
   "execution_count": null,
   "id": "93c7a585",
   "metadata": {},
   "outputs": [],
   "source": [
    "simulator = cirq.Simulator()"
   ]
  },
  {
   "cell_type": "markdown",
   "id": "6b243167",
   "metadata": {},
   "source": [
    "常数函数的结果\n"
   ]
  },
  {
   "cell_type": "code",
   "execution_count": null,
   "id": "ab5d9f58",
   "metadata": {},
   "outputs": [],
   "source": [
    "constant_result = simulator.run(constant_circuit, repetitions=10)\n",
    "print(\"\\n常数函数的结果:\")\n",
    "print(constant_result)"
   ]
  },
  {
   "cell_type": "markdown",
   "id": "8204803d",
   "metadata": {},
   "source": [
    "平衡函数的结果\n"
   ]
  },
  {
   "cell_type": "code",
   "execution_count": null,
   "id": "5a2442f9",
   "metadata": {},
   "outputs": [],
   "source": [
    "balanced_result = simulator.run(balanced_circuit, repetitions=10)\n",
    "print(\"\\n平衡函数的结果:\")\n",
    "print(balanced_result)\n",
    "\n",
    "print(\"\\nDeutsch-Jozsa算法解释:\")\n",
    "print(\"- 如果所有输入量子比特的测量结果都是0，函数是常数的\")\n",
    "print(\"- 如果有任何非0的测量结果，函数是平衡的\")"
   ]
  },
  {
   "cell_type": "markdown",
   "id": "7f00b477",
   "metadata": {},
   "source": [
    "2. Grover搜索算法\n"
   ]
  },
  {
   "cell_type": "code",
   "execution_count": null,
   "id": "6f0f381b",
   "metadata": {},
   "outputs": [],
   "source": [
    "print(\"\\n2. Grover搜索算法\")\n",
    "print(\"目标：在未排序数据中找到满足条件的元素\")"
   ]
  },
  {
   "cell_type": "markdown",
   "id": "a00f1570",
   "metadata": {},
   "source": [
    "2.1 Grover Oracle\n"
   ]
  },
  {
   "cell_type": "code",
   "execution_count": null,
   "id": "4da6c250",
   "metadata": {},
   "outputs": [],
   "source": [
    "print(\"\\n2.1 创建Grover Oracle\")\n",
    "def grover_oracle(qubits, marked_states):"
   ]
  },
  {
   "cell_type": "markdown",
   "id": "a9722cb0",
   "metadata": {},
   "source": [
    "为Grover算法创建一个Oracle\n",
    "    \n",
    "    Args:\n",
    "        qubits: 量子比特列表\n",
    "        marked_states: 标记状态的列表（以二进制字符串表示）\n",
    "    \n",
    "    Returns:\n",
    "        Oracle操作"
   ]
  },
  {
   "cell_type": "code",
   "execution_count": null,
   "id": "131b3fd9",
   "metadata": {},
   "outputs": [],
   "source": [
    "# 将标记的状态转换为整数\n",
    "    marked_indices = [int(state, 2) for state in marked_states]\n",
    "    \n",
    "    # 创建多控制Z门\n",
    "    return cirq.Z.on_each([qubits[i] for i in range(len(qubits))])"
   ]
  },
  {
   "cell_type": "markdown",
   "id": "1d6f0333",
   "metadata": {},
   "source": [
    "2.2 Grover扩散算子\n"
   ]
  },
  {
   "cell_type": "code",
   "execution_count": null,
   "id": "95656a67",
   "metadata": {},
   "outputs": [],
   "source": [
    "print(\"\\n2.2 Grover扩散算子\")\n",
    "def grover_diffusion(qubits):"
   ]
  },
  {
   "cell_type": "markdown",
   "id": "41032b00",
   "metadata": {},
   "source": [
    "创建Grover扩散算子\n",
    "    \n",
    "    Args:\n",
    "        qubits: 量子比特列表\n",
    "    \n",
    "    Returns:\n",
    "        包含扩散算子的cirq.Circuit"
   ]
  },
  {
   "cell_type": "code",
   "execution_count": null,
   "id": "bc6543d8",
   "metadata": {},
   "outputs": [],
   "source": [
    "n = len(qubits)\n",
    "    circuit = cirq.Circuit()\n",
    "    \n",
    "    # 对所有量子比特应用Hadamard门\n",
    "    circuit.append(cirq.H.on_each(qubits))\n",
    "    \n",
    "    # 应用多控制Z门 (或等效操作)\n",
    "    # 先对所有量子比特应用X门\n",
    "    circuit.append(cirq.X.on_each(qubits))\n",
    "    \n",
    "    # 添加多控制Z门（这里简化为CZ和受控操作）\n",
    "    if n > 1:\n",
    "        control_qubits = qubits[:-1]\n",
    "        target_qubit = qubits[-1]\n",
    "        circuit.append(cirq.H(target_qubit))\n",
    "        circuit.append(cirq.CNOT(control_qubits[0], target_qubit))\n",
    "        \n",
    "        if n > 2:\n",
    "            for i in range(1, len(control_qubits)):\n",
    "                circuit.append(cirq.CNOT(control_qubits[i], target_qubit))\n",
    "        \n",
    "        circuit.append(cirq.H(target_qubit))\n",
    "    \n",
    "    # 再次对所有量子比特应用X门\n",
    "    circuit.append(cirq.X.on_each(qubits))\n",
    "    \n",
    "    # 再次对所有量子比特应用Hadamard门\n",
    "    circuit.append(cirq.H.on_each(qubits))\n",
    "    \n",
    "    return circuit"
   ]
  },
  {
   "cell_type": "markdown",
   "id": "419a805d",
   "metadata": {},
   "source": [
    "2.3 完整的Grover算法\n"
   ]
  },
  {
   "cell_type": "code",
   "execution_count": null,
   "id": "c262524c",
   "metadata": {},
   "outputs": [],
   "source": [
    "print(\"\\n2.3 完整的Grover算法\")\n",
    "def grover_algorithm(n_qubits, marked_states, num_iterations=None):"
   ]
  },
  {
   "cell_type": "markdown",
   "id": "8ffeadac",
   "metadata": {},
   "source": [
    "实现Grover搜索算法\n",
    "    \n",
    "    Args:\n",
    "        n_qubits: 量子比特数量\n",
    "        marked_states: 标记状态列表（以二进制字符串表示）\n",
    "        num_iterations: Grover迭代次数，如果为None则使用最优迭代次数\n",
    "    \n",
    "    Returns:\n",
    "        包含完整Grover算法的cirq.Circuit"
   ]
  },
  {
   "cell_type": "code",
   "execution_count": null,
   "id": "0433ca25",
   "metadata": {},
   "outputs": [],
   "source": [
    "# 创建量子比特\n",
    "    qubits = [cirq.LineQubit(i) for i in range(n_qubits)]\n",
    "    \n",
    "    # 计算最优迭代次数\n",
    "    N = 2**n_qubits\n",
    "    M = len(marked_states)\n",
    "    if num_iterations is None:\n",
    "        num_iterations = int(np.round(np.pi/4 * np.sqrt(N/M)))\n",
    "    \n",
    "    circuit = cirq.Circuit()\n",
    "    \n",
    "    # 初始化：对所有量子比特应用Hadamard门\n",
    "    circuit.append(cirq.H.on_each(qubits))\n",
    "    \n",
    "    # Grover迭代\n",
    "    for _ in range(num_iterations):\n",
    "        # Oracle\n",
    "        oracle_circuit = grover_oracle(qubits, marked_states)\n",
    "        circuit.append(oracle_circuit)\n",
    "        \n",
    "        # 扩散算子\n",
    "        diffusion_circuit = grover_diffusion(qubits)\n",
    "        circuit.append(diffusion_circuit)\n",
    "    \n",
    "    # 测量所有量子比特\n",
    "    circuit.append(cirq.measure(*qubits, key='result'))\n",
    "    \n",
    "    return circuit"
   ]
  },
  {
   "cell_type": "markdown",
   "id": "28c7523c",
   "metadata": {},
   "source": [
    "演示Grover算法\n"
   ]
  },
  {
   "cell_type": "code",
   "execution_count": null,
   "id": "d77576d5",
   "metadata": {},
   "outputs": [],
   "source": [
    "n_qubits = 3  # 使用3个量子比特（8个可能的状态）\n",
    "marked_states = ['101']  # 标记状态 |101⟩\n",
    "num_iterations = 2  # Grover迭代次数\n",
    "\n",
    "print(\"\\n为搜索元素'101'创建Grover电路:\")\n",
    "grover_circuit = grover_algorithm(n_qubits, marked_states, num_iterations)\n",
    "print(grover_circuit)"
   ]
  },
  {
   "cell_type": "markdown",
   "id": "84257734",
   "metadata": {},
   "source": [
    "模拟并解释结果\n"
   ]
  },
  {
   "cell_type": "code",
   "execution_count": null,
   "id": "34eb5bc8",
   "metadata": {},
   "outputs": [],
   "source": [
    "simulator = cirq.Simulator()\n",
    "grover_result = simulator.run(grover_circuit, repetitions=100)"
   ]
  },
  {
   "cell_type": "markdown",
   "id": "8e872f76",
   "metadata": {},
   "source": [
    "分析结果\n"
   ]
  },
  {
   "cell_type": "code",
   "execution_count": null,
   "id": "8c1baa28",
   "metadata": {},
   "outputs": [],
   "source": [
    "results = grover_result.measurements['result']\n",
    "counts = {}\n",
    "for bits in results:\n",
    "    bits_str = ''.join(str(int(bit)) for bit in bits)\n",
    "    counts[bits_str] = counts.get(bits_str, 0) + 1\n",
    "\n",
    "print(\"\\nGrover搜索结果:\")\n",
    "for state, count in sorted(counts.items(), key=lambda x: x[1], reverse=True):\n",
    "    print(f\"|{state}⟩: {count} 次 ({count/100:.2f})\")\n",
    "\n",
    "print(\"\\nGrover算法解释:\")\n",
    "print(f\"- 理论上，{num_iterations}次Grover迭代后，标记状态|{marked_states[0]}⟩的概率应该显著增加\")\n",
    "print(\"- 模拟结果显示标记状态的测量频率明显高于其他状态\")"
   ]
  },
  {
   "cell_type": "markdown",
   "id": "39e99696",
   "metadata": {},
   "source": [
    "3. 量子相位估计算法\n"
   ]
  },
  {
   "cell_type": "code",
   "execution_count": null,
   "id": "9808c4c8",
   "metadata": {},
   "outputs": [],
   "source": [
    "print(\"\\n3. 量子相位估计算法\")\n",
    "print(\"目标：估计酉算子的特征值的相位\")"
   ]
  },
  {
   "cell_type": "markdown",
   "id": "dc22fe50",
   "metadata": {},
   "source": [
    "3.1 创建受控U操作\n"
   ]
  },
  {
   "cell_type": "code",
   "execution_count": null,
   "id": "1cd8eff9",
   "metadata": {},
   "outputs": [],
   "source": [
    "print(\"\\n3.1 受控U操作\")\n",
    "def controlled_u_power(control, target, u_gate, power):"
   ]
  },
  {
   "cell_type": "markdown",
   "id": "21df2034",
   "metadata": {},
   "source": [
    "创建受控U^power操作\n",
    "    \n",
    "    Args:\n",
    "        control: 控制量子比特\n",
    "        target: 目标量子比特\n",
    "        u_gate: 要控制的U门\n",
    "        power: U门的幂\n",
    "    \n",
    "    Returns:\n",
    "        受控U^power操作"
   ]
  },
  {
   "cell_type": "code",
   "execution_count": null,
   "id": "1c6ba933",
   "metadata": {},
   "outputs": [],
   "source": [
    "# 对于简单的情况，我们可以使用内置的支持\n",
    "    # 例如，对于U=Z，我们可以使用受控Z门\n",
    "    if isinstance(u_gate, cirq.ZPowGate):\n",
    "        return cirq.CZ(control, target)**(power)\n",
    "    elif isinstance(u_gate, cirq.XPowGate):\n",
    "        return cirq.CNOT(control, target)\n",
    "    else:\n",
    "        # 对于一般情况，我们需要更复杂的构造\n",
    "        controlled_u = cirq.ControlledGate(sub_gate=u_gate**power)\n",
    "        return controlled_u.on(control, target)"
   ]
  },
  {
   "cell_type": "markdown",
   "id": "83bb62cc",
   "metadata": {},
   "source": [
    "3.2 量子相位估计算法\n"
   ]
  },
  {
   "cell_type": "code",
   "execution_count": null,
   "id": "d2095861",
   "metadata": {},
   "outputs": [],
   "source": [
    "print(\"\\n3.2 量子相位估计算法实现\")\n",
    "def quantum_phase_estimation(unitary, precision_qubits, target_qubits):"
   ]
  },
  {
   "cell_type": "markdown",
   "id": "0c1e29e1",
   "metadata": {},
   "source": [
    "实现量子相位估计算法\n",
    "    \n",
    "    Args:\n",
    "        unitary: 要估计其特征值的酉矩阵（作为门操作）\n",
    "        precision_qubits: 用于精度的量子比特列表\n",
    "        target_qubits: 特征向量量子比特\n",
    "    \n",
    "    Returns:\n",
    "        包含量子相位估计算法的cirq.Circuit"
   ]
  },
  {
   "cell_type": "code",
   "execution_count": null,
   "id": "6aaa0682",
   "metadata": {},
   "outputs": [],
   "source": [
    "n = len(precision_qubits)\n",
    "    circuit = cirq.Circuit()\n",
    "    \n",
    "    # 准备特征向量\n",
    "    # 注意：在实际使用中，你需要确保target_qubits处于unitary的特征向量状态\n",
    "    # 这里我们简化为已经在正确状态\n",
    "    \n",
    "    # 对精度量子比特应用Hadamard门\n",
    "    circuit.append(cirq.H.on_each(precision_qubits))\n",
    "    \n",
    "    # 应用受控U^(2^j)操作\n",
    "    for j in range(n):\n",
    "        power = 2**j\n",
    "        for target in target_qubits:\n",
    "            circuit.append(controlled_u_power(precision_qubits[j], target, unitary, power))\n",
    "    \n",
    "    # 逆量子傅里叶变换 (QFT†)\n",
    "    circuit.append(cirq.qft(*precision_qubits, inverse=True))\n",
    "    \n",
    "    # 测量精度量子比特\n",
    "    circuit.append(cirq.measure(*precision_qubits, key='phase'))\n",
    "    \n",
    "    return circuit"
   ]
  },
  {
   "cell_type": "markdown",
   "id": "6db87e60",
   "metadata": {},
   "source": [
    "演示量子相位估计\n"
   ]
  },
  {
   "cell_type": "code",
   "execution_count": null,
   "id": "5e10e48e",
   "metadata": {},
   "outputs": [],
   "source": [
    "print(\"\\n演示量子相位估计算法:\")"
   ]
  },
  {
   "cell_type": "markdown",
   "id": "bc3bc73e",
   "metadata": {},
   "source": [
    "使用Z门作为我们要估计相位的酉算子\n",
    "Z门的特征值是 e^(i*pi) (-1) 对应相位 0.5\n"
   ]
  },
  {
   "cell_type": "code",
   "execution_count": null,
   "id": "5211b62b",
   "metadata": {},
   "outputs": [],
   "source": [
    "unitary = cirq.Z"
   ]
  },
  {
   "cell_type": "markdown",
   "id": "8a5f1adb",
   "metadata": {},
   "source": [
    "设置量子比特\n"
   ]
  },
  {
   "cell_type": "code",
   "execution_count": null,
   "id": "1319661b",
   "metadata": {},
   "outputs": [],
   "source": [
    "precision_qubits = [cirq.LineQubit(i) for i in range(4)]  # 4位精度\n",
    "target_qubit = cirq.LineQubit(4)  # 目标量子比特"
   ]
  },
  {
   "cell_type": "markdown",
   "id": "67fe3bfa",
   "metadata": {},
   "source": [
    "创建电路\n"
   ]
  },
  {
   "cell_type": "code",
   "execution_count": null,
   "id": "58358a99",
   "metadata": {},
   "outputs": [],
   "source": [
    "qpe_circuit = cirq.Circuit()"
   ]
  },
  {
   "cell_type": "markdown",
   "id": "a7f67cf3",
   "metadata": {},
   "source": [
    "初始化目标量子比特为|1⟩（Z门的特征向量）\n"
   ]
  },
  {
   "cell_type": "code",
   "execution_count": null,
   "id": "f3169ccb",
   "metadata": {},
   "outputs": [],
   "source": [
    "qpe_circuit.append(cirq.X(target_qubit))"
   ]
  },
  {
   "cell_type": "markdown",
   "id": "6377580a",
   "metadata": {},
   "source": [
    "添加相位估计算法的主要部分\n"
   ]
  },
  {
   "cell_type": "code",
   "execution_count": null,
   "id": "854e5161",
   "metadata": {},
   "outputs": [],
   "source": [
    "qpe_circuit += quantum_phase_estimation(unitary, precision_qubits, [target_qubit])\n",
    "\n",
    "print(qpe_circuit)"
   ]
  },
  {
   "cell_type": "markdown",
   "id": "25e8b259",
   "metadata": {},
   "source": [
    "模拟并解释结果\n"
   ]
  },
  {
   "cell_type": "code",
   "execution_count": null,
   "id": "a97c7942",
   "metadata": {},
   "outputs": [],
   "source": [
    "simulator = cirq.Simulator()\n",
    "qpe_result = simulator.run(qpe_circuit, repetitions=100)"
   ]
  },
  {
   "cell_type": "markdown",
   "id": "e322e001",
   "metadata": {},
   "source": [
    "分析结果\n"
   ]
  },
  {
   "cell_type": "code",
   "execution_count": null,
   "id": "70dbcfbd",
   "metadata": {},
   "outputs": [],
   "source": [
    "results = qpe_result.measurements['phase']\n",
    "counts = {}\n",
    "for bits in results:\n",
    "    bits_str = ''.join(str(int(bit)) for bit in bits)\n",
    "    decimal = int(bits_str, 2) / (2**len(precision_qubits))\n",
    "    rounded = round(decimal, 3)\n",
    "    counts[rounded] = counts.get(rounded, 0) + 1\n",
    "\n",
    "print(\"\\n量子相位估计结果:\")\n",
    "for phase, count in sorted(counts.items()):\n",
    "    print(f\"相位 {phase}: {count} 次 ({count/100:.2f})\")\n",
    "\n",
    "print(\"\\n量子相位估计解释:\")\n",
    "print(\"- Z门的特征值是 -1 = e^(i*pi)，对应的相位是 0.5\")\n",
    "print(\"- 我们使用4个精度量子比特，理论上能够分辨 2^4 = 16 个不同的相位\")\n",
    "print(\"- 结果应该集中在相位 0.5 附近\")"
   ]
  },
  {
   "cell_type": "markdown",
   "id": "b6cc3124",
   "metadata": {},
   "source": [
    "4. 量子傅里叶变换 (QFT)\n"
   ]
  },
  {
   "cell_type": "code",
   "execution_count": null,
   "id": "3f627c29",
   "metadata": {},
   "outputs": [],
   "source": [
    "print(\"\\n4. 量子傅里叶变换\")\n",
    "print(\"目标：实现量子版本的傅里叶变换\")"
   ]
  },
  {
   "cell_type": "markdown",
   "id": "9ec26ca3",
   "metadata": {},
   "source": [
    "4.1 自定义QFT函数\n"
   ]
  },
  {
   "cell_type": "code",
   "execution_count": null,
   "id": "0a34b890",
   "metadata": {},
   "outputs": [],
   "source": [
    "print(\"\\n4.1 自定义量子傅里叶变换\")\n",
    "def custom_qft(qubits, inverse=False):"
   ]
  },
  {
   "cell_type": "markdown",
   "id": "06e772db",
   "metadata": {},
   "source": [
    "实现量子傅里叶变换\n",
    "    \n",
    "    Args:\n",
    "        qubits: 量子比特列表\n",
    "        inverse: 如果为True，则实现逆变换\n",
    "    \n",
    "    Returns:\n",
    "        包含QFT或逆QFT的cirq.Circuit"
   ]
  },
  {
   "cell_type": "code",
   "execution_count": null,
   "id": "5e7ca24b",
   "metadata": {},
   "outputs": [],
   "source": [
    "n = len(qubits)\n",
    "    circuit = cirq.Circuit()\n",
    "    \n",
    "    # 如果是逆变换，反转量子比特顺序\n",
    "    if inverse:\n",
    "        qubits = qubits[::-1]\n",
    "    \n",
    "    # 实现QFT\n",
    "    for i in range(n):\n",
    "        # Hadamard门\n",
    "        circuit.append(cirq.H(qubits[i]))\n",
    "        \n",
    "        # 条件旋转门\n",
    "        for j in range(i+1, n):\n",
    "            k = j - i\n",
    "            theta = np.pi / (2**k)\n",
    "            if inverse:\n",
    "                theta = -theta\n",
    "            circuit.append(cirq.CZ(qubits[i], qubits[j])**(theta/(np.pi)))\n",
    "    \n",
    "    # 如果是逆变换，再次反转量子比特顺序以恢复原始顺序\n",
    "    if inverse:\n",
    "        for i in range(n//2):\n",
    "            circuit.append(cirq.SWAP(qubits[i], qubits[n-i-1]))\n",
    "    \n",
    "    return circuit"
   ]
  },
  {
   "cell_type": "markdown",
   "id": "c54a7148",
   "metadata": {},
   "source": [
    "4.2 演示QFT\n"
   ]
  },
  {
   "cell_type": "code",
   "execution_count": null,
   "id": "b0383350",
   "metadata": {},
   "outputs": [],
   "source": [
    "print(\"\\n4.2 演示量子傅里叶变换\")"
   ]
  },
  {
   "cell_type": "markdown",
   "id": "ffbe1082",
   "metadata": {},
   "source": [
    "设置量子比特\n"
   ]
  },
  {
   "cell_type": "code",
   "execution_count": null,
   "id": "681afee2",
   "metadata": {},
   "outputs": [],
   "source": [
    "qft_qubits = [cirq.LineQubit(i) for i in range(4)]"
   ]
  },
  {
   "cell_type": "markdown",
   "id": "f6964549",
   "metadata": {},
   "source": [
    "创建一个简单的初始状态\n"
   ]
  },
  {
   "cell_type": "code",
   "execution_count": null,
   "id": "ad02b9d6",
   "metadata": {},
   "outputs": [],
   "source": [
    "qft_circuit = cirq.Circuit()"
   ]
  },
  {
   "cell_type": "markdown",
   "id": "19179719",
   "metadata": {},
   "source": [
    "设置初始状态为|0001⟩\n"
   ]
  },
  {
   "cell_type": "code",
   "execution_count": null,
   "id": "78361112",
   "metadata": {},
   "outputs": [],
   "source": [
    "qft_circuit.append(cirq.X(qft_qubits[3]))"
   ]
  },
  {
   "cell_type": "markdown",
   "id": "8ff6cedb",
   "metadata": {},
   "source": [
    "应用QFT\n"
   ]
  },
  {
   "cell_type": "code",
   "execution_count": null,
   "id": "25d98af6",
   "metadata": {},
   "outputs": [],
   "source": [
    "qft_circuit.append(custom_qft(qft_qubits))\n",
    "print(\"应用QFT前后的电路:\")\n",
    "print(qft_circuit)"
   ]
  },
  {
   "cell_type": "markdown",
   "id": "e50404ad",
   "metadata": {},
   "source": [
    "模拟QFT结果\n"
   ]
  },
  {
   "cell_type": "code",
   "execution_count": null,
   "id": "3f084e7f",
   "metadata": {},
   "outputs": [],
   "source": [
    "simulator = cirq.Simulator()\n",
    "qft_result = simulator.simulate(qft_circuit)\n",
    "\n",
    "print(\"\\nQFT后的状态向量:\")\n",
    "state = qft_result.final_state_vector\n",
    "for i, amplitude in enumerate(state):\n",
    "    if abs(amplitude) > 1e-10:\n",
    "        binary = format(i, f'0{len(qft_qubits)}b')\n",
    "        print(f\"|{binary}⟩: {amplitude}\")"
   ]
  },
  {
   "cell_type": "markdown",
   "id": "ad301c67",
   "metadata": {},
   "source": [
    "应用逆QFT验证变换的正确性\n"
   ]
  },
  {
   "cell_type": "code",
   "execution_count": null,
   "id": "43628207",
   "metadata": {},
   "outputs": [],
   "source": [
    "inverse_qft_circuit = qft_circuit.copy()\n",
    "inverse_qft_circuit.append(custom_qft(qft_qubits, inverse=True))"
   ]
  },
  {
   "cell_type": "markdown",
   "id": "f811b66e",
   "metadata": {},
   "source": [
    "模拟逆QFT结果\n"
   ]
  },
  {
   "cell_type": "code",
   "execution_count": null,
   "id": "16d0463f",
   "metadata": {},
   "outputs": [],
   "source": [
    "inverse_result = simulator.simulate(inverse_qft_circuit)\n",
    "\n",
    "print(\"\\nQFT后接逆QFT的结果:\")\n",
    "inverse_state = inverse_result.final_state_vector\n",
    "for i, amplitude in enumerate(inverse_state):\n",
    "    if abs(amplitude) > 1e-10:\n",
    "        binary = format(i, f'0{len(qft_qubits)}b')\n",
    "        print(f\"|{binary}⟩: {amplitude}\")\n",
    "\n",
    "print(\"\\n量子傅里叶变换解释:\")\n",
    "print(\"- QFT是经典FFT的量子版本，但在量子计算中使用指数更少的操作\")\n",
    "print(\"- QFT将基态|x⟩转换为各相位的均匀叠加\")\n",
    "print(\"- 逆QFT将这种叠加状态转换回原始基态\")\n",
    "print(\"- QFT是Shor算法等许多量子算法的关键组件\")"
   ]
  },
  {
   "cell_type": "markdown",
   "id": "734e9f13",
   "metadata": {},
   "source": [
    "5. Shor算法（简化版）\n"
   ]
  },
  {
   "cell_type": "code",
   "execution_count": null,
   "id": "0e68653f",
   "metadata": {},
   "outputs": [],
   "source": [
    "print(\"\\n5. Shor算法概述（简化版）\")\n",
    "print(\"目标：分解大整数为质因数\")\n",
    "print(\"注意：完整的Shor算法实现非常复杂，这里只提供概念性的演示\")\n",
    "\n",
    "print(\"\\nShor算法主要步骤:\")\n",
    "print(\"1. 选择随机数a，并确保它与要分解的数N互质\")\n",
    "print(\"2. 找到a^r mod N = 1的最小正整数r（周期）\")\n",
    "print(\"3. 如果r是偶数且a^(r/2) mod N ≠ -1，计算gcd(a^(r/2)±1, N)\")\n",
    "print(\"4. 这些最大公约数很可能是N的非平凡因子\")\n",
    "\n",
    "print(\"\\n量子部分主要用于高效找到周期r:\")\n",
    "print(\"- 创建两个量子寄存器\")\n",
    "print(\"- 对第一个寄存器应用Hadamard门\")\n",
    "print(\"- 实现模幂函数f(x) = a^x mod N作为量子门\")\n",
    "print(\"- 对第一个寄存器应用逆QFT\")\n",
    "print(\"- 测量并后处理得到周期r\")\n",
    "\n",
    "print(\"\\n完整的Shor算法需要更复杂的电路构造\")\n",
    "print(\"特别是模幂函数的量子实现非常复杂\")\n",
    "print(\"建议参考专门的资源来深入理解和实现Shor算法\")"
   ]
  },
  {
   "cell_type": "markdown",
   "id": "16e13e2e",
   "metadata": {},
   "source": [
    "总结\n"
   ]
  },
  {
   "cell_type": "code",
   "execution_count": null,
   "id": "89b60bef",
   "metadata": {},
   "outputs": [],
   "source": [
    "print(\"\\n总结:\")\n",
    "print(\"1. Deutsch-Jozsa算法展示了量子计算的速度优势\")\n",
    "print(\"2. Grover搜索提供了在未排序数据中查找元素的二次加速\")\n",
    "print(\"3. 量子相位估计是许多高级量子算法的基础\")\n",
    "print(\"4. 量子傅里叶变换是经典FFT的量子版本，效率更高\")\n",
    "print(\"5. Shor算法（完整实现）可以有效分解大整数，对经典密码学构成威胁\")"
   ]
  },
  {
   "cell_type": "markdown",
   "id": "f9a261ab",
   "metadata": {},
   "source": [
    "## 💡 挑战任务\n",
    "\n",
    "尝试扩展上面的练习，探索以下内容：\n",
    "1. 更改电路参数并观察结果的变化\n",
    "2. 尝试实现不同的量子态或算法\n",
    "3. 可视化更多量子测量的结果"
   ]
  }
 ],
 "metadata": {
  "kernelspec": {
   "display_name": "Python 3",
   "language": "python",
   "name": "python3"
  },
  "language_info": {
   "codemirror_mode": {
    "name": "ipython",
    "version": 3
   },
   "file_extension": ".py",
   "mimetype": "text/x-python",
   "name": "python",
   "nbconvert_exporter": "python",
   "pygments_lexer": "ipython3",
   "version": "3.9.13"
  }
 },
 "nbformat": 4,
 "nbformat_minor": 5
}

{
 "cells": [
  {
   "cell_type": "code",
   "execution_count": null,
   "id": "c6b6fbfd",
   "metadata": {},
   "outputs": [],
   "source": [
    "#!/usr/bin/env python\n",
    "# -*- coding: utf-8 -*-"
   ]
  },
  {
   "cell_type": "markdown",
   "id": "23b9e9bc",
   "metadata": {},
   "source": [
    "\n",
    "Google Cirq框架学习 6：量子计算资源优化\n",
    "本文件详细介绍Cirq中的电路优化、编译和资源估算技术"
   ]
  },
  {
   "cell_type": "code",
   "execution_count": null,
   "id": "b9304d54",
   "metadata": {},
   "outputs": [],
   "source": [
    "import cirq\n",
    "import numpy as np\n",
    "import matplotlib.pyplot as plt\n",
    "import sympy\n",
    "from typing import List, Dict, Tuple\n"
   ]
  },
  {
   "cell_type": "code",
   "execution_count": null,
   "id": "11ece34f",
   "metadata": {},
   "outputs": [],
   "source": [
    "print(\"===== Cirq中的量子计算资源优化 =====\")"
   ]
  },
  {
   "cell_type": "markdown",
   "id": "c6ff5b24",
   "metadata": {},
   "source": [
    "1. 量子电路优化概述\n"
   ]
  },
  {
   "cell_type": "code",
   "execution_count": null,
   "id": "5451a686",
   "metadata": {},
   "outputs": [],
   "source": [
    "print(\"\\n1. 量子电路优化概述\")\n",
    "print(\"在NISQ时代，优化量子电路至关重要，因为我们面临以下限制:\")\n",
    "print(\"- 量子比特数量有限\")\n",
    "print(\"- 量子门的精度/保真度有限\")\n",
    "print(\"- 量子相干时间有限\")\n",
    "print(\"- 量子比特拓扑结构限制\")\n",
    "\n",
    "print(\"\\n主要优化目标包括:\")\n",
    "print(\"- 减少电路深度（时间复杂度）\")\n",
    "print(\"- 减少所需的量子比特数量（空间复杂度）\")\n",
    "print(\"- 适应设备的物理拓扑结构\")\n",
    "print(\"- 降低噪声和错误率\")"
   ]
  },
  {
   "cell_type": "markdown",
   "id": "e7e4874e",
   "metadata": {},
   "source": [
    "2. 电路简化和等价变换\n"
   ]
  },
  {
   "cell_type": "code",
   "execution_count": null,
   "id": "fa5b4521",
   "metadata": {},
   "outputs": [],
   "source": [
    "print(\"\\n2. 电路简化和等价变换\")"
   ]
  },
  {
   "cell_type": "markdown",
   "id": "cc276499",
   "metadata": {},
   "source": [
    "2.1 电路等价变换示例\n"
   ]
  },
  {
   "cell_type": "code",
   "execution_count": null,
   "id": "387598ba",
   "metadata": {},
   "outputs": [],
   "source": [
    "print(\"\\n2.1 电路等价变换示例\")"
   ]
  },
  {
   "cell_type": "markdown",
   "id": "a692a171",
   "metadata": {},
   "source": [
    "创建一个带有冗余操作的电路\n"
   ]
  },
  {
   "cell_type": "code",
   "execution_count": null,
   "id": "b31bde59",
   "metadata": {},
   "outputs": [],
   "source": [
    "q0, q1 = cirq.LineQubit.range(2)\n",
    "redundant_circuit = cirq.Circuit(\n",
    "    cirq.X(q0),\n",
    "    cirq.X(q0),  # 两个X门相互抵消\n",
    "    cirq.H(q1),\n",
    "    cirq.H(q1),  # 两个H门相互抵消\n",
    "    cirq.CNOT(q0, q1)\n",
    ")\n",
    "\n",
    "print(\"带冗余操作的电路:\")\n",
    "print(redundant_circuit)"
   ]
  },
  {
   "cell_type": "markdown",
   "id": "df038950",
   "metadata": {},
   "source": [
    "手动优化：移除冗余操作\n"
   ]
  },
  {
   "cell_type": "code",
   "execution_count": null,
   "id": "b93e4dd6",
   "metadata": {},
   "outputs": [],
   "source": [
    "optimized_circuit = cirq.Circuit(\n",
    "    cirq.CNOT(q0, q1)\n",
    ")\n",
    "\n",
    "print(\"\\n手动优化后的电路:\")\n",
    "print(optimized_circuit)"
   ]
  },
  {
   "cell_type": "markdown",
   "id": "031d408e",
   "metadata": {},
   "source": [
    "2.2 使用Cirq进行电路优化\n"
   ]
  },
  {
   "cell_type": "code",
   "execution_count": null,
   "id": "52c0aa09",
   "metadata": {},
   "outputs": [],
   "source": [
    "print(\"\\n2.2 使用Cirq进行电路优化\")"
   ]
  },
  {
   "cell_type": "markdown",
   "id": "137bc2a3",
   "metadata": {},
   "source": [
    "创建一个可优化的示例电路\n"
   ]
  },
  {
   "cell_type": "code",
   "execution_count": null,
   "id": "ff7b125c",
   "metadata": {},
   "outputs": [],
   "source": [
    "q0, q1 = cirq.LineQubit.range(2)\n",
    "circuit_to_optimize = cirq.Circuit(\n",
    "    cirq.X(q0),\n",
    "    cirq.X(q0),\n",
    "    cirq.Z(q1),\n",
    "    cirq.Z(q1),\n",
    "    cirq.H(q0),\n",
    "    cirq.CNOT(q0, q1),\n",
    "    cirq.H(q0),\n",
    "    cirq.H(q0),  # 这会与前一个H门抵消\n",
    "    cirq.measure(q0, q1, key='result')\n",
    ")\n",
    "\n",
    "print(\"原始待优化电路:\")\n",
    "print(circuit_to_optimize)"
   ]
  },
  {
   "cell_type": "markdown",
   "id": "bfc06300",
   "metadata": {},
   "source": [
    "应用Cirq的优化器\n"
   ]
  },
  {
   "cell_type": "code",
   "execution_count": null,
   "id": "adba9ab7",
   "metadata": {},
   "outputs": [],
   "source": [
    "from cirq.optimizers import EjectZ, EjectPhasedPaulis, DropNegligible, DropEmptyMoments\n"
   ]
  },
  {
   "cell_type": "markdown",
   "id": "bfeb4f30",
   "metadata": {},
   "source": [
    "创建优化器管道\n"
   ]
  },
  {
   "cell_type": "code",
   "execution_count": null,
   "id": "da45b2b2",
   "metadata": {},
   "outputs": [],
   "source": [
    "optimizers = [\n",
    "    EjectZ(),\n",
    "    EjectPhasedPaulis(),\n",
    "    DropNegligible(tolerance=1e-10),\n",
    "    DropEmptyMoments()\n",
    "]"
   ]
  },
  {
   "cell_type": "markdown",
   "id": "68366f92",
   "metadata": {},
   "source": [
    "应用优化器\n"
   ]
  },
  {
   "cell_type": "code",
   "execution_count": null,
   "id": "037bbcf3",
   "metadata": {},
   "outputs": [],
   "source": [
    "optimized_circuit = circuit_to_optimize.copy()\n",
    "for optimizer in optimizers:\n",
    "    optimizer.optimize_circuit(optimized_circuit)\n",
    "\n",
    "print(\"\\nCirq优化后的电路:\")\n",
    "print(optimized_circuit)"
   ]
  },
  {
   "cell_type": "markdown",
   "id": "d30d3828",
   "metadata": {},
   "source": [
    "2.3 电路合并与并行化\n"
   ]
  },
  {
   "cell_type": "code",
   "execution_count": null,
   "id": "40401d22",
   "metadata": {},
   "outputs": [],
   "source": [
    "print(\"\\n2.3 电路合并与并行化\")"
   ]
  },
  {
   "cell_type": "markdown",
   "id": "5deb2fc6",
   "metadata": {},
   "source": [
    "创建两个电路\n"
   ]
  },
  {
   "cell_type": "code",
   "execution_count": null,
   "id": "179ac52b",
   "metadata": {},
   "outputs": [],
   "source": [
    "q0, q1, q2 = cirq.LineQubit.range(3)\n",
    "circuit1 = cirq.Circuit(\n",
    "    cirq.H(q0),\n",
    "    cirq.CNOT(q0, q1)\n",
    ")\n",
    "\n",
    "circuit2 = cirq.Circuit(\n",
    "    cirq.X(q2),\n",
    "    cirq.CNOT(q1, q2)\n",
    ")"
   ]
  },
  {
   "cell_type": "markdown",
   "id": "ee46fe9e",
   "metadata": {},
   "source": [
    "合并电路\n"
   ]
  },
  {
   "cell_type": "code",
   "execution_count": null,
   "id": "fcc4aa71",
   "metadata": {},
   "outputs": [],
   "source": [
    "merged_circuit = circuit1 + circuit2\n",
    "print(\"合并两个电路:\")\n",
    "print(\"电路1:\")\n",
    "print(circuit1)\n",
    "print(\"\\n电路2:\")\n",
    "print(circuit2)\n",
    "print(\"\\n合并后的电路:\")\n",
    "print(merged_circuit)"
   ]
  },
  {
   "cell_type": "markdown",
   "id": "089dc69b",
   "metadata": {},
   "source": [
    "在Moment层面优化并行性\n"
   ]
  },
  {
   "cell_type": "code",
   "execution_count": null,
   "id": "2d4a54fc",
   "metadata": {},
   "outputs": [],
   "source": [
    "from cirq.optimizers import MergeInteractions\n"
   ]
  },
  {
   "cell_type": "code",
   "execution_count": null,
   "id": "39f1231e",
   "metadata": {},
   "outputs": [],
   "source": [
    "merge_interactions = MergeInteractions()\n",
    "optimized_parallel = merged_circuit.copy()\n",
    "merge_interactions.optimize_circuit(optimized_parallel)\n",
    "\n",
    "print(\"\\n优化并行性后的电路:\")\n",
    "print(optimized_parallel)"
   ]
  },
  {
   "cell_type": "markdown",
   "id": "7db9b1bc",
   "metadata": {},
   "source": [
    "3. 门分解和重综\n"
   ]
  },
  {
   "cell_type": "code",
   "execution_count": null,
   "id": "8d186e5d",
   "metadata": {},
   "outputs": [],
   "source": [
    "print(\"\\n3. 门分解和重综\")"
   ]
  },
  {
   "cell_type": "markdown",
   "id": "069fe703",
   "metadata": {},
   "source": [
    "3.1 将通用门分解为基本门集\n"
   ]
  },
  {
   "cell_type": "code",
   "execution_count": null,
   "id": "cae40880",
   "metadata": {},
   "outputs": [],
   "source": [
    "print(\"\\n3.1 将通用门分解为基本门集\")"
   ]
  },
  {
   "cell_type": "markdown",
   "id": "8fe79082",
   "metadata": {},
   "source": [
    "创建一个使用通用旋转门的电路\n"
   ]
  },
  {
   "cell_type": "code",
   "execution_count": null,
   "id": "7bffe23e",
   "metadata": {},
   "outputs": [],
   "source": [
    "q0 = cirq.LineQubit(0)\n",
    "general_circuit = cirq.Circuit(\n",
    "    cirq.rx(np.pi/3).on(q0),\n",
    "    cirq.ry(np.pi/4).on(q0),\n",
    "    cirq.rz(np.pi/5).on(q0)\n",
    ")\n",
    "\n",
    "print(\"使用通用旋转门的电路:\")\n",
    "print(general_circuit)"
   ]
  },
  {
   "cell_type": "markdown",
   "id": "c183ae5e",
   "metadata": {},
   "source": [
    "将电路转换为仅使用H和CZ门的电路\n",
    "注意：完整的转换器可能更复杂，这里只是示例\n"
   ]
  },
  {
   "cell_type": "code",
   "execution_count": null,
   "id": "dd7bcf12",
   "metadata": {},
   "outputs": [],
   "source": [
    "from cirq.optimizers import ConvertToCzAndSingleGates\n"
   ]
  },
  {
   "cell_type": "code",
   "execution_count": null,
   "id": "38fdfc4a",
   "metadata": {},
   "outputs": [],
   "source": [
    "converter = ConvertToCzAndSingleGates()\n",
    "converted_circuit = general_circuit.copy()\n",
    "converter.optimize_circuit(converted_circuit)\n",
    "\n",
    "print(\"\\n转换为基本门集后的电路:\")\n",
    "print(converted_circuit)"
   ]
  },
  {
   "cell_type": "markdown",
   "id": "12825f00",
   "metadata": {},
   "source": [
    "3.2 优化CNOT数量\n"
   ]
  },
  {
   "cell_type": "code",
   "execution_count": null,
   "id": "661d7bcd",
   "metadata": {},
   "outputs": [],
   "source": [
    "print(\"\\n3.2 优化CNOT数量\")"
   ]
  },
  {
   "cell_type": "markdown",
   "id": "4c9c51d4",
   "metadata": {},
   "source": [
    "创建一个包含多个CNOT门的电路\n"
   ]
  },
  {
   "cell_type": "code",
   "execution_count": null,
   "id": "f46b291e",
   "metadata": {},
   "outputs": [],
   "source": [
    "q0, q1 = cirq.LineQubit.range(2)\n",
    "cnot_circuit = cirq.Circuit(\n",
    "    cirq.CNOT(q0, q1),\n",
    "    cirq.X(q0),\n",
    "    cirq.CNOT(q0, q1),\n",
    "    cirq.CNOT(q0, q1),  # 三个连续的CNOT相当于一个CNOT\n",
    "    cirq.CNOT(q0, q1)\n",
    ")\n",
    "\n",
    "print(\"包含多个CNOT的电路:\")\n",
    "print(cnot_circuit)"
   ]
  },
  {
   "cell_type": "markdown",
   "id": "18a2f35c",
   "metadata": {},
   "source": [
    "手动优化CNOT数量\n"
   ]
  },
  {
   "cell_type": "code",
   "execution_count": null,
   "id": "101f0117",
   "metadata": {},
   "outputs": [],
   "source": [
    "optimized_cnot = cirq.Circuit(\n",
    "    cirq.CNOT(q0, q1),\n",
    "    cirq.X(q0)\n",
    ")\n",
    "\n",
    "print(\"\\n优化CNOT数量后的电路:\")\n",
    "print(optimized_cnot)"
   ]
  },
  {
   "cell_type": "markdown",
   "id": "c90a7fa8",
   "metadata": {},
   "source": [
    "4. 适应物理拓扑约束\n"
   ]
  },
  {
   "cell_type": "code",
   "execution_count": null,
   "id": "d9957a27",
   "metadata": {},
   "outputs": [],
   "source": [
    "print(\"\\n4. 适应物理拓扑约束\")"
   ]
  },
  {
   "cell_type": "markdown",
   "id": "b584e19e",
   "metadata": {},
   "source": [
    "4.1 设备拓扑和映射\n"
   ]
  },
  {
   "cell_type": "code",
   "execution_count": null,
   "id": "943fa4b7",
   "metadata": {},
   "outputs": [],
   "source": [
    "print(\"\\n4.1 设备拓扑和映射\")"
   ]
  },
  {
   "cell_type": "markdown",
   "id": "c317ca69",
   "metadata": {},
   "source": [
    "创建一个简单的设备图，表示物理量子比特之间的连接\n"
   ]
  },
  {
   "cell_type": "code",
   "execution_count": null,
   "id": "0f197567",
   "metadata": {},
   "outputs": [],
   "source": [
    "device_graph = cirq.GridQubit.square(2)  # 2x2方形网格\n",
    "print(\"设备拓扑（2x2网格）:\")\n",
    "for i, qubit in enumerate(device_graph):\n",
    "    connections = [q for q in device_graph if q != qubit and (abs(q.row - qubit.row) + abs(q.col - qubit.col)) == 1]\n",
    "    print(f\"{qubit}: 连接到 {connections}\")"
   ]
  },
  {
   "cell_type": "markdown",
   "id": "15451b0d",
   "metadata": {},
   "source": [
    "创建一个假设的设备对象\n"
   ]
  },
  {
   "cell_type": "code",
   "execution_count": null,
   "id": "85281250",
   "metadata": {},
   "outputs": [],
   "source": [
    "class SimpleDevice(cirq.Device):\n",
    "    def __init__(self, qubits):\n",
    "        self.qubits = qubits\n",
    "        # 创建量子比特对连接图\n",
    "        self.qubit_pairs = set()\n",
    "        for q1 in qubits:\n",
    "            for q2 in qubits:\n",
    "                if q1 != q2 and (abs(q1.row - q2.row) + abs(q1.col - q2.col)) == 1:\n",
    "                    self.qubit_pairs.add((min(q1, q2), max(q1, q2)))\n",
    "    \n",
    "    def validate_operation(self, operation):\n",
    "        # 检查操作是否使用了设备上的量子比特\n",
    "        for q in operation.qubits:\n",
    "            if q not in self.qubits:\n",
    "                raise ValueError(f\"操作使用了设备外的量子比特: {q}\")\n",
    "        \n",
    "        # 检查两量子比特门是否在连接的量子比特之间\n",
    "        if len(operation.qubits) == 2:\n",
    "            q1, q2 = operation.qubits\n",
    "            if (min(q1, q2), max(q1, q2)) not in self.qubit_pairs:\n",
    "                raise ValueError(f\"量子比特之间没有物理连接: {q1} 和 {q2}\")\n",
    "    \n",
    "    def validate_circuit(self, circuit):\n",
    "        for moment in circuit:\n",
    "            for operation in moment:\n",
    "                self.validate_operation(operation)"
   ]
  },
  {
   "cell_type": "markdown",
   "id": "80eebf6d",
   "metadata": {},
   "source": [
    "创建设备实例\n"
   ]
  },
  {
   "cell_type": "code",
   "execution_count": null,
   "id": "dddf6a3a",
   "metadata": {},
   "outputs": [],
   "source": [
    "simple_device = SimpleDevice(device_graph)"
   ]
  },
  {
   "cell_type": "markdown",
   "id": "a6056192",
   "metadata": {},
   "source": [
    "4.2 电路映射到设备拓扑\n"
   ]
  },
  {
   "cell_type": "code",
   "execution_count": null,
   "id": "31a42c6e",
   "metadata": {},
   "outputs": [],
   "source": [
    "print(\"\\n4.2 电路映射到设备拓扑\")"
   ]
  },
  {
   "cell_type": "markdown",
   "id": "7217b3ec",
   "metadata": {},
   "source": [
    "创建一个逻辑电路\n"
   ]
  },
  {
   "cell_type": "code",
   "execution_count": null,
   "id": "3b122ddb",
   "metadata": {},
   "outputs": [],
   "source": [
    "q0 = cirq.GridQubit(0, 0)\n",
    "q1 = cirq.GridQubit(0, 1)\n",
    "q2 = cirq.GridQubit(1, 0)\n",
    "q3 = cirq.GridQubit(1, 1)"
   ]
  },
  {
   "cell_type": "markdown",
   "id": "59d839e8",
   "metadata": {},
   "source": [
    "这个电路符合设备拓扑\n"
   ]
  },
  {
   "cell_type": "code",
   "execution_count": null,
   "id": "f2be2aaa",
   "metadata": {},
   "outputs": [],
   "source": [
    "valid_circuit = cirq.Circuit(\n",
    "    cirq.H(q0),\n",
    "    cirq.CNOT(q0, q1),\n",
    "    cirq.CNOT(q0, q2),\n",
    "    cirq.CNOT(q2, q3)\n",
    ")\n",
    "\n",
    "print(\"符合设备拓扑的电路:\")\n",
    "print(valid_circuit)\n",
    "\n",
    "try:\n",
    "    simple_device.validate_circuit(valid_circuit)\n",
    "    print(\"该电路可以在设备上直接执行\")\n",
    "except ValueError as e:\n",
    "    print(f\"错误: {e}\")"
   ]
  },
  {
   "cell_type": "markdown",
   "id": "ca4d87e6",
   "metadata": {},
   "source": [
    "创建一个不符合设备拓扑的电路\n"
   ]
  },
  {
   "cell_type": "code",
   "execution_count": null,
   "id": "8af216e8",
   "metadata": {},
   "outputs": [],
   "source": [
    "invalid_circuit = cirq.Circuit(\n",
    "    cirq.H(q0),\n",
    "    cirq.CNOT(q0, q3)  # q0和q3不直接相连\n",
    ")\n",
    "\n",
    "print(\"\\n不符合设备拓扑的电路:\")\n",
    "print(invalid_circuit)\n",
    "\n",
    "try:\n",
    "    simple_device.validate_circuit(invalid_circuit)\n",
    "    print(\"该电路可以在设备上直接执行\")\n",
    "except ValueError as e:\n",
    "    print(f\"错误: {e}\")"
   ]
  },
  {
   "cell_type": "markdown",
   "id": "8b136098",
   "metadata": {},
   "source": [
    "4.3 SWAP网络插入\n"
   ]
  },
  {
   "cell_type": "code",
   "execution_count": null,
   "id": "ce86c365",
   "metadata": {},
   "outputs": [],
   "source": [
    "print(\"\\n4.3 SWAP网络插入\")\n",
    "print(\"当电路不符合设备拓扑时，我们可以插入SWAP门来移动量子比特:\")"
   ]
  },
  {
   "cell_type": "markdown",
   "id": "f9d36308",
   "metadata": {},
   "source": [
    "手动转换不符合拓扑的电路\n"
   ]
  },
  {
   "cell_type": "code",
   "execution_count": null,
   "id": "30e27da9",
   "metadata": {},
   "outputs": [],
   "source": [
    "manual_routed_circuit = cirq.Circuit(\n",
    "    cirq.H(q0),\n",
    "    # 插入SWAP门将q0的状态与q2交换\n",
    "    cirq.SWAP(q0, q2),\n",
    "    # 现在q2包含q0的原始状态，q3相邻于q2\n",
    "    cirq.CNOT(q2, q3),\n",
    "    # 将状态交换回来\n",
    "    cirq.SWAP(q0, q2)\n",
    ")\n",
    "\n",
    "print(\"使用SWAP插入后的电路:\")\n",
    "print(manual_routed_circuit)\n",
    "\n",
    "try:\n",
    "    simple_device.validate_circuit(manual_routed_circuit)\n",
    "    print(\"路由后的电路可以在设备上执行\")\n",
    "except ValueError as e:\n",
    "    print(f\"错误: {e}\")"
   ]
  },
  {
   "cell_type": "markdown",
   "id": "c54dd870",
   "metadata": {},
   "source": [
    "5. 电路编译和资源估算\n"
   ]
  },
  {
   "cell_type": "code",
   "execution_count": null,
   "id": "e315834d",
   "metadata": {},
   "outputs": [],
   "source": [
    "print(\"\\n5. 电路编译和资源估算\")"
   ]
  },
  {
   "cell_type": "markdown",
   "id": "d5809481",
   "metadata": {},
   "source": [
    "5.1 编译为设备原生门集\n"
   ]
  },
  {
   "cell_type": "code",
   "execution_count": null,
   "id": "1b45a375",
   "metadata": {},
   "outputs": [],
   "source": [
    "print(\"\\n5.1 编译为设备原生门集\")"
   ]
  },
  {
   "cell_type": "markdown",
   "id": "412eb169",
   "metadata": {},
   "source": [
    "创建一个使用非原生门的电路\n"
   ]
  },
  {
   "cell_type": "code",
   "execution_count": null,
   "id": "6d38ab8b",
   "metadata": {},
   "outputs": [],
   "source": [
    "q0, q1 = cirq.LineQubit.range(2)\n",
    "non_native_circuit = cirq.Circuit(\n",
    "    cirq.T(q0),\n",
    "    cirq.SWAP(q0, q1)\n",
    ")\n",
    "\n",
    "print(\"使用非原生门的电路:\")\n",
    "print(non_native_circuit)"
   ]
  },
  {
   "cell_type": "markdown",
   "id": "9b5796e4",
   "metadata": {},
   "source": [
    "编译为使用原生门集（例如，H、CZ和T门）\n",
    "注意：SWAP门可以用3个CNOT门实现，每个CNOT又可以用H和CZ实现\n"
   ]
  },
  {
   "cell_type": "code",
   "execution_count": null,
   "id": "088798dd",
   "metadata": {},
   "outputs": [],
   "source": [
    "compiled_circuit = cirq.Circuit(\n",
    "    cirq.T(q0),\n",
    "    # SWAP分解为3个CNOT\n",
    "    cirq.CNOT(q0, q1),\n",
    "    cirq.CNOT(q1, q0),\n",
    "    cirq.CNOT(q0, q1)\n",
    ")"
   ]
  },
  {
   "cell_type": "markdown",
   "id": "fd96d381",
   "metadata": {},
   "source": [
    "将CNOT转换为H和CZ\n"
   ]
  },
  {
   "cell_type": "code",
   "execution_count": null,
   "id": "3adc6cea",
   "metadata": {},
   "outputs": [],
   "source": [
    "from cirq.optimizers import ConvertToCzAndSingleGates\n"
   ]
  },
  {
   "cell_type": "code",
   "execution_count": null,
   "id": "437061cc",
   "metadata": {},
   "outputs": [],
   "source": [
    "converter = ConvertToCzAndSingleGates()\n",
    "converter.optimize_circuit(compiled_circuit)\n",
    "\n",
    "print(\"\\n编译为原生门集后的电路:\")\n",
    "print(compiled_circuit)"
   ]
  },
  {
   "cell_type": "markdown",
   "id": "7688496b",
   "metadata": {},
   "source": [
    "5.2 资源估算\n"
   ]
  },
  {
   "cell_type": "code",
   "execution_count": null,
   "id": "9ba2a779",
   "metadata": {},
   "outputs": [],
   "source": [
    "print(\"\\n5.2 资源估算\")"
   ]
  },
  {
   "cell_type": "markdown",
   "id": "9e41b10a",
   "metadata": {},
   "source": [
    "创建一个复杂一点的电路用于分析\n"
   ]
  },
  {
   "cell_type": "code",
   "execution_count": null,
   "id": "bd811c99",
   "metadata": {},
   "outputs": [],
   "source": [
    "q0, q1, q2 = cirq.LineQubit.range(3)\n",
    "complex_circuit = cirq.Circuit(\n",
    "    cirq.H(q0),\n",
    "    cirq.CNOT(q0, q1),\n",
    "    cirq.T(q1),\n",
    "    cirq.CNOT(q1, q2),\n",
    "    cirq.H(q2),\n",
    "    cirq.CNOT(q0, q2)\n",
    ")\n",
    "\n",
    "print(\"用于资源估算的电路:\")\n",
    "print(complex_circuit)"
   ]
  },
  {
   "cell_type": "markdown",
   "id": "dc9f7a25",
   "metadata": {},
   "source": [
    "计算电路深度\n"
   ]
  },
  {
   "cell_type": "code",
   "execution_count": null,
   "id": "9ed69a42",
   "metadata": {},
   "outputs": [],
   "source": [
    "depth = len(list(complex_circuit.moments))\n",
    "print(f\"电路深度（矩量数）: {depth}\")"
   ]
  },
  {
   "cell_type": "markdown",
   "id": "0d0a31ef",
   "metadata": {},
   "source": [
    "计数不同类型的门\n"
   ]
  },
  {
   "cell_type": "code",
   "execution_count": null,
   "id": "f12f2a05",
   "metadata": {},
   "outputs": [],
   "source": [
    "gate_counts = {}\n",
    "for moment in complex_circuit:\n",
    "    for op in moment:\n",
    "        gate_name = op.gate.__class__.__name__\n",
    "        gate_counts[gate_name] = gate_counts.get(gate_name, 0) + 1\n",
    "\n",
    "print(\"\\n门计数:\")\n",
    "for gate, count in gate_counts.items():\n",
    "    print(f\"  {gate}: {count}\")"
   ]
  },
  {
   "cell_type": "markdown",
   "id": "c5611f45",
   "metadata": {},
   "source": [
    "统计两量子比特门的数量\n"
   ]
  },
  {
   "cell_type": "code",
   "execution_count": null,
   "id": "9dc4dd89",
   "metadata": {},
   "outputs": [],
   "source": [
    "two_qubit_gates = sum(1 for moment in complex_circuit for op in moment if len(op.qubits) == 2)\n",
    "print(f\"两量子比特门总数: {two_qubit_gates}\")"
   ]
  },
  {
   "cell_type": "markdown",
   "id": "9c881e4a",
   "metadata": {},
   "source": [
    "5.3 电路压缩和优化度量\n"
   ]
  },
  {
   "cell_type": "code",
   "execution_count": null,
   "id": "1f401006",
   "metadata": {},
   "outputs": [],
   "source": [
    "print(\"\\n5.3 电路压缩和优化度量\")"
   ]
  },
  {
   "cell_type": "markdown",
   "id": "adb120ab",
   "metadata": {},
   "source": [
    "为了比较，创建电路的压缩版本\n"
   ]
  },
  {
   "cell_type": "code",
   "execution_count": null,
   "id": "3b7a7fb2",
   "metadata": {},
   "outputs": [],
   "source": [
    "optimized_complex = cirq.Circuit(\n",
    "    cirq.H(q0),\n",
    "    cirq.CNOT(q0, q1),\n",
    "    cirq.T(q1),\n",
    "    cirq.CNOT(q1, q2),\n",
    "    cirq.H(q2),\n",
    "    cirq.CNOT(q0, q2)\n",
    ")"
   ]
  },
  {
   "cell_type": "markdown",
   "id": "a83d8d0b",
   "metadata": {},
   "source": [
    "应用优化器\n"
   ]
  },
  {
   "cell_type": "code",
   "execution_count": null,
   "id": "ebe1191e",
   "metadata": {},
   "outputs": [],
   "source": [
    "optimizers = [\n",
    "    EjectZ(),\n",
    "    EjectPhasedPaulis(),\n",
    "    DropEmptyMoments(),\n",
    "    MergeInteractions()\n",
    "]\n",
    "\n",
    "for optimizer in optimizers:\n",
    "    optimizer.optimize_circuit(optimized_complex)\n",
    "\n",
    "print(\"\\n优化后的电路:\")\n",
    "print(optimized_complex)"
   ]
  },
  {
   "cell_type": "markdown",
   "id": "733fa738",
   "metadata": {},
   "source": [
    "计算优化后的深度\n"
   ]
  },
  {
   "cell_type": "code",
   "execution_count": null,
   "id": "2b77b77b",
   "metadata": {},
   "outputs": [],
   "source": [
    "optimized_depth = len(list(optimized_complex.moments))\n",
    "print(f\"优化后的电路深度: {optimized_depth}\")"
   ]
  },
  {
   "cell_type": "markdown",
   "id": "947a0e51",
   "metadata": {},
   "source": [
    "计算深度减少百分比\n"
   ]
  },
  {
   "cell_type": "code",
   "execution_count": null,
   "id": "20f17b9d",
   "metadata": {},
   "outputs": [],
   "source": [
    "depth_reduction = (depth - optimized_depth) / depth * 100\n",
    "print(f\"深度减少: {depth_reduction:.2f}%\")"
   ]
  },
  {
   "cell_type": "markdown",
   "id": "1d53eb14",
   "metadata": {},
   "source": [
    "优化前后门数量比较\n"
   ]
  },
  {
   "cell_type": "code",
   "execution_count": null,
   "id": "a83f462b",
   "metadata": {},
   "outputs": [],
   "source": [
    "optimized_gate_counts = {}\n",
    "for moment in optimized_complex:\n",
    "    for op in moment:\n",
    "        gate_name = op.gate.__class__.__name__\n",
    "        optimized_gate_counts[gate_name] = optimized_gate_counts.get(gate_name, 0) + 1\n",
    "\n",
    "print(\"\\n优化后的门计数:\")\n",
    "for gate, count in optimized_gate_counts.items():\n",
    "    original_count = gate_counts.get(gate, 0)\n",
    "    print(f\"  {gate}: {count} (原始: {original_count})\")"
   ]
  },
  {
   "cell_type": "markdown",
   "id": "bcbbbadd",
   "metadata": {},
   "source": [
    "6. 噪声感知优化\n"
   ]
  },
  {
   "cell_type": "code",
   "execution_count": null,
   "id": "8b0cf52c",
   "metadata": {},
   "outputs": [],
   "source": [
    "print(\"\\n6. 噪声感知优化\")"
   ]
  },
  {
   "cell_type": "markdown",
   "id": "2184a978",
   "metadata": {},
   "source": [
    "6.1 噪声模型和错误率\n"
   ]
  },
  {
   "cell_type": "code",
   "execution_count": null,
   "id": "7d99f436",
   "metadata": {},
   "outputs": [],
   "source": [
    "print(\"\\n6.1 噪声模型和错误率\")"
   ]
  },
  {
   "cell_type": "markdown",
   "id": "db43ed85",
   "metadata": {},
   "source": [
    "定义一个简单的噪声特性\n"
   ]
  },
  {
   "cell_type": "code",
   "execution_count": null,
   "id": "b7886d58",
   "metadata": {},
   "outputs": [],
   "source": [
    "print(\"假设的设备噪声特性:\")\n",
    "print(\"- 单量子比特门错误率: 0.1%\")\n",
    "print(\"- 两量子比特门错误率: 1.0%\")\n",
    "print(\"- 测量错误率: 0.5%\")\n",
    "print(\"- T1时间（相位翻转）: 20 微秒\")\n",
    "print(\"- T2时间（振幅阻尼）: 10 微秒\")"
   ]
  },
  {
   "cell_type": "markdown",
   "id": "885052e8",
   "metadata": {},
   "source": [
    "在Cirq中创建噪声模型\n"
   ]
  },
  {
   "cell_type": "code",
   "execution_count": null,
   "id": "0452fdf1",
   "metadata": {},
   "outputs": [],
   "source": [
    "single_qubit_error = 0.001\n",
    "two_qubit_error = 0.01\n",
    "measurement_error = 0.005"
   ]
  },
  {
   "cell_type": "markdown",
   "id": "b1352b20",
   "metadata": {},
   "source": [
    "基于错误率估计电路的总错误\n"
   ]
  },
  {
   "cell_type": "code",
   "execution_count": null,
   "id": "717ebaa7",
   "metadata": {},
   "outputs": [],
   "source": [
    "def estimate_circuit_error(circuit):"
   ]
  },
  {
   "cell_type": "markdown",
   "id": "e7080779",
   "metadata": {},
   "source": [
    "基于门错误率估计电路的总错误概率"
   ]
  },
  {
   "cell_type": "code",
   "execution_count": null,
   "id": "746206cc",
   "metadata": {},
   "outputs": [],
   "source": [
    "total_error = 0.0\n",
    "    for moment in circuit:\n",
    "        for op in moment:\n",
    "            if len(op.qubits) == 1:\n",
    "                if isinstance(op, cirq.ops.MeasurementGate):\n",
    "                    total_error += measurement_error\n",
    "                else:\n",
    "                    total_error += single_qubit_error\n",
    "            elif len(op.qubits) == 2:\n",
    "                total_error += two_qubit_error\n",
    "    \n",
    "    # 简单的错误累加模型（这是个简化）\n",
    "    return total_error"
   ]
  },
  {
   "cell_type": "markdown",
   "id": "24d2f4b4",
   "metadata": {},
   "source": [
    "估计原始电路和优化电路的错误率\n"
   ]
  },
  {
   "cell_type": "code",
   "execution_count": null,
   "id": "719566ea",
   "metadata": {},
   "outputs": [],
   "source": [
    "original_error = estimate_circuit_error(complex_circuit)\n",
    "optimized_error = estimate_circuit_error(optimized_complex)\n",
    "\n",
    "print(f\"\\n原始电路估计错误率: {original_error:.4f}\")\n",
    "print(f\"优化电路估计错误率: {optimized_error:.4f}\")\n",
    "print(f\"错误率减少: {(original_error - optimized_error) / original_error * 100:.2f}%\")"
   ]
  },
  {
   "cell_type": "markdown",
   "id": "3e6760d4",
   "metadata": {},
   "source": [
    "6.2 噪声感知排序\n"
   ]
  },
  {
   "cell_type": "code",
   "execution_count": null,
   "id": "9ae04fe4",
   "metadata": {},
   "outputs": [],
   "source": [
    "print(\"\\n6.2 噪声感知排序\")"
   ]
  },
  {
   "cell_type": "markdown",
   "id": "6294ed7c",
   "metadata": {},
   "source": [
    "创建一个具有不同噪声级别的假设性设备地图\n"
   ]
  },
  {
   "cell_type": "code",
   "execution_count": null,
   "id": "4eaf0356",
   "metadata": {},
   "outputs": [],
   "source": [
    "device_qubits = [cirq.GridQubit(0, i) for i in range(3)]\n",
    "qubit_error_rates = {\n",
    "    cirq.GridQubit(0, 0): 0.002,  # 较高错误率\n",
    "    cirq.GridQubit(0, 1): 0.001,  # 中等错误率\n",
    "    cirq.GridQubit(0, 2): 0.0005  # 较低错误率\n",
    "}\n",
    "\n",
    "edge_error_rates = {\n",
    "    (cirq.GridQubit(0, 0), cirq.GridQubit(0, 1)): 0.02,  # 较高错误率\n",
    "    (cirq.GridQubit(0, 1), cirq.GridQubit(0, 2)): 0.01   # 较低错误率\n",
    "}\n",
    "\n",
    "print(\"设备上的量子比特错误率:\")\n",
    "for qubit, error in qubit_error_rates.items():\n",
    "    print(f\"  {qubit}: {error:.4f}\")\n",
    "\n",
    "print(\"\\n设备上的量子比特对错误率:\")\n",
    "for edge, error in edge_error_rates.items():\n",
    "    print(f\"  {edge}: {error:.4f}\")"
   ]
  },
  {
   "cell_type": "markdown",
   "id": "57330546",
   "metadata": {},
   "source": [
    "在噪声感知下重新映射量子比特\n"
   ]
  },
  {
   "cell_type": "code",
   "execution_count": null,
   "id": "b24932cc",
   "metadata": {},
   "outputs": [],
   "source": [
    "print(\"\\n噪声感知的量子比特映射策略:\")\n",
    "print(\"1. 将逻辑上最频繁使用的量子比特映射到物理上错误率最低的量子比特\")\n",
    "print(\"2. 将频繁交互的逻辑量子比特对映射到错误率最低的物理连接\")\n",
    "print(\"3. 优先考虑两量子比特门，因为它们的错误率通常比单量子比特门高一个数量级\")"
   ]
  },
  {
   "cell_type": "markdown",
   "id": "485707aa",
   "metadata": {},
   "source": [
    "6.3 脉冲级优化\n"
   ]
  },
  {
   "cell_type": "code",
   "execution_count": null,
   "id": "08b854e0",
   "metadata": {},
   "outputs": [],
   "source": [
    "print(\"\\n6.3 脉冲级优化\")\n",
    "print(\"在脉冲级别优化量子操作可以进一步减少错误:\")\n",
    "print(\"- 缩短门操作时间以减少退相干效应\")\n",
    "print(\"- 使用复合脉冲序列抵消系统误差\")\n",
    "print(\"- 实现动态解耦以减轻环境噪声的影响\")\n",
    "print(\"- 优化脉冲形状以减少能量泄漏到非计算状态\")"
   ]
  },
  {
   "cell_type": "markdown",
   "id": "a7e18abe",
   "metadata": {},
   "source": [
    "7. 高级优化技术\n"
   ]
  },
  {
   "cell_type": "code",
   "execution_count": null,
   "id": "60e38f25",
   "metadata": {},
   "outputs": [],
   "source": [
    "print(\"\\n7. 高级优化技术\")"
   ]
  },
  {
   "cell_type": "markdown",
   "id": "b9ae6a7f",
   "metadata": {},
   "source": [
    "7.1 量子错误缓解技术\n"
   ]
  },
  {
   "cell_type": "code",
   "execution_count": null,
   "id": "74a07cbf",
   "metadata": {},
   "outputs": [],
   "source": [
    "print(\"\\n7.1 量子错误缓解技术\")\n",
    "print(\"除了优化电路结构外，还可以使用错误缓解技术:\")\n",
    "print(\"- 量子错误校正码：使用多个物理量子比特编码一个逻辑量子比特\")\n",
    "print(\"- 动态解耦：应用控制脉冲序列抵消环境噪声\")\n",
    "print(\"- 零噪声外推法：在不同噪声级别运行电路，然后推断零噪声结果\")\n",
    "print(\"- 测量错误缓解：使用测量校准和错误概率调整结果\")"
   ]
  },
  {
   "cell_type": "markdown",
   "id": "a1a4f774",
   "metadata": {},
   "source": [
    "7.2 变分算法优化\n"
   ]
  },
  {
   "cell_type": "code",
   "execution_count": null,
   "id": "7e4ba47d",
   "metadata": {},
   "outputs": [],
   "source": [
    "print(\"\\n7.2 变分算法优化\")\n",
    "print(\"变分量子算法可以更好地适应NISQ设备:\")\n",
    "print(\"- 更短的电路深度减少累积错误\")\n",
    "print(\"- 经典优化循环可以适应设备的具体噪声特性\")\n",
    "print(\"- 可以通过增加测量次数来缓解量子态准备错误\")\n",
    "print(\"- 适应性参数更新可以补偿系统漂移\")"
   ]
  },
  {
   "cell_type": "markdown",
   "id": "f16d423c",
   "metadata": {},
   "source": [
    "7.3 量子近似优化算法(QAOA)示例\n"
   ]
  },
  {
   "cell_type": "code",
   "execution_count": null,
   "id": "c5fe29ce",
   "metadata": {},
   "outputs": [],
   "source": [
    "print(\"\\n7.3 量子近似优化算法(QAOA)示例\")"
   ]
  },
  {
   "cell_type": "markdown",
   "id": "c5b55ac8",
   "metadata": {},
   "source": [
    "创建一个简单的QAOA电路\n"
   ]
  },
  {
   "cell_type": "code",
   "execution_count": null,
   "id": "17fd79d3",
   "metadata": {},
   "outputs": [],
   "source": [
    "q0, q1, q2 = cirq.LineQubit.range(3)\n",
    "\n",
    "beta = sympy.Symbol('beta')\n",
    "gamma = sympy.Symbol('gamma')\n",
    "\n",
    "qaoa_circuit = cirq.Circuit(\n",
    "    # 初始化为均匀叠加态\n",
    "    cirq.H.on_each([q0, q1, q2]),\n",
    "    \n",
    "    # 问题Hamiltonian演化\n",
    "    cirq.ZZ(q0, q1) ** gamma,\n",
    "    cirq.ZZ(q1, q2) ** gamma,\n",
    "    cirq.ZZ(q0, q2) ** gamma,\n",
    "    \n",
    "    # 混合Hamiltonian演化\n",
    "    cirq.X(q0) ** beta,\n",
    "    cirq.X(q1) ** beta,\n",
    "    cirq.X(q2) ** beta\n",
    ")\n",
    "\n",
    "print(\"QAOA电路 (单层):\")\n",
    "print(qaoa_circuit)\n",
    "\n",
    "print(\"\\nQAOA优化策略:\")\n",
    "print(\"1. 减少QAOA层数以降低电路深度，牺牲一些精度\")\n",
    "print(\"2. 选择适当的初始参数，加速经典优化收敛\")\n",
    "print(\"3. 使用问题特定的简化减少所需的操作\")\n",
    "print(\"4. 利用问题的对称性减少参数空间\")"
   ]
  },
  {
   "cell_type": "markdown",
   "id": "bc0e4eb3",
   "metadata": {},
   "source": [
    "8. 总结\n"
   ]
  },
  {
   "cell_type": "code",
   "execution_count": null,
   "id": "ed4d85af",
   "metadata": {},
   "outputs": [],
   "source": [
    "print(\"\\n8. 总结\")\n",
    "print(\"量子计算资源优化是在NISQ设备上实现有用量子计算的关键:\")\n",
    "print(\"1. 电路优化可以减少门数量和电路深度\")\n",
    "print(\"2. 门分解和重综可以适应设备的原生门集\")\n",
    "print(\"3. 拓扑感知映射和路由可以适应量子设备的物理约束\")\n",
    "print(\"4. 噪声感知优化可以最小化错误率\")\n",
    "print(\"5. 电路编译和资源估算帮助我们理解并改进量子程序\")\n",
    "\n",
    "print(\"\\n随着量子硬件的发展，优化技术将继续演进，但核心原则仍然适用:\")\n",
    "print(\"- 减少电路深度\")\n",
    "print(\"- 最小化两量子比特门数量\")\n",
    "print(\"- 适应设备拓扑和噪声特性\")\n",
    "print(\"- 利用经典-量子混合方法补偿硬件限制\")"
   ]
  },
  {
   "cell_type": "markdown",
   "id": "ea0efbf5",
   "metadata": {},
   "source": [
    "## 💡 挑战任务\n",
    "\n",
    "尝试扩展上面的练习，探索以下内容：\n",
    "1. 更改电路参数并观察结果的变化\n",
    "2. 尝试实现不同的量子态或算法\n",
    "3. 可视化更多量子测量的结果"
   ]
  }
 ],
 "metadata": {
  "kernelspec": {
   "display_name": "Python 3",
   "language": "python",
   "name": "python3"
  },
  "language_info": {
   "codemirror_mode": {
    "name": "ipython",
    "version": 3
   },
   "file_extension": ".py",
   "mimetype": "text/x-python",
   "name": "python",
   "nbconvert_exporter": "python",
   "pygments_lexer": "ipython3",
   "version": "3.9.13"
  }
 },
 "nbformat": 4,
 "nbformat_minor": 5
}

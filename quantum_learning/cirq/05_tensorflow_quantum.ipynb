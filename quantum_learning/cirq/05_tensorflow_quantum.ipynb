{
 "cells": [
  {
   "cell_type": "code",
   "execution_count": null,
   "id": "57fc28d0",
   "metadata": {},
   "outputs": [],
   "source": [
    "#!/usr/bin/env python\n",
    "# -*- coding: utf-8 -*-"
   ]
  },
  {
   "cell_type": "markdown",
   "id": "5cee464a",
   "metadata": {},
   "source": [
    "\n",
    "Google Cirq框架学习 5：TensorFlow Quantum集成\n",
    "本文件详细介绍如何结合Cirq与TensorFlow Quantum进行量子机器学习\n",
    "注意：运行本文件需要安装tensorflow-quantum包"
   ]
  },
  {
   "cell_type": "code",
   "execution_count": null,
   "id": "3dff9d3a",
   "metadata": {},
   "outputs": [],
   "source": [
    "import cirq\n",
    "import sympy\n",
    "import numpy as np\n",
    "import matplotlib.pyplot as plt\n"
   ]
  },
  {
   "cell_type": "markdown",
   "id": "2cac3284",
   "metadata": {},
   "source": [
    "尝试导入tensorflow和tensorflow_quantum\n"
   ]
  },
  {
   "cell_type": "code",
   "execution_count": null,
   "id": "618be104",
   "metadata": {},
   "outputs": [],
   "source": [
    "try:\n",
    "    import tensorflow as tf\n",
    "    import tensorflow_quantum as tfq\n",
    "    print(\"===== Cirq与TensorFlow Quantum集成 =====\")\n",
    "    print(f\"TensorFlow版本: {tf.__version__}\")\n",
    "    print(f\"TensorFlow Quantum版本: {tfq.__version__}\")\n",
    "    tfq_available = True\n",
    "except ImportError:\n",
    "    print(\"===== TensorFlow Quantum未安装 =====\")\n",
    "    print(\"本文件需要安装tensorflow和tensorflow-quantum\")\n",
    "    print(\"安装命令: pip install tensorflow tensorflow-quantum\")\n",
    "    print(\"将继续执行部分代码，但无法运行TFQ相关功能\")\n",
    "    tfq_available = False"
   ]
  },
  {
   "cell_type": "markdown",
   "id": "e7221dd0",
   "metadata": {},
   "source": [
    "1. TensorFlow Quantum简介\n"
   ]
  },
  {
   "cell_type": "code",
   "execution_count": null,
   "id": "b9ae38df",
   "metadata": {},
   "outputs": [],
   "source": [
    "print(\"\\n1. TensorFlow Quantum简介\")\n",
    "print(\"TensorFlow Quantum (TFQ) 是一个用于混合量子-经典机器学习的库\")\n",
    "print(\"它结合了Google的Cirq量子编程框架和TensorFlow机器学习库\")\n",
    "print(\"TFQ让开发者能够创建量子数据和量子模型，并在经典神经网络中使用它们\")"
   ]
  },
  {
   "cell_type": "markdown",
   "id": "f9a73c85",
   "metadata": {},
   "source": [
    "2. 基本组件和概念\n"
   ]
  },
  {
   "cell_type": "code",
   "execution_count": null,
   "id": "f840a22c",
   "metadata": {},
   "outputs": [],
   "source": [
    "print(\"\\n2. 基本组件和概念\")"
   ]
  },
  {
   "cell_type": "markdown",
   "id": "0970ac58",
   "metadata": {},
   "source": [
    "2.1 量子电路与张量\n"
   ]
  },
  {
   "cell_type": "code",
   "execution_count": null,
   "id": "01caa2e4",
   "metadata": {},
   "outputs": [],
   "source": [
    "print(\"\\n2.1 量子电路与张量\")\n",
    "print(\"TFQ将Cirq电路转换为TensorFlow张量，以便在TensorFlow计算图中使用\")"
   ]
  },
  {
   "cell_type": "markdown",
   "id": "d1eac365",
   "metadata": {},
   "source": [
    "创建一个简单的Bell状态电路\n"
   ]
  },
  {
   "cell_type": "code",
   "execution_count": null,
   "id": "67553160",
   "metadata": {},
   "outputs": [],
   "source": [
    "q0, q1 = cirq.GridQubit(0, 0), cirq.GridQubit(0, 1)\n",
    "bell_circuit = cirq.Circuit(\n",
    "    cirq.H(q0),\n",
    "    cirq.CNOT(q0, q1)\n",
    ")\n",
    "print(\"Bell状态电路:\")\n",
    "print(bell_circuit)\n",
    "\n",
    "if tfq_available:\n",
    "    # 将电路转换为张量\n",
    "    circuit_tensor = tfq.convert_to_tensor([bell_circuit])\n",
    "    print(\"\\n转换为TensorFlow张量后的形状:\", circuit_tensor.shape)"
   ]
  },
  {
   "cell_type": "markdown",
   "id": "50b98cc3",
   "metadata": {},
   "source": [
    "2.2 参数化量子电路\n"
   ]
  },
  {
   "cell_type": "code",
   "execution_count": null,
   "id": "2e021593",
   "metadata": {},
   "outputs": [],
   "source": [
    "print(\"\\n2.2 参数化量子电路\")\n",
    "print(\"TFQ支持使用符号参数创建参数化量子电路，这些参数可以在训练过程中优化\")"
   ]
  },
  {
   "cell_type": "markdown",
   "id": "8aac2d9f",
   "metadata": {},
   "source": [
    "创建一个参数化电路\n"
   ]
  },
  {
   "cell_type": "code",
   "execution_count": null,
   "id": "3f1c406e",
   "metadata": {},
   "outputs": [],
   "source": [
    "theta = sympy.Symbol('theta')\n",
    "phi = sympy.Symbol('phi')\n",
    "\n",
    "param_circuit = cirq.Circuit(\n",
    "    cirq.H(q0),\n",
    "    cirq.rx(theta).on(q0),\n",
    "    cirq.rx(phi).on(q1),\n",
    "    cirq.CNOT(q0, q1)\n",
    ")\n",
    "print(\"参数化电路:\")\n",
    "print(param_circuit)\n",
    "\n",
    "if tfq_available:\n",
    "    # 将参数化电路转换为张量\n",
    "    param_tensor = tfq.convert_to_tensor([param_circuit])\n",
    "    print(\"\\n参数化电路张量的形状:\", param_tensor.shape)\n",
    "    \n",
    "    # 创建参数值字典\n",
    "    param_values = tf.convert_to_tensor([[0.5, 0.25]])  # 批量大小=1，参数数量=2\n",
    "    print(\"参数值张量的形状:\", param_values.shape)"
   ]
  },
  {
   "cell_type": "markdown",
   "id": "13c63c9e",
   "metadata": {},
   "source": [
    "3. TFQ中的量子电路评估\n"
   ]
  },
  {
   "cell_type": "code",
   "execution_count": null,
   "id": "3a820fe4",
   "metadata": {},
   "outputs": [],
   "source": [
    "print(\"\\n3. TFQ中的量子电路评估\")\n",
    "if tfq_available:\n",
    "    # 创建一个简单电路进行演示\n",
    "    q0 = cirq.GridQubit(0, 0)\n",
    "    simple_circuit = cirq.Circuit(cirq.X(q0)**0.5, cirq.measure(q0, key='m'))\n",
    "    print(\"带测量的简单电路:\")\n",
    "    print(simple_circuit)\n",
    "    \n",
    "    # 3.1 使用TFQ执行电路\n",
    "    print(\"\\n3.1 使用TFQ执行电路\")\n",
    "    # 将电路转换为张量\n",
    "    circuit_tensor = tfq.convert_to_tensor([simple_circuit])\n",
    "    \n",
    "    # 执行电路并获取测量结果\n",
    "    result = tfq.layers.Sample()(circuit_tensor)\n",
    "    print(\"采样结果:\", result.numpy())\n",
    "    \n",
    "    # 3.2 期望值计算\n",
    "    print(\"\\n3.2 计算泡利算子的期望值\")\n",
    "    # 创建一个不带测量的电路\n",
    "    q0 = cirq.GridQubit(0, 0)\n",
    "    circuit = cirq.Circuit(cirq.X(q0)**0.5)\n",
    "    circuit_tensor = tfq.convert_to_tensor([circuit])\n",
    "    \n",
    "    # 定义要测量的算子\n",
    "    operators = tfq.convert_to_tensor([[cirq.Z(q0)]])\n",
    "    \n",
    "    # 计算期望值\n",
    "    expectations = tfq.layers.Expectation()(circuit_tensor, operators=operators)\n",
    "    print(\"Z算子的期望值:\", expectations.numpy())\n",
    "else:\n",
    "    print(\"TensorFlow Quantum未安装，无法执行电路评估示例\")"
   ]
  },
  {
   "cell_type": "markdown",
   "id": "b0d03490",
   "metadata": {},
   "source": [
    "4. 构建量子-经典混合模型\n"
   ]
  },
  {
   "cell_type": "code",
   "execution_count": null,
   "id": "5b0a7e6d",
   "metadata": {},
   "outputs": [],
   "source": [
    "print(\"\\n4. 构建量子-经典混合模型\")\n",
    "if tfq_available:\n",
    "    # 4.1 量子神经网络层\n",
    "    print(\"\\n4.1 量子神经网络层\")\n",
    "    print(\"TFQ提供了量子层，可以嵌入到普通的TensorFlow模型中\")\n",
    "    \n",
    "    # 创建一个简单的参数化电路\n",
    "    q0 = cirq.GridQubit(0, 0)\n",
    "    theta = sympy.Symbol('theta')\n",
    "    circuit = cirq.Circuit(cirq.rx(theta).on(q0))\n",
    "    \n",
    "    # 展示量子层的设计\n",
    "    print(\"参数化单量子比特电路:\")\n",
    "    print(circuit)\n",
    "    \n",
    "    # 创建一个量子层\n",
    "    model = tf.keras.Sequential([\n",
    "        # 输入层\n",
    "        tf.keras.layers.Input(shape=(), dtype=tf.dtypes.string),\n",
    "        # 量子层\n",
    "        tfq.layers.PQC(\n",
    "            circuit, # 参数化电路\n",
    "            cirq.Z(q0)  # 测量算子\n",
    "        )\n",
    "    ])\n",
    "    \n",
    "    print(\"\\n量子-经典混合模型结构:\")\n",
    "    model.summary()\n",
    "    \n",
    "    # 4.2 使用控制器模式构建模型\n",
    "    print(\"\\n4.2 使用控制器模式构建模型\")\n",
    "    # 创建一个经典控制器，生成量子电路的参数\n",
    "    controller = tf.keras.Sequential([\n",
    "        tf.keras.layers.Dense(10, activation='relu'),\n",
    "        tf.keras.layers.Dense(1)\n",
    "    ])\n",
    "    \n",
    "    print(\"经典控制器模型结构:\")\n",
    "    controller.build((None, 5))  # 假设输入特征维度为5\n",
    "    controller.summary()\n",
    "    \n",
    "    print(\"\\n量子-经典混合模型通常由以下部分组成:\")\n",
    "    print(\"1. 经典神经网络：预处理输入数据并生成量子电路参数\")\n",
    "    print(\"2. 量子电路层：使用参数执行量子操作\")\n",
    "    print(\"3. 测量层：计算量子态的期望值\")\n",
    "    print(\"4. 后处理层：将量子结果转换为最终输出\")\n",
    "else:\n",
    "    print(\"TensorFlow Quantum未安装，无法构建量子-经典混合模型示例\")"
   ]
  },
  {
   "cell_type": "markdown",
   "id": "ac94c3ad",
   "metadata": {},
   "source": [
    "5. 量子数据编码和分类\n"
   ]
  },
  {
   "cell_type": "code",
   "execution_count": null,
   "id": "1fb059a9",
   "metadata": {},
   "outputs": [],
   "source": [
    "print(\"\\n5. 量子数据编码和分类\")\n",
    "if tfq_available:\n",
    "    print(\"\\n5.1 量子数据编码\")\n",
    "    print(\"数据编码是将经典数据转换为量子态的过程\")\n",
    "    print(\"常见编码策略包括:\")\n",
    "    print(\"- 基编码: 将经典bit直接映射到计算基上\")\n",
    "    print(\"- 振幅编码: 将数据编码到量子态的振幅中\")\n",
    "    print(\"- 角度编码: 使用旋转门的角度表示数据\")\n",
    "    \n",
    "    # 演示角度编码\n",
    "    def angle_encoding(features, qubits):"
   ]
  },
  {
   "cell_type": "markdown",
   "id": "4e56146e",
   "metadata": {},
   "source": [
    "使用旋转门将特征编码到量子态中"
   ]
  },
  {
   "cell_type": "code",
   "execution_count": null,
   "id": "5137d2dd",
   "metadata": {},
   "outputs": [],
   "source": [
    "circuit = cirq.Circuit()\n",
    "        for i, qubit in enumerate(qubits):\n",
    "            # 将特征值用作旋转角度\n",
    "            circuit.append(cirq.rx(features[i % len(features)]).on(qubit))\n",
    "        return circuit\n",
    "    \n",
    "    # 创建一个示例特征向量和量子比特\n",
    "    features = np.array([0.1, 0.2, 0.3, 0.4])\n",
    "    qubits = [cirq.GridQubit(0, i) for i in range(4)]\n",
    "    \n",
    "    # 编码电路\n",
    "    encoding_circuit = angle_encoding(features, qubits)\n",
    "    print(\"\\n角度编码电路:\")\n",
    "    print(encoding_circuit)\n",
    "    \n",
    "    print(\"\\n5.2 量子分类\")\n",
    "    print(\"量子分类使用参数化量子电路来对数据进行分类\")\n",
    "    \n",
    "    # 创建简单的量子分类器\n",
    "    def create_quantum_classifier(n_qubits):"
   ]
  },
  {
   "cell_type": "markdown",
   "id": "80037cf2",
   "metadata": {},
   "source": [
    "创建一个简单的量子分类器电路"
   ]
  },
  {
   "cell_type": "code",
   "execution_count": null,
   "id": "442f945c",
   "metadata": {},
   "outputs": [],
   "source": [
    "qubits = [cirq.GridQubit(0, i) for i in range(n_qubits)]\n",
    "        \n",
    "        # 创建编码和变分电路\n",
    "        circuit = cirq.Circuit()\n",
    "        \n",
    "        # 为每个量子比特添加参数\n",
    "        params = sympy.symbols(f'theta0:{n_qubits}')\n",
    "        params2 = sympy.symbols(f'theta1:{n_qubits}')\n",
    "        \n",
    "        # 编码层 - 这里假设输入已经被编码\n",
    "        for i, qubit in enumerate(qubits):\n",
    "            circuit.append(cirq.H(qubit))\n",
    "        \n",
    "        # 第一个变分层 - 单量子比特旋转\n",
    "        for i, qubit in enumerate(qubits):\n",
    "            circuit.append(cirq.rx(params[i]).on(qubit))\n",
    "        \n",
    "        # 纠缠层\n",
    "        for i in range(n_qubits - 1):\n",
    "            circuit.append(cirq.CNOT(qubits[i], qubits[i+1]))\n",
    "        \n",
    "        # 第二个变分层 - 单量子比特旋转\n",
    "        for i, qubit in enumerate(qubits):\n",
    "            circuit.append(cirq.rx(params2[i]).on(qubit))\n",
    "        \n",
    "        return circuit, qubits\n",
    "    \n",
    "    # 创建一个2量子比特的分类器\n",
    "    classifier_circuit, qubits = create_quantum_classifier(2)\n",
    "    print(\"\\n量子分类器电路:\")\n",
    "    print(classifier_circuit)\n",
    "    \n",
    "    # 创建要观测的算子 - 使用第一个量子比特的Z测量作为输出\n",
    "    readout_operator = cirq.Z(qubits[0])\n",
    "    \n",
    "    print(\"\\n示例分类模型构建:\")\n",
    "    # 构建量子分类模型\n",
    "    quantum_model = tf.keras.Sequential([\n",
    "        # 输入电路\n",
    "        tf.keras.layers.Input(shape=(), dtype=tf.string),\n",
    "        # 参数化量子电路层\n",
    "        tfq.layers.PQC(classifier_circuit, readout_operator)\n",
    "    ])\n",
    "    \n",
    "    # 编译模型\n",
    "    quantum_model.compile(\n",
    "        loss=tf.keras.losses.MeanSquaredError(),\n",
    "        optimizer=tf.keras.optimizers.Adam(learning_rate=0.01),\n",
    "        metrics=['accuracy']\n",
    "    )\n",
    "    \n",
    "    print(\"量子分类模型结构:\")\n",
    "    quantum_model.summary()\n",
    "else:\n",
    "    print(\"TensorFlow Quantum未安装，无法执行量子数据编码和分类示例\")"
   ]
  },
  {
   "cell_type": "markdown",
   "id": "79836145",
   "metadata": {},
   "source": [
    "6. 量子变分电路和优化\n"
   ]
  },
  {
   "cell_type": "code",
   "execution_count": null,
   "id": "b1abcd69",
   "metadata": {},
   "outputs": [],
   "source": [
    "print(\"\\n6. 量子变分电路和优化\")\n",
    "if tfq_available:\n",
    "    print(\"\\n6.1 变分量子电路 (VQC)\")\n",
    "    print(\"变分量子电路是参数化的量子电路，可以通过梯度下降进行优化\")\n",
    "    print(\"VQC是许多量子机器学习算法的核心，如VQE和QAOA\")\n",
    "    \n",
    "    # 创建一个简单的变分电路\n",
    "    q0, q1 = cirq.GridQubit(0, 0), cirq.GridQubit(0, 1)\n",
    "    \n",
    "    # 定义符号参数\n",
    "    theta1 = sympy.Symbol('theta1')\n",
    "    theta2 = sympy.Symbol('theta2')\n",
    "    theta3 = sympy.Symbol('theta3')\n",
    "    \n",
    "    vqc = cirq.Circuit([\n",
    "        cirq.rx(theta1).on(q0),\n",
    "        cirq.rx(theta2).on(q1),\n",
    "        cirq.CNOT(q0, q1),\n",
    "        cirq.rx(theta3).on(q0)\n",
    "    ])\n",
    "    \n",
    "    print(\"\\n变分量子电路:\")\n",
    "    print(vqc)\n",
    "    \n",
    "    # 定义测量\n",
    "    operators = tfq.convert_to_tensor([[\n",
    "        cirq.Z(q0) * cirq.Z(q1)  # 测量ZZ关联\n",
    "    ]])\n",
    "    \n",
    "    print(\"\\n6.2 变分参数优化\")\n",
    "    # 创建一个包装层用于优化\n",
    "    expectation_layer = tfq.layers.Expectation()\n",
    "    \n",
    "    # 设置初始参数\n",
    "    initializer = tf.constant_initializer(np.random.random(3))\n",
    "    \n",
    "    # 创建优化变量\n",
    "    var_params = tf.Variable(\n",
    "        initializer(shape=(1, 3), dtype=tf.float32),\n",
    "        trainable=True\n",
    "    )\n",
    "    \n",
    "    # 定义损失函数 - 我们想要最小化ZZ关联的期望值\n",
    "    def loss_function():\n",
    "        # 以张量形式传递电路和参数\n",
    "        circuits_tensor = tfq.convert_to_tensor([vqc])\n",
    "        expectation = expectation_layer(\n",
    "            circuits_tensor, \n",
    "            operators=operators,\n",
    "            symbol_names=['theta1', 'theta2', 'theta3'],\n",
    "            symbol_values=var_params\n",
    "        )\n",
    "        # 最小化期望值\n",
    "        return tf.reduce_sum(expectation)\n",
    "    \n",
    "    # 创建优化器\n",
    "    optimizer = tf.keras.optimizers.Adam(learning_rate=0.1)\n",
    "    \n",
    "    # 定义优化步骤\n",
    "    @tf.function\n",
    "    def train_step():\n",
    "        with tf.GradientTape() as tape:\n",
    "            loss = loss_function()\n",
    "        grads = tape.gradient(loss, [var_params])\n",
    "        optimizer.apply_gradients(zip(grads, [var_params]))\n",
    "        return loss\n",
    "    \n",
    "    print(\"\\n变分参数优化示例:\")\n",
    "    print(\"初始参数:\", var_params.numpy())\n",
    "    \n",
    "    # 执行几个优化步骤\n",
    "    for i in range(5):\n",
    "        loss = train_step()\n",
    "        print(f\"步骤 {i+1}, 损失: {loss.numpy()[0]}, 参数: {var_params.numpy()[0]}\")\n",
    "else:\n",
    "    print(\"TensorFlow Quantum未安装，无法执行量子变分电路和优化示例\")"
   ]
  },
  {
   "cell_type": "markdown",
   "id": "ae0cfc45",
   "metadata": {},
   "source": [
    "7. 实际应用示例\n"
   ]
  },
  {
   "cell_type": "code",
   "execution_count": null,
   "id": "5b60e334",
   "metadata": {},
   "outputs": [],
   "source": [
    "print(\"\\n7. 实际应用示例\")\n",
    "if tfq_available:\n",
    "    print(\"\\n7.1 QAOA解决Max-Cut问题\")\n",
    "    print(\"量子近似优化算法 (QAOA) 是一种混合量子-经典算法\")\n",
    "    print(\"可用于解决组合优化问题，如Max-Cut\")\n",
    "    \n",
    "    # 定义一个简单的图\n",
    "    print(\"\\n定义一个简单的图:\")\n",
    "    print(\"节点: A, B, C, D\")\n",
    "    print(\"边: (A,B), (B,C), (C,D), (D,A), (A,C)\")\n",
    "    \n",
    "    # 对应的权重矩阵\n",
    "    adjacency_matrix = np.array([\n",
    "        [0, 1, 1, 1],  # A的连接\n",
    "        [1, 0, 1, 0],  # B的连接\n",
    "        [1, 1, 0, 1],  # C的连接\n",
    "        [1, 0, 1, 0]   # D的连接\n",
    "    ])\n",
    "    \n",
    "    # 创建量子比特\n",
    "    qubits = [cirq.GridQubit(0, i) for i in range(4)]\n",
    "    \n",
    "    # QAOA电路参数\n",
    "    gamma = sympy.Symbol('gamma')\n",
    "    beta = sympy.Symbol('beta')\n",
    "    \n",
    "    # 创建QAOA电路\n",
    "    def create_qaoa_circuit(qubits, adjacency_matrix, gamma, beta):"
   ]
  },
  {
   "cell_type": "markdown",
   "id": "6422ed2c",
   "metadata": {},
   "source": [
    "创建用于Max-Cut的QAOA电路"
   ]
  },
  {
   "cell_type": "code",
   "execution_count": null,
   "id": "0ea1e348",
   "metadata": {},
   "outputs": [],
   "source": [
    "n = len(qubits)\n",
    "        circuit = cirq.Circuit()\n",
    "        \n",
    "        # 初始化为均匀叠加态\n",
    "        circuit.append(cirq.H.on_each(qubits))\n",
    "        \n",
    "        # 问题Hamiltonian\n",
    "        for i in range(n):\n",
    "            for j in range(i+1, n):\n",
    "                if adjacency_matrix[i, j] == 1:\n",
    "                    # ZZ交互项对应边\n",
    "                    circuit.append(cirq.ZZ(qubits[i], qubits[j])**(gamma))\n",
    "        \n",
    "        # 混合Hamiltonian\n",
    "        for i in range(n):\n",
    "            circuit.append(cirq.X(qubits[i])**(beta))\n",
    "        \n",
    "        return circuit\n",
    "    \n",
    "    # 创建QAOA电路\n",
    "    qaoa_circuit = create_qaoa_circuit(qubits, adjacency_matrix, gamma, beta)\n",
    "    \n",
    "    print(\"\\nQAOA电路 (单层):\")\n",
    "    print(qaoa_circuit)\n",
    "    \n",
    "    # 定义目标函数 - 计算所有边的切割值的和\n",
    "    def max_cut_objective(adjacency_matrix, measurement):"
   ]
  },
  {
   "cell_type": "markdown",
   "id": "b0d097dc",
   "metadata": {},
   "source": [
    "计算Max-Cut目标函数值"
   ]
  },
  {
   "cell_type": "code",
   "execution_count": null,
   "id": "0bd78df7",
   "metadata": {},
   "outputs": [],
   "source": [
    "cut_value = 0\n",
    "        n = len(measurement)\n",
    "        for i in range(n):\n",
    "            for j in range(i+1, n):\n",
    "                if adjacency_matrix[i, j] == 1:\n",
    "                    # 如果节点在不同子集中，边被切割\n",
    "                    if measurement[i] != measurement[j]:\n",
    "                        cut_value += 1\n",
    "        return cut_value\n",
    "    \n",
    "    print(\"\\n7.2 量子机器学习用于分类\")\n",
    "    print(\"量子机器学习可用于分类任务，如MNIST或其他数据集\")\n",
    "    print(\"由于空间限制，仅展示概念性代码\")\n",
    "    \n",
    "    def create_dress_qnn_model(n_qubits, n_layers):"
   ]
  },
  {
   "cell_type": "markdown",
   "id": "092c0761",
   "metadata": {},
   "source": [
    "创建一个'穿着式'量子神经网络模型"
   ]
  },
  {
   "cell_type": "code",
   "execution_count": null,
   "id": "e914afcd",
   "metadata": {},
   "outputs": [],
   "source": [
    "qubits = [cirq.GridQubit(0, i) for i in range(n_qubits)]\n",
    "        \n",
    "        # 数据编码电路\n",
    "        data_symbols = sympy.symbols(f'x0:{n_qubits}')\n",
    "        data_circuit = cirq.Circuit()\n",
    "        for i, qubit in enumerate(qubits):\n",
    "            data_circuit.append(cirq.rx(data_symbols[i]).on(qubit))\n",
    "        \n",
    "        # 变分电路\n",
    "        model_symbols = []\n",
    "        model_circuit = cirq.Circuit()\n",
    "        \n",
    "        # 多层变分电路\n",
    "        for l in range(n_layers):\n",
    "            # 第l层的参数\n",
    "            layer_symbols = sympy.symbols(f'theta{l}_0:{2*n_qubits}')\n",
    "            model_symbols.extend(layer_symbols)\n",
    "            \n",
    "            # 单量子比特旋转\n",
    "            for i, qubit in enumerate(qubits):\n",
    "                model_circuit.append(cirq.rx(layer_symbols[i]).on(qubit))\n",
    "                model_circuit.append(cirq.rz(layer_symbols[i+n_qubits]).on(qubit))\n",
    "            \n",
    "            # 纠缠层\n",
    "            for i in range(n_qubits - 1):\n",
    "                model_circuit.append(cirq.CNOT(qubits[i], qubits[i+1]))\n",
    "            model_circuit.append(cirq.CNOT(qubits[n_qubits-1], qubits[0]))\n",
    "        \n",
    "        # 测量第一个量子比特\n",
    "        readout_operator = cirq.Z(qubits[0])\n",
    "        \n",
    "        return data_circuit, model_circuit, model_symbols, readout_operator\n",
    "    \n",
    "    print(\"\\n'穿着式'量子神经网络参数:\")\n",
    "    print(\"量子比特数: 4\")\n",
    "    print(\"变分层数: 2\")\n",
    "    \n",
    "    # 创建模型\n",
    "    data_circuit, model_circuit, model_symbols, readout_operator = create_dress_qnn_model(4, 2)\n",
    "    \n",
    "    combined_circuit = data_circuit + model_circuit\n",
    "    print(\"\\n完整量子神经网络电路 (数据编码 + 变分):\")\n",
    "    print(combined_circuit)\n",
    "else:\n",
    "    print(\"TensorFlow Quantum未安装，无法执行实际应用示例\")"
   ]
  },
  {
   "cell_type": "markdown",
   "id": "272086d5",
   "metadata": {},
   "source": [
    "8. TFQ的优势和限制\n"
   ]
  },
  {
   "cell_type": "code",
   "execution_count": null,
   "id": "785b2362",
   "metadata": {},
   "outputs": [],
   "source": [
    "print(\"\\n8. TFQ的优势和限制\")\n",
    "\n",
    "print(\"\\n8.1 TFQ的优势:\")\n",
    "print(\"- 与TensorFlow生态系统无缝集成\")\n",
    "print(\"- 支持自动微分和梯度下降优化\")\n",
    "print(\"- 批处理和并行化能力强\")\n",
    "print(\"- 可以利用GPU加速经典部分的计算\")\n",
    "print(\"- 支持高级模型设计模式，如控制器-变分结构\")\n",
    "\n",
    "print(\"\\n8.2 TFQ的限制:\")\n",
    "print(\"- 量子模拟在经典硬件上仍受到规模限制\")\n",
    "print(\"- 当前版本的编程模型和功能还在发展中\")\n",
    "print(\"- 与实际量子硬件的接口较为有限\")\n",
    "print(\"- 由于量子计算领域快速发展，API可能会变化\")"
   ]
  },
  {
   "cell_type": "markdown",
   "id": "86b573b0",
   "metadata": {},
   "source": [
    "9. 结论\n"
   ]
  },
  {
   "cell_type": "code",
   "execution_count": null,
   "id": "dcf1c0bd",
   "metadata": {},
   "outputs": [],
   "source": [
    "print(\"\\n9. 结论:\")\n",
    "print(\"- TensorFlow Quantum将量子计算和机器学习结合在一起\")\n",
    "print(\"- 它提供了一个实验量子机器学习算法的统一框架\")\n",
    "print(\"- 适用于研究不同的量子电路架构和训练方法\")\n",
    "print(\"- 为经典-量子混合模型提供了一个良好的起点\")\n",
    "print(\"- 随着量子硬件的发展，TFQ的实用性将进一步提高\")\n",
    "\n",
    "print(\"\\n推荐学习路径:\")\n",
    "print(\"1. 掌握基本的Cirq和TensorFlow概念\")\n",
    "print(\"2. 学习如何设计和优化参数化量子电路\")\n",
    "print(\"3. 实验不同的数据编码策略\")\n",
    "print(\"4. 尝试构建混合量子-经典模型解决实际问题\")\n",
    "print(\"5. 探索变分算法如QAOA和VQE\")"
   ]
  },
  {
   "cell_type": "markdown",
   "id": "1f3638e7",
   "metadata": {},
   "source": [
    "## 💡 挑战任务\n",
    "\n",
    "尝试扩展上面的练习，探索以下内容：\n",
    "1. 更改电路参数并观察结果的变化\n",
    "2. 尝试实现不同的量子态或算法\n",
    "3. 可视化更多量子测量的结果"
   ]
  }
 ],
 "metadata": {
  "kernelspec": {
   "display_name": "Python 3",
   "language": "python",
   "name": "python3"
  },
  "language_info": {
   "codemirror_mode": {
    "name": "ipython",
    "version": 3
   },
   "file_extension": ".py",
   "mimetype": "text/x-python",
   "name": "python",
   "nbconvert_exporter": "python",
   "pygments_lexer": "ipython3",
   "version": "3.9.13"
  }
 },
 "nbformat": 4,
 "nbformat_minor": 5
}

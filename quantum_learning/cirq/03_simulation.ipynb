{
 "cells": [
  {
   "cell_type": "code",
   "execution_count": null,
   "id": "e360f8e5",
   "metadata": {},
   "outputs": [],
   "source": [
    "#!/usr/bin/env python\n",
    "# -*- coding: utf-8 -*-"
   ]
  },
  {
   "cell_type": "markdown",
   "id": "8340a8c0",
   "metadata": {},
   "source": [
    "\n",
    "Google Cirq框架学习 3：量子模拟与测量\n",
    "本文件详细介绍Cirq中的量子模拟器类型、测量方法和结果分析"
   ]
  },
  {
   "cell_type": "code",
   "execution_count": null,
   "id": "3f73cb86",
   "metadata": {},
   "outputs": [],
   "source": [
    "import cirq\n",
    "import numpy as np\n",
    "import matplotlib.pyplot as plt\n",
    "from collections import Counter\n"
   ]
  },
  {
   "cell_type": "code",
   "execution_count": null,
   "id": "41b33293",
   "metadata": {},
   "outputs": [],
   "source": [
    "print(\"===== Cirq中的量子模拟与测量 =====\")"
   ]
  },
  {
   "cell_type": "markdown",
   "id": "5d77a51a",
   "metadata": {},
   "source": [
    "1. Cirq中的模拟器类型\n"
   ]
  },
  {
   "cell_type": "code",
   "execution_count": null,
   "id": "5e25f5dd",
   "metadata": {},
   "outputs": [],
   "source": [
    "print(\"\\n1. Cirq中的模拟器类型\")"
   ]
  },
  {
   "cell_type": "markdown",
   "id": "518e4f5a",
   "metadata": {},
   "source": [
    "1.1 状态向量模拟器\n"
   ]
  },
  {
   "cell_type": "code",
   "execution_count": null,
   "id": "b42694d1",
   "metadata": {},
   "outputs": [],
   "source": [
    "print(\"\\n1.1 状态向量模拟器（Statevector Simulator）\")\n",
    "print(\"状态向量模拟器跟踪量子系统的完整状态向量，适用于小型电路的精确模拟\")"
   ]
  },
  {
   "cell_type": "markdown",
   "id": "c4248a99",
   "metadata": {},
   "source": [
    "创建一个简单的Bell状态电路\n"
   ]
  },
  {
   "cell_type": "code",
   "execution_count": null,
   "id": "5e7f8641",
   "metadata": {},
   "outputs": [],
   "source": [
    "q0, q1 = cirq.LineQubit.range(2)\n",
    "bell_circuit = cirq.Circuit(\n",
    "    cirq.H(q0),\n",
    "    cirq.CNOT(q0, q1)\n",
    ")\n",
    "print(\"Bell状态电路:\")\n",
    "print(bell_circuit)"
   ]
  },
  {
   "cell_type": "markdown",
   "id": "9d1c6b67",
   "metadata": {},
   "source": [
    "创建状态向量模拟器\n"
   ]
  },
  {
   "cell_type": "code",
   "execution_count": null,
   "id": "5c35a847",
   "metadata": {},
   "outputs": [],
   "source": [
    "sv_simulator = cirq.Simulator()\n",
    "print(\"状态向量模拟器创建完成:\", sv_simulator)"
   ]
  },
  {
   "cell_type": "markdown",
   "id": "e361c122",
   "metadata": {},
   "source": [
    "获取最终状态向量\n"
   ]
  },
  {
   "cell_type": "code",
   "execution_count": null,
   "id": "45b7c90e",
   "metadata": {},
   "outputs": [],
   "source": [
    "result = sv_simulator.simulate(bell_circuit)\n",
    "print(\"\\n最终状态向量:\")\n",
    "print(result.final_state_vector)"
   ]
  },
  {
   "cell_type": "markdown",
   "id": "339c1acd",
   "metadata": {},
   "source": [
    "以更友好的方式显示状态向量\n"
   ]
  },
  {
   "cell_type": "code",
   "execution_count": null,
   "id": "f83d9c22",
   "metadata": {},
   "outputs": [],
   "source": [
    "def print_state(state, qubits, decimals=3):"
   ]
  },
  {
   "cell_type": "markdown",
   "id": "c7bfbfd4",
   "metadata": {},
   "source": [
    "以量子态表示法打印状态向量"
   ]
  },
  {
   "cell_type": "code",
   "execution_count": null,
   "id": "adfbf765",
   "metadata": {},
   "outputs": [],
   "source": [
    "n_qubits = len(qubits)\n",
    "    state_dict = {}\n",
    "    for i, amplitude in enumerate(state):\n",
    "        if abs(amplitude) > 1e-6:  # 忽略非常小的振幅\n",
    "            # 转换整数索引为二进制形式\n",
    "            binary = format(i, f'0{n_qubits}b')\n",
    "            # 创建态表示\n",
    "            label = '|' + binary + '⟩'\n",
    "            state_dict[label] = amplitude\n",
    "    \n",
    "    # 打印状态\n",
    "    print(\"状态向量（ket形式）:\")\n",
    "    for label, amplitude in state_dict.items():\n",
    "        real = np.real(amplitude)\n",
    "        imag = np.imag(amplitude)\n",
    "        if abs(imag) < 1e-10:  # 实数\n",
    "            print(f\"  {real:.{decimals}f} {label}\")\n",
    "        else:  # 复数\n",
    "            sign = '+' if imag >= 0 else ''\n",
    "            print(f\"  {real:.{decimals}f}{sign}{imag:.{decimals}f}i {label}\")\n",
    "\n",
    "print_state(result.final_state_vector, [q0, q1])"
   ]
  },
  {
   "cell_type": "markdown",
   "id": "09639146",
   "metadata": {},
   "source": [
    "1.2 密度矩阵模拟器\n"
   ]
  },
  {
   "cell_type": "code",
   "execution_count": null,
   "id": "1c78ba80",
   "metadata": {},
   "outputs": [],
   "source": [
    "print(\"\\n1.2 密度矩阵模拟器（Density Matrix Simulator）\")\n",
    "print(\"密度矩阵模拟器跟踪量子系统的密度矩阵，可以模拟混合态和开放系统\")"
   ]
  },
  {
   "cell_type": "markdown",
   "id": "5ca3bddd",
   "metadata": {},
   "source": [
    "创建密度矩阵模拟器\n"
   ]
  },
  {
   "cell_type": "code",
   "execution_count": null,
   "id": "2dd83365",
   "metadata": {},
   "outputs": [],
   "source": [
    "dm_simulator = cirq.DensityMatrixSimulator()\n",
    "print(\"密度矩阵模拟器创建完成:\", dm_simulator)"
   ]
  },
  {
   "cell_type": "markdown",
   "id": "8457415f",
   "metadata": {},
   "source": [
    "模拟Bell状态电路\n"
   ]
  },
  {
   "cell_type": "code",
   "execution_count": null,
   "id": "1996d2cc",
   "metadata": {},
   "outputs": [],
   "source": [
    "dm_result = dm_simulator.simulate(bell_circuit)\n",
    "print(\"\\n最终密度矩阵:\")\n",
    "print(dm_result.final_density_matrix)"
   ]
  },
  {
   "cell_type": "markdown",
   "id": "45449461",
   "metadata": {},
   "source": [
    "1.3 Clifford模拟器\n"
   ]
  },
  {
   "cell_type": "code",
   "execution_count": null,
   "id": "2842569c",
   "metadata": {},
   "outputs": [],
   "source": [
    "print(\"\\n1.3 Clifford模拟器\")\n",
    "print(\"Clifford模拟器专门模拟仅包含Clifford门的电路，效率更高\")"
   ]
  },
  {
   "cell_type": "markdown",
   "id": "cd975833",
   "metadata": {},
   "source": [
    "创建仅包含Clifford门的电路\n"
   ]
  },
  {
   "cell_type": "code",
   "execution_count": null,
   "id": "ddb4001d",
   "metadata": {},
   "outputs": [],
   "source": [
    "clifford_circuit = cirq.Circuit(\n",
    "    cirq.H(q0),\n",
    "    cirq.CNOT(q0, q1),\n",
    "    cirq.S(q1)\n",
    ")\n",
    "print(\"Clifford电路:\")\n",
    "print(clifford_circuit)"
   ]
  },
  {
   "cell_type": "markdown",
   "id": "5317394f",
   "metadata": {},
   "source": [
    "创建Clifford模拟器\n"
   ]
  },
  {
   "cell_type": "code",
   "execution_count": null,
   "id": "0d6580b5",
   "metadata": {},
   "outputs": [],
   "source": [
    "clifford_simulator = cirq.CliffordSimulator()\n",
    "print(\"Clifford模拟器创建完成:\", clifford_simulator)"
   ]
  },
  {
   "cell_type": "markdown",
   "id": "3fa30f4f",
   "metadata": {},
   "source": [
    "模拟Clifford电路\n"
   ]
  },
  {
   "cell_type": "code",
   "execution_count": null,
   "id": "c5f1ecb5",
   "metadata": {},
   "outputs": [],
   "source": [
    "clifford_result = clifford_simulator.simulate(clifford_circuit)\n",
    "print(\"\\nClifford模拟结果:\")\n",
    "print(clifford_result)"
   ]
  },
  {
   "cell_type": "markdown",
   "id": "585c508e",
   "metadata": {},
   "source": [
    "1.4 分解模拟器（ZX计算）\n"
   ]
  },
  {
   "cell_type": "code",
   "execution_count": null,
   "id": "8b521151",
   "metadata": {},
   "outputs": [],
   "source": [
    "print(\"\\n1.4 分解模拟器（ZX计算）\")\n",
    "try:\n",
    "    # 提示：这需要安装cirq-core[contrib]\n",
    "    from cirq.contrib import routing\n",
    "    # 使用ZX计算进行电路分解和模拟...\n",
    "    print(\"这需要安装ZX计算相关的包\")\n",
    "except ImportError:\n",
    "    print(\"这需要安装额外的ZX计算相关的包，在此不演示\")"
   ]
  },
  {
   "cell_type": "markdown",
   "id": "7e48cac7",
   "metadata": {},
   "source": [
    "> **练习提示:**\n",
    "> 在上面的代码单元格中完成实现。可以使用`?`查看相关函数的文档，例如`qml.Hadamard?`。"
   ]
  },
  {
   "cell_type": "markdown",
   "id": "c9443f09",
   "metadata": {},
   "source": [
    "2. 量子测量和采样\n"
   ]
  },
  {
   "cell_type": "code",
   "execution_count": null,
   "id": "ee19d51d",
   "metadata": {},
   "outputs": [],
   "source": [
    "print(\"\\n2. 量子测量和采样\")"
   ]
  },
  {
   "cell_type": "markdown",
   "id": "46314260",
   "metadata": {},
   "source": [
    "2.1 在电路中添加测量\n"
   ]
  },
  {
   "cell_type": "code",
   "execution_count": null,
   "id": "c40e10a0",
   "metadata": {},
   "outputs": [],
   "source": [
    "print(\"\\n2.1 在电路中添加测量\")\n",
    "q0, q1 = cirq.LineQubit.range(2)\n",
    "circuit_with_measurement = cirq.Circuit(\n",
    "    cirq.H(q0),\n",
    "    cirq.CNOT(q0, q1),\n",
    "    # 添加测量，并指定结果的键\n",
    "    cirq.measure(q0, q1, key='bell_result')\n",
    ")\n",
    "print(\"带测量的电路:\")\n",
    "print(circuit_with_measurement)"
   ]
  },
  {
   "cell_type": "markdown",
   "id": "788fb8eb",
   "metadata": {},
   "source": [
    "2.2 运行电路并获取多次测量结果\n"
   ]
  },
  {
   "cell_type": "code",
   "execution_count": null,
   "id": "7712428a",
   "metadata": {},
   "outputs": [],
   "source": [
    "print(\"\\n2.2 运行电路并获取多次测量结果\")\n",
    "simulator = cirq.Simulator()\n",
    "repetitions = 1000  # 测量次数"
   ]
  },
  {
   "cell_type": "markdown",
   "id": "e5b9af75",
   "metadata": {},
   "source": [
    "运行多次并收集结果\n"
   ]
  },
  {
   "cell_type": "code",
   "execution_count": null,
   "id": "63e81915",
   "metadata": {},
   "outputs": [],
   "source": [
    "results = simulator.run(circuit_with_measurement, repetitions=repetitions)\n",
    "print(f\"执行了 {repetitions} 次测量\")"
   ]
  },
  {
   "cell_type": "markdown",
   "id": "ed8e1578",
   "metadata": {},
   "source": [
    "获取特定键的结果\n"
   ]
  },
  {
   "cell_type": "code",
   "execution_count": null,
   "id": "aad1e046",
   "metadata": {},
   "outputs": [],
   "source": [
    "bell_results = results.measurements['bell_result']\n",
    "print(f\"测量结果形状: {bell_results.shape}\")  # 形状是 (repetitions, 2)\n",
    "print(\"前10次测量结果:\")\n",
    "print(bell_results[:10])"
   ]
  },
  {
   "cell_type": "markdown",
   "id": "be4cf419",
   "metadata": {},
   "source": [
    "统计结果的频率\n",
    "将每一行的二进制数组合成一个十进制结果\n"
   ]
  },
  {
   "cell_type": "code",
   "execution_count": null,
   "id": "2b631b09",
   "metadata": {},
   "outputs": [],
   "source": [
    "decimal_results = []\n",
    "for measurement in bell_results:\n",
    "    # 将二进制数组转换为字符串然后为十进制数\n",
    "    result_str = ''.join(str(int(bit)) for bit in measurement)\n",
    "    decimal_results.append(int(result_str, 2))"
   ]
  },
  {
   "cell_type": "markdown",
   "id": "0ce12326",
   "metadata": {},
   "source": [
    "使用Counter计算频率\n"
   ]
  },
  {
   "cell_type": "code",
   "execution_count": null,
   "id": "e53968bc",
   "metadata": {},
   "outputs": [],
   "source": [
    "counter = Counter(decimal_results)\n",
    "print(\"\\n结果频率分布:\")\n",
    "for result, count in sorted(counter.items()):\n",
    "    binary = format(result, f'0{len(circuit_with_measurement.all_qubits())}b')\n",
    "    probability = count / repetitions\n",
    "    print(f\"|{binary}⟩: {count} 次 ({probability:.4f})\")"
   ]
  },
  {
   "cell_type": "markdown",
   "id": "6b63ce61",
   "metadata": {},
   "source": [
    "2.3 可视化测量结果\n"
   ]
  },
  {
   "cell_type": "code",
   "execution_count": null,
   "id": "590f2689",
   "metadata": {},
   "outputs": [],
   "source": [
    "print(\"\\n2.3 可视化测量结果\")"
   ]
  },
  {
   "cell_type": "markdown",
   "id": "6bdc8bb2",
   "metadata": {},
   "source": [
    "绘制测量结果的条形图\n"
   ]
  },
  {
   "cell_type": "code",
   "execution_count": null,
   "id": "764b3e31",
   "metadata": {},
   "outputs": [],
   "source": [
    "plt.figure(figsize=(10, 6))\n",
    "labels = [format(result, f'0{len(circuit_with_measurement.all_qubits())}b') for result in sorted(counter.keys())]\n",
    "values = [counter[result] / repetitions for result in sorted(counter.keys())]\n",
    "\n",
    "plt.bar(labels, values)\n",
    "plt.xlabel('测量结果')\n",
    "plt.ylabel('概率')\n",
    "plt.title(f'Bell状态 {repetitions} 次测量的概率分布')\n",
    "plt.ylim(0, 1)"
   ]
  },
  {
   "cell_type": "markdown",
   "id": "71a49924",
   "metadata": {},
   "source": [
    "**可视化输出:**\n",
    "\n",
    "运行上面的代码可以查看图形输出。调整参数以观察结果如何变化。"
   ]
  },
  {
   "cell_type": "markdown",
   "id": "c79c88f6",
   "metadata": {},
   "source": [
    "保存图片而不是显示，因为在终端环境中不能显示\n"
   ]
  },
  {
   "cell_type": "code",
   "execution_count": null,
   "id": "48a5d411",
   "metadata": {},
   "outputs": [],
   "source": [
    "plt.savefig('bell_state_measurement.png')\n",
    "print(\"测量结果图表已保存为：bell_state_measurement.png\")"
   ]
  },
  {
   "cell_type": "markdown",
   "id": "a7054c06",
   "metadata": {},
   "source": [
    "3. 部分测量和中间测量\n"
   ]
  },
  {
   "cell_type": "code",
   "execution_count": null,
   "id": "33f3d47c",
   "metadata": {},
   "outputs": [],
   "source": [
    "print(\"\\n3. 部分测量和中间测量\")"
   ]
  },
  {
   "cell_type": "markdown",
   "id": "706df845",
   "metadata": {},
   "source": [
    "3.1 部分量子比特的测量\n"
   ]
  },
  {
   "cell_type": "code",
   "execution_count": null,
   "id": "6f16296f",
   "metadata": {},
   "outputs": [],
   "source": [
    "print(\"\\n3.1 部分量子比特的测量\")\n",
    "q0, q1, q2 = cirq.LineQubit.range(3)\n",
    "partial_circuit = cirq.Circuit(\n",
    "    cirq.H(q0),\n",
    "    cirq.H(q1),\n",
    "    cirq.CNOT(q0, q2),\n",
    "    # 只测量q0\n",
    "    cirq.measure(q0, key='q0_result'),\n",
    "    # 在q1和q2上继续操作\n",
    "    cirq.CNOT(q1, q2),\n",
    "    # 最后测量q1和q2\n",
    "    cirq.measure(q1, q2, key='q1q2_result')\n",
    ")\n",
    "print(\"部分测量电路:\")\n",
    "print(partial_circuit)"
   ]
  },
  {
   "cell_type": "markdown",
   "id": "8e4a422e",
   "metadata": {},
   "source": [
    "运行部分测量电路\n"
   ]
  },
  {
   "cell_type": "code",
   "execution_count": null,
   "id": "ef1f9c8a",
   "metadata": {},
   "outputs": [],
   "source": [
    "partial_results = simulator.run(partial_circuit, repetitions=100)\n",
    "print(\"\\n部分测量结果:\")\n",
    "print(\"q0测量结果:\", partial_results.measurements['q0_result'][:5])\n",
    "print(\"q1和q2测量结果:\", partial_results.measurements['q1q2_result'][:5])"
   ]
  },
  {
   "cell_type": "markdown",
   "id": "4a387ffb",
   "metadata": {},
   "source": [
    "3.2 测量和反馈\n"
   ]
  },
  {
   "cell_type": "code",
   "execution_count": null,
   "id": "f8265d50",
   "metadata": {},
   "outputs": [],
   "source": [
    "print(\"\\n3.2 测量和反馈\")\n",
    "print(\"注意：直接的测量反馈在Cirq中不如在Qiskit中直观，但可以通过有条件的操作实现\")"
   ]
  },
  {
   "cell_type": "markdown",
   "id": "c47e6eac",
   "metadata": {},
   "source": [
    "创建一个模拟量子隐形传态的电路\n"
   ]
  },
  {
   "cell_type": "code",
   "execution_count": null,
   "id": "cb179cbf",
   "metadata": {},
   "outputs": [],
   "source": [
    "q0, q1, q2 = cirq.LineQubit.range(3)"
   ]
  },
  {
   "cell_type": "markdown",
   "id": "0649cba0",
   "metadata": {},
   "source": [
    "准备要传送的状态（q0上的任意状态）\n"
   ]
  },
  {
   "cell_type": "code",
   "execution_count": null,
   "id": "3a7175b9",
   "metadata": {},
   "outputs": [],
   "source": [
    "theta, phi = np.pi/4, np.pi/3\n",
    "teleport_circuit = cirq.Circuit(\n",
    "    # 准备要传送的状态\n",
    "    cirq.rx(theta).on(q0),\n",
    "    cirq.rz(phi).on(q0),\n",
    "    \n",
    "    # 创建Bell对（q1和q2）\n",
    "    cirq.H(q1),\n",
    "    cirq.CNOT(q1, q2),\n",
    "    \n",
    "    # 纠缠源量子比特和Bell对的一半\n",
    "    cirq.CNOT(q0, q1),\n",
    "    cirq.H(q0),\n",
    "    \n",
    "    # 测量q0和q1\n",
    "    cirq.measure(q0, key='m0'),\n",
    "    cirq.measure(q1, key='m1'),\n",
    ")\n",
    "\n",
    "print(\"量子隐形传态电路 (部分):\")\n",
    "print(teleport_circuit)"
   ]
  },
  {
   "cell_type": "markdown",
   "id": "6a3c0a5e",
   "metadata": {},
   "source": [
    "在真实设备上，可以基于测量结果应用门\n",
    "在模拟中，我们可以使用后选择来查看不同测量结果下的最终状态\n"
   ]
  },
  {
   "cell_type": "code",
   "execution_count": null,
   "id": "7aaa78a4",
   "metadata": {},
   "outputs": [],
   "source": [
    "print(\"\\n注：在真实设备上，我们可以基于测量结果应用门\")\n",
    "print(\"在这个模拟中，我们省略了基于测量结果的反馈操作\")"
   ]
  },
  {
   "cell_type": "markdown",
   "id": "dc45a637",
   "metadata": {},
   "source": [
    "4. 非理想模拟：噪声和退相干\n"
   ]
  },
  {
   "cell_type": "code",
   "execution_count": null,
   "id": "abc47136",
   "metadata": {},
   "outputs": [],
   "source": [
    "print(\"\\n4. 非理想模拟：噪声和退相干\")"
   ]
  },
  {
   "cell_type": "markdown",
   "id": "6952cf5c",
   "metadata": {},
   "source": [
    "4.1 在门上添加噪声\n"
   ]
  },
  {
   "cell_type": "code",
   "execution_count": null,
   "id": "e513d4c3",
   "metadata": {},
   "outputs": [],
   "source": [
    "print(\"\\n4.1 在门上添加噪声\")\n",
    "q0, q1 = cirq.LineQubit.range(2)"
   ]
  },
  {
   "cell_type": "markdown",
   "id": "5c21a48e",
   "metadata": {},
   "source": [
    "创建理想电路\n"
   ]
  },
  {
   "cell_type": "code",
   "execution_count": null,
   "id": "05e12406",
   "metadata": {},
   "outputs": [],
   "source": [
    "ideal_circuit = cirq.Circuit(\n",
    "    cirq.H(q0),\n",
    "    cirq.CNOT(q0, q1),\n",
    "    cirq.measure(q0, q1, key='result')\n",
    ")\n",
    "print(\"理想电路:\")\n",
    "print(ideal_circuit)"
   ]
  },
  {
   "cell_type": "markdown",
   "id": "2ac490c8",
   "metadata": {},
   "source": [
    "创建带噪声的电路\n"
   ]
  },
  {
   "cell_type": "code",
   "execution_count": null,
   "id": "91bb0c2d",
   "metadata": {},
   "outputs": [],
   "source": [
    "noise_level = 0.05  # 5%的噪声\n",
    "noisy_circuit = cirq.Circuit()"
   ]
  },
  {
   "cell_type": "markdown",
   "id": "90590d5d",
   "metadata": {},
   "source": [
    "添加带噪声的H门\n"
   ]
  },
  {
   "cell_type": "code",
   "execution_count": null,
   "id": "bce49d66",
   "metadata": {},
   "outputs": [],
   "source": [
    "noisy_h = cirq.H.on(q0).with_noise(cirq.depolarize(noise_level))\n",
    "noisy_circuit.append(noisy_h)"
   ]
  },
  {
   "cell_type": "markdown",
   "id": "7eca1b61",
   "metadata": {},
   "source": [
    "添加带噪声的CNOT门\n"
   ]
  },
  {
   "cell_type": "code",
   "execution_count": null,
   "id": "3d97d46f",
   "metadata": {},
   "outputs": [],
   "source": [
    "noisy_cnot = cirq.CNOT.on(q0, q1).with_noise(cirq.depolarize(noise_level))\n",
    "noisy_circuit.append(noisy_cnot)"
   ]
  },
  {
   "cell_type": "markdown",
   "id": "488d3e9e",
   "metadata": {},
   "source": [
    "添加测量\n"
   ]
  },
  {
   "cell_type": "code",
   "execution_count": null,
   "id": "f68e15ed",
   "metadata": {},
   "outputs": [],
   "source": [
    "noisy_circuit.append(cirq.measure(q0, q1, key='result'))\n",
    "\n",
    "print(\"\\n带噪声的电路:\")\n",
    "print(noisy_circuit)"
   ]
  },
  {
   "cell_type": "markdown",
   "id": "b8003721",
   "metadata": {},
   "source": [
    "4.2 运行带噪声的电路\n"
   ]
  },
  {
   "cell_type": "code",
   "execution_count": null,
   "id": "2989d144",
   "metadata": {},
   "outputs": [],
   "source": [
    "print(\"\\n4.2 运行带噪声的电路，并与理想电路比较\")"
   ]
  },
  {
   "cell_type": "markdown",
   "id": "2976a8c3",
   "metadata": {},
   "source": [
    "运行理想电路\n"
   ]
  },
  {
   "cell_type": "code",
   "execution_count": null,
   "id": "a21674f6",
   "metadata": {},
   "outputs": [],
   "source": [
    "ideal_results = simulator.run(ideal_circuit, repetitions=1000)\n",
    "ideal_counter = Counter()\n",
    "for bits in ideal_results.measurements['result']:\n",
    "    result_str = ''.join(str(int(bit)) for bit in bits)\n",
    "    ideal_counter[result_str] += 1"
   ]
  },
  {
   "cell_type": "markdown",
   "id": "0a00846a",
   "metadata": {},
   "source": [
    "运行带噪声的电路\n"
   ]
  },
  {
   "cell_type": "code",
   "execution_count": null,
   "id": "015f77c2",
   "metadata": {},
   "outputs": [],
   "source": [
    "noisy_results = simulator.run(noisy_circuit, repetitions=1000)\n",
    "noisy_counter = Counter()\n",
    "for bits in noisy_results.measurements['result']:\n",
    "    result_str = ''.join(str(int(bit)) for bit in bits)\n",
    "    noisy_counter[result_str] += 1"
   ]
  },
  {
   "cell_type": "markdown",
   "id": "b89112d6",
   "metadata": {},
   "source": [
    "比较结果\n"
   ]
  },
  {
   "cell_type": "code",
   "execution_count": null,
   "id": "89bd4350",
   "metadata": {},
   "outputs": [],
   "source": [
    "print(\"\\n理想电路结果分布:\")\n",
    "for result, count in sorted(ideal_counter.items()):\n",
    "    print(f\"|{result}⟩: {count/1000:.4f}\")\n",
    "\n",
    "print(\"\\n带噪声电路结果分布:\")\n",
    "for result, count in sorted(noisy_counter.items()):\n",
    "    print(f\"|{result}⟩: {count/1000:.4f}\")"
   ]
  },
  {
   "cell_type": "markdown",
   "id": "74bca6e1",
   "metadata": {},
   "source": [
    "4.3 使用噪声模型\n"
   ]
  },
  {
   "cell_type": "code",
   "execution_count": null,
   "id": "9fd862d7",
   "metadata": {},
   "outputs": [],
   "source": [
    "print(\"\\n4.3 使用噪声模型\")\n",
    "try:\n",
    "    # 创建一个噪声模型\n",
    "    # 这需要特定版本的cirq或额外的库\n",
    "    noise_model = cirq.NoiseModel.from_noise_model_like(\n",
    "        cirq.ConstantQubitNoiseModel(cirq.depolarize(0.01))\n",
    "    )\n",
    "    # 使用噪声模型创建带噪声的模拟器\n",
    "    noisy_simulator = cirq.Simulator(noise=noise_model)\n",
    "    print(\"已创建带噪声模型的模拟器\")\n",
    "except Exception as e:\n",
    "    print(f\"创建噪声模型需要特定版本的cirq: {str(e)}\")"
   ]
  },
  {
   "cell_type": "markdown",
   "id": "ee4be9d6",
   "metadata": {},
   "source": [
    "5. 高级模拟特性\n"
   ]
  },
  {
   "cell_type": "code",
   "execution_count": null,
   "id": "6ba9c8b9",
   "metadata": {},
   "outputs": [],
   "source": [
    "print(\"\\n5. 高级模拟特性\")"
   ]
  },
  {
   "cell_type": "markdown",
   "id": "ad9998a4",
   "metadata": {},
   "source": [
    "5.1 梯度计算和参数优化\n"
   ]
  },
  {
   "cell_type": "code",
   "execution_count": null,
   "id": "6cde8ad9",
   "metadata": {},
   "outputs": [],
   "source": [
    "print(\"\\n5.1 梯度计算和参数优化\")\n",
    "theta = sympy.Symbol('θ')"
   ]
  },
  {
   "cell_type": "markdown",
   "id": "e45f6610",
   "metadata": {},
   "source": [
    "创建参数化电路\n"
   ]
  },
  {
   "cell_type": "code",
   "execution_count": null,
   "id": "e4e3d0c4",
   "metadata": {},
   "outputs": [],
   "source": [
    "q = cirq.LineQubit(0)\n",
    "param_circuit = cirq.Circuit(\n",
    "    cirq.rx(theta).on(q),\n",
    "    cirq.measure(q, key='m')\n",
    ")"
   ]
  },
  {
   "cell_type": "markdown",
   "id": "6021f700",
   "metadata": {},
   "source": [
    "定义一个函数，计算特定角度下的期望值\n"
   ]
  },
  {
   "cell_type": "code",
   "execution_count": null,
   "id": "5eae7e01",
   "metadata": {},
   "outputs": [],
   "source": [
    "def expectation(angle_value):\n",
    "    # 绑定参数\n",
    "    bound_circuit = cirq.resolve_parameters(\n",
    "        param_circuit, {theta: angle_value}\n",
    "    )\n",
    "    # 运行模拟\n",
    "    result = simulator.run(bound_circuit, repetitions=1000)\n",
    "    # 计算期望值 (|0⟩概率 - |1⟩概率)\n",
    "    measurements = result.measurements['m']\n",
    "    zeros = sum(1 for m in measurements if m[0] == 0)\n",
    "    ones = sum(1 for m in measurements if m[0] == 1)\n",
    "    return (zeros - ones) / 1000"
   ]
  },
  {
   "cell_type": "markdown",
   "id": "ac763d41",
   "metadata": {},
   "source": [
    "计算不同角度的期望值\n"
   ]
  },
  {
   "cell_type": "code",
   "execution_count": null,
   "id": "3fa69a8b",
   "metadata": {},
   "outputs": [],
   "source": [
    "angles = np.linspace(0, 2*np.pi, 20)\n",
    "expectations = [expectation(angle) for angle in angles]"
   ]
  },
  {
   "cell_type": "markdown",
   "id": "681a68b1",
   "metadata": {},
   "source": [
    "绘制期望值曲线\n"
   ]
  },
  {
   "cell_type": "code",
   "execution_count": null,
   "id": "b767f939",
   "metadata": {},
   "outputs": [],
   "source": [
    "plt.figure(figsize=(10, 6))\n",
    "plt.plot(angles, expectations, 'o-')\n",
    "plt.axhline(y=0, color='r', linestyle='-', alpha=0.3)\n",
    "plt.xlabel('角度θ')\n",
    "plt.ylabel('期望值 ⟨Z⟩')\n",
    "plt.title('单量子比特旋转的期望值')\n",
    "plt.grid(True)\n",
    "plt.savefig('expectation_values.png')\n",
    "print(\"期望值曲线已保存为：expectation_values.png\")"
   ]
  },
  {
   "cell_type": "markdown",
   "id": "20b88bb8",
   "metadata": {},
   "source": [
    "5.2 特定组件期望值\n"
   ]
  },
  {
   "cell_type": "code",
   "execution_count": null,
   "id": "ea32dd5e",
   "metadata": {},
   "outputs": [],
   "source": [
    "print(\"\\n5.2 特定组件期望值\")\n",
    "q0, q1 = cirq.LineQubit.range(2)\n",
    "bell_circuit = cirq.Circuit(\n",
    "    cirq.H(q0),\n",
    "    cirq.CNOT(q0, q1)\n",
    ")"
   ]
  },
  {
   "cell_type": "markdown",
   "id": "b2d5210d",
   "metadata": {},
   "source": [
    "计算各种泡利矩阵的期望值\n"
   ]
  },
  {
   "cell_type": "code",
   "execution_count": null,
   "id": "4d6748ed",
   "metadata": {},
   "outputs": [],
   "source": [
    "pauli_observables = [\n",
    "    cirq.Z(q0),                  # 测量q0的Z分量\n",
    "    cirq.Z(q1),                  # 测量q1的Z分量 \n",
    "    cirq.Z(q0) * cirq.Z(q1),     # 测量ZZ关联\n",
    "    cirq.X(q0) * cirq.X(q1),     # 测量XX关联\n",
    "    cirq.Y(q0) * cirq.Y(q1)      # 测量YY关联\n",
    "]\n",
    "\n",
    "print(\"Bell态的各种观测量期望值:\")\n",
    "for observable in pauli_observables:\n",
    "    # 使用状态向量模拟器计算期望值\n",
    "    result = sv_simulator.simulate_expectation_values(\n",
    "        bell_circuit, observables=[observable]\n",
    "    )\n",
    "    print(f\"⟨{observable}⟩ = {result[0]:.4f}\")\n",
    "\n",
    "print(\"\\n总结:\")\n",
    "print(\"1. Cirq提供多种类型的模拟器，适用于不同的模拟需求\")\n",
    "print(\"2. 量子测量可以添加到电路中，并可以多次运行收集统计结果\")\n",
    "print(\"3. 可以通过添加噪声模型来模拟真实量子设备上的退相干效应\")\n",
    "print(\"4. 高级模拟功能支持参数化电路的优化和梯度计算\")\n",
    "print(\"5. 可以计算各种观测量的期望值，帮助理解量子态的性质\")"
   ]
  },
  {
   "cell_type": "markdown",
   "id": "8b71647c",
   "metadata": {},
   "source": [
    "## 💡 挑战任务\n",
    "\n",
    "尝试扩展上面的练习，探索以下内容：\n",
    "1. 更改电路参数并观察结果的变化\n",
    "2. 尝试实现不同的量子态或算法\n",
    "3. 可视化更多量子测量的结果"
   ]
  }
 ],
 "metadata": {
  "kernelspec": {
   "display_name": "Python 3",
   "language": "python",
   "name": "python3"
  },
  "language_info": {
   "codemirror_mode": {
    "name": "ipython",
    "version": 3
   },
   "file_extension": ".py",
   "mimetype": "text/x-python",
   "name": "python",
   "nbconvert_exporter": "python",
   "pygments_lexer": "ipython3",
   "version": "3.9.13"
  }
 },
 "nbformat": 4,
 "nbformat_minor": 5
}

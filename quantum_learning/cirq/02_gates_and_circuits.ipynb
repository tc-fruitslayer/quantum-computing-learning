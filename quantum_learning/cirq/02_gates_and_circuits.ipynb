{
 "cells": [
  {
   "cell_type": "code",
   "execution_count": null,
   "id": "897f57ec",
   "metadata": {},
   "outputs": [],
   "source": [
    "#!/usr/bin/env python\n",
    "# -*- coding: utf-8 -*-"
   ]
  },
  {
   "cell_type": "markdown",
   "id": "a4d137d7",
   "metadata": {},
   "source": [
    "\n",
    "Google Cirq框架学习 2：量子门和电路\n",
    "本文件详细介绍Cirq中的量子门类型、使用方式和电路构建"
   ]
  },
  {
   "cell_type": "code",
   "execution_count": null,
   "id": "39f63b8a",
   "metadata": {},
   "outputs": [],
   "source": [
    "import cirq\n",
    "import numpy as np\n",
    "import matplotlib.pyplot as plt\n",
    "import sympy\n"
   ]
  },
  {
   "cell_type": "code",
   "execution_count": null,
   "id": "aaf3f20a",
   "metadata": {},
   "outputs": [],
   "source": [
    "print(\"===== Cirq中的量子门和电路 =====\")"
   ]
  },
  {
   "cell_type": "markdown",
   "id": "95123483",
   "metadata": {},
   "source": [
    "1. 单量子比特门的详细介绍\n"
   ]
  },
  {
   "cell_type": "code",
   "execution_count": null,
   "id": "2f736ed8",
   "metadata": {},
   "outputs": [],
   "source": [
    "print(\"\\n1. 单量子比特门\")"
   ]
  },
  {
   "cell_type": "markdown",
   "id": "db3579e3",
   "metadata": {},
   "source": [
    "创建一个量子比特用于演示\n"
   ]
  },
  {
   "cell_type": "code",
   "execution_count": null,
   "id": "6b3055a9",
   "metadata": {},
   "outputs": [],
   "source": [
    "q = cirq.LineQubit(0)"
   ]
  },
  {
   "cell_type": "markdown",
   "id": "d1c72f6a",
   "metadata": {},
   "source": [
    "1.1 Pauli门\n"
   ]
  },
  {
   "cell_type": "code",
   "execution_count": null,
   "id": "db003e67",
   "metadata": {},
   "outputs": [],
   "source": [
    "print(\"\\n1.1 Pauli门\")\n",
    "print(f\"Pauli-X门 (量子NOT门): {cirq.X}\")"
   ]
  },
  {
   "cell_type": "markdown",
   "id": "0b2a408b",
   "metadata": {},
   "source": [
    "X门的矩阵表示\n"
   ]
  },
  {
   "cell_type": "code",
   "execution_count": null,
   "id": "2dd5c767",
   "metadata": {},
   "outputs": [],
   "source": [
    "print(\"X门矩阵表示:\")\n",
    "print(cirq.unitary(cirq.X))\n",
    "\n",
    "print(f\"\\nPauli-Y门: {cirq.Y}\")"
   ]
  },
  {
   "cell_type": "markdown",
   "id": "7014feda",
   "metadata": {},
   "source": [
    "Y门的矩阵表示\n"
   ]
  },
  {
   "cell_type": "code",
   "execution_count": null,
   "id": "07da4781",
   "metadata": {},
   "outputs": [],
   "source": [
    "print(\"Y门矩阵表示:\")\n",
    "print(cirq.unitary(cirq.Y))\n",
    "\n",
    "print(f\"\\nPauli-Z门: {cirq.Z}\")"
   ]
  },
  {
   "cell_type": "markdown",
   "id": "7cfb30aa",
   "metadata": {},
   "source": [
    "Z门的矩阵表示\n"
   ]
  },
  {
   "cell_type": "code",
   "execution_count": null,
   "id": "ba80a380",
   "metadata": {},
   "outputs": [],
   "source": [
    "print(\"Z门矩阵表示:\")\n",
    "print(cirq.unitary(cirq.Z))"
   ]
  },
  {
   "cell_type": "markdown",
   "id": "3c774860",
   "metadata": {},
   "source": [
    "1.2 Hadamard门\n"
   ]
  },
  {
   "cell_type": "code",
   "execution_count": null,
   "id": "0da77952",
   "metadata": {},
   "outputs": [],
   "source": [
    "print(\"\\n1.2 Hadamard门 (H)\")\n",
    "print(f\"Hadamard门: {cirq.H}\")"
   ]
  },
  {
   "cell_type": "markdown",
   "id": "3abf5491",
   "metadata": {},
   "source": [
    "H门的矩阵表示\n"
   ]
  },
  {
   "cell_type": "code",
   "execution_count": null,
   "id": "be4a5a64",
   "metadata": {},
   "outputs": [],
   "source": [
    "print(\"H门矩阵表示:\")\n",
    "print(cirq.unitary(cirq.H))"
   ]
  },
  {
   "cell_type": "markdown",
   "id": "7cf3f5c6",
   "metadata": {},
   "source": [
    "1.3 相位门\n"
   ]
  },
  {
   "cell_type": "code",
   "execution_count": null,
   "id": "742d3666",
   "metadata": {},
   "outputs": [],
   "source": [
    "print(\"\\n1.3 相位门\")\n",
    "print(f\"S门 (π/2相位门): {cirq.S}\")\n",
    "print(f\"S门共轭转置: {cirq.S**-1}\")\n",
    "\n",
    "print(f\"\\nT门 (π/4相位门): {cirq.T}\")\n",
    "print(f\"T门共轭转置: {cirq.T**-1}\")"
   ]
  },
  {
   "cell_type": "markdown",
   "id": "ff8f262b",
   "metadata": {},
   "source": [
    "1.4 旋转门\n"
   ]
  },
  {
   "cell_type": "code",
   "execution_count": null,
   "id": "032368b4",
   "metadata": {},
   "outputs": [],
   "source": [
    "print(\"\\n1.4 旋转门\")\n",
    "theta = np.pi/4  # 示例角度"
   ]
  },
  {
   "cell_type": "markdown",
   "id": "3654d13c",
   "metadata": {},
   "source": [
    "绕X轴旋转\n"
   ]
  },
  {
   "cell_type": "code",
   "execution_count": null,
   "id": "cf76e987",
   "metadata": {},
   "outputs": [],
   "source": [
    "rx_gate = cirq.rx(theta)\n",
    "rx_op = rx_gate.on(q)\n",
    "print(f\"Rx(π/4): {rx_op}\")\n",
    "print(\"Rx(π/4)矩阵表示:\")\n",
    "print(cirq.unitary(rx_op))"
   ]
  },
  {
   "cell_type": "markdown",
   "id": "b8b9c47d",
   "metadata": {},
   "source": [
    "绕Y轴旋转\n"
   ]
  },
  {
   "cell_type": "code",
   "execution_count": null,
   "id": "5b9ad195",
   "metadata": {},
   "outputs": [],
   "source": [
    "ry_gate = cirq.ry(theta)\n",
    "ry_op = ry_gate.on(q)\n",
    "print(f\"\\nRy(π/4): {ry_op}\")\n",
    "print(\"Ry(π/4)矩阵表示:\")\n",
    "print(cirq.unitary(ry_op))"
   ]
  },
  {
   "cell_type": "markdown",
   "id": "911b0125",
   "metadata": {},
   "source": [
    "绕Z轴旋转\n"
   ]
  },
  {
   "cell_type": "code",
   "execution_count": null,
   "id": "74ec6130",
   "metadata": {},
   "outputs": [],
   "source": [
    "rz_gate = cirq.rz(theta)\n",
    "rz_op = rz_gate.on(q)\n",
    "print(f\"\\nRz(π/4): {rz_op}\")\n",
    "print(\"Rz(π/4)矩阵表示:\")\n",
    "print(cirq.unitary(rz_op))"
   ]
  },
  {
   "cell_type": "markdown",
   "id": "c6c6a111",
   "metadata": {},
   "source": [
    "1.5 任意单量子比特门\n"
   ]
  },
  {
   "cell_type": "code",
   "execution_count": null,
   "id": "35ef6983",
   "metadata": {},
   "outputs": [],
   "source": [
    "print(\"\\n1.5 任意单量子比特门\")"
   ]
  },
  {
   "cell_type": "markdown",
   "id": "73022a87",
   "metadata": {},
   "source": [
    "使用欧拉分解创建一个任意单量子比特门（ZYZ分解）\n"
   ]
  },
  {
   "cell_type": "code",
   "execution_count": null,
   "id": "7018c6a6",
   "metadata": {},
   "outputs": [],
   "source": [
    "alpha, beta, gamma = 0.1, 0.2, 0.3  # 示例角度\n",
    "arbitrary_gate = cirq.PhasedXZGate(x_exponent=beta/np.pi, z_exponent_before=alpha/np.pi, z_exponent_after=gamma/np.pi)\n",
    "arbitrary_op = arbitrary_gate.on(q)\n",
    "print(f\"任意单量子比特门 (ZYZ分解): {arbitrary_op}\")\n",
    "print(\"矩阵表示:\")\n",
    "print(cirq.unitary(arbitrary_op))"
   ]
  },
  {
   "cell_type": "markdown",
   "id": "d8764390",
   "metadata": {},
   "source": [
    "2. 多量子比特门\n"
   ]
  },
  {
   "cell_type": "code",
   "execution_count": null,
   "id": "f49763ed",
   "metadata": {},
   "outputs": [],
   "source": [
    "print(\"\\n2. 多量子比特门\")"
   ]
  },
  {
   "cell_type": "markdown",
   "id": "a3efe8ae",
   "metadata": {},
   "source": [
    "创建两个量子比特用于演示\n"
   ]
  },
  {
   "cell_type": "code",
   "execution_count": null,
   "id": "eefd8e9c",
   "metadata": {},
   "outputs": [],
   "source": [
    "q0, q1 = cirq.LineQubit.range(2)"
   ]
  },
  {
   "cell_type": "markdown",
   "id": "4649db70",
   "metadata": {},
   "source": [
    "2.1 CNOT门 (Controlled-X)\n"
   ]
  },
  {
   "cell_type": "code",
   "execution_count": null,
   "id": "bb93cabf",
   "metadata": {},
   "outputs": [],
   "source": [
    "print(\"\\n2.1 CNOT门 (Controlled-X)\")\n",
    "cnot = cirq.CNOT(q0, q1)  # q0为控制比特，q1为目标比特\n",
    "print(f\"CNOT门: {cnot}\")\n",
    "print(\"CNOT门矩阵表示:\")\n",
    "print(cirq.unitary(cnot))"
   ]
  },
  {
   "cell_type": "markdown",
   "id": "36e9243b",
   "metadata": {},
   "source": [
    "2.2 CZ门 (Controlled-Z)\n"
   ]
  },
  {
   "cell_type": "code",
   "execution_count": null,
   "id": "626ff31d",
   "metadata": {},
   "outputs": [],
   "source": [
    "print(\"\\n2.2 CZ门 (Controlled-Z)\")\n",
    "cz = cirq.CZ(q0, q1)\n",
    "print(f\"CZ门: {cz}\")\n",
    "print(\"CZ门矩阵表示:\")\n",
    "print(cirq.unitary(cz))"
   ]
  },
  {
   "cell_type": "markdown",
   "id": "0f01a5d2",
   "metadata": {},
   "source": [
    "2.3 SWAP门\n"
   ]
  },
  {
   "cell_type": "code",
   "execution_count": null,
   "id": "4926302d",
   "metadata": {},
   "outputs": [],
   "source": [
    "print(\"\\n2.3 SWAP门\")\n",
    "swap = cirq.SWAP(q0, q1)\n",
    "print(f\"SWAP门: {swap}\")\n",
    "print(\"SWAP门矩阵表示:\")\n",
    "print(cirq.unitary(swap))"
   ]
  },
  {
   "cell_type": "markdown",
   "id": "7dc8c375",
   "metadata": {},
   "source": [
    "2.4 受控门的其他变体\n"
   ]
  },
  {
   "cell_type": "code",
   "execution_count": null,
   "id": "2e72c685",
   "metadata": {},
   "outputs": [],
   "source": [
    "print(\"\\n2.4 受控门变体\")"
   ]
  },
  {
   "cell_type": "markdown",
   "id": "35db7a41",
   "metadata": {},
   "source": [
    "创建受控Y门\n"
   ]
  },
  {
   "cell_type": "code",
   "execution_count": null,
   "id": "9d3fc3b3",
   "metadata": {},
   "outputs": [],
   "source": [
    "cy = cirq.ControlledGate(sub_gate=cirq.Y)\n",
    "cy_op = cy.on(q0, q1)  # q0控制q1\n",
    "print(f\"受控-Y门: {cy_op}\")"
   ]
  },
  {
   "cell_type": "markdown",
   "id": "9a11b7c0",
   "metadata": {},
   "source": [
    "创建多控制门（Toffoli门或CCNOT）\n"
   ]
  },
  {
   "cell_type": "code",
   "execution_count": null,
   "id": "2c56989f",
   "metadata": {},
   "outputs": [],
   "source": [
    "q0, q1, q2 = cirq.LineQubit.range(3)\n",
    "ccnot = cirq.TOFFOLI(q0, q1, q2)  # 等价于CCNOT\n",
    "print(f\"Toffoli门 (CCNOT): {ccnot}\")"
   ]
  },
  {
   "cell_type": "markdown",
   "id": "881ba663",
   "metadata": {},
   "source": [
    "2.5 参数化的多量子比特门\n"
   ]
  },
  {
   "cell_type": "code",
   "execution_count": null,
   "id": "43052fc9",
   "metadata": {},
   "outputs": [],
   "source": [
    "print(\"\\n2.5 参数化的多量子比特门\")"
   ]
  },
  {
   "cell_type": "markdown",
   "id": "918d366c",
   "metadata": {},
   "source": [
    "创建iSWAP门，在交换时添加相位\n"
   ]
  },
  {
   "cell_type": "code",
   "execution_count": null,
   "id": "55c9407e",
   "metadata": {},
   "outputs": [],
   "source": [
    "iswap = cirq.ISWAP(q0, q1)\n",
    "print(f\"iSWAP门: {iswap}\")"
   ]
  },
  {
   "cell_type": "markdown",
   "id": "b0cfb2be",
   "metadata": {},
   "source": [
    "创建可参数化的iSWAP^t门\n"
   ]
  },
  {
   "cell_type": "code",
   "execution_count": null,
   "id": "9bc5d8ed",
   "metadata": {},
   "outputs": [],
   "source": [
    "t = 0.5  # 部分应用\n",
    "iswap_pow = cirq.ISWAP**t\n",
    "iswap_pow_op = iswap_pow.on(q0, q1)\n",
    "print(f\"iSWAP^0.5门: {iswap_pow_op}\")"
   ]
  },
  {
   "cell_type": "markdown",
   "id": "063d8d10",
   "metadata": {},
   "source": [
    "3. 量子电路结构与操作\n"
   ]
  },
  {
   "cell_type": "code",
   "execution_count": null,
   "id": "a1c95658",
   "metadata": {},
   "outputs": [],
   "source": [
    "print(\"\\n3. 量子电路结构与操作\")"
   ]
  },
  {
   "cell_type": "markdown",
   "id": "4cf8410a",
   "metadata": {},
   "source": [
    "3.1 创建电路的不同方式\n"
   ]
  },
  {
   "cell_type": "code",
   "execution_count": null,
   "id": "d557858d",
   "metadata": {},
   "outputs": [],
   "source": [
    "print(\"\\n3.1 创建电路的不同方式\")"
   ]
  },
  {
   "cell_type": "markdown",
   "id": "28b11be5",
   "metadata": {},
   "source": [
    "方式1：空电路然后添加操作\n"
   ]
  },
  {
   "cell_type": "code",
   "execution_count": null,
   "id": "e4a64e5b",
   "metadata": {},
   "outputs": [],
   "source": [
    "q0, q1 = cirq.LineQubit.range(2)\n",
    "circuit1 = cirq.Circuit()\n",
    "circuit1.append(cirq.H(q0))\n",
    "circuit1.append(cirq.CNOT(q0, q1))\n",
    "print(\"方式1 - 逐步添加操作:\")\n",
    "print(circuit1)"
   ]
  },
  {
   "cell_type": "markdown",
   "id": "26180efa",
   "metadata": {},
   "source": [
    "方式2：从操作列表创建\n"
   ]
  },
  {
   "cell_type": "code",
   "execution_count": null,
   "id": "4712f53e",
   "metadata": {},
   "outputs": [],
   "source": [
    "ops = [cirq.H(q0), cirq.CNOT(q0, q1)]\n",
    "circuit2 = cirq.Circuit(ops)\n",
    "print(\"\\n方式2 - 从操作列表创建:\")\n",
    "print(circuit2)"
   ]
  },
  {
   "cell_type": "markdown",
   "id": "bfe803c3",
   "metadata": {},
   "source": [
    "方式3：使用+运算符连接电路\n"
   ]
  },
  {
   "cell_type": "code",
   "execution_count": null,
   "id": "da74a079",
   "metadata": {},
   "outputs": [],
   "source": [
    "h_circuit = cirq.Circuit(cirq.H(q0))\n",
    "cnot_circuit = cirq.Circuit(cirq.CNOT(q0, q1))\n",
    "combined_circuit = h_circuit + cnot_circuit\n",
    "print(\"\\n方式3 - 使用+运算符连接电路:\")\n",
    "print(combined_circuit)"
   ]
  },
  {
   "cell_type": "markdown",
   "id": "9f0c5c98",
   "metadata": {},
   "source": [
    "方式4：使用cirq.Moment来控制并行执行\n"
   ]
  },
  {
   "cell_type": "code",
   "execution_count": null,
   "id": "407900f3",
   "metadata": {},
   "outputs": [],
   "source": [
    "moments = [\n",
    "    cirq.Moment([cirq.H(q0), cirq.X(q1)]),  # 并行执行H和X\n",
    "    cirq.Moment([cirq.CNOT(q0, q1)])        # 然后执行CNOT\n",
    "]\n",
    "moment_circuit = cirq.Circuit(moments)\n",
    "print(\"\\n方式4 - 使用Moment控制并行执行:\")\n",
    "print(moment_circuit)"
   ]
  },
  {
   "cell_type": "markdown",
   "id": "1df036cb",
   "metadata": {},
   "source": [
    "3.2 电路插入和修改\n"
   ]
  },
  {
   "cell_type": "code",
   "execution_count": null,
   "id": "5e1b5dbb",
   "metadata": {},
   "outputs": [],
   "source": [
    "print(\"\\n3.2 电路插入和修改\")\n",
    "q0, q1 = cirq.LineQubit.range(2)\n",
    "circuit = cirq.Circuit(\n",
    "    cirq.H(q0),\n",
    "    cirq.CNOT(q0, q1),\n",
    "    cirq.measure(q0, q1, key='result')\n",
    ")\n",
    "print(\"原始电路:\")\n",
    "print(circuit)"
   ]
  },
  {
   "cell_type": "markdown",
   "id": "dbf807b3",
   "metadata": {},
   "source": [
    "在H和CNOT之间插入X门\n"
   ]
  },
  {
   "cell_type": "code",
   "execution_count": null,
   "id": "034e6a5d",
   "metadata": {},
   "outputs": [],
   "source": [
    "modified_circuit = cirq.Circuit()\n",
    "modified_circuit.append(cirq.H(q0))\n",
    "modified_circuit.append(cirq.X(q0))  # 插入X门\n",
    "modified_circuit.append(cirq.CNOT(q0, q1))\n",
    "modified_circuit.append(cirq.measure(q0, q1, key='result'))\n",
    "print(\"\\n修改后的电路 (插入X门):\")\n",
    "print(modified_circuit)"
   ]
  },
  {
   "cell_type": "markdown",
   "id": "d8b24665",
   "metadata": {},
   "source": [
    "3.3 电路变换和操作\n"
   ]
  },
  {
   "cell_type": "code",
   "execution_count": null,
   "id": "695fb239",
   "metadata": {},
   "outputs": [],
   "source": [
    "print(\"\\n3.3 电路变换和操作\")"
   ]
  },
  {
   "cell_type": "markdown",
   "id": "55d42e01",
   "metadata": {},
   "source": [
    "创建一个复杂一点的电路\n"
   ]
  },
  {
   "cell_type": "code",
   "execution_count": null,
   "id": "cbfd97cf",
   "metadata": {},
   "outputs": [],
   "source": [
    "q0, q1, q2 = cirq.LineQubit.range(3)\n",
    "complex_circuit = cirq.Circuit(\n",
    "    cirq.H(q0),\n",
    "    cirq.CNOT(q0, q1),\n",
    "    cirq.CNOT(q1, q2),\n",
    "    cirq.X(q2),\n",
    "    cirq.measure(q0, q1, q2, key='result')\n",
    ")\n",
    "print(\"复杂电路:\")\n",
    "print(complex_circuit)"
   ]
  },
  {
   "cell_type": "markdown",
   "id": "30b31e63",
   "metadata": {},
   "source": [
    "获取电路的操作列表\n"
   ]
  },
  {
   "cell_type": "code",
   "execution_count": null,
   "id": "6407c463",
   "metadata": {},
   "outputs": [],
   "source": [
    "operations = list(complex_circuit.all_operations())\n",
    "print(\"\\n电路包含的所有操作:\", [str(op) for op in operations])"
   ]
  },
  {
   "cell_type": "markdown",
   "id": "c7a5994a",
   "metadata": {},
   "source": [
    "获取特定类型的操作\n"
   ]
  },
  {
   "cell_type": "code",
   "execution_count": null,
   "id": "a710f04d",
   "metadata": {},
   "outputs": [],
   "source": [
    "cnot_ops = [op for op in operations if isinstance(op.gate, cirq.ops.common_gates.CXPowGate)]\n",
    "print(\"\\nCNOT操作:\", [str(op) for op in cnot_ops])"
   ]
  },
  {
   "cell_type": "markdown",
   "id": "01350c60",
   "metadata": {},
   "source": [
    "电路的矩量结构\n"
   ]
  },
  {
   "cell_type": "code",
   "execution_count": null,
   "id": "705c522f",
   "metadata": {},
   "outputs": [],
   "source": [
    "moments = list(complex_circuit.moments)\n",
    "print(f\"\\n电路包含 {len(moments)} 个矩量 (Moment)\")\n",
    "for i, moment in enumerate(moments):\n",
    "    print(f\"矩量 {i}: {moment}\")"
   ]
  },
  {
   "cell_type": "markdown",
   "id": "fb48f257",
   "metadata": {},
   "source": [
    "4. 参数化电路和电路变换\n"
   ]
  },
  {
   "cell_type": "code",
   "execution_count": null,
   "id": "ecf5ae19",
   "metadata": {},
   "outputs": [],
   "source": [
    "print(\"\\n4. 参数化电路和电路变换\")"
   ]
  },
  {
   "cell_type": "markdown",
   "id": "1d984bf0",
   "metadata": {},
   "source": [
    "4.1 创建带符号参数的电路\n"
   ]
  },
  {
   "cell_type": "code",
   "execution_count": null,
   "id": "348848f8",
   "metadata": {},
   "outputs": [],
   "source": [
    "print(\"\\n4.1 带符号参数的电路\")\n",
    "q0, q1 = cirq.LineQubit.range(2)"
   ]
  },
  {
   "cell_type": "markdown",
   "id": "36129cc0",
   "metadata": {},
   "source": [
    "定义符号参数\n"
   ]
  },
  {
   "cell_type": "code",
   "execution_count": null,
   "id": "8c1a284e",
   "metadata": {},
   "outputs": [],
   "source": [
    "theta = sympy.Symbol('θ')\n",
    "phi = sympy.Symbol('φ')"
   ]
  },
  {
   "cell_type": "markdown",
   "id": "04109950",
   "metadata": {},
   "source": [
    "创建参数化电路\n"
   ]
  },
  {
   "cell_type": "code",
   "execution_count": null,
   "id": "39fcb64b",
   "metadata": {},
   "outputs": [],
   "source": [
    "param_circuit = cirq.Circuit(\n",
    "    cirq.rx(theta).on(q0),\n",
    "    cirq.rz(phi).on(q0),\n",
    "    cirq.CNOT(q0, q1),\n",
    "    cirq.rx(theta).on(q1),\n",
    "    cirq.measure(q0, q1, key='result')\n",
    ")\n",
    "\n",
    "print(\"参数化电路:\")\n",
    "print(param_circuit)"
   ]
  },
  {
   "cell_type": "markdown",
   "id": "75245cbc",
   "metadata": {},
   "source": [
    "4.2 参数解析和绑定\n"
   ]
  },
  {
   "cell_type": "code",
   "execution_count": null,
   "id": "57cd518c",
   "metadata": {},
   "outputs": [],
   "source": [
    "print(\"\\n4.2 参数解析和绑定\")"
   ]
  },
  {
   "cell_type": "markdown",
   "id": "d69429eb",
   "metadata": {},
   "source": [
    "创建参数字典\n"
   ]
  },
  {
   "cell_type": "code",
   "execution_count": null,
   "id": "89efb500",
   "metadata": {},
   "outputs": [],
   "source": [
    "params1 = {theta: np.pi/4, phi: np.pi/2}\n",
    "resolved_circuit1 = cirq.resolve_parameters(param_circuit, params1)\n",
    "print(f\"绑定参数后的电路 (θ=π/4, φ=π/2):\")\n",
    "print(resolved_circuit1)"
   ]
  },
  {
   "cell_type": "markdown",
   "id": "e993d02a",
   "metadata": {},
   "source": [
    "使用不同参数\n"
   ]
  },
  {
   "cell_type": "code",
   "execution_count": null,
   "id": "76a26db4",
   "metadata": {},
   "outputs": [],
   "source": [
    "params2 = {theta: np.pi/2, phi: np.pi}\n",
    "resolved_circuit2 = cirq.resolve_parameters(param_circuit, params2)\n",
    "print(f\"\\n绑定不同参数后的电路 (θ=π/2, φ=π):\")\n",
    "print(resolved_circuit2)"
   ]
  },
  {
   "cell_type": "markdown",
   "id": "cd7b209a",
   "metadata": {},
   "source": [
    "4.3 电路转换\n"
   ]
  },
  {
   "cell_type": "code",
   "execution_count": null,
   "id": "df48da89",
   "metadata": {},
   "outputs": [],
   "source": [
    "print(\"\\n4.3 电路转换\")\n",
    "q0, q1 = cirq.LineQubit.range(2)\n",
    "original_circuit = cirq.Circuit(\n",
    "    cirq.H(q0),\n",
    "    cirq.CNOT(q0, q1),\n",
    "    cirq.measure(q0, q1, key='result')\n",
    ")\n",
    "print(\"原始电路:\")\n",
    "print(original_circuit)"
   ]
  },
  {
   "cell_type": "markdown",
   "id": "e590d72e",
   "metadata": {},
   "source": [
    "逆转电路（不包括测量）\n"
   ]
  },
  {
   "cell_type": "code",
   "execution_count": null,
   "id": "054b199d",
   "metadata": {},
   "outputs": [],
   "source": [
    "inverse_circuit = cirq.inverse(original_circuit[:-1])\n",
    "print(\"\\n逆转的电路 (不包括测量):\")\n",
    "print(inverse_circuit)"
   ]
  },
  {
   "cell_type": "markdown",
   "id": "ee2f9433",
   "metadata": {},
   "source": [
    "完整电路：原始电路 + 逆转电路\n"
   ]
  },
  {
   "cell_type": "code",
   "execution_count": null,
   "id": "9ab47bb9",
   "metadata": {},
   "outputs": [],
   "source": [
    "complete_circuit = original_circuit[:-1] + inverse_circuit\n",
    "print(\"\\n完整电路 (应该返回到初始状态):\")\n",
    "print(complete_circuit)"
   ]
  },
  {
   "cell_type": "markdown",
   "id": "2165d21a",
   "metadata": {},
   "source": [
    "5. 电路可视化与分析\n"
   ]
  },
  {
   "cell_type": "code",
   "execution_count": null,
   "id": "4c39f19d",
   "metadata": {},
   "outputs": [],
   "source": [
    "print(\"\\n5. 电路可视化与分析\")"
   ]
  },
  {
   "cell_type": "markdown",
   "id": "8ad7bf66",
   "metadata": {},
   "source": [
    "5.1 文本图表示\n"
   ]
  },
  {
   "cell_type": "code",
   "execution_count": null,
   "id": "954ba11d",
   "metadata": {},
   "outputs": [],
   "source": [
    "q0, q1, q2 = cirq.LineQubit.range(3)\n",
    "circuit = cirq.Circuit(\n",
    "    cirq.H(q0),\n",
    "    cirq.CNOT(q0, q1),\n",
    "    cirq.CNOT(q1, q2),\n",
    "    cirq.H(q2),\n",
    "    cirq.measure(q0, q1, q2, key='result')\n",
    ")\n",
    "\n",
    "print(\"\\n5.1 默认文本图表示:\")\n",
    "print(circuit)\n",
    "\n",
    "print(\"\\n横向文本图表示:\")\n",
    "print(circuit.to_text_diagram(transpose=True))"
   ]
  },
  {
   "cell_type": "markdown",
   "id": "48da6a35",
   "metadata": {},
   "source": [
    "5.2 电路统计和分析\n"
   ]
  },
  {
   "cell_type": "code",
   "execution_count": null,
   "id": "bb923a15",
   "metadata": {},
   "outputs": [],
   "source": [
    "print(\"\\n5.2 电路统计和分析\")"
   ]
  },
  {
   "cell_type": "markdown",
   "id": "72e01286",
   "metadata": {},
   "source": [
    "计算电路中的门数量\n"
   ]
  },
  {
   "cell_type": "code",
   "execution_count": null,
   "id": "c3b83e96",
   "metadata": {},
   "outputs": [],
   "source": [
    "ops = list(circuit.all_operations())\n",
    "gate_counts = {}\n",
    "for op in ops:\n",
    "    gate_name = op.gate.__class__.__name__\n",
    "    gate_counts[gate_name] = gate_counts.get(gate_name, 0) + 1\n",
    "\n",
    "print(\"电路门统计:\")\n",
    "for gate, count in gate_counts.items():\n",
    "    print(f\"  {gate}: {count}\")"
   ]
  },
  {
   "cell_type": "markdown",
   "id": "5da2e5d4",
   "metadata": {},
   "source": [
    "计算电路深度\n"
   ]
  },
  {
   "cell_type": "code",
   "execution_count": null,
   "id": "a094bd54",
   "metadata": {},
   "outputs": [],
   "source": [
    "depth = len(list(circuit.moments))\n",
    "print(f\"电路深度 (矩量数): {depth}\")"
   ]
  },
  {
   "cell_type": "markdown",
   "id": "9228a407",
   "metadata": {},
   "source": [
    "计算所需的量子比特数量\n"
   ]
  },
  {
   "cell_type": "code",
   "execution_count": null,
   "id": "b62b5d97",
   "metadata": {},
   "outputs": [],
   "source": [
    "qubits = circuit.all_qubits()\n",
    "print(f\"使用的量子比特: {sorted(qubits, key=str)}\")\n",
    "\n",
    "print(\"\\n总结:\")\n",
    "print(\"1. Cirq提供丰富的量子门集合\")\n",
    "print(\"2. 电路构建非常灵活，支持多种创建和组合方式\")\n",
    "print(\"3. 参数化电路允许创建可变的量子算法模板\")\n",
    "print(\"4. 电路分析和可视化工具有助于理解和优化量子算法\")\n",
    "print(\"5. Moment结构使得并行操作控制更为精确\")"
   ]
  },
  {
   "cell_type": "markdown",
   "id": "7b042b52",
   "metadata": {},
   "source": [
    "## 💡 挑战任务\n",
    "\n",
    "尝试扩展上面的练习，探索以下内容：\n",
    "1. 更改电路参数并观察结果的变化\n",
    "2. 尝试实现不同的量子态或算法\n",
    "3. 可视化更多量子测量的结果"
   ]
  }
 ],
 "metadata": {
  "kernelspec": {
   "display_name": "Python 3",
   "language": "python",
   "name": "python3"
  },
  "language_info": {
   "codemirror_mode": {
    "name": "ipython",
    "version": 3
   },
   "file_extension": ".py",
   "mimetype": "text/x-python",
   "name": "python",
   "nbconvert_exporter": "python",
   "pygments_lexer": "ipython3",
   "version": "3.9.13"
  }
 },
 "nbformat": 4,
 "nbformat_minor": 5
}
